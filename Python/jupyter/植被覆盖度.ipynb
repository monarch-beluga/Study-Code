{
 "cells": [
  {
   "cell_type": "code",
   "execution_count": null,
   "id": "dfec502d",
   "metadata": {},
   "outputs": [],
   "source": [
    "import geemap\n",
    "import ee\n",
    "Map = geemap.Map()\n",
    "Map"
   ]
  },
  {
   "cell_type": "code",
   "execution_count": null,
   "id": "522f6f15",
   "metadata": {},
   "outputs": [],
   "source": [
    "#研究区\n",
    "f_shp =r'E:\\Work\\boundary\\boundary2.shp' #添加面shp（文件名不能有“_”和中文）\n",
    "shp_ee = geemap.shp_to_ee(f_shp)\n",
    "Map.addLayer(shp_ee, {}, 'GX')"
   ]
  },
  {
   "cell_type": "code",
   "execution_count": null,
   "id": "392e4a6a",
   "metadata": {},
   "outputs": [],
   "source": [
    "def maskL8sr(image):\n",
    "    # Bit 0 - Fill\n",
    "    # Bit 1 - Dilated Cloud\n",
    "    # Bit 2 - Cirrus\n",
    "    # Bit 3 - Cloud\n",
    "    # Bit 4 - Cloud Shadow\n",
    "    qaMask = image.select('QA_PIXEL').bitwiseAnd(int('11111', 2)).eq(0)\n",
    "    saturationMask = image.select('QA_RADSAT').eq(0)\n",
    "\n",
    "    # Apply the scaling factors to the appropriate bands.\n",
    "    opticalBands = image.select('SR_B.').multiply(0.0000275).add(-0.2)\n",
    "    thermalBands = image.select('ST_B.*').multiply(0.00341802).add(149.0)\n",
    "\n",
    "    # Replace the original bands with the scaled ones and apply the masks.\n",
    "    return image.addBands(opticalBands, None, True) \\\n",
    "        .addBands(thermalBands, None, True) \\\n",
    "        .updateMask(qaMask) \\\n",
    "        .updateMask(saturationMask)\\\n",
    "        .copyProperties(image, [\"system:time_start\",'system:id'])"
   ]
  },
  {
   "cell_type": "code",
   "execution_count": null,
   "id": "99851388",
   "metadata": {},
   "outputs": [],
   "source": [
    "def ndvi_isNull(img):\n",
    "    ndvi = img.normalizedDifference(['SR_B5','SR_B4']).rename('NDVI')\n",
    "    Msk = ndvi.lte(1).And(ndvi.gt(0))\n",
    "    ndvi = ndvi.updateMask(Msk)\n",
    "    xmin = ndvi.reduceRegion(**{#**以dic形式传递，不加则以元组形式\n",
    "          'reducer': ee.Reducer.min(),\n",
    "          'geometry': shp_ee,\n",
    "          'scale': 30,\n",
    "          'maxPixels': 1e13\n",
    "        }).get('NDVI')\n",
    "    xmax = ndvi.reduceRegion(**{\n",
    "          'reducer': ee.Reducer.max(),\n",
    "          'geometry': shp_ee,\n",
    "          'scale': 30,\n",
    "          'maxPixels': 1e13\n",
    "        }).get('NDVI')\n",
    "\n",
    "#     xnum = ee.Number(xmax).subtract(ee.Number(xmin)\n",
    "    return img.addBands(ndvi).updateMask(Msk).set({\"xmin\":xmin, \"xmax\":xmax}).copyProperties(img, [\"system:time_start\",'system:id'])\n",
    "def vfc(img): \n",
    "    fv = img.expression('(ndvi - xmin) / (xmax - xmin)',{\n",
    "        'ndvi': img.select(\"NDVI\"),\n",
    "        'xmin': ee.Number(img.get(\"xmin\")), # ee.Image(xmin)\n",
    "        'xmax': ee.Number(img.get(\"xmax\"))\n",
    "        }).rename(\"fv\").toFloat()\n",
    "#     fv = ndvi.subtract(xmin).divide(xmax.subtract(xmin)).rename('vfc')\n",
    "#     Msk = img.select(\"NDVI\").lte(1).And(img.select(\"NDVI\").gt(0))\n",
    "    return img.addBands(fv).copyProperties(img, [\"system:time_start\",'system:id'])\n",
    "#     return img.addBands(fv).updateMask(Msk).copyProperties(img, [\"system:time_start\",'system:id'])\n"
   ]
  },
  {
   "cell_type": "code",
   "execution_count": null,
   "id": "bb4ee2d4",
   "metadata": {
    "scrolled": true
   },
   "outputs": [],
   "source": [
    "collection = ee.ImageCollection(\"LANDSAT/LC08/C02/T1_L2\") \\\n",
    ".filter(ee.Filter.calendarRange(2018,2021,'year'))\\\n",
    ".filter(ee.Filter.calendarRange(5,9,'month'))\\\n",
    ".filterBounds(shp_ee) \\\n",
    ".map(maskL8sr)"
   ]
  },
  {
   "cell_type": "code",
   "execution_count": null,
   "id": "04030bd8",
   "metadata": {},
   "outputs": [],
   "source": [
    "print(collection.size().getInfo())"
   ]
  },
  {
   "cell_type": "code",
   "execution_count": null,
   "id": "2234a517",
   "metadata": {},
   "outputs": [],
   "source": [
    "col_isNull = collection.map(ndvi_isNull)\n",
    "col_vfc = col_isNull.filter(ee.Filter.notNull([\"xmin\", \"xmax\"]))\n",
    "col_vfc1 = col_vfc.filter(ee.Filter.notEquals(\"xmax\", \"xmin\"))\n",
    "col_vfc2 = col_vfc1.map(vfc)"
   ]
  },
  {
   "cell_type": "code",
   "execution_count": null,
   "id": "f7361b1b",
   "metadata": {},
   "outputs": [],
   "source": [
    "Map"
   ]
  },
  {
   "cell_type": "code",
   "execution_count": null,
   "id": "97e1292d",
   "metadata": {
    "scrolled": true
   },
   "outputs": [],
   "source": [
    "Max = col_vfc2.aggregate_array('xmin').getInfo()\n",
    "# Min = col_vfc2.aggregate_array('xmin').getInfo()\n",
    "# ID = col_vfc2.aggregate_array('system:id').getInfo()\n",
    "print(Max)\n",
    "# print(ID)"
   ]
  },
  {
   "cell_type": "code",
   "execution_count": null,
   "id": "cb8f89a9",
   "metadata": {},
   "outputs": [],
   "source": [
    "Map.addLayer(col_vfc2.select('fv').mean(), {}, 'fv')"
   ]
  },
  {
   "cell_type": "code",
   "execution_count": null,
   "id": "9bc84bb3",
   "metadata": {},
   "outputs": [],
   "source": [
    "col_vfc3 = col_vfc2.mean()"
   ]
  },
  {
   "cell_type": "code",
   "execution_count": null,
   "id": "c8db9e7d",
   "metadata": {},
   "outputs": [],
   "source": [
    "xmin = col_vfc3.select('fv').reduceRegion(**{#**以dic形式传递，不加则以元组形式\n",
    "          'reducer': ee.Reducer.min(),\n",
    "          'geometry': shp_ee,\n",
    "          'scale': 30,\n",
    "          'maxPixels': 1e13\n",
    "        }).get('fv')\n",
    "xmax = col_vfc3.select('fv').reduceRegion(**{\n",
    "      'reducer': ee.Reducer.max(),\n",
    "      'geometry': shp_ee,\n",
    "      'scale': 30,\n",
    "      'maxPixels': 1e13\n",
    "    }).get('fv')"
   ]
  },
  {
   "cell_type": "code",
   "execution_count": null,
   "id": "31916032",
   "metadata": {},
   "outputs": [],
   "source": [
    "xmin.getInfo()"
   ]
  },
  {
   "cell_type": "code",
   "execution_count": null,
   "id": "a01632b9",
   "metadata": {},
   "outputs": [],
   "source": [
    "xmax.getInfo()"
   ]
  },
  {
   "cell_type": "code",
   "execution_count": null,
   "id": "d17e1498",
   "metadata": {},
   "outputs": [],
   "source": [
    "print(col_vfc2.size().getInfo())"
   ]
  },
  {
   "cell_type": "code",
   "execution_count": null,
   "id": "f1770df0",
   "metadata": {},
   "outputs": [],
   "source": [
    "Map.addLayer(col_vfc3,{}, 'img')"
   ]
  },
  {
   "cell_type": "code",
   "execution_count": null,
   "id": "a84f00e9",
   "metadata": {},
   "outputs": [],
   "source": [
    "Map"
   ]
  },
  {
   "cell_type": "code",
   "execution_count": null,
   "id": "da940313",
   "metadata": {},
   "outputs": [],
   "source": [
    "for name in names:\n",
    "    img = col_vfc2.select(name).mean()\n",
    "    Map.addLayer(img, {}, name)"
   ]
  },
  {
   "cell_type": "code",
   "execution_count": null,
   "id": "556280ee",
   "metadata": {},
   "outputs": [],
   "source": [
    "col_vfc2.first().bandNames().getInfo()"
   ]
  },
  {
   "cell_type": "code",
   "execution_count": null,
   "id": "0fb4e977",
   "metadata": {},
   "outputs": [],
   "source": [
    "names = image.bandNames().getInfo()"
   ]
  },
  {
   "cell_type": "code",
   "execution_count": null,
   "id": "bae9d344",
   "metadata": {},
   "outputs": [],
   "source": [
    "Map.addLayer(image,{}, 'col3')"
   ]
  },
  {
   "cell_type": "code",
   "execution_count": null,
   "id": "43e50e26",
   "metadata": {},
   "outputs": [],
   "source": [
    "Map"
   ]
  },
  {
   "cell_type": "code",
   "execution_count": null,
   "id": "4be020b6",
   "metadata": {},
   "outputs": [],
   "source": []
  },
  {
   "cell_type": "code",
   "execution_count": null,
   "id": "11bae9c3",
   "metadata": {},
   "outputs": [],
   "source": [
    "col_vfc2.propertyNames().getInfo()"
   ]
  }
 ],
 "metadata": {
  "kernelspec": {
   "display_name": "Python 3 (ipykernel)",
   "language": "python",
   "name": "python3"
  },
  "language_info": {
   "codemirror_mode": {
    "name": "ipython",
    "version": 3
   },
   "file_extension": ".py",
   "mimetype": "text/x-python",
   "name": "python",
   "nbconvert_exporter": "python",
   "pygments_lexer": "ipython3",
   "version": "3.9.6"
  }
 },
 "nbformat": 4,
 "nbformat_minor": 5
}
