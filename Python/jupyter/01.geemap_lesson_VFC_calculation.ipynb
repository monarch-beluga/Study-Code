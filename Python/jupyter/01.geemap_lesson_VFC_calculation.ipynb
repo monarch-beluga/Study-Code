{
 "cells": [
  {
   "cell_type": "markdown",
   "id": "1f4e6ed8",
   "metadata": {},
   "source": [
    "# Table of Contents\n",
    "1  Image概述\n",
    "2  Image operator(mask, clip, select, addBands, export)\n",
    "3  ImageCollection概述\n",
    "4  ImageCollection operator(filter, select, set/get, calculation, toList)\n",
    "5  Example 1. Calculate NDVI for Jiangxi and Extract NDWI for poyang Lake between 1982 to 2021;\n",
    "6  Example 2. Download huge ImageCollection from google earth engine; -> Download Images\n",
    "7  Example 3. Extract NDVI values of climate stations from 1982 to 2021; -> Spatial analysis\n",
    "8  Example 4. Supervised Classification -> Images Classification\n",
    "9  Example 5. Unsupervised Classification (clustering) "
   ]
  },
  {
   "cell_type": "code",
   "execution_count": null,
   "id": "a6692d8e",
   "metadata": {
    "tags": []
   },
   "outputs": [],
   "source": [
    "import ee, os\n",
    "import geemap\n",
    "# ee.Initialize()\n",
    "Map = geemap.Map()\n",
    "Map = geemap.Map(center=(39, 110), zoom=4)\n",
    "Map"
   ]
  },
  {
   "cell_type": "code",
   "execution_count": null,
   "id": "37cae645",
   "metadata": {},
   "outputs": [],
   "source": [
    "# -------------------------------------------------------\n",
    "# 2  ImageCollection 去云\n",
    "#  Calculate NDVI for Jiangxi\n",
    "# -------------------------------------------------------\n",
    "year = 2010, 2010\n",
    "doy = '-01-01', '-12-31'\n",
    "\n",
    "start_date = str(year[0]) + doy[0]\n",
    "end_date = str(year[1]) + doy[1]\n",
    "\n",
    "jx_bound = ee.FeatureCollection('users/yehuigeo/jx_bound')"
   ]
  },
  {
   "cell_type": "code",
   "execution_count": null,
   "id": "9427a146",
   "metadata": {
    "cell_style": "center"
   },
   "outputs": [],
   "source": [
    "def cloudMaskL457(image):\n",
    "    qaMask = image.select('QA_PIXEL').bitwiseAnd(int('11111', 2)).eq(0)\n",
    "    saturationMask = image.select('QA_RADSAT').eq(0)\n",
    "    opticalBands = image.select('SR_B.').multiply(0.0000275).add(-0.2)\n",
    "    thermalBand = image.select('ST_B6').multiply(0.00341802).add(149.0)\n",
    "\n",
    "    return image.addBands(opticalBands, None, True)\\\n",
    "                 .addBands(thermalBand, None, True)\\\n",
    "                 .updateMask(qaMask).updateMask(saturationMask)\\\n",
    "                 .copyProperties(image, [\"system:time_start\",'system:id'])\n",
    "\n",
    "def maskS2clouds(image):   # This function was used to mask the clouds for sentinel-2\n",
    "    qa = image.select('QA60')\n",
    "\n",
    "  # Bits 10 and 11 are clouds and cirrus, respectively.\n",
    "    cloudBitMask = 1 << 10\n",
    "    cirrusBitMask = 1 << 11\n",
    "\n",
    "  # Both flags should be set to zero, indicating clear conditions.\n",
    "    mask = qa.bitwiseAnd(cloudBitMask).eq(0).And(\n",
    "             qa.bitwiseAnd(cirrusBitMask).eq(0))\n",
    "\n",
    "  # Return the masked and scaled data, without the QA bands.\n",
    "    return image.updateMask(mask).divide(10000).select(\"B.*\").copyProperties(image, [\"system:time_start\",'system:id'])\n",
    "\n",
    "def maskL8sr(image):\n",
    "    qaMask = image.select('QA_PIXEL').bitwiseAnd(int('11111',2)).eq(0);\n",
    "    saturationMask = image.select('QA_RADSAT').eq(0);\n",
    "\n",
    "#   // Apply the scaling factors to the appropriate bands.\n",
    "    opticalBands = image.select('SR_B.').multiply(0.0000275).add(-0.2);\n",
    "    thermalBands = image.select('ST_B6').multiply(0.00341802).add(149.0);\n",
    "    \n",
    "    return image.addBands(opticalBands, None, True)\\\n",
    "                 .addBands(thermalBands, None, True)\\\n",
    "                 .updateMask(qaMask)\\\n",
    "                 .updateMask(saturationMask)\\\n",
    "                 .copyProperties(image, [\"system:time_start\",'system:id'])"
   ]
  },
  {
   "cell_type": "code",
   "execution_count": null,
   "id": "044ff3ca",
   "metadata": {
    "scrolled": true
   },
   "outputs": [],
   "source": [
    "# Landsat 3 MSS Collection 1 Tier 1 Raw Scenes\n",
    "# Dataset Availability\n",
    "# 1978-03-05 - 1983-03-31\n",
    "# Landsat 5+7 scenes\n",
    "# Dataset Availability\n",
    "# 1984 - 2012\n",
    "# get landsat 5\n",
    "collection5 = ee.ImageCollection('LANDSAT/LT05/C02/T1_L2') \\\n",
    "    .filterBounds(jx_bound) \\\n",
    "    .filterDate(start_date, end_date) \\\n",
    "    .map(cloudMaskL457) \\\n",
    "    .select(['SR_B1', 'SR_B2', 'SR_B3', 'SR_B4', 'SR_B5', 'SR_B7'])\n",
    "# print('Landsat5')\n",
    "# print(collection5.size().getInfo())\n",
    "# Landsat 7 Collection 1 Tier 1 Raw Scenes\n",
    "# Dataset Availability\n",
    "# 1999 - 2021\n",
    "# get landsat 7\n",
    "# https://developers.google.com/earth-engine/datasets/catalog/landsat\n",
    "# https://www.usgs.gov/landsat-missions/landsat-collection-2\n",
    "collection7 = ee.ImageCollection('LANDSAT/LE07/C02/T1_L2') \\\n",
    "    .filterBounds(jx_bound) \\\n",
    "    .filterDate(start_date, end_date) \\\n",
    "    .map(cloudMaskL457) \\\n",
    "    .select(['SR_B1', 'SR_B2', 'SR_B3', 'SR_B4', 'SR_B5', 'SR_B7'])\n",
    "\n",
    "# print(collection7.size().getInfo())"
   ]
  },
  {
   "cell_type": "code",
   "execution_count": null,
   "id": "d3eb5b60",
   "metadata": {
    "scrolled": true
   },
   "outputs": [],
   "source": [
    "# Landsat 8 Collection 1 Tier 1 Raw Scenes\n",
    "# Dataset Availability\n",
    "# 2013 - 2021\n",
    "# get landsat 8\n",
    "collection8 = ee.ImageCollection('LANDSAT/LC08/C01/T1_SR')\\\n",
    "    .filterBounds(jx_bound) \\\n",
    "    .filterDate(start_date, end_date) \\\n",
    "    .map(maskL8sr).select(['B2', 'B3', 'B4', 'B5', 'B6', 'B7', 'pixel_qa'],['B1', 'B2', 'B3', 'B4', 'B5', 'B7', 'pixel_qa']) \n",
    "# print(collection8.size().getInfo())\n",
    "# Sentinel-2 (S2) Multispectral Instrument (MSI) \n",
    "# Dataset Availability\n",
    "# Level-1C orthorectified top-of-atmosphere reflectance -> 2015-06-23 - present\n",
    "# Level-2A orthorectified atmospherically corrected surface reflectance.\n",
    "# get sentinel-2A\n",
    "sentinel2 = ee.ImageCollection(\"COPERNICUS/S2_SR\").filter(ee.Filter.lt('CLOUDY_PIXEL_PERCENTAGE',20))\\\n",
    "    .filterDate(start_date, end_date).map(maskS2clouds).filterBounds(jx_bound)\\\n",
    "    .select(['B2', 'B3', 'B4', 'B8', 'B11', 'B12'],['B1', 'B2', 'B3', 'B4', 'B5', 'B7']) \n",
    "# print(sentinel2.size().getInfo())"
   ]
  },
  {
   "cell_type": "code",
   "execution_count": null,
   "id": "0cc269ae",
   "metadata": {},
   "outputs": [],
   "source": [
    "def IsNull(img):\n",
    "    ndvi = img.normalizedDifference(['SR_B4','SR_B3']).rename('NDVI')\n",
    "    xmin = ee.Number(ndvi.reduceRegion(**{\n",
    "          'reducer': ee.Reducer.min(),\n",
    "          'geometry': roi,\n",
    "          'scale': 30,\n",
    "          'maxPixels': 1e13\n",
    "        }).get('NDVI'))\n",
    "    xmax = ee.Number(ndvi.reduceRegion(**{\n",
    "          'reducer': ee.Reducer.max(),\n",
    "          'geometry': roi,\n",
    "          'scale': 30,\n",
    "          'maxPixels': 1e13\n",
    "        }).get('NDVI'))\n",
    "    \n",
    "#     fv = ndvi.subtract(xmin).divide(xmax.subtract(xmin)).rename('vfc')\n",
    "    return img.addBands(ndvi).set({\"xmin\":xmin, \"xmax\":xmax});"
   ]
  },
  {
   "cell_type": "code",
   "execution_count": null,
   "id": "d3c61a8d",
   "metadata": {},
   "outputs": [],
   "source": [
    "def vfc(img):\n",
    "    fv = img.expression('(ndvi - xmin) / (xmax - xmin)',{\n",
    "            'ndvi': img.select(\"NDVI\"),\n",
    "            'xmin': ee.Number(img.get('xmin')),\n",
    "            'xmax': ee.Number(img.get('xmax'))\n",
    "            }).rename('vfc')\n",
    "    return img.addBands(fv)"
   ]
  },
  {
   "cell_type": "code",
   "execution_count": null,
   "id": "2a15cf24",
   "metadata": {},
   "outputs": [],
   "source": [
    "roi = jx_bound.geometry()\n",
    "scale = 30\n",
    "img = collection5.first()\n",
    "ndvi1 = img.normalizedDifference(['SR_B4','SR_B3']).rename('NDVI')\n",
    "# col7_fv = collection7.map(vfc)"
   ]
  },
  {
   "cell_type": "code",
   "execution_count": null,
   "id": "1a0a98c8",
   "metadata": {},
   "outputs": [],
   "source": [
    "col_notNull = collection5.map(IsNull).filter(ee.Filter.notNull([\"xmax\", \"xmin\"]))\n",
    "col_fv = col_notNull.map(vfc)"
   ]
  },
  {
   "cell_type": "code",
   "execution_count": null,
   "id": "c8c2f58b",
   "metadata": {},
   "outputs": [],
   "source": [
    "col_fv.size().getInfo()"
   ]
  },
  {
   "cell_type": "code",
   "execution_count": null,
   "id": "887daa0f",
   "metadata": {},
   "outputs": [],
   "source": [
    "palette = ['FFFFFF', 'CE7E45', 'DF923D', 'F1B555', 'FCD163', '99B718',\n",
    "               '74A901', '66A000', '529400', '3E8601', '207401', '056201',\n",
    "               '004C00', '023B01', '012E01', '011D01', '011301']\n",
    "Map.addLayer(col_fv.mean().clip(roi).select('vfc'),{min: 0, max: 1,'palette': palette}, 'fv2')"
   ]
  },
  {
   "cell_type": "code",
   "execution_count": null,
   "id": "1d95a255",
   "metadata": {},
   "outputs": [],
   "source": [
    "Map"
   ]
  },
  {
   "cell_type": "code",
   "execution_count": null,
   "id": "67e8e42e",
   "metadata": {
    "scrolled": true
   },
   "outputs": [],
   "source": [
    "# fv = vfc(collection7.first())\n",
    "# fv = ndvi.subtract(xmin).divide(xmax.subtract(xmin)).rename('vfc')\n",
    "fv1 = ndvi1.expression('(ndvi - xmin) / (xmax - xmin)',{\n",
    "            'ndvi': ndvi1,\n",
    "            'xmin': xmin,\n",
    "            'xmax': xmax\n",
    "            }).rename('vfc')\n",
    "palette = ['FFFFFF', 'CE7E45', 'DF923D', 'F1B555', 'FCD163', '99B718',\n",
    "               '74A901', '66A000', '529400', '3E8601', '207401', '056201',\n",
    "               '004C00', '023B01', '012E01', '011D01', '011301']\n",
    "Map.addLayer(fv1,{min: 0, max: 1,'palette': palette}, 'fv1')"
   ]
  },
  {
   "cell_type": "code",
   "execution_count": null,
   "id": "0e0aa332",
   "metadata": {},
   "outputs": [],
   "source": [
    "fv = ndvi1.subtract(xmin).divide(xmax.subtract(xmin)).rename('FV')\n",
    "palette = ['FFFFFF', 'CE7E45', 'DF923D', 'F1B555', 'FCD163', '99B718',\n",
    "               '74A901', '66A000', '529400', '3E8601', '207401', '056201',\n",
    "               '004C00', '023B01', '012E01', '011D01', '011301']\n",
    "Map.addLayer(fv.clip(roi),{min: 0, max: 1,'palette': palette}, 'fv')"
   ]
  },
  {
   "cell_type": "code",
   "execution_count": null,
   "id": "27dce719",
   "metadata": {},
   "outputs": [],
   "source": []
  },
  {
   "cell_type": "code",
   "execution_count": null,
   "id": "00389cde",
   "metadata": {},
   "outputs": [],
   "source": [
    "Map.addLayer(ndvi1,{min: 0, max: 1}, 'ndvi1')"
   ]
  },
  {
   "cell_type": "code",
   "execution_count": null,
   "id": "d029bf03",
   "metadata": {},
   "outputs": [],
   "source": [
    "palette = ['FFFFFF', 'CE7E45', 'DF923D', 'F1B555', 'FCD163', '99B718',\n",
    "               '74A901', '66A000', '529400', '3E8601', '207401', '056201',\n",
    "               '004C00', '023B01', '012E01', '011D01', '011301']\n",
    "roi = jx_bound.geometry()\n",
    "Map.addLayer(col7_fv.first().select('vfc').clip(roi),{min: 0, max: 1,'palette': palette}, 'VFC')"
   ]
  },
  {
   "cell_type": "code",
   "execution_count": null,
   "id": "75b66925",
   "metadata": {},
   "outputs": [],
   "source": [
    "xmin = ndvi.reduceRegion(**{\n",
    "  'reducer': ee.Reducer.mean(),\n",
    "  'geometry': roi,\n",
    "  'scale': 30,\n",
    "  'maxPixels': 1e13\n",
    "})"
   ]
  },
  {
   "cell_type": "code",
   "execution_count": null,
   "id": "74f5a6b1",
   "metadata": {},
   "outputs": [],
   "source": [
    "xmin.getInfo().get('NDVI')"
   ]
  },
  {
   "cell_type": "code",
   "execution_count": null,
   "id": "6213848a",
   "metadata": {},
   "outputs": [],
   "source": [
    "xmin.getInfo()"
   ]
  },
  {
   "cell_type": "code",
   "execution_count": null,
   "id": "a7ffaf93",
   "metadata": {},
   "outputs": [],
   "source": [
    "# Map.setCenter(29.50, 116,zoom=4)\n",
    "Map.addLayer(sentinel2.median().clip(jx_bound),{'bands': ['B4', 'B3', 'B2'], 'min': 0, 'max': 0.3},'ly2020')\n",
    "Map.addLayer(sentinel2.max().clip(jx_bound),{'bands': ['B4', 'B3', 'B2'], 'min': 0, 'max': 0.3},'ly2022')\n",
    "# Map.split_map(left_layer='ly2020', right_layer='ly2022')"
   ]
  },
  {
   "cell_type": "raw",
   "id": "657cc55e",
   "metadata": {},
   "source": [
    "# -------------------------------------------------------\n",
    "\t Image histogram\n",
    "https://gis.stackexchange.com/questions/346618/trying-to-make-a-histogram-with-ui-chart-image-histogram-in-gee\n",
    "# -------------------------------------------------------"
   ]
  },
  {
   "cell_type": "code",
   "execution_count": null,
   "id": "c077a55c",
   "metadata": {},
   "outputs": [],
   "source": [
    "# -------------------------------------------------------\n",
    "# 3  ImageCollection \n",
    "#  Calculate NDVI for Jiangxi\n",
    "# Bands math operator by image expression\n",
    "# https://code.earthengine.google.com/2dd2d4e898e633ea5c0c78066f74d1b7?accept_repo=users%2Fnclinton%2FEE101\n",
    "# -------------------------------------------------------\n",
    "# function for EVI,GCVI,NDVI,NDWI,LSWI\n",
    "def f_EVI(img):\n",
    "    EVI = img.expression(\n",
    "        '2.5 * ((NIR - RED) / (NIR + 6 * RED - 7.5 * BLUE + 1))', {\n",
    "          'NIR': img.select('B4'),\n",
    "          'RED': img.select('B3'),\n",
    "          'BLUE':img.select('B1')})\n",
    "    return EVI\n",
    "def f_GCVI(img):\n",
    "    GCVI = img.expression(\n",
    "        '(NIR / Green - 1)', {\n",
    "          'NIR': img.select('B4'),\n",
    "          'Green': img.select('B2')})\n",
    "    return GCVI\n",
    "def addVIs(img):\n",
    "    NDVI = img.normalizedDifference(['B4','B3']).rename('NDVI')\n",
    "    mNDWI = img.normalizedDifference(['B2','B5']).rename('mNDWI')\n",
    "    LSWI = img.normalizedDifference(['B5','B6']).rename('LSWI')\n",
    "    EVI = f_EVI(img)\n",
    "    GCVI = f_GCVI(img)\n",
    "    return img.addBands(NDVI).addBands(NDWI).addBands(LSWI).addBands(EVI).addBands(GCVI)"
   ]
  },
  {
   "cell_type": "code",
   "execution_count": null,
   "id": "fe6a2191",
   "metadata": {},
   "outputs": [],
   "source": [
    "sentinel2 = ee.ImageCollection(\"COPERNICUS/S2_SR\").filter(ee.Filter.lt('CLOUDY_PIXEL_PERCENTAGE',20))\\\n",
    "    .filterDate(start_date, end_date).map(maskS2clouds).filterBounds(jx_bound)\\\n",
    "    .select(['B2', 'B3', 'B4', 'B8', 'B11', 'B12'],['B1', 'B2', 'B3', 'B4', 'B5', 'B7']).map(addVIs) "
   ]
  },
  {
   "cell_type": "code",
   "execution_count": null,
   "id": "c4ec2268",
   "metadata": {},
   "outputs": [],
   "source": [
    "# https://code.earthengine.google.com/c41d27de2bf046ef2cccc75019816497?accept_repo=users%2Fnclinton%2FEE101\n",
    "# https://github.com/HuiYeAmazing/Study-notes/blob/master/python/jupyter/geemap/Image/03_Image%E5%8F%AF%E8%A7%86%E5%8C%96%E5%8F%82%E6%95%B0%E4%BA%86%E8%A7%A3.md\n",
    "# ---------------------------\n",
    "# CSS stands for colours\n",
    "# https://www.quackit.com/css/tutorial/css_introduction.cfm\n",
    "# https://www.quackit.com/css/color/charts/css_color_names_chart.cfm\n",
    "# -----------------------------\n",
    "ndvi = sentinel2.first().select('NDVI')\n",
    "palette = ['FFFFFF', 'CE7E45', 'DF923D', 'F1B555', 'FCD163', '99B718',\n",
    "               '74A901', '66A000', '529400', '3E8601', '207401', '056201',\n",
    "               '004C00', '023B01', '012E01', '011D01', '011301']\n",
    "Map.addLayer(ndvi, {min: 0, max: 1, palette: palette}, 'NDVI');"
   ]
  }
 ],
 "metadata": {
  "kernelspec": {
   "display_name": "Python 3 (ipykernel)",
   "language": "python",
   "name": "python3"
  },
  "language_info": {
   "codemirror_mode": {
    "name": "ipython",
    "version": 3
   },
   "file_extension": ".py",
   "mimetype": "text/x-python",
   "name": "python",
   "nbconvert_exporter": "python",
   "pygments_lexer": "ipython3",
   "version": "3.10.10"
  },
  "varInspector": {
   "cols": {
    "lenName": 16,
    "lenType": 16,
    "lenVar": 40
   },
   "kernels_config": {
    "python": {
     "delete_cmd_postfix": "",
     "delete_cmd_prefix": "del ",
     "library": "var_list.py",
     "varRefreshCmd": "print(var_dic_list())"
    },
    "r": {
     "delete_cmd_postfix": ") ",
     "delete_cmd_prefix": "rm(",
     "library": "var_list.r",
     "varRefreshCmd": "cat(var_dic_list()) "
    }
   },
   "position": {
    "height": "308.844px",
    "left": "1551.19px",
    "right": "20px",
    "top": "113px",
    "width": "350px"
   },
   "types_to_exclude": [
    "module",
    "function",
    "builtin_function_or_method",
    "instance",
    "_Feature"
   ],
   "window_display": true
  }
 },
 "nbformat": 4,
 "nbformat_minor": 5
}
