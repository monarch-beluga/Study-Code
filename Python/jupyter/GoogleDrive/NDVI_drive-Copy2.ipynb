{
 "cells": [
  {
   "cell_type": "code",
   "execution_count": null,
   "id": "27a0b9b4",
   "metadata": {},
   "outputs": [],
   "source": [
    "import geemap\n",
    "import ee\n",
    "\n",
    "Map = geemap.Map()"
   ]
  },
  {
   "cell_type": "code",
   "execution_count": null,
   "id": "dcf16713",
   "metadata": {},
   "outputs": [],
   "source": [
    "from pydrive2.auth import GoogleAuth\n",
    "from pydrive2.drive import GoogleDrive\n",
    "\n",
    "gauth = GoogleAuth()\n",
    "gauth.LocalWebserverAuth()\n",
    "drive = GoogleDrive(gauth)"
   ]
  },
  {
   "cell_type": "code",
   "execution_count": null,
   "id": "1c9449c5",
   "metadata": {},
   "outputs": [],
   "source": [
    "file_list = drive.ListFile({'q':\"mimeType='image/tiff'\"}).GetList()\n",
    "file_list"
   ]
  },
  {
   "cell_type": "code",
   "execution_count": null,
   "id": "78be11db",
   "metadata": {},
   "outputs": [],
   "source": [
    "gauth = GoogleAuth()\n",
    "gauth.LocalWebserverAuth()\n",
    "drive = GoogleDrive(gauth)\n",
    "file_list = drive.ListFile({'q':\"mimeType='image/tiff'\"}).GetList()\n",
    "for file in file_list:\n",
    "    out_file = path + file['title']\n",
    "    file.GetContentFile(out_file)\n",
    "    print(out_file+'下载成功！！')\n",
    "    file.Delete()"
   ]
  },
  {
   "cell_type": "code",
   "execution_count": null,
   "id": "3f0d2b0e",
   "metadata": {},
   "outputs": [],
   "source": [
    "roi = geemap.geojson_to_ee(r'E:/Data/GIS/JX.json')\n",
    "modis = ee.ImageCollection(\"MODIS/006/MOD09Q1\").filterDate('2017', '2018')\n",
    "landsat8 = ee.ImageCollection('LANDSAT/LC08/C01/T1_8DAY_NDVI')\\\n",
    "            .filterDate('2017', '2018')\n",
    "modis_names = modis.aggregate_array('system:id').getInfo()\n",
    "landsat_names = landsat8.aggregate_array('system:id').getInfo()"
   ]
  },
  {
   "cell_type": "code",
   "execution_count": null,
   "id": "c0c3346d",
   "metadata": {},
   "outputs": [],
   "source": [
    "def clip(img):\n",
    "    return img.clip(roi.geometry())\n",
    "def modis_NDVI(img):\n",
    "    img1 = img.clip(roi.geometry())\n",
    "    img2 = img1.normalizedDifference(['sur_refl_b02', 'sur_refl_b01'])\n",
    "    return img2\n",
    "def export_image(i):\n",
    "    modis_name = modis_names[i]\n",
    "    landsat_name = landsat_names[i]\n",
    "    modis_img = modis_NDVI(ee.Image(modis_name))\n",
    "    landsat_img = clip(ee.Image(landsat_name))\n",
    "    NDVI_img = landsat_img.unmask(modis_img)\n",
    "    f_name = 'NDVI_'+modis_name.split('/')[-1]\n",
    "    geemap.ee_export_image_to_drive(NDVI_img, description=f_name,\n",
    "                                    folder='Image', scale=30)\n",
    "    return f_name+'.tif'"
   ]
  },
  {
   "cell_type": "code",
   "execution_count": null,
   "id": "c2a20e71",
   "metadata": {},
   "outputs": [],
   "source": [
    "import time\n",
    "path = r'E:/Data/NDVI_JX/'\n",
    "# title = export_image(6)\n",
    "for i in range(13, len(modis_names)+1):\n",
    "        out_file = path + title\n",
    "        file_list = []\n",
    "        while(len(file_list) == 0):\n",
    "            file_list = drive.ListFile({'q':\"title='{0}'\".format(title)}).GetList()\n",
    "        if i != len(modis_names):\n",
    "            title = export_image(i)\n",
    "        file = file_list[0]\n",
    "        file.GetContentFile(out_file)\n",
    "        print(out_file+'下载成功！！')\n",
    "        file.Delete()\n",
    "        "
   ]
  },
  {
   "cell_type": "code",
   "execution_count": null,
   "id": "d77afe04",
   "metadata": {},
   "outputs": [],
   "source": [
    "title"
   ]
  },
  {
   "cell_type": "code",
   "execution_count": null,
   "id": "782cad28",
   "metadata": {},
   "outputs": [],
   "source": [
    "import winsound\n",
    "duration = 1000  # millisecond\n",
    "freq = 440  # Hz\n",
    "winsound.Beep(freq, duration)"
   ]
  },
  {
   "cell_type": "code",
   "execution_count": null,
   "id": "15e8532a",
   "metadata": {},
   "outputs": [],
   "source": []
  },
  {
   "cell_type": "code",
   "execution_count": null,
   "id": "7e95ffbf",
   "metadata": {},
   "outputs": [],
   "source": []
  }
 ],
 "metadata": {
  "kernelspec": {
   "display_name": "Python 3",
   "language": "python",
   "name": "python3"
  },
  "language_info": {
   "codemirror_mode": {
    "name": "ipython",
    "version": 3
   },
   "file_extension": ".py",
   "mimetype": "text/x-python",
   "name": "python",
   "nbconvert_exporter": "python",
   "pygments_lexer": "ipython3",
   "version": "3.8.8"
  }
 },
 "nbformat": 4,
 "nbformat_minor": 5
}
