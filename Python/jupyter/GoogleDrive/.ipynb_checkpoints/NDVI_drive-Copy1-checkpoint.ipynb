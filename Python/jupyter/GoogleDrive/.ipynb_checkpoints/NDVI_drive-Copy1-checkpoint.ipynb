{
 "cells": [
  {
   "cell_type": "code",
   "execution_count": 1,
   "id": "27a0b9b4",
   "metadata": {},
   "outputs": [],
   "source": [
    "import geemap\n",
    "import ee\n",
    "\n",
    "Map = geemap.Map()"
   ]
  },
  {
   "cell_type": "code",
   "execution_count": 2,
   "id": "dcf16713",
   "metadata": {},
   "outputs": [
    {
     "name": "stdout",
     "output_type": "stream",
     "text": [
      "Your browser has been opened to visit:\n",
      "\n",
      "    https://accounts.google.com/o/oauth2/auth?client_id=1054638670672-9u1bi43kofatmvbrqhu2663nch52nvs0.apps.googleusercontent.com&redirect_uri=http%3A%2F%2Flocalhost%3A8090%2F&scope=https%3A%2F%2Fwww.googleapis.com%2Fauth%2Fdrive&access_type=online&response_type=code\n",
      "\n",
      "Authentication successful.\n"
     ]
    }
   ],
   "source": [
    "from pydrive2.auth import GoogleAuth\n",
    "from pydrive2.drive import GoogleDrive\n",
    "\n",
    "gauth = GoogleAuth()\n",
    "gauth.LocalWebserverAuth()\n",
    "drive = GoogleDrive(gauth)"
   ]
  },
  {
   "cell_type": "code",
   "execution_count": 3,
   "id": "3f0d2b0e",
   "metadata": {},
   "outputs": [],
   "source": [
    "roi = geemap.geojson_to_ee(r'E:/Data/GIS/JX.json')\n",
    "modis = ee.ImageCollection(\"MODIS/006/MOD09Q1\").filterDate('2015', '2016')\n",
    "landsat8 = ee.ImageCollection('LANDSAT/LC08/C01/T1_8DAY_NDVI')\\\n",
    "            .filterDate('2015', '2016')\n",
    "modis_names = modis.aggregate_array('system:id').getInfo()\n",
    "landsat_names = landsat8.aggregate_array('system:id').getInfo()"
   ]
  },
  {
   "cell_type": "code",
   "execution_count": 4,
   "id": "c0c3346d",
   "metadata": {},
   "outputs": [],
   "source": [
    "def clip(img):\n",
    "    return img.clip(roi.geometry())\n",
    "def modis_NDVI(img):\n",
    "    img1 = img.clip(roi.geometry())\n",
    "    img2 = img1.normalizedDifference(['sur_refl_b02', 'sur_refl_b01'])\n",
    "    return img2\n",
    "def export_image(i):\n",
    "    modis_name = modis_names[i]\n",
    "    landsat_name = landsat_names[i]\n",
    "    modis_img = modis_NDVI(ee.Image(modis_name))\n",
    "    landsat_img = clip(ee.Image(landsat_name))\n",
    "    NDVI_img = landsat_img.unmask(modis_img)\n",
    "    f_name = 'NDVI_'+modis_name.split('/')[-1]\n",
    "    geemap.ee_export_image_to_drive(NDVI_img, description=f_name,\n",
    "                                    folder='Image', scale=30)\n",
    "    return f_name+'.tif'"
   ]
  },
  {
   "cell_type": "code",
   "execution_count": null,
   "id": "c2a20e71",
   "metadata": {},
   "outputs": [
    {
     "name": "stdout",
     "output_type": "stream",
     "text": [
      "Exporting NDVI_2015_02_02 ...\n",
      "E:/Data/NDVI_JX/NDVI_2015_01_25.tif下载成功！！\n"
     ]
    }
   ],
   "source": [
    "import time\n",
    "path = r'E:/Data/NDVI_JX/'\n",
    "# title = export_image(0)\n",
    "for i in range(4, len(modis_names)+1):\n",
    "    out_file = path + title\n",
    "    while(1):\n",
    "        file_list = drive.ListFile({'q':\"title='{0}'\".format(title)}).GetList()\n",
    "        if len(file_list) == 0:\n",
    "            time.sleep(120)\n",
    "        else:\n",
    "            break\n",
    "    if i != len(modis_names):\n",
    "        title = export_image(i)\n",
    "    file = file_list[0]\n",
    "    file.GetContentFile(out_file)\n",
    "    print(out_file+'下载成功！！')\n",
    "    file.Delete()"
   ]
  },
  {
   "cell_type": "code",
   "execution_count": 13,
   "id": "70e89e55",
   "metadata": {},
   "outputs": [
    {
     "data": {
      "text/plain": [
       "'NDVI_2015_01_25.tif'"
      ]
     },
     "execution_count": 13,
     "metadata": {},
     "output_type": "execute_result"
    }
   ],
   "source": [
    "title"
   ]
  },
  {
   "cell_type": "code",
   "execution_count": null,
   "id": "8f8e6078",
   "metadata": {},
   "outputs": [],
   "source": []
  }
 ],
 "metadata": {
  "kernelspec": {
   "display_name": "Python 3",
   "language": "python",
   "name": "python3"
  },
  "language_info": {
   "codemirror_mode": {
    "name": "ipython",
    "version": 3
   },
   "file_extension": ".py",
   "mimetype": "text/x-python",
   "name": "python",
   "nbconvert_exporter": "python",
   "pygments_lexer": "ipython3",
   "version": "3.8.8"
  }
 },
 "nbformat": 4,
 "nbformat_minor": 5
}
