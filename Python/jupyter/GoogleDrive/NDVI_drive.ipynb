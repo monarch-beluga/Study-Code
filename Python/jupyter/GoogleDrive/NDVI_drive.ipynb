{
 "cells": [
  {
   "cell_type": "code",
   "execution_count": 1,
   "id": "27a0b9b4",
   "metadata": {},
   "outputs": [
    {
     "data": {
      "text/html": [
       "<p>To authorize access needed by Earth Engine, open the following\n",
       "        URL in a web browser and follow the instructions:</p>\n",
       "        <p><a href=https://code.earthengine.google.com/client-auth?scopes=https%3A//www.googleapis.com/auth/earthengine%20https%3A//www.googleapis.com/auth/devstorage.full_control&request_id=oZ6PfNN7WWdt-f8AXBIuZ9fUscMyYa5krmDWG9FA6ok&tc=v-jJhya5XsBnahzo5zz_1VpG1CGGHCHSDu8EqzH4aSo&cc=0q3_LsZX9i0gdrJ8pZ_pOmFogwtv8z_UHWs1Ta8-xdU>https://code.earthengine.google.com/client-auth?scopes=https%3A//www.googleapis.com/auth/earthengine%20https%3A//www.googleapis.com/auth/devstorage.full_control&request_id=oZ6PfNN7WWdt-f8AXBIuZ9fUscMyYa5krmDWG9FA6ok&tc=v-jJhya5XsBnahzo5zz_1VpG1CGGHCHSDu8EqzH4aSo&cc=0q3_LsZX9i0gdrJ8pZ_pOmFogwtv8z_UHWs1Ta8-xdU</a></p>\n",
       "        <p>The authorization workflow will generate a code, which you\n",
       "        should paste in the box below</p>\n",
       "        "
      ],
      "text/plain": [
       "<IPython.core.display.HTML object>"
      ]
     },
     "metadata": {},
     "output_type": "display_data"
    },
    {
     "name": "stdout",
     "output_type": "stream",
     "text": [
      "Enter verification code: 4/1ARtbsJr571QrI7lO93a1y6ZIipEwG8_3UW1Jx-sl8pHtZPhwmcgWL2Cjb1I\n",
      "\n",
      "Successfully saved authorization token.\n"
     ]
    },
    {
     "data": {
      "application/vnd.jupyter.widget-view+json": {
       "model_id": "80b4bce031c84ddcb0e2fccfcd2c5b8b",
       "version_major": 2,
       "version_minor": 0
      },
      "text/plain": [
       "Map(center=[20, 0], controls=(WidgetControl(options=['position', 'transparent_bg'], widget=HBox(children=(Togg…"
      ]
     },
     "metadata": {},
     "output_type": "display_data"
    }
   ],
   "source": [
    "import geemap\n",
    "import ee\n",
    "\n",
    "Map = geemap.Map()\n",
    "Map"
   ]
  },
  {
   "cell_type": "code",
   "execution_count": null,
   "id": "c0c3346d",
   "metadata": {},
   "outputs": [],
   "source": [
    "import os\n",
    "\n",
    "def clip(img):\n",
    "    return img.clip(roi.geometry())\n",
    "def modis_NDVI(img):\n",
    "    img1 = img.clip(roi.geometry())\n",
    "    img2 = img1.normalizedDifference(['sur_refl_b02', 'sur_refl_b01'])\n",
    "    return img2\n",
    "def export_image(i):\n",
    "    modis_name = modis_names[i]\n",
    "    landsat_name = landsat_names[i]\n",
    "    modis_img = modis_NDVI(ee.Image(modis_name))\n",
    "    landsat_img = clip(ee.Image(landsat_name))\n",
    "    NDVI_img = landsat_img.unmask(modis_img)\n",
    "    f_name = 'NDVI_'+modis_name.split('/')[-1]\n",
    "    geemap.ee_export_image_to_drive(NDVI_img, description=f_name, crs='epsg:3857',\n",
    "                                    folder='Image', scale=30)\n",
    "#     return f_name+'.tif'\n",
    "def Downlocal(List):\n",
    "    global gauth\n",
    "    global drive\n",
    "    gauth = GoogleAuth()\n",
    "    gauth.LocalWebserverAuth()\n",
    "    drive = GoogleDrive(gauth)\n",
    "    os.system('taskkill /F /IM msedge.exe')\n",
    "    for f_list in List:\n",
    "        out_file = path + f_list['title']\n",
    "        f_list.GetContentFile(out_file)\n",
    "        print(out_file+'下载成功！！')\n",
    "        f_list.Delete()"
   ]
  },
  {
   "cell_type": "code",
   "execution_count": null,
   "id": "43644f5e",
   "metadata": {},
   "outputs": [],
   "source": []
  },
  {
   "cell_type": "code",
   "execution_count": null,
   "id": "49ec57f6",
   "metadata": {},
   "outputs": [],
   "source": []
  },
  {
   "cell_type": "code",
   "execution_count": null,
   "id": "00ac8934",
   "metadata": {},
   "outputs": [],
   "source": [
    "for i in range(len(modis_names)):\n",
    "    export_image(i)\n",
    "#     if (i % 5 == 4) or (i == len(modis_names)-1):\n",
    "#         file_list = []\n",
    "#         print('正在检测.....')\n",
    "#         while(len(file_list) < i%5+1):\n",
    "#             file_list = drive.ListFile({'q':\"mimeType='image/tiff'\"}).GetList()\n",
    "#         if flag:\n",
    "#             print('开始下载...dd..')\n",
    "#             Downlocal(file_list)"
   ]
  },
  {
   "cell_type": "code",
   "execution_count": null,
   "id": "947b6c83",
   "metadata": {},
   "outputs": [],
   "source": [
    "export_image(-3)"
   ]
  },
  {
   "cell_type": "code",
   "execution_count": null,
   "id": "65e74817",
   "metadata": {
    "scrolled": true
   },
   "outputs": [],
   "source": [
    "import os\n",
    "path = r'E:/Data/NDVI_JX/'\n",
    "j = 30\n",
    "k = 34\n",
    "flag = True\n",
    "while(flag):\n",
    "    file_list = []\n",
    "    while(len(file_list) < k-j):\n",
    "        file_list = drive.ListFile({'q':\"mimeType='image/tiff'\"}).GetList()\n",
    "    j += 5\n",
    "    k += 5\n",
    "    if k>len(modis_names):\n",
    "        k = len(modis_names)\n",
    "    for i in range(j, k):\n",
    "        export_image(i)\n",
    "    drive = GoogleDrive(gauth)\n",
    "    os.system('taskkill /F /IM msedge.exe')\n",
    "    for file in file_list:\n",
    "        out_file = path + file['title']\n",
    "        file.GetContentFile(out_file)\n",
    "        print(out_file+'下载成功！！')\n",
    "        file.Delete()\n",
    "    if k > len(modis_names):\n",
    "        break"
   ]
  },
  {
   "cell_type": "code",
   "execution_count": null,
   "id": "237ef347",
   "metadata": {},
   "outputs": [],
   "source": [
    "file_list = drive.ListFile({'q':\"mimeType='image/tiff'\"}).GetList()\n",
    "Downlocal(file_list)"
   ]
  },
  {
   "cell_type": "code",
   "execution_count": null,
   "id": "a28073fa",
   "metadata": {},
   "outputs": [],
   "source": [
    "import winsound\n",
    "duration = 1000  # millisecond\n",
    "freq = 440  # Hz\n",
    "winsound.Beep(freq, duration)"
   ]
  },
  {
   "cell_type": "code",
   "execution_count": null,
   "id": "e74c1cb7",
   "metadata": {},
   "outputs": [],
   "source": [
    "modis_names[40]"
   ]
  },
  {
   "cell_type": "code",
   "execution_count": null,
   "id": "2ca76f43",
   "metadata": {},
   "outputs": [],
   "source": [
    "file_list = drive.ListFile({'spaces':'user'}).GetList()"
   ]
  },
  {
   "cell_type": "code",
   "execution_count": null,
   "id": "984849f2",
   "metadata": {},
   "outputs": [],
   "source": [
    "file_list"
   ]
  },
  {
   "cell_type": "code",
   "execution_count": null,
   "id": "c6a91407",
   "metadata": {},
   "outputs": [],
   "source": [
    "len(file_list)"
   ]
  },
  {
   "cell_type": "code",
   "execution_count": null,
   "id": "8381cda8",
   "metadata": {},
   "outputs": [],
   "source": []
  }
 ],
 "metadata": {
  "kernelspec": {
   "display_name": "Python 3 (ipykernel)",
   "language": "python",
   "name": "python3"
  },
  "language_info": {
   "codemirror_mode": {
    "name": "ipython",
    "version": 3
   },
   "file_extension": ".py",
   "mimetype": "text/x-python",
   "name": "python",
   "nbconvert_exporter": "python",
   "pygments_lexer": "ipython3",
   "version": "3.9.6"
  }
 },
 "nbformat": 4,
 "nbformat_minor": 5
}
