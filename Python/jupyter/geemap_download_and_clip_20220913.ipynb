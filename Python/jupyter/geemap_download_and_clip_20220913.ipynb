{
 "cells": [
  {
   "cell_type": "code",
   "execution_count": null,
   "id": "b1c72e74",
   "metadata": {
    "ExecuteTime": {
     "end_time": "2023-02-02T14:21:08.410085Z",
     "start_time": "2023-02-02T14:20:59.999483Z"
    }
   },
   "outputs": [],
   "source": [
    "import ee, os\n",
    "import geemap\n",
    "Map = geemap.Map(center=[30, 113], zoom=7) \n",
    "Map"
   ]
  },
  {
   "cell_type": "code",
   "execution_count": null,
   "id": "ddf6305d",
   "metadata": {
    "ExecuteTime": {
     "end_time": "2023-02-02T14:21:09.722742Z",
     "start_time": "2023-02-02T14:21:08.411059Z"
    }
   },
   "outputs": [],
   "source": [
    "h = 110\n",
    "v = 25\n",
    "#Year\n",
    "IniYear = 2020\n",
    "\n",
    "LowLat = v\n",
    "UpLat = v+5\n",
    "LeftLon = h\n",
    "RightLon = h+5\n",
    "\n",
    "#Regions\n",
    "# region = ee.Geometry.Rectangle(LeftLon,LowLat,RightLon,UpLat);\n",
    "# region_path = r'D:\\TempData\\Anhui.shp'\n",
    "# convert local shape file to ee.feature\n",
    "# region = ee.FeatureCollection(geemap.shp_to_ee(region_path))\n",
    "region = ee.FeatureCollection(\"users/2431566134liumonarch/monarch/Jiangxi\").geometry()\n",
    "\n",
    "Map.addLayer(region, {}, 'region')\n",
    "\n",
    "dem = ee.Image('USGS/SRTMGL1_003')\n",
    "#Set region and starting and ending time\n",
    "start_date = str(IniYear) + '-01-01';\n",
    "end_date = str(IniYear) + '-12-31';\n",
    "print(start_date)\n",
    "print(end_date)\n",
    "Map"
   ]
  },
  {
   "cell_type": "code",
   "execution_count": null,
   "id": "ee444522",
   "metadata": {
    "ExecuteTime": {
     "end_time": "2023-02-02T14:21:25.673478Z",
     "start_time": "2023-02-02T14:21:09.726732Z"
    }
   },
   "outputs": [],
   "source": [
    "collection8 = ee.ImageCollection('LANDSAT/LC08/C01/T1_SR')\\\n",
    "    .filterBounds(region)\\\n",
    "    .filterDate(start_date, end_date)\\\n",
    "    .select( #Rename LC8 bands same as L5/7\n",
    "      ['B2', 'B3', 'B4', 'B5', 'B6', 'B7']\n",
    "      ,['B1', 'B2', 'B3', 'B4', 'B5', 'B7'])\n",
    "print('Landsat8')\n",
    "print(collection8.size().getInfo())"
   ]
  },
  {
   "cell_type": "code",
   "execution_count": null,
   "id": "38526e70",
   "metadata": {
    "ExecuteTime": {
     "end_time": "2023-02-02T14:23:03.641404Z",
     "start_time": "2023-02-02T14:22:38.498635Z"
    },
    "scrolled": true
   },
   "outputs": [],
   "source": [
    "Map.addLayer(collection8.first().toInt16().clip(region), {}, 'image')\n",
    "Map"
   ]
  },
  {
   "cell_type": "code",
   "execution_count": null,
   "id": "231c43c9",
   "metadata": {
    "ExecuteTime": {
     "end_time": "2023-02-03T02:30:27.187798Z",
     "start_time": "2023-02-03T02:30:27.176845Z"
    }
   },
   "outputs": [],
   "source": [
    "image = collection8.select('B2').mosaic().toInt16().clip(region).reproject(**{'crs': 'epsg:4326', 'scale': 30})"
   ]
  },
  {
   "cell_type": "code",
   "execution_count": null,
   "id": "9fa8eeff",
   "metadata": {
    "ExecuteTime": {
     "end_time": "2023-02-02T14:21:40.373998Z",
     "start_time": "2023-02-02T14:21:40.033254Z"
    }
   },
   "outputs": [],
   "source": [
    "import numpy as np\n",
    "import geedim as gd"
   ]
  },
  {
   "cell_type": "code",
   "execution_count": null,
   "id": "8fc5c731",
   "metadata": {
    "ExecuteTime": {
     "end_time": "2023-02-02T14:07:05.667232Z",
     "start_time": "2023-02-02T14:07:05.663242Z"
    }
   },
   "outputs": [],
   "source": [
    "img = gd.download.BaseImage(image)"
   ]
  },
  {
   "cell_type": "code",
   "execution_count": null,
   "id": "9b2ebcbf",
   "metadata": {
    "ExecuteTime": {
     "end_time": "2023-02-02T14:07:24.065638Z",
     "start_time": "2023-02-02T14:07:06.325973Z"
    }
   },
   "outputs": [],
   "source": [
    "img.transform"
   ]
  },
  {
   "cell_type": "code",
   "execution_count": null,
   "id": "cf217e71",
   "metadata": {
    "ExecuteTime": {
     "end_time": "2023-02-03T02:24:42.775224Z",
     "start_time": "2023-02-03T02:24:42.768260Z"
    }
   },
   "outputs": [],
   "source": [
    "p = ee.Feature(ee.Geometry.Point([527985, 3469215], proj='EPSG:32650'))"
   ]
  },
  {
   "cell_type": "code",
   "execution_count": null,
   "id": "f956b617",
   "metadata": {
    "ExecuteTime": {
     "end_time": "2023-02-03T02:24:43.694617Z",
     "start_time": "2023-02-03T02:24:43.350834Z"
    }
   },
   "outputs": [],
   "source": [
    "p"
   ]
  },
  {
   "cell_type": "code",
   "execution_count": null,
   "id": "0671bf5d",
   "metadata": {
    "ExecuteTime": {
     "end_time": "2023-02-03T02:25:05.133681Z",
     "start_time": "2023-02-03T02:25:04.824336Z"
    }
   },
   "outputs": [],
   "source": [
    "p.geometry(proj='epsg:4326')"
   ]
  },
  {
   "cell_type": "code",
   "execution_count": null,
   "id": "0daf93b4",
   "metadata": {
    "ExecuteTime": {
     "end_time": "2023-02-03T02:30:49.346874Z",
     "start_time": "2023-02-03T02:30:29.888067Z"
    }
   },
   "outputs": [],
   "source": [
    "a = image.getInfo()"
   ]
  },
  {
   "cell_type": "code",
   "execution_count": null,
   "id": "7e0f8a4d",
   "metadata": {
    "ExecuteTime": {
     "end_time": "2023-02-03T03:16:40.009759Z",
     "start_time": "2023-02-03T03:16:39.999785Z"
    }
   },
   "outputs": [],
   "source": [
    "30000000 / 2"
   ]
  },
  {
   "cell_type": "code",
   "execution_count": null,
   "id": "bb9310f5",
   "metadata": {
    "ExecuteTime": {
     "end_time": "2023-02-03T03:17:42.593731Z",
     "start_time": "2023-02-03T03:17:42.576747Z"
    }
   },
   "outputs": [],
   "source": [
    "import math\n",
    "sep_scale = math.sqrt(30000000 / 2)"
   ]
  },
  {
   "cell_type": "code",
   "execution_count": null,
   "id": "3732b949",
   "metadata": {
    "ExecuteTime": {
     "end_time": "2023-02-03T03:17:48.606252Z",
     "start_time": "2023-02-03T03:17:48.591315Z"
    }
   },
   "outputs": [],
   "source": [
    "sep_scale"
   ]
  },
  {
   "cell_type": "code",
   "execution_count": null,
   "id": "26e882af",
   "metadata": {
    "ExecuteTime": {
     "end_time": "2023-02-03T09:14:21.749288Z",
     "start_time": "2023-02-03T09:14:21.735324Z"
    }
   },
   "outputs": [],
   "source": [
    "a = [1,2,3]"
   ]
  },
  {
   "cell_type": "code",
   "execution_count": null,
   "id": "e3c5b9b4",
   "metadata": {
    "ExecuteTime": {
     "end_time": "2023-02-03T09:14:21.967685Z",
     "start_time": "2023-02-03T09:14:21.957712Z"
    }
   },
   "outputs": [],
   "source": [
    "b = a.copy()\n",
    "b[0] = 2"
   ]
  },
  {
   "cell_type": "code",
   "execution_count": null,
   "id": "11a8b189",
   "metadata": {
    "ExecuteTime": {
     "end_time": "2023-02-03T09:14:22.138963Z",
     "start_time": "2023-02-03T09:14:22.133952Z"
    }
   },
   "outputs": [],
   "source": [
    "a"
   ]
  },
  {
   "cell_type": "code",
   "execution_count": null,
   "id": "d238f4ec",
   "metadata": {
    "ExecuteTime": {
     "end_time": "2023-02-03T02:51:09.340574Z",
     "start_time": "2023-02-03T02:51:09.335560Z"
    }
   },
   "outputs": [],
   "source": [
    "30.079222864758748 // 0.00026949458523585647 + 1"
   ]
  },
  {
   "cell_type": "code",
   "execution_count": null,
   "id": "db5d1cbe",
   "metadata": {
    "ExecuteTime": {
     "end_time": "2023-02-02T14:24:53.844965Z",
     "start_time": "2023-02-02T14:24:53.838981Z"
    }
   },
   "outputs": [],
   "source": [
    "from rasterio.warp import calculate_default_transform, reproject, Resampling"
   ]
  },
  {
   "cell_type": "code",
   "execution_count": null,
   "id": "5db7167a",
   "metadata": {
    "ExecuteTime": {
     "end_time": "2023-02-02T14:22:04.317671Z",
     "start_time": "2023-02-02T14:22:04.303709Z"
    }
   },
   "outputs": [],
   "source": [
    "import rasterio as rio"
   ]
  },
  {
   "cell_type": "code",
   "execution_count": null,
   "id": "9ea79531",
   "metadata": {
    "ExecuteTime": {
     "end_time": "2023-02-02T14:14:06.551638Z",
     "start_time": "2023-02-02T14:14:06.544656Z"
    }
   },
   "outputs": [],
   "source": [
    "abs(a['bands'][0]['crs_transform'][0])"
   ]
  },
  {
   "cell_type": "code",
   "execution_count": null,
   "id": "db5bbd14",
   "metadata": {
    "ExecuteTime": {
     "end_time": "2023-02-03T02:31:03.327751Z",
     "start_time": "2023-02-03T02:31:03.311767Z"
    }
   },
   "outputs": [],
   "source": [
    "rio.Affine(*a['bands'][0]['crs_transform'])"
   ]
  },
  {
   "cell_type": "code",
   "execution_count": null,
   "id": "436fdd24",
   "metadata": {
    "ExecuteTime": {
     "end_time": "2023-02-03T02:31:04.027242Z",
     "start_time": "2023-02-03T02:31:04.022226Z"
    }
   },
   "outputs": [],
   "source": [
    "rio.Affine(*a['bands'][0]['crs_transform']) * rio.Affine.translation(*a['bands'][0]['origin'])"
   ]
  },
  {
   "cell_type": "code",
   "execution_count": null,
   "id": "bb333b0c",
   "metadata": {
    "ExecuteTime": {
     "end_time": "2023-02-03T02:27:36.199184Z",
     "start_time": "2023-02-03T02:27:36.198186Z"
    }
   },
   "outputs": [],
   "source": [
    "rio.Affine.translation(*a['bands'][0]['origin'])"
   ]
  },
  {
   "cell_type": "code",
   "execution_count": null,
   "id": "6ff2ade1",
   "metadata": {
    "ExecuteTime": {
     "end_time": "2023-02-02T14:16:43.957768Z",
     "start_time": "2023-02-02T14:16:43.951784Z"
    }
   },
   "outputs": [],
   "source": []
  },
  {
   "cell_type": "code",
   "execution_count": null,
   "id": "3e5465d1",
   "metadata": {},
   "outputs": [],
   "source": [
    "geemap.download_ee_image()"
   ]
  },
  {
   "cell_type": "code",
   "execution_count": null,
   "id": "b5222874",
   "metadata": {
    "scrolled": true
   },
   "outputs": [],
   "source": [
    "from Monarch.user_gee import *\n",
    "outfile = 'E:/Work/TEMP3'\n",
    "if __name__ == '__main__':\n",
    "    clip_dow_merge(region, image, outfile, 30, 2, flag=False)"
   ]
  },
  {
   "cell_type": "code",
   "execution_count": null,
   "id": "b16e0808",
   "metadata": {},
   "outputs": [],
   "source": []
  }
 ],
 "metadata": {
  "kernelspec": {
   "display_name": "Python 3 (ipykernel)",
   "language": "python",
   "name": "python3"
  },
  "language_info": {
   "codemirror_mode": {
    "name": "ipython",
    "version": 3
   },
   "file_extension": ".py",
   "mimetype": "text/x-python",
   "name": "python",
   "nbconvert_exporter": "python",
   "pygments_lexer": "ipython3",
   "version": "3.10.10"
  }
 },
 "nbformat": 4,
 "nbformat_minor": 5
}
