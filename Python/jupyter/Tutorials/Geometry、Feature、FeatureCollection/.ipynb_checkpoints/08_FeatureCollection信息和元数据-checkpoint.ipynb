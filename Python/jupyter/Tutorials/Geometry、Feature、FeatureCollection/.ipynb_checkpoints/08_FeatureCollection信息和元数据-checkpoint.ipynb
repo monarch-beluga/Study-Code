{
 "cells": [
  {
   "cell_type": "code",
   "execution_count": null,
   "metadata": {},
   "outputs": [],
   "source": [
    "import geemap\n",
    "import ee"
   ]
  },
  {
   "cell_type": "code",
   "execution_count": null,
   "metadata": {},
   "outputs": [],
   "source": [
    "Map = geemap.Map()\n",
    "Map"
   ]
  },
  {
   "cell_type": "code",
   "execution_count": null,
   "metadata": {},
   "outputs": [],
   "source": [
    "def fun(feature):\n",
    "    num = ee.Number.parse(feature.get('areasqkm'))\n",
    "    return feature.set('areasqkm', num)\n",
    "\n",
    "sheds = ee.FeatureCollection('USGS/WBD/2017/HUC06')\\\n",
    "        .filterBounds(ee.Geometry.Rectangle(-127.18, 19.39, -62.75, 51.29))\\\n",
    "        .map(fun)\n",
    "\n",
    "Map.addLayer(sheds, {}, 'watersheds')\n",
    "first = sheds.first()\n",
    "\n",
    "print('Count:', sheds.size().getInfo())\n",
    "\n",
    "print('Area stats:', sheds.aggregate_stats('areasqkm').getInfo())"
   ]
  },
  {
   "cell_type": "code",
   "execution_count": null,
   "metadata": {},
   "outputs": [],
   "source": [
    "wdpa = ee.FeatureCollection(\"WCMC/WDPA/current/points\")\n",
    "wdpa.limit(0).getInfo()['columns']"
   ]
  },
  {
   "cell_type": "code",
   "execution_count": null,
   "metadata": {},
   "outputs": [],
   "source": []
  }
 ],
 "metadata": {
  "kernelspec": {
   "display_name": "Python 3",
   "language": "python",
   "name": "python3"
  },
  "language_info": {
   "codemirror_mode": {
    "name": "ipython",
    "version": 3
   },
   "file_extension": ".py",
   "mimetype": "text/x-python",
   "name": "python",
   "nbconvert_exporter": "python",
   "pygments_lexer": "ipython3",
   "version": "3.8.3"
  },
  "varInspector": {
   "cols": {
    "lenName": 16,
    "lenType": 16,
    "lenVar": 40
   },
   "kernels_config": {
    "python": {
     "delete_cmd_postfix": "",
     "delete_cmd_prefix": "del ",
     "library": "var_list.py",
     "varRefreshCmd": "print(var_dic_list())"
    },
    "r": {
     "delete_cmd_postfix": ") ",
     "delete_cmd_prefix": "rm(",
     "library": "var_list.r",
     "varRefreshCmd": "cat(var_dic_list()) "
    }
   },
   "types_to_exclude": [
    "module",
    "function",
    "builtin_function_or_method",
    "instance",
    "_Feature"
   ],
   "window_display": true
  }
 },
 "nbformat": 4,
 "nbformat_minor": 4
}
