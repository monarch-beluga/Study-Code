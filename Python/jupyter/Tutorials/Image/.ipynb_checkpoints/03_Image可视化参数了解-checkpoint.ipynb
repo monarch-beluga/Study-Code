{
 "cells": [
  {
   "cell_type": "code",
   "execution_count": null,
   "metadata": {},
   "outputs": [],
   "source": [
    "import geemap\n",
    "import ee"
   ]
  },
  {
   "cell_type": "code",
   "execution_count": null,
   "metadata": {},
   "outputs": [],
   "source": [
    "Map = geemap.Map()\n",
    "Map"
   ]
  },
  {
   "cell_type": "code",
   "execution_count": null,
   "metadata": {},
   "outputs": [],
   "source": [
    "image = ee.Image('LANDSAT/LC08/C01/T1_TOA/LC08_044034_20140318').select('B3', 'B4', 'B5')\n",
    "vizParams = {\n",
    "  'bands': ['B5', 'B4', 'B3'],\n",
    "  'min': 0,\n",
    "  'max': 0.5,\n",
    "  'gamma': [0.95, 1.1, 1]\n",
    "}\n",
    "Map.setCenter(-122.1899, 37.5010, 8)      # 按地图视图按经纬度坐标来\n",
    "Map.addLayer(image, vizParams, 'false color composite')\n",
    "# bands参数需要一个有且只含三个元素的列表，列表里每一个参数为影像的一个波段的名称\n",
    "# 用这三个波段来映射到RGB的红绿蓝三种颜色中\n",
    "# min,max设置显示波段值的颜色范围\n",
    "# gamma，即用于gamma矫正的一些参数，以矫正图像"
   ]
  },
  {
   "cell_type": "code",
   "execution_count": null,
   "metadata": {},
   "outputs": [],
   "source": [
    "image = ee.Image('LANDSAT/LC08/C01/T1_TOA/LC08_044034_20140318')\n",
    "ndwi = image.normalizedDifference(['B3', 'B5'])\n",
    "# 计算两个波段之间归一化差异计算方法为两个波段之差除以两个波段之和\n",
    "ndwiViz = {'min': 0.5, 'max': 1, 'palette': ['00FFFF', '0000FF']}\n",
    "Map.setCenter(-122.1899, 37.5010, 8)\n",
    "Map.addLayer(ndwi, ndwiViz, 'NDWI')\n",
    "# palette，用于以彩色显示单波段的图像，由CSS样式的颜色字符串列表来建立色带显示图像"
   ]
  },
  {
   "cell_type": "code",
   "execution_count": null,
   "metadata": {},
   "outputs": [],
   "source": [
    "ndwiMasked = ndwi.updateMask(ndwi.gte(0.4))\n",
    "Map.addLayer(ndwiMasked, ndwiViz, 'NDWI masked')\n",
    "# updateMask,将不符合要求的点在图像上设置成不透明度为0"
   ]
  },
  {
   "cell_type": "code",
   "execution_count": null,
   "metadata": {},
   "outputs": [],
   "source": [
    "imageRGB = image.visualize(**{'bands': ['B5',  'B4',  'B3'], 'max': 0.5})\n",
    "ndwiRGB = ndwiMasked.visualize(**{\n",
    "  'min': 0.5,\n",
    "  'max': 1,\n",
    "  'palette': ['00FFFF', '0000FF']\n",
    "})\n",
    "Map.addLayer(imageRGB, {}, \"imageRGB\")\n",
    "Map.addLayer(ndwiRGB, {}, \"ndwiRGB\")\n",
    "# visualize可视化图像的RGB和灰度值"
   ]
  },
  {
   "cell_type": "code",
   "execution_count": null,
   "metadata": {},
   "outputs": [],
   "source": [
    "mosaic = ee.ImageCollection([imageRGB, ndwiRGB]).mosaic()\n",
    "Map.addLayer(mosaic, {}, 'mosaic')\n",
    "# 先用ImageCollection建立影像集，然后用.mosaic()按集合中的影像顺序绘制图层\n",
    "# 实现一种镶嵌的效果"
   ]
  },
  {
   "cell_type": "code",
   "execution_count": null,
   "metadata": {},
   "outputs": [],
   "source": [
    "roi = ee.Geometry.Point([-122.4481, 37.7599]).buffer(20000)\n",
    "Map.addLayer(mosaic.clip(roi))\n",
    "# clip为裁剪图层"
   ]
  },
  {
   "cell_type": "code",
   "execution_count": null,
   "metadata": {},
   "outputs": [],
   "source": [
    "cover = ee.Image('MODIS/051/MCD12Q1/2012_01_01') \\\n",
    "  .select('Land_Cover_Type_1')\n",
    "\n",
    "igbpPalette = [\n",
    "  'aec3d4', # water\n",
    "  '152106', '225129', '369b47', '30eb5b', '387242', # forest\n",
    "  '6a2325', 'c3aa69', 'b76031', 'd9903d', '91af40',  # shrub, grass\n",
    "  '111149', # wetlands\n",
    "  'cdb33b', # croplands\n",
    "  'cc0013', # urban\n",
    "  '33280d', # crop mosaic\n",
    "  'd7cdcc', # snow and ice\n",
    "  'f7e084', # barren\n",
    "  '6f6f6f'  # tundra\n",
    "]\n",
    "\n",
    "Map.setCenter(-99.229, 40.413, 5)\n",
    "Map.addLayer(cover,\n",
    "             {'min': 0, 'max': 17, 'palette': igbpPalette},\n",
    "             'IGBP classification')"
   ]
  },
  {
   "cell_type": "code",
   "execution_count": null,
   "metadata": {},
   "outputs": [],
   "source": [
    "\n",
    "cover = ee.Image('MODIS/051/MCD12Q1/2012_01_01').select('Land_Cover_Type_1')\n",
    "\n",
    "# Define an SLD style of discrete intervals to apply to the image.\n",
    "sld_intervals = \\\n",
    "'<RasterSymbolizer>' + \\\n",
    " ' <ColorMap type=\"intervals\" extended=\"False\" >' + \\\n",
    "    '<ColorMapEntry color=\"#aec3d4\" quantity=\"0\" label=\"Water\"/>' + \\\n",
    "    '<ColorMapEntry color=\"#152106\" quantity=\"1\" label=\"Evergreen Needleleaf Forest\"/>' + \\\n",
    "    '<ColorMapEntry color=\"#225129\" quantity=\"2\" label=\"Evergreen Broadleaf Forest\"/>' + \\\n",
    "    '<ColorMapEntry color=\"#369b47\" quantity=\"3\" label=\"Deciduous Needleleaf Forest\"/>' + \\\n",
    "    '<ColorMapEntry color=\"#30eb5b\" quantity=\"4\" label=\"Deciduous Broadleaf Forest\"/>' + \\\n",
    "    '<ColorMapEntry color=\"#387242\" quantity=\"5\" label=\"Mixed Deciduous Forest\"/>' + \\\n",
    "    '<ColorMapEntry color=\"#6a2325\" quantity=\"6\" label=\"Closed Shrubland\"/>' + \\\n",
    "    '<ColorMapEntry color=\"#c3aa69\" quantity=\"7\" label=\"Open Shrubland\"/>' + \\\n",
    "    '<ColorMapEntry color=\"#b76031\" quantity=\"8\" label=\"Woody Savanna\"/>' + \\\n",
    "    '<ColorMapEntry color=\"#d9903d\" quantity=\"9\" label=\"Savanna\"/>' + \\\n",
    "    '<ColorMapEntry color=\"#91af40\" quantity=\"10\" label=\"Grassland\"/>' + \\\n",
    "    '<ColorMapEntry color=\"#111149\" quantity=\"11\" label=\"Permanent Wetland\"/>' + \\\n",
    "    '<ColorMapEntry color=\"#cdb33b\" quantity=\"12\" label=\"Cropland\"/>' + \\\n",
    "    '<ColorMapEntry color=\"#cc0013\" quantity=\"13\" label=\"Urban\"/>' + \\\n",
    "    '<ColorMapEntry color=\"#33280d\" quantity=\"14\" label=\"Crop, Natural Veg. Mosaic\"/>' + \\\n",
    "    '<ColorMapEntry color=\"#d7cdcc\" quantity=\"15\" label=\"Permanent Snow, Ice\"/>' + \\\n",
    "    '<ColorMapEntry color=\"#f7e084\" quantity=\"16\" label=\"Barren, Desert\"/>' + \\\n",
    "    '<ColorMapEntry color=\"#6f6f6f\" quantity=\"17\" label=\"Tundra\"/>' + \\\n",
    "  '</ColorMap>' + \\\n",
    "'</RasterSymbolizer>'\n",
    "Map.addLayer(cover.sldStyle(sld_intervals), {}, 'IGBP classification styled')\n"
   ]
  },
  {
   "cell_type": "code",
   "execution_count": null,
   "metadata": {},
   "outputs": [],
   "source": [
    "\n",
    "image = ee.Image('CGIAR/SRTM90_V4')\n",
    "\n",
    "sld_intervals = \\\n",
    "  '<RasterSymbolizer>' + \\\n",
    "    '<ColorMap type=\"intervals\" extended=\"False\" >' + \\\n",
    "      '<ColorMapEntry color=\"#0000ff\" quantity=\"0\" label=\"0\"/>' + \\\n",
    "      '<ColorMapEntry color=\"#00ff00\" quantity=\"100\" label=\"1-100\" />' + \\\n",
    "      '<ColorMapEntry color=\"#007f30\" quantity=\"200\" label=\"110-200\" />' + \\\n",
    "      '<ColorMapEntry color=\"#30b855\" quantity=\"300\" label=\"210-300\" />' + \\\n",
    "      '<ColorMapEntry color=\"#ff0000\" quantity=\"400\" label=\"310-400\" />' + \\\n",
    "      '<ColorMapEntry color=\"#ffff00\" quantity=\"1000\" label=\"410-1000\" />' + \\\n",
    "    '</ColorMap>' + \\\n",
    "  '</RasterSymbolizer>'\n",
    "\n",
    "sld_ramp = \\\n",
    "  '<RasterSymbolizer>' + \\\n",
    "    '<ColorMap type=\"ramp\" extended=\"False\" >' + \\\n",
    "      '<ColorMapEntry color=\"#0000ff\" quantity=\"0\" label=\"0\"/>' + \\\n",
    "      '<ColorMapEntry color=\"#00ff00\" quantity=\"100\" label=\"100\" />' + \\\n",
    "      '<ColorMapEntry color=\"#007f30\" quantity=\"200\" label=\"200\" />' + \\\n",
    "      '<ColorMapEntry color=\"#30b855\" quantity=\"300\" label=\"300\" />' + \\\n",
    "      '<ColorMapEntry color=\"#ff0000\" quantity=\"400\" label=\"400\" />' + \\\n",
    "      '<ColorMapEntry color=\"#ffff00\" quantity=\"500\" label=\"500\" />' + \\\n",
    "    '</ColorMap>' + \\\n",
    "  '</RasterSymbolizer>'\n",
    "\n",
    "Map.setCenter(-76.8054, 42.0289, 8)\n",
    "Map.addLayer(image.sldStyle(sld_intervals), {}, 'SLD intervals')\n",
    "Map.addLayer(image.sldStyle(sld_ramp), {}, 'SLD ramp')"
   ]
  },
  {
   "cell_type": "code",
   "execution_count": null,
   "metadata": {},
   "outputs": [],
   "source": [
    "image = ee.Image('LANDSAT/LC08/C01/T1/LC08_044034_20140318')\n",
    "\n",
    "template_sld = \\\n",
    "  '<RasterSymbolizer>' + \\\n",
    "    '<ContrastEnhancement><_enhance_/></ContrastEnhancement>' + \\\n",
    "    '<ChannelSelection>' + \\\n",
    "      '<RedChannel>' + \\\n",
    "        '<SourceChannelName>B5</SourceChannelName>' + \\\n",
    "      '</RedChannel>' + \\\n",
    "      '<GreenChannel>' + \\\n",
    "        '<SourceChannelName>B4</SourceChannelName>' + \\\n",
    "      '</GreenChannel>' + \\\n",
    "      '<BlueChannel>' + \\\n",
    "        '<SourceChannelName>B3</SourceChannelName>' + \\\n",
    "      '</BlueChannel>' + \\\n",
    "    '</ChannelSelection>' + \\\n",
    "  '</RasterSymbolizer>'\n",
    "\n",
    "equalize_sld = template_sld.replace('_enhance_', 'Histogram')\n",
    "normalize_sld = template_sld.replace('_enhance_', 'Normalize')\n",
    "\n",
    "Map.centerObject(image, 10)\n",
    "Map.addLayer(image, {'bands': ['B5',  'B4',  'B3'], 'min': 0, 'max': 15000}, 'Linear')\n",
    "Map.addLayer(image.sldStyle(equalize_sld), {}, 'Equalized')\n",
    "Map.addLayer(image.sldStyle(normalize_sld), {}, 'Normalized')\n"
   ]
  },
  {
   "cell_type": "code",
   "execution_count": null,
   "metadata": {},
   "outputs": [],
   "source": []
  }
 ],
 "metadata": {
  "kernelspec": {
   "display_name": "Python 3",
   "language": "python",
   "name": "python3"
  },
  "language_info": {
   "codemirror_mode": {
    "name": "ipython",
    "version": 3
   },
   "file_extension": ".py",
   "mimetype": "text/x-python",
   "name": "python",
   "nbconvert_exporter": "python",
   "pygments_lexer": "ipython3",
   "version": "3.8.3"
  }
 },
 "nbformat": 4,
 "nbformat_minor": 4
}
