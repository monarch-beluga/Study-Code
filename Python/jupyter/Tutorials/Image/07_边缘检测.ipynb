{
 "cells": [
  {
   "cell_type": "code",
   "execution_count": 1,
   "metadata": {},
   "outputs": [],
   "source": [
    "import geemap\n",
    "import ee"
   ]
  },
  {
   "cell_type": "code",
   "execution_count": 2,
   "metadata": {},
   "outputs": [
    {
     "data": {
      "application/vnd.jupyter.widget-view+json": {
       "model_id": "3d9c27097292446ca3b4f3961329b49b",
       "version_major": 2,
       "version_minor": 0
      },
      "text/plain": [
       "Map(center=[40, -100], controls=(WidgetControl(options=['position'], widget=HBox(children=(ToggleButton(value=…"
      ]
     },
     "metadata": {},
     "output_type": "display_data"
    }
   ],
   "source": [
    "Map = geemap.Map()\n",
    "Map"
   ]
  },
  {
   "cell_type": "code",
   "execution_count": null,
   "metadata": {},
   "outputs": [],
   "source": [
    "image = ee.Image('LANDSAT/LC08/C01/T1/LC08_044034_20140318').select('B8')\n",
    "canny = ee.Algorithms.CannyEdgeDetector(image=image, threshold=10, sigma=1)\n",
    "Map.setCenter(-122.054, 37.7295, 10)\n",
    "Map.addLayer(canny, {}, 'canny')"
   ]
  },
  {
   "cell_type": "code",
   "execution_count": null,
   "metadata": {},
   "outputs": [],
   "source": [
    "hough = ee.Algorithms.HoughTransform(canny, gridSize=256, \n",
    "                                     inputThreshold=600, \n",
    "                                     lineThreshold=100)\n",
    "Map.addLayer(hough, {}, 'hough')"
   ]
  },
  {
   "cell_type": "code",
   "execution_count": 3,
   "metadata": {},
   "outputs": [],
   "source": [
    "image = ee.Image('LANDSAT/LC08/C01/T1/LC08_044034_20140318').select('B8')\n",
    "Map.addLayer(image, {'max': 12000})\n",
    "\n",
    "fat = ee.Kernel.gaussian(\n",
    "    radius=3,\n",
    "    sigma=3,\n",
    "    units='pixels',\n",
    "    normalize=True,\n",
    "    magnitude=-1\n",
    ")\n",
    "\n",
    "skinny = ee.Kernel.gaussian(\n",
    "    radius=3,\n",
    "    sigma=1,\n",
    "    units='pixels',\n",
    "    normalize=True,\n",
    ")\n",
    "\n",
    "dog = fat.add(skinny)\n",
    "\n",
    "zeroXings = image.convolve(dog).zeroCrossing()\n",
    "Map.setCenter(-122.054, 37.7295, 10)\n",
    "Map.addLayer(zeroXings.updateMask(zeroXings), {\n",
    "             'palette': 'FF0000'}, 'zero crossings')"
   ]
  },
  {
   "cell_type": "code",
   "execution_count": 5,
   "metadata": {},
   "outputs": [],
   "source": [
    "Map.addLayer(zeroXings.updateMask(zeroXings), {\n",
    "             'palette': 'FF0000'}, 'zero crossings')"
   ]
  },
  {
   "cell_type": "code",
   "execution_count": null,
   "metadata": {},
   "outputs": [],
   "source": []
  }
 ],
 "metadata": {
  "kernelspec": {
   "display_name": "Python 3",
   "language": "python",
   "name": "python3"
  },
  "language_info": {
   "codemirror_mode": {
    "name": "ipython",
    "version": 3
   },
   "file_extension": ".py",
   "mimetype": "text/x-python",
   "name": "python",
   "nbconvert_exporter": "python",
   "pygments_lexer": "ipython3",
   "version": "3.8.3"
  },
  "varInspector": {
   "cols": {
    "lenName": 16,
    "lenType": 16,
    "lenVar": 40
   },
   "kernels_config": {
    "python": {
     "delete_cmd_postfix": "",
     "delete_cmd_prefix": "del ",
     "library": "var_list.py",
     "varRefreshCmd": "print(var_dic_list())"
    },
    "r": {
     "delete_cmd_postfix": ") ",
     "delete_cmd_prefix": "rm(",
     "library": "var_list.r",
     "varRefreshCmd": "cat(var_dic_list()) "
    }
   },
   "oldHeight": 80.76378,
   "position": {
    "height": "40px",
    "left": "451.406px",
    "right": "20px",
    "top": "249.993px",
    "width": "479.514px"
   },
   "types_to_exclude": [
    "module",
    "function",
    "builtin_function_or_method",
    "instance",
    "_Feature"
   ],
   "varInspector_section_display": "none",
   "window_display": true
  }
 },
 "nbformat": 4,
 "nbformat_minor": 4
}
