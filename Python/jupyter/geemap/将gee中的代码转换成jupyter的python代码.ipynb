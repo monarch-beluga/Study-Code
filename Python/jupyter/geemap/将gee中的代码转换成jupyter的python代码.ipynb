{
 "cells": [
  {
   "cell_type": "code",
   "execution_count": 1,
   "metadata": {
    "tags": []
   },
   "outputs": [],
   "source": [
    "import ee\n",
    "import geemap"
   ]
  },
  {
   "cell_type": "code",
   "execution_count": 2,
   "metadata": {
    "tags": []
   },
   "outputs": [],
   "source": [
    "# 用三引号引起来的Earth Engine JavaScript代码\n",
    "js_snippet = \"\"\"\n",
    "var days = 30\n",
    "var millis = ee.Number(days).multiply(1000*60*60*24)\n",
    "var maxDiffFilter = ee.Filter.maxDifference({\n",
    "  difference: millis,\n",
    "  leftField: 'system:time_start',\n",
    "  rightField: 'system:time_start'\n",
    "})\n",
    "var lessEqFilter = ee.Filter.lessThanOrEquals({\n",
    "  leftField: 'system:time_start',\n",
    "  rightField: 'system:time_start'\n",
    "})\n",
    "var greaterEqFilter = ee.Filter.greaterThanOrEquals({\n",
    "  leftField: 'system:time_start',\n",
    "  rightField: 'system:time_start'\n",
    "})\n",
    "\n",
    "var filter1 = ee.Filter.and(maxDiffFilter, lessEqFilter)\n",
    " \n",
    "var join1 = ee.Join.saveAll({\n",
    "  matchesKey: 'after',\n",
    "  ordering: 'system:time_start',\n",
    "  ascending: false})\n",
    "   \n",
    "var join1Result = join1.apply({\n",
    "  primary: filtered,\n",
    "  secondary: filtered,\n",
    "  condition: filter1\n",
    "})\n",
    "var filter2 = ee.Filter.and(maxDiffFilter, greaterEqFilter)\n",
    " \n",
    "var join2 = ee.Join.saveAll({\n",
    "  matchesKey: 'before',\n",
    "  ordering: 'system:time_start',\n",
    "  ascending: true})\n",
    "   \n",
    "var join2Result = join2.apply({\n",
    "  primary: join1Result,\n",
    "  secondary: join1Result,\n",
    "  condition: filter2\n",
    "})\n",
    "\n",
    "\"\"\""
   ]
  },
  {
   "cell_type": "code",
   "execution_count": 3,
   "metadata": {
    "tags": []
   },
   "outputs": [],
   "source": [
    "geemap.js_snippet_to_py(js_snippet, add_new_cell=True, import_ee=True, import_geemap=True, show_map=True)\n",
    "# 将gee代码转换成python代码并导入jupyter\n",
    "# add_new_cell:是否将转换后的Python添加到新单元格中\n",
    "# import_ee：是否导入ee库\n",
    "# import_geemap：是否导入geemap库\n",
    "# show_map：是否显示地图"
   ]
  },
  {
   "cell_type": "code",
   "execution_count": null,
   "metadata": {},
   "outputs": [],
   "source": [
    "import ee\n",
    "import geemap\n",
    "\n",
    "Map = geemap.Map()\n",
    "\n",
    "days = 30\n",
    "millis = ee.Number(days).multiply(1000*60*60*24)\n",
    "maxDiffFilter = ee.Filter.maxDifference({\n",
    "  'difference': millis,\n",
    "  'leftField': 'system:time_start',\n",
    "  'rightField': 'system:time_start'\n",
    "})\n",
    "lessEqFilter = ee.Filter.lessThanOrEquals({\n",
    "  'leftField': 'system:time_start',\n",
    "  'rightField': 'system:time_start'\n",
    "})\n",
    "greaterEqFilter = ee.Filter.greaterThanOrEquals({\n",
    "  'leftField': 'system:time_start',\n",
    "  'rightField': 'system:time_start'\n",
    "})\n",
    "\n",
    "filter1 = ee.Filter.And(maxDiffFilter, lessEqFilter)\n",
    "\n",
    "join1 = ee.Join.saveAll({\n",
    "  'matchesKey': 'after',\n",
    "  'ordering': 'system:time_start',\n",
    "  'ascending': False})\n",
    "\n",
    "join1Result = join1.apply({\n",
    "  'primary': filtered,\n",
    "  'secondary': filtered,\n",
    "  'condition': filter1\n",
    "})\n",
    "filter2 = ee.Filter.And(maxDiffFilter, greaterEqFilter)\n",
    "\n",
    "join2 = ee.Join.saveAll({\n",
    "  'matchesKey': 'before',\n",
    "  'ordering': 'system:time_start',\n",
    "  'ascending': True})\n",
    "\n",
    "join2Result = join2.apply({\n",
    "  'primary': join1Result,\n",
    "  'secondary': join1Result,\n",
    "  'condition': filter2\n",
    "})\n",
    "\n",
    "Map"
   ]
  },
  {
   "cell_type": "code",
   "execution_count": 6,
   "metadata": {},
   "outputs": [],
   "source": [
    "js_snippet = \"\"\"\n",
    "\n",
    "// Load an image.\n",
    "var image = ee.Image('LANDSAT/LC08/C01/T1_TOA/LC08_044034_20140318');\n",
    "\n",
    "// Create an NDWI image, define visualization parameters and display.\n",
    "var ndwi = image.normalizedDifference(['B3', 'B5']);\n",
    "var ndwiViz = {min: 0.5, max: 1, palette: ['00FFFF', '0000FF']};\n",
    "Map.addLayer(ndwi, ndwiViz, 'NDWI', false);\n",
    "\n",
    "\"\"\""
   ]
  },
  {
   "cell_type": "code",
   "execution_count": 7,
   "metadata": {},
   "outputs": [],
   "source": [
    "geemap.js_snippet_to_py(js_snippet)"
   ]
  },
  {
   "cell_type": "code",
   "execution_count": null,
   "metadata": {},
   "outputs": [],
   "source": [
    "import ee\n",
    "import geemap\n",
    "\n",
    "Map = geemap.Map()\n",
    "\n",
    "# Load an image.\n",
    "image = ee.Image('LANDSAT/LC08/C01/T1_TOA/LC08_044034_20140318')\n",
    "\n",
    "# Create an NDWI image, define visualization parameters and display.\n",
    "ndwi = image.normalizedDifference(['B3', 'B5'])\n",
    "ndwiViz = {'min': 0.5, 'max': 1, 'palette': ['00FFFF', '0000FF']}\n",
    "Map.addLayer(ndwi, ndwiViz, 'NDWI', False)\n",
    "Map\n"
   ]
  },
  {
   "cell_type": "code",
   "execution_count": null,
   "metadata": {},
   "outputs": [],
   "source": [
    "js_snippet = \"\"\"\n",
    "\n",
    "// Load 2012 MODIS land cover and select the IGBP classification.\n",
    "var cover = ee.Image('MODIS/051/MCD12Q1/2012_01_01')\n",
    "  .select('Land_Cover_Type_1');\n",
    "\n",
    "// Define a palette for the 18 distinct land cover classes.\n",
    "var igbpPalette = [\n",
    "  'aec3d4', // water\n",
    "  '152106', '225129', '369b47', '30eb5b', '387242', // forest\n",
    "  '6a2325', 'c3aa69', 'b76031', 'd9903d', '91af40',  // shrub, grass\n",
    "  '111149', // wetlands\n",
    "  'cdb33b', // croplands\n",
    "  'cc0013', // urban\n",
    "  '33280d', // crop mosaic\n",
    "  'd7cdcc', // snow and ice\n",
    "  'f7e084', // barren\n",
    "  '6f6f6f'  // tundra\n",
    "];\n",
    "\n",
    "// Specify the min and max labels and the color palette matching the labels.\n",
    "Map.setCenter(-99.229, 40.413, 5);\n",
    "Map.addLayer(cover,\n",
    "             {min: 0, max: 17, palette: igbpPalette},\n",
    "             'IGBP classification');\n",
    "\n",
    "\"\"\""
   ]
  },
  {
   "cell_type": "code",
   "execution_count": null,
   "metadata": {},
   "outputs": [],
   "source": [
    "geemap.js_snippet_to_py(js_snippet)"
   ]
  }
 ],
 "metadata": {
  "kernelspec": {
   "display_name": "Python 3 (ipykernel)",
   "language": "python",
   "name": "python3"
  },
  "language_info": {
   "codemirror_mode": {
    "name": "ipython",
    "version": 3
   },
   "file_extension": ".py",
   "mimetype": "text/x-python",
   "name": "python",
   "nbconvert_exporter": "python",
   "pygments_lexer": "ipython3",
   "version": "3.10.10"
  }
 },
 "nbformat": 4,
 "nbformat_minor": 4
}
