{
 "cells": [
  {
   "cell_type": "markdown",
   "metadata": {},
   "source": [
    "<a href=\"https://notebooks.gesis.org/binder/v2/gh/monarch-beluga/Study-Code/master?filepath=Python/jupyter-notebook/geemap/%E5%88%9B%E5%BB%BA%E5%88%86%E5%89%B2%E9%9D%A2%E6%9D%BF%E5%9B%BE%E5%92%8C%E5%8F%AF%E8%A7%86%E5%8C%96GEE%E6%95%B0%E6%8D%AE.ipynb\" target=\"_parent\">\n",
    "<img src=\"https://notebooks.gesis.org/binder/badge_logo.svg\" alt=\"launch binder\"/>\n",
    "</a>"
   ]
  },
  {
   "cell_type": "code",
   "execution_count": 1,
   "metadata": {
    "tags": []
   },
   "outputs": [],
   "source": [
    "import geemap"
   ]
  },
  {
   "cell_type": "code",
   "execution_count": 4,
   "metadata": {
    "tags": []
   },
   "outputs": [
    {
     "data": {
      "application/vnd.jupyter.widget-view+json": {
       "model_id": "a7bd7b152756403e9b35f234db5c810b",
       "version_major": 2,
       "version_minor": 0
      },
      "text/plain": [
       "Map(center=[20, 0], controls=(ZoomControl(options=['position', 'zoom_in_text', 'zoom_in_title', 'zoom_out_text…"
      ]
     },
     "metadata": {},
     "output_type": "display_data"
    }
   ],
   "source": [
    "Map = geemap.Map()\n",
    "Map.split_map() # 分割面板\n",
    "Map"
   ]
  },
  {
   "cell_type": "code",
   "execution_count": 5,
   "metadata": {},
   "outputs": [
    {
     "data": {
      "application/vnd.jupyter.widget-view+json": {
       "model_id": "a7bd7b152756403e9b35f234db5c810b",
       "version_major": 2,
       "version_minor": 0
      },
      "text/plain": [
       "Map(bottom=755.0, center=[19.642587534013032, -16.349727908258345], controls=(ZoomControl(options=['position',…"
      ]
     },
     "metadata": {},
     "output_type": "display_data"
    }
   ],
   "source": [
    "Map.split_map(left_layer=\"HYBRID\", right_layer='ROADMAP') # 分割面板，输入左右面板图层\n",
    "Map"
   ]
  },
  {
   "cell_type": "code",
   "execution_count": 8,
   "metadata": {},
   "outputs": [
    {
     "ename": "AttributeError",
     "evalue": "module 'geemap' has no attribute 'ee_basemaps'",
     "output_type": "error",
     "traceback": [
      "\u001b[1;31m---------------------------------------------------------------------------\u001b[0m",
      "\u001b[1;31mAttributeError\u001b[0m                            Traceback (most recent call last)",
      "Cell \u001b[1;32mIn[8], line 1\u001b[0m\n\u001b[1;32m----> 1\u001b[0m basemap \u001b[38;5;241m=\u001b[39m \u001b[43mgeemap\u001b[49m\u001b[38;5;241;43m.\u001b[39;49m\u001b[43mee_basemaps\u001b[49m\u001b[38;5;241m.\u001b[39mkeys() \u001b[38;5;66;03m#查看自带的图层名称\u001b[39;00m\n\u001b[0;32m      2\u001b[0m \u001b[38;5;28mprint\u001b[39m(basemap)\n",
      "\u001b[1;31mAttributeError\u001b[0m: module 'geemap' has no attribute 'ee_basemaps'"
     ]
    }
   ],
   "source": [
    "basemap = geemap.basemaps.keys() #查看自带的图层名称\n",
    "print(basemap)"
   ]
  },
  {
   "cell_type": "code",
   "execution_count": null,
   "metadata": {},
   "outputs": [],
   "source": [
    "Map = geemap.Map()\n",
    "Map.split_map(left_layer=\"NLCD 2019 CONUS Land Cover\", right_layer='NLCD 2004 CONUS Land Cover')\n",
    "Map"
   ]
  },
  {
   "cell_type": "code",
   "execution_count": null,
   "metadata": {},
   "outputs": [],
   "source": [
    "import ee # 导入gee里的地图"
   ]
  },
  {
   "cell_type": "code",
   "execution_count": null,
   "metadata": {},
   "outputs": [],
   "source": [
    "image = ee.ImageCollection(\"MODIS/006/MOD13Q1\") # 查看地图id\n",
    "print(image.aggregate_array('system:id').getInfo())"
   ]
  },
  {
   "cell_type": "code",
   "execution_count": null,
   "metadata": {},
   "outputs": [],
   "source": [
    "MODIS_2017 = ee.Image('MODIS/006/MOD13Q1/2017_01_01').select('NDVI')#导入地图和图层\n",
    "MODIS_2018 = ee.Image('MODIS/006/MOD13Q1/2018_01_01').select('NDVI')\n",
    "\n",
    "left_layer = geemap.ee_tile_layer(MODIS_2017, {}, 'MODIS_2017')\n",
    "right_layer = geemap.ee_tile_layer(MODIS_2018, {}, 'MODIS_2018')\n",
    "\n",
    "Map = geemap.Map()\n",
    "Map.split_map(left_layer, right_layer)\n",
    "Map"
   ]
  },
  {
   "cell_type": "code",
   "execution_count": null,
   "metadata": {},
   "outputs": [],
   "source": []
  }
 ],
 "metadata": {
  "kernelspec": {
   "display_name": "Python 3 (ipykernel)",
   "language": "python",
   "name": "python3"
  },
  "language_info": {
   "codemirror_mode": {
    "name": "ipython",
    "version": 3
   },
   "file_extension": ".py",
   "mimetype": "text/x-python",
   "name": "python",
   "nbconvert_exporter": "python",
   "pygments_lexer": "ipython3",
   "version": "3.10.10"
  }
 },
 "nbformat": 4,
 "nbformat_minor": 4
}
