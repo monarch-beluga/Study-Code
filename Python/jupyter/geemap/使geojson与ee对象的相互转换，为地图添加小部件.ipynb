{
 "cells": [
  {
   "cell_type": "code",
   "execution_count": null,
   "metadata": {},
   "outputs": [],
   "source": [
    "import geemap\n",
    "import json\n",
    "import os\n",
    "import requests\n",
    "from geemap import geojson_to_ee, ee_to_geojson\n",
    "from ipyleaflet import GeoJSON"
   ]
  },
  {
   "cell_type": "code",
   "execution_count": null,
   "metadata": {
    "scrolled": false
   },
   "outputs": [],
   "source": [
    "Map = geemap.Map()\n",
    "Map"
   ]
  },
  {
   "cell_type": "code",
   "execution_count": null,
   "metadata": {},
   "outputs": [],
   "source": [
    "# 读取json数据\n",
    "file_path = os.path.abspath('../geemap_data/us-states.json')\n",
    "\n",
    "if not os.path.exists(file_path):\n",
    "    url = 'https://github.com/giswqs/geemap/raw/master/examples/data/us-states.json'\n",
    "    r = requests.get(url)\n",
    "    with open(file_path, 'w') as f:\n",
    "        f.write(r.content.decode(\"utf-8\"))        \n",
    "\n",
    "with open(file_path) as f:\n",
    "    json_data = json.load(f)"
   ]
  },
  {
   "cell_type": "code",
   "execution_count": null,
   "metadata": {},
   "outputs": [],
   "source": [
    "json_layer = GeoJSON(data=json_data, name='US States JSON', hover_style={'fillColor': 'red' , 'fillOpacity': 0.5})\n",
    "# 用法：https://ipyleaflet.readthedocs.io/en/latest/api_reference/geo_json.html?highlight=ipyleaflet%20geojson\n",
    "# 将数据转换为Geojson图层，data为数据，name为图层名称,hover_style为图层属性,fillColor为填色，fillOpacity为透明度\n",
    "Map.add_layer(json_layer)"
   ]
  },
  {
   "cell_type": "code",
   "execution_count": null,
   "metadata": {},
   "outputs": [],
   "source": [
    "ee_data = geojson_to_ee(json_data) # 将geojson文件或字典转换成ee图层\n",
    "Map.addLayer(ee_data, {}, \"US States EE\")"
   ]
  },
  {
   "cell_type": "code",
   "execution_count": null,
   "metadata": {},
   "outputs": [],
   "source": [
    "json_data_2 = ee_to_geojson(ee_data) # 将ee图层转换成geojson图层\n",
    "json_layer_2 = GeoJSON(data=json_data_2, name='US States EE JSON', hover_style={'fillColor': 'red' , 'fillOpacity': 0.5})\n",
    "Map.add_layer(json_layer_2)"
   ]
  },
  {
   "cell_type": "code",
   "execution_count": null,
   "metadata": {},
   "outputs": [],
   "source": [
    "file_path = os.path.abspath('../geemap_data/countries.json')\n",
    "\n",
    "if not os.path.exists(file_path):\n",
    "    url = 'https://github.com/giswqs/geemap/raw/master/examples/data/countries.json'\n",
    "    r = requests.get(url)\n",
    "    with open(file_path, 'w') as f:\n",
    "        f.write(r.content.decode(\"utf-8\"))        \n",
    "\n",
    "with open(file_path) as f:\n",
    "    json_data1 = json.load(f)"
   ]
  },
  {
   "cell_type": "code",
   "execution_count": null,
   "metadata": {},
   "outputs": [],
   "source": [
    "json_layer1 = GeoJSON(data=json_data1, name='Counties', hover_style={'fillColor': 'red' , 'fillOpacity': 0.5})\n",
    "Map.add_layer(json_layer1)"
   ]
  },
  {
   "cell_type": "code",
   "execution_count": null,
   "metadata": {},
   "outputs": [],
   "source": [
    "# 为Map地图添加小控件\n",
    "from ipywidgets import Text, HTML\n",
    "from ipyleaflet import WidgetControl, GeoJSON \n",
    "\n",
    "html1 = HTML('''\n",
    "    <h5>Country</h5>\n",
    "    Hover over a country\n",
    "''') # 小控件初始界面，HTML涉及到HTML文本编辑语言\n",
    "html1.layout.margin = '0px 20px 20px 20px' # 小控件界面位置,四个参数表示html1距窗口边界的距离\n",
    "control1 = WidgetControl(widget=html1, position='bottomright') # 创建小控件\n",
    "# widget为控件内容参数，position为控件位置\n",
    "Map.add_control(control1) # 添加小部件到地图\n",
    "\n",
    "def update_html(feature, **kwargs): # 定义函数，功能是使用小部件\n",
    "    html1.value = '''\n",
    "        <h5>Country code: <b>{}</b></h5>\n",
    "        Country name: {}\n",
    "    '''.format(feature['id'], feature['properties']['name'])\n",
    "    # 显示feature的id和地区名称\n",
    "\n",
    "json_layer.on_hover(update_html) \n",
    "# on_hover为悬停在geojson图层时启用函数update_html，即使用小部件，这里为json_layer图层使用小部件函数\n",
    "json_layer_2.on_hover(update_html)\n",
    "json_layer1.on_hover(update_html)"
   ]
  },
  {
   "cell_type": "code",
   "execution_count": null,
   "metadata": {},
   "outputs": [],
   "source": []
  }
 ],
 "metadata": {
  "kernelspec": {
   "display_name": "Python 3",
   "language": "python",
   "name": "python3"
  },
  "language_info": {
   "codemirror_mode": {
    "name": "ipython",
    "version": 3
   },
   "file_extension": ".py",
   "mimetype": "text/x-python",
   "name": "python",
   "nbconvert_exporter": "python",
   "pygments_lexer": "ipython3",
   "version": "3.8.3"
  }
 },
 "nbformat": 4,
 "nbformat_minor": 4
}
