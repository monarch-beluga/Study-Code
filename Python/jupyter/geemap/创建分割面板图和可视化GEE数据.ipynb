{
 "cells":[
  {
   "cell_type":"markdown",
   "metadata":{
    "collapsed":false
   },
   "source":[
    "<a href=\"https://notebooks.gesis.org/binder/v2/gh/monarch-beluga/Study-Code/master?filepath=Python/jupyter-notebook/geemap/%E5%88%9B%E5%BB%BA%E5%88%86%E5%89%B2%E9%9D%A2%E6%9D%BF%E5%9B%BE%E5%92%8C%E5%8F%AF%E8%A7%86%E5%8C%96GEE%E6%95%B0%E6%8D%AE.ipynb\" target=\"_parent\">\n",
    "<img src=\"https://notebooks.gesis.org/binder/badge_logo.svg\" alt=\"launch binder\"/>\n",
    "</a>"
   ]
  },
  {
   "cell_type":"code",
   "execution_count":null,
   "metadata":{},
   "outputs":[],
   "source":[
    "import geemap"
   ]
  },
  {
   "cell_type":"code",
   "execution_count":null,
   "metadata":{},
   "outputs":[],
   "source":[
    "Map = geemap.Map()\n",
    "Map.split_map() # \u5206\u5272\u9762\u677f\n",
    "Map"
   ]
  },
  {
   "cell_type":"code",
   "execution_count":null,
   "metadata":{},
   "outputs":[],
   "source":[
    "Map = geemap.Map()\n",
    "Map.split_map(left_layer=\"HYBRID\", right_layer='ROADMAP') # \u5206\u5272\u9762\u677f\uff0c\u8f93\u5165\u5de6\u53f3\u9762\u677f\u56fe\u5c42\n",
    "Map"
   ]
  },
  {
   "cell_type":"code",
   "execution_count":null,
   "metadata":{},
   "outputs":[],
   "source":[
    "basemap = geemap.ee_basemaps.keys() #\u67e5\u770b\u81ea\u5e26\u7684\u56fe\u5c42\u540d\u79f0\n",
    "print(basemap)"
   ]
  },
  {
   "cell_type":"code",
   "execution_count":null,
   "metadata":{},
   "outputs":[],
   "source":[
    "Map = geemap.Map()\n",
    "Map.split_map(left_layer=\"NLCD 2016 CONUS Land Cover\", right_layer='NLCD 2001 CONUS Land Cover')\n",
    "Map"
   ]
  },
  {
   "cell_type":"code",
   "execution_count":null,
   "metadata":{},
   "outputs":[],
   "source":[
    "import ee # \u5bfc\u5165gee\u91cc\u7684\u5730\u56fe"
   ]
  },
  {
   "cell_type":"code",
   "execution_count":null,
   "metadata":{},
   "outputs":[],
   "source":[
    "image = ee.ImageCollection(\"MODIS/006/MOD13Q1\") # \u67e5\u770b\u5730\u56feid\n",
    "print(image.aggregate_array('system:id').getInfo())"
   ]
  },
  {
   "cell_type":"code",
   "execution_count":null,
   "metadata":{},
   "outputs":[],
   "source":[
    "MODIS_2017 = ee.Image('MODIS/006/MOD13Q1/2017_01_01').select('NDVI')#\u5bfc\u5165\u5730\u56fe\u548c\u56fe\u5c42\n",
    "MODIS_2018 = ee.Image('MODIS/006/MOD13Q1/2018_01_01').select('NDVI')\n",
    "\n",
    "left_layer = geemap.ee_tile_layer(MODIS_2017, {}, 'MODIS_2017')\n",
    "right_layer = geemap.ee_tile_layer(MODIS_2018, {}, 'MODIS_2018')\n",
    "\n",
    "Map = geemap.Map()\n",
    "Map.split_map(left_layer, right_layer)\n",
    "Map"
   ]
  },
  {
   "cell_type":"code",
   "execution_count":null,
   "metadata":{},
   "outputs":[],
   "source":[]
  }
 ],
 "metadata":{
  "kernelspec":{
   "display_name":"Python 3",
   "language":"python",
   "name":"python3"
  },
  "language_info":{
   "codemirror_mode":{
    "name":"ipython",
    "version":3
   },
   "file_extension":".py",
   "mimetype":"text/x-python",
   "name":"python",
   "nbconvert_exporter":"python",
   "pygments_lexer":"ipython3",
   "version":"3.8.3"
  }
 },
 "nbformat":4,
 "nbformat_minor":4
}