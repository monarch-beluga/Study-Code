{
 "cells": [
  {
   "cell_type": "code",
   "execution_count": 1,
   "id": "b1ba3b9d",
   "metadata": {},
   "outputs": [],
   "source": [
    "import geemap\n",
    "import ee\n",
    "import os\n",
    "import pandas as pd"
   ]
  },
  {
   "cell_type": "code",
   "execution_count": 2,
   "id": "1faf7153",
   "metadata": {},
   "outputs": [
    {
     "data": {
      "application/vnd.jupyter.widget-view+json": {
       "model_id": "e9c702bb9e274e6298b155f1a7ee2ff3",
       "version_major": 2,
       "version_minor": 0
      },
      "text/plain": [
       "Map(center=[20, 0], controls=(WidgetControl(options=['position', 'transparent_bg'], widget=HBox(children=(Togg…"
      ]
     },
     "metadata": {},
     "output_type": "display_data"
    }
   ],
   "source": [
    "Map = geemap.Map()\n",
    "Map"
   ]
  },
  {
   "cell_type": "code",
   "execution_count": 3,
   "id": "97e56268",
   "metadata": {},
   "outputs": [],
   "source": [
    "os.chdir(r'E:/Work/Sample_points/')\n",
    "roi_path = r'latitude.xls'\n",
    "roi_df = pd.read_excel(roi_path)"
   ]
  },
  {
   "cell_type": "code",
   "execution_count": 4,
   "id": "4796404d",
   "metadata": {},
   "outputs": [],
   "source": [
    "points = geemap.df_to_ee(roi_df)\n",
    "Map.addLayer(points, {}, 'points')"
   ]
  },
  {
   "cell_type": "code",
   "execution_count": 5,
   "id": "2139ae96",
   "metadata": {},
   "outputs": [],
   "source": [
    "def sample_points_to_df(img, ps, col_names=None):\n",
    "    ps_data = img.sampleRegions(ps, \n",
    "                                geometries=True, \n",
    "                                scale=img.projection().nominalScale())\n",
    "    values_list = [f['properties'] for f in ps_data.getInfo()[\"features\"]]\n",
    "    if col_names == None:\n",
    "        values_df = pd.DataFrame(values_list)\n",
    "    else:\n",
    "        values_df = pd.DataFrame(values_list)[col_names]\n",
    "    return values_df"
   ]
  },
  {
   "cell_type": "code",
   "execution_count": null,
   "id": "a253f767",
   "metadata": {},
   "outputs": [],
   "source": []
  },
  {
   "cell_type": "code",
   "execution_count": null,
   "id": "12a923b3",
   "metadata": {
    "scrolled": true
   },
   "outputs": [],
   "source": [
    "images = ee.ImageCollection(\"NASA/GLDAS/V021/NOAH/G025/T3H\")\n",
    "columns = [\"ID\", \"longitude\", \"latitude\"] + images.first().bandNames().getInfo()\n",
    "for year in [2019, 2021]:\n",
    "    image = images.filterDate(str(year), str(year+1)).mean()\n",
    "    \n",
    "    df = sample_points_to_df(image, points, columns)\n",
    "    \n",
    "    df.to_csv(f'updata_GLDAS_{year}.csv', index=False, header=True)\n",
    "    print(f'updata_GLDAS_{year}.csv output succeeded!!')"
   ]
  },
  {
   "cell_type": "code",
   "execution_count": null,
   "id": "f2c914e5",
   "metadata": {
    "scrolled": true
   },
   "outputs": [],
   "source": [
    "images = ee.ImageCollection(\"IDAHO_EPSCOR/TERRACLIMATE\")\n",
    "columns = [\"ID\", \"longitude\", \"latitude\"] + images.first().bandNames().getInfo()\n",
    "for year in [2019, 2021]:\n",
    "    images_date = images.filterDate(str(year), str(year+1))\n",
    "    image = images_date.mean()\n",
    "    prcp = images_date.select('pr').sum()\n",
    "    \n",
    "    df = sample_points_to_df(image, points, columns)\n",
    "    df_pr = sample_points_to_df(prcp, points)\n",
    "    \n",
    "    df['pr'] = df_pr['pr']\n",
    "    df.to_csv(f'updata_IDAHO_EPSCOR_{year}.csv', index=False, header=True)\n",
    "    print(f'updata_IDAHO_EPSCOR_{year}.csv output succeeded!!')"
   ]
  },
  {
   "cell_type": "code",
   "execution_count": 8,
   "id": "2e36a13b",
   "metadata": {
    "scrolled": true
   },
   "outputs": [
    {
     "name": "stdout",
     "output_type": "stream",
     "text": [
      "updata_ERA5_2021.csv output succeeded!!\n"
     ]
    }
   ],
   "source": [
    "images = ee.ImageCollection(\"ECMWF/ERA5_LAND/HOURLY\")\n",
    "columns = [\"ID\", \"longitude\", \"latitude\"] + images.first().bandNames().getInfo()\n",
    "for year in [2021]:\n",
    "    images_date = images.filterDate(str(year), str(year+1))\n",
    "    image = images_date.mean()\n",
    "    prcp = images_date.select('total_precipitation').sum()\n",
    "    \n",
    "    df = sample_points_to_df(image, points, columns)\n",
    "    df_pr = sample_points_to_df(prcp, points)\n",
    "    \n",
    "    df['total_precipitation'] = df_pr['total_precipitation']\n",
    "    df.to_csv(f'updata_ERA5_{year}.csv', index=False, header=True)\n",
    "    print(f'updata_ERA5_{year}.csv output succeeded!!')"
   ]
  },
  {
   "cell_type": "code",
   "execution_count": null,
   "id": "b85c1a36",
   "metadata": {},
   "outputs": [],
   "source": []
  }
 ],
 "metadata": {
  "kernelspec": {
   "display_name": "Python 3 (ipykernel)",
   "language": "python",
   "name": "python3"
  },
  "language_info": {
   "codemirror_mode": {
    "name": "ipython",
    "version": 3
   },
   "file_extension": ".py",
   "mimetype": "text/x-python",
   "name": "python",
   "nbconvert_exporter": "python",
   "pygments_lexer": "ipython3",
   "version": "3.10.10"
  }
 },
 "nbformat": 4,
 "nbformat_minor": 5
}
