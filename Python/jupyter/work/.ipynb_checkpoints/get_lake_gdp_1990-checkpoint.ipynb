{
 "cells": [
  {
   "cell_type": "code",
   "execution_count": 1,
   "id": "e6de42ef-6fef-46e7-934c-076488140e95",
   "metadata": {
    "execution": {
     "iopub.execute_input": "2024-06-20T04:41:46.992681Z",
     "iopub.status.busy": "2024-06-20T04:41:46.992681Z",
     "iopub.status.idle": "2024-06-20T04:41:50.754131Z",
     "shell.execute_reply": "2024-06-20T04:41:50.754131Z",
     "shell.execute_reply.started": "2024-06-20T04:41:46.992681Z"
    }
   },
   "outputs": [
    {
     "data": {
      "application/vnd.jupyter.widget-view+json": {
       "model_id": "0dad837400544a408b4294356325ec2a",
       "version_major": 2,
       "version_minor": 0
      },
      "text/plain": [
       "Map(center=[20, 0], controls=(WidgetControl(options=['position', 'transparent_bg'], widget=HBox(children=(Togg…"
      ]
     },
     "execution_count": 1,
     "metadata": {},
     "output_type": "execute_result"
    }
   ],
   "source": [
    "import geemap\n",
    "import ee\n",
    "\n",
    "Map = geemap.Map()\n",
    "Map"
   ]
  },
  {
   "cell_type": "code",
   "execution_count": 2,
   "id": "8f8283ee-ff26-445c-89be-8cf132a76807",
   "metadata": {
    "execution": {
     "iopub.execute_input": "2024-06-20T04:43:25.721158Z",
     "iopub.status.busy": "2024-06-20T04:43:25.721158Z",
     "iopub.status.idle": "2024-06-20T04:43:25.727853Z",
     "shell.execute_reply": "2024-06-20T04:43:25.726576Z",
     "shell.execute_reply.started": "2024-06-20T04:43:25.721158Z"
    }
   },
   "outputs": [],
   "source": [
    "import os\n",
    "\n",
    "path = r'D:\\Work\\LakeAreaChanges'\n",
    "os.chdir(path)"
   ]
  },
  {
   "cell_type": "code",
   "execution_count": 20,
   "id": "4a83bc7c-31d0-4811-95df-743a35c771c6",
   "metadata": {
    "execution": {
     "iopub.execute_input": "2024-06-20T05:17:51.424791Z",
     "iopub.status.busy": "2024-06-20T05:17:51.424791Z",
     "iopub.status.idle": "2024-06-20T05:18:51.868927Z",
     "shell.execute_reply": "2024-06-20T05:18:51.868424Z",
     "shell.execute_reply.started": "2024-06-20T05:17:51.424791Z"
    }
   },
   "outputs": [
    {
     "data": {
      "text/html": [
       "<pre>&lt;ee.dictionary.Dictionary object at 0x000001F001197F40&gt;</pre>"
      ],
      "text/plain": [
       "<ee.dictionary.Dictionary at 0x1f001197f40>"
      ]
     },
     "execution_count": 20,
     "metadata": {},
     "output_type": "execute_result"
    }
   ],
   "source": [
    "year = 1990\n",
    "lakes = ['太湖', '梁子湖', '洞庭湖', '洪泽湖', '鄱阳湖']\n",
    "lake = lakes[0]\n",
    "shp_file = f\"inter_lake/{lake}_{year}.shp\"\n",
    "shp = geemap.shp_to_ee(shp_file).buffer(10000)\n"
   ]
  },
  {
   "cell_type": "code",
   "execution_count": 21,
   "id": "801ffe70-dd74-47f9-949a-856a8a161bc5",
   "metadata": {
    "execution": {
     "iopub.execute_input": "2024-06-20T05:20:42.489948Z",
     "iopub.status.busy": "2024-06-20T05:20:42.489265Z",
     "iopub.status.idle": "2024-06-20T05:21:39.387204Z",
     "shell.execute_reply": "2024-06-20T05:21:39.386669Z",
     "shell.execute_reply.started": "2024-06-20T05:20:42.489948Z"
    }
   },
   "outputs": [
    {
     "data": {
      "text/html": [
       "<pre>&lt;ee.dictionary.Dictionary object at 0x000001F001196A70&gt;</pre>"
      ],
      "text/plain": [
       "<ee.dictionary.Dictionary at 0x1f001196a70>"
      ]
     },
     "execution_count": 21,
     "metadata": {},
     "output_type": "execute_result"
    }
   ],
   "source": [
    "gdp = ee.Image(\"projects/sat-io/open-datasets/GRIDDED_HDI_GDP/GDP_PPP_1990_2015_5arcmin_v2\").select('b1')\n",
    "gdp.reduceRegion(ee.Reducer.mean(), shp.geometry(), scale=10000, crs='epsg:3857')"
   ]
  },
  {
   "cell_type": "code",
   "execution_count": 18,
   "id": "cd78ef66-e091-48bf-84dc-786382509434",
   "metadata": {
    "execution": {
     "iopub.execute_input": "2024-06-20T05:17:00.480921Z",
     "iopub.status.busy": "2024-06-20T05:17:00.480921Z",
     "iopub.status.idle": "2024-06-20T05:17:00.498440Z",
     "shell.execute_reply": "2024-06-20T05:17:00.496936Z",
     "shell.execute_reply.started": "2024-06-20T05:17:00.480921Z"
    }
   },
   "outputs": [
    {
     "data": {
      "text/plain": [
       "910"
      ]
     },
     "execution_count": 18,
     "metadata": {},
     "output_type": "execute_result"
    }
   ],
   "source": [
    "gdp = ee.Image(\"projects/sat-io/open-datasets/GRIDDED_HDI_GDP/GDP_PPP_30arcsec_v3\").select('b3')\n",
    "gdp.reduceRegion(ee.Reducer.mean(), shp.geometry(), scale=1000, crs='epsg:3857')"
   ]
  },
  {
   "cell_type": "code",
   "execution_count": 14,
   "id": "0c6176f1-0ea7-495e-aab7-ccfe1cd869b3",
   "metadata": {
    "execution": {
     "iopub.execute_input": "2024-06-20T05:15:00.199359Z",
     "iopub.status.busy": "2024-06-20T05:15:00.198274Z",
     "iopub.status.idle": "2024-06-20T05:15:00.211027Z",
     "shell.execute_reply": "2024-06-20T05:15:00.210585Z",
     "shell.execute_reply.started": "2024-06-20T05:15:00.199359Z"
    }
   },
   "outputs": [
    {
     "data": {
      "text/plain": [
       "315"
      ]
     },
     "execution_count": 14,
     "metadata": {},
     "output_type": "execute_result"
    }
   ],
   "source": [
    "45 * 7"
   ]
  },
  {
   "cell_type": "code",
   "execution_count": null,
   "id": "8c854a5c-905b-48be-afb9-5ccf89152f46",
   "metadata": {},
   "outputs": [],
   "source": []
  }
 ],
 "metadata": {
  "kernelspec": {
   "display_name": "Python 3 (ipykernel)",
   "language": "python",
   "name": "python3"
  },
  "language_info": {
   "codemirror_mode": {
    "name": "ipython",
    "version": 3
   },
   "file_extension": ".py",
   "mimetype": "text/x-python",
   "name": "python",
   "nbconvert_exporter": "python",
   "pygments_lexer": "ipython3",
   "version": "3.10.10"
  }
 },
 "nbformat": 4,
 "nbformat_minor": 5
}
