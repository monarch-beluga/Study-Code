{
 "cells": [
  {
   "cell_type": "code",
   "execution_count": 1,
   "metadata": {},
   "outputs": [],
   "source": [
    "import ee,geemap\n",
    "import numpy as np\n",
    "Map = geemap.Map()\n",
    "Map.add_basemap()\n",
    "sh = ee.Geometry.Rectangle([70, 0, 138, 55], None, False)"
   ]
  },
  {
   "cell_type": "code",
   "execution_count": 2,
   "metadata": {},
   "outputs": [
    {
     "data": {
      "text/html": [
       "\n",
       "            <style>\n",
       "                .geemap-dark {\n",
       "                    --jp-widgets-color: white;\n",
       "                    --jp-widgets-label-color: white;\n",
       "                    --jp-ui-font-color1: white;\n",
       "                    --jp-layout-color2: #454545;\n",
       "                    background-color: #383838;\n",
       "                }\n",
       "\n",
       "                .geemap-dark .jupyter-button {\n",
       "                    --jp-layout-color3: #383838;\n",
       "                }\n",
       "\n",
       "                .geemap-colab {\n",
       "                    background-color: var(--colab-primary-surface-color, white);\n",
       "                }\n",
       "\n",
       "                .geemap-colab .jupyter-button {\n",
       "                    --jp-layout-color3: var(--colab-primary-surface-color, white);\n",
       "                }\n",
       "            </style>\n",
       "            "
      ],
      "text/plain": [
       "<IPython.core.display.HTML object>"
      ]
     },
     "metadata": {},
     "output_type": "display_data"
    }
   ],
   "source": [
    "#树木覆盖度\n",
    "vc = ee.Image('projects/ee-lmike18770616551/assets/vc_mean_ee')\n",
    "# vc.projection().nominalScale()"
   ]
  },
  {
   "cell_type": "code",
   "execution_count": 3,
   "metadata": {},
   "outputs": [
    {
     "data": {
      "text/html": [
       "\n",
       "            <style>\n",
       "                .geemap-dark {\n",
       "                    --jp-widgets-color: white;\n",
       "                    --jp-widgets-label-color: white;\n",
       "                    --jp-ui-font-color1: white;\n",
       "                    --jp-layout-color2: #454545;\n",
       "                    background-color: #383838;\n",
       "                }\n",
       "\n",
       "                .geemap-dark .jupyter-button {\n",
       "                    --jp-layout-color3: #383838;\n",
       "                }\n",
       "\n",
       "                .geemap-colab {\n",
       "                    background-color: var(--colab-primary-surface-color, white);\n",
       "                }\n",
       "\n",
       "                .geemap-colab .jupyter-button {\n",
       "                    --jp-layout-color3: var(--colab-primary-surface-color, white);\n",
       "                }\n",
       "            </style>\n",
       "            "
      ],
      "text/plain": [
       "<IPython.core.display.HTML object>"
      ]
     },
     "metadata": {},
     "output_type": "display_data"
    }
   ],
   "source": [
    "#干燥指数\n",
    "pet = ee.ImageCollection(\"IDAHO_EPSCOR/TERRACLIMATE\").filterDate(ee.Date.fromYMD(2001,1,1),ee.Date.fromYMD(2024,1,1)).select('pet').sum().multiply(0.1).multiply(1/23)\n",
    "pr = ee.ImageCollection(\"IDAHO_EPSCOR/TERRACLIMATE\").filterDate(ee.Date.fromYMD(2001,1,1),ee.Date.fromYMD(2024,1,1)).select('pr').sum().multiply(1/23)\n",
    "dry = pet.multiply(pr.pow(-1))\n",
    "# geemap.download_ee_image(dry,r'D:\\work\\gee_\\gee_download\\yuan\\test\\dry.tif',scale= 4638.3,crs= 'EPSG:4326',region=sh)"
   ]
  },
  {
   "cell_type": "code",
   "execution_count": 4,
   "metadata": {},
   "outputs": [
    {
     "data": {
      "text/html": [
       "\n",
       "            <style>\n",
       "                .geemap-dark {\n",
       "                    --jp-widgets-color: white;\n",
       "                    --jp-widgets-label-color: white;\n",
       "                    --jp-ui-font-color1: white;\n",
       "                    --jp-layout-color2: #454545;\n",
       "                    background-color: #383838;\n",
       "                }\n",
       "\n",
       "                .geemap-dark .jupyter-button {\n",
       "                    --jp-layout-color3: #383838;\n",
       "                }\n",
       "\n",
       "                .geemap-colab {\n",
       "                    background-color: var(--colab-primary-surface-color, white);\n",
       "                }\n",
       "\n",
       "                .geemap-colab .jupyter-button {\n",
       "                    --jp-layout-color3: var(--colab-primary-surface-color, white);\n",
       "                }\n",
       "            </style>\n",
       "            "
      ],
      "text/plain": [
       "<IPython.core.display.HTML object>"
      ]
     },
     "metadata": {},
     "output_type": "display_data"
    }
   ],
   "source": [
    "#多轴图\n",
    "p_dry = ee.Image(40)\n",
    "p_dry = p_dry.add(dry.lt(0.5).multiply(-10))\n",
    "p_dry = p_dry.add(dry.lt(1).multiply(-10))\n",
    "p_dry = p_dry.add(dry.lt(2).multiply(-10))\n",
    "p_dry = p_dry.multiply(dry.lt(4))\n",
    "\n",
    "p_tc = ee.Image(4)\n",
    "p_tc = p_tc.add(vc.lt(0.25).multiply(-1))\n",
    "p_tc = p_tc.add(vc.lt(0.5).multiply(-1))\n",
    "p_tc = p_tc.add(vc.lt(0.75).multiply(-1))\n",
    "p_tc = p_tc.multiply(vc.lt(1))\n",
    "\n",
    "p_tc = p_tc.multiply(p_dry.gt(0.5))\n",
    "p_dry = p_dry.multiply(p_tc.gt(0.5))\n",
    "p_arr = p_dry.add(p_tc)\n",
    "# geemap.download_ee_image(p_arr,r'D:\\work\\gee_\\gee_download\\yuan\\test\\p_arr.tif',scale= 4638.3,crs= 'EPSG:4326',region=sh)"
   ]
  },
  {
   "cell_type": "code",
   "execution_count": 5,
   "metadata": {
    "scrolled": true
   },
   "outputs": [
    {
     "data": {
      "text/html": [
       "\n",
       "            <style>\n",
       "                .geemap-dark {\n",
       "                    --jp-widgets-color: white;\n",
       "                    --jp-widgets-label-color: white;\n",
       "                    --jp-ui-font-color1: white;\n",
       "                    --jp-layout-color2: #454545;\n",
       "                    background-color: #383838;\n",
       "                }\n",
       "\n",
       "                .geemap-dark .jupyter-button {\n",
       "                    --jp-layout-color3: #383838;\n",
       "                }\n",
       "\n",
       "                .geemap-colab {\n",
       "                    background-color: var(--colab-primary-surface-color, white);\n",
       "                }\n",
       "\n",
       "                .geemap-colab .jupyter-button {\n",
       "                    --jp-layout-color3: var(--colab-primary-surface-color, white);\n",
       "                }\n",
       "            </style>\n",
       "            "
      ],
      "text/plain": [
       "<IPython.core.display.HTML object>"
      ]
     },
     "metadata": {},
     "output_type": "display_data"
    }
   ],
   "source": [
    "import datetime\n",
    "\n",
    "quans = {}\n",
    "soil30 = []\n",
    "star_time = 2001\n",
    "end_time = 2024\n",
    "\n",
    "p = 1\n",
    "for day in range(0, 365, 5):\n",
    "    swvl_day_list = []\n",
    "    for year in range(star_time, end_time):\n",
    "        s = datetime.datetime(year, 1, 1)\n",
    "        image =  ee.ImageCollection(\"ECMWF/ERA5_LAND/HOURLY\").filterDate((s+datetime.timedelta(day)).strftime(\"%Y-%m-%d\"), \n",
    "                                                                        (s+datetime.timedelta(day+5)).strftime(\"%Y-%m-%d\")).mean()\n",
    "        swvl = image.expression('swvl1*c1+swvl2*c2+swvl3*c3',\n",
    "                                 {'swvl1':image.select('soil_temperature_level_1'),\n",
    "                                  'swvl2':image.select('soil_temperature_level_2'),\n",
    "                                  'swvl3':image.select('soil_temperature_level_3'),\n",
    "                                  'c1':0.2333,'c2':0.7,'c3':0.0667})\n",
    "        swvl_day_list.append(swvl)\n",
    "    \n",
    "    swvl_day_images = ee.ImageCollection(swvl_day_list)\n",
    "    \n",
    "    for year in range(star_time, end_time):\n",
    "        ob_im = swvl_day_list[year - star_time]\n",
    "        quan = swvl_day_images.map(lambda img: ob_im.gt(img)).sum().add(1).divide(end_time-star_time)\n",
    "        quans[f\"{year}-{p}\"] = quan\n",
    "    p+=1"
   ]
  },
  {
   "cell_type": "code",
   "execution_count": 6,
   "metadata": {
    "scrolled": true
   },
   "outputs": [
    {
     "data": {
      "text/html": [
       "\n",
       "            <style>\n",
       "                .geemap-dark {\n",
       "                    --jp-widgets-color: white;\n",
       "                    --jp-widgets-label-color: white;\n",
       "                    --jp-ui-font-color1: white;\n",
       "                    --jp-layout-color2: #454545;\n",
       "                    background-color: #383838;\n",
       "                }\n",
       "\n",
       "                .geemap-dark .jupyter-button {\n",
       "                    --jp-layout-color3: #383838;\n",
       "                }\n",
       "\n",
       "                .geemap-colab {\n",
       "                    background-color: var(--colab-primary-surface-color, white);\n",
       "                }\n",
       "\n",
       "                .geemap-colab .jupyter-button {\n",
       "                    --jp-layout-color3: var(--colab-primary-surface-color, white);\n",
       "                }\n",
       "            </style>\n",
       "            "
      ],
      "text/plain": [
       "<IPython.core.display.HTML object>"
      ]
     },
     "metadata": {},
     "output_type": "display_data"
    }
   ],
   "source": [
    "dry_index_year = []\n",
    "\n",
    "for year in range(2001,2024):\n",
    "    dry_index = ee.Image(0)\n",
    "    count = ee.Image(0)\n",
    "    switch = ee.Image(0)\n",
    "    st_switch = ee.Image(0)\n",
    "    st_count = ee.Image(0)\n",
    "    ed_switch = ee.Image(0)\n",
    "    ed_count = ee.Image(0)\n",
    "    for p in range(1,74):\n",
    "        arr = quans[f'{year}-{p}'].clip(sh)\n",
    "        st_switch = st_switch.multiply(st_count.lt(5))\n",
    "        st_count = st_count.multiply(st_switch)\n",
    "        ed_count = switch.multiply(ed_switch).multiply(-3)\n",
    "        ed_switch = ed_switch.add(arr.gte(0.2).multiply(switch))\n",
    "        ed_switch = ed_switch.add(arr.lt(0.2).multiply(switch).multiply(-1))\n",
    "        ed_count = ed_count.multiply(arr.gte(0.2).multiply(switch.lte(0)))\n",
    "        st_switch = st_switch.add(arr.gte(0.4))\n",
    "        st_count = st_count.multiply(arr.gte(0.4))\n",
    "        st_count = st_count.add(st_switch.gt(0))\n",
    "        ed_count = ed_count.add(ed_switch.gt(0))\n",
    "        switch = switch.multiply(ed_count.neq(-2).multiply(ed_switch.lte(0)))\n",
    "        count = count.add(ed_count.eq(-2).multiply(ed_switch.gt(0)).multiply(-1))\n",
    "        dry_index = dry_index.add(count.gte(6).multiply(count.lte(18)).multiply(ed_count.eq(-2)).multiply(ed_switch.gt(0)))\n",
    "        count = count.multiply(ed_count.neq(-2).multiply(ed_switch.lte(0)))\n",
    "        ed_switch = ed_switch.multiply(ed_count.neq(-2).multiply(ed_switch.lte(0)))\n",
    "        ed_count = ed_count.multiply(ed_count.neq(-2).multiply(ed_switch.lte(0)))\n",
    "        switch = switch.add(arr.lt(0.2).multiply(st_switch))\n",
    "        st_switch = st_switch.multiply(arr.gte(0.2).multiply(st_switch.lte(0)))\n",
    "        count = count.add(switch)\n",
    "    dry_index_year.append(dry_index)\n",
    "\n",
    "dry_index = dry_index_year[0]\n",
    "for dry_year in dry_index_year[1:]:\n",
    "    dry_index.add(dry_year)"
   ]
  },
  {
   "cell_type": "code",
   "execution_count": 7,
   "metadata": {},
   "outputs": [
    {
     "data": {
      "text/html": [
       "\n",
       "            <style>\n",
       "                .geemap-dark {\n",
       "                    --jp-widgets-color: white;\n",
       "                    --jp-widgets-label-color: white;\n",
       "                    --jp-ui-font-color1: white;\n",
       "                    --jp-layout-color2: #454545;\n",
       "                    background-color: #383838;\n",
       "                }\n",
       "\n",
       "                .geemap-dark .jupyter-button {\n",
       "                    --jp-layout-color3: #383838;\n",
       "                }\n",
       "\n",
       "                .geemap-colab {\n",
       "                    background-color: var(--colab-primary-surface-color, white);\n",
       "                }\n",
       "\n",
       "                .geemap-colab .jupyter-button {\n",
       "                    --jp-layout-color3: var(--colab-primary-surface-color, white);\n",
       "                }\n",
       "            </style>\n",
       "            "
      ],
      "text/plain": [
       "<IPython.core.display.HTML object>"
      ]
     },
     "metadata": {},
     "output_type": "display_data"
    },
    {
     "data": {
      "application/vnd.jupyter.widget-view+json": {
       "model_id": "782c43da26af4633b44d7f18fc2523c8",
       "version_major": 2,
       "version_minor": 0
      },
      "text/plain": [
       "Map(center=[0, 0], controls=(WidgetControl(options=['position', 'transparent_bg'], widget=SearchDataGUI(childr…"
      ]
     },
     "execution_count": 7,
     "metadata": {},
     "output_type": "execute_result"
    }
   ],
   "source": [
    "Map.addLayer(dry_index, {'max': 10, 'min': 0}, \"dry_index\")\n",
    "Map"
   ]
  },
  {
   "cell_type": "code",
   "execution_count": null,
   "metadata": {},
   "outputs": [],
   "source": []
  }
 ],
 "metadata": {
  "kernelspec": {
   "display_name": "Python 3 (ipykernel)",
   "language": "python",
   "name": "python3"
  },
  "language_info": {
   "codemirror_mode": {
    "name": "ipython",
    "version": 3
   },
   "file_extension": ".py",
   "mimetype": "text/x-python",
   "name": "python",
   "nbconvert_exporter": "python",
   "pygments_lexer": "ipython3",
   "version": "3.10.9"
  }
 },
 "nbformat": 4,
 "nbformat_minor": 4
}
