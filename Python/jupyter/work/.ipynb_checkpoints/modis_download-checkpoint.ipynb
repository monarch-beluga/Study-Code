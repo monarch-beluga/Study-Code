{
 "cells": [
  {
   "cell_type": "code",
   "execution_count": null,
   "id": "ec488c0c-8a30-426f-9fb2-ee6a20e4748b",
   "metadata": {
    "tags": []
   },
   "outputs": [],
   "source": [
    "import geemap\n",
    "import ee\n",
    "\n",
    "Map = geemap.Map()\n",
    "Map"
   ]
  },
  {
   "cell_type": "code",
   "execution_count": null,
   "id": "a449aed1-61df-4f95-aae7-b9e0d7436c91",
   "metadata": {
    "tags": []
   },
   "outputs": [],
   "source": [
    "import os\n",
    "\n",
    "os.chdir(\"D:\\Work\\lsj_modis\")"
   ]
  },
  {
   "cell_type": "code",
   "execution_count": null,
   "id": "5264641a-0729-42f3-bb3a-b52c1b445ca8",
   "metadata": {
    "tags": []
   },
   "outputs": [],
   "source": [
    "# shp_file = r'roi.shp'\n",
    "shp = ee.FeatureCollection('users/2431566134liumonarch/monarch/Jiangxi')\n",
    "\n",
    "Map.addLayer(shp, {}, 'shp')\n",
    "\n",
    "Map.center_object(shp, 7)\n",
    "roi = shp.geometry()"
   ]
  },
  {
   "cell_type": "code",
   "execution_count": null,
   "id": "2e95cfc9-b87d-4291-aebd-19a3dcb6af2f",
   "metadata": {
    "tags": []
   },
   "outputs": [],
   "source": [
    "month = 1\n",
    "images = ee.ImageCollection(\"MODIS/061/MOD13A2\").filterDate(f'2022-{month:02d}', f'2022-{month+1:02d}').select('NDVI')"
   ]
  },
  {
   "cell_type": "code",
   "execution_count": null,
   "id": "993347c3-17a6-4f98-ac4b-d08340f7e22f",
   "metadata": {
    "tags": []
   },
   "outputs": [],
   "source": [
    "image = images.mean().clip(roi).multiply(0.0001)"
   ]
  },
  {
   "cell_type": "code",
   "execution_count": null,
   "id": "6bc17b19-1ab7-461b-92d7-e988dcde3189",
   "metadata": {
    "tags": []
   },
   "outputs": [],
   "source": [
    "geemap.download_ee_image(image, f'NDVI_2022_{month:02d}.tif', region=roi, crs='epsg:4326', scale=1000)"
   ]
  },
  {
   "cell_type": "code",
   "execution_count": null,
   "id": "fd56ba5b-8167-4147-94aa-aea3c3b47412",
   "metadata": {},
   "outputs": [],
   "source": []
  }
 ],
 "metadata": {
  "kernelspec": {
   "display_name": "Python 3 (ipykernel)",
   "language": "python",
   "name": "python3"
  },
  "language_info": {
   "codemirror_mode": {
    "name": "ipython",
    "version": 3
   },
   "file_extension": ".py",
   "mimetype": "text/x-python",
   "name": "python",
   "nbconvert_exporter": "python",
   "pygments_lexer": "ipython3",
   "version": "3.10.10"
  }
 },
 "nbformat": 4,
 "nbformat_minor": 5
}
