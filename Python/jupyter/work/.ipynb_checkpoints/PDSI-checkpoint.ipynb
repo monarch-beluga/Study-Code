{
 "cells": [
  {
   "cell_type": "code",
   "execution_count": 1,
   "id": "24796415",
   "metadata": {
    "ExecuteTime": {
     "end_time": "2021-10-10T08:03:39.171378Z",
     "start_time": "2021-10-10T08:03:29.047162Z"
    }
   },
   "outputs": [
    {
     "data": {
      "application/vnd.jupyter.widget-view+json": {
       "model_id": "2a281236a9b14ba180024a4a60d9c57a",
       "version_major": 2,
       "version_minor": 0
      },
      "text/plain": [
       "Map(center=[40, -100], controls=(WidgetControl(options=['position', 'transparent_bg'], widget=HBox(children=(T…"
      ]
     },
     "metadata": {},
     "output_type": "display_data"
    }
   ],
   "source": [
    "import geemap\n",
    "import ee\n",
    "Map = geemap.Map()\n",
    "Map"
   ]
  },
  {
   "cell_type": "code",
   "execution_count": 4,
   "id": "14cf650d",
   "metadata": {
    "ExecuteTime": {
     "end_time": "2021-10-10T08:04:22.246417Z",
     "start_time": "2021-10-10T08:04:22.243415Z"
    }
   },
   "outputs": [],
   "source": [
    "#绘制边界\n",
    "feature = Map.draw_last_feature\n",
    "#形成面几何\n",
    "roi = feature.geometry()"
   ]
  },
  {
   "cell_type": "code",
   "execution_count": 3,
   "id": "bb20589b",
   "metadata": {
    "ExecuteTime": {
     "end_time": "2021-10-10T08:11:24.785839Z",
     "start_time": "2021-10-10T08:11:03.046232Z"
    }
   },
   "outputs": [],
   "source": [
    "image = ee.ImageCollection(\"IDAHO_EPSCOR/TERRACLIMATE\").select(\"pdsi\").filter(ee.Filter.calendarRange(1982,2020,'year'))\\\n",
    ".filter(ee.Filter.calendarRange(4,11,'month')).mean()\n",
    "maximumTemperatureVis = {\n",
    "  \"min\": -300.0,\n",
    "  \"max\": 300.0,\n",
    "  \"palette\": [\n",
    "    '1a3678', '2955bc', '5699ff', '8dbae9', 'acd1ff', 'caebff', 'e5f9ff',\n",
    "    'fdffb4', 'ffe6a2', 'ffc969', 'ffa12d', 'ff7c1f', 'ca531a', 'ff0000',\n",
    "    'ab0000'\n",
    "  ],\n",
    "}\n",
    "# cipped_image = image.clip(roi) # 裁剪图层，image文件被裁剪图层，states为裁剪图层\n",
    "Map.addLayer(image, maximumTemperatureVis, 'Maximum Temperature')\n",
    "geemap.ee_export_image(image, filename=r\"E:/Data/mean.tif\", region=roi, scale=8000)\n",
    "# geemap.ee_export_image_to_drive(image, description=\"pdsi\", folder=\"ndvi\", region=roi, scale=8000)"
   ]
  },
  {
   "cell_type": "code",
   "execution_count": null,
   "id": "c9d4a4ef",
   "metadata": {},
   "outputs": [
    {
     "name": "stdout",
     "output_type": "stream",
     "text": [
      "Generating URL ...\n"
     ]
    }
   ],
   "source": [
    "geemap.ee_export_image(image, filename=r\"E:/Data/mean.tif\", region=roi, scale=8000)"
   ]
  },
  {
   "cell_type": "code",
   "execution_count": null,
   "id": "5742a50b",
   "metadata": {
    "ExecuteTime": {
     "end_time": "2021-10-10T02:55:27.162400Z",
     "start_time": "2021-10-10T02:55:26.618227Z"
    }
   },
   "outputs": [],
   "source": [
    "image.size().getInfo()"
   ]
  },
  {
   "cell_type": "code",
   "execution_count": null,
   "id": "009fd634",
   "metadata": {
    "ExecuteTime": {
     "end_time": "2021-10-10T10:13:43.951830Z",
     "start_time": "2021-10-10T10:13:43.946793Z"
    }
   },
   "outputs": [],
   "source": [
    "idaho = ee.ImageCollection(\"IDAHO_EPSCOR/TERRACLIMATE\")\n",
    "idaho_mean = idaho.filter(ee.Filter.calendarRange(1982,2020,'year'))\\\n",
    ".filter(ee.Filter.calendarRange(4,10,'month')).select('pdsi').mean()\n",
    "# geemap.ee_export_image_to_drive(idaho_mean,folder = 'ndvi',description = 'pdsi_test' ,region=roi,file_format='GeoTIFF',scale=8000)"
   ]
  },
  {
   "cell_type": "code",
   "execution_count": null,
   "id": "c57fcb73",
   "metadata": {
    "ExecuteTime": {
     "end_time": "2021-10-10T10:08:44.743333Z",
     "start_time": "2021-10-10T10:08:40.016546Z"
    }
   },
   "outputs": [],
   "source": [
    "Map.addLayer(idaho_mean, maximumTemperatureVis, 'pdsi')"
   ]
  },
  {
   "cell_type": "code",
   "execution_count": null,
   "id": "db669a04",
   "metadata": {
    "ExecuteTime": {
     "end_time": "2021-10-10T10:13:50.745870Z",
     "start_time": "2021-10-10T10:13:46.543870Z"
    }
   },
   "outputs": [],
   "source": [
    "roi = Map.draw_last_feature.geometry()\n",
    "geemap.ee_export_image(idaho_mean, filename=r\"C:\\Users\\Administrator\\Desktop\\pdsi\\mean.tif\", region=roi, scale=8000)"
   ]
  },
  {
   "cell_type": "code",
   "execution_count": null,
   "id": "90aaa8b1",
   "metadata": {},
   "outputs": [],
   "source": []
  }
 ],
 "metadata": {
  "kernelspec": {
   "display_name": "Python 3 (ipykernel)",
   "language": "python",
   "name": "python3"
  },
  "language_info": {
   "codemirror_mode": {
    "name": "ipython",
    "version": 3
   },
   "file_extension": ".py",
   "mimetype": "text/x-python",
   "name": "python",
   "nbconvert_exporter": "python",
   "pygments_lexer": "ipython3",
   "version": "3.9.6"
  },
  "varInspector": {
   "cols": {
    "lenName": 16,
    "lenType": 16,
    "lenVar": 40
   },
   "kernels_config": {
    "python": {
     "delete_cmd_postfix": "",
     "delete_cmd_prefix": "del ",
     "library": "var_list.py",
     "varRefreshCmd": "print(var_dic_list())"
    },
    "r": {
     "delete_cmd_postfix": ") ",
     "delete_cmd_prefix": "rm(",
     "library": "var_list.r",
     "varRefreshCmd": "cat(var_dic_list()) "
    }
   },
   "types_to_exclude": [
    "module",
    "function",
    "builtin_function_or_method",
    "instance",
    "_Feature"
   ],
   "window_display": false
  }
 },
 "nbformat": 4,
 "nbformat_minor": 5
}
