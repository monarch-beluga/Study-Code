{
 "cells": [
  {
   "cell_type": "code",
   "execution_count": null,
   "id": "fdefe1dc-38cc-45e0-b3b0-09a61d035f4a",
   "metadata": {
    "tags": []
   },
   "outputs": [],
   "source": [
    "import geemap\n",
    "import ee\n",
    "\n",
    "Map = geemap.Map()\n",
    "Map"
   ]
  },
  {
   "cell_type": "code",
   "execution_count": null,
   "id": "0b8577d9-2c4f-411c-93c4-a23385865fd3",
   "metadata": {
    "tags": []
   },
   "outputs": [],
   "source": [
    "import os\n",
    "\n",
    "os.chdir('D:/Work/WinterWheat/')"
   ]
  },
  {
   "cell_type": "code",
   "execution_count": null,
   "id": "fcae35c4-5f97-4043-bfad-5ee8cfab1b8d",
   "metadata": {
    "tags": []
   },
   "outputs": [],
   "source": [
    "shp = geemap.shp_to_ee('sample_roi.shp')\n",
    "roi = shp.geometry()\n",
    "Map.addLayer(roi, {}, 'roi')"
   ]
  },
  {
   "cell_type": "code",
   "execution_count": null,
   "id": "22490fe8-0bb7-490a-9068-2ce02efb0143",
   "metadata": {},
   "outputs": [],
   "source": [
    "dataset = ee.ImageCollection('AAFC/ACI').filterDate('2019', '2020').first().clip(roi)\n",
    "Map.addLayer(dataset, {}, '2016 Canada AAFC Annual Crop Inventory')\n",
    "Map.center_object(dataset)"
   ]
  },
  {
   "cell_type": "code",
   "execution_count": null,
   "id": "f3641f44-eb50-4de4-b77e-a8e4fdc2d8cc",
   "metadata": {
    "tags": []
   },
   "outputs": [],
   "source": [
    "points = dataset.sample(**{\n",
    "    'region': roi,\n",
    "    'scale': 30,\n",
    "    'numPixels': 5000,\n",
    "    'seed': 0,\n",
    "    'geometries': True\n",
    "})\n",
    "Map.addLayer(points, {}, 'training', False)"
   ]
  },
  {
   "cell_type": "code",
   "execution_count": null,
   "id": "3768ba27-16ba-4833-849d-f3e2ef349245",
   "metadata": {
    "tags": []
   },
   "outputs": [],
   "source": [
    "from Monarch import user_gee\n",
    "year = 2019\n",
    "s2_year = []\n",
    "for i in range(1, 13):\n",
    "    s2 = ee.ImageCollection(\"COPERNICUS/S2\")\\\n",
    "            .filterBounds(roi)\\\n",
    "            .sort('CLOUD_COVERAGE_ASSESSMENT', False)\\\n",
    "            .filterDate(str(year), str(year+1))\\\n",
    "            .filter(ee.Filter.calendarRange(i, i, 'month'))\n",
    "    s2_rm_cloud = s2.map(user_gee.rm_cloud_s2_sr)\n",
    "    s2_z = s2_rm_cloud.merge(s2).mosaic().select(['B2', 'B3', 'B4', 'B5', 'B8', 'B11'])\n",
    "    a = s2.aggregate_array('system:time_start').map(lambda i: ee.Date(i).format('YYYY-MM-dd'))\n",
    "    ndvi = s2_z.normalizedDifference(['B8', 'B4']).rename(\"S2_NDVI\")\n",
    "    lswi = s2_z.normalizedDifference(['B8', 'B11']).rename(\"S2_LSWI\")\n",
    "    s2_image = s2_z.addBands(ndvi)\n",
    "    s2_image = s2_image.addBands(lswi)\n",
    "    # s2_image = s2_image.addBands(evi)\n",
    "    s2_year.append(s2_image)"
   ]
  },
  {
   "cell_type": "code",
   "execution_count": null,
   "id": "c5a2f73a-b191-4d2e-b7b6-d641c23589f2",
   "metadata": {
    "tags": []
   },
   "outputs": [],
   "source": [
    "image = ee.ImageCollection(s2_year).toBands().clip(roi)"
   ]
  },
  {
   "cell_type": "code",
   "execution_count": null,
   "id": "e8ab1231-1158-4352-a934-57bdcb2c6c36",
   "metadata": {
    "tags": []
   },
   "outputs": [],
   "source": [
    "label = 'landcover'\n",
    "\n",
    "training = image.sampleRegions(**{\n",
    "  'collection': points,\n",
    "  'properties': [label],\n",
    "  'scale': 10\n",
    "})\n",
    "\n",
    "trained = ee.Classifier.smileRandomForest(numberOfTrees=100)\\\n",
    "            .train(training, label)"
   ]
  },
  {
   "cell_type": "code",
   "execution_count": null,
   "id": "8f8b1268-424b-4be7-9fb9-d11bf040cdeb",
   "metadata": {
    "tags": []
   },
   "outputs": [],
   "source": [
    "class_values = dataset.get('landcover_class_values').getInfo()\n",
    "class_palette = dataset.get('landcover_class_palette').getInfo()"
   ]
  },
  {
   "cell_type": "code",
   "execution_count": null,
   "id": "9c635ba0-48a0-447b-8a44-86b13c40679f",
   "metadata": {
    "tags": []
   },
   "outputs": [],
   "source": [
    "xj_shp = geemap.shp_to_ee('XJ.shp')\n",
    "xj_roi = xj_shp.geometry()\n",
    "Map.addLayer(xj_roi, {}, 'xj_roi')\n",
    "Map.center_object(xj_roi)"
   ]
  },
  {
   "cell_type": "code",
   "execution_count": null,
   "id": "a2589b03-b594-4fa2-8134-c66004f0a834",
   "metadata": {
    "tags": []
   },
   "outputs": [],
   "source": [
    "from Monarch import user_gee\n",
    "year = 2019\n",
    "s2_year = []\n",
    "for i in range(1, 13):\n",
    "    s2 = ee.ImageCollection(\"COPERNICUS/S2\")\\\n",
    "            .filterBounds(xj_roi)\\\n",
    "            .sort('CLOUD_COVERAGE_ASSESSMENT', False)\\\n",
    "            .filterDate(str(year), str(year+1))\\\n",
    "            .filter(ee.Filter.calendarRange(i, i, 'month'))\n",
    "    s2_rm_cloud = s2.map(user_gee.rm_cloud_s2_sr)\n",
    "    s2_z = s2_rm_cloud.merge(s2).mosaic().select(['B2', 'B3', 'B4', 'B5', 'B8', 'B11'])\n",
    "    a = s2.aggregate_array('system:time_start').map(lambda i: ee.Date(i).format('YYYY-MM-dd'))\n",
    "    ndvi = s2_z.normalizedDifference(['B8', 'B4']).rename(\"S2_NDVI\")\n",
    "    lswi = s2_z.normalizedDifference(['B8', 'B11']).rename(\"S2_LSWI\")\n",
    "    s2_image = s2_z.addBands(ndvi)\n",
    "    s2_image = s2_image.addBands(lswi)\n",
    "    # s2_image = s2_image.addBands(evi)\n",
    "    s2_year.append(s2_image)\n",
    "image = ee.ImageCollection(s2_year).toBands().clip(xj_roi)"
   ]
  },
  {
   "cell_type": "code",
   "execution_count": null,
   "id": "01557d6d-dab3-49d6-85f4-14c595533344",
   "metadata": {
    "tags": []
   },
   "outputs": [],
   "source": [
    "points = geemap.shp_to_ee('points.shp')\n",
    "Map.addLayer(points, {}, 'ps')"
   ]
  },
  {
   "cell_type": "code",
   "execution_count": null,
   "id": "cc7ab568-7449-4dd7-850b-bfdd571485fd",
   "metadata": {
    "tags": []
   },
   "outputs": [],
   "source": [
    "label = 'landcover'\n",
    "\n",
    "training = image.sampleRegions(**{\n",
    "  'collection': points,\n",
    "  'properties': [label],\n",
    "  'scale': 10\n",
    "})\n",
    "\n",
    "trained = ee.Classifier.smileRandomForest(numberOfTrees=100)\\\n",
    "            .train(training, label)"
   ]
  },
  {
   "cell_type": "code",
   "execution_count": null,
   "id": "d730be85-7812-4abc-88e4-8a5f27030534",
   "metadata": {},
   "outputs": [],
   "source": [
    "training.first()"
   ]
  },
  {
   "cell_type": "code",
   "execution_count": null,
   "id": "be42504f-9ffc-450a-b206-2e2e7476590c",
   "metadata": {
    "tags": []
   },
   "outputs": [],
   "source": [
    "geemap.ee_to_shp(training, 'sample_ps.shp')"
   ]
  },
  {
   "cell_type": "code",
   "execution_count": null,
   "id": "5bc56794-494f-4565-a916-f1c09003b911",
   "metadata": {
    "tags": []
   },
   "outputs": [],
   "source": [
    "from Monarch import user_gee\n",
    "year = 2022\n",
    "s2_year = []\n",
    "for i in range(1, 13):\n",
    "    s2 = ee.ImageCollection(\"COPERNICUS/S2\")\\\n",
    "            .filterBounds(xj_roi)\\\n",
    "            .sort('CLOUD_COVERAGE_ASSESSMENT', False)\\\n",
    "            .filterDate(str(year), str(year+1))\\\n",
    "            .filter(ee.Filter.calendarRange(i, i, 'month'))\n",
    "    s2_rm_cloud = s2.map(user_gee.rm_cloud_s2_sr)\n",
    "    s2_z = s2_rm_cloud.merge(s2).mosaic().select(['B2', 'B3', 'B4', 'B5', 'B8', 'B11'])\n",
    "    a = s2.aggregate_array('system:time_start').map(lambda i: ee.Date(i).format('YYYY-MM-dd'))\n",
    "    ndvi = s2_z.normalizedDifference(['B8', 'B4']).rename(\"S2_NDVI\")\n",
    "    lswi = s2_z.normalizedDifference(['B8', 'B11']).rename(\"S2_LSWI\")\n",
    "    s2_image = s2_z.addBands(ndvi)\n",
    "    s2_image = s2_image.addBands(lswi)\n",
    "    # s2_image = s2_image.addBands(evi)\n",
    "    s2_year.append(s2_image)\n",
    "image = ee.ImageCollection(s2_year).toBands().clip(xj_roi)"
   ]
  },
  {
   "cell_type": "code",
   "execution_count": null,
   "id": "97b2f650-9381-4a87-bfa2-aeb688f51c5b",
   "metadata": {
    "tags": []
   },
   "outputs": [],
   "source": [
    "result = image.classify(trained)\n",
    "\n",
    "# Map.addLayer(result, {}, 'landcover')"
   ]
  },
  {
   "cell_type": "code",
   "execution_count": null,
   "id": "10f60e57-3a7a-4dfb-99f6-64dd70bc613b",
   "metadata": {
    "tags": []
   },
   "outputs": [],
   "source": [
    "Map.addLayer(result, {}, 'landcover')"
   ]
  },
  {
   "cell_type": "code",
   "execution_count": null,
   "id": "9c25d093-e657-4da1-84a4-34d2f35c7746",
   "metadata": {
    "tags": []
   },
   "outputs": [],
   "source": [
    "geemap.ee_export_image_to_asset(result, 'XJ_class', 'XJ_class', scale=30, crs='epsg:4326', region=xj_roi, maxPixels=1e12)"
   ]
  },
  {
   "cell_type": "code",
   "execution_count": null,
   "id": "f1409f82-f53c-44a2-8b6c-35f0a5402af2",
   "metadata": {},
   "outputs": [],
   "source": [
    "image = ee.Image('users/2431566134liumonarch/XJ_class2')\n",
    "# landcover = image.set('classification_class_values', class_values)**\n",
    "# landcover = landcover.set('classification_class_palette', class_palette)\n",
    "Map.addLayer(image.mask(image.eq(1)), {'min': 0, 'max': 1}, 'landcover')"
   ]
  },
  {
   "cell_type": "code",
   "execution_count": null,
   "id": "5163e0a2-d96b-4b97-b3dc-9844d704cca0",
   "metadata": {
    "tags": []
   },
   "outputs": [],
   "source": [
    "Map.addLayer(image, {}, 'img')"
   ]
  },
  {
   "cell_type": "code",
   "execution_count": null,
   "id": "032935ff-99e5-4eea-8361-02704f9c9be7",
   "metadata": {
    "tags": []
   },
   "outputs": [],
   "source": [
    "Map.center_object(image)\n",
    "Map"
   ]
  },
  {
   "cell_type": "code",
   "execution_count": null,
   "id": "1cea2712-73c9-4351-9e57-ddf215bfdd6e",
   "metadata": {},
   "outputs": [],
   "source": []
  },
  {
   "cell_type": "code",
   "execution_count": null,
   "id": "6d1cda31-1e01-4276-9fd6-85e6a5e84e3e",
   "metadata": {
    "tags": []
   },
   "outputs": [],
   "source": [
    "import os"
   ]
  },
  {
   "cell_type": "code",
   "execution_count": null,
   "id": "de1b70cf-f360-4b5c-9ddb-de86ea572918",
   "metadata": {},
   "outputs": [],
   "source": []
  }
 ],
 "metadata": {
  "kernelspec": {
   "display_name": "Python 3 (ipykernel)",
   "language": "python",
   "name": "python3"
  },
  "language_info": {
   "codemirror_mode": {
    "name": "ipython",
    "version": 3
   },
   "file_extension": ".py",
   "mimetype": "text/x-python",
   "name": "python",
   "nbconvert_exporter": "python",
   "pygments_lexer": "ipython3",
   "version": "3.10.10"
  }
 },
 "nbformat": 4,
 "nbformat_minor": 5
}
