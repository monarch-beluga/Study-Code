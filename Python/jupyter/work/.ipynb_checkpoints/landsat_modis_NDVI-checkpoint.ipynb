{
 "cells": [
  {
   "cell_type": "code",
   "execution_count": null,
   "id": "3cc4d76c",
   "metadata": {},
   "outputs": [],
   "source": [
    "import rasterio\n",
    "import geemap\n",
    "import ee\n",
    "\n",
    "Map = geemap.Map()\n",
    "Map"
   ]
  },
  {
   "cell_type": "code",
   "execution_count": null,
   "id": "29092672",
   "metadata": {},
   "outputs": [],
   "source": [
    "roi = geemap.geojson_to_ee(r'E:/Data/GIS/JX.json')\n",
    "Map.addLayer(roi, {}, 'JX')\n",
    "Map.center_object(roi)"
   ]
  },
  {
   "cell_type": "code",
   "execution_count": null,
   "id": "b0a55c1c",
   "metadata": {},
   "outputs": [],
   "source": [
    "def clip(img):\n",
    "    return img.clip(roi.geometry())\n",
    "def modis_NDVI(img):\n",
    "    img1 = img.clip(roi.geometry())\n",
    "    img2 = img1.normalizedDifference(['sur_refl_b02', 'sur_refl_b01'])\n",
    "    return img2"
   ]
  },
  {
   "cell_type": "code",
   "execution_count": null,
   "id": "60879615",
   "metadata": {},
   "outputs": [],
   "source": [
    "modis = ee.ImageCollection(\"MODIS/006/MOD09Q1\").filterDate('2015', '2016')\n",
    "landsat8 = ee.ImageCollection('LANDSAT/LC08/C01/T1_8DAY_NDVI')\\\n",
    "            .filterDate('2015', '2016')"
   ]
  },
  {
   "cell_type": "code",
   "execution_count": null,
   "id": "86b8f6bd",
   "metadata": {},
   "outputs": [],
   "source": [
    "modis_names = modis.aggregate_array('system:id').getInfo()\n",
    "landsat_names = landsat8.aggregate_array('system:id').getInfo()"
   ]
  },
  {
   "cell_type": "code",
   "execution_count": null,
   "id": "34d05f22",
   "metadata": {},
   "outputs": [],
   "source": [
    "modis_name = modis_names[0]\n",
    "landsat_name = landsat_names[0]\n",
    "modis_img = modis_NDVI(ee.Image(modis_name))\n",
    "landsat_img = clip(ee.Image(landsat_name))\n",
    "NDVI_img = landsat_img.unmask(modis_img)"
   ]
  },
  {
   "cell_type": "code",
   "execution_count": null,
   "id": "6a9be1c5",
   "metadata": {},
   "outputs": [],
   "source": [
    "f_name = 'NDVI_'+modis_name.split('/')[-1]\n",
    "geemap.ee_export_image_to_drive(NDVI_img, description=f_name,\n",
    "                                folder='Image', scale=30)"
   ]
  },
  {
   "cell_type": "code",
   "execution_count": null,
   "id": "212c996b",
   "metadata": {},
   "outputs": [],
   "source": []
  }
 ],
 "metadata": {
  "kernelspec": {
   "display_name": "Python 3",
   "language": "python",
   "name": "python3"
  },
  "language_info": {
   "codemirror_mode": {
    "name": "ipython",
    "version": 3
   },
   "file_extension": ".py",
   "mimetype": "text/x-python",
   "name": "python",
   "nbconvert_exporter": "python",
   "pygments_lexer": "ipython3",
   "version": "3.8.8"
  }
 },
 "nbformat": 4,
 "nbformat_minor": 5
}
