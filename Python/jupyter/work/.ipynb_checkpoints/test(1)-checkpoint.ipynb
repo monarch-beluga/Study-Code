{
 "cells": [
  {
   "cell_type": "code",
   "execution_count": null,
   "metadata": {},
   "outputs": [],
   "source": [
    "import ee\n",
    "import geemap\n",
    "import numpy as np"
   ]
  },
  {
   "cell_type": "code",
   "execution_count": null,
   "metadata": {},
   "outputs": [],
   "source": [
    "Map = geemap.Map()\n",
    "\n",
    "Map"
   ]
  },
  {
   "cell_type": "code",
   "execution_count": null,
   "metadata": {},
   "outputs": [],
   "source": [
    "import os\n",
    "import geopandas as gpd\n",
    "\n",
    "os.chdir(r\"D:\\Work\\测试区域\")\n",
    "shp_file = r'test.shp'"
   ]
  },
  {
   "cell_type": "code",
   "execution_count": null,
   "metadata": {},
   "outputs": [],
   "source": [
    "shp_gdf = gpd.read_file(shp_file)\n",
    "shp = geemap.gdf_to_ee(shp_gdf)\n",
    "\n",
    "roi = shp.geometry()\n",
    "Map.addLayer(roi, {}, 'roi')\n",
    "Map.center_object(roi)"
   ]
  },
  {
   "cell_type": "code",
   "execution_count": null,
   "metadata": {},
   "outputs": [],
   "source": [
    "# Harmonized Sentinel-2 Level 2A 影像集\n",
    "s2 = ee.ImageCollection('COPERNICUS/S2_SR_HARMONIZED')\n",
    "# Cloud Score+ 影像集（从 Sentinel-2 Level 1C 数据生成）\n",
    "csPlus = ee.ImageCollection('GOOGLE/CLOUD_SCORE_PLUS/V1/S2_HARMONIZED')"
   ]
  },
  {
   "cell_type": "code",
   "execution_count": null,
   "metadata": {},
   "outputs": [],
   "source": [
    "# Harmonized Sentinel-2 Level 2A 影像集\n",
    "s2 = ee.ImageCollection('COPERNICUS/S2_SR_HARMONIZED').filterBounds(roi) \\\n",
    "    .filterDate('2023-06-01', '2023-09-30')\\\n",
    "# Cloud Score+ 影像集（从 Sentinel-2 Level 1C 数据生成）\n",
    "csPlus = ee.ImageCollection('GOOGLE/CLOUD_SCORE_PLUS/V1/S2_HARMONIZED').filterBounds(roi) \\\n",
    "    .filterDate('2023-06-01', '2023-09-30')\n",
    "# 使用 'cs' 或 'cs_cdf' 作为 QA 波段\n",
    "QA_BAND = 'cs_cdf'\n",
    "# 清晰度阈值，值在 0.50 到 0.65 之间通常效果较好\n",
    "CLEAR_THRESHOLD = 0.60\n",
    "# 制作清晰的中位数合成影像\n",
    "composite = s2.linkCollection(csPlus, [QA_BAND])\\\n",
    "    .map(lambda img: img.updateMask(img.select(QA_BAND).gte(CLEAR_THRESHOLD))) \\\n",
    "    .max()"
   ]
  },
  {
   "cell_type": "code",
   "execution_count": null,
   "metadata": {},
   "outputs": [],
   "source": [
    "a = csPlus.aggregate_array(\"system:index\").getInfo()\n",
    "b = s2.aggregate_array(\"system:index\").getInfo()"
   ]
  },
  {
   "cell_type": "code",
   "execution_count": null,
   "metadata": {},
   "outputs": [],
   "source": [
    "n = 0\n",
    "for i in b:\n",
    "    n += 1\n",
    "    if i not in a:\n",
    "        \n",
    "        print(n, i)"
   ]
  },
  {
   "cell_type": "code",
   "execution_count": null,
   "metadata": {},
   "outputs": [],
   "source": [
    "def fun(N, R):\n",
    "    # 0.5 * (2.0 * N + 1 - (((2 * N + 1) ** 2) - 8 * (N - R)) ** 0.5)\n",
    "    # 计算公式\n",
    "    term1 = N.multiply(2).add(1)  # 2 * N + 1\n",
    "    term2 = term1.pow(2)  # (2 * N + 1) ** 2\n",
    "    term3 = N.subtract(R).multiply(8)  # 8 * (N - R)\n",
    "    term4 = term2.subtract(term3)  # ((2 * N + 1) ** 2) - 8 * (N - R)\n",
    "    term5 = term4.sqrt()  # sqrt(((2 * N + 1) ** 2) - 8 * (N - R))\n",
    "    result = term1.subtract(term5).multiply(0.5)  # 0.5 * (2 * N + 1 - sqrt(...))\n",
    "    return ee.Image(result).rename('msavi')\n",
    "    \n",
    "N = composite.select(['B8'])\n",
    "R = composite.select(['B4'])\n",
    "# msavi = ee.Image(spyndex.computeIndex(index=['MSAVI'],params={'N': N,'R': R}).rename('msavi'))\n",
    "msavi = fun(N, R)\n",
    "test = msavi.multiply(10000).int32()"
   ]
  },
  {
   "cell_type": "code",
   "execution_count": null,
   "metadata": {},
   "outputs": [],
   "source": [
    "# 可视化参数\n",
    "vis_params = {\n",
    "    'min': -1,\n",
    "    'max': 1,\n",
    "    'palette': ['white', 'green']\n",
    "}\n",
    "Map.addLayer(msavi.clip(roi), vis_params, 'roi')"
   ]
  },
  {
   "cell_type": "code",
   "execution_count": null,
   "metadata": {},
   "outputs": [],
   "source": [
    "geemap.download_ee_image(test, \"test.tif\", scale=10, crs='EPSG:4326', region=roi, max_tile_dim=1000)"
   ]
  },
  {
   "cell_type": "code",
   "execution_count": null,
   "metadata": {},
   "outputs": [],
   "source": []
  },
  {
   "cell_type": "code",
   "execution_count": null,
   "metadata": {},
   "outputs": [],
   "source": []
  }
 ],
 "metadata": {
  "kernelspec": {
   "display_name": "Python 3 (ipykernel)",
   "language": "python",
   "name": "python3"
  },
  "language_info": {
   "codemirror_mode": {
    "name": "ipython",
    "version": 3
   },
   "file_extension": ".py",
   "mimetype": "text/x-python",
   "name": "python",
   "nbconvert_exporter": "python",
   "pygments_lexer": "ipython3",
   "version": "3.10.9"
  }
 },
 "nbformat": 4,
 "nbformat_minor": 4
}
