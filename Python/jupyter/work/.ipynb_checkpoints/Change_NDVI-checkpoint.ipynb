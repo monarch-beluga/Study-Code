{
 "cells": [
  {
   "cell_type": "code",
   "execution_count": null,
   "id": "ac039344-a81d-44e6-96e4-4f7cbe86e58b",
   "metadata": {
    "tags": []
   },
   "outputs": [],
   "source": [
    "import geemap\n",
    "import ee\n",
    "\n",
    "Map = geemap.Map()\n",
    "Map"
   ]
  },
  {
   "cell_type": "code",
   "execution_count": null,
   "id": "a0ca506f-2eaf-44c7-81c0-124cdf5a37c5",
   "metadata": {
    "tags": []
   },
   "outputs": [],
   "source": [
    "import os\n",
    "os.chdir(r'D:\\Work\\Variety')"
   ]
  },
  {
   "cell_type": "code",
   "execution_count": null,
   "id": "2a176e0f-ba10-40fa-b5ca-316b978e0e16",
   "metadata": {
    "tags": []
   },
   "outputs": [],
   "source": [
    "polys = geemap.shp_to_ee('湖口/湖口_第三期.shp')\n",
    "Map.addLayer(polys, {'color': 'red'}, 'polys')"
   ]
  },
  {
   "cell_type": "code",
   "execution_count": null,
   "id": "c0d5c496-1ebe-48ac-a660-319708a315fe",
   "metadata": {
    "tags": []
   },
   "outputs": [],
   "source": [
    "shp = polys.geometry()\n",
    "roi = shp.bounds().buffer(1000)\n",
    "Map.addLayer(roi, {}, 'shp')"
   ]
  },
  {
   "cell_type": "code",
   "execution_count": null,
   "id": "8ade20c6-caa7-4e5f-9dee-cbf86da69468",
   "metadata": {
    "tags": []
   },
   "outputs": [],
   "source": [
    "# shp_file = r'roi.shp'\n",
    "# shp = geemap.shp_to_ee(shp_file)\n",
    "\n",
    "# Map.addLayer(shp, {}, 'shp')\n",
    "\n",
    "# Map.center_object(shp, 7)\n",
    "# roi = shp.geometry()"
   ]
  },
  {
   "cell_type": "code",
   "execution_count": null,
   "id": "06459204-8786-437a-8353-d56eb1459596",
   "metadata": {
    "tags": []
   },
   "outputs": [],
   "source": [
    "from Monarch.user_gee import cloud_free_landsat_sr"
   ]
  },
  {
   "cell_type": "code",
   "execution_count": null,
   "id": "849fcf3f-c857-4329-af8c-3fccd3b829ba",
   "metadata": {
    "tags": []
   },
   "outputs": [],
   "source": [
    "landsat_2015 = ee.ImageCollection(\"LANDSAT/LC08/C01/T1_SR\").filterDate('2015-06', '2015-10').filterBounds(roi).sort('CLOUD_COVER', False).map(cloud_free_landsat_sr).select('B[1-7]').mosaic().clip(roi)\n",
    "landsat_2022 = ee.ImageCollection(\"LANDSAT/LC08/C01/T1_SR\").filterDate('2022-06', '2022-10').filterBounds(roi).sort('CLOUD_COVER', False).map(cloud_free_landsat_sr).select('B[1-7]').mosaic().clip(roi)"
   ]
  },
  {
   "cell_type": "code",
   "execution_count": null,
   "id": "502ef948-7453-404b-b0c4-d095e19b2cf2",
   "metadata": {
    "tags": []
   },
   "outputs": [],
   "source": [
    "ndvi_2015 = landsat_2015.normalizedDifference(['B5', 'B4'])\n",
    "ndvi_2022 = landsat_2022.normalizedDifference(['B5', 'B4'])"
   ]
  },
  {
   "cell_type": "code",
   "execution_count": null,
   "id": "cc7f369d-7bd2-473a-aba5-77e301542e44",
   "metadata": {
    "tags": []
   },
   "outputs": [],
   "source": [
    "Map.addLayer(ndvi_2015, {'max':1, 'min':-1}, 'ndvi_2015')\n",
    "Map.addLayer(ndvi_2022, {'max':1, 'min':-1}, 'ndvi_2021')"
   ]
  },
  {
   "cell_type": "code",
   "execution_count": null,
   "id": "0a157ef4-6d93-487c-a41e-c7b8c336ad57",
   "metadata": {},
   "outputs": [],
   "source": [
    "Map.addLayer(landsat_2015, {'bands':['B4', 'B3', 'B2'], 'max':3000, 'min':0}, 'landsat_2015')\n",
    "Map.addLayer(landsat_2022, {'bands':['B4', 'B3', 'B2'], 'max':3000, 'min':0}, 'landsat_2021')"
   ]
  },
  {
   "cell_type": "code",
   "execution_count": null,
   "id": "11266d8c-c286-47dd-901b-12cc1750e953",
   "metadata": {
    "tags": []
   },
   "outputs": [],
   "source": [
    "ndvi_2015_v = ndvi_2015.gt(0.2)\n",
    "ndvi_2022_v = ndvi_2022.gt(0.2)"
   ]
  },
  {
   "cell_type": "code",
   "execution_count": null,
   "id": "cc119254-9c3a-4894-a334-22bde4ee4db9",
   "metadata": {
    "tags": []
   },
   "outputs": [],
   "source": [
    "Map.addLayer(ndvi_2015_v, {'max':1, 'min':0}, 'ndvi_2015_v')\n",
    "Map.addLayer(ndvi_2022_v, {'max':1, 'min':0}, 'ndvi_2021_v')"
   ]
  },
  {
   "cell_type": "code",
   "execution_count": null,
   "id": "cbfa8de9-373c-45d4-9ed9-88d95fe6ad87",
   "metadata": {},
   "outputs": [],
   "source": [
    "Map.addLayer(ndvi_2015_v, {'max':1, 'min':0}, 'ndvi_2015_v2')\n",
    "Map.addLayer(ndvi_2022_v, {'max':1, 'min':0}, 'ndvi_2021_v2')"
   ]
  },
  {
   "cell_type": "code",
   "execution_count": null,
   "id": "0901f654-cab5-4d34-a5c8-44e2c26f3166",
   "metadata": {},
   "outputs": [],
   "source": [
    "ps = geemap.shp_to_ee('xiushui_ps.shp')"
   ]
  },
  {
   "cell_type": "code",
   "execution_count": null,
   "id": "eec5c027-eae7-4ed9-b14a-b2719c7f1465",
   "metadata": {},
   "outputs": [],
   "source": [
    "Map.addLayer(ps, {'color': 'red'}, 'ps')"
   ]
  },
  {
   "cell_type": "code",
   "execution_count": null,
   "id": "b0876bfb-a3a9-4405-bd27-c97b1b84d6a5",
   "metadata": {},
   "outputs": [],
   "source": [
    "Map.addLayer(polys, {'color': 'red'}, 'polys')"
   ]
  },
  {
   "cell_type": "code",
   "execution_count": null,
   "id": "a2b0d39e-ec78-4ca4-873b-a8910500f167",
   "metadata": {},
   "outputs": [],
   "source": []
  }
 ],
 "metadata": {
  "kernelspec": {
   "display_name": "Python 3 (ipykernel)",
   "language": "python",
   "name": "python3"
  },
  "language_info": {
   "codemirror_mode": {
    "name": "ipython",
    "version": 3
   },
   "file_extension": ".py",
   "mimetype": "text/x-python",
   "name": "python",
   "nbconvert_exporter": "python",
   "pygments_lexer": "ipython3",
   "version": "3.10.9"
  }
 },
 "nbformat": 4,
 "nbformat_minor": 5
}
