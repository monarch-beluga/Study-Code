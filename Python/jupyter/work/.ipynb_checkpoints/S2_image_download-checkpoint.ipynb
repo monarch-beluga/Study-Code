{
 "cells": [
  {
   "cell_type": "code",
   "execution_count": 17,
   "id": "f113d508",
   "metadata": {},
   "outputs": [],
   "source": [
    "import geemap\n",
    "import ee\n",
    "import os"
   ]
  },
  {
   "cell_type": "code",
   "execution_count": 18,
   "id": "b960e031",
   "metadata": {},
   "outputs": [
    {
     "data": {
      "application/vnd.jupyter.widget-view+json": {
       "model_id": "c1c95d268d0843a48607299e5d885863",
       "version_major": 2,
       "version_minor": 0
      },
      "text/plain": [
       "Map(center=[20, 0], controls=(WidgetControl(options=['position', 'transparent_bg'], widget=HBox(children=(Togg…"
      ]
     },
     "metadata": {},
     "output_type": "display_data"
    }
   ],
   "source": [
    "Map = geemap.Map()\n",
    "Map"
   ]
  },
  {
   "cell_type": "code",
   "execution_count": 20,
   "id": "49a9f496",
   "metadata": {},
   "outputs": [],
   "source": [
    "os.chdir(r\"E:/Work/S2/\")\n",
    "roi = geemap.shp_to_ee('jiujiang.shp')\n",
    "Map.addLayer(roi, {}, 'roi')"
   ]
  },
  {
   "cell_type": "code",
   "execution_count": 21,
   "id": "1d00c914",
   "metadata": {},
   "outputs": [],
   "source": [
    "visParams = {'max': 3000, 'min': 0, 'bands': ['B4', 'B3', 'B2']}"
   ]
  },
  {
   "cell_type": "code",
   "execution_count": 22,
   "id": "2b07f873",
   "metadata": {},
   "outputs": [],
   "source": [
    "image = ee.ImageCollection(\"COPERNICUS/S2\") \\\n",
    "    .filterBounds(roi.geometry())\\\n",
    "    .filterDate('2021-06-01', '2021-06-06')\\\n",
    "    .sort('CLOUDY_PIXEL_PERCENTAGE', False).mosaic().clip(roi.geometry())\n",
    "Map.addLayer(image, visParams, 'image')"
   ]
  },
  {
   "cell_type": "code",
   "execution_count": null,
   "id": "5cd501ff",
   "metadata": {},
   "outputs": [],
   "source": [
    "from datetime import datetime\n",
    "from datetime import timedelta\n",
    "from Monarch import user_gee\n",
    "\n",
    "start_time = datetime.strptime(\"2021-06\", \"%Y-%m\")\n",
    "end_time = datetime.strptime(\"2021-08\", \"%Y-%m\")\n",
    "\n",
    "sep = 5\n",
    "s_time = start_time\n",
    "e_time = start_time+timedelta(days=sep)\n",
    "\n",
    "while e_time < end_time:\n",
    "    image = ee.ImageCollection(\"COPERNICUS/S2\") \\\n",
    "            .filterBounds(roi.geometry())\\\n",
    "            .filterDate(s_time.strftime(\"%Y-%m-%d\"), e_time.strftime(\"%Y-%m-%d\"))\\\n",
    "            .sort('CLOUDY_PIXEL_PERCENTAGE', False).mosaic().clip(roi.geometry())\n",
    "    out_name = f'S2_{s_time.strftime(\"%Y-%m-%d\")}'\n",
    "    while not os.path.exists(out_name+'.tif'):\n",
    "        user_gee.clip_dow_merge(roi.geometry(), image, out_name, 10)\n",
    "    s_time = e_time\n",
    "    e_time += timedelta(days=sep)"
   ]
  },
  {
   "cell_type": "code",
   "execution_count": null,
   "id": "fcd29d06",
   "metadata": {},
   "outputs": [],
   "source": []
  }
 ],
 "metadata": {
  "kernelspec": {
   "display_name": "Python 3 (ipykernel)",
   "language": "python",
   "name": "python3"
  },
  "language_info": {
   "codemirror_mode": {
    "name": "ipython",
    "version": 3
   },
   "file_extension": ".py",
   "mimetype": "text/x-python",
   "name": "python",
   "nbconvert_exporter": "python",
   "pygments_lexer": "ipython3",
   "version": "3.9.6"
  }
 },
 "nbformat": 4,
 "nbformat_minor": 5
}
