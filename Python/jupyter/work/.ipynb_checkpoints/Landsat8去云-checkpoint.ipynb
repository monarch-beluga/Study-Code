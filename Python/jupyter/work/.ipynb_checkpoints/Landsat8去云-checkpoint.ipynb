{
 "cells": [
  {
   "cell_type": "code",
   "execution_count": null,
   "id": "b739c842",
   "metadata": {},
   "outputs": [],
   "source": [
    "import pandas as pd\n",
    "import geemap\n",
    "import ee"
   ]
  },
  {
   "cell_type": "code",
   "execution_count": null,
   "id": "542dabb8",
   "metadata": {},
   "outputs": [],
   "source": [
    "Map = geemap.Map(center=(29, 85))\n",
    "Map"
   ]
  },
  {
   "cell_type": "code",
   "execution_count": null,
   "id": "b7b6610d",
   "metadata": {},
   "outputs": [],
   "source": [
    "df = pd.read_excel(r'E:/Data/temp/2021取样点.xlsx')\n",
    "df"
   ]
  },
  {
   "cell_type": "code",
   "execution_count": null,
   "id": "a8731740",
   "metadata": {},
   "outputs": [],
   "source": [
    "points = geemap.pandas_to_ee(df, latitude='Y', longitude='X')\n",
    "Map.addLayer(points, {}, 'ps')"
   ]
  },
  {
   "cell_type": "code",
   "execution_count": null,
   "id": "09afbca4",
   "metadata": {},
   "outputs": [],
   "source": [
    "roi = Map.draw_last_feature.geometry()"
   ]
  },
  {
   "cell_type": "code",
   "execution_count": null,
   "id": "7c6b058d",
   "metadata": {},
   "outputs": [],
   "source": [
    "images = ee.ImageCollection(\"LANDSAT/LC08/C01/T1_SR\")\\\n",
    "        .filterDate('2019', '2021')\\\n",
    "        .filter(ee.Filter.calendarRange(100, 250, 'day_of_year'))\\\n",
    "        .filterBounds(roi).sort(\"CLOUD_COVER\", False)"
   ]
  },
  {
   "cell_type": "code",
   "execution_count": null,
   "id": "6c476482",
   "metadata": {},
   "outputs": [],
   "source": [
    "def rmCloudByQA(image):\n",
    "    qa = image.select('QA60')\n",
    "    cloudBitMask = 1 << 10\n",
    "    cirrusBitMask = 1 << 11\n",
    "    mask = qa.bitwiseAnd(cloudBitMask).eq(0) \\\n",
    "               .And(qa.bitwiseAnd(cirrusBitMask).eq(0))\n",
    "    return image.updateMask(mask)"
   ]
  },
  {
   "cell_type": "code",
   "execution_count": null,
   "id": "53df9955",
   "metadata": {},
   "outputs": [],
   "source": [
    "def bitwiseExtract(value, fromBit, toBit=None):\n",
    "    if toBit == None:\n",
    "        toBit = fromBit\n",
    "    maskSize = ee.Number(1).add(toBit).subtract(fromBit)\n",
    "    mask = ee.Number(1).leftShift(maskSize).subtract(1)\n",
    "    return value.rightShift(fromBit).bitwiseAnd(mask)\n",
    "\n",
    "def cloudfree_landsat(img):\n",
    "    qa = img.select('pixel_qa')\n",
    "    cloudState = bitwiseExtract(qa, 5)\n",
    "    cloudShadowState = bitwiseExtract(qa, 3)\n",
    "    mask = cloudState.eq(0).And(cloudShadowState.eq(0))\n",
    "    return img.updateMask(mask)"
   ]
  },
  {
   "cell_type": "code",
   "execution_count": null,
   "id": "5b6dd671",
   "metadata": {},
   "outputs": [],
   "source": [
    "cf_image = images.map(cloudfree_landsat)"
   ]
  },
  {
   "cell_type": "code",
   "execution_count": null,
   "id": "f47bdae4",
   "metadata": {},
   "outputs": [],
   "source": [
    "image = cf_image.mosaic().clip(roi)"
   ]
  },
  {
   "cell_type": "code",
   "execution_count": null,
   "id": "c0e8565d",
   "metadata": {},
   "outputs": [],
   "source": [
    "# img = images.median().select(['B4', 'B3', 'B2']).clip(roi)\n",
    "Map.addLayer(image, {'bands':['B4', 'B3', 'B2'], 'max': 3000, 'min':0}, 'img_1')"
   ]
  },
  {
   "cell_type": "code",
   "execution_count": null,
   "id": "f9db4fa4",
   "metadata": {},
   "outputs": [],
   "source": [
    "geemap.ee_export_image_to_drive(img, description='RGB', \n",
    "                                scale=30, folder='Landsat8_xizhang')\n",
    "geemap.ee_export_image_to_drive(img, description='NDVI', \n",
    "                                scale=30, folder='Landsat8_xizhang')"
   ]
  },
  {
   "cell_type": "code",
   "execution_count": null,
   "id": "af2743c4",
   "metadata": {},
   "outputs": [],
   "source": [
    "NDVI = image.normalizedDifference(['B5', 'B4'])\n",
    "img = image.select(['B4', 'B3', 'B2'])"
   ]
  },
  {
   "cell_type": "code",
   "execution_count": null,
   "id": "349cc9ee",
   "metadata": {},
   "outputs": [],
   "source": [
    "geemap.ee_export_image_to_drive(img, description='RGB', \n",
    "                                scale=30, folder='Landsat8_xizhang')"
   ]
  },
  {
   "cell_type": "code",
   "execution_count": null,
   "id": "459e2af4",
   "metadata": {},
   "outputs": [],
   "source": [
    "a = \"\"\"\n",
    "function rmCloudByQA(image) { \n",
    "  var qa = image.select('QA60'); \n",
    "  var cloudBitMask = 1 << 10; \n",
    "  var cirrusBitMask = 1 << 11; \n",
    "  var mask = qa.bitwiseAnd(cloudBitMask).eq(0) \n",
    "               .and(qa.bitwiseAnd(cirrusBitMask).eq(0)); \n",
    "  return image.updateMask(mask); \n",
    "} \n",
    "\"\"\""
   ]
  },
  {
   "cell_type": "code",
   "execution_count": null,
   "id": "e8cfaa58",
   "metadata": {},
   "outputs": [],
   "source": [
    "geemap.js_snippet_to_py(a)"
   ]
  },
  {
   "cell_type": "code",
   "execution_count": null,
   "id": "e8c1a7f0",
   "metadata": {},
   "outputs": [],
   "source": []
  }
 ],
 "metadata": {
  "kernelspec": {
   "display_name": "Python 3",
   "language": "python",
   "name": "python3"
  },
  "language_info": {
   "codemirror_mode": {
    "name": "ipython",
    "version": 3
   },
   "file_extension": ".py",
   "mimetype": "text/x-python",
   "name": "python",
   "nbconvert_exporter": "python",
   "pygments_lexer": "ipython3",
   "version": "3.8.8"
  }
 },
 "nbformat": 4,
 "nbformat_minor": 5
}
