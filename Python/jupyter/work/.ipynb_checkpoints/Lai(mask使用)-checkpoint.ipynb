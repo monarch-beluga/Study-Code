{
 "cells": [
  {
   "cell_type": "code",
   "execution_count": null,
   "id": "9d2afba7",
   "metadata": {
    "scrolled": false
   },
   "outputs": [],
   "source": [
    "import geemap\n",
    "import ee\n",
    "\n",
    "Map = geemap.Map()\n",
    "Map"
   ]
  },
  {
   "cell_type": "code",
   "execution_count": null,
   "id": "0538289e",
   "metadata": {},
   "outputs": [],
   "source": [
    "roi = geemap.geojson_to_ee(r'E:/Data/GIS/JX.json')\n",
    "Map.centerObject(roi, 7)\n",
    "Map.addLayer(roi, {}, 'roi')"
   ]
  },
  {
   "cell_type": "code",
   "execution_count": null,
   "id": "b07c1274",
   "metadata": {},
   "outputs": [],
   "source": [
    "images = ee.ImageCollection(\"MODIS/006/MOD15A2H\").filterDate('2015', '2021').select('Lai_500m')"
   ]
  },
  {
   "cell_type": "code",
   "execution_count": null,
   "id": "a579ee09",
   "metadata": {},
   "outputs": [],
   "source": [
    "colorizedVis = {\n",
    "  'min': 0,\n",
    "  'max': 100,\n",
    "  'palette': [\n",
    "    'FFFFFF', 'CE7E45', 'DF923D', 'F1B555', 'FCD163', '99B718', '74A901',\n",
    "    '66A000', '529400', '3E8601', '207401', '056201', '004C00', '023B01',\n",
    "    '012E01', '011D01', '011301'\n",
    "  ],\n",
    "};"
   ]
  },
  {
   "cell_type": "code",
   "execution_count": null,
   "id": "d5f25b80",
   "metadata": {},
   "outputs": [],
   "source": [
    "# Map.addLayer(Lai_max, colorizedVis, 'Lai_max')\n",
    "Map.addLayer(img.toBands().toArray().clip(roi.geometry()), {}, 'a')"
   ]
  },
  {
   "cell_type": "code",
   "execution_count": null,
   "id": "bbaaff6a",
   "metadata": {},
   "outputs": [],
   "source": [
    "geemap.ee_export_image(, r'E:/Data/Lai_max.tif', scale=500, crs='EPSG:3857')"
   ]
  },
  {
   "cell_type": "code",
   "execution_count": null,
   "id": "5f930aaf",
   "metadata": {},
   "outputs": [],
   "source": [
    "geemap.ee_export_image(img.min(),  r'E:/Data/Lai_min.tif', region=roi.geometry(), scale=500, crs='EPSG:3857')"
   ]
  },
  {
   "cell_type": "code",
   "execution_count": null,
   "id": "0cfa146b",
   "metadata": {},
   "outputs": [],
   "source": [
    "images = geemap.landsat_timeseries(roi=roi.geometry(), start_year=2019, \n",
    "                                     end_year=2021, start_date='05-01',\n",
    "                                    end_date='09-01')"
   ]
  },
  {
   "cell_type": "code",
   "execution_count": null,
   "id": "148fe226",
   "metadata": {},
   "outputs": [],
   "source": [
    "Map.addLayer(images, {'bands':['Red', 'Green', 'Blue'], 'max': 3000, 'min': 0}, 'landsat')"
   ]
  },
  {
   "cell_type": "code",
   "execution_count": null,
   "id": "5379fdbe",
   "metadata": {},
   "outputs": [],
   "source": [
    "img = images.median()"
   ]
  },
  {
   "cell_type": "code",
   "execution_count": null,
   "id": "fa88ab1d",
   "metadata": {},
   "outputs": [],
   "source": [
    "img.bandNames().getInfo()"
   ]
  },
  {
   "cell_type": "code",
   "execution_count": null,
   "id": "e22df7f3",
   "metadata": {},
   "outputs": [],
   "source": []
  }
 ],
 "metadata": {
  "kernelspec": {
   "display_name": "Python 3",
   "language": "python",
   "name": "python3"
  },
  "language_info": {
   "codemirror_mode": {
    "name": "ipython",
    "version": 3
   },
   "file_extension": ".py",
   "mimetype": "text/x-python",
   "name": "python",
   "nbconvert_exporter": "python",
   "pygments_lexer": "ipython3",
   "version": "3.8.8"
  }
 },
 "nbformat": 4,
 "nbformat_minor": 5
}
