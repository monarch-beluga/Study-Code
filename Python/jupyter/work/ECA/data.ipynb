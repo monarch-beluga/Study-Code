{
 "cells": [
  {
   "cell_type": "code",
   "execution_count": 1,
   "id": "b16febde-15d0-4edf-9977-534f5564d855",
   "metadata": {},
   "outputs": [
    {
     "data": {
      "application/vnd.jupyter.widget-view+json": {
       "model_id": "c83477a362a1447ebbf10d2d4c1a9355",
       "version_major": 2,
       "version_minor": 0
      },
      "text/plain": [
       "Map(center=[39, 110], controls=(WidgetControl(options=['position', 'transparent_bg'], widget=HBox(children=(To…"
      ]
     },
     "metadata": {},
     "output_type": "display_data"
    }
   ],
   "source": [
    "import geemap,ee\n",
    "Map = geemap.Map(center=(39, 110), zoom=4)\n",
    "Map"
   ]
  },
  {
   "cell_type": "markdown",
   "id": "0fa55371-4141-4d80-ba98-e07164bfa735",
   "metadata": {},
   "source": [
    "### 矢量范围"
   ]
  },
  {
   "cell_type": "code",
   "execution_count": null,
   "id": "085af664-5c63-436d-82c3-24e045217137",
   "metadata": {},
   "outputs": [],
   "source": [
    "shp = r'F:\\jupyter\\gee\\012极端事件\\shp\\面.shp'\n",
    "shp_ee = geemap.shp_to_ee(shp,encoding='utf-8')\n",
    "roi = shp_ee.geometry()\n",
    "\n",
    "\n",
    "Map.addLayer(shp_ee, {}, 'range')"
   ]
  },
  {
   "cell_type": "markdown",
   "id": "497b0d2d-a86d-462f-b0fd-dd2706dd1c66",
   "metadata": {},
   "source": [
    "### 函数，去云、get_clip、ndvi"
   ]
  },
  {
   "cell_type": "code",
   "execution_count": null,
   "id": "7fed016f-90bc-41ba-925b-5a5577257da0",
   "metadata": {
    "jp-MarkdownHeadingCollapsed": true
   },
   "outputs": [],
   "source": [
    "# A function to mask out cloudy pixels.\n",
    "def maskClouds(image):\n",
    "  # Select the QA band.\n",
    "  QA = image.select('StateQA')\n",
    "  # Make a mask to get bit 10, the internal_cloud_algorithm_flag bit.\n",
    "  bitMask = 1 << 10\n",
    "  # Return an image masking out cloudy areas.\n",
    "  return image.updateMask(QA.bitwiseAnd(bitMask).eq(0))"
   ]
  },
  {
   "cell_type": "code",
   "execution_count": null,
   "id": "e182d823-bc48-4970-a863-ada980421253",
   "metadata": {},
   "outputs": [],
   "source": [
    "def get_cilp(roi):\n",
    "    def cilp(image):\n",
    "        return(image.clip(roi).copyProperties(image, [\"system:time_start\",'system:id']))\n",
    "    return cilp"
   ]
  },
  {
   "cell_type": "markdown",
   "id": "9822f429-d8cc-49b2-a17e-a1ecf457e9ab",
   "metadata": {},
   "source": [
    "### ndvi计算"
   ]
  },
  {
   "cell_type": "code",
   "execution_count": null,
   "id": "62c2b1f6-4612-4893-8597-e210ea5c7cc9",
   "metadata": {
    "scrolled": true
   },
   "outputs": [],
   "source": [
    "#添加ndvi波段\n",
    "def ndvi(img):\n",
    "    ndvi = img.normalizedDifference(['sur_refl_b02','sur_refl_b01']).rename('NDVI')\n",
    "    Msk = ndvi.lte(1).And(ndvi.gt(0))\n",
    "    ndvi = ndvi.updateMask(Msk)\n",
    "    return img.addBands(ndvi).copyProperties(img, [\"system:time_start\",'system:id'])\n",
    "\n",
    "clip = get_cilp(roi)"
   ]
  },
  {
   "cell_type": "code",
   "execution_count": null,
   "id": "7f3f3f45-ced3-4291-b86b-cba59bd24abf",
   "metadata": {},
   "outputs": [],
   "source": [
    "collection_09a1 = ee.ImageCollection(\"MODIS/061/MOD09A1\")\\\n",
    "                                    .select(['sur_refl_b02','sur_refl_b01','StateQA'])\\\n",
    "                                    .filter(ee.Filter.bounds(roi))\\\n",
    "                                    .map(maskClouds)\\\n",
    "                                    .map(get_cilp(roi))"
   ]
  },
  {
   "cell_type": "code",
   "execution_count": null,
   "id": "ac632c47-a305-4cf3-9d47-1970e1b26ce2",
   "metadata": {},
   "outputs": [],
   "source": [
    "collection_ndvi = collection_09a1.map(ndvi).select('NDVI')"
   ]
  },
  {
   "cell_type": "code",
   "execution_count": null,
   "id": "aa0172e3-3f7b-4bad-8072-c9cecae32765",
   "metadata": {},
   "outputs": [],
   "source": [
    "print('Metadata properties: ', collection_ndvi.first().propertyNames().getInfo())"
   ]
  },
  {
   "cell_type": "code",
   "execution_count": null,
   "id": "943df246-35a6-4456-b06d-f5e037f2b726",
   "metadata": {},
   "outputs": [],
   "source": [
    "Map.addLayer(collection_ndvi, {}, 'ndvi')"
   ]
  },
  {
   "cell_type": "markdown",
   "id": "c03a8ac7-ad1e-4231-9d48-0d7e42210ea1",
   "metadata": {},
   "source": [
    "### LST影像集"
   ]
  },
  {
   "cell_type": "code",
   "execution_count": null,
   "id": "61233cb6-ded8-48c7-b284-f4a284c1a802",
   "metadata": {},
   "outputs": [],
   "source": [
    "def rename(image):\n",
    "    return image.rename('LST').multiply(0.02).copyProperties(image, [\"system:time_start\",'system:id'])\n",
    "\n",
    "\n",
    "\n",
    "    "
   ]
  },
  {
   "cell_type": "code",
   "execution_count": null,
   "id": "9e33c560-52d8-49ec-87e4-605566614628",
   "metadata": {},
   "outputs": [],
   "source": [
    "collection_LST = ee.ImageCollection(\"MODIS/061/MOD11A2\")\\\n",
    "            .map(get_cilp(roi))\\\n",
    "            .select('LST_Day_1km').map(rename)"
   ]
  },
  {
   "cell_type": "code",
   "execution_count": null,
   "id": "1730f644-8022-453b-ae57-7816c76f90ce",
   "metadata": {},
   "outputs": [],
   "source": [
    "Map.addLayer(collection_LST.map(lambda img: img.subtract(273)), {'min':-30,'max':40}, 'LST')"
   ]
  },
  {
   "cell_type": "markdown",
   "id": "9680d5f9-fdbe-4991-b7ff-d1aa76d97989",
   "metadata": {},
   "source": [
    "### 循环计算eca"
   ]
  },
  {
   "cell_type": "code",
   "execution_count": null,
   "id": "d25a49dc-3362-407c-995a-f87737739402",
   "metadata": {},
   "outputs": [],
   "source": [
    "month = (4,5)"
   ]
  },
  {
   "cell_type": "code",
   "execution_count": null,
   "id": "9b56dc34-04a9-4030-977e-4efb21729f6f",
   "metadata": {},
   "outputs": [],
   "source": [
    "LSTs_i = collection_LST.filter(ee.Filter.calendarRange(*month,'month'))\n",
    "NDVIs_i = collection_ndvi.filter(ee.Filter.calendarRange(*month,'month'))"
   ]
  },
  {
   "cell_type": "code",
   "execution_count": null,
   "id": "20c77290-7e82-4c02-90e0-e9be1cdf5b26",
   "metadata": {},
   "outputs": [],
   "source": []
  },
  {
   "cell_type": "code",
   "execution_count": null,
   "id": "1eaf65f5-ba38-49b3-b3ec-b11a80c8fe8b",
   "metadata": {},
   "outputs": [],
   "source": [
    "ls = LSTs_i.aggregate_array('system:index').getInfo()"
   ]
  },
  {
   "cell_type": "code",
   "execution_count": null,
   "id": "3b95e488-d191-457c-b1ca-3f56c31cd13f",
   "metadata": {},
   "outputs": [],
   "source": [
    "i = ls[0]"
   ]
  },
  {
   "cell_type": "code",
   "execution_count": null,
   "id": "671ad451-ab44-4e30-a51a-4a8f66c0d6de",
   "metadata": {},
   "outputs": [],
   "source": [
    "image_lst = LSTs_i.filter(ee.Filter.equals('system:index',rightValue=i))"
   ]
  },
  {
   "cell_type": "code",
   "execution_count": null,
   "id": "4c63a63a-5b90-451c-901f-ce77a15d97a2",
   "metadata": {},
   "outputs": [],
   "source": [
    "dir_lst = r'F:\\jupyter\\gee\\012极端事件\\tif\\lst'\n",
    "dir_ndvi = r'F:\\jupyter\\gee\\012极端事件\\tif\\ndvi'"
   ]
  },
  {
   "cell_type": "code",
   "execution_count": null,
   "id": "054a12f6-8557-4eab-b0f4-1ca6154f13ff",
   "metadata": {},
   "outputs": [],
   "source": [
    "for i in ls[70:]:\n",
    "    path_lst = dir_lst + '\\\\' + f'{i}.tif'\n",
    "    path_ndvi = dir_ndvi + '\\\\' + f'{i}.tif'\n",
    "    image_lst = LSTs_i.filter(ee.Filter.equals('system:index',rightValue=i)).first()\n",
    "    image_ndvi = NDVIs_i.filter(ee.Filter.equals('system:index',rightValue=i)).first()\n",
    "    geemap.download_ee_image(image_lst.clip(roi), path_lst, region = roi, scale=1000,  crs='epsg:4326')\n",
    "    geemap.download_ee_image(image_ndvi.clip(roi), path_ndvi, region = roi, scale=1000,  crs='epsg:4326')\n",
    "    "
   ]
  },
  {
   "cell_type": "code",
   "execution_count": null,
   "id": "f217571a-4abc-40d3-b2e1-415d65d5a20a",
   "metadata": {},
   "outputs": [],
   "source": [
    "ls"
   ]
  },
  {
   "cell_type": "code",
   "execution_count": null,
   "id": "839be36f-1569-4160-8a3d-e3e11e8713c9",
   "metadata": {},
   "outputs": [],
   "source": [
    "it = iter(range(1,ls.size().getInfo()+1))"
   ]
  },
  {
   "cell_type": "code",
   "execution_count": null,
   "id": "99a2e283-8d09-4a28-aa5c-32a37f11d6b6",
   "metadata": {},
   "outputs": [],
   "source": [
    "dic = {k:ls[k] for k in range(len(ls))}"
   ]
  },
  {
   "cell_type": "code",
   "execution_count": null,
   "id": "89ad98d3-cdaf-4897-8f0a-36fb7026f6e4",
   "metadata": {},
   "outputs": [],
   "source": [
    "{}"
   ]
  },
  {
   "cell_type": "code",
   "execution_count": null,
   "id": "8c5e516d-e717-49c0-a78d-ca739206912d",
   "metadata": {},
   "outputs": [],
   "source": [
    "ee.Dictionary(dic)"
   ]
  },
  {
   "cell_type": "code",
   "execution_count": null,
   "id": "b51517f1-24b3-4b88-9dae-9bf19f56e52f",
   "metadata": {},
   "outputs": [],
   "source": [
    "dir(ls)"
   ]
  },
  {
   "cell_type": "code",
   "execution_count": null,
   "id": "d620fc17-ad39-45bb-b91a-d4df08c32ac2",
   "metadata": {},
   "outputs": [],
   "source": [
    "NDVIs_i"
   ]
  },
  {
   "cell_type": "code",
   "execution_count": null,
   "id": "c1d15663-7be9-44ae-a3ca-1394107efba6",
   "metadata": {},
   "outputs": [],
   "source": []
  }
 ],
 "metadata": {
  "kernelspec": {
   "display_name": "Python 3 (ipykernel)",
   "language": "python",
   "name": "python3"
  },
  "language_info": {
   "codemirror_mode": {
    "name": "ipython",
    "version": 3
   },
   "file_extension": ".py",
   "mimetype": "text/x-python",
   "name": "python",
   "nbconvert_exporter": "python",
   "pygments_lexer": "ipython3",
   "version": "3.10.10"
  }
 },
 "nbformat": 4,
 "nbformat_minor": 5
}
