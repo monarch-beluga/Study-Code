{
 "cells": [
  {
   "cell_type": "code",
   "execution_count": null,
   "id": "4f2384ef",
   "metadata": {
    "ExecuteTime": {
     "end_time": "2023-02-14T01:17:10.151712Z",
     "start_time": "2023-02-14T01:17:02.239189Z"
    }
   },
   "outputs": [],
   "source": [
    "import geemap\n",
    "import ee\n",
    "\n",
    "Map = geemap.Map()\n",
    "Map"
   ]
  },
  {
   "cell_type": "code",
   "execution_count": null,
   "id": "e3b0a647",
   "metadata": {
    "ExecuteTime": {
     "end_time": "2023-02-14T01:17:10.167670Z",
     "start_time": "2023-02-14T01:17:10.154706Z"
    }
   },
   "outputs": [],
   "source": [
    "import os\n",
    "\n",
    "os.chdir(r'H:/Monarch/Work/NDVI/')"
   ]
  },
  {
   "cell_type": "code",
   "execution_count": null,
   "id": "ce6c75ab",
   "metadata": {
    "ExecuteTime": {
     "end_time": "2023-02-14T01:17:18.542618Z",
     "start_time": "2023-02-14T01:17:18.071306Z"
    }
   },
   "outputs": [],
   "source": [
    "roi = ee.Geometry.Rectangle([45.9, 24.9, 126.1, 56.1], None, False)\n",
    "\n",
    "Map.addLayer(roi, {}, 'roi')"
   ]
  },
  {
   "cell_type": "code",
   "execution_count": null,
   "id": "6450e40f",
   "metadata": {
    "ExecuteTime": {
     "end_time": "2023-02-14T01:17:19.011441Z",
     "start_time": "2023-02-14T01:17:19.006427Z"
    }
   },
   "outputs": [],
   "source": [
    "Albers_project_img = ee.Image('users/2431566134liumonarch/WGS_1984_Albers_project')\n",
    "\n",
    "crs = Albers_project_img.projection()"
   ]
  },
  {
   "cell_type": "code",
   "execution_count": null,
   "id": "89397f78",
   "metadata": {
    "ExecuteTime": {
     "end_time": "2023-02-14T01:17:19.655587Z",
     "start_time": "2023-02-14T01:17:19.638270Z"
    }
   },
   "outputs": [],
   "source": [
    "def pro_img(img):\n",
    "    img = img.reproject(**{'crs': crs, 'scale': 1000}).clip(roi)\n",
    "    return img"
   ]
  },
  {
   "cell_type": "code",
   "execution_count": null,
   "id": "dce70270",
   "metadata": {
    "ExecuteTime": {
     "end_time": "2023-02-14T01:21:05.663985Z",
     "start_time": "2023-02-14T01:21:05.655009Z"
    }
   },
   "outputs": [],
   "source": [
    "NDVI_images = ee.ImageCollection(\"NASA/GIMMS/3GV0\").select('ndvi')\\\n",
    "                .filterDate('2002-01', '2002-02').map(pro_img)"
   ]
  },
  {
   "cell_type": "code",
   "execution_count": null,
   "id": "a7b01269-a212-43c4-80fb-083af7aa6e6b",
   "metadata": {
    "tags": []
   },
   "outputs": [],
   "source": [
    "Map.addLayer(NDVI_images, {'max': 1, 'min': -1}, 'ndvi')"
   ]
  },
  {
   "cell_type": "code",
   "execution_count": null,
   "id": "ee5de37e",
   "metadata": {
    "ExecuteTime": {
     "end_time": "2023-02-14T01:21:06.983702Z",
     "start_time": "2023-02-14T01:21:06.645782Z"
    }
   },
   "outputs": [],
   "source": [
    "out_files = NDVI_images.aggregate_array('system:id').getInfo()"
   ]
  },
  {
   "cell_type": "code",
   "execution_count": null,
   "id": "e7a1f500",
   "metadata": {
    "ExecuteTime": {
     "end_time": "2023-02-14T01:21:08.438075Z",
     "start_time": "2023-02-14T01:21:08.421120Z"
    }
   },
   "outputs": [],
   "source": [
    "NDVI_images_list = NDVI_images.toList(2)"
   ]
  },
  {
   "cell_type": "code",
   "execution_count": null,
   "id": "9cfa7851",
   "metadata": {
    "ExecuteTime": {
     "end_time": "2023-02-14T01:21:37.626696Z",
     "start_time": "2023-02-14T01:21:22.999181Z"
    }
   },
   "outputs": [],
   "source": [
    "for i in range(1, 2):\n",
    "    img = ee.Image(NDVI_images_list.get(i))\n",
    "    geemap.download_ee_image(img, f'NDVI{out_files[i].split(\"/\")[-1]}_t.tif', region=roi, \n",
    "                             crs=crs, scale=1000, dtype='float32')"
   ]
  },
  {
   "cell_type": "code",
   "execution_count": null,
   "id": "c9c1c796",
   "metadata": {
    "ExecuteTime": {
     "end_time": "2023-02-09T09:07:09.343506Z",
     "start_time": "2023-02-09T09:07:09.322671Z"
    }
   },
   "outputs": [],
   "source": [
    "NDVI_images = ee.ImageCollection(\"MODIS/061/MOD13A2\").select('NDVI')\\\n",
    "        .filterDate('2000', '2022').map(pro_img)\n",
    "\n",
    "LST_images = ee.ImageCollection(\"MODIS/061/MOD11A2\").select('LST_Day_1km')\\\n",
    "        .filterDate('2000', '2022').map(pro_img)"
   ]
  },
  {
   "cell_type": "code",
   "execution_count": null,
   "id": "ce4cc534",
   "metadata": {},
   "outputs": [],
   "source": [
    "def ndvi_interp_img(img):\n",
    "    "
   ]
  },
  {
   "cell_type": "code",
   "execution_count": null,
   "id": "b92261d3",
   "metadata": {
    "ExecuteTime": {
     "end_time": "2023-02-09T07:49:00.504641Z",
     "start_time": "2023-02-09T07:49:00.495666Z"
    }
   },
   "outputs": [],
   "source": [
    "NDVI_image = NDVI_images.mean()"
   ]
  },
  {
   "cell_type": "code",
   "execution_count": null,
   "id": "7340b758",
   "metadata": {},
   "outputs": [],
   "source": []
  },
  {
   "cell_type": "code",
   "execution_count": null,
   "id": "091d321b",
   "metadata": {},
   "outputs": [],
   "source": []
  },
  {
   "cell_type": "code",
   "execution_count": null,
   "id": "8cbeca13",
   "metadata": {},
   "outputs": [],
   "source": []
  }
 ],
 "metadata": {
  "kernelspec": {
   "display_name": "Python 3 (ipykernel)",
   "language": "python",
   "name": "python3"
  },
  "language_info": {
   "codemirror_mode": {
    "name": "ipython",
    "version": 3
   },
   "file_extension": ".py",
   "mimetype": "text/x-python",
   "name": "python",
   "nbconvert_exporter": "python",
   "pygments_lexer": "ipython3",
   "version": "3.9.7"
  }
 },
 "nbformat": 4,
 "nbformat_minor": 5
}
