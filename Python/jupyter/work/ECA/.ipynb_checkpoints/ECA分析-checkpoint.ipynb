{
 "cells": [
  {
   "cell_type": "code",
   "execution_count": null,
   "id": "23c476a2-ca85-4c99-a597-fd0f63358bb5",
   "metadata": {
    "tags": []
   },
   "outputs": [],
   "source": [
    "import geemap\n",
    "import ee\n",
    "\n",
    "Map = geemap.Map()\n",
    "Map"
   ]
  },
  {
   "cell_type": "code",
   "execution_count": null,
   "id": "e31538cf-73bc-498a-942b-ef227067de9f",
   "metadata": {},
   "outputs": [],
   "source": [
    "shp = 'D:/Data/parper/data/shp/JX.shp'\n",
    "shp_ee = geemap.shp_to_ee(shp)\n",
    "roi = shp_ee.geometry()\n",
    "\n",
    "\n",
    "Map.addLayer(roi, {}, 'roi')\n",
    "Map.centerObject(roi)"
   ]
  },
  {
   "cell_type": "code",
   "execution_count": null,
   "id": "a58df3a5-d775-4488-ae8d-ce0e5ee4fc7f",
   "metadata": {
    "tags": []
   },
   "outputs": [],
   "source": [
    "def maskClouds(image):\n",
    "  # Select the QA band.\n",
    "  QA = image.select('StateQA')\n",
    "  # Make a mask to get bit 10, the internal_cloud_algorithm_flag bit.\n",
    "  bitMask = 1 << 10\n",
    "  # Return an image masking out cloudy areas.\n",
    "  return image.updateMask(QA.bitwiseAnd(bitMask).eq(0))\n",
    "\n",
    "def clip(image):\n",
    "    return(image.clip(roi).copyProperties(image, [\"system:time_start\"]))\n",
    "\n",
    "def ndvi(img):\n",
    "    ndvi = img.normalizedDifference(['sur_refl_b02','sur_refl_b01']).rename('NDVI')\n",
    "    Msk = ndvi.lte(1).And(ndvi.gt(0))\n",
    "    ndvi = ndvi.updateMask(Msk)\n",
    "    return img.addBands(ndvi).copyProperties(img, [\"system:time_start\"])"
   ]
  },
  {
   "cell_type": "code",
   "execution_count": null,
   "id": "8c04279d-8e6f-411c-ab21-8f2e6b6ad216",
   "metadata": {
    "tags": []
   },
   "outputs": [],
   "source": [
    "# 为每幅影像添加时间波段\n",
    "def addTimeImag(image):\n",
    "    timeImage = image.metadata('system:time_start').rename('timestamp')\n",
    "    timeImageMasked = timeImage.updateMask(image.mask().select(0))\n",
    "    return image.addBands(timeImageMasked)"
   ]
  },
  {
   "cell_type": "code",
   "execution_count": null,
   "id": "b899e806-9f48-47f3-9ebf-31b4230b8c77",
   "metadata": {
    "tags": []
   },
   "outputs": [],
   "source": [
    "def rename(image):\n",
    "    return image.rename('LST').multiply(0.02).subtract(273).copyProperties(image, [\"system:time_start\"])"
   ]
  },
  {
   "cell_type": "code",
   "execution_count": null,
   "id": "2900b42d-cf7c-447d-91ad-8200fe089006",
   "metadata": {
    "tags": []
   },
   "outputs": [],
   "source": [
    "collection_09a1 = ee.ImageCollection(\"MODIS/061/MOD09A1\")\\\n",
    "                                    .select(['sur_refl_b02','sur_refl_b01','StateQA'])\\\n",
    "                                    .filterDate('2005', '2021')\\\n",
    "                                    .map(maskClouds)\\\n",
    "                                    .map(clip)"
   ]
  },
  {
   "cell_type": "code",
   "execution_count": null,
   "id": "706ae345-b8fb-4511-861a-b468c60666f3",
   "metadata": {
    "tags": []
   },
   "outputs": [],
   "source": [
    "collection_ndvi = collection_09a1.map(ndvi).select('NDVI').map(addTimeImag)"
   ]
  },
  {
   "cell_type": "code",
   "execution_count": null,
   "id": "fa110075-4e09-415e-9151-eca60efcec56",
   "metadata": {
    "tags": []
   },
   "outputs": [],
   "source": [
    "collection_LST = ee.ImageCollection(\"MODIS/061/MOD11A2\")\\\n",
    "            .filterDate('2005', '2021')\\\n",
    "            .map(clip)\\\n",
    "            .select('LST_Day_1km').map(rename).map(addTimeImag)"
   ]
  },
  {
   "cell_type": "code",
   "execution_count": null,
   "id": "fa205594-8c8d-4d61-9074-fc8f9d11e3d6",
   "metadata": {
    "tags": []
   },
   "outputs": [],
   "source": [
    "LSTs_i = collection_LST.filter(ee.Filter.calendarRange(4, 5,'month'))\n",
    "NDVIs_i = collection_ndvi.filter(ee.Filter.calendarRange(4, 5,'month'))"
   ]
  },
  {
   "cell_type": "markdown",
   "id": "6d6ee283-7cdd-472a-be0c-99c34b64c358",
   "metadata": {},
   "source": [
    "### 插值补充"
   ]
  },
  {
   "cell_type": "code",
   "execution_count": null,
   "id": "2219d087-3fd1-4f32-a3aa-83ab701afa7e",
   "metadata": {
    "tags": []
   },
   "outputs": [],
   "source": [
    "def image_join(filtered, secondary, days=30):\n",
    "    # filtered 为需要插值的影像\n",
    "    # secondary 为可用于插值匹配的影像\n",
    "    # days为匹配时间段\n",
    "    millis = ee.Number(days).multiply(1000*60*60*24)                  # 转化为毫秒\n",
    "    # 区间匹配\n",
    "    maxDiffFilter = ee.Filter.maxDifference(**{                       \n",
    "      'difference': millis,\n",
    "      'leftField': 'system:time_start',\n",
    "      'rightField': 'system:time_start'\n",
    "    })\n",
    "    # 向后匹配\n",
    "    lessEqFilter = ee.Filter.lessThanOrEquals(**{\n",
    "      'leftField': 'system:time_start',\n",
    "      'rightField': 'system:time_start'\n",
    "    })\n",
    "    # 向前匹配\n",
    "    greaterEqFilter = ee.Filter.greaterThanOrEquals(**{\n",
    "      'leftField': 'system:time_start',\n",
    "      'rightField': 'system:time_start'\n",
    "    })\n",
    "    # 获取当前时间影像后days时间内包含的影像\n",
    "    filter1 = ee.Filter.And(maxDiffFilter, lessEqFilter)\n",
    "\n",
    "    join1 = ee.Join.saveAll(**{\n",
    "      'matchesKey': 'after',\n",
    "      'ordering': 'system:time_start',\n",
    "      'ascending': False})\n",
    "\n",
    "    join1Result = join1.apply(**{\n",
    "      'primary': filtered,\n",
    "      'secondary': secondary,\n",
    "      'condition': filter1\n",
    "    })\n",
    "    # 获取当前时间影像前days时间内包含的影像\n",
    "    filter2 = ee.Filter.And(maxDiffFilter, greaterEqFilter)\n",
    "\n",
    "    join2 = ee.Join.saveAll(**{\n",
    "      'matchesKey': 'before',\n",
    "      'ordering': 'system:time_start',\n",
    "      'ascending': True})\n",
    "\n",
    "    join2Result = join2.apply(**{\n",
    "      'primary': join1Result,\n",
    "      'secondary': secondary,\n",
    "      'condition': filter2\n",
    "    })\n",
    "    return join2Result"
   ]
  },
  {
   "cell_type": "code",
   "execution_count": null,
   "id": "a8bcfa69-6656-42ab-87ca-ffef7ca096df",
   "metadata": {
    "tags": []
   },
   "outputs": [],
   "source": [
    "# 插值公式  y = y1 + (y2-y1)*((t – t1) / (t2 – t1))\n",
    "def interpolateImages(image):\n",
    "    image = ee.Image(image)\n",
    "    beforeImages = ee.List(image.get('before'))\n",
    "    beforeMosaic = ee.ImageCollection.fromImages(beforeImages).mosaic()\n",
    "    afterImages = ee.List(image.get('after'))\n",
    "    afterMosaic = ee.ImageCollection.fromImages(afterImages).mosaic()\n",
    "    \n",
    "    t1 = beforeMosaic.select('timestamp').rename('t1')\n",
    "    t2 = afterMosaic.select('timestamp').rename('t2')\n",
    "    t = image.metadata('system:time_start').rename('t')\n",
    "    timeImage = ee.Image.cat([t1, t2, t])\n",
    "    timeRatio = timeImage.expression('(t - t1) / (t2 - t1)', {\n",
    "                't': timeImage.select('t'),\n",
    "                't1': timeImage.select('t1'),\n",
    "                't2': timeImage.select('t2'),\n",
    "                })\n",
    "    interpolated = beforeMosaic.add((afterMosaic.subtract(beforeMosaic).multiply(timeRatio)))\n",
    "    result = image.unmask(interpolated)\n",
    "    return result.copyProperties(image, ['system:time_start'])"
   ]
  },
  {
   "cell_type": "code",
   "execution_count": null,
   "id": "d1d59ff5-89a7-4f16-add8-c5756b590daa",
   "metadata": {
    "tags": []
   },
   "outputs": [],
   "source": [
    "NDVIs_i_join = image_join(collection_ndvi, collection_ndvi)"
   ]
  },
  {
   "cell_type": "code",
   "execution_count": null,
   "id": "8f3c0d9c-6d09-4bbf-87ba-68e9adb025e0",
   "metadata": {
    "tags": []
   },
   "outputs": [],
   "source": [
    "NDVIs_inter = ee.ImageCollection(NDVIs_i_join.map(interpolateImages))"
   ]
  },
  {
   "cell_type": "code",
   "execution_count": null,
   "id": "4c82fefc-1325-4551-ac4c-47bc0b4ae4da",
   "metadata": {
    "tags": []
   },
   "outputs": [],
   "source": [
    "def sg_images(images: ee.ImageCollection, window_size: int, order: int, deriv=0) -> list:\n",
    "    \"\"\"\n",
    "    基于影像的sg滤波处理\n",
    "    Args:\n",
    "        images: ee.ImageCollection, 需要处理的影像集, 注意请影像集中的每张影像的波段应处理为只有一个波段\n",
    "        window_size: int, 窗口大小, 最好为奇数\n",
    "        order: int, 多项式阶数, 必须小于window_size\n",
    "        deriv: int, 求导数的阶数, 默认为0\n",
    "\n",
    "    Returns: list, 包含滤波处理后的image的list\n",
    "\n",
    "    \"\"\"\n",
    "    half_window = window_size // 2\n",
    "    order_range = ee.List.sequence(0, order)\n",
    "    k_range = ee.List.sequence(-half_window, half_window)\n",
    "    b = ee.Array(k_range.map(lambda k: order_range.map(lambda o: ee.Number(k).pow(o))))\n",
    "    m_pi = ee.Array(b.matrixPseudoInverse())\n",
    "    impulse_response = (m_pi.slice(**{'axis': 0, 'start': deriv, 'end': deriv + 1})).project([1])\n",
    "    y = images.sort('system:time_start', False).toBands().toArray()\n",
    "    times = images.aggregate_array('system:time_start')\n",
    "    ids = images.aggregate_array('system:id')\n",
    "    y1 = images.sort('system:time_start', True).toBands().toArray()\n",
    "    y0 = y1.arrayGet(0)\n",
    "    first_filling = y.arraySlice(0, -half_window - 1, -1).subtract(y0).abs().multiply(-1).add(y0)\n",
    "    y_end = y.arrayGet(0)\n",
    "    last_filling = y.arraySlice(0, 1, half_window + 1).subtract(y_end).abs().add(y_end)\n",
    "    y_ext = first_filling.arrayCat(y1, 0).arrayCat(last_filling, 0)\n",
    "    run_length = ee.List.sequence(0, images.size().subtract(1))\n",
    "    # count = images.size()\n",
    "    # y = images.toList(count)\n",
    "    # times = images.aggregate_array('system:time_start')\n",
    "    # ids = images.aggregate_array('system:id')\n",
    "    # y0 = y.get(0)\n",
    "    # first_filling = y.slice(1, half_window + 1).reverse().map(\n",
    "    #     lambda e: ee.Number(e).subtract(y0).abs().multiply(-1).add(y0))\n",
    "    # y_end = y.get(-1)\n",
    "    # last_filling = y.slice(-half_window - 1, -1).reverse().map(\n",
    "    #     lambda e: ee.Number(e).subtract(y_end).abs().add(y_end))\n",
    "    # y_ext = ee.ImageCollection(first_filling.cat(y).cat(last_filling))\n",
    "    # run_length = ee.List.sequence(0, y_ext.length().subtract(window_size))\n",
    "    smooth = []\n",
    "    for i in run_length.getInfo():\n",
    "        smooth.append(ee.Image(y_ext.arraySlice(0, i, i + window_size)\n",
    "                               .multiply(impulse_response).arrayReduce(\"sum\", [0]).arrayGet([0])\n",
    "                               .set({'system:time_start': times.get(i), 'system:id': ids.get(i)})))\n",
    "    return smooth"
   ]
  },
  {
   "cell_type": "code",
   "execution_count": null,
   "id": "3316f7de-2c7c-4d90-abf5-4516c4f12239",
   "metadata": {},
   "outputs": [],
   "source": [
    "NDVIs_sg = sg_images(NDVIs_inter, 7, 3)"
   ]
  },
  {
   "cell_type": "code",
   "execution_count": null,
   "id": "04a21ccc-32ee-4759-93d8-e5f476dd20b6",
   "metadata": {},
   "outputs": [],
   "source": []
  },
  {
   "cell_type": "code",
   "execution_count": null,
   "id": "bedf98fb-5e07-4bbf-a882-68f1dd144c38",
   "metadata": {},
   "outputs": [],
   "source": []
  },
  {
   "cell_type": "code",
   "execution_count": null,
   "id": "8cd333bd-882e-43ce-8204-ca52d9377472",
   "metadata": {},
   "outputs": [],
   "source": []
  },
  {
   "cell_type": "code",
   "execution_count": null,
   "id": "41c7bc42-25e8-43d6-9ce5-6702655d2fe3",
   "metadata": {},
   "outputs": [],
   "source": []
  }
 ],
 "metadata": {
  "kernelspec": {
   "display_name": "Python 3 (ipykernel)",
   "language": "python",
   "name": "python3"
  },
  "language_info": {
   "codemirror_mode": {
    "name": "ipython",
    "version": 3
   },
   "file_extension": ".py",
   "mimetype": "text/x-python",
   "name": "python",
   "nbconvert_exporter": "python",
   "pygments_lexer": "ipython3",
   "version": "3.10.10"
  }
 },
 "nbformat": 4,
 "nbformat_minor": 5
}
