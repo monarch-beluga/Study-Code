{
 "cells": [
  {
   "cell_type": "code",
   "execution_count": 2,
   "id": "23c476a2-ca85-4c99-a597-fd0f63358bb5",
   "metadata": {
    "tags": []
   },
   "outputs": [
    {
     "data": {
      "application/vnd.jupyter.widget-view+json": {
       "model_id": "fb0b42348aa042808959bfd3dff40517",
       "version_major": 2,
       "version_minor": 0
      },
      "text/plain": [
       "Map(center=[28, 115], controls=(WidgetControl(options=['position', 'transparent_bg'], widget=HBox(children=(To…"
      ]
     },
     "metadata": {},
     "output_type": "display_data"
    }
   ],
   "source": [
    "import geemap,ee\n",
    "\n",
    "Map = geemap.Map(center=(28, 115), zoom=6)\n",
    "Map"
   ]
  },
  {
   "cell_type": "code",
   "execution_count": 3,
   "id": "e31538cf-73bc-498a-942b-ef227067de9f",
   "metadata": {},
   "outputs": [],
   "source": [
    "shp = 'D:/Data/parper/data/shp/JX.shp'\n",
    "shp_ee = geemap.shp_to_ee(shp)\n",
    "roi = shp_ee.geometry()\n",
    "\n",
    "\n",
    "Map.addLayer(shp_ee, {}, 'roi')"
   ]
  },
  {
   "cell_type": "code",
   "execution_count": 5,
   "id": "a58df3a5-d775-4488-ae8d-ce0e5ee4fc7f",
   "metadata": {
    "tags": []
   },
   "outputs": [],
   "source": [
    "def maskClouds(image):\n",
    "  # Select the QA band.\n",
    "  QA = image.select('StateQA')\n",
    "  # Make a mask to get bit 10, the internal_cloud_algorithm_flag bit.\n",
    "  bitMask = 1 << 10\n",
    "  # Return an image masking out cloudy areas.\n",
    "  return image.updateMask(QA.bitwiseAnd(bitMask).eq(0))\n",
    "\n",
    "def clip(image):\n",
    "    return(image.clip(roi).copyProperties(image, [\"system:time_start\",'system:id']))\n",
    "\n",
    "def ndvi(img):\n",
    "    ndvi = img.normalizedDifference(['sur_refl_b02','sur_refl_b01']).rename('NDVI')\n",
    "    Msk = ndvi.lte(1).And(ndvi.gt(0))\n",
    "    ndvi = ndvi.updateMask(Msk)\n",
    "    return img.addBands(ndvi).copyProperties(img, [\"system:time_start\",'system:id'])"
   ]
  },
  {
   "cell_type": "code",
   "execution_count": 28,
   "id": "2900b42d-cf7c-447d-91ad-8200fe089006",
   "metadata": {
    "tags": []
   },
   "outputs": [],
   "source": [
    "collection_09a1 = ee.ImageCollection(\"MODIS/061/MOD09A1\")\\\n",
    "                                    .select(['sur_refl_b02','sur_refl_b01','StateQA'])\\\n",
    "                                    .filterDate('2005', '2021')\\\n",
    "                                    .map(maskClouds)\\\n",
    "                                    .map(clip)"
   ]
  },
  {
   "cell_type": "code",
   "execution_count": 29,
   "id": "706ae345-b8fb-4511-861a-b468c60666f3",
   "metadata": {
    "tags": []
   },
   "outputs": [],
   "source": [
    "collection_ndvi = collection_09a1.map(ndvi).select('NDVI')"
   ]
  },
  {
   "cell_type": "code",
   "execution_count": 30,
   "id": "c52652ff-f18e-4e89-bf19-d3a9b2a162e9",
   "metadata": {
    "tags": []
   },
   "outputs": [],
   "source": [
    "Map.addLayer(collection_ndvi, {}, 'ndvi')"
   ]
  },
  {
   "cell_type": "code",
   "execution_count": 10,
   "id": "b899e806-9f48-47f3-9ebf-31b4230b8c77",
   "metadata": {
    "tags": []
   },
   "outputs": [],
   "source": [
    "def rename(image):\n",
    "    return image.rename('LST').multiply(0.02).subtract(273).copyProperties(image, [\"system:time_start\",'system:id'])"
   ]
  },
  {
   "cell_type": "code",
   "execution_count": 14,
   "id": "fa110075-4e09-415e-9151-eca60efcec56",
   "metadata": {
    "tags": []
   },
   "outputs": [],
   "source": [
    "collection_LST = ee.ImageCollection(\"MODIS/061/MOD11A2\")\\\n",
    "            .filterDate('2005', '2021')\\\n",
    "            .map(clip)\\\n",
    "            .select('LST_Day_1km').map(rename)"
   ]
  },
  {
   "cell_type": "code",
   "execution_count": 32,
   "id": "fa205594-8c8d-4d61-9074-fc8f9d11e3d6",
   "metadata": {
    "tags": []
   },
   "outputs": [],
   "source": [
    "LSTs_i = collection_LST.filter(ee.Filter.calendarRange(4, 5,'month'))\n",
    "NDVIs_i = collection_ndvi.filter(ee.Filter.calendarRange(4, 5,'month'))"
   ]
  },
  {
   "cell_type": "code",
   "execution_count": 17,
   "id": "a2a6793c-2f59-4637-b24c-c9c33a438c2e",
   "metadata": {
    "tags": []
   },
   "outputs": [],
   "source": [
    "Lst_array_img = LSTs_i.toArray()"
   ]
  },
  {
   "cell_type": "code",
   "execution_count": 33,
   "id": "79489616-2a68-493b-8a18-97ed02df79a2",
   "metadata": {
    "tags": []
   },
   "outputs": [],
   "source": [
    "palette = ['FF0000', '00FF00', '0000FF']\n",
    "Map.addLayer(NDVIs_i.count(), {'palette': palette, 'max': 112, 'min': 0} , 'Lst_c')"
   ]
  },
  {
   "cell_type": "code",
   "execution_count": null,
   "id": "89914743-1973-4fe4-b252-eda23111eaf3",
   "metadata": {},
   "outputs": [],
   "source": []
  },
  {
   "cell_type": "code",
   "execution_count": null,
   "id": "50c11482-43b5-43f2-b997-2fc26a4a9dcc",
   "metadata": {},
   "outputs": [],
   "source": []
  }
 ],
 "metadata": {
  "kernelspec": {
   "display_name": "Python 3 (ipykernel)",
   "language": "python",
   "name": "python3"
  },
  "language_info": {
   "codemirror_mode": {
    "name": "ipython",
    "version": 3
   },
   "file_extension": ".py",
   "mimetype": "text/x-python",
   "name": "python",
   "nbconvert_exporter": "python",
   "pygments_lexer": "ipython3",
   "version": "3.10.10"
  }
 },
 "nbformat": 4,
 "nbformat_minor": 5
}
