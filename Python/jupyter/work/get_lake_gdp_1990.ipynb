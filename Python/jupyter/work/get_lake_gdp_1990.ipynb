{
 "cells": [
  {
   "cell_type": "code",
   "execution_count": 1,
   "id": "e6de42ef-6fef-46e7-934c-076488140e95",
   "metadata": {
    "execution": {
     "iopub.execute_input": "2024-06-20T07:31:54.842094Z",
     "iopub.status.busy": "2024-06-20T07:31:54.842094Z",
     "iopub.status.idle": "2024-06-20T07:31:58.578825Z",
     "shell.execute_reply": "2024-06-20T07:31:58.577825Z",
     "shell.execute_reply.started": "2024-06-20T07:31:54.842094Z"
    }
   },
   "outputs": [
    {
     "data": {
      "application/vnd.jupyter.widget-view+json": {
       "model_id": "b20b15e344c04ae9bacc5e4245295ecb",
       "version_major": 2,
       "version_minor": 0
      },
      "text/plain": [
       "Map(center=[20, 0], controls=(WidgetControl(options=['position', 'transparent_bg'], widget=HBox(children=(Togg…"
      ]
     },
     "execution_count": 1,
     "metadata": {},
     "output_type": "execute_result"
    }
   ],
   "source": [
    "import geemap\n",
    "import ee\n",
    "\n",
    "Map = geemap.Map()\n",
    "Map"
   ]
  },
  {
   "cell_type": "code",
   "execution_count": 2,
   "id": "8f8283ee-ff26-445c-89be-8cf132a76807",
   "metadata": {
    "execution": {
     "iopub.execute_input": "2024-06-20T07:31:58.593657Z",
     "iopub.status.busy": "2024-06-20T07:31:58.593657Z",
     "iopub.status.idle": "2024-06-20T07:31:58.609188Z",
     "shell.execute_reply": "2024-06-20T07:31:58.609188Z",
     "shell.execute_reply.started": "2024-06-20T07:31:58.593657Z"
    }
   },
   "outputs": [],
   "source": [
    "import os\n",
    "\n",
    "path = r'D:\\Work\\LakeAreaChanges'\n",
    "os.chdir(path)"
   ]
  },
  {
   "cell_type": "code",
   "execution_count": 3,
   "id": "34b79674-2a37-4cf9-a689-d4bd0d143a3d",
   "metadata": {
    "execution": {
     "iopub.execute_input": "2024-06-20T07:31:58.610563Z",
     "iopub.status.busy": "2024-06-20T07:31:58.610563Z",
     "iopub.status.idle": "2024-06-20T07:32:00.715973Z",
     "shell.execute_reply": "2024-06-20T07:32:00.714974Z",
     "shell.execute_reply.started": "2024-06-20T07:31:58.610563Z"
    }
   },
   "outputs": [],
   "source": [
    "shp_file = \"study_area.shp\"\n",
    "shp = geemap.shp_to_ee(shp_file)\n",
    "roi = shp.geometry()"
   ]
  },
  {
   "cell_type": "code",
   "execution_count": 6,
   "id": "4a83bc7c-31d0-4811-95df-743a35c771c6",
   "metadata": {
    "execution": {
     "iopub.execute_input": "2024-06-20T07:59:46.538235Z",
     "iopub.status.busy": "2024-06-20T07:59:46.538235Z",
     "iopub.status.idle": "2024-06-20T07:59:58.665235Z",
     "shell.execute_reply": "2024-06-20T07:59:58.663237Z",
     "shell.execute_reply.started": "2024-06-20T07:59:46.538235Z"
    }
   },
   "outputs": [
    {
     "data": {
      "application/vnd.jupyter.widget-view+json": {
       "model_id": "18e42c99a7c24236aa0967d9b6f4936d",
       "version_major": 2,
       "version_minor": 0
      },
      "text/plain": [
       "gdp_1990.tif: |                                                       | 0.00/11.1M (raw) [  0.0%] in 00:00 (et…"
      ]
     },
     "metadata": {},
     "output_type": "display_data"
    }
   ],
   "source": [
    "year = 1990\n",
    "gdp = ee.Image(\"projects/sat-io/open-datasets/GRIDDED_HDI_GDP/GDP_PPP_30arcsec_v3\").select('b1').multiply(0.00008)\n",
    "geemap.download_ee_image(gdp, f'gdp/gdp_{year}.tif', region=roi, crs='epsg:3857', scale=1000)"
   ]
  },
  {
   "cell_type": "code",
   "execution_count": null,
   "id": "cd78ef66-e091-48bf-84dc-786382509434",
   "metadata": {
    "execution": {
     "execution_failed": "2024-06-20T06:28:45.902Z"
    }
   },
   "outputs": [],
   "source": [
    "for year in range(1990, 2021, 5):\n",
    "    image_coll = ee.ImageCollection(\"ECMWF/ERA5_LAND/MONTHLY_AGGR\").filterDate(f'{year}', f'{year+1}')\n",
    "    # tavg = image_coll.select(\"temperature_2m\").mean().subtract(273.15)\n",
    "    prcp = image_coll.select(\"total_precipitation_sum\").sum().multiply(1000)\n",
    "    # geemap.download_ee_image(tavg, f'TAVG/TAVG_{year}.tif', region=roi, crs='epsg:3857', scale=1000)\n",
    "    geemap.download_ee_image(prcp, f'PRCP/PRCP_{year}.tif', region=roi, crs='epsg:3857', scale=1000)"
   ]
  },
  {
   "cell_type": "code",
   "execution_count": null,
   "id": "48df2fbe-1600-43c4-b6de-74cd387f21c8",
   "metadata": {},
   "outputs": [],
   "source": []
  }
 ],
 "metadata": {
  "kernelspec": {
   "display_name": "Python 3 (ipykernel)",
   "language": "python",
   "name": "python3"
  },
  "language_info": {
   "codemirror_mode": {
    "name": "ipython",
    "version": 3
   },
   "file_extension": ".py",
   "mimetype": "text/x-python",
   "name": "python",
   "nbconvert_exporter": "python",
   "pygments_lexer": "ipython3",
   "version": "3.10.10"
  }
 },
 "nbformat": 4,
 "nbformat_minor": 5
}
