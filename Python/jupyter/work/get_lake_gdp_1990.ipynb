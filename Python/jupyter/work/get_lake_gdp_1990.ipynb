{
 "cells": [
  {
   "cell_type": "code",
   "execution_count": 2,
   "id": "e6de42ef-6fef-46e7-934c-076488140e95",
   "metadata": {
    "execution": {
     "iopub.execute_input": "2024-06-27T06:12:31.949043Z",
     "iopub.status.busy": "2024-06-27T06:12:31.949043Z",
     "iopub.status.idle": "2024-06-27T06:12:35.536195Z",
     "shell.execute_reply": "2024-06-27T06:12:35.536195Z",
     "shell.execute_reply.started": "2024-06-27T06:12:31.949043Z"
    }
   },
   "outputs": [
    {
     "data": {
      "application/vnd.jupyter.widget-view+json": {
       "model_id": "7a06951e18414ca3af78b4d514f793b9",
       "version_major": 2,
       "version_minor": 0
      },
      "text/plain": [
       "Map(center=[20, 0], controls=(WidgetControl(options=['position', 'transparent_bg'], widget=HBox(children=(Togg…"
      ]
     },
     "execution_count": 2,
     "metadata": {},
     "output_type": "execute_result"
    }
   ],
   "source": [
    "import geemap\n",
    "import ee\n",
    "\n",
    "Map = geemap.Map()\n",
    "Map"
   ]
  },
  {
   "cell_type": "code",
   "execution_count": 3,
   "id": "8f8283ee-ff26-445c-89be-8cf132a76807",
   "metadata": {
    "execution": {
     "iopub.execute_input": "2024-06-27T06:12:35.551914Z",
     "iopub.status.busy": "2024-06-27T06:12:35.551914Z",
     "iopub.status.idle": "2024-06-27T06:12:35.567548Z",
     "shell.execute_reply": "2024-06-27T06:12:35.567548Z",
     "shell.execute_reply.started": "2024-06-27T06:12:35.551914Z"
    }
   },
   "outputs": [],
   "source": [
    "import os\n",
    "\n",
    "path = r'D:\\Work\\LakeAreaChanges'\n",
    "os.chdir(path)"
   ]
  },
  {
   "cell_type": "code",
   "execution_count": 4,
   "id": "34b79674-2a37-4cf9-a689-d4bd0d143a3d",
   "metadata": {
    "execution": {
     "iopub.execute_input": "2024-06-27T06:12:36.725756Z",
     "iopub.status.busy": "2024-06-27T06:12:36.725756Z",
     "iopub.status.idle": "2024-06-27T06:12:38.487875Z",
     "shell.execute_reply": "2024-06-27T06:12:38.487875Z",
     "shell.execute_reply.started": "2024-06-27T06:12:36.725756Z"
    }
   },
   "outputs": [],
   "source": [
    "shp_file = \"study_area.shp\"\n",
    "shp = geemap.shp_to_ee(shp_file)\n",
    "roi = shp.geometry()"
   ]
  },
  {
   "cell_type": "code",
   "execution_count": 7,
   "id": "547334e8-8c8b-4d75-8c0f-b3ead8421f85",
   "metadata": {
    "execution": {
     "iopub.execute_input": "2024-06-27T06:16:49.287164Z",
     "iopub.status.busy": "2024-06-27T06:16:49.287164Z",
     "iopub.status.idle": "2024-06-27T06:17:23.271564Z",
     "shell.execute_reply": "2024-06-27T06:17:23.270572Z",
     "shell.execute_reply.started": "2024-06-27T06:16:49.287164Z"
    }
   },
   "outputs": [
    {
     "data": {
      "application/vnd.jupyter.widget-view+json": {
       "model_id": "6262261ec7f74e348ffeba04ecf4cb6f",
       "version_major": 2,
       "version_minor": 0
      },
      "text/plain": [
       "PRCP_1990.tif: |                                                      | 0.00/11.1M (raw) [  0.0%] in 00:00 (et…"
      ]
     },
     "metadata": {},
     "output_type": "display_data"
    },
    {
     "data": {
      "application/vnd.jupyter.widget-view+json": {
       "model_id": "c0e8f5454a244b8e84cac5ba989ffab6",
       "version_major": 2,
       "version_minor": 0
      },
      "text/plain": [
       "PRCP_1995.tif: |                                                      | 0.00/11.1M (raw) [  0.0%] in 00:00 (et…"
      ]
     },
     "metadata": {},
     "output_type": "display_data"
    },
    {
     "data": {
      "application/vnd.jupyter.widget-view+json": {
       "model_id": "4935f667e8e34d16b6a68755f5f35a1d",
       "version_major": 2,
       "version_minor": 0
      },
      "text/plain": [
       "PRCP_2000.tif: |                                                      | 0.00/11.1M (raw) [  0.0%] in 00:00 (et…"
      ]
     },
     "metadata": {},
     "output_type": "display_data"
    },
    {
     "data": {
      "application/vnd.jupyter.widget-view+json": {
       "model_id": "d608356a4b954310a13569107ca98ab5",
       "version_major": 2,
       "version_minor": 0
      },
      "text/plain": [
       "PRCP_2005.tif: |                                                      | 0.00/11.1M (raw) [  0.0%] in 00:00 (et…"
      ]
     },
     "metadata": {},
     "output_type": "display_data"
    },
    {
     "data": {
      "application/vnd.jupyter.widget-view+json": {
       "model_id": "ccb75be4b07b4f76b25244f6ca140890",
       "version_major": 2,
       "version_minor": 0
      },
      "text/plain": [
       "PRCP_2010.tif: |                                                      | 0.00/11.1M (raw) [  0.0%] in 00:00 (et…"
      ]
     },
     "metadata": {},
     "output_type": "display_data"
    },
    {
     "data": {
      "application/vnd.jupyter.widget-view+json": {
       "model_id": "e71f2f8d39ab4edfbef8f9cd9c2a55b9",
       "version_major": 2,
       "version_minor": 0
      },
      "text/plain": [
       "PRCP_2015.tif: |                                                      | 0.00/11.1M (raw) [  0.0%] in 00:00 (et…"
      ]
     },
     "metadata": {},
     "output_type": "display_data"
    },
    {
     "data": {
      "application/vnd.jupyter.widget-view+json": {
       "model_id": "a0cf3fcb1a9b4c1087fcba0a7f9cd532",
       "version_major": 2,
       "version_minor": 0
      },
      "text/plain": [
       "PRCP_2020.tif: |                                                      | 0.00/11.1M (raw) [  0.0%] in 00:00 (et…"
      ]
     },
     "metadata": {},
     "output_type": "display_data"
    }
   ],
   "source": [
    "year = 1990\n",
    "for year in range(1990, 2021, 5):\n",
    "    images = ee.ImageCollection(\"IDAHO_EPSCOR/TERRACLIMATE\").filterDate(f'{year}-06', f'{year}-10')\n",
    "    pr = images.select('pr').sum()\n",
    "    # tmin = images.select('tmmn').mean()\n",
    "    # tmax = images.select('tmmx').mean()\n",
    "    # tavg = tmin.add(tmax).multiply(0.5)\n",
    "    geemap.download_ee_image(pr, f'PRCP/PRCP_{year}.tif', region=roi, crs='epsg:3857', scale=1000)\n",
    "    # geemap.download_ee_image(tavg, f'TAVG/TAVG_{year}.tif', region=roi, crs='epsg:3857', scale=1000)"
   ]
  },
  {
   "cell_type": "code",
   "execution_count": 8,
   "id": "8121d5d3-a585-49c7-bd62-17708602cb2c",
   "metadata": {
    "execution": {
     "iopub.execute_input": "2024-06-27T06:17:29.281834Z",
     "iopub.status.busy": "2024-06-27T06:17:29.281741Z",
     "iopub.status.idle": "2024-06-27T06:17:29.625498Z",
     "shell.execute_reply": "2024-06-27T06:17:29.624943Z",
     "shell.execute_reply.started": "2024-06-27T06:17:29.281834Z"
    }
   },
   "outputs": [
    {
     "data": {
      "text/html": [
       "<div><style>:root {\n",
       "  --font-color-primary: var(--jp-content-font-color0, rgba(0, 0, 0, 1));\n",
       "  --font-color-secondary: var(--jp-content-font-color2, rgba(0, 0, 0, 0.6));\n",
       "  --font-color-accent: rgba(123, 31, 162, 1);\n",
       "  --border-color: var(--jp-border-color2, #e0e0e0);\n",
       "  --background-color: var(--jp-layout-color0, white);\n",
       "  --background-color-row-even: var(--jp-layout-color1, white);\n",
       "  --background-color-row-odd: var(--jp-layout-color2, #eeeeee);\n",
       "}\n",
       "\n",
       "html[theme=\"dark\"],\n",
       "body[data-theme=\"dark\"],\n",
       "body.vscode-dark {\n",
       "  --font-color-primary: rgba(255, 255, 255, 1);\n",
       "  --font-color-secondary: rgba(255, 255, 255, 0.6);\n",
       "  --font-color-accent: rgb(173, 132, 190);\n",
       "  --border-color: #2e2e2e;\n",
       "  --background-color: #111111;\n",
       "  --background-color-row-even: #111111;\n",
       "  --background-color-row-odd: #313131;\n",
       "}\n",
       "\n",
       ".ee {\n",
       "  padding: 1em;\n",
       "  line-height: 1.5em;\n",
       "  min-width: 300px;\n",
       "  max-width: 1200px;\n",
       "  overflow-y: scroll;\n",
       "  max-height: 600px;\n",
       "  border: 1px solid var(--border-color);\n",
       "  font-family: monospace;\n",
       "}\n",
       "\n",
       ".ee li {\n",
       "  list-style-type: none;\n",
       "}\n",
       "\n",
       ".ee ul {\n",
       "  padding-left: 1.5em !important;\n",
       "  margin: 0;\n",
       "}\n",
       "\n",
       ".ee > ul {\n",
       "  padding-left: 0 !important;\n",
       "}\n",
       "\n",
       ".ee-open,\n",
       ".ee-shut {\n",
       "  color: var(--font-color-secondary);\n",
       "  cursor: pointer;\n",
       "  margin: 0;\n",
       "}\n",
       "\n",
       ".ee-open:hover,\n",
       ".ee-shut:hover {\n",
       "  color: var(--font-color-primary);\n",
       "}\n",
       "\n",
       ".ee-k {\n",
       "  color: var(--font-color-accent);\n",
       "  margin-right: 6px;\n",
       "}\n",
       "\n",
       ".ee-v {\n",
       "  color: var(--font-color-primary);\n",
       "}\n",
       "\n",
       ".ee-toggle {\n",
       "  display: none;\n",
       "}\n",
       "\n",
       ".ee-shut + ul {\n",
       "  display: none;\n",
       "}\n",
       "\n",
       ".ee-open + ul {\n",
       "  display: block;\n",
       "}\n",
       "\n",
       ".ee-shut::before {\n",
       "  display: inline-block;\n",
       "  content: \"▼\";\n",
       "  margin-right: 6px;\n",
       "  transform: rotate(-90deg);\n",
       "  transition: transform 0.2s;\n",
       "}\n",
       "\n",
       ".ee-open::before {\n",
       "  transform: rotate(0deg);\n",
       "  display: inline-block;\n",
       "  content: \"▼\";\n",
       "  margin-right: 6px;\n",
       "  transition: transform 0.2s;\n",
       "}\n",
       "</style><div class='ee'><ul><li><label class='ee-shut'>List (4 elements)<input type='checkbox' class='ee-toggle'></label><ul><li><span class='ee-k'>0:</span><span class='ee-v'>IDAHO_EPSCOR/TERRACLIMATE/202006</span></li><li><span class='ee-k'>1:</span><span class='ee-v'>IDAHO_EPSCOR/TERRACLIMATE/202007</span></li><li><span class='ee-k'>2:</span><span class='ee-v'>IDAHO_EPSCOR/TERRACLIMATE/202008</span></li><li><span class='ee-k'>3:</span><span class='ee-v'>IDAHO_EPSCOR/TERRACLIMATE/202009</span></li></ul></li></ul></div><script>function toggleHeader() {\n",
       "    const parent = this.parentElement;\n",
       "    parent.className = parent.className === \"ee-open\" ? \"ee-shut\" : \"ee-open\";\n",
       "}\n",
       "\n",
       "for (let c of document.getElementsByClassName(\"ee-toggle\")) {\n",
       "    c.onclick = toggleHeader;\n",
       "}</script></div>"
      ],
      "text/plain": [
       "<ee.ee_list.List at 0x2bd96842110>"
      ]
     },
     "execution_count": 8,
     "metadata": {},
     "output_type": "execute_result"
    }
   ],
   "source": [
    "images.aggregate_array('system:id')"
   ]
  },
  {
   "cell_type": "code",
   "execution_count": 6,
   "id": "4a83bc7c-31d0-4811-95df-743a35c771c6",
   "metadata": {
    "execution": {
     "iopub.execute_input": "2024-06-20T07:59:46.538235Z",
     "iopub.status.busy": "2024-06-20T07:59:46.538235Z",
     "iopub.status.idle": "2024-06-20T07:59:58.665235Z",
     "shell.execute_reply": "2024-06-20T07:59:58.663237Z",
     "shell.execute_reply.started": "2024-06-20T07:59:46.538235Z"
    }
   },
   "outputs": [
    {
     "data": {
      "application/vnd.jupyter.widget-view+json": {
       "model_id": "18e42c99a7c24236aa0967d9b6f4936d",
       "version_major": 2,
       "version_minor": 0
      },
      "text/plain": [
       "gdp_1990.tif: |                                                       | 0.00/11.1M (raw) [  0.0%] in 00:00 (et…"
      ]
     },
     "metadata": {},
     "output_type": "display_data"
    }
   ],
   "source": [
    "year = 1990\n",
    "gdp = ee.Image(\"projects/sat-io/open-datasets/GRIDDED_HDI_GDP/GDP_PPP_30arcsec_v3\").select('b1').multiply(0.00008)\n",
    "geemap.download_ee_image(gdp, f'gdp/gdp_{year}.tif', region=roi, crs='epsg:3857', scale=1000)"
   ]
  },
  {
   "cell_type": "code",
   "execution_count": null,
   "id": "cd78ef66-e091-48bf-84dc-786382509434",
   "metadata": {
    "execution": {
     "execution_failed": "2024-06-20T06:28:45.902Z"
    }
   },
   "outputs": [],
   "source": [
    "for year in range(1990, 2021, 5):\n",
    "    image_coll = ee.ImageCollection(\"ECMWF/ERA5_LAND/MONTHLY_AGGR\").filterDate(f'{year}-06', f'{year}-10')\n",
    "    # tavg = image_coll.select(\"temperature_2m\").mean().subtract(273.15)\n",
    "    prcp = image_coll.select(\"total_precipitation_sum\").sum().multiply(1000)\n",
    "    # geemap.download_ee_image(tavg, f'TAVG/TAVG_{year}.tif', region=roi, crs='epsg:3857', scale=1000)\n",
    "    geemap.download_ee_image(prcp, f'PRCP/ERA5_PRCP_{year}.tif', region=roi, crs='epsg:3857', scale=1000)"
   ]
  },
  {
   "cell_type": "code",
   "execution_count": null,
   "id": "48df2fbe-1600-43c4-b6de-74cd387f21c8",
   "metadata": {},
   "outputs": [],
   "source": []
  }
 ],
 "metadata": {
  "kernelspec": {
   "display_name": "Python 3 (ipykernel)",
   "language": "python",
   "name": "python3"
  },
  "language_info": {
   "codemirror_mode": {
    "name": "ipython",
    "version": 3
   },
   "file_extension": ".py",
   "mimetype": "text/x-python",
   "name": "python",
   "nbconvert_exporter": "python",
   "pygments_lexer": "ipython3",
   "version": "3.10.9"
  }
 },
 "nbformat": 4,
 "nbformat_minor": 5
}
