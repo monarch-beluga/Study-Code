{
 "cells": [
  {
   "cell_type": "code",
   "execution_count": null,
   "id": "a6ad3703-0150-4949-b6f9-c72d75eb9a95",
   "metadata": {
    "tags": []
   },
   "outputs": [],
   "source": [
    "import pandas as pd\n",
    "from scipy import stats\n",
    "import matplotlib.pyplot as plt\n",
    "import os\n",
    "from matplotlib import rcParams"
   ]
  },
  {
   "cell_type": "code",
   "execution_count": null,
   "id": "b1d19619-02b0-4330-b148-f0ada746632e",
   "metadata": {
    "tags": []
   },
   "outputs": [],
   "source": [
    "config = {\n",
    "    \"font.family\": 'serif',\n",
    "    \"font.size\": 12,\n",
    "    \"mathtext.fontset\": 'stix',\n",
    "    \"font.serif\": 'Simsun',\n",
    "}\n",
    "rcParams.update(config)"
   ]
  },
  {
   "cell_type": "code",
   "execution_count": null,
   "id": "fc791ad2-d6ce-475f-a2b0-b9c718353912",
   "metadata": {
    "tags": []
   },
   "outputs": [],
   "source": [
    "os.chdir(r'Z:\\data_txt')\n",
    "\n",
    "ndvi = pd.read_csv('NDVI_season.txt', index_col=0)\n",
    "temp = pd.read_csv('temp_season.txt', index_col=0)\n",
    "prec = pd.read_csv('prec_season.txt', index_col=0)\n",
    "columns = ndvi.columns"
   ]
  },
  {
   "cell_type": "code",
   "execution_count": null,
   "id": "5ff69800-dfd5-4430-9177-981ea317445e",
   "metadata": {
    "tags": []
   },
   "outputs": [],
   "source": [
    "for i in columns:\n",
    "    data1 = temp[i]\n",
    "    data2 = ndvi[i]\n",
    "    path = f'temp_ndvi_{i}.png'\n",
    "    OLS = stats.linregress(data1, data2)\n",
    "    y_pred = OLS[0] * data1 + OLS[1]\n",
    "    symbol = '+'\n",
    "    if OLS[1] < 0:\n",
    "        symbol = '-'\n",
    "    s = OLS[0]\n",
    "    r = OLS[2]\n",
    "    d = abs(OLS[1])\n",
    "    p = OLS[3]\n",
    "    \n",
    "    Legend2_prop = {'family': 'Times New Roman', 'style': 'italic', 'size': 12}\n",
    "    \n",
    "    fig,ax = plt.subplots(figsize=(6.5, 4))\n",
    "    frames = ['right', 'top']\n",
    "    for frame in frames:\n",
    "        ax.spines[frame].set_visible(False)\n",
    "    ax.tick_params(axis='both', direction='in')\n",
    "    ax.set_xlabel('气温/°C')\n",
    "    ax.set_ylabel('NDVI')\n",
    "    ax.plot(data1, data2, '.', color='k', lw=1)\n",
    "    ax.plot(data1, y_pred, '-', color='k', lw=1)\n",
    "    ax.text(0.7, 0.1, f'y = {s:.3f} x {symbol} {d:.3f}\\nR² = {r**2:.3f} P = {p:.3f}', Legend2_prop, transform=ax.transAxes)\n",
    "    fig.savefig(path, dpi=300, bbox_inches='tight')"
   ]
  },
  {
   "cell_type": "code",
   "execution_count": null,
   "id": "dcd68608-ae0f-4146-b0b9-eec71ec86921",
   "metadata": {
    "tags": []
   },
   "outputs": [],
   "source": [
    "for i in columns:\n",
    "    data1 = prec[i]\n",
    "    data2 = ndvi[i]\n",
    "    path = f'prec_ndvi_{i}.png'\n",
    "    OLS = stats.linregress(data1, data2)\n",
    "    y_pred = OLS[0] * data1 + OLS[1]\n",
    "    symbol = '+'\n",
    "    if OLS[1] < 0:\n",
    "        symbol = '-'\n",
    "    s = OLS[0]\n",
    "    r = OLS[2]\n",
    "    d = abs(OLS[1])\n",
    "    p = OLS[3]\n",
    "    \n",
    "    Legend2_prop = {'family': 'Times New Roman', 'style': 'italic', 'size': 12}\n",
    "    \n",
    "    fig,ax = plt.subplots(figsize=(6.5, 4))\n",
    "    frames = ['right', 'top']\n",
    "    for frame in frames:\n",
    "        ax.spines[frame].set_visible(False)\n",
    "    ax.tick_params(axis='both', direction='in')\n",
    "    ax.set_xlabel('降水量/mm')\n",
    "    ax.set_ylabel('NDVI')\n",
    "    ax.plot(data1, data2, '.', color='k', lw=1)\n",
    "    ax.plot(data1, y_pred, '-', color='k', lw=1)\n",
    "    ax.text(0.7, 0.1, f'y = {s:.5f} x {symbol} {d:.3f}\\nR² = {r**2:.3f} P = {p:.3f}', Legend2_prop, transform=ax.transAxes)\n",
    "    fig.savefig(path, dpi=300, bbox_inches='tight')"
   ]
  },
  {
   "cell_type": "code",
   "execution_count": null,
   "id": "f34c314a-6a70-4e06-9c1d-43232f7b7fb4",
   "metadata": {
    "tags": []
   },
   "outputs": [],
   "source": [
    "s"
   ]
  },
  {
   "cell_type": "code",
   "execution_count": null,
   "id": "7f8cc36f-cbf3-4477-a986-f0e1838094c4",
   "metadata": {
    "tags": []
   },
   "outputs": [],
   "source": [
    "ndvi"
   ]
  },
  {
   "cell_type": "code",
   "execution_count": null,
   "id": "059ab9b4-99cb-4042-8d60-3805f42fa6b0",
   "metadata": {},
   "outputs": [],
   "source": []
  }
 ],
 "metadata": {
  "kernelspec": {
   "display_name": "Python 3 (ipykernel)",
   "language": "python",
   "name": "python3"
  },
  "language_info": {
   "codemirror_mode": {
    "name": "ipython",
    "version": 3
   },
   "file_extension": ".py",
   "mimetype": "text/x-python",
   "name": "python",
   "nbconvert_exporter": "python",
   "pygments_lexer": "ipython3",
   "version": "3.10.10"
  }
 },
 "nbformat": 4,
 "nbformat_minor": 5
}
