{
 "cells": [
  {
   "cell_type": "code",
   "execution_count": null,
   "id": "e636ce64-d981-4015-b8f3-afda729052ff",
   "metadata": {
    "tags": []
   },
   "outputs": [],
   "source": [
    "import matplotlib.pyplot as plt\n",
    "import numpy as np\n",
    "import pandas as pd\n",
    "from matplotlib.gridspec import GridSpec\n",
    "import matplotlib.patches as mpatches\n",
    "import cartopy.feature as cfeature\n",
    "import cartopy.crs as ccrs\n",
    "import cartopy.io.shapereader as sr\n",
    "from cartopy.feature import ShapelyFeature\n",
    "import random\n",
    "import geopandas as gpd\n",
    "from matplotlib.colors import ListedColormap,LinearSegmentedColormap\n",
    "import time\n",
    "\n",
    "path = r'D:\\Work\\江西合作团队\\PKU_CH4.xlsx'\n",
    "\n",
    "df = pd.DataFrame()\n",
    "fdir = pd.read_excel(path, sheet_name=None)\n",
    "fdir1 = pd.read_excel(path, sheet_name=1)\n",
    "\n",
    "df_sum = fdir['Other'].iloc[:, 2:] + fdir['Other1'].iloc[:, 2:] + fdir['Other2'].iloc[:, 2:]\n",
    "df1 = pd.concat([fdir['Other'].iloc[:, :2], df_sum], axis=1)\n",
    "vrs = ['Other', 'Other1', 'Other2']\n",
    "for vr in vrs:\n",
    "    del fdir[vr]\n",
    "fdir['other'] = df1\n",
    "keys = list(fdir.keys())\n",
    "\n",
    "df0 = fdir1.iloc[:, [1]]  # 市名\n",
    "key0 = list(fdir.keys())\n",
    "\n",
    "lst = []\n",
    "names = []\n",
    "for name in df0['NAME']:\n",
    "    locals()[f'df_{name}'] = pd.DataFrame()\n",
    "    for value in fdir.values():\n",
    "        dfn = value[value['NAME'] == name].loc[:, 2000:2019]\n",
    "        dfn = dfn / (1000000000000000)\n",
    "        locals()[f'df_{name}'] = pd.concat([locals()[f'df_{name}'], dfn], axis=0)\n",
    "    locals()[f'df_{name}'].index = key0\n",
    "    lst.append(locals()[f'df_{name}'])\n",
    "    names.append(name)\n"
   ]
  },
  {
   "cell_type": "code",
   "execution_count": null,
   "id": "8019d648-d924-4fb1-a141-0377e42a7cfb",
   "metadata": {
    "tags": []
   },
   "outputs": [],
   "source": [
    "def get_colors(n):\n",
    "    colors = []\n",
    "    for i in range(n):\n",
    "        color = ''.join([random.choice('0123456789ABCDEF') for j in range(6)])\n",
    "        colors.append('#' + color)\n",
    "    return colors\n",
    "\n",
    "\n",
    "#-----------函数：添加比例尺--------------\n",
    "def add_scalebar(ax,lon_x,lon_y,length,size=5):\n",
    "    '''\n",
    "    ax: 坐标轴\n",
    "    lon0: 经度\n",
    "    lat0: 纬度\n",
    "    length: 长度\n",
    "    size: 控制粗细和距离的\n",
    "    '''\n",
    "    # style 3\n",
    "    minx, maxx = ax.get_xlim()\n",
    "    miny, maxy = ax.get_ylim()\n",
    "    ylen = maxy - miny\n",
    "    xlen = maxx - minx\n",
    "    \n",
    "    \n",
    "    \n",
    "    \n",
    "    lon0 = lon_x*(xlen)+minx\n",
    "    lat0 = lon_y*(ylen)+miny\n",
    "    \n",
    "    \n",
    "    ax.hlines(y=lat0,  xmin = lon0, xmax = lon0+length/111, colors=\"black\", ls=\"-\", lw=1, label='%d km' % (length))\n",
    "    ax.vlines(x = lon0, ymin = lat0-size, ymax = lat0+size, colors=\"black\", ls=\"-\", lw=1)\n",
    "    ax.vlines(x = lon0+length/2/111, ymin = lat0-size, ymax = lat0+size, colors=\"black\", ls=\"-\", lw=1)\n",
    "    ax.vlines(x = lon0+length/111, ymin = lat0-size, ymax = lat0+size, colors=\"black\", ls=\"-\", lw=1)\n",
    "    ax.text(lon0+length/111,lat0+size+0.05,'%d' % (length),horizontalalignment = 'center')\n",
    "    ax.text(lon0+length/2/111,lat0+size+0.05,'%d' % (length/2),horizontalalignment = 'center')\n",
    "    ax.text(lon0,lat0+size+0.05,'0',horizontalalignment = 'center')\n",
    "    ax.text(lon0+length/111/2*3,lat0+size+0.05,'km',horizontalalignment = 'center')\n",
    "    \n",
    "    # style 1\n",
    "    # print(help(ax.vlines))\n",
    "    # ax.hlines(y=lat0,  xmin = lon0, xmax = lon0+length/111, colors=\"black\", ls=\"-\", lw=2, label='%d km' % (length))\n",
    "    # ax.vlines(x = lon0, ymin = lat0-size, ymax = lat0+size, colors=\"black\", ls=\"-\", lw=2)\n",
    "    # ax.vlines(x = lon0+length/111, ymin = lat0-size, ymax = lat0+size, colors=\"black\", ls=\"-\", lw=2)\n",
    "    # # ax.text(lon0+length/2/111,lat0+size,'500 km',horizontalalignment = 'center')\n",
    "    # ax.text(lon0+length/2/111,lat0+size,'%d' % (length/2),horizontalalignment = 'center')\n",
    "    # ax.text(lon0,lat0+size,'0',horizontalalignment = 'center')\n",
    "    # ax.text(lon0+length/111/2*3,lat0+size,'km',horizontalalignment = 'center')\n",
    "\n",
    "    # style 2\n",
    "    # plt.hlines(y=lat0,  xmin = lon0, xmax = lon0+length/111, colors=\"black\", ls=\"-\", lw=1, label='%d km' % (length))\n",
    "    # plt.vlines(x = lon0, ymin = lat0-size, ymax = lat0+size, colors=\"black\", ls=\"-\", lw=1)\n",
    "    # plt.vlines(x = lon0+length/111, ymin = lat0-size, ymax = lat0+size, colors=\"black\", ls=\"-\", lw=1)\n",
    "    # plt.text(lon0+length/111,lat0+size,'%d km' % (length),horizontalalignment = 'center')\n",
    "    # plt.text(lon0,lat0+size,'0',horizontalalignment = 'center')\n",
    "\n",
    "def add_north(ax, labelsize=18, loc_x=0.93, loc_y=0.9, width=0.04, height=0.09, pad=0.1):\n",
    "    \"\"\"\n",
    "    画一个比例尺带'N'文字注释\n",
    "    主要参数如下\n",
    "    :param ax: 要画的坐标区域 Axes实例 plt.gca()获取即可\n",
    "    :param labelsize: 显示'N'文字的大小\n",
    "    :param loc_x: 以文字下部为中心的占整个ax横向比例\n",
    "    :param loc_y: 以文字下部为中心的占整个ax纵向比例\n",
    "    :param width: 指南针占ax比例宽度\n",
    "    :param height: 指南针占ax比例高度\n",
    "    :param pad: 文字符号占ax比例间隙\n",
    "    :return: None\n",
    "    \"\"\"\n",
    "    minx, maxx = ax.get_xlim()\n",
    "    miny, maxy = ax.get_ylim()\n",
    "    ylen = maxy - miny\n",
    "    xlen = maxx - minx\n",
    "    left = [minx + xlen*(loc_x - width*.5), miny + ylen*(loc_y - pad)]\n",
    "    right = [minx + xlen*(loc_x + width*.5), miny + ylen*(loc_y - pad)]\n",
    "    top = [minx + xlen*loc_x, miny + ylen*(loc_y - pad + height)]\n",
    "    center = [minx + xlen*loc_x, left[1] + (top[1] - left[1])*.4]\n",
    "    triangle = mpatches.Polygon([left, top, right, center], color='k')\n",
    "    ax.text(s='N',\n",
    "            x=minx + xlen*loc_x,\n",
    "            y=miny + ylen*(loc_y - pad + height),\n",
    "            fontsize=labelsize,\n",
    "            horizontalalignment='center',\n",
    "            verticalalignment='bottom')\n",
    "    ax.add_patch(triangle)\n",
    "\n",
    "def get_crs(gdf):\n",
    "    import warnings\n",
    "    warnings.filterwarnings('ignore')\n",
    "    \n",
    "    crs_dict = gdf.crs.to_dict()\n",
    "    globe = ccrs.Globe(ellipse=crs_dict['ellps'])\n",
    "    switch = {\n",
    "        'aea': ccrs.AlbersEqualArea(crs_dict['lon_0'], crs_dict['lat_0'], crs_dict['x_0'], crs_dict['y_0'], (crs_dict['lat_1'], crs_dict['lat_2']), globe),\n",
    "        'aeqd': ccrs.AzimuthalEquidistant(crs_dict['lon_0'], crs_dict['lat_0'], crs_dict['x_0'], crs_dict['y_0'], globe),\n",
    "        'eqc': ccrs.PlateCarree(crs_dict['lon_0'], globe),\n",
    "        'eqdc': ccrs.EquidistantConic(crs_dict['lon_0'], crs_dict['lat_0'], crs_dict['x_0'], crs_dict['y_0'], (crs_dict['lat_1'], crs_dict['lat_2']), globe),\n",
    "        'lcc': ccrs.LambertConformal(crs_dict['lon_0'], crs_dict['lat_0'], crs_dict['x_0'], crs_dict['y_0'], None, (crs_dict['lat_1'], crs_dict['lat_2']), globe),\n",
    "        'cea': ccrs.LambertCylindrical(crs_dict['lon_0'], globe),\n",
    "        'merc': ccrs.Mercator(crs_dict['lon_0'], -80, 84, globe, None, crs_dict['x_0'], crs_dict['y_0'], scale_factor=None),\n",
    "    }\n",
    "    return switch[crs_dict['proj']]"
   ]
  },
  {
   "cell_type": "code",
   "execution_count": null,
   "id": "06b27bad-df92-47eb-9322-882842b31c09",
   "metadata": {
    "tags": []
   },
   "outputs": [],
   "source": [
    "grid_mat = [\n",
    "    [1, 1, 1, 1, 1, 1, 1, 1], \n",
    "    [1, 1, 0, 0, 0, 0, 1, 1],\n",
    "    [1, 1, 0, 0, 0, 0, 1, 1],\n",
    "    [1, 1, 0, 0, 0, 0, 1, 1],\n",
    "    [1, 1, 0, 0, 0, 0, 1, 1],\n",
    "    [1, 1, 1, 1, 1, 1, 1, 1]\n",
    "]\n",
    "colors = get_colors(32)"
   ]
  },
  {
   "cell_type": "code",
   "execution_count": null,
   "id": "c6a4c3dc-fd0b-4efe-858b-cb7bf67227bb",
   "metadata": {
    "tags": []
   },
   "outputs": [],
   "source": [
    "path_polygon = r'D:\\Work\\江西合作团队\\boundary\\proidalbers.shp'\n",
    "path_line = r'D:\\Work\\江西合作团队\\boundary\\boundaryline.shp'"
   ]
  },
  {
   "cell_type": "code",
   "execution_count": null,
   "id": "55da7aee-e39c-47b2-af3c-9385718c54e7",
   "metadata": {
    "tags": []
   },
   "outputs": [],
   "source": [
    "star = time.time()\n",
    "fig = plt.figure(figsize = (32, 24))\n",
    "grid = GridSpec(6, 8)\n",
    "\n",
    "lst2 = ['b', 'g', 'r', 'c', 'm', 'y', 'k']\n",
    "x = np.arange(2000, 2020)\n",
    "\n",
    "p = 0\n",
    "for grid_x, i in enumerate(grid_mat):\n",
    "    for grid_y, j in enumerate(i):\n",
    "        if j == 0:\n",
    "            continue\n",
    "        ax = fig.add_subplot(grid[grid_x, grid_y])\n",
    "        for t in range(7):\n",
    "            y = lst[p].iloc[t, :]\n",
    "            ax.plot(x, y, color=lst2[t], label=key0[t])\n",
    "        ax.set_title(names[p])\n",
    "        ax.set(xlim=(2000, 2019), xticks=np.arange(2000, 2019, 5))\n",
    "        ax.ticklabel_format(style='sci', scilimits=(-1, 2), axis='y')\n",
    "        p += 1\n",
    "\n",
    "\n",
    "dic = {'Guangdong':(0.4,0.6),'Hainan':(0,0.9),'Macau':(0,-5),'Hongkong':(1,1), 'Hebei':(0.1,0.3),\n",
    "       'Shanxi':(0.2,0.4), 'Jiangxi': (0.2,0.5), 'Inner Mongolia':(0.2,0.2), 'Gansu':(0.2,0.7),\n",
    "       'Shaanxi':(0.3,0.3)}\n",
    "\n",
    "gdf_pl = gpd.read_file(path_line)\n",
    "gdf_py = gpd.read_file(path_polygon).to_crs(gdf_pl.crs)\n",
    "\n",
    "crs =  get_crs(gdf_pl)\n",
    "ax = fig.add_subplot(grid[1:5, 2:6], projection=crs)\n",
    "\n",
    "newcmp = LinearSegmentedColormap.from_list('chaos',colors)\n",
    "gpd.plotting.plot_dataframe(gdf_py, ax=ax, edgecolor='black', linewidth=0.05, cmap=newcmp, alpha=0.7)\n",
    "\n",
    "for i, record in gdf_py.iterrows():\n",
    "    name = record['NAME']\n",
    "    bound = record.geometry.bounds\n",
    "    \n",
    "    x_l = bound[2]-bound[0]\n",
    "    y_l = bound[3]-bound[1]\n",
    "    \n",
    "    if name in dic:\n",
    "        x = bound[0]+dic[name][0]*x_l\n",
    "        y = bound[1]+dic[name][1]*y_l\n",
    "    \n",
    "    else:\n",
    "        x = bound[0]+x_l*0.3\n",
    "        y = bound[1]+y_l*0.5\n",
    "    \n",
    "    ax.text(x, y, name, fontsize=10,fontstyle='oblique',fontweight= 'bold', transform=crs)\n",
    "\n",
    "gpd.plotting.plot_dataframe(gdf_pl, linewidth=1, color='#33bcf2', ax=ax, alpha=0.7)\n",
    "bounds = gdf_pl.bounds\n",
    "geo_bound = [bounds['minx'].min(), bounds['maxx'].max(), bounds['miny'].min(), bounds['maxy'].max()]\n",
    "ax.set_extent(geo_bound, crs=crs)\n",
    "\n",
    "ax.axis('off')\n",
    "labels = lst[1].index\n",
    "fig.legend(labels, bbox_to_anchor=(0.75, 0.92), ncol=7, fontsize='large', title_fontsize=\"10\")\n",
    "plt.show()\n",
    "time.time() - star"
   ]
  },
  {
   "cell_type": "code",
   "execution_count": null,
   "id": "d9b1e976-cee5-4975-b265-b96babe2e831",
   "metadata": {
    "tags": []
   },
   "outputs": [],
   "source": [
    "fig = plt.figure()"
   ]
  },
  {
   "cell_type": "code",
   "execution_count": null,
   "id": "0a5931dc-cc1a-4e32-a68c-5df9c6a0d0ed",
   "metadata": {
    "tags": []
   },
   "outputs": [],
   "source": [
    "from cartopy.crs import Projection"
   ]
  },
  {
   "cell_type": "code",
   "execution_count": null,
   "id": "23ba34de-df74-4a76-a13b-6b2160751628",
   "metadata": {
    "tags": []
   },
   "outputs": [],
   "source": [
    "gdf_pl = gpd.read_file(path_line)\n",
    "gdf_py = gpd.read_file(path_polygon).to_crs(gdf_pl.crs)"
   ]
  },
  {
   "cell_type": "code",
   "execution_count": null,
   "id": "bf473ca4-3538-4c80-9eeb-346647b0a434",
   "metadata": {},
   "outputs": [],
   "source": [
    "class AlbersEqualArea1(Projection):\n",
    "    \n",
    "    def __init__(self, crs):\n",
    "        import warnings\n",
    "        warnings.filterwarnings('ignore')\n",
    "\n",
    "        crs_dict = crs.to_dict()\n",
    "        proj4_params = [(key, value) for key, value in crs_dict.items()]\n",
    "        super().__init__(proj4_params)\n",
    "        \n",
    "    @property\n",
    "    def boundary(self):\n",
    "        return self._boundary\n",
    "\n",
    "    @property\n",
    "    def x_limits(self):\n",
    "        return self._x_limits\n",
    "\n",
    "    @property\n",
    "    def y_limits(self):\n",
    "        return self._y_limits"
   ]
  },
  {
   "cell_type": "code",
   "execution_count": null,
   "id": "cfbb176b-9470-4030-8a3a-57cf404f2b8f",
   "metadata": {},
   "outputs": [],
   "source": [
    "star = time.time()\n",
    "fig = plt.figure(figsize = (32, 24))\n",
    "grid = GridSpec(6, 8)\n",
    "\n",
    "lst2 = ['b', 'g', 'r', 'c', 'm', 'y', 'k']\n",
    "x = np.arange(2000, 2020)\n",
    "\n",
    "p = 0\n",
    "for grid_x, i in enumerate(grid_mat):\n",
    "    for grid_y, j in enumerate(i):\n",
    "        if j == 0:\n",
    "            continue\n",
    "        ax = fig.add_subplot(grid[grid_x, grid_y])\n",
    "        for t in range(7):\n",
    "            y = lst[p].iloc[t, :]\n",
    "            ax.plot(x, y, color=lst2[t], label=key0[t])\n",
    "        ax.set_title(names[p])\n",
    "        ax.set(xlim=(2000, 2019), xticks=np.arange(2000, 2019, 5))\n",
    "        ax.ticklabel_format(style='sci', scilimits=(-1, 2), axis='y')\n",
    "        p += 1\n",
    "\n",
    "\n",
    "dic = {'Guangdong':(0.4,0.6),'Hainan':(0,0.9),'Macau':(0,-5),'Hongkong':(1,1), 'Hebei':(0.1,0.3),\n",
    "       'Shanxi':(0.2,0.4), 'Jiangxi': (0.2,0.5), 'Inner Mongolia':(0.2,0.2), 'Gansu':(0.2,0.7),\n",
    "       'Shaanxi':(0.3,0.3)}\n",
    "\n",
    "gdf_pl = gpd.read_file(path_line)\n",
    "gdf_py = gpd.read_file(path_polygon).to_crs(gdf_pl.crs)\n",
    "\n",
    "ax = fig.add_subplot(grid[1:5, 2:6])\n",
    "\n",
    "newcmp = LinearSegmentedColormap.from_list('chaos',colors)\n",
    "gpd.plotting.plot_dataframe(gdf_py, ax=ax, edgecolor='black', linewidth=0.05, cmap=newcmp, alpha=0.7)\n",
    "\n",
    "for i, record in gdf_py.iterrows():\n",
    "    name = record['NAME']\n",
    "    bound = record.geometry.bounds\n",
    "    \n",
    "    x_l = bound[2]-bound[0]\n",
    "    y_l = bound[3]-bound[1]\n",
    "    \n",
    "    if name in dic:\n",
    "        x = bound[0]+dic[name][0]*x_l\n",
    "        y = bound[1]+dic[name][1]*y_l\n",
    "    \n",
    "    else:\n",
    "        x = bound[0]+x_l*0.3\n",
    "        y = bound[1]+y_l*0.5\n",
    "    \n",
    "    ax.text(x, y, name, fontsize=10,fontstyle='oblique',fontweight= 'bold')\n",
    "\n",
    "# gpd.plotting.plot_dataframe(gdf_pl, linewidth=1, color='#33bcf2', ax=ax, alpha=0.7)\n",
    "ax.add_geometries(gdf_pl.geometry, linewidth=1, color='#33bcf2', ax=ax, alpha=0.7)\n",
    "bounds = gdf_pl.bounds\n",
    "ax.set_xlim((bounds['minx'].min(), bounds['maxx'].max()))\n",
    "ax.set_ylim((bounds['miny'].min(), bounds['maxy'].max()))\n",
    "\n",
    "ax.axis('off')\n",
    "labels = lst[1].index\n",
    "fig.legend(labels, bbox_to_anchor=(0.75, 0.92), ncol=7, fontsize='large', title_fontsize=\"10\")\n",
    "plt.show()\n",
    "time.time() - star"
   ]
  },
  {
   "cell_type": "code",
   "execution_count": null,
   "id": "3a683306-9f49-48d2-810d-4e46ce025656",
   "metadata": {},
   "outputs": [],
   "source": [
    "a.items"
   ]
  },
  {
   "cell_type": "code",
   "execution_count": null,
   "id": "e95c1cbb-adea-4d6f-a4b1-8e5d5c48815e",
   "metadata": {},
   "outputs": [],
   "source": [
    "gdf_pl.crs"
   ]
  },
  {
   "cell_type": "code",
   "execution_count": null,
   "id": "1d16b856-c051-40b2-83c3-bdd3c81d351e",
   "metadata": {
    "tags": []
   },
   "outputs": [],
   "source": [
    "central_longitude = 110\n",
    "epsilon = 1e-10\n",
    "minlon = -180 + central_longitude\n",
    "maxlon = 180 + central_longitude\n",
    "if central_longitude > 0:\n",
    "    maxlon -= epsilon\n",
    "elif central_longitude < 0:\n",
    "    minlon += epsilon\n",
    "minlon, maxlon"
   ]
  },
  {
   "cell_type": "code",
   "execution_count": null,
   "id": "4935a232-5bce-433e-9160-e81f8dc9dc2a",
   "metadata": {
    "tags": []
   },
   "outputs": [],
   "source": [
    "n = 103\n",
    "lons = np.empty(2 * n + 1)\n",
    "lats = np.empty(2 * n + 1)\n",
    "tmp = np.linspace(minlon, maxlon, n)\n",
    "lons[:n] = tmp\n",
    "lats[:n] = 90\n",
    "lons[n:-1] = tmp[::-1]\n",
    "lats[n:-1] = -90\n",
    "lons[-1] = lons[0]\n",
    "lats[-1] = lats[0]"
   ]
  },
  {
   "cell_type": "code",
   "execution_count": null,
   "id": "83658fef-bc0a-47c2-8c41-5a885ba021f0",
   "metadata": {},
   "outputs": [],
   "source": [
    "points = "
   ]
  },
  {
   "cell_type": "code",
   "execution_count": null,
   "id": "2593edeb-a200-4a02-b583-38ff760672a8",
   "metadata": {},
   "outputs": [],
   "source": []
  },
  {
   "cell_type": "code",
   "execution_count": null,
   "id": "e9665b49-3393-4bdd-bd1f-057a7f5bb45b",
   "metadata": {
    "tags": []
   },
   "outputs": [],
   "source": [
    "gdf_pl.crs.to_dict()"
   ]
  },
  {
   "cell_type": "code",
   "execution_count": null,
   "id": "74bea85c-043b-4186-91bf-a5ff4a0e3c78",
   "metadata": {
    "tags": []
   },
   "outputs": [],
   "source": [
    "crs1 =  get_crs(gdf_pl)"
   ]
  },
  {
   "cell_type": "code",
   "execution_count": null,
   "id": "160899f8-134c-4d5e-ac94-d91befa67dc7",
   "metadata": {
    "tags": []
   },
   "outputs": [],
   "source": [
    "fig, ax = plt.subplots(figsize=(16, 16))\n",
    "gpd.plotting.plot_dataframe(gdf_py, ax=ax, edgecolor='black', linewidth=0.05, cmap=newcmp, alpha=0.7)\n",
    "gpd.plotting.plot_dataframe(gdf_pl, linewidth=1, color='#33bcf2', ax=ax, alpha=0.7)"
   ]
  },
  {
   "cell_type": "code",
   "execution_count": null,
   "id": "85faf595-af64-40f0-a953-2941d51b7bca",
   "metadata": {},
   "outputs": [],
   "source": []
  },
  {
   "cell_type": "code",
   "execution_count": null,
   "id": "ccb12b4a-4aea-4fb2-b9fd-4a86b048989c",
   "metadata": {},
   "outputs": [],
   "source": []
  },
  {
   "cell_type": "code",
   "execution_count": null,
   "id": "1a29fccb-c8f6-4993-bbed-9f17c36edff1",
   "metadata": {},
   "outputs": [],
   "source": []
  }
 ],
 "metadata": {
  "kernelspec": {
   "display_name": "Python 3 (ipykernel)",
   "language": "python",
   "name": "python3"
  },
  "language_info": {
   "codemirror_mode": {
    "name": "ipython",
    "version": 3
   },
   "file_extension": ".py",
   "mimetype": "text/x-python",
   "name": "python",
   "nbconvert_exporter": "python",
   "pygments_lexer": "ipython3",
   "version": "3.10.10"
  }
 },
 "nbformat": 4,
 "nbformat_minor": 5
}
