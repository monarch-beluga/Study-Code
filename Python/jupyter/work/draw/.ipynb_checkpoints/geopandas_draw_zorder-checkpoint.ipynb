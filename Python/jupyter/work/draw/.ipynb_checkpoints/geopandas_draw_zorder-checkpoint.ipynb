{
 "cells": [
  {
   "cell_type": "code",
   "execution_count": null,
   "id": "02bc5043-6ea1-4612-8b14-bb063b2a1392",
   "metadata": {
    "tags": []
   },
   "outputs": [],
   "source": [
    "import pandas as pd\n",
    "import matplotlib.pyplot as plt\n",
    "import numpy as np\n",
    "import geopandas as gpd\n",
    "import glob,os\n",
    "\n",
    "os.chdir(r'D:\\Work\\point_tu')\n",
    "\n",
    "world_path = r'画图\\Continents.shp'\n",
    "point_path = r'GMI XCO2\\*.xlsx'"
   ]
  },
  {
   "cell_type": "code",
   "execution_count": null,
   "id": "d69f4d53-dc75-407a-9f0a-59cbf920588a",
   "metadata": {
    "tags": []
   },
   "outputs": [],
   "source": [
    "gdf_world = gpd.read_file(world_path)\n",
    "\n",
    "dfs_miss = pd.DataFrame()\n",
    "fns_point = glob.glob(point_path)"
   ]
  },
  {
   "cell_type": "code",
   "execution_count": null,
   "id": "0dd2fef5-b4d6-462a-9be8-da963c0ab402",
   "metadata": {
    "tags": []
   },
   "outputs": [],
   "source": [
    "# fig, ax = plt.subplots(figsize=(15, 10), dpi=300)\n",
    "# gdf_world.geometry.plot(ax=ax,facecolor='white',edgecolor='grey',linewidth=0.4,alpha=1)\n",
    "\n",
    "for fn_point in fns_point[:2]:\n",
    "    if '~$' in fn_point:\n",
    "        continue\n",
    "    print(fn_point)\n",
    "    name = fn_point.split(os.sep)[-1].split('.')[0]\n",
    "    \n",
    "    df=pd.read_excel(fn_point)\n",
    "    \n",
    "    mean = df['XCO2(ppm)'].mean()\n",
    "    std = df['XCO2(ppm)'].std()\n",
    "\n",
    "    # df_miss = df[(df['XCO2(ppm)']< mean - 3 * std)| (df['XCO2(ppm)'] > mean + 3 * std)]\n",
    "    # df_miss['time'] = name\n",
    "    # dfs_miss= pd.concat([dfs_miss,df_miss])\n",
    "    df2 = df[~((df['XCO2(ppm)']< mean - 3 * std)| (df['XCO2(ppm)'] > mean + 3 * std))]\n",
    "    \n",
    "    gdf_point=gpd.GeoDataFrame(df2,geometry=gpd.points_from_xy(df2.iloc[:,1],df2.iloc[:,0]))   #选择XY坐标为地理坐标\n",
    "    gdf_point.crs = gdf_world.crs\n",
    "    # gdf_point = gpd.overlay(gdf_point, gdf_world.iloc[6:7, :], 'intersection')\n",
    "    \n",
    "    fig, ax = plt.subplots(figsize=(15, 10), dpi=300)\n",
    "    \n",
    "    gdf_point.plot( ax=ax,\n",
    "                    column='XCO2(ppm)',\n",
    "                    cmap='RdYlGn_r',     \n",
    "                    vmin = 390.0, vmax =425.0,\n",
    "                    #alpha=0.6,\n",
    "                    legend=True,\n",
    "                    marker='o',\n",
    "                    markersize=5,\n",
    "                    edgecolors='none',\n",
    "                    legend_kwds={'shrink': 0.6},\n",
    "                    zorder=2\n",
    "                    )\n",
    "    \n",
    "    gdf_world.plot(ax=ax,facecolor='white',edgecolor='grey',linewidth=0.4,alpha=1, zorder=1)\n",
    "\n",
    "    ax.set_facecolor(\"#87CEFA\")   #lightblue   #87CEFA\n",
    "    ax.axes.xaxis.set_visible(False)\n",
    "    ax.axes.yaxis.set_visible(False)\n",
    "    ax.set_title(name, fontsize=20,fontproperties='Times New Roman')\n",
    "    \n",
    "    \n",
    "    fig.savefig(r'img/'+name+'.png', dpi=300)\n",
    "    plt.show()\n",
    "    "
   ]
  },
  {
   "cell_type": "code",
   "execution_count": null,
   "id": "7c9d008e-d543-45ac-913d-10361d18f077",
   "metadata": {
    "tags": []
   },
   "outputs": [],
   "source": []
  },
  {
   "cell_type": "code",
   "execution_count": null,
   "id": "1d5a8891-535b-4951-9364-8e3e4946520c",
   "metadata": {},
   "outputs": [],
   "source": []
  }
 ],
 "metadata": {
  "kernelspec": {
   "display_name": "Python 3 (ipykernel)",
   "language": "python",
   "name": "python3"
  },
  "language_info": {
   "codemirror_mode": {
    "name": "ipython",
    "version": 3
   },
   "file_extension": ".py",
   "mimetype": "text/x-python",
   "name": "python",
   "nbconvert_exporter": "python",
   "pygments_lexer": "ipython3",
   "version": "3.10.10"
  }
 },
 "nbformat": 4,
 "nbformat_minor": 5
}
