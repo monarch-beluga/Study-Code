{
 "cells": [
  {
   "cell_type": "code",
   "execution_count": 1,
   "id": "ac039344-a81d-44e6-96e4-4f7cbe86e58b",
   "metadata": {
    "tags": []
   },
   "outputs": [
    {
     "data": {
      "application/vnd.jupyter.widget-view+json": {
       "model_id": "e57121ba573848c99edb36a8047e0748",
       "version_major": 2,
       "version_minor": 0
      },
      "text/plain": [
       "Map(center=[20, 0], controls=(WidgetControl(options=['position', 'transparent_bg'], widget=HBox(children=(Togg…"
      ]
     },
     "metadata": {},
     "output_type": "display_data"
    }
   ],
   "source": [
    "import geemap\n",
    "import ee\n",
    "\n",
    "Map = geemap.Map()\n",
    "Map"
   ]
  },
  {
   "cell_type": "code",
   "execution_count": 2,
   "id": "a0ca506f-2eaf-44c7-81c0-124cdf5a37c5",
   "metadata": {
    "tags": []
   },
   "outputs": [],
   "source": [
    "import os\n",
    "os.chdir(r'D:\\Work\\Variety')"
   ]
  },
  {
   "cell_type": "code",
   "execution_count": 3,
   "id": "2a176e0f-ba10-40fa-b5ca-316b978e0e16",
   "metadata": {
    "tags": []
   },
   "outputs": [],
   "source": [
    "polys = geemap.shp_to_ee('湖口/湖口_第三期.shp')\n",
    "Map.addLayer(polys, {'color': 'red'}, 'polys')"
   ]
  },
  {
   "cell_type": "code",
   "execution_count": 4,
   "id": "c0d5c496-1ebe-48ac-a660-319708a315fe",
   "metadata": {
    "tags": []
   },
   "outputs": [],
   "source": [
    "shp = polys.geometry()\n",
    "roi = shp.bounds().buffer(1000)\n",
    "Map.addLayer(roi, {}, 'shp')"
   ]
  },
  {
   "cell_type": "code",
   "execution_count": null,
   "id": "8ade20c6-caa7-4e5f-9dee-cbf86da69468",
   "metadata": {
    "tags": []
   },
   "outputs": [],
   "source": [
    "# shp_file = r'roi.shp'\n",
    "# shp = geemap.shp_to_ee(shp_file)\n",
    "\n",
    "# Map.addLayer(shp, {}, 'shp')\n",
    "\n",
    "# Map.center_object(shp, 7)\n",
    "# roi = shp.geometry()"
   ]
  },
  {
   "cell_type": "code",
   "execution_count": 5,
   "id": "06459204-8786-437a-8353-d56eb1459596",
   "metadata": {
    "tags": []
   },
   "outputs": [],
   "source": [
    "from Monarch.user_gee import cloud_free_landsat_sr"
   ]
  },
  {
   "cell_type": "code",
   "execution_count": 7,
   "id": "849fcf3f-c857-4329-af8c-3fccd3b829ba",
   "metadata": {
    "tags": []
   },
   "outputs": [],
   "source": [
    "landsat_2015 = ee.ImageCollection(\"LANDSAT/LC08/C01/T1_SR\").filterDate('2015-06', '2015-10').filterBounds(roi).sort('CLOUD_COVER', False).map(cloud_free_landsat_sr).select('B[1-7]').mosaic().clip(roi)\n",
    "landsat_2022 = ee.ImageCollection(\"LANDSAT/LC08/C01/T1_SR\").filterDate('2022-06', '2022-10').filterBounds(roi).sort('CLOUD_COVER', False).map(cloud_free_landsat_sr).select('B[1-7]').mosaic().clip(roi)"
   ]
  },
  {
   "cell_type": "code",
   "execution_count": 8,
   "id": "502ef948-7453-404b-b0c4-d095e19b2cf2",
   "metadata": {
    "tags": []
   },
   "outputs": [],
   "source": [
    "ndvi_2015 = landsat_2015.normalizedDifference(['B5', 'B4'])\n",
    "ndvi_2022 = landsat_2022.normalizedDifference(['B5', 'B4'])"
   ]
  },
  {
   "cell_type": "code",
   "execution_count": 9,
   "id": "cc7f369d-7bd2-473a-aba5-77e301542e44",
   "metadata": {
    "tags": []
   },
   "outputs": [
    {
     "ename": "EEException",
     "evalue": "Image.normalizedDifference: No band named 'B5'. Available band names: [].",
     "output_type": "error",
     "traceback": [
      "\u001b[1;31m---------------------------------------------------------------------------\u001b[0m",
      "\u001b[1;31mHttpError\u001b[0m                                 Traceback (most recent call last)",
      "File \u001b[1;32mD:\\Study\\Python\\python3\\lib\\site-packages\\ee\\data.py:329\u001b[0m, in \u001b[0;36m_execute_cloud_call\u001b[1;34m(call, num_retries)\u001b[0m\n\u001b[0;32m    328\u001b[0m \u001b[38;5;28;01mtry\u001b[39;00m:\n\u001b[1;32m--> 329\u001b[0m   \u001b[38;5;28;01mreturn\u001b[39;00m \u001b[43mcall\u001b[49m\u001b[38;5;241;43m.\u001b[39;49m\u001b[43mexecute\u001b[49m\u001b[43m(\u001b[49m\u001b[43mnum_retries\u001b[49m\u001b[38;5;241;43m=\u001b[39;49m\u001b[43mnum_retries\u001b[49m\u001b[43m)\u001b[49m\n\u001b[0;32m    330\u001b[0m \u001b[38;5;28;01mexcept\u001b[39;00m googleapiclient\u001b[38;5;241m.\u001b[39merrors\u001b[38;5;241m.\u001b[39mHttpError \u001b[38;5;28;01mas\u001b[39;00m e:\n",
      "File \u001b[1;32mD:\\Study\\Python\\python3\\lib\\site-packages\\googleapiclient\\_helpers.py:130\u001b[0m, in \u001b[0;36mpositional.<locals>.positional_decorator.<locals>.positional_wrapper\u001b[1;34m(*args, **kwargs)\u001b[0m\n\u001b[0;32m    129\u001b[0m         logger\u001b[38;5;241m.\u001b[39mwarning(message)\n\u001b[1;32m--> 130\u001b[0m \u001b[38;5;28;01mreturn\u001b[39;00m wrapped(\u001b[38;5;241m*\u001b[39margs, \u001b[38;5;241m*\u001b[39m\u001b[38;5;241m*\u001b[39mkwargs)\n",
      "File \u001b[1;32mD:\\Study\\Python\\python3\\lib\\site-packages\\googleapiclient\\http.py:938\u001b[0m, in \u001b[0;36mHttpRequest.execute\u001b[1;34m(self, http, num_retries)\u001b[0m\n\u001b[0;32m    937\u001b[0m \u001b[38;5;28;01mif\u001b[39;00m resp\u001b[38;5;241m.\u001b[39mstatus \u001b[38;5;241m>\u001b[39m\u001b[38;5;241m=\u001b[39m \u001b[38;5;241m300\u001b[39m:\n\u001b[1;32m--> 938\u001b[0m     \u001b[38;5;28;01mraise\u001b[39;00m HttpError(resp, content, uri\u001b[38;5;241m=\u001b[39m\u001b[38;5;28mself\u001b[39m\u001b[38;5;241m.\u001b[39muri)\n\u001b[0;32m    939\u001b[0m \u001b[38;5;28;01mreturn\u001b[39;00m \u001b[38;5;28mself\u001b[39m\u001b[38;5;241m.\u001b[39mpostproc(resp, content)\n",
      "\u001b[1;31mHttpError\u001b[0m: <HttpError 400 when requesting https://earthengine.googleapis.com/v1alpha/projects/earthengine-legacy/maps?fields=name&alt=json returned \"Image.normalizedDifference: No band named 'B5'. Available band names: [].\". Details: \"Image.normalizedDifference: No band named 'B5'. Available band names: [].\">",
      "\nDuring handling of the above exception, another exception occurred:\n",
      "\u001b[1;31mEEException\u001b[0m                               Traceback (most recent call last)",
      "Cell \u001b[1;32mIn[9], line 2\u001b[0m\n\u001b[0;32m      1\u001b[0m Map\u001b[38;5;241m.\u001b[39maddLayer(ndvi_2015, {\u001b[38;5;124m'\u001b[39m\u001b[38;5;124mmax\u001b[39m\u001b[38;5;124m'\u001b[39m:\u001b[38;5;241m1\u001b[39m, \u001b[38;5;124m'\u001b[39m\u001b[38;5;124mmin\u001b[39m\u001b[38;5;124m'\u001b[39m:\u001b[38;5;241m-\u001b[39m\u001b[38;5;241m1\u001b[39m}, \u001b[38;5;124m'\u001b[39m\u001b[38;5;124mndvi_2015\u001b[39m\u001b[38;5;124m'\u001b[39m)\n\u001b[1;32m----> 2\u001b[0m \u001b[43mMap\u001b[49m\u001b[38;5;241;43m.\u001b[39;49m\u001b[43maddLayer\u001b[49m\u001b[43m(\u001b[49m\u001b[43mndvi_2022\u001b[49m\u001b[43m,\u001b[49m\u001b[43m \u001b[49m\u001b[43m{\u001b[49m\u001b[38;5;124;43m'\u001b[39;49m\u001b[38;5;124;43mmax\u001b[39;49m\u001b[38;5;124;43m'\u001b[39;49m\u001b[43m:\u001b[49m\u001b[38;5;241;43m1\u001b[39;49m\u001b[43m,\u001b[49m\u001b[43m \u001b[49m\u001b[38;5;124;43m'\u001b[39;49m\u001b[38;5;124;43mmin\u001b[39;49m\u001b[38;5;124;43m'\u001b[39;49m\u001b[43m:\u001b[49m\u001b[38;5;241;43m-\u001b[39;49m\u001b[38;5;241;43m1\u001b[39;49m\u001b[43m}\u001b[49m\u001b[43m,\u001b[49m\u001b[43m \u001b[49m\u001b[38;5;124;43m'\u001b[39;49m\u001b[38;5;124;43mndvi_2021\u001b[39;49m\u001b[38;5;124;43m'\u001b[39;49m\u001b[43m)\u001b[49m\n",
      "File \u001b[1;32mD:\\Study\\Python\\python3\\lib\\site-packages\\geemap\\geemap.py:1495\u001b[0m, in \u001b[0;36mMap.add_ee_layer\u001b[1;34m(self, ee_object, vis_params, name, shown, opacity)\u001b[0m\n\u001b[0;32m   1490\u001b[0m     \u001b[38;5;28;01melif\u001b[39;00m \u001b[38;5;129;01mnot\u001b[39;00m \u001b[38;5;28misinstance\u001b[39m(vis_params[\u001b[38;5;124m\"\u001b[39m\u001b[38;5;124mpalette\u001b[39m\u001b[38;5;124m\"\u001b[39m], \u001b[38;5;28mlist\u001b[39m):\n\u001b[0;32m   1491\u001b[0m         \u001b[38;5;28;01mraise\u001b[39;00m \u001b[38;5;167;01mValueError\u001b[39;00m(\n\u001b[0;32m   1492\u001b[0m             \u001b[38;5;124m\"\u001b[39m\u001b[38;5;124mThe palette must be a list of colors or a string or a Box object.\u001b[39m\u001b[38;5;124m\"\u001b[39m\n\u001b[0;32m   1493\u001b[0m         )\n\u001b[1;32m-> 1495\u001b[0m map_id_dict \u001b[38;5;241m=\u001b[39m \u001b[43mee\u001b[49m\u001b[38;5;241;43m.\u001b[39;49m\u001b[43mImage\u001b[49m\u001b[43m(\u001b[49m\u001b[43mimage\u001b[49m\u001b[43m)\u001b[49m\u001b[38;5;241;43m.\u001b[39;49m\u001b[43mgetMapId\u001b[49m\u001b[43m(\u001b[49m\u001b[43mvis_params\u001b[49m\u001b[43m)\u001b[49m\n\u001b[0;32m   1496\u001b[0m url \u001b[38;5;241m=\u001b[39m map_id_dict[\u001b[38;5;124m\"\u001b[39m\u001b[38;5;124mtile_fetcher\u001b[39m\u001b[38;5;124m\"\u001b[39m]\u001b[38;5;241m.\u001b[39murl_format\n\u001b[0;32m   1497\u001b[0m tile_layer \u001b[38;5;241m=\u001b[39m ipyleaflet\u001b[38;5;241m.\u001b[39mTileLayer(\n\u001b[0;32m   1498\u001b[0m     url\u001b[38;5;241m=\u001b[39murl,\n\u001b[0;32m   1499\u001b[0m     attribution\u001b[38;5;241m=\u001b[39m\u001b[38;5;124m\"\u001b[39m\u001b[38;5;124mGoogle Earth Engine\u001b[39m\u001b[38;5;124m\"\u001b[39m,\n\u001b[1;32m   (...)\u001b[0m\n\u001b[0;32m   1503\u001b[0m     max_zoom\u001b[38;5;241m=\u001b[39m\u001b[38;5;241m24\u001b[39m,\n\u001b[0;32m   1504\u001b[0m )\n",
      "File \u001b[1;32mD:\\Study\\Python\\python3\\lib\\site-packages\\ee\\image.py:130\u001b[0m, in \u001b[0;36mImage.getMapId\u001b[1;34m(self, vis_params)\u001b[0m\n\u001b[0;32m    128\u001b[0m vis_image, request \u001b[38;5;241m=\u001b[39m \u001b[38;5;28mself\u001b[39m\u001b[38;5;241m.\u001b[39m_apply_visualization(vis_params)\n\u001b[0;32m    129\u001b[0m request[\u001b[38;5;124m'\u001b[39m\u001b[38;5;124mimage\u001b[39m\u001b[38;5;124m'\u001b[39m] \u001b[38;5;241m=\u001b[39m vis_image\n\u001b[1;32m--> 130\u001b[0m response \u001b[38;5;241m=\u001b[39m \u001b[43mdata\u001b[49m\u001b[38;5;241;43m.\u001b[39;49m\u001b[43mgetMapId\u001b[49m\u001b[43m(\u001b[49m\u001b[43mrequest\u001b[49m\u001b[43m)\u001b[49m\n\u001b[0;32m    131\u001b[0m response[\u001b[38;5;124m'\u001b[39m\u001b[38;5;124mimage\u001b[39m\u001b[38;5;124m'\u001b[39m] \u001b[38;5;241m=\u001b[39m \u001b[38;5;28mself\u001b[39m\n\u001b[0;32m    132\u001b[0m \u001b[38;5;28;01mreturn\u001b[39;00m response\n",
      "File \u001b[1;32mD:\\Study\\Python\\python3\\lib\\site-packages\\ee\\data.py:617\u001b[0m, in \u001b[0;36mgetMapId\u001b[1;34m(params)\u001b[0m\n\u001b[0;32m    612\u001b[0m queryParams \u001b[38;5;241m=\u001b[39m {\n\u001b[0;32m    613\u001b[0m     \u001b[38;5;124m'\u001b[39m\u001b[38;5;124mfields\u001b[39m\u001b[38;5;124m'\u001b[39m: \u001b[38;5;124m'\u001b[39m\u001b[38;5;124mname\u001b[39m\u001b[38;5;124m'\u001b[39m,\n\u001b[0;32m    614\u001b[0m     \u001b[38;5;124m'\u001b[39m\u001b[38;5;124mbody\u001b[39m\u001b[38;5;124m'\u001b[39m: request,\n\u001b[0;32m    615\u001b[0m }\n\u001b[0;32m    616\u001b[0m _maybe_populate_workload_tag(queryParams)\n\u001b[1;32m--> 617\u001b[0m result \u001b[38;5;241m=\u001b[39m \u001b[43m_execute_cloud_call\u001b[49m\u001b[43m(\u001b[49m\n\u001b[0;32m    618\u001b[0m \u001b[43m    \u001b[49m\u001b[43m_get_cloud_api_resource\u001b[49m\u001b[43m(\u001b[49m\u001b[43m)\u001b[49m\u001b[38;5;241;43m.\u001b[39;49m\u001b[43mprojects\u001b[49m\u001b[43m(\u001b[49m\u001b[43m)\u001b[49m\u001b[38;5;241;43m.\u001b[39;49m\u001b[43mmaps\u001b[49m\u001b[43m(\u001b[49m\u001b[43m)\u001b[49m\u001b[38;5;241;43m.\u001b[39;49m\u001b[43mcreate\u001b[49m\u001b[43m(\u001b[49m\n\u001b[0;32m    619\u001b[0m \u001b[43m        \u001b[49m\u001b[43mparent\u001b[49m\u001b[38;5;241;43m=\u001b[39;49m\u001b[43m_get_projects_path\u001b[49m\u001b[43m(\u001b[49m\u001b[43m)\u001b[49m\u001b[43m,\u001b[49m\u001b[43m \u001b[49m\u001b[38;5;241;43m*\u001b[39;49m\u001b[38;5;241;43m*\u001b[39;49m\u001b[43mqueryParams\u001b[49m\u001b[43m)\u001b[49m\u001b[43m)\u001b[49m\n\u001b[0;32m    620\u001b[0m map_name \u001b[38;5;241m=\u001b[39m result[\u001b[38;5;124m'\u001b[39m\u001b[38;5;124mname\u001b[39m\u001b[38;5;124m'\u001b[39m]\n\u001b[0;32m    621\u001b[0m url_format \u001b[38;5;241m=\u001b[39m \u001b[38;5;124m'\u001b[39m\u001b[38;5;132;01m%s\u001b[39;00m\u001b[38;5;124m/\u001b[39m\u001b[38;5;132;01m%s\u001b[39;00m\u001b[38;5;124m/\u001b[39m\u001b[38;5;132;01m%s\u001b[39;00m\u001b[38;5;124m/tiles/\u001b[39m\u001b[38;5;132;01m{z}\u001b[39;00m\u001b[38;5;124m/\u001b[39m\u001b[38;5;132;01m{x}\u001b[39;00m\u001b[38;5;124m/\u001b[39m\u001b[38;5;132;01m{y}\u001b[39;00m\u001b[38;5;124m'\u001b[39m \u001b[38;5;241m%\u001b[39m (\n\u001b[0;32m    622\u001b[0m     _tile_base_url, _cloud_api_utils\u001b[38;5;241m.\u001b[39mVERSION, map_name)\n",
      "File \u001b[1;32mD:\\Study\\Python\\python3\\lib\\site-packages\\ee\\data.py:331\u001b[0m, in \u001b[0;36m_execute_cloud_call\u001b[1;34m(call, num_retries)\u001b[0m\n\u001b[0;32m    329\u001b[0m   \u001b[38;5;28;01mreturn\u001b[39;00m call\u001b[38;5;241m.\u001b[39mexecute(num_retries\u001b[38;5;241m=\u001b[39mnum_retries)\n\u001b[0;32m    330\u001b[0m \u001b[38;5;28;01mexcept\u001b[39;00m googleapiclient\u001b[38;5;241m.\u001b[39merrors\u001b[38;5;241m.\u001b[39mHttpError \u001b[38;5;28;01mas\u001b[39;00m e:\n\u001b[1;32m--> 331\u001b[0m   \u001b[38;5;28;01mraise\u001b[39;00m _translate_cloud_exception(e)\n",
      "\u001b[1;31mEEException\u001b[0m: Image.normalizedDifference: No band named 'B5'. Available band names: []."
     ]
    }
   ],
   "source": [
    "Map.addLayer(ndvi_2015, {'max':1, 'min':-1}, 'ndvi_2015')\n",
    "Map.addLayer(ndvi_2022, {'max':1, 'min':-1}, 'ndvi_2021')"
   ]
  },
  {
   "cell_type": "code",
   "execution_count": null,
   "id": "0a157ef4-6d93-487c-a41e-c7b8c336ad57",
   "metadata": {},
   "outputs": [],
   "source": [
    "Map.addLayer(landsat_2015, {'bands':['B4', 'B3', 'B2'], 'max':3000, 'min':0}, 'landsat_2015')\n",
    "Map.addLayer(landsat_2022, {'bands':['B4', 'B3', 'B2'], 'max':3000, 'min':0}, 'landsat_2021')"
   ]
  },
  {
   "cell_type": "code",
   "execution_count": null,
   "id": "11266d8c-c286-47dd-901b-12cc1750e953",
   "metadata": {
    "tags": []
   },
   "outputs": [],
   "source": [
    "ndvi_2015_v = ndvi_2015.gt(0.2)\n",
    "ndvi_2022_v = ndvi_2022.gt(0.2)"
   ]
  },
  {
   "cell_type": "code",
   "execution_count": null,
   "id": "cc119254-9c3a-4894-a334-22bde4ee4db9",
   "metadata": {
    "tags": []
   },
   "outputs": [],
   "source": [
    "Map.addLayer(ndvi_2015_v, {'max':1, 'min':0}, 'ndvi_2015_v')\n",
    "Map.addLayer(ndvi_2022_v, {'max':1, 'min':0}, 'ndvi_2021_v')"
   ]
  },
  {
   "cell_type": "code",
   "execution_count": null,
   "id": "cbfa8de9-373c-45d4-9ed9-88d95fe6ad87",
   "metadata": {},
   "outputs": [],
   "source": [
    "Map.addLayer(ndvi_2015_v, {'max':1, 'min':0}, 'ndvi_2015_v2')\n",
    "Map.addLayer(ndvi_2022_v, {'max':1, 'min':0}, 'ndvi_2021_v2')"
   ]
  },
  {
   "cell_type": "code",
   "execution_count": null,
   "id": "0901f654-cab5-4d34-a5c8-44e2c26f3166",
   "metadata": {},
   "outputs": [],
   "source": [
    "ps = geemap.shp_to_ee('xiushui_ps.shp')"
   ]
  },
  {
   "cell_type": "code",
   "execution_count": null,
   "id": "eec5c027-eae7-4ed9-b14a-b2719c7f1465",
   "metadata": {},
   "outputs": [],
   "source": [
    "Map.addLayer(ps, {'color': 'red'}, 'ps')"
   ]
  },
  {
   "cell_type": "code",
   "execution_count": null,
   "id": "b0876bfb-a3a9-4405-bd27-c97b1b84d6a5",
   "metadata": {},
   "outputs": [],
   "source": [
    "Map.addLayer(polys, {'color': 'red'}, 'polys')"
   ]
  },
  {
   "cell_type": "code",
   "execution_count": null,
   "id": "a2b0d39e-ec78-4ca4-873b-a8910500f167",
   "metadata": {},
   "outputs": [],
   "source": []
  }
 ],
 "metadata": {
  "kernelspec": {
   "display_name": "Python 3 (ipykernel)",
   "language": "python",
   "name": "python3"
  },
  "language_info": {
   "codemirror_mode": {
    "name": "ipython",
    "version": 3
   },
   "file_extension": ".py",
   "mimetype": "text/x-python",
   "name": "python",
   "nbconvert_exporter": "python",
   "pygments_lexer": "ipython3",
   "version": "3.10.10"
  }
 },
 "nbformat": 4,
 "nbformat_minor": 5
}
