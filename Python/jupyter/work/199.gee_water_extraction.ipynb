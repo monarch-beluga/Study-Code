{
 "cells": [
  {
   "cell_type": "markdown",
   "metadata": {},
   "source": [
    "# workflow\n",
    "01. 确定研究区\n",
    "02. 研究时间段，历史洪水区\n",
    "03. 获取影像，评估数据数量和质量\n",
    "04. 提取时间序列水域\n",
    "05. 精度评价"
   ]
  },
  {
   "cell_type": "code",
   "execution_count": null,
   "metadata": {},
   "outputs": [],
   "source": [
    "import ee, os, geemap\n",
    "import numpy as np\n",
    "import pandas as pd\n",
    "\n",
    "ee.Initialize()\n",
    "Map = geemap.Map()"
   ]
  },
  {
   "cell_type": "code",
   "execution_count": null,
   "metadata": {},
   "outputs": [],
   "source": [
    "bound_roi = ee.FeatureCollection('users/yehuigeo/poyanghu')\n",
    "date_yr = 1997, 2020\n",
    "doy = '-01-01', '-12-31'\n",
    "date_st = str(date_yr[0]) + doy[0]\n",
    "date_ed = str(date_yr[1]) + doy[1]"
   ]
  },
  {
   "cell_type": "code",
   "execution_count": null,
   "metadata": {},
   "outputs": [],
   "source": [
    "# cor_list = bound_roi.geometry().coordinates().getInfo()"
   ]
  },
  {
   "cell_type": "code",
   "execution_count": null,
   "metadata": {},
   "outputs": [],
   "source": [
    "# get corner points\n",
    "# cors = np.array(cor_list[0])\n",
    "# x1 = cors[:,:,0].min()\n",
    "# x2 = cors[:,:,0].max()\n",
    "# y1 = cors[:,:,1].min()\n",
    "# y2 = cors[:,:,1].max()"
   ]
  },
  {
   "cell_type": "code",
   "execution_count": null,
   "metadata": {},
   "outputs": [],
   "source": [
    "roi = bound_roi.union().geometry().buffer(5000).bounds()"
   ]
  },
  {
   "cell_type": "markdown",
   "metadata": {},
   "source": [
    "##符合质量的影像数据日期\n",
    "Landsat-5卫星 1984-03-01 - 2008-07-29\n",
    "Landsat-7卫星 1999-4-15\n",
    "Landsat-8卫星 2013-2-11\n"
   ]
  },
  {
   "cell_type": "code",
   "execution_count": null,
   "metadata": {},
   "outputs": [],
   "source": [
    "# -------------去云----------------------------------\n",
    "def cloudMaskL457(image):\n",
    "    qa = image.select('pixel_qa')\n",
    "  # If the cloud bit (5) is set and the cloud confidence (7) is high\n",
    "  # or the cloud shadow bit is set (3), then it's a bad pixel.\n",
    "    cloud = qa.bitwiseAnd(1 << 5) \\\n",
    "                  .And(qa.bitwiseAnd(1 << 7)) \\\n",
    "                  .Or(qa.bitwiseAnd(1 << 3))\n",
    "  # Remove edge pixels that don't occur in all bands\n",
    "    mask2 = image.mask().reduce(ee.Reducer.min())\n",
    "    return image.updateMask(cloud.Not()).updateMask(mask2).divide(10000)\n",
    "\n",
    "def maskS2clouds(image):   # This function was used to mask the clouds for sentinel-2\n",
    "    qa = image.select('QA60')\n",
    "\n",
    "  # Bits 10 and 11 are clouds and cirrus, respectively.\n",
    "    cloudBitMask = 1 << 10\n",
    "    cirrusBitMask = 1 << 11\n",
    "\n",
    "  # Both flags should be set to zero, indicating clear conditions.\n",
    "    mask = qa.bitwiseAnd(cloudBitMask).eq(0).And(\n",
    "             qa.bitwiseAnd(cirrusBitMask).eq(0))\n",
    "\n",
    "  # Return the masked and scaled data, without the QA bands.\n",
    "    return image.updateMask(mask).divide(10000).select(\"B.*\").copyProperties(image, [\"system:time_start\"])\n",
    "\n",
    "def maskL8sr(image):\n",
    "  # Bits 3 and 5 are cloud shadow and cloud, respectively.\n",
    "    cloudShadowBitMask = (1 << 3)\n",
    "    cloudsBitMask = (1 << 5)\n",
    "    # Get the pixel QA band.\n",
    "    qa = image.select('pixel_qa')\n",
    "    # Both flags should be set to zero, indicating clear conditions.\n",
    "    mask = qa.bitwiseAnd(cloudShadowBitMask).eq(0) \\\n",
    "                 .And(qa.bitwiseAnd(cloudsBitMask).eq(0)).divide(10000)\n",
    "    return image.updateMask(mask)\n"
   ]
  },
  {
   "cell_type": "markdown",
   "metadata": {},
   "source": [
    "归一化水指数\n",
    "NDWI = (绿波段 - 近红外波段) / (绿波段 + 近红外波段)\n",
    "\n",
    "landsat8: NDWI = (band3 - band5) / (band3 + band5)\n",
    "landsat5/7: NDWI = (band2 - band4) / (band2 + band4)\n",
    "sentinel2: NDWI = (band3 - band8) / (band3 + band8)\n",
    "\n",
    "-------------------------------------------------------\n",
    "<!-- Landsat7 band introduction\n",
    "Band 1 (blue) \n",
    "Band 2 (green) \n",
    "Band 3 (red) \n",
    "Band 4 (near infrared) \n",
    "Band 5 (shortwave infrared 1)\n",
    "Band 6 briahtness temoerature\n",
    "Band 7 (shortwave infrared 2） -->"
   ]
  },
  {
   "cell_type": "code",
   "execution_count": null,
   "metadata": {},
   "outputs": [],
   "source": [
    "def cal_EVI(img):\n",
    "    EVI = img.expression(\n",
    "        '2.5 * ((NIR - RED) / (NIR + 6 * RED - 7.5 * BLUE + 1))', {\n",
    "          'NIR': img.select('B4'),\n",
    "          'RED': img.select('B3'),\n",
    "          'BLUE':img.select('B1')})\n",
    "    return EVI.rename('EVI').updateMask(EVI.gt(-1).And(EVI.lt(1)))\n",
    "def cal_GCVI(img):\n",
    "    GCVI = img.expression(\n",
    "        '(NIR / Green - 1)', {\n",
    "          'NIR': img.select('B4'),\n",
    "          'Green': img.select('B2')})\n",
    "    return GCVI.rename('GCVI')\n",
    "def cal_LSWI(img): #  the shortwave infrared (SWIR) and the NIR regions of the electromagnetic spectrum\n",
    "    LSWI = img.normalizedDifference(['B4','B5']).rename('LSWI')\n",
    "    return LSWI.updateMask(LSWI.gt(-1).And(LSWI.lt(1)))\n",
    "def cal_NDWI(img):\n",
    "    NDWI = img.normalizedDifference(['B2','B4']).rename('NDWI')\n",
    "    return NDWI.updateMask(NDWI.gt(-1).And(NDWI.lt(1)))\n",
    "def cal_mNDWI(img):\n",
    "    mNDWI = img.normalizedDifference(['B2','B5']).rename('mNDWI')\n",
    "    return mNDWI.updateMask(mNDWI.gt(-1).And(mNDWI.lt(1)))\n",
    "def cal_NDVI(img):\n",
    "    NDVI = img.normalizedDifference(['B4','B3']).rename('NDVI')\n",
    "    return NDVI.updateMask(NDVI.gt(-1).And(NDVI.lt(1)))\n",
    "# def cal_NDSI(img):\n",
    "#     NDSI = img.normalizedDifference(['B2','B5']).rename('NDSI')\n",
    "def addVIs(img):\n",
    "    b1 = cal_NDVI(img)\n",
    "    b2 = cal_EVI(img)\n",
    "    b3 = cal_LSWI(img)\n",
    "    b4 = cal_NDWI(img)\n",
    "    b5 = cal_mNDWI(img)\n",
    "    VIs_imgs = img.addBands(b1).addBands(b2).addBands(b3).addBands(b4).addBands(b5)\n",
    "    return VIs_imgs\n",
    "# def addVIs(img):\n",
    "#     NDWI = img.normalizedDifference(['B3','B5']).rename('NDWI')\n",
    "#     LSWI = img.normalizedDifference(['B5','B6']).rename('LSWI')\n",
    "#     EVI = f_EVI(img)\n",
    "#     GCVI = f_GCVI(img)\n",
    "#     return img.addBands(NDVI).addBands(NDWI).addBands(LSWI).addBands(EVI).addBands(GCVI)"
   ]
  },
  {
   "cell_type": "markdown",
   "metadata": {},
   "source": [
    "<!-- Landsat7 band introduction\n",
    "Band 1 (blue) \n",
    "Band 2 (green) \n",
    "Band 3 (red) \n",
    "Band 4 (near infrared) \n",
    "Band 5 (shortwave infrared 1)\n",
    "Band 6 briahtness temoerature\n",
    "Band 7 (shortwave infrared 2） -->"
   ]
  },
  {
   "cell_type": "code",
   "execution_count": null,
   "metadata": {},
   "outputs": [],
   "source": [
    "# ------------------get imageCollection data---------------------------------\n",
    "collection5 = ee.ImageCollection('LANDSAT/LT05/C01/T1_SR') \\\n",
    "    .filterBounds(bound_roi) \\\n",
    "    .filterDate(date_st, date_ed) \\\n",
    "    .map(cloudMaskL457) \\\n",
    "    .select(['B1', 'B2', 'B3', 'B4', 'B5', 'B7', 'pixel_qa'])\n",
    "# print('Landsat5')\n",
    "print(collection5.size().getInfo())\n",
    "# get landsat 7\n",
    "collection7 = ee.ImageCollection('LANDSAT/LE07/C01/T1_SR') \\\n",
    "    .filterBounds(bound_roi) \\\n",
    "    .filterDate(date_st, date_ed) \\\n",
    "    .map(cloudMaskL457) \\\n",
    "    .select(['B1', 'B2', 'B3', 'B4', 'B5', 'B7', 'pixel_qa'])\n",
    "# get landsat 8\n",
    "collection8 = ee.ImageCollection('LANDSAT/LC08/C01/T1_SR')\\\n",
    "    .filterBounds(bound_roi) \\\n",
    "    .filterDate(date_st, date_ed) \\\n",
    "    .map(maskL8sr).select(['B2', 'B3', 'B4', 'B5', 'B6', 'B7', 'pixel_qa'],['B1', 'B2', 'B3', 'B4', 'B5', 'B7', 'pixel_qa']) \n",
    "print(collection8.size().getInfo())\n",
    "# get sentinel-2A\n",
    "sentinel2 = ee.ImageCollection(\"COPERNICUS/S2_SR\").filter(ee.Filter.lt('CLOUDY_PIXEL_PERCENTAGE',20))\\\n",
    "    .filterDate(date_st, date_ed).map(maskS2clouds).filterBounds(bound_roi)\\\n",
    "    .select(['B2', 'B3', 'B4', 'B8', 'B11', 'B12'],['B1', 'B2', 'B3', 'B4', 'B5', 'B7']) "
   ]
  },
  {
   "cell_type": "code",
   "execution_count": null,
   "metadata": {},
   "outputs": [],
   "source": [
    "class down_para:\n",
    "    dir_save = r'D:\\03.Temporary'\n",
    "    f_format = '.tif'\n",
    "if not os.path.exists(down_para.dir_save):\n",
    "    os.makedirs(down_para.dir_save)"
   ]
  },
  {
   "cell_type": "code",
   "execution_count": null,
   "metadata": {},
   "outputs": [],
   "source": [
    "date_list5 = collection5.aggregate_array('system:index').getInfo()\n",
    "date_list7 = collection7.aggregate_array('system:index').getInfo()\n"
   ]
  },
  {
   "cell_type": "code",
   "execution_count": null,
   "metadata": {},
   "outputs": [],
   "source": [
    "date_list8 = collection8.aggregate_array('system:index').getInfo()"
   ]
  },
  {
   "cell_type": "code",
   "execution_count": null,
   "metadata": {},
   "outputs": [],
   "source": [
    "# px = collection5.first().get('system:index').getInfo()\n",
    "# def class_images(i):\n",
    "#     [types, locates, doys] = i.split('_')\n",
    "def get_images_info(date_list):\n",
    "    for i, j in enumerate(date_list):  \n",
    "        arr_info = np.array(j.split('_')).reshape(1,-1)\n",
    "        if i == 0:\n",
    "            arr_stas = arr_info\n",
    "            continue\n",
    "        arr_stas = np.vstack([arr_stas,arr_info])\n",
    "    df_images_info = pd.DataFrame(arr_stas, columns=['type', 'locate', 'date'])    \n",
    "    return df_images_info           \n",
    "#         image_info = np.array(i.split('_')).reshape(1,-1)"
   ]
  },
  {
   "cell_type": "code",
   "execution_count": null,
   "metadata": {},
   "outputs": [],
   "source": [
    "df_info_col8 = get_images_info(date_list8)\n",
    "# print(df_info_col8)\n",
    "# print(df_images_info['date'])\n",
    "# df_images_info = pd.DataFrame(arr_stas, columns=['type', 'locate', 'date']) "
   ]
  },
  {
   "cell_type": "code",
   "execution_count": null,
   "metadata": {},
   "outputs": [],
   "source": [
    "df_info_col7 = get_images_info(date_list7)\n",
    "df_info_col5 = get_images_info(date_list5)\n",
    "# print(df_info_col5)\n",
    "# print(df_info_col7)"
   ]
  },
  {
   "cell_type": "markdown",
   "metadata": {
    "cell_style": "center"
   },
   "source": [
    "计算多种指数提取水域，水域汛期规律"
   ]
  },
  {
   "cell_type": "code",
   "execution_count": null,
   "metadata": {},
   "outputs": [],
   "source": [
    "def water_detect(img):\n",
    "    c1 = img.select('mNDWI')\n",
    "    c2 = img.select('EVI')\n",
    "    c3 = img.select('NDVI')\n",
    "    img_water = c1.gt(c2).Or(c1.gt(c3)).And(c2.lt(0.1))\n",
    "    return img_water\n",
    "# def NonWater_detect(img):\n",
    "#     img_NonWater = img.select('mNDWI').lte(img.select('EVI')).and(img.select('mNDWI').lte(img.select('NDVI')).or(img.select('EVI').gte(0.1))\n",
    "#     return img_NonWater"
   ]
  },
  {
   "cell_type": "code",
   "execution_count": null,
   "metadata": {},
   "outputs": [],
   "source": [
    "images_water = collection5.map(cal_mNDWI).select('mNDWI').mean()"
   ]
  },
  {
   "cell_type": "code",
   "execution_count": null,
   "metadata": {},
   "outputs": [],
   "source": [
    "# print(images_water.getInfo())\n",
    "Map.addLayer(images_water.clip(bound_roi), {}, \"show1\")"
   ]
  },
  {
   "cell_type": "code",
   "execution_count": null,
   "metadata": {
    "cell_style": "center"
   },
   "outputs": [],
   "source": [
    "Map.addLayer(images_water.clip(bound_roi), {}, \"show1\")\n",
    "Map.centerObject(roi)\n",
    "Map"
   ]
  },
  {
   "cell_type": "code",
   "execution_count": null,
   "metadata": {
    "pycharm": {
     "name": "#%%\n"
    }
   },
   "outputs": [],
   "source": [
    "file = down_para.dir_save + os.sep + 'test11' + down_para.f_format\n",
    "# 导出栅格影像，file_per_band为是否按波段分别导出\n",
    "geemap.ee_export_image(images_water.clip(roi), filename=file, scale=30,region=roi,file_per_band=True)"
   ]
  }
 ],
 "metadata": {
  "kernelspec": {
   "display_name": "Python 3 (ipykernel)",
   "language": "python",
   "name": "python3"
  },
  "language_info": {
   "codemirror_mode": {
    "name": "ipython",
    "version": 3
   },
   "file_extension": ".py",
   "mimetype": "text/x-python",
   "name": "python",
   "nbconvert_exporter": "python",
   "pygments_lexer": "ipython3",
   "version": "3.10.10"
  },
  "varInspector": {
   "cols": {
    "lenName": 16,
    "lenType": 16,
    "lenVar": 40
   },
   "kernels_config": {
    "python": {
     "delete_cmd_postfix": "",
     "delete_cmd_prefix": "del ",
     "library": "var_list.py",
     "varRefreshCmd": "print(var_dic_list())"
    },
    "r": {
     "delete_cmd_postfix": ") ",
     "delete_cmd_prefix": "rm(",
     "library": "var_list.r",
     "varRefreshCmd": "cat(var_dic_list()) "
    }
   },
   "oldHeight": 582,
   "position": {
    "height": "599px",
    "left": "1567px",
    "right": "20px",
    "top": "17px",
    "width": "329px"
   },
   "types_to_exclude": [
    "module",
    "function",
    "builtin_function_or_method",
    "instance",
    "_Feature"
   ],
   "varInspector_section_display": "block",
   "window_display": false
  }
 },
 "nbformat": 4,
 "nbformat_minor": 4
}
