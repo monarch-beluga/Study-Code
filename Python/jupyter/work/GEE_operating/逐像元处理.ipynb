{
 "cells": [
  {
   "cell_type": "code",
   "execution_count": null,
   "id": "ec2a6611",
   "metadata": {},
   "outputs": [],
   "source": [
    "import geemap\n",
    "import ee\n",
    "\n",
    "Map = geemap.Map()\n",
    "Map"
   ]
  },
  {
   "cell_type": "code",
   "execution_count": null,
   "id": "84855782",
   "metadata": {},
   "outputs": [],
   "source": [
    "def clip(img):\n",
    "    return img.clip(roi)"
   ]
  },
  {
   "cell_type": "code",
   "execution_count": null,
   "id": "bf3ce686",
   "metadata": {},
   "outputs": [],
   "source": [
    "roi = Map.draw_last_feature.geometry()"
   ]
  },
  {
   "cell_type": "code",
   "execution_count": null,
   "id": "4c395295",
   "metadata": {},
   "outputs": [],
   "source": [
    "images = ee.ImageCollection(\"NASA/GIMMS/3GV0\").select('ndvi')\\\n",
    "        .filterDate('2012', '2013').map(clip)"
   ]
  },
  {
   "cell_type": "code",
   "execution_count": null,
   "id": "388943c4",
   "metadata": {},
   "outputs": [],
   "source": [
    "visParam = {\n",
    " 'min': -1,\n",
    " 'max': 1,\n",
    " 'palette': ['000000', 'f5f5f5', '119701']\n",
    "}\n",
    "Map.addLayer(images, visParam, 'NDVI')"
   ]
  },
  {
   "cell_type": "code",
   "execution_count": null,
   "id": "854a45bd",
   "metadata": {},
   "outputs": [],
   "source": [
    "img = images.toBands()\n",
    "ps = img.sample(region = roi, geometries = True)"
   ]
  },
  {
   "cell_type": "code",
   "execution_count": null,
   "id": "7cb2f853",
   "metadata": {},
   "outputs": [],
   "source": [
    "ps.first().getInfo()"
   ]
  },
  {
   "cell_type": "code",
   "execution_count": null,
   "id": "50b8cccf",
   "metadata": {},
   "outputs": [],
   "source": [
    "Map.addLayer(ps, {}, 'ps')"
   ]
  },
  {
   "cell_type": "code",
   "execution_count": null,
   "id": "a97b2e5c",
   "metadata": {},
   "outputs": [],
   "source": [
    "order = 2\n",
    "window_size = 11\n",
    "def savitzky_golay(y):\n",
    "    half_window = (window_size - 1) / 2\n",
    "    deriv = 0\n",
    "    order_range = ee.List.sequence(0, order)\n",
    "    k_range = ee.List.sequence(-half_window, half_window)\n",
    "    def fun1(k):\n",
    "        return order_range.map(lambda o: ee.Number(k).pow(o))\n",
    "    b = ee.Array(k_range.map(fun1))\n",
    "    mPI = ee.Array(b.matrixPseudoInverse())\n",
    "    impulse_response = (mPI.slice(**{ 'axis': 0, 'start': deriv, 'end': deriv + 1 })).project([1])\n",
    "    y0 = y.get(0)\n",
    "    firstvals = y.slice(1, half_window + 1).reverse().map(\n",
    "        lambda e: ee.Number(e).subtract(y0).abs().multiply(-1).add(y0))\n",
    "    yend = y.get(-1)\n",
    "    lastvals = y.slice(-half_window - 1, -1).reverse().map(\n",
    "        lambda e: ee.Number(e).subtract(yend).abs().add(yend))\n",
    "    y_ext = firstvals.cat(y).cat(lastvals)\n",
    "    runLength = ee.List.sequence(0, y_ext.length().subtract(window_size))\n",
    "    smooth = runLength.map(\n",
    "        lambda i:ee.Array(y_ext.slice(ee.Number(i), ee.Number(i).add(window_size))).multiply(impulse_response).reduce(\"sum\", [0]).get([0])\n",
    "    )\n",
    "    return smooth"
   ]
  },
  {
   "cell_type": "code",
   "execution_count": null,
   "id": "2db79adf",
   "metadata": {},
   "outputs": [],
   "source": [
    "def fun(feature):\n",
    "    List = bands.map(lambda i: feature.get(i))\n",
    "    sg_ = savitzky_golay(List)\n",
    "    return feature.set(ee.Dictionary.fromLists(bands_sg, sg_))"
   ]
  },
  {
   "cell_type": "code",
   "execution_count": null,
   "id": "608b1d4b",
   "metadata": {},
   "outputs": [],
   "source": [
    "bands = img.bandNames()\n",
    "List = bands.map(lambda i: ps.first().get(i))"
   ]
  },
  {
   "cell_type": "code",
   "execution_count": null,
   "id": "c30cc00f",
   "metadata": {},
   "outputs": [],
   "source": [
    "bands_sg = bands.map(lambda i: ee.String(i).cat('_sg'))\n",
    "bands_sg.getInfo()"
   ]
  },
  {
   "cell_type": "code",
   "execution_count": null,
   "id": "30f4e7ac",
   "metadata": {},
   "outputs": [],
   "source": [
    "sg_ps = ps.map(fun)"
   ]
  },
  {
   "cell_type": "code",
   "execution_count": null,
   "id": "c0b4136d",
   "metadata": {},
   "outputs": [],
   "source": [
    "img_sg = sg_ps.reduceToImage(properties=[bands_sg.get(-1)], \n",
    "                             reducer=ee.Reducer.mean())\\\n",
    "        .reproject(images.first().projection().crs(),\n",
    "                  images.first().projection().getInfo()['transform'])\n",
    "Map.addLayer(img_sg, visParam, 'sg')"
   ]
  },
  {
   "cell_type": "code",
   "execution_count": null,
   "id": "14d1d941",
   "metadata": {},
   "outputs": [],
   "source": [
    "sg_ps.first().getInfo()"
   ]
  },
  {
   "cell_type": "code",
   "execution_count": null,
   "id": "3dd1dd5f",
   "metadata": {},
   "outputs": [],
   "source": [
    "bands.get(0).cat('_sg').getInfo()"
   ]
  },
  {
   "cell_type": "code",
   "execution_count": null,
   "id": "42206f23",
   "metadata": {},
   "outputs": [],
   "source": [
    "a = ee.Array(ps.first().get('array')).toList()"
   ]
  },
  {
   "cell_type": "code",
   "execution_count": null,
   "id": "b8068ae6",
   "metadata": {},
   "outputs": [],
   "source": [
    "sg_ps.first().getInfo()"
   ]
  },
  {
   "cell_type": "code",
   "execution_count": null,
   "id": "fbd945ac",
   "metadata": {},
   "outputs": [],
   "source": [
    "from scipy.signal import savgol_filter"
   ]
  },
  {
   "cell_type": "code",
   "execution_count": null,
   "id": "4e5a7139",
   "metadata": {},
   "outputs": [],
   "source": []
  }
 ],
 "metadata": {
  "kernelspec": {
   "display_name": "Python 3 (ipykernel)",
   "language": "python",
   "name": "python3"
  },
  "language_info": {
   "codemirror_mode": {
    "name": "ipython",
    "version": 3
   },
   "file_extension": ".py",
   "mimetype": "text/x-python",
   "name": "python",
   "nbconvert_exporter": "python",
   "pygments_lexer": "ipython3",
   "version": "3.10.10"
  }
 },
 "nbformat": 4,
 "nbformat_minor": 5
}
