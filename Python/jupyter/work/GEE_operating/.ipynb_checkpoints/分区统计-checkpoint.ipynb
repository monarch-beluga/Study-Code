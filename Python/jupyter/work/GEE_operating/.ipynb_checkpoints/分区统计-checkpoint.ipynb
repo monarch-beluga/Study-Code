{
 "cells": [
  {
   "cell_type": "code",
   "execution_count": null,
   "id": "b5bb19ae",
   "metadata": {},
   "outputs": [],
   "source": [
    "import geemap\n",
    "import ee\n",
    "import os\n",
    "from concurrent.futures.thread import ThreadPoolExecutor"
   ]
  },
  {
   "cell_type": "code",
   "execution_count": null,
   "id": "d73395ce",
   "metadata": {},
   "outputs": [],
   "source": [
    "Map = geemap.Map()\n",
    "Map"
   ]
  },
  {
   "cell_type": "code",
   "execution_count": null,
   "id": "0ac57922",
   "metadata": {},
   "outputs": [],
   "source": [
    "roi = ee.FeatureCollection(\"users/yehuigeo/poyanghu\")\n",
    "Map.addLayer(roi, {}, 'roi')"
   ]
  },
  {
   "cell_type": "code",
   "execution_count": null,
   "id": "84771800",
   "metadata": {},
   "outputs": [],
   "source": [
    "file_name = r'E:/prcp.txt'"
   ]
  },
  {
   "cell_type": "code",
   "execution_count": null,
   "id": "37695f5e",
   "metadata": {},
   "outputs": [],
   "source": [
    "with open(file_name, 'w') as fp:\n",
    "    print('year', 'month', 'value', sep='\\t')\n",
    "    print('year', 'month', 'value', sep='\\t', file=fp)\n",
    "    for year in range(1988, 2017):\n",
    "        for month in range(1, 13):\n",
    "            start = f'{year}-{month:0>2d}'\n",
    "            end = f'{year}-{month+1:0>2d}'\n",
    "            if month == 12:\n",
    "                end = f'{year+1}-{1:0>2d}'\n",
    "            images = ee.ImageCollection(\"NOAA/PERSIANN-CDR\")\\\n",
    "                    .filterDate(start, end)\n",
    "\n",
    "            image = images.sum()\n",
    "\n",
    "            value = image.reduceRegion(reducer=ee.Reducer.sum(), \n",
    "                                        geometry=roi.geometry(),\n",
    "                                        scale=1000).getInfo()['precipitation']\n",
    "            print(year, month, f'{value:.2f}', sep='\\t', file=fp)\n",
    "            print(year, month, f'{value:.2f}', sep='\\t')"
   ]
  },
  {
   "cell_type": "code",
   "execution_count": null,
   "id": "01371e87",
   "metadata": {},
   "outputs": [],
   "source": []
  }
 ],
 "metadata": {
  "kernelspec": {
   "display_name": "Python 3 (ipykernel)",
   "language": "python",
   "name": "python3"
  },
  "language_info": {
   "codemirror_mode": {
    "name": "ipython",
    "version": 3
   },
   "file_extension": ".py",
   "mimetype": "text/x-python",
   "name": "python",
   "nbconvert_exporter": "python",
   "pygments_lexer": "ipython3",
   "version": "3.9.6"
  }
 },
 "nbformat": 4,
 "nbformat_minor": 5
}
