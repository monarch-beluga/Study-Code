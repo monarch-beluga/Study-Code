{
 "cells": [
  {
   "cell_type": "code",
   "execution_count": null,
   "id": "36e17ffe",
   "metadata": {},
   "outputs": [],
   "source": [
    "import geemap\n",
    "import ee"
   ]
  },
  {
   "cell_type": "code",
   "execution_count": null,
   "id": "9d2afba7",
   "metadata": {},
   "outputs": [],
   "source": [
    "Map = geemap.Map()\n",
    "Map"
   ]
  },
  {
   "cell_type": "code",
   "execution_count": null,
   "id": "0538289e",
   "metadata": {},
   "outputs": [],
   "source": [
    "roi = geemap.shp_to_ee(r'E:/Data/clip/roi.shp')\n",
    "Map.centerObject(roi, 7)\n",
    "Map.addLayer(roi, {}, 'roi')"
   ]
  },
  {
   "cell_type": "code",
   "execution_count": null,
   "id": "b07c1274",
   "metadata": {},
   "outputs": [],
   "source": [
    "images = ee.ImageCollection(\"MODIS/006/MOD15A2H\").filterDate('2015', '2021').select('Lai_500m')"
   ]
  },
  {
   "cell_type": "code",
   "execution_count": null,
   "id": "a579ee09",
   "metadata": {},
   "outputs": [],
   "source": [
    "colorizedVis = {\n",
    "  'min': 0,\n",
    "  'max': 100,\n",
    "  'palette': [\n",
    "    'FFFFFF', 'CE7E45', 'DF923D', 'F1B555', 'FCD163', '99B718', '74A901',\n",
    "    '66A000', '529400', '3E8601', '207401', '056201', '004C00', '023B01',\n",
    "    '012E01', '011D01', '011301'\n",
    "  ],\n",
    "};"
   ]
  },
  {
   "cell_type": "code",
   "execution_count": null,
   "id": "92ed7c3c",
   "metadata": {},
   "outputs": [],
   "source": [
    "img_n = images.size().getInfo()\n",
    "img_n"
   ]
  },
  {
   "cell_type": "code",
   "execution_count": null,
   "id": "58adadc5",
   "metadata": {},
   "outputs": [],
   "source": [
    "275 * 90 // 100"
   ]
  },
  {
   "cell_type": "code",
   "execution_count": null,
   "id": "c9bb3f1a",
   "metadata": {},
   "outputs": [],
   "source": [
    "img_min = images.toBands().toArray().arraySort().arrayGet([img_n*10//100])"
   ]
  },
  {
   "cell_type": "code",
   "execution_count": null,
   "id": "7d973689",
   "metadata": {},
   "outputs": [],
   "source": [
    "img_max = images.toBands().toArray().arraySort().arrayGet([img_n*90//100])"
   ]
  },
  {
   "cell_type": "code",
   "execution_count": null,
   "id": "d5f25b80",
   "metadata": {},
   "outputs": [],
   "source": [
    "# Map.addLayer(Lai_max, colorizedVis, 'Lai_max')\n",
    "Map.addLayer(img_min.clip(roi.geometry()), colorizedVis, 'a')"
   ]
  },
  {
   "cell_type": "code",
   "execution_count": null,
   "id": "bbaaff6a",
   "metadata": {},
   "outputs": [],
   "source": [
    "geemap.ee_export_image(, r'E:/Data/Lai_max.tif', scale=500, crs='EPSG:3857')"
   ]
  },
  {
   "cell_type": "code",
   "execution_count": null,
   "id": "7dc5e261",
   "metadata": {},
   "outputs": [],
   "source": [
    "r = Map.draw_last_feature.geometry()"
   ]
  },
  {
   "cell_type": "code",
   "execution_count": null,
   "id": "5f930aaf",
   "metadata": {},
   "outputs": [],
   "source": [
    "geemap.ee_export_image_to_drive(img_min.divide(10),  description=r'Lai_min_a', folder='Image', region=roi.geometry(), scale=500, crs='EPSG:3857')"
   ]
  },
  {
   "cell_type": "code",
   "execution_count": null,
   "id": "0cfa146b",
   "metadata": {},
   "outputs": [],
   "source": [
    "images = geemap.landsat_timeseries(roi=roi.geometry(), start_year=2019, \n",
    "                                     end_year=2021, start_date='05-01',\n",
    "                                    end_date='09-01')"
   ]
  },
  {
   "cell_type": "code",
   "execution_count": null,
   "id": "148fe226",
   "metadata": {},
   "outputs": [],
   "source": [
    "Map.addLayer(images, {'bands':['Red', 'Green', 'Blue'], 'max': 3000, 'min': 0}, 'landsat')"
   ]
  },
  {
   "cell_type": "code",
   "execution_count": null,
   "id": "5379fdbe",
   "metadata": {},
   "outputs": [],
   "source": [
    "img = images.median()"
   ]
  },
  {
   "cell_type": "code",
   "execution_count": null,
   "id": "fa88ab1d",
   "metadata": {},
   "outputs": [],
   "source": [
    "img.bandNames().getInfo()"
   ]
  },
  {
   "cell_type": "code",
   "execution_count": null,
   "id": "e22df7f3",
   "metadata": {},
   "outputs": [],
   "source": [
    "images = ee.ImageCollection(\"ECMWF/ERA5/DAILY\").filterDate('2013', '2014')"
   ]
  },
  {
   "cell_type": "code",
   "execution_count": null,
   "id": "cb0bfd40",
   "metadata": {},
   "outputs": [],
   "source": [
    "visWind = {\n",
    "    'max':8,\n",
    "    'min':-5,\n",
    "  'palette': [\n",
    "    '#FFFFFF', '#FFFF71', '#DEFF00', '#9EFF00', '#77B038', '#007E55', '#005F51',\n",
    "    '#004B51', '#013A7B', '#023AAD'\n",
    "  ]\n",
    "}"
   ]
  },
  {
   "cell_type": "code",
   "execution_count": null,
   "id": "721cb0e2",
   "metadata": {},
   "outputs": [],
   "source": [
    "Map.addLayer(images.first().select('u_component_of_wind_10m').clip(roi.geometry()), visWind, 'wind')"
   ]
  },
  {
   "cell_type": "code",
   "execution_count": null,
   "id": "614ac17d-1329-45db-8e76-f8bd62b48ed6",
   "metadata": {},
   "outputs": [],
   "source": []
  },
  {
   "cell_type": "code",
   "execution_count": null,
   "id": "3caca193-d2a1-4e12-b2b4-2d7358163b5b",
   "metadata": {
    "tags": []
   },
   "outputs": [],
   "source": [
    "import geemap\n",
    "import ee"
   ]
  },
  {
   "cell_type": "code",
   "execution_count": null,
   "id": "dc2e7e6b-1ce9-4830-adba-7cec7e4ac6a8",
   "metadata": {
    "tags": []
   },
   "outputs": [],
   "source": [
    "Map = geemap.Map()\n",
    "Map"
   ]
  },
  {
   "cell_type": "code",
   "execution_count": null,
   "id": "6d209fa0-6b45-4cfe-a06b-5a75adc2a3bc",
   "metadata": {
    "tags": []
   },
   "outputs": [],
   "source": [
    "import os\n",
    "os.chdir(r'D:\\Work\\数据下载')"
   ]
  },
  {
   "cell_type": "code",
   "execution_count": null,
   "id": "9fd0009c-6def-4e29-af04-494dd5cfba53",
   "metadata": {
    "tags": []
   },
   "outputs": [],
   "source": [
    "shp_file = '矢量范围/xinjiang.shp'\n",
    "shp = geemap.shp_to_ee(shp_file)"
   ]
  },
  {
   "cell_type": "code",
   "execution_count": null,
   "id": "08f005ed-d333-4a17-9613-4409094277d1",
   "metadata": {
    "tags": []
   },
   "outputs": [],
   "source": [
    "roi = shp.geometry()\n",
    "Map.addLayer(roi, {}, 'roi')"
   ]
  },
  {
   "cell_type": "code",
   "execution_count": null,
   "id": "b7c40412-97a4-4515-ac0b-736e55fd9e0e",
   "metadata": {
    "tags": []
   },
   "outputs": [],
   "source": [
    "images = ee.ImageCollection(\"MODIS/006/MOD15A2H\").filterDate('2000-02', '2000-03').select('Lai_500m')"
   ]
  },
  {
   "cell_type": "code",
   "execution_count": null,
   "id": "5757e016-44c3-430b-acce-fe3d58dd5f0d",
   "metadata": {
    "tags": []
   },
   "outputs": [],
   "source": [
    "names = images.aggregate_array('system:id').getInfo()"
   ]
  },
  {
   "cell_type": "code",
   "execution_count": null,
   "id": "3ab19b6b-3ac8-421f-bb74-86aed8a2077a",
   "metadata": {
    "tags": []
   },
   "outputs": [],
   "source": [
    "images = images.map(lambda x: x.clip(roi))"
   ]
  },
  {
   "cell_type": "code",
   "execution_count": null,
   "id": "d64f6262-5863-4a4e-b459-5307a28f8fc5",
   "metadata": {
    "tags": []
   },
   "outputs": [],
   "source": [
    "Map.addLayer(images.mean().clip(roi), {'min':0, 'max':100}, 'img')"
   ]
  },
  {
   "cell_type": "code",
   "execution_count": null,
   "id": "fae7c05c-34fa-47db-9bf6-34b08c0e1143",
   "metadata": {
    "tags": []
   },
   "outputs": [],
   "source": [
    "Map.addLayer(images.mosaic().clip(roi), {'min':0, 'max':100}, 'img1')"
   ]
  },
  {
   "cell_type": "code",
   "execution_count": null,
   "id": "15543515-00fb-4699-b220-72c3b2a996a6",
   "metadata": {
    "tags": []
   },
   "outputs": [],
   "source": [
    "geemap.download_ee_image(images.mean(), 'lai_mean.tif', roi, 'epsg:4326', scale=500)"
   ]
  },
  {
   "cell_type": "code",
   "execution_count": null,
   "id": "2dabd6fa-7a80-4517-8e0b-27f037dca476",
   "metadata": {
    "tags": []
   },
   "outputs": [],
   "source": [
    "geemap.download_ee_image(images.mosaic(), 'lai_mosaic.tif', roi, 'epsg:4326', scale=500)"
   ]
  },
  {
   "cell_type": "code",
   "execution_count": null,
   "id": "3318a2d6-8f44-4b51-83c7-f6a3d4bd3c4e",
   "metadata": {
    "tags": []
   },
   "outputs": [],
   "source": [
    "out_files = [f'Lai_{name.split(\"/\")[-1]}.tif' for name in names]"
   ]
  },
  {
   "cell_type": "code",
   "execution_count": null,
   "id": "21e2d515-62cf-4458-a2ab-6d9eaf2e96e0",
   "metadata": {
    "scrolled": true,
    "tags": []
   },
   "outputs": [],
   "source": [
    "geemap.download_ee_image_collection(images, r'data', out_files, region=roi, crs='epsg:4326', scale=500)"
   ]
  },
  {
   "cell_type": "code",
   "execution_count": null,
   "id": "dbc30155",
   "metadata": {},
   "outputs": [],
   "source": []
  }
 ],
 "metadata": {
  "kernelspec": {
   "display_name": "Python 3 (ipykernel)",
   "language": "python",
   "name": "python3"
  },
  "language_info": {
   "codemirror_mode": {
    "name": "ipython",
    "version": 3
   },
   "file_extension": ".py",
   "mimetype": "text/x-python",
   "name": "python",
   "nbconvert_exporter": "python",
   "pygments_lexer": "ipython3",
   "version": "3.10.10"
  }
 },
 "nbformat": 4,
 "nbformat_minor": 5
}
