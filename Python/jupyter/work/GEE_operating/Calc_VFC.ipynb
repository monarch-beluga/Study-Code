{
 "cells": [
  {
   "cell_type": "code",
   "execution_count": 1,
   "id": "33315468-3af5-438b-80df-8f58b418e8d5",
   "metadata": {},
   "outputs": [
    {
     "data": {
      "application/vnd.jupyter.widget-view+json": {
       "model_id": "cc3fcff9210d4d41b94ae7884d41a0ba",
       "version_major": 2,
       "version_minor": 0
      },
      "text/plain": [
       "Map(center=[0, 0], controls=(WidgetControl(options=['position', 'transparent_bg'], widget=SearchDataGUI(childr…"
      ]
     },
     "execution_count": 1,
     "metadata": {},
     "output_type": "execute_result"
    }
   ],
   "source": [
    "import geemap\n",
    "import ee\n",
    "\n",
    "Map = geemap.Map()\n",
    "Map"
   ]
  },
  {
   "cell_type": "code",
   "execution_count": 3,
   "id": "bc597691-911b-4033-b003-7b944a39992e",
   "metadata": {},
   "outputs": [
    {
     "data": {
      "text/html": [
       "\n",
       "            <style>\n",
       "                .geemap-dark {\n",
       "                    --jp-widgets-color: white;\n",
       "                    --jp-widgets-label-color: white;\n",
       "                    --jp-ui-font-color1: white;\n",
       "                    --jp-layout-color2: #454545;\n",
       "                    background-color: #383838;\n",
       "                }\n",
       "\n",
       "                .geemap-dark .jupyter-button {\n",
       "                    --jp-layout-color3: #383838;\n",
       "                }\n",
       "\n",
       "                .geemap-colab {\n",
       "                    background-color: var(--colab-primary-surface-color, white);\n",
       "                }\n",
       "\n",
       "                .geemap-colab .jupyter-button {\n",
       "                    --jp-layout-color3: var(--colab-primary-surface-color, white);\n",
       "                }\n",
       "            </style>\n",
       "            "
      ],
      "text/plain": [
       "<IPython.core.display.HTML object>"
      ]
     },
     "metadata": {},
     "output_type": "display_data"
    }
   ],
   "source": [
    "Map.add_basemap(\"\")"
   ]
  },
  {
   "cell_type": "code",
   "execution_count": null,
   "id": "a4addda6-c3c0-4f2c-b516-43ea1c1973fd",
   "metadata": {},
   "outputs": [],
   "source": [
    "import os\n",
    "import geopandas as gpd\n",
    "\n",
    "os.chdir(r'D:\\Work\\Problem')\n",
    "\n",
    "shp_file = r'JX.shp'"
   ]
  },
  {
   "cell_type": "code",
   "execution_count": null,
   "id": "5bcc5189-e479-479a-beb5-9da3a2436baf",
   "metadata": {},
   "outputs": [],
   "source": [
    "shp_gdf = gpd.read_file(shp_file)\n",
    "shp = geemap.gdf_to_ee(shp_gdf)\n",
    "\n",
    "roi = shp.geometry()\n",
    "Map.addLayer(roi, {}, 'roi')\n",
    "Map.center_object(roi, 7)"
   ]
  },
  {
   "cell_type": "code",
   "execution_count": null,
   "id": "f97e4792-352b-40a9-b52c-5cba6754fb0e",
   "metadata": {},
   "outputs": [],
   "source": [
    "star_time = \"2015\"\n",
    "end_time = \"2021\""
   ]
  },
  {
   "cell_type": "code",
   "execution_count": null,
   "id": "b2bec562-530f-492a-ba2b-4bbba382ba2e",
   "metadata": {},
   "outputs": [],
   "source": [
    "def cloudMaskL457(image):\n",
    "    qaMask = image.select('QA_PIXEL').bitwiseAnd(int('11111', 2)).eq(0)\n",
    "    saturationMask = image.select('QA_RADSAT').eq(0)\n",
    "    opticalBands = image.select('SR_B.').multiply(0.0000275).add(-0.2)\n",
    "\n",
    "    return image.addBands(opticalBands, None, True)\\\n",
    "                 .updateMask(qaMask).updateMask(saturationMask)\n",
    "                    \n",
    "def maskS2clouds(image): \n",
    "    qa = image.select('QA60')\n",
    "\n",
    "\n",
    "    cloudBitMask = 1 << 10\n",
    "    cirrusBitMask = 1 << 11\n",
    "\n",
    "    mask = qa.bitwiseAnd(cloudBitMask).eq(0).And(\n",
    "             qa.bitwiseAnd(cirrusBitMask).eq(0))\n",
    "\n",
    "    return image.updateMask(mask).copyProperties(image, [\"system:time_start\"])"
   ]
  },
  {
   "cell_type": "code",
   "execution_count": null,
   "id": "8aa4d6b3-6bfb-43ad-be48-ed38dad3fe5d",
   "metadata": {},
   "outputs": [],
   "source": [
    "def calc_landsat_ndvi(image):\n",
    "    ndvi = image.normalizedDifference(['SR_B5','SR_B4']).rename('NDVI')\n",
    "    return ndvi\n",
    "\n",
    "def calc_s2_ndvi(image):\n",
    "    ndvi = image.normalizedDifference(['B8','B4']).rename('NDVI')\n",
    "    return ndvi"
   ]
  },
  {
   "cell_type": "code",
   "execution_count": null,
   "id": "47e2908d-7cef-4c28-a248-f41410a9ab40",
   "metadata": {},
   "outputs": [],
   "source": [
    "# 获取研究区landsat8影像数据, 并进行去云处理\n",
    "images = ee.ImageCollection(\"LANDSAT/LC08/C02/T1_L2\").filterBounds(roi).filterDate(star_time, end_time)\\\n",
    "                    .filter(ee.Filter.lt('CLOUD_COVER',30)).map(cloudMaskL457)"
   ]
  },
  {
   "cell_type": "code",
   "execution_count": null,
   "id": "272fca4f-7e08-479d-b264-38d7a9832d9a",
   "metadata": {},
   "outputs": [],
   "source": [
    "# 计算ndvi\n",
    "ndvis = images.map(calc_landsat_ndvi)\n",
    "\n",
    "# 获取每个像元时间序列上ndvi最值\n",
    "ndvi_max = ndvis.max()                    \n",
    "ndvi_min = ndvis.min()"
   ]
  },
  {
   "cell_type": "markdown",
   "id": "72b87b9c-6424-4aeb-b177-39caf90f0746",
   "metadata": {},
   "source": [
    "## **VFC计算**\n",
    "### $VFC = (NDVI - NDVI_{Soi}) / (NDVI_{Veg} - NDVI_{Soi})$\n",
    "##### **NDVISoil**: 裸土或无植被区的NDVI值,这里使用NDVI最小值影像百分位处于5%的值作为替代\n",
    "##### **NDVIVeg**: 为纯植被区的NDVI值, 这里使用NDVI最大值影像百分位处于95%的值作为替代"
   ]
  },
  {
   "cell_type": "code",
   "execution_count": null,
   "id": "14fe7a2b-2dfd-4ed4-9575-42b87662c863",
   "metadata": {},
   "outputs": [],
   "source": [
    "xmax = ndvi_max.reduceRegion(**{\n",
    "    'geometry': roi,\n",
    "    'reducer': ee.Reducer.percentile([95]),\n",
    "    'scale': 30,\n",
    "    'maxPixels': 1e13\n",
    "}).get(\"NDVI\")\n",
    "\n",
    "xmin = ndvi_min.reduceRegion(**{\n",
    "    'geometry': roi,\n",
    "    'reducer': ee.Reducer.percentile([5]),\n",
    "    'scale': 30,\n",
    "    'maxPixels': 1e13\n",
    "}).get(\"NDVI\")"
   ]
  },
  {
   "cell_type": "markdown",
   "id": "114c5e80-11c4-4d5e-83ae-147203bbd066",
   "metadata": {},
   "source": [
    "#### 计算后将xmax和xmin导入到asset中"
   ]
  },
  {
   "cell_type": "code",
   "execution_count": null,
   "id": "b5ad8d8d-daad-4f82-8488-06372866d34c",
   "metadata": {},
   "outputs": [],
   "source": [
    "ndvi_max_min = ee.FeatureCollection([ee.Feature(roi, {\"xmax\": ee.Number(xmax), \"xmin\": ee.Number(xmin)})])\n",
    "geemap.ee_export_vector_to_asset(ndvi_max_min, \"ndvi_max_min\", \"ndvi_max_min\")"
   ]
  },
  {
   "cell_type": "markdown",
   "id": "1a862ddc-b593-4128-8786-4d51fee88701",
   "metadata": {},
   "source": [
    "#### 重新从asset导入xmax和xmin"
   ]
  },
  {
   "cell_type": "code",
   "execution_count": null,
   "id": "74e069a8-94e6-42b7-83ed-b143fb63aa22",
   "metadata": {},
   "outputs": [],
   "source": [
    "ndvi_max_min_fc = ee.FeatureCollection(\"users/2431566134liumonarch/ndvi_max_min\")\n",
    "xmax = ndvi_max_min_fc.first().get(\"xmax\")\n",
    "xmin = ndvi_max_min_fc.first().get(\"xmin\")"
   ]
  },
  {
   "cell_type": "code",
   "execution_count": null,
   "id": "9d2cb3dd-660d-4b0e-b7ea-4e6ead3d911c",
   "metadata": {},
   "outputs": [],
   "source": [
    "def calc_vfc(image):\n",
    "    fv = image.expression('(ndvi - xmin) / (xmax - xmin)',{\n",
    "        'ndvi': image.select(\"NDVI\"),\n",
    "        'xmin': ee.Number(xmin),\n",
    "        'xmax': ee.Number(xmax)\n",
    "        }).rename('vfc')\n",
    "    return fv"
   ]
  },
  {
   "cell_type": "code",
   "execution_count": null,
   "id": "f14a596c-fa49-4451-9df8-2a5fe6954fcb",
   "metadata": {},
   "outputs": [],
   "source": [
    "vfcs = ndvis.map(calc_vfc)\n",
    "\n",
    "palette = ['FFFFFF', 'CE7E45', 'DF923D', 'F1B555', 'FCD163', '99B718',\n",
    "               '74A901', '66A000', '529400', '3E8601', '207401', '056201',\n",
    "               '004C00', '023B01', '012E01', '011D01', '011301']"
   ]
  },
  {
   "cell_type": "code",
   "execution_count": null,
   "id": "f46539cc-f4db-42f0-9e47-575b94070d31",
   "metadata": {},
   "outputs": [],
   "source": [
    "Map.addLayer(vfcs.mosaic().clip(roi), {\"min\":0, \"max\":1, \"palette\":palette}, \"vfc\")"
   ]
  },
  {
   "cell_type": "code",
   "execution_count": null,
   "id": "730301df-227d-4cdd-bda7-4ed768fcdc2a",
   "metadata": {},
   "outputs": [],
   "source": []
  }
 ],
 "metadata": {
  "kernelspec": {
   "display_name": "Python 3 (ipykernel)",
   "language": "python",
   "name": "python3"
  },
  "language_info": {
   "codemirror_mode": {
    "name": "ipython",
    "version": 3
   },
   "file_extension": ".py",
   "mimetype": "text/x-python",
   "name": "python",
   "nbconvert_exporter": "python",
   "pygments_lexer": "ipython3",
   "version": "3.10.9"
  }
 },
 "nbformat": 4,
 "nbformat_minor": 5
}
