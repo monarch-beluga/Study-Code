{
 "cells": [
  {
   "cell_type": "code",
   "execution_count": 1,
   "id": "41109a7f-581e-4076-abe3-21e9acd99395",
   "metadata": {
    "tags": []
   },
   "outputs": [
    {
     "data": {
      "application/vnd.jupyter.widget-view+json": {
       "model_id": "81f3e68731e841a2b454bae78f669fab",
       "version_major": 2,
       "version_minor": 0
      },
      "text/plain": [
       "Map(center=[20, 0], controls=(WidgetControl(options=['position', 'transparent_bg'], widget=HBox(children=(Togg…"
      ]
     },
     "metadata": {},
     "output_type": "display_data"
    }
   ],
   "source": [
    "import geemap\n",
    "import ee\n",
    "\n",
    "Map = geemap.Map()\n",
    "Map"
   ]
  },
  {
   "cell_type": "code",
   "execution_count": 2,
   "id": "268a67e3-1c85-4f90-b9f5-bb8cfc7ad6fd",
   "metadata": {
    "tags": []
   },
   "outputs": [],
   "source": [
    "def maskS2clouds(image):\n",
    "    qa = image.select('QA60')\n",
    "    cloudBitMask = 1 << 10\n",
    "    cirrusBitMask = 1 << 11\n",
    "    mask = qa.bitwiseAnd(cloudBitMask).eq(0).And(qa.bitwiseAnd(cirrusBitMask).eq(0))\n",
    "    return image.updateMask(mask).select(\"B.*\").copyProperties(image, [\"system:time_start\"])"
   ]
  },
  {
   "cell_type": "code",
   "execution_count": 3,
   "id": "a2b33d9a-d31b-48dd-a555-20ce4fcb0c52",
   "metadata": {
    "tags": []
   },
   "outputs": [],
   "source": [
    "def addTimeImag(image):\n",
    "    timeImage = image.metadata('system:time_start').rename('timestamp')\n",
    "    timeImageMasked = timeImage.updateMask(image.mask().select(0))\n",
    "    return image.addBands(timeImageMasked)"
   ]
  },
  {
   "cell_type": "code",
   "execution_count": 11,
   "id": "880e3bf0-92e9-41bb-8d84-a626759a1ee6",
   "metadata": {
    "tags": []
   },
   "outputs": [],
   "source": [
    "shp = 'D:/Data/parper/data/shp/JX.shp'\n",
    "shp_ee = geemap.shp_to_ee(shp)\n",
    "geometry = shp_ee.geometry()\n",
    "\n",
    "Map.addLayer(geometry, {'color': 'red'}, 'Farm')\n",
    "Map.centerObject(geometry)"
   ]
  },
  {
   "cell_type": "code",
   "execution_count": 12,
   "id": "6891c952-f88e-438a-84d6-5ad23c437000",
   "metadata": {
    "tags": []
   },
   "outputs": [],
   "source": [
    "s2 = ee.ImageCollection(\"COPERNICUS/S2_SR\")\\\n",
    "        .filterDate('2019-01-01', '2020-01-01')\\\n",
    "        .filterBounds(geometry).map(maskS2clouds).map(addTimeImag)"
   ]
  },
  {
   "cell_type": "code",
   "execution_count": 17,
   "id": "3341af71-d335-4505-bc11-ad674f400a03",
   "metadata": {
    "tags": []
   },
   "outputs": [],
   "source": [
    "def filter_date(i):\n",
    "    i = ee.Number(i)\n",
    "    img = s2.filter(ee.Filter.calendarRange(i, i.add(10), 'day_of_year'))\n",
    "    return img.mosaic().copyProperties(img.first(), [\"system:time_start\"])"
   ]
  },
  {
   "cell_type": "code",
   "execution_count": 18,
   "id": "6388276b-e2eb-4f11-aab0-e095e52c734b",
   "metadata": {
    "tags": []
   },
   "outputs": [],
   "source": [
    "time_list = ee.List.sequence(0, 365, 10)"
   ]
  },
  {
   "cell_type": "code",
   "execution_count": 19,
   "id": "df3c8ef0-e844-4d7e-bdc3-ded4c6f24697",
   "metadata": {
    "tags": []
   },
   "outputs": [],
   "source": [
    "s2_year_col = ee.ImageCollection(time_list.map(filter_date))"
   ]
  },
  {
   "cell_type": "code",
   "execution_count": 22,
   "id": "9a4c8127-628f-491a-a1f1-bed6ef825109",
   "metadata": {
    "tags": []
   },
   "outputs": [],
   "source": [
    "def image_join(filtered):\n",
    "    days = 60\n",
    "    millis = ee.Number(days).multiply(1000*60*60*24)\n",
    "    maxDiffFilter = ee.Filter.maxDifference(**{\n",
    "      'difference': millis,\n",
    "      'leftField': 'system:time_start',\n",
    "      'rightField': 'system:time_start'\n",
    "    })\n",
    "    lessEqFilter = ee.Filter.lessThanOrEquals(**{\n",
    "      'leftField': 'system:time_start',\n",
    "      'rightField': 'system:time_start'\n",
    "    })\n",
    "    greaterEqFilter = ee.Filter.greaterThanOrEquals(**{\n",
    "      'leftField': 'system:time_start',\n",
    "      'rightField': 'system:time_start'\n",
    "    })\n",
    "\n",
    "    filter1 = ee.Filter.And(maxDiffFilter, lessEqFilter)\n",
    "\n",
    "    join1 = ee.Join.saveAll(**{\n",
    "      'matchesKey': 'after',\n",
    "      'ordering': 'system:time_start',\n",
    "      'ascending': False})\n",
    "\n",
    "    join1Result = join1.apply(**{\n",
    "      'primary': filtered,\n",
    "      'secondary': filtered,\n",
    "      'condition': filter1\n",
    "    })\n",
    "    filter2 = ee.Filter.And(maxDiffFilter, greaterEqFilter)\n",
    "\n",
    "    join2 = ee.Join.saveAll(**{\n",
    "      'matchesKey': 'before',\n",
    "      'ordering': 'system:time_start',\n",
    "      'ascending': True})\n",
    "\n",
    "    join2Result = join2.apply(**{\n",
    "      'primary': join1Result,\n",
    "      'secondary': join1Result,\n",
    "      'condition': filter2\n",
    "    })\n",
    "    return join2Result"
   ]
  },
  {
   "cell_type": "code",
   "execution_count": 23,
   "id": "507d6c10-e958-4346-ae6f-cc102e5fc816",
   "metadata": {
    "tags": []
   },
   "outputs": [],
   "source": [
    "s2_join = image_join(s2_year_col)"
   ]
  },
  {
   "cell_type": "code",
   "execution_count": 25,
   "id": "97ecd856-b44e-414d-92af-b6575e8b6666",
   "metadata": {
    "tags": []
   },
   "outputs": [],
   "source": [
    "def interpolateImages(image):\n",
    "    image = ee.Image(image)\n",
    "    beforeImages = ee.List(image.get('before'))\n",
    "    beforeMosaic = ee.ImageCollection.fromImages(beforeImages).mosaic()\n",
    "    afterImages = ee.List(image.get('after'))\n",
    "    afterMosaic = ee.ImageCollection.fromImages(afterImages).mosaic()\n",
    "    \n",
    "    t1 = beforeMosaic.select('timestamp').rename('t1')\n",
    "    t2 = afterMosaic.select('timestamp').rename('t2')\n",
    "    t = image.metadata('system:time_start').rename('t')\n",
    "    timeImage = ee.Image.cat([t1, t2, t])\n",
    "    timeRatio = timeImage.expression('(t - t1) / (t2 - t1)', {\n",
    "                't': timeImage.select('t'),\n",
    "                't1': timeImage.select('t1'),\n",
    "                't2': timeImage.select('t2'),\n",
    "                })\n",
    "    interpolated = beforeMosaic.add((afterMosaic.subtract(beforeMosaic).multiply(timeRatio)))\n",
    "    result = image.unmask(interpolated)\n",
    "    return result.copyProperties(image, ['system:time_start'])\n"
   ]
  },
  {
   "cell_type": "code",
   "execution_count": 26,
   "id": "dab87ffc-2d83-4031-a851-1eaee4cb99c8",
   "metadata": {
    "tags": []
   },
   "outputs": [],
   "source": [
    "interpolatedCol = ee.ImageCollection(s2_join.map(interpolateImages))"
   ]
  },
  {
   "cell_type": "code",
   "execution_count": 27,
   "id": "c3250d96-37d6-4c14-a3ab-ffcf08f39411",
   "metadata": {
    "tags": []
   },
   "outputs": [
    {
     "ename": "EEException",
     "evalue": "User memory limit exceeded.",
     "output_type": "error",
     "traceback": [
      "\u001b[1;31m---------------------------------------------------------------------------\u001b[0m",
      "\u001b[1;31mHttpError\u001b[0m                                 Traceback (most recent call last)",
      "File \u001b[1;32mD:\\Study\\Python\\python3\\lib\\site-packages\\ee\\data.py:329\u001b[0m, in \u001b[0;36m_execute_cloud_call\u001b[1;34m(call, num_retries)\u001b[0m\n\u001b[0;32m    328\u001b[0m \u001b[38;5;28;01mtry\u001b[39;00m:\n\u001b[1;32m--> 329\u001b[0m   \u001b[38;5;28;01mreturn\u001b[39;00m \u001b[43mcall\u001b[49m\u001b[38;5;241;43m.\u001b[39;49m\u001b[43mexecute\u001b[49m\u001b[43m(\u001b[49m\u001b[43mnum_retries\u001b[49m\u001b[38;5;241;43m=\u001b[39;49m\u001b[43mnum_retries\u001b[49m\u001b[43m)\u001b[49m\n\u001b[0;32m    330\u001b[0m \u001b[38;5;28;01mexcept\u001b[39;00m googleapiclient\u001b[38;5;241m.\u001b[39merrors\u001b[38;5;241m.\u001b[39mHttpError \u001b[38;5;28;01mas\u001b[39;00m e:\n",
      "File \u001b[1;32mD:\\Study\\Python\\python3\\lib\\site-packages\\googleapiclient\\_helpers.py:130\u001b[0m, in \u001b[0;36mpositional.<locals>.positional_decorator.<locals>.positional_wrapper\u001b[1;34m(*args, **kwargs)\u001b[0m\n\u001b[0;32m    129\u001b[0m         logger\u001b[38;5;241m.\u001b[39mwarning(message)\n\u001b[1;32m--> 130\u001b[0m \u001b[38;5;28;01mreturn\u001b[39;00m wrapped(\u001b[38;5;241m*\u001b[39margs, \u001b[38;5;241m*\u001b[39m\u001b[38;5;241m*\u001b[39mkwargs)\n",
      "File \u001b[1;32mD:\\Study\\Python\\python3\\lib\\site-packages\\googleapiclient\\http.py:938\u001b[0m, in \u001b[0;36mHttpRequest.execute\u001b[1;34m(self, http, num_retries)\u001b[0m\n\u001b[0;32m    937\u001b[0m \u001b[38;5;28;01mif\u001b[39;00m resp\u001b[38;5;241m.\u001b[39mstatus \u001b[38;5;241m>\u001b[39m\u001b[38;5;241m=\u001b[39m \u001b[38;5;241m300\u001b[39m:\n\u001b[1;32m--> 938\u001b[0m     \u001b[38;5;28;01mraise\u001b[39;00m HttpError(resp, content, uri\u001b[38;5;241m=\u001b[39m\u001b[38;5;28mself\u001b[39m\u001b[38;5;241m.\u001b[39muri)\n\u001b[0;32m    939\u001b[0m \u001b[38;5;28;01mreturn\u001b[39;00m \u001b[38;5;28mself\u001b[39m\u001b[38;5;241m.\u001b[39mpostproc(resp, content)\n",
      "\u001b[1;31mHttpError\u001b[0m: <HttpError 400 when requesting https://earthengine.googleapis.com/v1alpha/projects/earthengine-legacy/maps?fields=name&alt=json returned \"User memory limit exceeded.\". Details: \"User memory limit exceeded.\">",
      "\nDuring handling of the above exception, another exception occurred:\n",
      "\u001b[1;31mEEException\u001b[0m                               Traceback (most recent call last)",
      "Cell \u001b[1;32mIn[27], line 1\u001b[0m\n\u001b[1;32m----> 1\u001b[0m \u001b[43mMap\u001b[49m\u001b[38;5;241;43m.\u001b[39;49m\u001b[43maddLayer\u001b[49m\u001b[43m(\u001b[49m\u001b[43minterpolatedCol\u001b[49m\u001b[38;5;241;43m.\u001b[39;49m\u001b[43mfirst\u001b[49m\u001b[43m(\u001b[49m\u001b[43m)\u001b[49m\u001b[43m,\u001b[49m\u001b[43m \u001b[49m\u001b[43m{\u001b[49m\u001b[38;5;124;43m'\u001b[39;49m\u001b[38;5;124;43mmin\u001b[39;49m\u001b[38;5;124;43m'\u001b[39;49m\u001b[43m:\u001b[49m\u001b[38;5;241;43m0\u001b[39;49m\u001b[43m,\u001b[49m\u001b[43m \u001b[49m\u001b[38;5;124;43m'\u001b[39;49m\u001b[38;5;124;43mmax\u001b[39;49m\u001b[38;5;124;43m'\u001b[39;49m\u001b[43m:\u001b[49m\u001b[38;5;241;43m3000\u001b[39;49m\u001b[43m}\u001b[49m\u001b[43m,\u001b[49m\u001b[43m \u001b[49m\u001b[38;5;124;43m'\u001b[39;49m\u001b[38;5;124;43mimg\u001b[39;49m\u001b[38;5;124;43m'\u001b[39;49m\u001b[43m)\u001b[49m\n",
      "File \u001b[1;32mD:\\Study\\Python\\python3\\lib\\site-packages\\geemap\\geemap.py:1495\u001b[0m, in \u001b[0;36mMap.add_ee_layer\u001b[1;34m(self, ee_object, vis_params, name, shown, opacity)\u001b[0m\n\u001b[0;32m   1490\u001b[0m     \u001b[38;5;28;01melif\u001b[39;00m \u001b[38;5;129;01mnot\u001b[39;00m \u001b[38;5;28misinstance\u001b[39m(vis_params[\u001b[38;5;124m\"\u001b[39m\u001b[38;5;124mpalette\u001b[39m\u001b[38;5;124m\"\u001b[39m], \u001b[38;5;28mlist\u001b[39m):\n\u001b[0;32m   1491\u001b[0m         \u001b[38;5;28;01mraise\u001b[39;00m \u001b[38;5;167;01mValueError\u001b[39;00m(\n\u001b[0;32m   1492\u001b[0m             \u001b[38;5;124m\"\u001b[39m\u001b[38;5;124mThe palette must be a list of colors or a string or a Box object.\u001b[39m\u001b[38;5;124m\"\u001b[39m\n\u001b[0;32m   1493\u001b[0m         )\n\u001b[1;32m-> 1495\u001b[0m map_id_dict \u001b[38;5;241m=\u001b[39m \u001b[43mee\u001b[49m\u001b[38;5;241;43m.\u001b[39;49m\u001b[43mImage\u001b[49m\u001b[43m(\u001b[49m\u001b[43mimage\u001b[49m\u001b[43m)\u001b[49m\u001b[38;5;241;43m.\u001b[39;49m\u001b[43mgetMapId\u001b[49m\u001b[43m(\u001b[49m\u001b[43mvis_params\u001b[49m\u001b[43m)\u001b[49m\n\u001b[0;32m   1496\u001b[0m url \u001b[38;5;241m=\u001b[39m map_id_dict[\u001b[38;5;124m\"\u001b[39m\u001b[38;5;124mtile_fetcher\u001b[39m\u001b[38;5;124m\"\u001b[39m]\u001b[38;5;241m.\u001b[39murl_format\n\u001b[0;32m   1497\u001b[0m tile_layer \u001b[38;5;241m=\u001b[39m ipyleaflet\u001b[38;5;241m.\u001b[39mTileLayer(\n\u001b[0;32m   1498\u001b[0m     url\u001b[38;5;241m=\u001b[39murl,\n\u001b[0;32m   1499\u001b[0m     attribution\u001b[38;5;241m=\u001b[39m\u001b[38;5;124m\"\u001b[39m\u001b[38;5;124mGoogle Earth Engine\u001b[39m\u001b[38;5;124m\"\u001b[39m,\n\u001b[1;32m   (...)\u001b[0m\n\u001b[0;32m   1503\u001b[0m     max_zoom\u001b[38;5;241m=\u001b[39m\u001b[38;5;241m24\u001b[39m,\n\u001b[0;32m   1504\u001b[0m )\n",
      "File \u001b[1;32mD:\\Study\\Python\\python3\\lib\\site-packages\\ee\\image.py:130\u001b[0m, in \u001b[0;36mImage.getMapId\u001b[1;34m(self, vis_params)\u001b[0m\n\u001b[0;32m    128\u001b[0m vis_image, request \u001b[38;5;241m=\u001b[39m \u001b[38;5;28mself\u001b[39m\u001b[38;5;241m.\u001b[39m_apply_visualization(vis_params)\n\u001b[0;32m    129\u001b[0m request[\u001b[38;5;124m'\u001b[39m\u001b[38;5;124mimage\u001b[39m\u001b[38;5;124m'\u001b[39m] \u001b[38;5;241m=\u001b[39m vis_image\n\u001b[1;32m--> 130\u001b[0m response \u001b[38;5;241m=\u001b[39m \u001b[43mdata\u001b[49m\u001b[38;5;241;43m.\u001b[39;49m\u001b[43mgetMapId\u001b[49m\u001b[43m(\u001b[49m\u001b[43mrequest\u001b[49m\u001b[43m)\u001b[49m\n\u001b[0;32m    131\u001b[0m response[\u001b[38;5;124m'\u001b[39m\u001b[38;5;124mimage\u001b[39m\u001b[38;5;124m'\u001b[39m] \u001b[38;5;241m=\u001b[39m \u001b[38;5;28mself\u001b[39m\n\u001b[0;32m    132\u001b[0m \u001b[38;5;28;01mreturn\u001b[39;00m response\n",
      "File \u001b[1;32mD:\\Study\\Python\\python3\\lib\\site-packages\\ee\\data.py:617\u001b[0m, in \u001b[0;36mgetMapId\u001b[1;34m(params)\u001b[0m\n\u001b[0;32m    612\u001b[0m queryParams \u001b[38;5;241m=\u001b[39m {\n\u001b[0;32m    613\u001b[0m     \u001b[38;5;124m'\u001b[39m\u001b[38;5;124mfields\u001b[39m\u001b[38;5;124m'\u001b[39m: \u001b[38;5;124m'\u001b[39m\u001b[38;5;124mname\u001b[39m\u001b[38;5;124m'\u001b[39m,\n\u001b[0;32m    614\u001b[0m     \u001b[38;5;124m'\u001b[39m\u001b[38;5;124mbody\u001b[39m\u001b[38;5;124m'\u001b[39m: request,\n\u001b[0;32m    615\u001b[0m }\n\u001b[0;32m    616\u001b[0m _maybe_populate_workload_tag(queryParams)\n\u001b[1;32m--> 617\u001b[0m result \u001b[38;5;241m=\u001b[39m \u001b[43m_execute_cloud_call\u001b[49m\u001b[43m(\u001b[49m\n\u001b[0;32m    618\u001b[0m \u001b[43m    \u001b[49m\u001b[43m_get_cloud_api_resource\u001b[49m\u001b[43m(\u001b[49m\u001b[43m)\u001b[49m\u001b[38;5;241;43m.\u001b[39;49m\u001b[43mprojects\u001b[49m\u001b[43m(\u001b[49m\u001b[43m)\u001b[49m\u001b[38;5;241;43m.\u001b[39;49m\u001b[43mmaps\u001b[49m\u001b[43m(\u001b[49m\u001b[43m)\u001b[49m\u001b[38;5;241;43m.\u001b[39;49m\u001b[43mcreate\u001b[49m\u001b[43m(\u001b[49m\n\u001b[0;32m    619\u001b[0m \u001b[43m        \u001b[49m\u001b[43mparent\u001b[49m\u001b[38;5;241;43m=\u001b[39;49m\u001b[43m_get_projects_path\u001b[49m\u001b[43m(\u001b[49m\u001b[43m)\u001b[49m\u001b[43m,\u001b[49m\u001b[43m \u001b[49m\u001b[38;5;241;43m*\u001b[39;49m\u001b[38;5;241;43m*\u001b[39;49m\u001b[43mqueryParams\u001b[49m\u001b[43m)\u001b[49m\u001b[43m)\u001b[49m\n\u001b[0;32m    620\u001b[0m map_name \u001b[38;5;241m=\u001b[39m result[\u001b[38;5;124m'\u001b[39m\u001b[38;5;124mname\u001b[39m\u001b[38;5;124m'\u001b[39m]\n\u001b[0;32m    621\u001b[0m url_format \u001b[38;5;241m=\u001b[39m \u001b[38;5;124m'\u001b[39m\u001b[38;5;132;01m%s\u001b[39;00m\u001b[38;5;124m/\u001b[39m\u001b[38;5;132;01m%s\u001b[39;00m\u001b[38;5;124m/\u001b[39m\u001b[38;5;132;01m%s\u001b[39;00m\u001b[38;5;124m/tiles/\u001b[39m\u001b[38;5;132;01m{z}\u001b[39;00m\u001b[38;5;124m/\u001b[39m\u001b[38;5;132;01m{x}\u001b[39;00m\u001b[38;5;124m/\u001b[39m\u001b[38;5;132;01m{y}\u001b[39;00m\u001b[38;5;124m'\u001b[39m \u001b[38;5;241m%\u001b[39m (\n\u001b[0;32m    622\u001b[0m     _tile_base_url, _cloud_api_utils\u001b[38;5;241m.\u001b[39mVERSION, map_name)\n",
      "File \u001b[1;32mD:\\Study\\Python\\python3\\lib\\site-packages\\ee\\data.py:331\u001b[0m, in \u001b[0;36m_execute_cloud_call\u001b[1;34m(call, num_retries)\u001b[0m\n\u001b[0;32m    329\u001b[0m   \u001b[38;5;28;01mreturn\u001b[39;00m call\u001b[38;5;241m.\u001b[39mexecute(num_retries\u001b[38;5;241m=\u001b[39mnum_retries)\n\u001b[0;32m    330\u001b[0m \u001b[38;5;28;01mexcept\u001b[39;00m googleapiclient\u001b[38;5;241m.\u001b[39merrors\u001b[38;5;241m.\u001b[39mHttpError \u001b[38;5;28;01mas\u001b[39;00m e:\n\u001b[1;32m--> 331\u001b[0m   \u001b[38;5;28;01mraise\u001b[39;00m _translate_cloud_exception(e)\n",
      "\u001b[1;31mEEException\u001b[0m: User memory limit exceeded."
     ]
    }
   ],
   "source": [
    "Map.addLayer(interpolatedCol.first(), {'min':0, 'max':3000}, 'img')"
   ]
  },
  {
   "cell_type": "code",
   "execution_count": null,
   "id": "78111f25-ac3b-47a2-882d-7e4508ff22e6",
   "metadata": {},
   "outputs": [],
   "source": []
  },
  {
   "cell_type": "code",
   "execution_count": null,
   "id": "eb42092d-69a3-45c7-9cf2-b1cb6b41773b",
   "metadata": {},
   "outputs": [],
   "source": []
  }
 ],
 "metadata": {
  "kernelspec": {
   "display_name": "Python 3 (ipykernel)",
   "language": "python",
   "name": "python3"
  },
  "language_info": {
   "codemirror_mode": {
    "name": "ipython",
    "version": 3
   },
   "file_extension": ".py",
   "mimetype": "text/x-python",
   "name": "python",
   "nbconvert_exporter": "python",
   "pygments_lexer": "ipython3",
   "version": "3.10.10"
  }
 },
 "nbformat": 4,
 "nbformat_minor": 5
}
