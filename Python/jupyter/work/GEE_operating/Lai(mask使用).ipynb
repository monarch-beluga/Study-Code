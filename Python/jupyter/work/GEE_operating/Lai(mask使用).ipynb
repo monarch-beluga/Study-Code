{
 "cells": [
  {
   "cell_type": "code",
   "execution_count": 1,
   "id": "36e17ffe",
   "metadata": {},
   "outputs": [],
   "source": [
    "import geemap\n",
    "import ee"
   ]
  },
  {
   "cell_type": "code",
   "execution_count": 2,
   "id": "9d2afba7",
   "metadata": {
    "scrolled": false
   },
   "outputs": [
    {
     "data": {
      "application/vnd.jupyter.widget-view+json": {
       "model_id": "86674bc06f104937ac65e783e1d9b668",
       "version_major": 2,
       "version_minor": 0
      },
      "text/plain": [
       "Map(center=[40, -100], controls=(WidgetControl(options=['position', 'transparent_bg'], widget=HBox(children=(T…"
      ]
     },
     "metadata": {},
     "output_type": "display_data"
    }
   ],
   "source": [
    "Map = geemap.Map()\n",
    "Map"
   ]
  },
  {
   "cell_type": "code",
   "execution_count": 3,
   "id": "0538289e",
   "metadata": {},
   "outputs": [],
   "source": [
    "roi = geemap.shp_to_ee(r'E:/Data/clip/roi.shp')\n",
    "Map.centerObject(roi, 7)\n",
    "Map.addLayer(roi, {}, 'roi')"
   ]
  },
  {
   "cell_type": "code",
   "execution_count": 4,
   "id": "b07c1274",
   "metadata": {},
   "outputs": [],
   "source": [
    "images = ee.ImageCollection(\"MODIS/006/MOD15A2H\").filterDate('2015', '2021').select('Lai_500m')"
   ]
  },
  {
   "cell_type": "code",
   "execution_count": 5,
   "id": "a579ee09",
   "metadata": {},
   "outputs": [],
   "source": [
    "colorizedVis = {\n",
    "  'min': 0,\n",
    "  'max': 100,\n",
    "  'palette': [\n",
    "    'FFFFFF', 'CE7E45', 'DF923D', 'F1B555', 'FCD163', '99B718', '74A901',\n",
    "    '66A000', '529400', '3E8601', '207401', '056201', '004C00', '023B01',\n",
    "    '012E01', '011D01', '011301'\n",
    "  ],\n",
    "};"
   ]
  },
  {
   "cell_type": "code",
   "execution_count": 6,
   "id": "92ed7c3c",
   "metadata": {},
   "outputs": [
    {
     "data": {
      "text/plain": [
       "275"
      ]
     },
     "execution_count": 6,
     "metadata": {},
     "output_type": "execute_result"
    }
   ],
   "source": [
    "img_n = images.size().getInfo()\n",
    "img_n"
   ]
  },
  {
   "cell_type": "code",
   "execution_count": null,
   "id": "58adadc5",
   "metadata": {},
   "outputs": [],
   "source": [
    "275 * 90 // 100"
   ]
  },
  {
   "cell_type": "code",
   "execution_count": 7,
   "id": "c9bb3f1a",
   "metadata": {},
   "outputs": [],
   "source": [
    "img_min = images.toBands().toArray().arraySort().arrayGet([img_n*10//100])"
   ]
  },
  {
   "cell_type": "code",
   "execution_count": 8,
   "id": "7d973689",
   "metadata": {},
   "outputs": [],
   "source": [
    "img_max = images.toBands().toArray().arraySort().arrayGet([img_n*90//100])"
   ]
  },
  {
   "cell_type": "code",
   "execution_count": 9,
   "id": "d5f25b80",
   "metadata": {},
   "outputs": [],
   "source": [
    "# Map.addLayer(Lai_max, colorizedVis, 'Lai_max')\n",
    "Map.addLayer(img_min.clip(roi.geometry()), colorizedVis, 'a')"
   ]
  },
  {
   "cell_type": "code",
   "execution_count": null,
   "id": "bbaaff6a",
   "metadata": {},
   "outputs": [],
   "source": [
    "geemap.ee_export_image(, r'E:/Data/Lai_max.tif', scale=500, crs='EPSG:3857')"
   ]
  },
  {
   "cell_type": "code",
   "execution_count": 14,
   "id": "7dc5e261",
   "metadata": {},
   "outputs": [],
   "source": [
    "r = Map.draw_last_feature.geometry()"
   ]
  },
  {
   "cell_type": "code",
   "execution_count": 19,
   "id": "5f930aaf",
   "metadata": {},
   "outputs": [
    {
     "name": "stdout",
     "output_type": "stream",
     "text": [
      "Exporting Lai_min_a ...\n"
     ]
    }
   ],
   "source": [
    "geemap.ee_export_image_to_drive(img_min.divide(10),  description=r'Lai_min_a', folder='Image', region=roi.geometry(), scale=500, crs='EPSG:3857')"
   ]
  },
  {
   "cell_type": "code",
   "execution_count": null,
   "id": "0cfa146b",
   "metadata": {},
   "outputs": [],
   "source": [
    "images = geemap.landsat_timeseries(roi=roi.geometry(), start_year=2019, \n",
    "                                     end_year=2021, start_date='05-01',\n",
    "                                    end_date='09-01')"
   ]
  },
  {
   "cell_type": "code",
   "execution_count": null,
   "id": "148fe226",
   "metadata": {},
   "outputs": [],
   "source": [
    "Map.addLayer(images, {'bands':['Red', 'Green', 'Blue'], 'max': 3000, 'min': 0}, 'landsat')"
   ]
  },
  {
   "cell_type": "code",
   "execution_count": null,
   "id": "5379fdbe",
   "metadata": {},
   "outputs": [],
   "source": [
    "img = images.median()"
   ]
  },
  {
   "cell_type": "code",
   "execution_count": null,
   "id": "fa88ab1d",
   "metadata": {},
   "outputs": [],
   "source": [
    "img.bandNames().getInfo()"
   ]
  },
  {
   "cell_type": "code",
   "execution_count": null,
   "id": "e22df7f3",
   "metadata": {},
   "outputs": [],
   "source": [
    "images = ee.ImageCollection(\"ECMWF/ERA5/DAILY\").filterDate('2013', '2014')"
   ]
  },
  {
   "cell_type": "code",
   "execution_count": null,
   "id": "cb0bfd40",
   "metadata": {},
   "outputs": [],
   "source": [
    "visWind = {\n",
    "    'max':8,\n",
    "    'min':-5,\n",
    "  'palette': [\n",
    "    '#FFFFFF', '#FFFF71', '#DEFF00', '#9EFF00', '#77B038', '#007E55', '#005F51',\n",
    "    '#004B51', '#013A7B', '#023AAD'\n",
    "  ]\n",
    "}"
   ]
  },
  {
   "cell_type": "code",
   "execution_count": null,
   "id": "721cb0e2",
   "metadata": {},
   "outputs": [],
   "source": [
    "Map.addLayer(images.first().select('u_component_of_wind_10m').clip(roi.geometry()), visWind, 'wind')"
   ]
  },
  {
   "cell_type": "code",
   "execution_count": null,
   "id": "dbc30155",
   "metadata": {},
   "outputs": [],
   "source": []
  }
 ],
 "metadata": {
  "kernelspec": {
   "display_name": "Python 3 (ipykernel)",
   "language": "python",
   "name": "python3"
  },
  "language_info": {
   "codemirror_mode": {
    "name": "ipython",
    "version": 3
   },
   "file_extension": ".py",
   "mimetype": "text/x-python",
   "name": "python",
   "nbconvert_exporter": "python",
   "pygments_lexer": "ipython3",
   "version": "3.9.7"
  }
 },
 "nbformat": 4,
 "nbformat_minor": 5
}
