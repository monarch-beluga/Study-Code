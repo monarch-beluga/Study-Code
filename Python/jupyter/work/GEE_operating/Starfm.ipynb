{
 "cells": [
  {
   "cell_type": "code",
   "execution_count": null,
   "id": "a18fd31c-0619-4e3e-b699-55dd48a0174a",
   "metadata": {
    "tags": []
   },
   "outputs": [],
   "source": [
    "import geemap\n",
    "import ee\n",
    "\n",
    "Map = geemap.Map()\n",
    "Map"
   ]
  },
  {
   "cell_type": "code",
   "execution_count": null,
   "id": "1f0a2da4-1466-4111-a389-a3851e55d27f",
   "metadata": {},
   "outputs": [],
   "source": [
    "import os\n",
    "\n",
    "os.chdir(r'D:\\Work\\Starfm')"
   ]
  },
  {
   "cell_type": "markdown",
   "id": "dfcaf4fa-7d85-4212-971a-a12261e982ac",
   "metadata": {
    "tags": []
   },
   "source": [
    "### 研究区加载"
   ]
  },
  {
   "cell_type": "code",
   "execution_count": null,
   "id": "8f01ad4b-bc73-4c47-badd-671d8f2faa2b",
   "metadata": {
    "tags": []
   },
   "outputs": [],
   "source": [
    "shp = geemap.shp_to_ee('roi.shp')\n",
    "roi = shp.geometry()\n",
    "buffer = roi.buffer(1000)\n",
    "bound = buffer.bounds()"
   ]
  },
  {
   "cell_type": "code",
   "execution_count": null,
   "id": "3c72a815-a590-4248-bbc6-f74b17d3290c",
   "metadata": {
    "tags": []
   },
   "outputs": [],
   "source": [
    "Map.addLayer(bound, {}, 'bound')"
   ]
  },
  {
   "cell_type": "markdown",
   "id": "8a33e713-5c4f-4c8f-9c1d-4f20271b90ff",
   "metadata": {
    "tags": []
   },
   "source": [
    "### 定义函数"
   ]
  },
  {
   "cell_type": "code",
   "execution_count": null,
   "id": "e3a5b7ec-1e53-47b8-8d6a-a5848d28f720",
   "metadata": {
    "tags": []
   },
   "outputs": [],
   "source": [
    "def get_weights(i):\n",
    "    w = ee.Number(windows)\n",
    "    zero = ee.List.repeat(0, w.multiply(w));\n",
    "    re_list = zero.set(i, 1)\n",
    "    kernel = ee.Array(re_list).reshape([w, w]).toList()\n",
    "    return kernel\n",
    "\n",
    "def img_convolve(i, collection):\n",
    "    collection = ee.List(collection)\n",
    "    w = ee.Number(windows)\n",
    "    x = ee.Number(-(windows//2))\n",
    "    y = ee.Number(-(windows//2))\n",
    "    weights = get_weights(i)\n",
    "    Kernel = ee.Kernel.fixed(w, w, weights, x, y)\n",
    "    img = ee.Image(collection.get(0))\n",
    "    img1 = img.convolve(Kernel)\n",
    "    return collection.add(img1)"
   ]
  },
  {
   "cell_type": "markdown",
   "id": "c3c3b667-c46c-4379-84cb-a8a63140aeb9",
   "metadata": {
    "tags": []
   },
   "source": [
    "#### Starfm函数"
   ]
  },
  {
   "cell_type": "code",
   "execution_count": null,
   "id": "0bbbfc2a-6bf9-4f5c-a39b-8759a9cfd865",
   "metadata": {
    "tags": []
   },
   "outputs": [],
   "source": [
    "def Starfm(image_hacc, image_lacc, image_lpre):\n",
    "    c1 = image_lpre.subtract(image_lacc)\n",
    "    c2 = image_hacc.subtract(modis_img1)\n",
    "    seq = ee.List.sequence(0, windows*windows-1, 1)\n",
    "    f1 = ee.List(seq.iterate(img_convolve, ee.List([c1]))).slice(1)\n",
    "    f2 = ee.List(seq.iterate(img_convolve, ee.List([c2]))).slice(1)\n",
    "    f3 = ee.List(seq.iterate(img_convolve, ee.List([image_hacc]))).slice(1)\n",
    "    def img_weight(i):\n",
    "        w = windows\n",
    "        wc = windows//2\n",
    "        i = ee.Number(i)\n",
    "        x = i.divide(w).int()\n",
    "        y = i.mod(w)\n",
    "        d = ee.Number(1).add(x.subtract(wc).pow(2).add(y.subtract(wc).pow(2)).pow(0.5).divide(wc))\n",
    "        img1 = ee.Image(f1.get(i)).abs().add(2).log()\n",
    "        img2 = ee.Image(f2.get(i)).abs().add(2).log()\n",
    "        mask1 = ee.Image(f1.get(i)).subtract(c1).abs().lte(c1.abs().divide(10))\n",
    "        mask2 = ee.Image(f2.get(i)).subtract(c2).abs().lte(c2.abs().divide(10))\n",
    "        mask3 = ee.Image(f3.get(i)).subtract(image_hacc).abs().lte(image_hacc.abs().divide(10))\n",
    "        mask = mask1.multiply(mask2).multiply(mask3)\n",
    "        weight = img1.expression('1 / (img1 * img2 * d) * mask', {\n",
    "            'img1': img1,\n",
    "            'img2': img2,\n",
    "            'd': d,\n",
    "            'mask': mask\n",
    "        })\n",
    "        return weight\n",
    "    image_weight = ee.List(seq.map(img_weight))\n",
    "    weight_sum = ee.ImageCollection(image_weight).sum()\n",
    "    image_normweight = image_weight.map(lambda img: ee.Image(img).divide(weight_sum))\n",
    "    def img_date(i):\n",
    "        i = ee.Number(i)\n",
    "        img1 = ee.Image(f1.get(i))\n",
    "        img2 = ee.Image(f3.get(i))\n",
    "        weight = ee.Image(image_normweight.get(i))\n",
    "        img = img1.expression('(img1 + img2) * weight', {\n",
    "            'img1': img1,\n",
    "            'img2': img2,\n",
    "            'weight': weight\n",
    "        })\n",
    "        return img\n",
    "    image_data = ee.List(seq.map(img_date))\n",
    "    image_hpre = ee.ImageCollection(image_data).sum()\n",
    "    return image_hpre"
   ]
  },
  {
   "cell_type": "markdown",
   "id": "8232d763-4c76-4ba1-8383-0e94ce58e8dd",
   "metadata": {},
   "source": [
    "### Starfm使用"
   ]
  },
  {
   "cell_type": "code",
   "execution_count": null,
   "id": "91c0a61b-46d7-4a5f-862a-ac8f391df99d",
   "metadata": {
    "tags": []
   },
   "outputs": [],
   "source": [
    "windows = 49          # 窗口大小\n",
    "scale = 10            # 像元大小"
   ]
  },
  {
   "cell_type": "markdown",
   "id": "70e7b7fb-ae8f-4f28-baa1-55ed2c5c502e",
   "metadata": {
    "tags": []
   },
   "source": [
    "##### 定义基准影像"
   ]
  },
  {
   "cell_type": "code",
   "execution_count": null,
   "id": "44241748-74cb-4dd1-bbab-e982142dd5b4",
   "metadata": {
    "tags": []
   },
   "outputs": [],
   "source": [
    "# 高分辨率影像\n",
    "s2 = ee.ImageCollection(\"COPERNICUS/S2_SR\")\\\n",
    "            .filterBounds(bound)\\\n",
    "            .filterDate('2022-11-07', '2022-11-08')\n",
    "s2_img = s2.mosaic().select(['B4', 'B8']).reproject(crs='EPSG:4326', scale=scale).clip(bound)    \n",
    "# 低分辨率影像\n",
    "modis1 = ee.ImageCollection('MODIS/061/MOD09GQ').filterDate('2022-11-07', '2022-11-08')\n",
    "modis_img1 = modis1.first().select(['sur_refl_b01', 'sur_refl_b02'], ['B4', 'B8']).reproject(crs='EPSG:4326', scale=scale).clip(bound)\n",
    "# 需要选择相同的波段，并重新投影到相同的投影和像元大小，以及裁剪到相同的区域"
   ]
  },
  {
   "cell_type": "markdown",
   "id": "0b018d16-e77a-417e-9761-2b031eb9a3e0",
   "metadata": {},
   "source": [
    "##### 单张影像使用"
   ]
  },
  {
   "cell_type": "code",
   "execution_count": null,
   "id": "6b9b0e68-6b8f-4f46-a532-e250e4ed66eb",
   "metadata": {
    "tags": []
   },
   "outputs": [],
   "source": [
    "modis2 = ee.ImageCollection('MODIS/061/MOD09GQ').filterDate('2022-08-09', '2022-08-10')\n",
    "modis_img2 = modis2.first().select(['sur_refl_b01', 'sur_refl_b02'], ['B4', 'B8']).reproject(crs='EPSG:4326', scale=scale).clip(bound)\n",
    "img_modis_to_s2 = Starfm(s2_img, modis_img1, modis_img2)"
   ]
  },
  {
   "cell_type": "markdown",
   "id": "f541c166-383b-4d3d-9546-4c5e827258b4",
   "metadata": {},
   "source": [
    "##### 对影像集使用"
   ]
  },
  {
   "cell_type": "code",
   "execution_count": null,
   "id": "328c7303-a08a-460f-bbfd-4867ad28fb40",
   "metadata": {
    "tags": []
   },
   "outputs": [],
   "source": [
    "mod_col = ee.ImageCollection('MODIS/061/MOD09GQ').filterDate('2022-08-09', '2022-08-14')\n",
    "mod_col_re = mod_col.map(lambda img: img.select(['sur_refl_b01', 'sur_refl_b02'], ['B4', 'B8'])\n",
    "                         .reproject(crs='EPSG:4326', scale=scale).clip(bound))\n",
    "mod_col_to_s2 = mod_col_re.map(lambda img: Starfm(s2_img, modis_img1, img))"
   ]
  },
  {
   "cell_type": "code",
   "execution_count": null,
   "id": "24a2e2a2-15ce-48b8-929d-32f2ff5602a8",
   "metadata": {
    "tags": []
   },
   "outputs": [],
   "source": [
    "Map.addLayer(mod_col_to_s2.first(), {}, 'mod2S2')"
   ]
  },
  {
   "cell_type": "code",
   "execution_count": null,
   "id": "adbf6750-7c00-4230-8e23-86a63e265165",
   "metadata": {},
   "outputs": [],
   "source": []
  }
 ],
 "metadata": {
  "kernelspec": {
   "display_name": "Python 3 (ipykernel)",
   "language": "python",
   "name": "python3"
  },
  "language_info": {
   "codemirror_mode": {
    "name": "ipython",
    "version": 3
   },
   "file_extension": ".py",
   "mimetype": "text/x-python",
   "name": "python",
   "nbconvert_exporter": "python",
   "pygments_lexer": "ipython3",
   "version": "3.10.10"
  }
 },
 "nbformat": 4,
 "nbformat_minor": 5
}
