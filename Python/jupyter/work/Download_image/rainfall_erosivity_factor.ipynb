{
 "cells": [
  {
   "cell_type": "code",
   "execution_count": null,
   "id": "3a598e3a-25e4-4a99-9e10-8a97e818f6e4",
   "metadata": {},
   "outputs": [],
   "source": [
    "## 降雨侵蚀力因子计算"
   ]
  },
  {
   "cell_type": "code",
   "execution_count": 1,
   "id": "905bf815-20ce-47f4-a4e4-4b194abccacf",
   "metadata": {
    "tags": []
   },
   "outputs": [
    {
     "data": {
      "application/vnd.jupyter.widget-view+json": {
       "model_id": "64bd1b3645074693ab52499272db30e7",
       "version_major": 2,
       "version_minor": 0
      },
      "text/plain": [
       "Map(center=[20, 0], controls=(WidgetControl(options=['position', 'transparent_bg'], widget=HBox(children=(Togg…"
      ]
     },
     "metadata": {},
     "output_type": "display_data"
    }
   ],
   "source": [
    "import geemap\n",
    "import ee\n",
    "\n",
    "Map = geemap.Map()\n",
    "Map"
   ]
  },
  {
   "cell_type": "code",
   "execution_count": 2,
   "id": "ed51f916-7bcc-44dd-a2e1-91752ce8e86b",
   "metadata": {
    "tags": []
   },
   "outputs": [],
   "source": [
    "import os\n",
    "os.chdir(r'D:\\Work\\naqu')"
   ]
  },
  {
   "cell_type": "code",
   "execution_count": 3,
   "id": "55a4f104-3d23-4938-83ac-d0b1cf04c8e2",
   "metadata": {
    "tags": []
   },
   "outputs": [],
   "source": [
    "shp = geemap.shp_to_ee('那曲市矢量/那曲市WGS_1984.shp')\n",
    "roi = shp.geometry()\n",
    "Map.center_object(roi, 7)\n",
    "Map.addLayer(roi, {}, 'roi')"
   ]
  },
  {
   "cell_type": "code",
   "execution_count": 8,
   "id": "efafb7a8-4e5e-4cb9-9836-c9cc1dd5c38c",
   "metadata": {
    "tags": []
   },
   "outputs": [],
   "source": [
    "images = ee.ImageCollection(\"IDAHO_EPSCOR/TERRACLIMATE\").filter(ee.Filter.date('2018', '2019'))\n",
    "Map.addLayer(dataset.clip(roi), {'min': 0, 'max': 20}, 'pr')"
   ]
  },
  {
   "cell_type": "code",
   "execution_count": null,
   "id": "c7ecdd8a-d89f-4954-b977-76b01de8316d",
   "metadata": {},
   "outputs": [
    {
     "data": {
      "text/html": [
       "<div><style>:root {\n",
       "  --font-color-primary: var(--jp-content-font-color0, rgba(0, 0, 0, 1));\n",
       "  --font-color-secondary: var(--jp-content-font-color2, rgba(0, 0, 0, 0.6));\n",
       "  --font-color-accent: rgba(123, 31, 162, 1);\n",
       "  --border-color: var(--jp-border-color2, #e0e0e0);\n",
       "  --background-color: var(--jp-layout-color0, white);\n",
       "  --background-color-row-even: var(--jp-layout-color1, white);\n",
       "  --background-color-row-odd: var(--jp-layout-color2, #eeeeee);\n",
       "}\n",
       "\n",
       "html[theme=\"dark\"],\n",
       "body[data-theme=\"dark\"],\n",
       "body.vscode-dark {\n",
       "  --font-color-primary: rgba(255, 255, 255, 1);\n",
       "  --font-color-secondary: rgba(255, 255, 255, 0.6);\n",
       "  --font-color-accent: rgb(173, 132, 190);\n",
       "  --border-color: #2e2e2e;\n",
       "  --background-color: #111111;\n",
       "  --background-color-row-even: #111111;\n",
       "  --background-color-row-odd: #313131;\n",
       "}\n",
       "\n",
       ".ee {\n",
       "  padding: 1em;\n",
       "  line-height: 1.5em;\n",
       "  min-width: 300px;\n",
       "  max-width: 1200px;\n",
       "  overflow-y: scroll;\n",
       "  max-height: 600px;\n",
       "  border: 1px solid var(--border-color);\n",
       "  font-family: monospace;\n",
       "}\n",
       "\n",
       ".ee li {\n",
       "  list-style-type: none;\n",
       "}\n",
       "\n",
       ".ee ul {\n",
       "  padding-left: 1.5em !important;\n",
       "  margin: 0;\n",
       "}\n",
       "\n",
       ".ee > ul {\n",
       "  padding-left: 0 !important;\n",
       "}\n",
       "\n",
       ".ee-open,\n",
       ".ee-shut {\n",
       "  color: var(--font-color-secondary);\n",
       "  cursor: pointer;\n",
       "  margin: 0;\n",
       "}\n",
       "\n",
       ".ee-open:hover,\n",
       ".ee-shut:hover {\n",
       "  color: var(--font-color-primary);\n",
       "}\n",
       "\n",
       ".ee-k {\n",
       "  color: var(--font-color-accent);\n",
       "  margin-right: 6px;\n",
       "}\n",
       "\n",
       ".ee-v {\n",
       "  color: var(--font-color-primary);\n",
       "}\n",
       "\n",
       ".ee-toggle {\n",
       "  display: none;\n",
       "}\n",
       "\n",
       ".ee-shut + ul {\n",
       "  display: none;\n",
       "}\n",
       "\n",
       ".ee-open + ul {\n",
       "  display: block;\n",
       "}\n",
       "\n",
       ".ee-shut::before {\n",
       "  display: inline-block;\n",
       "  content: \"▼\";\n",
       "  margin-right: 6px;\n",
       "  transform: rotate(-90deg);\n",
       "  transition: transform 0.2s;\n",
       "}\n",
       "\n",
       ".ee-open::before {\n",
       "  transform: rotate(0deg);\n",
       "  display: inline-block;\n",
       "  content: \"▼\";\n",
       "  margin-right: 6px;\n",
       "  transition: transform 0.2s;\n",
       "}\n",
       "</style><div class='ee'><ul><li><label class='ee-shut'>List (12 elements)<input type='checkbox' class='ee-toggle'></label><ul><li><span class='ee-k'>0:</span><span class='ee-v'>IDAHO_EPSCOR/TERRACLIMATE/201801</span></li><li><span class='ee-k'>1:</span><span class='ee-v'>IDAHO_EPSCOR/TERRACLIMATE/201802</span></li><li><span class='ee-k'>2:</span><span class='ee-v'>IDAHO_EPSCOR/TERRACLIMATE/201803</span></li><li><span class='ee-k'>3:</span><span class='ee-v'>IDAHO_EPSCOR/TERRACLIMATE/201804</span></li><li><span class='ee-k'>4:</span><span class='ee-v'>IDAHO_EPSCOR/TERRACLIMATE/201805</span></li><li><span class='ee-k'>5:</span><span class='ee-v'>IDAHO_EPSCOR/TERRACLIMATE/201806</span></li><li><span class='ee-k'>6:</span><span class='ee-v'>IDAHO_EPSCOR/TERRACLIMATE/201807</span></li><li><span class='ee-k'>7:</span><span class='ee-v'>IDAHO_EPSCOR/TERRACLIMATE/201808</span></li><li><span class='ee-k'>8:</span><span class='ee-v'>IDAHO_EPSCOR/TERRACLIMATE/201809</span></li><li><span class='ee-k'>9:</span><span class='ee-v'>IDAHO_EPSCOR/TERRACLIMATE/201810</span></li><li><span class='ee-k'>10:</span><span class='ee-v'>IDAHO_EPSCOR/TERRACLIMATE/201811</span></li><li><span class='ee-k'>11:</span><span class='ee-v'>IDAHO_EPSCOR/TERRACLIMATE/201812</span></li></ul></li></ul></div><script>function toggleHeader() {\n",
       "    const parent = this.parentElement;\n",
       "    parent.className = parent.className === \"ee-open\" ? \"ee-shut\" : \"ee-open\";\n",
       "}\n",
       "\n",
       "for (let c of document.getElementsByClassName(\"ee-toggle\")) {\n",
       "    c.onclick = toggleHeader;\n",
       "}</script></div>"
      ],
      "text/plain": [
       "<ee.ee_list.List at 0x29b1b644a00>"
      ]
     },
     "execution_count": 10,
     "metadata": {},
     "output_type": "execute_result"
    }
   ],
   "source": []
  },
  {
   "cell_type": "code",
   "execution_count": null,
   "id": "4d7c7ec9-c9ed-4d0f-89e4-d63d1dca1fce",
   "metadata": {},
   "outputs": [],
   "source": []
  },
  {
   "cell_type": "code",
   "execution_count": null,
   "id": "d82857ff-f5a4-4843-8a14-d30df6ca6983",
   "metadata": {},
   "outputs": [],
   "source": []
  },
  {
   "cell_type": "code",
   "execution_count": null,
   "id": "bdbe4d3c-73d4-4807-8515-bbfa527d4312",
   "metadata": {},
   "outputs": [],
   "source": []
  }
 ],
 "metadata": {
  "kernelspec": {
   "display_name": "Python 3 (ipykernel)",
   "language": "python",
   "name": "python3"
  },
  "language_info": {
   "codemirror_mode": {
    "name": "ipython",
    "version": 3
   },
   "file_extension": ".py",
   "mimetype": "text/x-python",
   "name": "python",
   "nbconvert_exporter": "python",
   "pygments_lexer": "ipython3",
   "version": "3.10.10"
  }
 },
 "nbformat": 4,
 "nbformat_minor": 5
}
