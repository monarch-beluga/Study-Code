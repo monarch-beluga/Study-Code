{
 "cells": [
  {
   "cell_type": "markdown",
   "id": "e4c8899e-ba33-494f-a789-4e6a5c976433",
   "metadata": {},
   "source": [
    "## 降雨侵蚀力因子计算"
   ]
  },
  {
   "cell_type": "code",
   "execution_count": 1,
   "id": "905bf815-20ce-47f4-a4e4-4b194abccacf",
   "metadata": {
    "tags": []
   },
   "outputs": [
    {
     "data": {
      "application/vnd.jupyter.widget-view+json": {
       "model_id": "85572401fe95479a9f4ce2db70ce8cd3",
       "version_major": 2,
       "version_minor": 0
      },
      "text/plain": [
       "Map(center=[20, 0], controls=(WidgetControl(options=['position', 'transparent_bg'], widget=HBox(children=(Togg…"
      ]
     },
     "metadata": {},
     "output_type": "display_data"
    }
   ],
   "source": [
    "import geemap\n",
    "import ee\n",
    "\n",
    "Map = geemap.Map()\n",
    "Map"
   ]
  },
  {
   "cell_type": "code",
   "execution_count": 2,
   "id": "ed51f916-7bcc-44dd-a2e1-91752ce8e86b",
   "metadata": {
    "tags": []
   },
   "outputs": [],
   "source": [
    "import os\n",
    "os.chdir(r'D:\\Work\\naqu')"
   ]
  },
  {
   "cell_type": "code",
   "execution_count": 3,
   "id": "55a4f104-3d23-4938-83ac-d0b1cf04c8e2",
   "metadata": {
    "tags": []
   },
   "outputs": [],
   "source": [
    "shp = geemap.shp_to_ee('那曲市矢量/那曲市WGS_1984.shp')\n",
    "roi = shp.geometry()\n",
    "Map.center_object(roi, 7)\n",
    "Map.addLayer(roi, {}, 'roi')"
   ]
  },
  {
   "cell_type": "code",
   "execution_count": 4,
   "id": "e3798397-feb8-4862-a5c4-e46435945da4",
   "metadata": {
    "tags": []
   },
   "outputs": [],
   "source": [
    "def daily_mask(img):\n",
    "    img = img.mask(img.gte(12))\n",
    "    return img\n",
    "\n",
    "def daily_where(img):\n",
    "    img = img.where(img.lt(12), 0)\n",
    "    return img\n",
    "\n",
    "def clip_img(img):\n",
    "    return img.clip(roi)"
   ]
  },
  {
   "cell_type": "markdown",
   "id": "0d0e0a89-0f45-457c-b499-7fe80d72f90f",
   "metadata": {},
   "source": [
    "### Pd12计算\n"
   ]
  },
  {
   "cell_type": "code",
   "execution_count": 5,
   "id": "d82857ff-f5a4-4843-8a14-d30df6ca6983",
   "metadata": {
    "tags": []
   },
   "outputs": [],
   "source": [
    "images = ee.ImageCollection('UCSB-CHG/CHIRPS/DAILY').filterDate('1985', '2022').map(clip_img)\n",
    "images_count = images.map(daily_mask).count()\n",
    "images_count = images_count.where(images_count.eq(0), 1)\n",
    "images_sum = images.map(daily_where).sum()\n",
    "\n",
    "Pd12 = images_sum.divide(images_count)\n",
    "Map.addLayer(Pd12, {'min': 0, 'max': 50}, 'Pd12')"
   ]
  },
  {
   "cell_type": "markdown",
   "id": "edcaaa6e-3010-498c-a9f9-607ad2774231",
   "metadata": {},
   "source": [
    "### Py12计算"
   ]
  },
  {
   "cell_type": "code",
   "execution_count": 6,
   "id": "b99d6bf2-1523-4ea5-8a10-39b51f76fbeb",
   "metadata": {
    "tags": []
   },
   "outputs": [],
   "source": [
    "year_images = []\n",
    "for year in range(1985, 2022):\n",
    "    images_year = ee.ImageCollection('UCSB-CHG/CHIRPS/DAILY').filterDate(f'{year}', f'{year+1}').map(clip_img)\n",
    "    images_sum_year = images.map(daily_where).sum()\n",
    "    year_images.append(images_sum_year)\n",
    "    \n",
    "Py12 = ee.ImageCollection(year_images).mean()\n",
    "# Map.addLayer(Py12, {'min': 0, 'max': 2000}, 'Py12')"
   ]
  },
  {
   "cell_type": "markdown",
   "id": "e593dd5e-efac-42d9-ab14-cdb7debfb72b",
   "metadata": {},
   "source": [
    "### α、β计算"
   ]
  },
  {
   "cell_type": "code",
   "execution_count": 7,
   "id": "448ef424-e555-42f5-a444-b716f9579a45",
   "metadata": {
    "tags": []
   },
   "outputs": [],
   "source": [
    "B = Py12.expression(\"0.8363 + 18.144 / Pd12 + 24.455 / Py12\", \n",
    "                    {'Pd12': Pd12, 'Py12': Py12})\n",
    "\n",
    "A = B.expression(\"21.586 * B ** -7.1891\", {'B': B})"
   ]
  },
  {
   "cell_type": "code",
   "execution_count": 8,
   "id": "0f6b545a-1677-43ea-8584-624e8e6fdf91",
   "metadata": {
    "tags": []
   },
   "outputs": [],
   "source": [
    "def calc_daily_r(img):\n",
    "    img = img.expression(\"img ** B\", {'img': img, 'B': B})\n",
    "    return img"
   ]
  },
  {
   "cell_type": "markdown",
   "id": "d3414198-fcc3-406b-a49f-0a52f9e0fc14",
   "metadata": {},
   "source": [
    "### 多年年平均降雨侵蚀力计算"
   ]
  },
  {
   "cell_type": "code",
   "execution_count": 9,
   "id": "3b84ed9b-69b3-4a21-8ebc-9293ab596fc8",
   "metadata": {
    "tags": []
   },
   "outputs": [],
   "source": [
    "Rs = []\n",
    "for year in range(1985, 2022):\n",
    "    prcp_year = ee.ImageCollection('UCSB-CHG/CHIRPS/DAILY').filterDate(f'{year}', f'{year+1}')\n",
    "    R_year = prcp_year.map(clip_img).map(daily_where).map(calc_daily_r).sum().multiply(A)\n",
    "    Rs.append(R_year)\n",
    "R = ee.ImageCollection(Rs).mean()\n",
    "# Map.addLayer(R, {'min': 0, 'max': 5000}, 'R')"
   ]
  },
  {
   "cell_type": "code",
   "execution_count": 10,
   "id": "31be4899-1bb3-4eb0-af4f-1dff2f6605fe",
   "metadata": {
    "tags": []
   },
   "outputs": [
    {
     "data": {
      "application/vnd.jupyter.widget-view+json": {
       "model_id": "ebc7d42e2b8a4c35b93d8f1f60860150",
       "version_major": 2,
       "version_minor": 0
      },
      "text/plain": [
       "R.tif: |                                                               | 0.00/487k (raw) [  0.0%] in 00:00 (et…"
      ]
     },
     "metadata": {},
     "output_type": "display_data"
    },
    {
     "name": "stderr",
     "output_type": "stream",
     "text": [
      "There is no STAC entry for: None\n"
     ]
    }
   ],
   "source": [
    "geemap.download_ee_image(R, 'R.tif', roi, 'epsg:3857', scale=4000)"
   ]
  },
  {
   "cell_type": "code",
   "execution_count": null,
   "id": "0a7973ba-641e-43a8-9cdd-f9ae1a95103f",
   "metadata": {},
   "outputs": [],
   "source": []
  },
  {
   "cell_type": "code",
   "execution_count": null,
   "id": "bdbe4d3c-73d4-4807-8515-bbfa527d4312",
   "metadata": {},
   "outputs": [],
   "source": []
  }
 ],
 "metadata": {
  "kernelspec": {
   "display_name": "Python 3 (ipykernel)",
   "language": "python",
   "name": "python3"
  },
  "language_info": {
   "codemirror_mode": {
    "name": "ipython",
    "version": 3
   },
   "file_extension": ".py",
   "mimetype": "text/x-python",
   "name": "python",
   "nbconvert_exporter": "python",
   "pygments_lexer": "ipython3",
   "version": "3.10.10"
  }
 },
 "nbformat": 4,
 "nbformat_minor": 5
}
