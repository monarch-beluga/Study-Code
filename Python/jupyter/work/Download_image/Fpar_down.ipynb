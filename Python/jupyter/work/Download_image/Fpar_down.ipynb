{
 "cells": [
  {
   "cell_type": "code",
   "execution_count": 1,
   "id": "7c4c1939",
   "metadata": {
    "ExecuteTime": {
     "end_time": "2023-02-06T07:33:47.166073Z",
     "start_time": "2023-02-06T07:33:37.170929Z"
    }
   },
   "outputs": [
    {
     "data": {
      "application/vnd.jupyter.widget-view+json": {
       "model_id": "325ca6f099cb4ed8bc0d3ae78cf92e10",
       "version_major": 2,
       "version_minor": 0
      },
      "text/plain": [
       "Map(center=[20, 0], controls=(WidgetControl(options=['position', 'transparent_bg'], widget=HBox(children=(Togg…"
      ]
     },
     "metadata": {},
     "output_type": "display_data"
    }
   ],
   "source": [
    "import ee\n",
    "import geemap\n",
    "\n",
    "Map = geemap.Map()\n",
    "Map"
   ]
  },
  {
   "cell_type": "code",
   "execution_count": 2,
   "id": "cc85cb2c",
   "metadata": {
    "ExecuteTime": {
     "end_time": "2023-02-06T07:33:47.182057Z",
     "start_time": "2023-02-06T07:33:47.167070Z"
    }
   },
   "outputs": [],
   "source": [
    "import os\n",
    "os.chdir(r'D:\\MCD_dow')"
   ]
  },
  {
   "cell_type": "code",
   "execution_count": 3,
   "id": "b15d4084",
   "metadata": {
    "ExecuteTime": {
     "end_time": "2023-02-06T07:33:49.975293Z",
     "start_time": "2023-02-06T07:33:47.183028Z"
    }
   },
   "outputs": [],
   "source": [
    "shp_file = r'roi.shp'\n",
    "shp = geemap.shp_to_ee(shp_file)\n",
    "\n",
    "Map.addLayer(shp, {}, 'shp')\n",
    "\n",
    "Map.center_object(shp, 3)\n",
    "roi = shp.geometry()"
   ]
  },
  {
   "cell_type": "code",
   "execution_count": 4,
   "id": "de973ace",
   "metadata": {
    "ExecuteTime": {
     "end_time": "2023-02-06T07:33:49.990359Z",
     "start_time": "2023-02-06T07:33:49.977171Z"
    }
   },
   "outputs": [],
   "source": [
    "start_time = 2018\n",
    "end_time = 2021\n",
    "day_sep = 8\n",
    "bands = ['Fpar']"
   ]
  },
  {
   "cell_type": "code",
   "execution_count": 5,
   "id": "feee93ed",
   "metadata": {
    "ExecuteTime": {
     "end_time": "2023-02-06T07:33:50.006288Z",
     "start_time": "2023-02-06T07:33:49.991328Z"
    }
   },
   "outputs": [],
   "source": [
    "Albers_project_img = ee.Image('users/2431566134liumonarch/WGS_1984_Albers_project')\n",
    "\n",
    "crs = Albers_project_img.projection()"
   ]
  },
  {
   "cell_type": "code",
   "execution_count": 6,
   "id": "16b743e3",
   "metadata": {
    "ExecuteTime": {
     "end_time": "2023-02-06T07:33:50.037205Z",
     "start_time": "2023-02-06T07:33:50.008283Z"
    }
   },
   "outputs": [],
   "source": [
    "from Monarch.clip_dow_merge import *"
   ]
  },
  {
   "cell_type": "code",
   "execution_count": 7,
   "id": "fc73810d",
   "metadata": {
    "ExecuteTime": {
     "end_time": "2023-02-06T07:53:09.564559Z",
     "start_time": "2023-02-06T07:34:43.498918Z"
    },
    "scrolled": true
   },
   "outputs": [
    {
     "data": {
      "application/vnd.jupyter.widget-view+json": {
       "model_id": "30319dad8f794c47bb9dbd82786f29c2",
       "version_major": 2,
       "version_minor": 0
      },
      "text/plain": [
       "Fpar_2020089.tif: |                                                   | 0.00/91.9M (raw) [  0.0%] in 00:00 (et…"
      ]
     },
     "metadata": {},
     "output_type": "display_data"
    },
    {
     "name": "stderr",
     "output_type": "stream",
     "text": [
      "There is no STAC entry for: None\n"
     ]
    },
    {
     "data": {
      "application/vnd.jupyter.widget-view+json": {
       "model_id": "b9d50fa20b5b496cb9f9f2c161b37d8c",
       "version_major": 2,
       "version_minor": 0
      },
      "text/plain": [
       "Fpar_2020097.tif: |                                                   | 0.00/91.9M (raw) [  0.0%] in 00:00 (et…"
      ]
     },
     "metadata": {},
     "output_type": "display_data"
    },
    {
     "data": {
      "application/vnd.jupyter.widget-view+json": {
       "model_id": "af02d6b0aeb24d4e9a502d5ca9f0fffd",
       "version_major": 2,
       "version_minor": 0
      },
      "text/plain": [
       "Fpar_2020105.tif: |                                                   | 0.00/91.9M (raw) [  0.0%] in 00:00 (et…"
      ]
     },
     "metadata": {},
     "output_type": "display_data"
    },
    {
     "data": {
      "application/vnd.jupyter.widget-view+json": {
       "model_id": "1dc18e16b6b94439b2c1237242895baf",
       "version_major": 2,
       "version_minor": 0
      },
      "text/plain": [
       "Fpar_2020113.tif: |                                                   | 0.00/91.9M (raw) [  0.0%] in 00:00 (et…"
      ]
     },
     "metadata": {},
     "output_type": "display_data"
    },
    {
     "data": {
      "application/vnd.jupyter.widget-view+json": {
       "model_id": "d0a027d1056d4a59b1de8c6bf6909ee9",
       "version_major": 2,
       "version_minor": 0
      },
      "text/plain": [
       "Fpar_2020121.tif: |                                                   | 0.00/91.9M (raw) [  0.0%] in 00:00 (et…"
      ]
     },
     "metadata": {},
     "output_type": "display_data"
    },
    {
     "data": {
      "application/vnd.jupyter.widget-view+json": {
       "model_id": "85285e3c32ad48f7bbeb83499915e075",
       "version_major": 2,
       "version_minor": 0
      },
      "text/plain": [
       "Fpar_2020129.tif: |                                                   | 0.00/91.9M (raw) [  0.0%] in 00:00 (et…"
      ]
     },
     "metadata": {},
     "output_type": "display_data"
    },
    {
     "data": {
      "application/vnd.jupyter.widget-view+json": {
       "model_id": "9c0da6de4ea9495f9dced5f3bdfaa56e",
       "version_major": 2,
       "version_minor": 0
      },
      "text/plain": [
       "Fpar_2020137.tif: |                                                   | 0.00/91.9M (raw) [  0.0%] in 00:00 (et…"
      ]
     },
     "metadata": {},
     "output_type": "display_data"
    },
    {
     "data": {
      "application/vnd.jupyter.widget-view+json": {
       "model_id": "3f7daf537e0846a48882c64b622d8cf8",
       "version_major": 2,
       "version_minor": 0
      },
      "text/plain": [
       "Fpar_2020145.tif: |                                                   | 0.00/91.9M (raw) [  0.0%] in 00:00 (et…"
      ]
     },
     "metadata": {},
     "output_type": "display_data"
    },
    {
     "data": {
      "application/vnd.jupyter.widget-view+json": {
       "model_id": "dc1de7973f574b0b8abd14f4641d3752",
       "version_major": 2,
       "version_minor": 0
      },
      "text/plain": [
       "Fpar_2020153.tif: |                                                   | 0.00/91.9M (raw) [  0.0%] in 00:00 (et…"
      ]
     },
     "metadata": {},
     "output_type": "display_data"
    },
    {
     "data": {
      "application/vnd.jupyter.widget-view+json": {
       "model_id": "4f629941d4824219a8f3f292272f4f86",
       "version_major": 2,
       "version_minor": 0
      },
      "text/plain": [
       "Fpar_2020161.tif: |                                                   | 0.00/91.9M (raw) [  0.0%] in 00:00 (et…"
      ]
     },
     "metadata": {},
     "output_type": "display_data"
    },
    {
     "data": {
      "application/vnd.jupyter.widget-view+json": {
       "model_id": "ac14bb0923f641ad83832438a664a4ff",
       "version_major": 2,
       "version_minor": 0
      },
      "text/plain": [
       "Fpar_2020169.tif: |                                                   | 0.00/91.9M (raw) [  0.0%] in 00:00 (et…"
      ]
     },
     "metadata": {},
     "output_type": "display_data"
    },
    {
     "data": {
      "application/vnd.jupyter.widget-view+json": {
       "model_id": "206db22e4a1e4c10be0816f94862fb52",
       "version_major": 2,
       "version_minor": 0
      },
      "text/plain": [
       "Fpar_2020177.tif: |                                                   | 0.00/91.9M (raw) [  0.0%] in 00:00 (et…"
      ]
     },
     "metadata": {},
     "output_type": "display_data"
    },
    {
     "data": {
      "application/vnd.jupyter.widget-view+json": {
       "model_id": "64071ee55c5f4828bb2066ceb3fbae22",
       "version_major": 2,
       "version_minor": 0
      },
      "text/plain": [
       "Fpar_2020185.tif: |                                                   | 0.00/91.9M (raw) [  0.0%] in 00:00 (et…"
      ]
     },
     "metadata": {},
     "output_type": "display_data"
    },
    {
     "data": {
      "application/vnd.jupyter.widget-view+json": {
       "model_id": "2dc2486f10f44dc9adb4be428116e604",
       "version_major": 2,
       "version_minor": 0
      },
      "text/plain": [
       "Fpar_2020193.tif: |                                                   | 0.00/91.9M (raw) [  0.0%] in 00:00 (et…"
      ]
     },
     "metadata": {},
     "output_type": "display_data"
    },
    {
     "data": {
      "application/vnd.jupyter.widget-view+json": {
       "model_id": "49fa6832a39440539b337fe66da98813",
       "version_major": 2,
       "version_minor": 0
      },
      "text/plain": [
       "Fpar_2020201.tif: |                                                   | 0.00/91.9M (raw) [  0.0%] in 00:00 (et…"
      ]
     },
     "metadata": {},
     "output_type": "display_data"
    },
    {
     "data": {
      "application/vnd.jupyter.widget-view+json": {
       "model_id": "b6dfe755d63c453885a5ff1a425e21ab",
       "version_major": 2,
       "version_minor": 0
      },
      "text/plain": [
       "Fpar_2020209.tif: |                                                   | 0.00/91.9M (raw) [  0.0%] in 00:00 (et…"
      ]
     },
     "metadata": {},
     "output_type": "display_data"
    },
    {
     "data": {
      "application/vnd.jupyter.widget-view+json": {
       "model_id": "b122374034a1490f8ce3653b0d61f69d",
       "version_major": 2,
       "version_minor": 0
      },
      "text/plain": [
       "Fpar_2020217.tif: |                                                   | 0.00/91.9M (raw) [  0.0%] in 00:00 (et…"
      ]
     },
     "metadata": {},
     "output_type": "display_data"
    },
    {
     "data": {
      "application/vnd.jupyter.widget-view+json": {
       "model_id": "5638f2a2bbac4ad5a2839f3c1579557f",
       "version_major": 2,
       "version_minor": 0
      },
      "text/plain": [
       "Fpar_2020225.tif: |                                                   | 0.00/91.9M (raw) [  0.0%] in 00:00 (et…"
      ]
     },
     "metadata": {},
     "output_type": "display_data"
    },
    {
     "data": {
      "application/vnd.jupyter.widget-view+json": {
       "model_id": "ce30611560604edcb76a65f9971968aa",
       "version_major": 2,
       "version_minor": 0
      },
      "text/plain": [
       "Fpar_2020233.tif: |                                                   | 0.00/91.9M (raw) [  0.0%] in 00:00 (et…"
      ]
     },
     "metadata": {},
     "output_type": "display_data"
    },
    {
     "data": {
      "application/vnd.jupyter.widget-view+json": {
       "model_id": "c5804a3c382745a8843ed2b0a4d666b7",
       "version_major": 2,
       "version_minor": 0
      },
      "text/plain": [
       "Fpar_2020241.tif: |                                                   | 0.00/91.9M (raw) [  0.0%] in 00:00 (et…"
      ]
     },
     "metadata": {},
     "output_type": "display_data"
    },
    {
     "data": {
      "application/vnd.jupyter.widget-view+json": {
       "model_id": "8106adfc82b54960b75fd046faac382c",
       "version_major": 2,
       "version_minor": 0
      },
      "text/plain": [
       "Fpar_2020249.tif: |                                                   | 0.00/91.9M (raw) [  0.0%] in 00:00 (et…"
      ]
     },
     "metadata": {},
     "output_type": "display_data"
    },
    {
     "data": {
      "application/vnd.jupyter.widget-view+json": {
       "model_id": "4ab286cf7f434967af4bc8b8e73d37e7",
       "version_major": 2,
       "version_minor": 0
      },
      "text/plain": [
       "Fpar_2020257.tif: |                                                   | 0.00/91.9M (raw) [  0.0%] in 00:00 (et…"
      ]
     },
     "metadata": {},
     "output_type": "display_data"
    },
    {
     "data": {
      "application/vnd.jupyter.widget-view+json": {
       "model_id": "b3cc566aaff343eda1a6ef622932aab6",
       "version_major": 2,
       "version_minor": 0
      },
      "text/plain": [
       "Fpar_2020265.tif: |                                                   | 0.00/91.9M (raw) [  0.0%] in 00:00 (et…"
      ]
     },
     "metadata": {},
     "output_type": "display_data"
    },
    {
     "data": {
      "application/vnd.jupyter.widget-view+json": {
       "model_id": "c9e43b6fae93442e96caa88e4b7d28fb",
       "version_major": 2,
       "version_minor": 0
      },
      "text/plain": [
       "Fpar_2020273.tif: |                                                   | 0.00/91.9M (raw) [  0.0%] in 00:00 (et…"
      ]
     },
     "metadata": {},
     "output_type": "display_data"
    },
    {
     "data": {
      "application/vnd.jupyter.widget-view+json": {
       "model_id": "4efee52f0ab744e6bf04ccce1a08c5da",
       "version_major": 2,
       "version_minor": 0
      },
      "text/plain": [
       "Fpar_2020281.tif: |                                                   | 0.00/91.9M (raw) [  0.0%] in 00:00 (et…"
      ]
     },
     "metadata": {},
     "output_type": "display_data"
    },
    {
     "data": {
      "application/vnd.jupyter.widget-view+json": {
       "model_id": "e10a76b3b75e4e4e97d968f6c8be6b3e",
       "version_major": 2,
       "version_minor": 0
      },
      "text/plain": [
       "Fpar_2020289.tif: |                                                   | 0.00/91.9M (raw) [  0.0%] in 00:00 (et…"
      ]
     },
     "metadata": {},
     "output_type": "display_data"
    },
    {
     "data": {
      "application/vnd.jupyter.widget-view+json": {
       "model_id": "03b20a7d7322405d8a4037e8e25f70d6",
       "version_major": 2,
       "version_minor": 0
      },
      "text/plain": [
       "Fpar_2020297.tif: |                                                   | 0.00/91.9M (raw) [  0.0%] in 00:00 (et…"
      ]
     },
     "metadata": {},
     "output_type": "display_data"
    },
    {
     "data": {
      "application/vnd.jupyter.widget-view+json": {
       "model_id": "dbb6dc6c373f4153a026507e317819fc",
       "version_major": 2,
       "version_minor": 0
      },
      "text/plain": [
       "Fpar_2020305.tif: |                                                   | 0.00/91.9M (raw) [  0.0%] in 00:00 (et…"
      ]
     },
     "metadata": {},
     "output_type": "display_data"
    },
    {
     "data": {
      "application/vnd.jupyter.widget-view+json": {
       "model_id": "c972bb398cd34b6c8f14148297307847",
       "version_major": 2,
       "version_minor": 0
      },
      "text/plain": [
       "Fpar_2020313.tif: |                                                   | 0.00/91.9M (raw) [  0.0%] in 00:00 (et…"
      ]
     },
     "metadata": {},
     "output_type": "display_data"
    },
    {
     "data": {
      "application/vnd.jupyter.widget-view+json": {
       "model_id": "1701307aca4d43a48ebac9f6cfc084f7",
       "version_major": 2,
       "version_minor": 0
      },
      "text/plain": [
       "Fpar_2020321.tif: |                                                   | 0.00/91.9M (raw) [  0.0%] in 00:00 (et…"
      ]
     },
     "metadata": {},
     "output_type": "display_data"
    },
    {
     "data": {
      "application/vnd.jupyter.widget-view+json": {
       "model_id": "60042aa516bd4c0d8917396bb07e322e",
       "version_major": 2,
       "version_minor": 0
      },
      "text/plain": [
       "Fpar_2020329.tif: |                                                   | 0.00/91.9M (raw) [  0.0%] in 00:00 (et…"
      ]
     },
     "metadata": {},
     "output_type": "display_data"
    },
    {
     "data": {
      "application/vnd.jupyter.widget-view+json": {
       "model_id": "abb513ac485b4b8e80fd3e3325ac9d08",
       "version_major": 2,
       "version_minor": 0
      },
      "text/plain": [
       "Fpar_2020337.tif: |                                                   | 0.00/91.9M (raw) [  0.0%] in 00:00 (et…"
      ]
     },
     "metadata": {},
     "output_type": "display_data"
    },
    {
     "data": {
      "application/vnd.jupyter.widget-view+json": {
       "model_id": "67d9704a7164415fa776f1bb5a46c7a6",
       "version_major": 2,
       "version_minor": 0
      },
      "text/plain": [
       "Fpar_2020345.tif: |                                                   | 0.00/91.9M (raw) [  0.0%] in 00:00 (et…"
      ]
     },
     "metadata": {},
     "output_type": "display_data"
    },
    {
     "data": {
      "application/vnd.jupyter.widget-view+json": {
       "model_id": "3b44a67c912342b0a527f5989d0c9ecf",
       "version_major": 2,
       "version_minor": 0
      },
      "text/plain": [
       "Fpar_2020353.tif: |                                                   | 0.00/91.9M (raw) [  0.0%] in 00:00 (et…"
      ]
     },
     "metadata": {},
     "output_type": "display_data"
    },
    {
     "data": {
      "application/vnd.jupyter.widget-view+json": {
       "model_id": "6d2c11eab775457eb38da7d744f44389",
       "version_major": 2,
       "version_minor": 0
      },
      "text/plain": [
       "Fpar_2020361.tif: |                                                   | 0.00/91.9M (raw) [  0.0%] in 00:00 (et…"
      ]
     },
     "metadata": {},
     "output_type": "display_data"
    }
   ],
   "source": [
    "var = 'Fpar'\n",
    "if not os.path.exists(var):\n",
    "    os.mkdir(var)\n",
    "    \n",
    "for year in range(start_time, end_time):\n",
    "    if (year%4 == 0 and year%400!=0) or (year%400==0):\n",
    "        days = 366\n",
    "    else:\n",
    "        days = 365\n",
    "    images_year = ee.ImageCollection(\"MODIS/061/MCD15A3H\")\\\n",
    "                .filterDate(f'{year}', f'{year+1}').select(bands[0])\n",
    "    for day in range(0, days, day_sep):\n",
    "        image = images_year.filter(ee.Filter.calendarRange(day, day+day_sep, 'day_of_year')).mean().multiply(0.01)\n",
    "        outfile = f'{var}/{var}_{year}{day+1:03d}.tif'\n",
    "        while not os.path.exists(outfile):\n",
    "            try:\n",
    "                geemap.download_ee_image(image, outfile, region=roi, crs=crs,\n",
    "                                     scale=1000, dtype='float32')\n",
    "            except:\n",
    "                os.remove(outfile)\n",
    "                continue\n",
    "#         break\n",
    "#     break"
   ]
  },
  {
   "cell_type": "code",
   "execution_count": null,
   "id": "42903a69",
   "metadata": {
    "ExecuteTime": {
     "end_time": "2023-02-03T02:42:23.820795Z",
     "start_time": "2023-02-03T02:42:23.806833Z"
    }
   },
   "outputs": [],
   "source": [
    "count = images.size()\n",
    "images_list = images.toList(count)"
   ]
  },
  {
   "cell_type": "code",
   "execution_count": null,
   "id": "24953d0b",
   "metadata": {},
   "outputs": [],
   "source": []
  },
  {
   "cell_type": "code",
   "execution_count": null,
   "id": "59787fd7",
   "metadata": {
    "ExecuteTime": {
     "end_time": "2023-02-03T02:42:23.835755Z",
     "start_time": "2023-02-03T02:42:23.822790Z"
    }
   },
   "outputs": [],
   "source": [
    "def merge_img(i):\n",
    "    i = ee.Number(i)\n",
    "    img1 = ee.Image(images_list.get(i))\n",
    "    img2 = ee.Image(images_list.get(i.add(1)))\n",
    "    img = img1.add(img2).multiply(0.01).multiply(0.5)\n",
    "    img = img.reproject(**{'crs': 'epsg:4326', 'scale': 500}).clip(roi)\n",
    "    img = img.set('system:id', img1.get('system:id'))\n",
    "    return ee.Image(img)"
   ]
  },
  {
   "cell_type": "code",
   "execution_count": null,
   "id": "8305624e",
   "metadata": {
    "ExecuteTime": {
     "end_time": "2023-02-03T02:42:24.320306Z",
     "start_time": "2023-02-03T02:42:23.837750Z"
    }
   },
   "outputs": [],
   "source": [
    "images_merge_list = ee.List.sequence(0, count.subtract(1), 2).map(merge_img)\n",
    "image_count = images_merge_list.size().getInfo()"
   ]
  },
  {
   "cell_type": "code",
   "execution_count": null,
   "id": "b16c4c68",
   "metadata": {
    "ExecuteTime": {
     "end_time": "2023-02-03T02:42:26.844530Z",
     "start_time": "2023-02-03T02:42:24.321206Z"
    }
   },
   "outputs": [],
   "source": [
    "outfiles = ee.ImageCollection(images_merge_list).aggregate_array('system:id').getInfo()"
   ]
  },
  {
   "cell_type": "code",
   "execution_count": null,
   "id": "2ac0e166",
   "metadata": {
    "ExecuteTime": {
     "end_time": "2023-02-03T02:42:26.890692Z",
     "start_time": "2023-02-03T02:42:26.856248Z"
    }
   },
   "outputs": [],
   "source": [
    "from Monarch.clip_dow_merge import *"
   ]
  },
  {
   "cell_type": "code",
   "execution_count": null,
   "id": "c058b0dc",
   "metadata": {
    "ExecuteTime": {
     "end_time": "2023-02-03T02:42:26.967941Z",
     "start_time": "2023-02-03T02:42:26.950594Z"
    }
   },
   "outputs": [],
   "source": [
    "var = 'Fpar'"
   ]
  },
  {
   "cell_type": "code",
   "execution_count": null,
   "id": "51ab744f",
   "metadata": {
    "ExecuteTime": {
     "end_time": "2023-02-03T02:42:28.993921Z",
     "start_time": "2023-02-03T02:42:28.989903Z"
    }
   },
   "outputs": [],
   "source": [
    "if not os.path.exists(f'{var}'):\n",
    "    os.mkdir(f'{var}')"
   ]
  },
  {
   "cell_type": "code",
   "execution_count": null,
   "id": "ef6a7502",
   "metadata": {
    "ExecuteTime": {
     "end_time": "2023-02-03T02:46:12.451369Z",
     "start_time": "2023-02-03T02:45:38.272521Z"
    }
   },
   "outputs": [],
   "source": [
    "img = ee.Image(images_merge_list.get(0))\n",
    "outfile = f\"{var}_{outfiles[0].split('/')[-1]}_t\"\n",
    "geemap.download_ee_image(img, outfile+'.tif', region=roi, crs='epsg:4326',\n",
    "                         scale=1000, dtype='float32')"
   ]
  },
  {
   "cell_type": "markdown",
   "id": "ab9243f2",
   "metadata": {},
   "source": [
    "#### 测试一张影像下载"
   ]
  },
  {
   "cell_type": "code",
   "execution_count": null,
   "id": "31d3bdb7",
   "metadata": {
    "ExecuteTime": {
     "end_time": "2023-02-03T02:45:17.097453Z",
     "start_time": "2023-02-03T02:42:57.816508Z"
    },
    "scrolled": true
   },
   "outputs": [],
   "source": [
    "img = ee.Image(images_merge_list.get(0))\n",
    "outfile = f\"{var}_{outfiles[0].split('/')[-1]}\"\n",
    "while not os.path.exists(outfile + '.tif'):\n",
    "    try:\n",
    "        clip_dow_merge(roi, img, outfile, 1000, 4)\n",
    "    except:\n",
    "        continue"
   ]
  },
  {
   "cell_type": "markdown",
   "id": "d5ff6d01",
   "metadata": {},
   "source": [
    "#### 下载所有影像"
   ]
  },
  {
   "cell_type": "code",
   "execution_count": null,
   "id": "2f1e1f2f",
   "metadata": {
    "ExecuteTime": {
     "end_time": "2023-02-01T13:07:52.534305Z",
     "start_time": "2023-02-01T11:11:18.713930Z"
    },
    "scrolled": true
   },
   "outputs": [],
   "source": [
    "for i in range(image_count):\n",
    "    img = ee.Image(images_merge_list.get(i))\n",
    "    outfile = f\"{var}/{var}_{outfiles[i].split('/')[-1]}\"\n",
    "    while not os.path.exists(outfile + '.tif'):\n",
    "        try:\n",
    "            clip_dow_merge(roi, img, outfile, 1000, 4)\n",
    "        except:\n",
    "            continue"
   ]
  },
  {
   "cell_type": "code",
   "execution_count": null,
   "id": "42c57994",
   "metadata": {},
   "outputs": [],
   "source": []
  },
  {
   "cell_type": "code",
   "execution_count": null,
   "id": "c471dae4",
   "metadata": {
    "ExecuteTime": {
     "end_time": "2023-02-01T05:09:54.085118Z",
     "start_time": "2023-02-01T05:07:09.752390Z"
    },
    "scrolled": true
   },
   "outputs": [],
   "source": [
    "image_count = images_merge_list.size().getInfo()\n",
    "for i in range(6, image_count):\n",
    "    img = ee.Image(images_merge_list.get(i))\n",
    "    \n",
    "    outfile = f\"Fpar_{img.get('system:id').getInfo().split('/')[-1]}\"\n",
    "    geemap.ee_export_image_to_drive(img, outfile, folder='Fpar', scale=1000, crs='epsg:4326', \n",
    "                                    region=roi, maxPixels=1e10)\n",
    "    print(i, outfile, '导出成功！！！')"
   ]
  },
  {
   "cell_type": "code",
   "execution_count": null,
   "id": "1859dd67",
   "metadata": {
    "ExecuteTime": {
     "end_time": "2023-02-02T12:10:55.389725Z",
     "start_time": "2023-02-02T12:10:55.377729Z"
    }
   },
   "outputs": [],
   "source": [
    "import geedim as gd"
   ]
  }
 ],
 "metadata": {
  "kernelspec": {
   "display_name": "Python 3 (ipykernel)",
   "language": "python",
   "name": "python3"
  },
  "language_info": {
   "codemirror_mode": {
    "name": "ipython",
    "version": 3
   },
   "file_extension": ".py",
   "mimetype": "text/x-python",
   "name": "python",
   "nbconvert_exporter": "python",
   "pygments_lexer": "ipython3",
   "version": "3.10.10"
  }
 },
 "nbformat": 4,
 "nbformat_minor": 5
}
