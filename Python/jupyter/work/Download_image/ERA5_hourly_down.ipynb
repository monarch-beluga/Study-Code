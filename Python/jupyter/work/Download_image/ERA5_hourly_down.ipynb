{
 "cells": [
  {
   "cell_type": "code",
   "execution_count": null,
   "id": "0795c70b",
   "metadata": {
    "ExecuteTime": {
     "end_time": "2023-02-08T03:34:48.316859Z",
     "start_time": "2023-02-08T03:34:37.541102Z"
    }
   },
   "outputs": [],
   "source": [
    "import ee\n",
    "import geemap\n",
    "\n",
    "Map = geemap.Map()\n",
    "Map"
   ]
  },
  {
   "cell_type": "code",
   "execution_count": null,
   "id": "ad0eeb71",
   "metadata": {
    "ExecuteTime": {
     "end_time": "2023-02-08T03:34:48.332817Z",
     "start_time": "2023-02-08T03:34:48.317887Z"
    }
   },
   "outputs": [],
   "source": [
    "import os\n",
    "os.chdir(r'D:\\Work\\ERA5')"
   ]
  },
  {
   "cell_type": "code",
   "execution_count": null,
   "id": "805a93df",
   "metadata": {
    "ExecuteTime": {
     "end_time": "2023-02-08T03:34:53.167790Z",
     "start_time": "2023-02-08T03:34:53.153827Z"
    }
   },
   "outputs": [],
   "source": [
    "start_time = 2000\n",
    "end_time = 2010\n",
    "crs_transform = [0.1, 0, -180.05, 0, -0.1, 90.05]\n",
    "crs = 'epsg:4326'\n",
    "shape = [1801, 3601]\n",
    "bands = ['temperature_2m',\n",
    "        'total_precipitation']\n",
    "types = ['TAVG', 'PRCP']"
   ]
  },
  {
   "cell_type": "code",
   "execution_count": null,
   "id": "1d97f4e0-c99c-4004-b892-e88e950d7188",
   "metadata": {
    "tags": []
   },
   "outputs": [],
   "source": [
    "images = ee.ImageCollection(\"ECMWF/ERA5_LAND/HOURLY\")\\\n",
    "                .filterDate(f'{start_time}', f'{end_time}')"
   ]
  },
  {
   "cell_type": "code",
   "execution_count": null,
   "id": "a3d51dc3-96ae-4d36-b94c-2492bc6c8bca",
   "metadata": {
    "tags": []
   },
   "outputs": [],
   "source": [
    "images_id = images.aggregate_array('system:id').getInfo()"
   ]
  },
  {
   "cell_type": "code",
   "execution_count": null,
   "id": "c0aebd48-c910-45c8-85e3-19567c264487",
   "metadata": {
    "tags": []
   },
   "outputs": [],
   "source": [
    "for t in types:\n",
    "    if not os.path.exists(t):\n",
    "        os.mkdir(t)"
   ]
  },
  {
   "cell_type": "code",
   "execution_count": null,
   "id": "3c4442a4-b868-4439-aaeb-d68530ab86c1",
   "metadata": {
    "tags": []
   },
   "outputs": [],
   "source": [
    "for img_id in images_id:\n",
    "    # img_id = images_id[0]\n",
    "    image = ee.Image(img_id)\n",
    "    tavg = image.select(bands[0])\n",
    "    prcp = image.select(bands[1])\n",
    "    tavg_outfile = f\"{types[0]}/{types[0]}_{img_id.split('/')[-1]}.tif\"\n",
    "    geemap.download_ee_image(tavg, tavg_outfile, crs=crs, crs_transform=crs_transform, shape=shape)\n",
    "    prcp_outfile = f\"{types[1]}/{types[1]}_{img_id.split('/')[-1]}.tif\"\n",
    "    geemap.download_ee_image(prcp, prcp_outfile, crs=crs, crs_transform=crs_transform, shape=shape)\n",
    "    break"
   ]
  },
  {
   "cell_type": "markdown",
   "id": "a566d51d",
   "metadata": {
    "tags": []
   },
   "source": [
    "#### RHU 8day download"
   ]
  },
  {
   "cell_type": "code",
   "execution_count": null,
   "id": "eff36daa",
   "metadata": {
    "ExecuteTime": {
     "end_time": "2023-02-06T16:38:10.501212Z",
     "start_time": "2023-02-06T15:22:17.993092Z"
    },
    "scrolled": true
   },
   "outputs": [],
   "source": [
    "var = 'RHU'\n",
    "if not os.path.exists(var):\n",
    "    os.mkdir(var)\n",
    "    \n",
    "for year in range(start_time, end_time):\n",
    "    if (year%4 == 0 and year%400!=0) or (year%400==0):\n",
    "        days = 366\n",
    "    else:\n",
    "        days = 365\n",
    "    images_year = ee.ImageCollection(\"ECMWF/ERA5_LAND/HOURLY\")\\\n",
    "                .filterDate(f'{year}', f'{year+1}')\n",
    "    \n",
    "    imgs_day_to_year = []\n",
    "    for day in range(1, days+1):\n",
    "        images_day = images_year.filter(ee.Filter.calendarRange(day, day, 'day_of_year'))\n",
    "\n",
    "        tmax = images_day.select(bands[0]).max()\n",
    "        tmin = images_day.select(bands[0]).min()\n",
    "        tdew = images_day.select(bands[1]).mean()\n",
    "        img = ee.Image([tmax, tmin, tdew])\n",
    "        Ea = img.expression('0.6108 * exp(17.27 * b(2) / (237.3 + b(2)))')\n",
    "        Etmax = img.expression('0.6108 * exp(17.27 * b(0) / (237.3 + b(0)))')\n",
    "        Etmin = img.expression('0.6108 * exp(17.27 * b(1) / (237.3 + b(1)))')\n",
    "        Es = Etmax.add(Etmin).divide(2)\n",
    "        img_day = Ea.divide(Es).multiply(100)\n",
    "        \n",
    "        imgs_day_to_year.append(img_day)\n",
    "\n",
    "    for i in range(0, days, day_sep):\n",
    "        image = ee.ImageCollection(imgs_day_to_year[i:i+day_sep]).mean()\n",
    "        outfile = f'{var}/{var}_{year}{i+1:03d}.tif'\n",
    "        while not os.path.exists(outfile):\n",
    "            try:\n",
    "                download_image(image, outfile, region=roi, crs=crs,\n",
    "                                     scale=scale)\n",
    "            except:\n",
    "                continue"
   ]
  },
  {
   "cell_type": "markdown",
   "id": "7ebf9591",
   "metadata": {
    "tags": []
   },
   "source": [
    "#### SNR 8day download"
   ]
  },
  {
   "cell_type": "code",
   "execution_count": null,
   "id": "4a2aad49",
   "metadata": {
    "ExecuteTime": {
     "end_time": "2023-02-07T09:40:59.936046Z",
     "start_time": "2023-02-07T08:53:44.758103Z"
    },
    "scrolled": true
   },
   "outputs": [],
   "source": [
    "var = 'SNR'\n",
    "if not os.path.exists(var):\n",
    "    os.mkdir(var)\n",
    "    \n",
    "for year in range(start_time, end_time):\n",
    "    if (year%4 == 0 and year%400!=0) or (year%400==0):\n",
    "        days = 366\n",
    "    else:\n",
    "        days = 365\n",
    "    images_year = ee.ImageCollection(\"ECMWF/ERA5_LAND/HOURLY\")\\\n",
    "                .filterDate(f'{year}', f'{year+1}')\n",
    "    \n",
    "    imgs_day_to_year = []\n",
    "    for day in range(days):\n",
    "        images_day = images_year.filter(ee.Filter.calendarRange(day, day+1, 'day_of_year'))\n",
    "\n",
    "        sntr = images_day.select(bands[3]).sum()\n",
    "        snsr = images_day.select(bands[4]).sum()\n",
    "        img_day = sntr.add(snsr)\n",
    "        \n",
    "        imgs_day_to_year.append(img_day)\n",
    "\n",
    "    for i in range(0, days, day_sep):\n",
    "        image = ee.ImageCollection(imgs_day_to_year[i:i+day_sep]).mean().divide(1000000)\n",
    "        outfile = f'{var}/{var}_{year}{i+1:03d}.tif'\n",
    "        while not os.path.exists(outfile):\n",
    "            try:\n",
    "                download_image(image, outfile, region=roi, crs=crs,\n",
    "                                     scale=scale)\n",
    "            except:\n",
    "                continue\n"
   ]
  },
  {
   "cell_type": "markdown",
   "id": "9d00c0bc",
   "metadata": {},
   "source": [
    "#### SSRD 8day download"
   ]
  },
  {
   "cell_type": "code",
   "execution_count": null,
   "id": "7cbcac98",
   "metadata": {
    "ExecuteTime": {
     "end_time": "2023-02-07T14:06:19.365997Z",
     "start_time": "2023-02-07T13:00:24.720368Z"
    },
    "scrolled": true
   },
   "outputs": [],
   "source": [
    "var = 'SSRD'\n",
    "if not os.path.exists(var):\n",
    "    os.mkdir(var)\n",
    "    \n",
    "for year in range(start_time, end_time):\n",
    "    if (year%4 == 0 and year%400!=0) or (year%400==0):\n",
    "        days = 366\n",
    "    else:\n",
    "        days = 365\n",
    "    images_year = ee.ImageCollection(\"ECMWF/ERA5_LAND/HOURLY\")\\\n",
    "                .filterDate(f'{year}', f'{year+1}')\n",
    "    \n",
    "    imgs_day_to_year = []\n",
    "    for day in range(days):\n",
    "        images_day = images_year.filter(ee.Filter.calendarRange(day, day+1, 'day_of_year'))\n",
    "\n",
    "        img_day = images_day.select(bands[5]).sum()\n",
    "        \n",
    "        imgs_day_to_year.append(img_day)\n",
    "\n",
    "    for i in range(0, days, day_sep):\n",
    "        image = ee.ImageCollection(imgs_day_to_year[i:i+day_sep]).mean().divide(1000000)\n",
    "        outfile = f'{var}/{var}_{year}{i+1:03d}.tif'\n",
    "        while not os.path.exists(outfile):\n",
    "            try:\n",
    "                download_image(image, outfile, region=roi, crs=crs,\n",
    "                                     scale=scale)\n",
    "            except:\n",
    "                continue"
   ]
  },
  {
   "cell_type": "code",
   "execution_count": null,
   "id": "3d5a4917",
   "metadata": {},
   "outputs": [],
   "source": []
  }
 ],
 "metadata": {
  "kernelspec": {
   "display_name": "Python 3 (ipykernel)",
   "language": "python",
   "name": "python3"
  },
  "language_info": {
   "codemirror_mode": {
    "name": "ipython",
    "version": 3
   },
   "file_extension": ".py",
   "mimetype": "text/x-python",
   "name": "python",
   "nbconvert_exporter": "python",
   "pygments_lexer": "ipython3",
   "version": "3.10.9"
  }
 },
 "nbformat": 4,
 "nbformat_minor": 5
}
