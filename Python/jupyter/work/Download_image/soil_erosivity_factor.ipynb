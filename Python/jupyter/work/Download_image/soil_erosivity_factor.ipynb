{
 "cells": [
  {
   "cell_type": "markdown",
   "id": "45100408-bf9c-4730-af5f-27c4f41c04d2",
   "metadata": {
    "tags": []
   },
   "source": [
    "## 基于EPIC模型的土壤可蚀性因子计算"
   ]
  },
  {
   "cell_type": "code",
   "execution_count": null,
   "id": "e4e2ff78-aa8b-43a8-a93a-5716cfa5c093",
   "metadata": {
    "tags": []
   },
   "outputs": [],
   "source": [
    "import geemap\n",
    "import ee\n",
    "\n",
    "Map = geemap.Map()\n",
    "Map"
   ]
  },
  {
   "cell_type": "code",
   "execution_count": null,
   "id": "51e403ea-626d-4505-a547-224774a1255b",
   "metadata": {
    "tags": []
   },
   "outputs": [],
   "source": [
    "import os\n",
    "os.chdir(r'D:\\Work\\naqu')"
   ]
  },
  {
   "cell_type": "code",
   "execution_count": null,
   "id": "75338d25-dbf2-419b-b31c-d63ad4e7a4b2",
   "metadata": {
    "tags": []
   },
   "outputs": [],
   "source": [
    "shp = geemap.shp_to_ee('那曲市矢量/那曲市WGS_1984.shp')\n",
    "roi = shp.geometry()\n",
    "Map.center_object(roi, 7)\n",
    "Map.addLayer(roi, {}, 'roi')"
   ]
  },
  {
   "cell_type": "code",
   "execution_count": null,
   "id": "8dab5c1d-a508-4c72-9a46-5fc5101cfdc4",
   "metadata": {
    "tags": []
   },
   "outputs": [],
   "source": [
    "clay = ee.Image(\"OpenLandMap/SOL/SOL_CLAY-WFRACTION_USDA-3A1A1A_M/v02\").clip(roi).toArray().arrayReduce('mean', [0]).arrayGet([0])\n",
    "\n",
    "sand = ee.Image(\"OpenLandMap/SOL/SOL_SAND-WFRACTION_USDA-3A1A1A_M/v02\").clip(roi).toArray().arrayReduce('mean', [0]).arrayGet([0])\n",
    "\n",
    "silt = sand.expression(\"100 - sand - clay\", {'sand': sand, 'clay': clay})\n",
    "\n",
    "Map.addLayer(clay, {'min': 0, 'max': 100}, 'clay')\n",
    "Map.addLayer(sand, {'min': 0, 'max': 100}, 'sand')\n",
    "Map.addLayer(silt, {'min': 0, 'max': 100}, 'silt')"
   ]
  },
  {
   "cell_type": "code",
   "execution_count": null,
   "id": "ea1c5132-7eac-48cf-ba7d-14a190246d2f",
   "metadata": {
    "tags": []
   },
   "outputs": [],
   "source": [
    "orgC = ee.Image(\"OpenLandMap/SOL/SOL_ORGANIC-CARBON_USDA-6A1C_M/v02\").clip(roi).toArray().arrayReduce('mean', [0]).arrayGet([0]).multiply(0.02)\n",
    "Map.addLayer(orgC, {'min': 0, 'max': 2.4}, 'orgC')"
   ]
  },
  {
   "cell_type": "code",
   "execution_count": null,
   "id": "4e1ed207-d35a-4335-bbca-83a281a90f4e",
   "metadata": {
    "tags": []
   },
   "outputs": [],
   "source": [
    "Kepic = orgC.expression(\"(0.2 + 0.3 * exp(-0.0256 * sand * (1 - silt / 100))) * \" + \n",
    "                        \"(silt / (clay + silt)) ** 0.3 * \" + \n",
    "                        \"(1 - 0.25 * orgC / (orgC + exp(3.72 - 2.95 * orgC))) * \" + \n",
    "                        \"(1 - 0.7 * (1 - sand / 100)/((1 - sand / 100) + exp(-5.51 + 22.9 * (1 - sand / 100))))\", \n",
    "                        {\n",
    "                            'sand': sand,\n",
    "                            'clay': clay,\n",
    "                            'silt': silt,\n",
    "                            'orgC': orgC\n",
    "                        }\n",
    "                        )\n",
    "Map.addLayer(Kepic, {}, 'Kepic')"
   ]
  },
  {
   "cell_type": "code",
   "execution_count": null,
   "id": "8c2a1e55-424e-415b-bca3-6942ab0015ec",
   "metadata": {
    "tags": []
   },
   "outputs": [],
   "source": [
    "Map.addLayer(Kepic, {}, 'Kepic')"
   ]
  },
  {
   "cell_type": "code",
   "execution_count": null,
   "id": "2c5ec83f-6a5a-4817-ae27-10c70e846697",
   "metadata": {
    "tags": []
   },
   "outputs": [],
   "source": [
    "K = Kepic.expression(\"0.1317 * (-0.01383 + 0.51575 * Kepic)\", {'Kepic': Kepic})\n",
    "Map.addLayer(K, {'min': 0, 'max': 0.1}, 'K')"
   ]
  },
  {
   "cell_type": "code",
   "execution_count": null,
   "id": "a6a7eb5c-afa9-422d-a780-a98551b2ba5e",
   "metadata": {
    "tags": []
   },
   "outputs": [],
   "source": [
    "geemap.download_ee_image(K, 'K.tif', roi, 'epsg:3857', scale=250)"
   ]
  },
  {
   "cell_type": "code",
   "execution_count": null,
   "id": "6f833f57-d589-4fd8-a210-f16362d983b9",
   "metadata": {},
   "outputs": [],
   "source": []
  }
 ],
 "metadata": {
  "kernelspec": {
   "display_name": "Python 3 (ipykernel)",
   "language": "python",
   "name": "python3"
  },
  "language_info": {
   "codemirror_mode": {
    "name": "ipython",
    "version": 3
   },
   "file_extension": ".py",
   "mimetype": "text/x-python",
   "name": "python",
   "nbconvert_exporter": "python",
   "pygments_lexer": "ipython3",
   "version": "3.10.10"
  }
 },
 "nbformat": 4,
 "nbformat_minor": 5
}
