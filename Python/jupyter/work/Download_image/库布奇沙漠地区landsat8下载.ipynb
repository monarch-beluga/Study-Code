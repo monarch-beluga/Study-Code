{
 "cells": [
  {
   "cell_type": "code",
   "execution_count": 1,
   "id": "b739c842",
   "metadata": {},
   "outputs": [],
   "source": [
    "import pandas as pd\n",
    "import geemap\n",
    "import ee"
   ]
  },
  {
   "cell_type": "code",
   "execution_count": 2,
   "id": "542dabb8",
   "metadata": {},
   "outputs": [
    {
     "data": {
      "application/vnd.jupyter.widget-view+json": {
       "model_id": "947bf28429014a839b4f4f57ec5755f1",
       "version_major": 2,
       "version_minor": 0
      },
      "text/plain": [
       "Map(center=[29, 85], controls=(WidgetControl(options=['position'], widget=HBox(children=(ToggleButton(value=Fa…"
      ]
     },
     "metadata": {},
     "output_type": "display_data"
    }
   ],
   "source": [
    "Map = geemap.Map(center=(29, 85))\n",
    "Map"
   ]
  },
  {
   "cell_type": "code",
   "execution_count": 7,
   "id": "b7b6610d",
   "metadata": {},
   "outputs": [],
   "source": [
    "roi_f = geemap.shp_to_ee(r'E:/Data/temp/rec/roi.shp')\n",
    "Map.addLayer(roi_f, {}, 'roi')"
   ]
  },
  {
   "cell_type": "code",
   "execution_count": 8,
   "id": "09afbca4",
   "metadata": {},
   "outputs": [],
   "source": [
    "roi = roi_f.geometry()"
   ]
  },
  {
   "cell_type": "code",
   "execution_count": 37,
   "id": "7c6b058d",
   "metadata": {},
   "outputs": [],
   "source": [
    "images = ee.ImageCollection(\"LANDSAT/LT05/C01/T1_SR\")\\\n",
    "        .filterDate('1990', '1991')\\\n",
    "        .filterBounds(roi).sort(\"CLOUD_COVER\", False)"
   ]
  },
  {
   "cell_type": "code",
   "execution_count": null,
   "id": "6c476482",
   "metadata": {},
   "outputs": [],
   "source": [
    "def rmCloudByQA(image):\n",
    "    qa = image.select('QA60')\n",
    "    cloudBitMask = 1 << 10\n",
    "    cirrusBitMask = 1 << 11\n",
    "    mask = qa.bitwiseAnd(cloudBitMask).eq(0) \\\n",
    "               .And(qa.bitwiseAnd(cirrusBitMask).eq(0))\n",
    "    return image.updateMask(mask)"
   ]
  },
  {
   "cell_type": "code",
   "execution_count": 41,
   "id": "53df9955",
   "metadata": {},
   "outputs": [],
   "source": [
    "def bitwiseExtract(value, fromBit, toBit=None):\n",
    "    if toBit == None:\n",
    "        toBit = fromBit\n",
    "    maskSize = ee.Number(1).add(toBit).subtract(fromBit)\n",
    "    mask = ee.Number(1).leftShift(maskSize).subtract(1)\n",
    "    return value.rightShift(fromBit).bitwiseAnd(mask)\n",
    "\n",
    "def cloudfree_landsat(img):\n",
    "    qa = img.select('pixel_qa')\n",
    "    cloudState = bitwiseExtract(qa, 5)\n",
    "    cloudShadowState = bitwiseExtract(qa, 3)\n",
    "    mask = cloudState.eq(0).And(cloudShadowState.eq(0))\n",
    "    return img.updateMask(mask)"
   ]
  },
  {
   "cell_type": "code",
   "execution_count": 42,
   "id": "5b6dd671",
   "metadata": {},
   "outputs": [],
   "source": [
    "cf_image = images.map(cloudfree_landsat)"
   ]
  },
  {
   "cell_type": "code",
   "execution_count": 49,
   "id": "f47bdae4",
   "metadata": {},
   "outputs": [],
   "source": [
    "image = cf_image.median().clip(roi)"
   ]
  },
  {
   "cell_type": "code",
   "execution_count": 50,
   "id": "c0e8565d",
   "metadata": {},
   "outputs": [],
   "source": [
    "# img = images.median().select(['B4', 'B3', 'B2']).clip(roi)\n",
    "Map.addLayer(image, {'bands':['B3', 'B2', 'B1'], 'max': 3000, 'min':0}, 'img_1')"
   ]
  },
  {
   "cell_type": "code",
   "execution_count": 51,
   "id": "f9db4fa4",
   "metadata": {},
   "outputs": [
    {
     "name": "stdout",
     "output_type": "stream",
     "text": [
      "Exporting 1990RGB ...\n"
     ]
    }
   ],
   "source": [
    "geemap.ee_export_image_to_drive(image.select(['B3', 'B2', 'B1']), description='1990RGB', \n",
    "                                scale=30, folder='Landsat')"
   ]
  },
  {
   "cell_type": "code",
   "execution_count": null,
   "id": "af2743c4",
   "metadata": {},
   "outputs": [],
   "source": [
    "NDVI = image.normalizedDifference(['B5', 'B4'])\n",
    "img = image.select(['B4', 'B3', 'B2'])"
   ]
  },
  {
   "cell_type": "code",
   "execution_count": null,
   "id": "349cc9ee",
   "metadata": {},
   "outputs": [],
   "source": [
    "geemap.ee_export_image_to_drive(NDVI, description='NDVI', \n",
    "                                scale=30, folder='Landsat8_xizhang')"
   ]
  },
  {
   "cell_type": "code",
   "execution_count": null,
   "id": "459e2af4",
   "metadata": {},
   "outputs": [],
   "source": [
    "a = \"\"\"\n",
    "function rmCloudByQA(image) { \n",
    "  var qa = image.select('QA60'); \n",
    "  var cloudBitMask = 1 << 10; \n",
    "  var cirrusBitMask = 1 << 11; \n",
    "  var mask = qa.bitwiseAnd(cloudBitMask).eq(0) \n",
    "               .and(qa.bitwiseAnd(cirrusBitMask).eq(0)); \n",
    "  return image.updateMask(mask); \n",
    "} \n",
    "\"\"\""
   ]
  },
  {
   "cell_type": "code",
   "execution_count": null,
   "id": "e8cfaa58",
   "metadata": {},
   "outputs": [],
   "source": [
    "geemap.js_snippet_to_py(a)"
   ]
  },
  {
   "cell_type": "code",
   "execution_count": 53,
   "id": "66b1ee13",
   "metadata": {},
   "outputs": [
    {
     "data": {
      "text/plain": [
       "[0, 1, 2]"
      ]
     },
     "execution_count": 53,
     "metadata": {},
     "output_type": "execute_result"
    }
   ],
   "source": [
    "ee.List.sequence(0, 2).getInfo()"
   ]
  },
  {
   "cell_type": "code",
   "execution_count": null,
   "id": "d471de22",
   "metadata": {},
   "outputs": [],
   "source": []
  }
 ],
 "metadata": {
  "kernelspec": {
   "display_name": "Python 3 (ipykernel)",
   "language": "python",
   "name": "python3"
  },
  "language_info": {
   "codemirror_mode": {
    "name": "ipython",
    "version": 3
   },
   "file_extension": ".py",
   "mimetype": "text/x-python",
   "name": "python",
   "nbconvert_exporter": "python",
   "pygments_lexer": "ipython3",
   "version": "3.10.9"
  }
 },
 "nbformat": 4,
 "nbformat_minor": 5
}
