{
 "cells": [
  {
   "cell_type": "code",
   "execution_count": 1,
   "id": "0d6ecfc3",
   "metadata": {
    "ExecuteTime": {
     "end_time": "2023-01-05T03:12:23.860027Z",
     "start_time": "2023-01-05T03:12:15.491995Z"
    },
    "tags": []
   },
   "outputs": [
    {
     "data": {
      "application/vnd.jupyter.widget-view+json": {
       "model_id": "af724e298a8e414dbcb3a4edd4762557",
       "version_major": 2,
       "version_minor": 0
      },
      "text/plain": [
       "Map(center=[0, 0], controls=(WidgetControl(options=['position', 'transparent_bg'], widget=SearchDataGUI(childr…"
      ]
     },
     "execution_count": 1,
     "metadata": {},
     "output_type": "execute_result"
    }
   ],
   "source": [
    "import geemap\n",
    "import ee\n",
    "\n",
    "Map = geemap.Map()\n",
    "Map"
   ]
  },
  {
   "cell_type": "code",
   "execution_count": 3,
   "id": "4b33e10b",
   "metadata": {
    "ExecuteTime": {
     "end_time": "2023-01-05T03:12:23.875648Z",
     "start_time": "2023-01-05T03:12:23.860027Z"
    },
    "tags": []
   },
   "outputs": [
    {
     "data": {
      "text/html": [
       "\n",
       "            <style>\n",
       "                .geemap-dark {\n",
       "                    --jp-widgets-color: white;\n",
       "                    --jp-widgets-label-color: white;\n",
       "                    --jp-ui-font-color1: white;\n",
       "                    --jp-layout-color2: #454545;\n",
       "                    background-color: #383838;\n",
       "                }\n",
       "\n",
       "                .geemap-dark .jupyter-button {\n",
       "                    --jp-layout-color3: #383838;\n",
       "                }\n",
       "\n",
       "                .geemap-colab {\n",
       "                    background-color: var(--colab-primary-surface-color, white);\n",
       "                }\n",
       "\n",
       "                .geemap-colab .jupyter-button {\n",
       "                    --jp-layout-color3: var(--colab-primary-surface-color, white);\n",
       "                }\n",
       "            </style>\n",
       "            "
      ],
      "text/plain": [
       "<IPython.core.display.HTML object>"
      ]
     },
     "metadata": {},
     "output_type": "display_data"
    }
   ],
   "source": [
    "import os\n",
    "os.chdir(r'D:\\Work\\DroneImage')"
   ]
  },
  {
   "cell_type": "code",
   "execution_count": 8,
   "id": "1f7bdbbe-3636-4be6-b1dd-b226ff771df2",
   "metadata": {
    "tags": []
   },
   "outputs": [
    {
     "data": {
      "text/html": [
       "\n",
       "            <style>\n",
       "                .geemap-dark {\n",
       "                    --jp-widgets-color: white;\n",
       "                    --jp-widgets-label-color: white;\n",
       "                    --jp-ui-font-color1: white;\n",
       "                    --jp-layout-color2: #454545;\n",
       "                    background-color: #383838;\n",
       "                }\n",
       "\n",
       "                .geemap-dark .jupyter-button {\n",
       "                    --jp-layout-color3: #383838;\n",
       "                }\n",
       "\n",
       "                .geemap-colab {\n",
       "                    background-color: var(--colab-primary-surface-color, white);\n",
       "                }\n",
       "\n",
       "                .geemap-colab .jupyter-button {\n",
       "                    --jp-layout-color3: var(--colab-primary-surface-color, white);\n",
       "                }\n",
       "            </style>\n",
       "            "
      ],
      "text/plain": [
       "<IPython.core.display.HTML object>"
      ]
     },
     "metadata": {},
     "output_type": "display_data"
    }
   ],
   "source": [
    "import geopandas as gpd\n",
    "\n",
    "shp_file = \"roi.shp\"\n",
    "shp_gpd = gpd.read_file(shp_file)\n",
    "shp = geemap.gdf_to_ee(shp)\n",
    "\n",
    "roi = shp.geometry()\n",
    "Map.addLayer(roi, {}, 'roi')"
   ]
  },
  {
   "cell_type": "code",
   "execution_count": null,
   "id": "d3746b2e",
   "metadata": {
    "ExecuteTime": {
     "end_time": "2023-01-05T03:12:25.986324Z",
     "start_time": "2023-01-05T03:12:23.875648Z"
    },
    "tags": []
   },
   "outputs": [],
   "source": [
    "roi = ee.Geometry.Rectangle([74, 41, 86, 45], None, False)\n",
    "\n",
    "Map.addLayer(roi, {}, 'roi')"
   ]
  },
  {
   "cell_type": "code",
   "execution_count": null,
   "id": "16eb198a-844d-4ea1-a70c-769a35cd4626",
   "metadata": {
    "tags": []
   },
   "outputs": [],
   "source": [
    "Albers_project_img = ee.Image('users/2431566134liumonarch/WGS_1984_Albers_project')\n",
    "\n",
    "crs = Albers_project_img.projection()"
   ]
  },
  {
   "cell_type": "code",
   "execution_count": 9,
   "id": "54614317",
   "metadata": {
    "ExecuteTime": {
     "end_time": "2023-01-05T02:01:18.212308Z",
     "start_time": "2023-01-05T02:01:11.237156Z"
    }
   },
   "outputs": [
    {
     "data": {
      "text/html": [
       "\n",
       "            <style>\n",
       "                .geemap-dark {\n",
       "                    --jp-widgets-color: white;\n",
       "                    --jp-widgets-label-color: white;\n",
       "                    --jp-ui-font-color1: white;\n",
       "                    --jp-layout-color2: #454545;\n",
       "                    background-color: #383838;\n",
       "                }\n",
       "\n",
       "                .geemap-dark .jupyter-button {\n",
       "                    --jp-layout-color3: #383838;\n",
       "                }\n",
       "\n",
       "                .geemap-colab {\n",
       "                    background-color: var(--colab-primary-surface-color, white);\n",
       "                }\n",
       "\n",
       "                .geemap-colab .jupyter-button {\n",
       "                    --jp-layout-color3: var(--colab-primary-surface-color, white);\n",
       "                }\n",
       "            </style>\n",
       "            "
      ],
      "text/plain": [
       "<IPython.core.display.HTML object>"
      ]
     },
     "metadata": {},
     "output_type": "display_data"
    }
   ],
   "source": [
    "dem_img = ee.ImageCollection('JAXA/ALOS/AW3D30/V3_2').filterBounds(roi).mosaic().clip(roi).select(\"DSM\")\n",
    "Map.addLayer(dem_img, {'min':0, 'max':2000}, 'eleva')"
   ]
  },
  {
   "cell_type": "code",
   "execution_count": 10,
   "id": "844ed647",
   "metadata": {
    "ExecuteTime": {
     "end_time": "2023-01-04T03:35:05.885309Z",
     "start_time": "2023-01-04T03:35:01.788419Z"
    }
   },
   "outputs": [
    {
     "data": {
      "text/html": [
       "\n",
       "            <style>\n",
       "                .geemap-dark {\n",
       "                    --jp-widgets-color: white;\n",
       "                    --jp-widgets-label-color: white;\n",
       "                    --jp-ui-font-color1: white;\n",
       "                    --jp-layout-color2: #454545;\n",
       "                    background-color: #383838;\n",
       "                }\n",
       "\n",
       "                .geemap-dark .jupyter-button {\n",
       "                    --jp-layout-color3: #383838;\n",
       "                }\n",
       "\n",
       "                .geemap-colab {\n",
       "                    background-color: var(--colab-primary-surface-color, white);\n",
       "                }\n",
       "\n",
       "                .geemap-colab .jupyter-button {\n",
       "                    --jp-layout-color3: var(--colab-primary-surface-color, white);\n",
       "                }\n",
       "            </style>\n",
       "            "
      ],
      "text/plain": [
       "<IPython.core.display.HTML object>"
      ]
     },
     "metadata": {},
     "output_type": "display_data"
    },
    {
     "data": {
      "application/vnd.jupyter.widget-view+json": {
       "model_id": "31ac9df87b6b469aab986a3eb684db28",
       "version_major": 2,
       "version_minor": 0
      },
      "text/plain": [
       "dem.tif: |                                                             | 0.00/592M (raw) [  0.0%] in 00:00 (et…"
      ]
     },
     "metadata": {},
     "output_type": "display_data"
    },
    {
     "name": "stderr",
     "output_type": "stream",
     "text": [
      "There is no STAC entry for: None\n"
     ]
    }
   ],
   "source": [
    "geemap.download_ee_image(dem_img, r'dem.tif', scale=0.05, region=roi, crs=\"epsg:3857\")"
   ]
  },
  {
   "cell_type": "code",
   "execution_count": null,
   "id": "36c39e15-c56e-4759-8a51-a4dbbfe5bfcd",
   "metadata": {},
   "outputs": [],
   "source": [
    "Map.add_raster(r'dem_90m.tif', layer_name='dem')"
   ]
  },
  {
   "cell_type": "code",
   "execution_count": null,
   "id": "9fed53e1-1fa5-44bb-b7fe-c678a29da899",
   "metadata": {},
   "outputs": [],
   "source": [
    "geemap.ee_export_image(dem_img, 'dem.tif', scale=10, crs=crs, region=roi)"
   ]
  },
  {
   "cell_type": "code",
   "execution_count": null,
   "id": "e33729b0-eec9-481e-8e72-71a3e60ce620",
   "metadata": {},
   "outputs": [],
   "source": []
  }
 ],
 "metadata": {
  "kernelspec": {
   "display_name": "Python 3 (ipykernel)",
   "language": "python",
   "name": "python3"
  },
  "language_info": {
   "codemirror_mode": {
    "name": "ipython",
    "version": 3
   },
   "file_extension": ".py",
   "mimetype": "text/x-python",
   "name": "python",
   "nbconvert_exporter": "python",
   "pygments_lexer": "ipython3",
   "version": "3.10.9"
  }
 },
 "nbformat": 4,
 "nbformat_minor": 5
}
