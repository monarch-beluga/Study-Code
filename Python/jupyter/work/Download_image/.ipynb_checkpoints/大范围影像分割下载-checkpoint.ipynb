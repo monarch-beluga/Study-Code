{
 "cells": [
  {
   "cell_type": "code",
   "execution_count": 1,
   "id": "79893219",
   "metadata": {},
   "outputs": [],
   "source": [
    "import geemap\n",
    "import ee\n",
    "import os\n",
    "from concurrent.futures.thread import ThreadPoolExecutor"
   ]
  },
  {
   "cell_type": "code",
   "execution_count": 2,
   "id": "a5adfe0e",
   "metadata": {},
   "outputs": [
    {
     "data": {
      "application/vnd.jupyter.widget-view+json": {
       "model_id": "a8a95c1837bb4d769214d77a2a979806",
       "version_major": 2,
       "version_minor": 0
      },
      "text/plain": [
       "Map(center=[40, -100], controls=(WidgetControl(options=['position', 'transparent_bg'], widget=HBox(children=(T…"
      ]
     },
     "metadata": {},
     "output_type": "display_data"
    }
   ],
   "source": [
    "Map = geemap.Map() #center参数是打开地图的中心点经纬度坐标\n",
    "Map"
   ]
  },
  {
   "cell_type": "code",
   "execution_count": 4,
   "id": "3c46cdd7",
   "metadata": {},
   "outputs": [],
   "source": [
    "roi = geemap.shp_to_ee(r'E:/Data/clip/roi.shp')\n",
    "Map.centerObject(roi)\n",
    "Map.addLayer(roi, {}, \"roi\")"
   ]
  },
  {
   "cell_type": "code",
   "execution_count": 5,
   "id": "4a7fa981",
   "metadata": {},
   "outputs": [],
   "source": [
    "geo = roi.geometry()"
   ]
  },
  {
   "cell_type": "code",
   "execution_count": 6,
   "id": "cf3dc227",
   "metadata": {},
   "outputs": [
    {
     "data": {
      "text/plain": [
       "{'geodesic': False,\n",
       " 'type': 'Polygon',\n",
       " 'coordinates': [[[112.48203613671147, 23.350068790438772],\n",
       "   [119.6384256759775, 23.350068790438772],\n",
       "   [119.6384256759775, 30.821910912657493],\n",
       "   [112.48203613671147, 30.821910912657493],\n",
       "   [112.48203613671147, 23.350068790438772]]]}"
      ]
     },
     "execution_count": 6,
     "metadata": {},
     "output_type": "execute_result"
    }
   ],
   "source": [
    "bounds = geo.bounds()\n",
    "bounds.getInfo()"
   ]
  },
  {
   "cell_type": "code",
   "execution_count": 7,
   "id": "ab40f35b",
   "metadata": {},
   "outputs": [
    {
     "data": {
      "text/plain": [
       "[[[112.48203613671147, 23.350068790438772],\n",
       "  [119.6384256759775, 23.350068790438772],\n",
       "  [119.6384256759775, 30.821910912657493],\n",
       "  [112.48203613671147, 30.821910912657493],\n",
       "  [112.48203613671147, 23.350068790438772]]]"
      ]
     },
     "execution_count": 7,
     "metadata": {},
     "output_type": "execute_result"
    }
   ],
   "source": [
    "bounds.coordinates().getInfo()"
   ]
  },
  {
   "cell_type": "code",
   "execution_count": null,
   "id": "9059997d",
   "metadata": {},
   "outputs": [],
   "source": []
  },
  {
   "cell_type": "code",
   "execution_count": null,
   "id": "dfcd6961",
   "metadata": {},
   "outputs": [],
   "source": [
    "path = r'D:/Albedo/'\n",
    "os.chdir(path)"
   ]
  },
  {
   "cell_type": "code",
   "execution_count": 3,
   "id": "0526deef",
   "metadata": {},
   "outputs": [
    {
     "ename": "NameError",
     "evalue": "name 'path' is not defined",
     "output_type": "error",
     "traceback": [
      "\u001b[1;31m---------------------------------------------------------------------------\u001b[0m",
      "\u001b[1;31mNameError\u001b[0m                                 Traceback (most recent call last)",
      "\u001b[1;32m~\\AppData\\Local\\Temp/ipykernel_16064/1175434761.py\u001b[0m in \u001b[0;36m<module>\u001b[1;34m\u001b[0m\n\u001b[0;32m      1\u001b[0m \u001b[0mimages\u001b[0m \u001b[1;33m=\u001b[0m \u001b[0mee\u001b[0m\u001b[1;33m.\u001b[0m\u001b[0mImageCollection\u001b[0m\u001b[1;33m(\u001b[0m\u001b[1;34m\"MODIS/006/MOD09GQ\"\u001b[0m\u001b[1;33m)\u001b[0m\u001b[0;31m\\\u001b[0m\u001b[1;33m\u001b[0m\u001b[1;33m\u001b[0m\u001b[0m\n\u001b[0;32m      2\u001b[0m             \u001b[1;33m.\u001b[0m\u001b[0mfilterDate\u001b[0m\u001b[1;33m(\u001b[0m\u001b[1;34m\"2015-01-01\"\u001b[0m\u001b[1;33m,\u001b[0m \u001b[1;34m\"2015-01-03\"\u001b[0m\u001b[1;33m)\u001b[0m\u001b[1;33m.\u001b[0m\u001b[0mselect\u001b[0m\u001b[1;33m(\u001b[0m\u001b[1;34m'sur_refl_b01'\u001b[0m\u001b[1;33m)\u001b[0m\u001b[1;33m\u001b[0m\u001b[1;33m\u001b[0m\u001b[0m\n\u001b[1;32m----> 3\u001b[1;33m geemap.ee_export_image_collection(images, path, scale=250, crs='epsg:3857', \n\u001b[0m\u001b[0;32m      4\u001b[0m                                   region=roi.geometry())\n",
      "\u001b[1;31mNameError\u001b[0m: name 'path' is not defined"
     ]
    }
   ],
   "source": [
    "images = ee.ImageCollection(\"MODIS/006/MOD09GQ\")\\\n",
    "            .filterDate(\"2015-01-01\", \"2015-01-03\").select('sur_refl_b01')\n",
    "geemap.ee_export_image_collection(images, path, scale=250, crs='epsg:3857', \n",
    "                                  region=roi.geometry())"
   ]
  },
  {
   "cell_type": "code",
   "execution_count": null,
   "id": "fa9441c2",
   "metadata": {},
   "outputs": [],
   "source": []
  }
 ],
 "metadata": {
  "kernelspec": {
   "display_name": "Python 3 (ipykernel)",
   "language": "python",
   "name": "python3"
  },
  "language_info": {
   "codemirror_mode": {
    "name": "ipython",
    "version": 3
   },
   "file_extension": ".py",
   "mimetype": "text/x-python",
   "name": "python",
   "nbconvert_exporter": "python",
   "pygments_lexer": "ipython3",
   "version": "3.9.6"
  }
 },
 "nbformat": 4,
 "nbformat_minor": 5
}
