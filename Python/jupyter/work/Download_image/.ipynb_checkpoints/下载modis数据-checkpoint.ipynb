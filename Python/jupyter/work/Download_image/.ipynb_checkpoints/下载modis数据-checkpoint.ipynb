{
 "cells": [
  {
   "cell_type": "code",
   "execution_count": 1,
   "metadata": {
    "tags": []
   },
   "outputs": [],
   "source": [
    "import ee\n",
    "import geemap\n",
    "import os\n",
    "from concurrent.futures.thread import ThreadPoolExecutor"
   ]
  },
  {
   "cell_type": "code",
   "execution_count": 2,
   "metadata": {
    "tags": []
   },
   "outputs": [
    {
     "data": {
      "text/html": [
       "<p>To authorize access needed by Earth Engine, open the following\n",
       "        URL in a web browser and follow the instructions:</p>\n",
       "        <p><a href=https://code.earthengine.google.com/client-auth?scopes=https%3A//www.googleapis.com/auth/earthengine%20https%3A//www.googleapis.com/auth/devstorage.full_control&request_id=WLJKXAIaoCxoIsTlVxD02lY-SyIQ4aqILthaq8pNNNU&tc=k6nJ_jfHtWBJSH-diIp3o4XUlIzeRDj8dWyfmb3y-wY&cc=S1taHiTjkXUC6z6oH_GVyLPfUh1Cr5G7EM4dDH3nxM8>https://code.earthengine.google.com/client-auth?scopes=https%3A//www.googleapis.com/auth/earthengine%20https%3A//www.googleapis.com/auth/devstorage.full_control&request_id=WLJKXAIaoCxoIsTlVxD02lY-SyIQ4aqILthaq8pNNNU&tc=k6nJ_jfHtWBJSH-diIp3o4XUlIzeRDj8dWyfmb3y-wY&cc=S1taHiTjkXUC6z6oH_GVyLPfUh1Cr5G7EM4dDH3nxM8</a></p>\n",
       "        <p>The authorization workflow will generate a code, which you should paste in the box below.</p>\n",
       "        "
      ],
      "text/plain": [
       "<IPython.core.display.HTML object>"
      ]
     },
     "metadata": {},
     "output_type": "display_data"
    },
    {
     "name": "stdin",
     "output_type": "stream",
     "text": [
      "Enter verification code:  4/1AZEOvhUegGt3m1Kbh2PyWK3AzjA-NvLn_GwzxwMsCntCqTd-tU3orbdC0yE\n"
     ]
    },
    {
     "name": "stdout",
     "output_type": "stream",
     "text": [
      "\n",
      "Successfully saved authorization token.\n"
     ]
    },
    {
     "data": {
      "application/vnd.jupyter.widget-view+json": {
       "model_id": "ac66f068ad5c49dd88fca95db61137ab",
       "version_major": 2,
       "version_minor": 0
      },
      "text/plain": [
       "Map(center=[20, 0], controls=(WidgetControl(options=['position', 'transparent_bg'], widget=HBox(children=(Togg…"
      ]
     },
     "metadata": {},
     "output_type": "display_data"
    }
   ],
   "source": [
    "Map = geemap.Map() #center参数是打开地图的中心点经纬度坐标\n",
    "Map"
   ]
  },
  {
   "cell_type": "code",
   "execution_count": 3,
   "metadata": {
    "tags": []
   },
   "outputs": [],
   "source": [
    "os.chdir(r'D:\\Work\\modis_download')"
   ]
  },
  {
   "cell_type": "code",
   "execution_count": 4,
   "metadata": {
    "tags": []
   },
   "outputs": [],
   "source": [
    "shp = geemap.shp_to_ee(r'shp/JX.shp')\n",
    "roi = shp.geometry()"
   ]
  },
  {
   "cell_type": "code",
   "execution_count": 5,
   "metadata": {
    "tags": []
   },
   "outputs": [],
   "source": [
    "Map.addLayer(roi, {}, 'roi')\n",
    "Map.center_object(roi, 7)"
   ]
  },
  {
   "cell_type": "code",
   "execution_count": 12,
   "metadata": {
    "tags": []
   },
   "outputs": [],
   "source": [
    "start_time = '2015'\n",
    "end_time = '2020'\n",
    "outpath = 'data'"
   ]
  },
  {
   "cell_type": "code",
   "execution_count": 7,
   "metadata": {
    "tags": []
   },
   "outputs": [],
   "source": [
    "if not os.path.exists(outpath):\n",
    "    os.makedirs(outpath)"
   ]
  },
  {
   "cell_type": "code",
   "execution_count": 8,
   "metadata": {
    "tags": []
   },
   "outputs": [],
   "source": [
    "image = ee.ImageCollection(\"MODIS/006/MOD09Q1\").filterDate(start_time, end_time) \n",
    "\n",
    "name = image.aggregate_array('system:id').getInfo() "
   ]
  },
  {
   "cell_type": "code",
   "execution_count": 11,
   "metadata": {
    "scrolled": true,
    "tags": []
   },
   "outputs": [
    {
     "data": {
      "text/plain": [
       "['MODIS/006/MOD09Q1/2015_01_01',\n",
       " 'MODIS/006/MOD09Q1/2015_01_09',\n",
       " 'MODIS/006/MOD09Q1/2015_01_17',\n",
       " 'MODIS/006/MOD09Q1/2015_01_25',\n",
       " 'MODIS/006/MOD09Q1/2015_02_02',\n",
       " 'MODIS/006/MOD09Q1/2015_02_10',\n",
       " 'MODIS/006/MOD09Q1/2015_02_18',\n",
       " 'MODIS/006/MOD09Q1/2015_02_26',\n",
       " 'MODIS/006/MOD09Q1/2015_03_06',\n",
       " 'MODIS/006/MOD09Q1/2015_03_14',\n",
       " 'MODIS/006/MOD09Q1/2015_03_22',\n",
       " 'MODIS/006/MOD09Q1/2015_03_30',\n",
       " 'MODIS/006/MOD09Q1/2015_04_07',\n",
       " 'MODIS/006/MOD09Q1/2015_04_15',\n",
       " 'MODIS/006/MOD09Q1/2015_04_23',\n",
       " 'MODIS/006/MOD09Q1/2015_05_01',\n",
       " 'MODIS/006/MOD09Q1/2015_05_09',\n",
       " 'MODIS/006/MOD09Q1/2015_05_17',\n",
       " 'MODIS/006/MOD09Q1/2015_05_25',\n",
       " 'MODIS/006/MOD09Q1/2015_06_02',\n",
       " 'MODIS/006/MOD09Q1/2015_06_10',\n",
       " 'MODIS/006/MOD09Q1/2015_06_18',\n",
       " 'MODIS/006/MOD09Q1/2015_06_26',\n",
       " 'MODIS/006/MOD09Q1/2015_07_04',\n",
       " 'MODIS/006/MOD09Q1/2015_07_12',\n",
       " 'MODIS/006/MOD09Q1/2015_07_20',\n",
       " 'MODIS/006/MOD09Q1/2015_07_28',\n",
       " 'MODIS/006/MOD09Q1/2015_08_05',\n",
       " 'MODIS/006/MOD09Q1/2015_08_13',\n",
       " 'MODIS/006/MOD09Q1/2015_08_21',\n",
       " 'MODIS/006/MOD09Q1/2015_08_29',\n",
       " 'MODIS/006/MOD09Q1/2015_09_06',\n",
       " 'MODIS/006/MOD09Q1/2015_09_14',\n",
       " 'MODIS/006/MOD09Q1/2015_09_22',\n",
       " 'MODIS/006/MOD09Q1/2015_09_30',\n",
       " 'MODIS/006/MOD09Q1/2015_10_08',\n",
       " 'MODIS/006/MOD09Q1/2015_10_16',\n",
       " 'MODIS/006/MOD09Q1/2015_10_24',\n",
       " 'MODIS/006/MOD09Q1/2015_11_01',\n",
       " 'MODIS/006/MOD09Q1/2015_11_09',\n",
       " 'MODIS/006/MOD09Q1/2015_11_17',\n",
       " 'MODIS/006/MOD09Q1/2015_11_25',\n",
       " 'MODIS/006/MOD09Q1/2015_12_03',\n",
       " 'MODIS/006/MOD09Q1/2015_12_11',\n",
       " 'MODIS/006/MOD09Q1/2015_12_19',\n",
       " 'MODIS/006/MOD09Q1/2015_12_27',\n",
       " 'MODIS/006/MOD09Q1/2016_01_01',\n",
       " 'MODIS/006/MOD09Q1/2016_01_09',\n",
       " 'MODIS/006/MOD09Q1/2016_01_17',\n",
       " 'MODIS/006/MOD09Q1/2016_01_25',\n",
       " 'MODIS/006/MOD09Q1/2016_02_02',\n",
       " 'MODIS/006/MOD09Q1/2016_02_10',\n",
       " 'MODIS/006/MOD09Q1/2016_02_18',\n",
       " 'MODIS/006/MOD09Q1/2016_02_26',\n",
       " 'MODIS/006/MOD09Q1/2016_03_05',\n",
       " 'MODIS/006/MOD09Q1/2016_03_13',\n",
       " 'MODIS/006/MOD09Q1/2016_03_21',\n",
       " 'MODIS/006/MOD09Q1/2016_03_29',\n",
       " 'MODIS/006/MOD09Q1/2016_04_06',\n",
       " 'MODIS/006/MOD09Q1/2016_04_14',\n",
       " 'MODIS/006/MOD09Q1/2016_04_22',\n",
       " 'MODIS/006/MOD09Q1/2016_04_30',\n",
       " 'MODIS/006/MOD09Q1/2016_05_08',\n",
       " 'MODIS/006/MOD09Q1/2016_05_16',\n",
       " 'MODIS/006/MOD09Q1/2016_05_24',\n",
       " 'MODIS/006/MOD09Q1/2016_06_01',\n",
       " 'MODIS/006/MOD09Q1/2016_06_09',\n",
       " 'MODIS/006/MOD09Q1/2016_06_17',\n",
       " 'MODIS/006/MOD09Q1/2016_06_25',\n",
       " 'MODIS/006/MOD09Q1/2016_07_03',\n",
       " 'MODIS/006/MOD09Q1/2016_07_11',\n",
       " 'MODIS/006/MOD09Q1/2016_07_19',\n",
       " 'MODIS/006/MOD09Q1/2016_07_27',\n",
       " 'MODIS/006/MOD09Q1/2016_08_04',\n",
       " 'MODIS/006/MOD09Q1/2016_08_12',\n",
       " 'MODIS/006/MOD09Q1/2016_08_20',\n",
       " 'MODIS/006/MOD09Q1/2016_08_28',\n",
       " 'MODIS/006/MOD09Q1/2016_09_05',\n",
       " 'MODIS/006/MOD09Q1/2016_09_13',\n",
       " 'MODIS/006/MOD09Q1/2016_09_21',\n",
       " 'MODIS/006/MOD09Q1/2016_09_29',\n",
       " 'MODIS/006/MOD09Q1/2016_10_07',\n",
       " 'MODIS/006/MOD09Q1/2016_10_15',\n",
       " 'MODIS/006/MOD09Q1/2016_10_23',\n",
       " 'MODIS/006/MOD09Q1/2016_10_31',\n",
       " 'MODIS/006/MOD09Q1/2016_11_08',\n",
       " 'MODIS/006/MOD09Q1/2016_11_16',\n",
       " 'MODIS/006/MOD09Q1/2016_11_24',\n",
       " 'MODIS/006/MOD09Q1/2016_12_02',\n",
       " 'MODIS/006/MOD09Q1/2016_12_10',\n",
       " 'MODIS/006/MOD09Q1/2016_12_18',\n",
       " 'MODIS/006/MOD09Q1/2016_12_26',\n",
       " 'MODIS/006/MOD09Q1/2017_01_01',\n",
       " 'MODIS/006/MOD09Q1/2017_01_09',\n",
       " 'MODIS/006/MOD09Q1/2017_01_17',\n",
       " 'MODIS/006/MOD09Q1/2017_01_25',\n",
       " 'MODIS/006/MOD09Q1/2017_02_02',\n",
       " 'MODIS/006/MOD09Q1/2017_02_10',\n",
       " 'MODIS/006/MOD09Q1/2017_02_18',\n",
       " 'MODIS/006/MOD09Q1/2017_02_26',\n",
       " 'MODIS/006/MOD09Q1/2017_03_06',\n",
       " 'MODIS/006/MOD09Q1/2017_03_14',\n",
       " 'MODIS/006/MOD09Q1/2017_03_22',\n",
       " 'MODIS/006/MOD09Q1/2017_03_30',\n",
       " 'MODIS/006/MOD09Q1/2017_04_07',\n",
       " 'MODIS/006/MOD09Q1/2017_04_15',\n",
       " 'MODIS/006/MOD09Q1/2017_04_23',\n",
       " 'MODIS/006/MOD09Q1/2017_05_01',\n",
       " 'MODIS/006/MOD09Q1/2017_05_09',\n",
       " 'MODIS/006/MOD09Q1/2017_05_17',\n",
       " 'MODIS/006/MOD09Q1/2017_05_25',\n",
       " 'MODIS/006/MOD09Q1/2017_06_02',\n",
       " 'MODIS/006/MOD09Q1/2017_06_10',\n",
       " 'MODIS/006/MOD09Q1/2017_06_18',\n",
       " 'MODIS/006/MOD09Q1/2017_06_26',\n",
       " 'MODIS/006/MOD09Q1/2017_07_04',\n",
       " 'MODIS/006/MOD09Q1/2017_07_12',\n",
       " 'MODIS/006/MOD09Q1/2017_07_20',\n",
       " 'MODIS/006/MOD09Q1/2017_07_28',\n",
       " 'MODIS/006/MOD09Q1/2017_08_05',\n",
       " 'MODIS/006/MOD09Q1/2017_08_13',\n",
       " 'MODIS/006/MOD09Q1/2017_08_21',\n",
       " 'MODIS/006/MOD09Q1/2017_08_29',\n",
       " 'MODIS/006/MOD09Q1/2017_09_06',\n",
       " 'MODIS/006/MOD09Q1/2017_09_14',\n",
       " 'MODIS/006/MOD09Q1/2017_09_22',\n",
       " 'MODIS/006/MOD09Q1/2017_09_30',\n",
       " 'MODIS/006/MOD09Q1/2017_10_08',\n",
       " 'MODIS/006/MOD09Q1/2017_10_16',\n",
       " 'MODIS/006/MOD09Q1/2017_10_24',\n",
       " 'MODIS/006/MOD09Q1/2017_11_01',\n",
       " 'MODIS/006/MOD09Q1/2017_11_09',\n",
       " 'MODIS/006/MOD09Q1/2017_11_17',\n",
       " 'MODIS/006/MOD09Q1/2017_11_25',\n",
       " 'MODIS/006/MOD09Q1/2017_12_03',\n",
       " 'MODIS/006/MOD09Q1/2017_12_11',\n",
       " 'MODIS/006/MOD09Q1/2017_12_19',\n",
       " 'MODIS/006/MOD09Q1/2017_12_27',\n",
       " 'MODIS/006/MOD09Q1/2018_01_01',\n",
       " 'MODIS/006/MOD09Q1/2018_01_09',\n",
       " 'MODIS/006/MOD09Q1/2018_01_17',\n",
       " 'MODIS/006/MOD09Q1/2018_01_25',\n",
       " 'MODIS/006/MOD09Q1/2018_02_02',\n",
       " 'MODIS/006/MOD09Q1/2018_02_10',\n",
       " 'MODIS/006/MOD09Q1/2018_02_18',\n",
       " 'MODIS/006/MOD09Q1/2018_02_26',\n",
       " 'MODIS/006/MOD09Q1/2018_03_06',\n",
       " 'MODIS/006/MOD09Q1/2018_03_14',\n",
       " 'MODIS/006/MOD09Q1/2018_03_22',\n",
       " 'MODIS/006/MOD09Q1/2018_03_30',\n",
       " 'MODIS/006/MOD09Q1/2018_04_07',\n",
       " 'MODIS/006/MOD09Q1/2018_04_15',\n",
       " 'MODIS/006/MOD09Q1/2018_04_23',\n",
       " 'MODIS/006/MOD09Q1/2018_05_01',\n",
       " 'MODIS/006/MOD09Q1/2018_05_09',\n",
       " 'MODIS/006/MOD09Q1/2018_05_17',\n",
       " 'MODIS/006/MOD09Q1/2018_05_25',\n",
       " 'MODIS/006/MOD09Q1/2018_06_02',\n",
       " 'MODIS/006/MOD09Q1/2018_06_10',\n",
       " 'MODIS/006/MOD09Q1/2018_06_18',\n",
       " 'MODIS/006/MOD09Q1/2018_06_26',\n",
       " 'MODIS/006/MOD09Q1/2018_07_04',\n",
       " 'MODIS/006/MOD09Q1/2018_07_12',\n",
       " 'MODIS/006/MOD09Q1/2018_07_20',\n",
       " 'MODIS/006/MOD09Q1/2018_07_28',\n",
       " 'MODIS/006/MOD09Q1/2018_08_05',\n",
       " 'MODIS/006/MOD09Q1/2018_08_13',\n",
       " 'MODIS/006/MOD09Q1/2018_08_21',\n",
       " 'MODIS/006/MOD09Q1/2018_08_29',\n",
       " 'MODIS/006/MOD09Q1/2018_09_06',\n",
       " 'MODIS/006/MOD09Q1/2018_09_14',\n",
       " 'MODIS/006/MOD09Q1/2018_09_22',\n",
       " 'MODIS/006/MOD09Q1/2018_09_30',\n",
       " 'MODIS/006/MOD09Q1/2018_10_08',\n",
       " 'MODIS/006/MOD09Q1/2018_10_16',\n",
       " 'MODIS/006/MOD09Q1/2018_10_24',\n",
       " 'MODIS/006/MOD09Q1/2018_11_01',\n",
       " 'MODIS/006/MOD09Q1/2018_11_09',\n",
       " 'MODIS/006/MOD09Q1/2018_11_17',\n",
       " 'MODIS/006/MOD09Q1/2018_11_25',\n",
       " 'MODIS/006/MOD09Q1/2018_12_03',\n",
       " 'MODIS/006/MOD09Q1/2018_12_11',\n",
       " 'MODIS/006/MOD09Q1/2018_12_19',\n",
       " 'MODIS/006/MOD09Q1/2018_12_27',\n",
       " 'MODIS/006/MOD09Q1/2019_01_01',\n",
       " 'MODIS/006/MOD09Q1/2019_01_09',\n",
       " 'MODIS/006/MOD09Q1/2019_01_17',\n",
       " 'MODIS/006/MOD09Q1/2019_01_25',\n",
       " 'MODIS/006/MOD09Q1/2019_02_02',\n",
       " 'MODIS/006/MOD09Q1/2019_02_10',\n",
       " 'MODIS/006/MOD09Q1/2019_02_18',\n",
       " 'MODIS/006/MOD09Q1/2019_02_26',\n",
       " 'MODIS/006/MOD09Q1/2019_03_06',\n",
       " 'MODIS/006/MOD09Q1/2019_03_14',\n",
       " 'MODIS/006/MOD09Q1/2019_03_22',\n",
       " 'MODIS/006/MOD09Q1/2019_03_30',\n",
       " 'MODIS/006/MOD09Q1/2019_04_07',\n",
       " 'MODIS/006/MOD09Q1/2019_04_15',\n",
       " 'MODIS/006/MOD09Q1/2019_04_23',\n",
       " 'MODIS/006/MOD09Q1/2019_05_01',\n",
       " 'MODIS/006/MOD09Q1/2019_05_09',\n",
       " 'MODIS/006/MOD09Q1/2019_05_17',\n",
       " 'MODIS/006/MOD09Q1/2019_05_25',\n",
       " 'MODIS/006/MOD09Q1/2019_06_02',\n",
       " 'MODIS/006/MOD09Q1/2019_06_10',\n",
       " 'MODIS/006/MOD09Q1/2019_06_18',\n",
       " 'MODIS/006/MOD09Q1/2019_06_26',\n",
       " 'MODIS/006/MOD09Q1/2019_07_04',\n",
       " 'MODIS/006/MOD09Q1/2019_07_12',\n",
       " 'MODIS/006/MOD09Q1/2019_07_20',\n",
       " 'MODIS/006/MOD09Q1/2019_07_28',\n",
       " 'MODIS/006/MOD09Q1/2019_08_05',\n",
       " 'MODIS/006/MOD09Q1/2019_08_13',\n",
       " 'MODIS/006/MOD09Q1/2019_08_21',\n",
       " 'MODIS/006/MOD09Q1/2019_08_29',\n",
       " 'MODIS/006/MOD09Q1/2019_09_06',\n",
       " 'MODIS/006/MOD09Q1/2019_09_14',\n",
       " 'MODIS/006/MOD09Q1/2019_09_22',\n",
       " 'MODIS/006/MOD09Q1/2019_09_30',\n",
       " 'MODIS/006/MOD09Q1/2019_10_08',\n",
       " 'MODIS/006/MOD09Q1/2019_10_16',\n",
       " 'MODIS/006/MOD09Q1/2019_10_24',\n",
       " 'MODIS/006/MOD09Q1/2019_11_01',\n",
       " 'MODIS/006/MOD09Q1/2019_11_09',\n",
       " 'MODIS/006/MOD09Q1/2019_11_17',\n",
       " 'MODIS/006/MOD09Q1/2019_11_25',\n",
       " 'MODIS/006/MOD09Q1/2019_12_03',\n",
       " 'MODIS/006/MOD09Q1/2019_12_11',\n",
       " 'MODIS/006/MOD09Q1/2019_12_19',\n",
       " 'MODIS/006/MOD09Q1/2019_12_27']"
      ]
     },
     "execution_count": 11,
     "metadata": {},
     "output_type": "execute_result"
    }
   ],
   "source": [
    "name"
   ]
  },
  {
   "cell_type": "code",
   "execution_count": null,
   "metadata": {},
   "outputs": [],
   "source": [
    "def dow(i): \n",
    "    img = ee.Image(i).select('NDVI')\n",
    "    file = f\"{outpath}/NDVI_{i.split('/')[-1]}.tif\"\n",
    "    if os.pa\n",
    "    geemap.download_ee_image(img, filename=file, region=roi, crs='epsg:4326', scale=250)"
   ]
  },
  {
   "cell_type": "code",
   "execution_count": null,
   "metadata": {},
   "outputs": [],
   "source": [
    "with ThreadPoolExecutor(max_workers=10) as executor:\n",
    "    executor.map(dow, name)"
   ]
  },
  {
   "cell_type": "code",
   "execution_count": null,
   "metadata": {},
   "outputs": [],
   "source": [
    "dow1(name[0])"
   ]
  },
  {
   "cell_type": "code",
   "execution_count": null,
   "metadata": {},
   "outputs": [],
   "source": []
  }
 ],
 "metadata": {
  "kernelspec": {
   "display_name": "Python 3 (ipykernel)",
   "language": "python",
   "name": "python3"
  },
  "language_info": {
   "codemirror_mode": {
    "name": "ipython",
    "version": 3
   },
   "file_extension": ".py",
   "mimetype": "text/x-python",
   "name": "python",
   "nbconvert_exporter": "python",
   "pygments_lexer": "ipython3",
   "version": "3.10.10"
  },
  "varInspector": {
   "cols": {
    "lenName": 16,
    "lenType": 16,
    "lenVar": 40
   },
   "kernels_config": {
    "python": {
     "delete_cmd_postfix": "",
     "delete_cmd_prefix": "del ",
     "library": "var_list.py",
     "varRefreshCmd": "print(var_dic_list())"
    },
    "r": {
     "delete_cmd_postfix": ") ",
     "delete_cmd_prefix": "rm(",
     "library": "var_list.r",
     "varRefreshCmd": "cat(var_dic_list()) "
    }
   },
   "oldHeight": 122.22178,
   "position": {
    "height": "40px",
    "left": "794.01px",
    "right": "20px",
    "top": "120px",
    "width": "250.434px"
   },
   "types_to_exclude": [
    "module",
    "function",
    "builtin_function_or_method",
    "instance",
    "_Feature"
   ],
   "varInspector_section_display": "none",
   "window_display": true
  }
 },
 "nbformat": 4,
 "nbformat_minor": 4
}
