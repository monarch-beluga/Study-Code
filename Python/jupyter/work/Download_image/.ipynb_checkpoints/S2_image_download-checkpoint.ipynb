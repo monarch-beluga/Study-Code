{
 "cells": [
  {
   "cell_type": "code",
   "execution_count": null,
   "id": "b6cc9bab",
   "metadata": {},
   "outputs": [],
   "source": [
    "import geemap\n",
    "import ee\n",
    "import os"
   ]
  },
  {
   "cell_type": "code",
   "execution_count": null,
   "id": "a0cfb86f",
   "metadata": {},
   "outputs": [],
   "source": [
    "Map = geemap.Map()\n",
    "Map"
   ]
  },
  {
   "cell_type": "code",
   "execution_count": null,
   "id": "a8b32675",
   "metadata": {},
   "outputs": [],
   "source": [
    "os.chdir(r\"E:/Work/S2/\")\n",
    "roi = geemap.shp_to_ee('jiujiang.shp')\n",
    "Map.addLayer(roi, {}, 'roi')"
   ]
  },
  {
   "cell_type": "code",
   "execution_count": null,
   "id": "2914a86d",
   "metadata": {},
   "outputs": [],
   "source": [
    "visParams = {'max': 3000, 'min': 0, 'bands': ['B4', 'B3', 'B2']}"
   ]
  },
  {
   "cell_type": "code",
   "execution_count": null,
   "id": "0d0bd99f",
   "metadata": {},
   "outputs": [],
   "source": [
    "image = ee.ImageCollection(\"COPERNICUS/S2\") \\\n",
    "    .filterBounds(roi.geometry())\\\n",
    "    .filterDate('2021-06-01', '2021-06-06')\\\n",
    "    .sort('CLOUDY_PIXEL_PERCENTAGE', False).mosaic().clip(roi.geometry())\n",
    "Map.addLayer(image, visParams, 'image')"
   ]
  },
  {
   "cell_type": "code",
   "execution_count": null,
   "id": "a2b86b7b",
   "metadata": {},
   "outputs": [],
   "source": [
    "from datetime import datetime\n",
    "from datetime import timedelta\n",
    "from Monarch import user_gee\n",
    "\n",
    "start_time = datetime.strptime(\"2021-06\", \"%Y-%m\")\n",
    "end_time = datetime.strptime(\"2021-08\", \"%Y-%m\")\n",
    "\n",
    "sep = 5\n",
    "s_time = start_time\n",
    "e_time = start_time+timedelta(days=sep)\n",
    "\n",
    "while e_time < end_time:\n",
    "    image = ee.ImageCollection(\"COPERNICUS/S2\") \\\n",
    "            .filterBounds(roi.geometry())\\\n",
    "            .filterDate(s_time.strftime(\"%Y-%m-%d\"), e_time.strftime(\"%Y-%m-%d\"))\\\n",
    "            .sort('CLOUDY_PIXEL_PERCENTAGE', False).mosaic().clip(roi.geometry())\n",
    "    out_name = f'S2_{s_time.strftime(\"%Y-%m-%d\")}'\n",
    "    \n",
    "    s_time = e_time\n",
    "    e_time += timedelta(days=sep)"
   ]
  },
  {
   "cell_type": "code",
   "execution_count": null,
   "id": "3b4cd9ef",
   "metadata": {},
   "outputs": [],
   "source": []
  }
 ],
 "metadata": {
  "kernelspec": {
   "display_name": "Python 3 (ipykernel)",
   "language": "python",
   "name": "python3"
  },
  "language_info": {
   "codemirror_mode": {
    "name": "ipython",
    "version": 3
   },
   "file_extension": ".py",
   "mimetype": "text/x-python",
   "name": "python",
   "nbconvert_exporter": "python",
   "pygments_lexer": "ipython3",
   "version": "3.10.10"
  }
 },
 "nbformat": 4,
 "nbformat_minor": 5
}
