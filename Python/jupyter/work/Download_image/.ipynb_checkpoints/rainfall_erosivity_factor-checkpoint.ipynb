{
 "cells": [
  {
   "cell_type": "code",
   "execution_count": null,
   "id": "3a598e3a-25e4-4a99-9e10-8a97e818f6e4",
   "metadata": {},
   "outputs": [],
   "source": [
    "## 降雨侵蚀力因子计算"
   ]
  },
  {
   "cell_type": "code",
   "execution_count": null,
   "id": "905bf815-20ce-47f4-a4e4-4b194abccacf",
   "metadata": {
    "tags": []
   },
   "outputs": [],
   "source": [
    "import geemap\n",
    "import ee\n",
    "\n",
    "Map = geemap.Map()\n",
    "Map"
   ]
  },
  {
   "cell_type": "code",
   "execution_count": null,
   "id": "ed51f916-7bcc-44dd-a2e1-91752ce8e86b",
   "metadata": {
    "tags": []
   },
   "outputs": [],
   "source": [
    "import os\n",
    "os.chdir(r'D:\\Work\\naqu')"
   ]
  },
  {
   "cell_type": "code",
   "execution_count": null,
   "id": "55a4f104-3d23-4938-83ac-d0b1cf04c8e2",
   "metadata": {
    "tags": []
   },
   "outputs": [],
   "source": [
    "shp = geemap.shp_to_ee('那曲市矢量/那曲市WGS_1984.shp')\n",
    "roi = shp.geometry()\n",
    "Map.center_object(roi, 7)\n",
    "Map.addLayer(roi, {}, 'roi')"
   ]
  }
 ],
 "metadata": {
  "kernelspec": {
   "display_name": "Python 3 (ipykernel)",
   "language": "python",
   "name": "python3"
  },
  "language_info": {
   "codemirror_mode": {
    "name": "ipython",
    "version": 3
   },
   "file_extension": ".py",
   "mimetype": "text/x-python",
   "name": "python",
   "nbconvert_exporter": "python",
   "pygments_lexer": "ipython3",
   "version": "3.10.10"
  }
 },
 "nbformat": 4,
 "nbformat_minor": 5
}
