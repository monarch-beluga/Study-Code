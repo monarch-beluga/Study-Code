{
 "cells": [
  {
   "cell_type": "code",
   "execution_count": null,
   "id": "79893219",
   "metadata": {
    "ExecuteTime": {
     "end_time": "2021-11-07T02:21:00.980033Z",
     "start_time": "2021-11-07T02:20:45.917942Z"
    },
    "tags": []
   },
   "outputs": [],
   "source": [
    "import geemap\n",
    "import ee\n",
    "from Monarch import user_gee\n",
    "\n",
    "Map = geemap.Map()\n",
    "Map"
   ]
  },
  {
   "cell_type": "code",
   "execution_count": null,
   "id": "7ee1deb2",
   "metadata": {
    "tags": []
   },
   "outputs": [],
   "source": [
    "point = Map.draw_last_feature.geometry()"
   ]
  },
  {
   "cell_type": "code",
   "execution_count": null,
   "id": "54451ee4",
   "metadata": {
    "tags": []
   },
   "outputs": [],
   "source": [
    "image = images = ee.ImageCollection(\"COPERNICUS/S2\").filterDate('2020-06-21', '2021-06-24').filterBounds(point)\\\n",
    "                    .sort(\"CLOUDY_PIXEL_PERCENTAGE\", False).mosaic().clip(point)\n",
    "Map.addLayer(image, {'bands': ['B4', 'B3', 'B2'], 'max': 3000, 'min': 0}, \"imags\")"
   ]
  },
  {
   "cell_type": "code",
   "execution_count": null,
   "id": "c3f720d1-7229-4447-8cc3-acb4e8f17a02",
   "metadata": {
    "tags": []
   },
   "outputs": [],
   "source": [
    "image = images = ee.ImageCollection(\"COPERNICUS/S2\").filterDate('2020-06-21', '2021-06-24').filterBounds(point)\\\n",
    "                    .sort(\"CLOUDY_PIXEL_PERCENTAGE\", False).mosaic().clip(point)"
   ]
  },
  {
   "cell_type": "code",
   "execution_count": null,
   "id": "dce306e2-bd6f-4d29-89ee-0115d848ed37",
   "metadata": {
    "tags": []
   },
   "outputs": [],
   "source": [
    "image.reproject(**{'crs': 'epsg:4326', 'scale': 10})"
   ]
  },
  {
   "cell_type": "code",
   "execution_count": null,
   "id": "6cd2ea62",
   "metadata": {
    "tags": []
   },
   "outputs": [],
   "source": [
    "NDVI = image.normalizedDifference(['B8', 'B4'])\n",
    "Map.addLayer(NDVI, {}, 'ndvi')"
   ]
  },
  {
   "cell_type": "code",
   "execution_count": null,
   "id": "c0a7a310-7e8e-408a-92a5-ed06c530ba70",
   "metadata": {
    "tags": []
   },
   "outputs": [],
   "source": [
    "NDVI.shape"
   ]
  },
  {
   "cell_type": "code",
   "execution_count": null,
   "id": "76aa08f7-01a8-4664-9327-d541654144a8",
   "metadata": {
    "tags": []
   },
   "outputs": [],
   "source": [
    "geemap.download_ee_image()"
   ]
  },
  {
   "cell_type": "code",
   "execution_count": null,
   "id": "7e7623c7",
   "metadata": {},
   "outputs": [],
   "source": [
    "def clip_dow_merge(geo: ee.Geometry, image: ee.Image, outfile: str, scale: int,\n",
    "                   crs='epsg:4326', sep=0.25):\n",
    "    \"\"\"\n",
    "\n",
    "    Args:\n",
    "        geo: ee.Geometry, 需要下载的区域矢量几何\n",
    "        image: ee.Image, 需要下载的影像\n",
    "        outfile: str, 输出文件路径和名称，不需要文件后缀，下载的影响默认后缀为tif\n",
    "        scale: int, 下载时的像元大小\n",
    "        crs: str, 下载影像的投影，默认为 'epsg:4326' wgs1984投影\n",
    "        sep: float, 单波段10m分辨率像元的影像裁剪大小(单位：经纬度)，默认为0.25\n",
    "    Returns: None\n",
    "\n",
    "    \"\"\"\n",
    "    import os\n",
    "    import numpy as np\n",
    "    import rasterio\n",
    "    from glob import glob\n",
    "    from rasterio.merge import merge\n",
    "    import shutil\n",
    "    import geemap\n",
    "    import math\n",
    "    bounds = geo.bounds()\n",
    "    bands = image.bandNames().size().getInfo()\n",
    "    poy = np.array(bounds.coordinates().getInfo()[0])\n",
    "    min_x = poy[:, 0].min()\n",
    "    max_x = poy[:, 0].max()\n",
    "    min_y = poy[:, 1].min()\n",
    "    max_y = poy[:, 1].max()\n",
    "    step = scale / 10 * sep / (int(math.sqrt(bands))+1)\n",
    "    end_x = int((max_x - min_x) / step) + 1\n",
    "    end_y = int((max_y - min_y) / step) + 1\n",
    "    polys = []\n",
    "    for i in range(end_y):\n",
    "        y1 = min_y + step * i\n",
    "        y2 = min_y + step * (i + 1)\n",
    "        if y2 > max_y:\n",
    "            y2 = max_y\n",
    "        for j in range(end_x):\n",
    "            x1 = min_x + step * j\n",
    "            x2 = min_x + step * (j + 1)\n",
    "            if x2 > max_x:\n",
    "                x2 = max_x\n",
    "            poly = ee.Geometry(ee.Geometry.Rectangle([float(x1), float(y1), float(x2), float(y2)]), None, False)\n",
    "            polys.append(poly)\n",
    "    if len(polys) > 1:\n",
    "        print(f\"分割成{len(polys)}份, 开始下载:\")\n",
    "        path = outfile+'_mk'\n",
    "        t = 1\n",
    "        if not os.path.exists(path):\n",
    "            t = 0\n",
    "            os.makedirs(path)\n",
    "        for j, i in enumerate(polys):\n",
    "            if not os.path.exists(path+f'/temp_{j}.tif'):\n",
    "                if t:\n",
    "                    clip_dow_merge(i, image, path + f'/temp_{j}', scale, sep=sep*0.5)\n",
    "                else:\n",
    "                    geemap.ee_export_image(image, path + f'/temp_{j}.tif', scale=scale, crs=crs, region=i)\n",
    "            else:\n",
    "                continue\n",
    "        files = glob(path+\"/*.tif\")\n",
    "        if len(files) == len(polys):\n",
    "            src_files_to_mosaic = []\n",
    "            for tif_f in files:\n",
    "                src = rasterio.open(tif_f)\n",
    "                src_files_to_mosaic.append(src)\n",
    "            mosaic, out_trans = merge(src_files_to_mosaic)\n",
    "            out_meta = src.meta.copy()\n",
    "            out_meta.update({\"driver\": \"GTiff\",\n",
    "                             \"height\": mosaic.shape[1],\n",
    "                             \"width\": mosaic.shape[2],\n",
    "                             \"transform\": out_trans,\n",
    "                             })\n",
    "            with rasterio.open(outfile+\".tif\", \"w\", **out_meta) as dest:\n",
    "                dest.write(mosaic)\n",
    "            for src in src_files_to_mosaic:\n",
    "                src.close()\n",
    "            shutil.rmtree(path)\n",
    "        else:\n",
    "            print('下载不完全！！')\n",
    "    else:\n",
    "        geemap.ee_export_image(image, outfile+'.tif', scale=scale, crs=crs, region=geo)\n",
    "    print(\"download successful !!!\")"
   ]
  },
  {
   "cell_type": "code",
   "execution_count": null,
   "id": "1900f685",
   "metadata": {},
   "outputs": [],
   "source": [
    "roi = Map.draw_last_feature.geometry()"
   ]
  },
  {
   "cell_type": "code",
   "execution_count": null,
   "id": "1e845592",
   "metadata": {
    "tags": []
   },
   "outputs": [],
   "source": [
    "import os\n",
    "from Monarch import clip_dow_merge\n",
    "out_name = 'D:/Data/s2_img_ndvi'\n",
    "while not os.path.exists(out_name+'.tif'):\n",
    "    clip_dow_merge.clip_dow_merge(roi, NDVI, out_name, 10, 4)"
   ]
  },
  {
   "cell_type": "code",
   "execution_count": null,
   "id": "7e2d5ed8",
   "metadata": {},
   "outputs": [],
   "source": [
    "image = ee.ImageCollection(\"MODIS/006/MOD09GQ\")\\\n",
    "            .filterDate(\"2015-01-01\", \"2015-01-02\").select('sur_refl_b01')\\\n",
    "            .first()"
   ]
  },
  {
   "cell_type": "code",
   "execution_count": null,
   "id": "c93cb14f",
   "metadata": {},
   "outputs": [],
   "source": [
    "image.bandNames().size().getInfo()"
   ]
  },
  {
   "cell_type": "code",
   "execution_count": null,
   "id": "26e18f9a",
   "metadata": {},
   "outputs": [],
   "source": [
    "geemap.down"
   ]
  }
 ],
 "metadata": {
  "kernelspec": {
   "display_name": "Python 3 (ipykernel)",
   "language": "python",
   "name": "python3"
  },
  "language_info": {
   "codemirror_mode": {
    "name": "ipython",
    "version": 3
   },
   "file_extension": ".py",
   "mimetype": "text/x-python",
   "name": "python",
   "nbconvert_exporter": "python",
   "pygments_lexer": "ipython3",
   "version": "3.10.10"
  }
 },
 "nbformat": 4,
 "nbformat_minor": 5
}
