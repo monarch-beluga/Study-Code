{
 "cells": [
  {
   "cell_type": "code",
   "execution_count": 1,
   "id": "0795c70b",
   "metadata": {
    "ExecuteTime": {
     "end_time": "2023-02-08T03:34:48.316859Z",
     "start_time": "2023-02-08T03:34:37.541102Z"
    }
   },
   "outputs": [
    {
     "data": {
      "application/vnd.jupyter.widget-view+json": {
       "model_id": "8ba189b4f6f04df9a4108c7eb42c79b0",
       "version_major": 2,
       "version_minor": 0
      },
      "text/plain": [
       "Map(center=[20, 0], controls=(WidgetControl(options=['position', 'transparent_bg'], widget=HBox(children=(Togg…"
      ]
     },
     "metadata": {},
     "output_type": "display_data"
    }
   ],
   "source": [
    "import ee\n",
    "import geemap\n",
    "\n",
    "Map = geemap.Map()\n",
    "Map"
   ]
  },
  {
   "cell_type": "code",
   "execution_count": 2,
   "id": "ad0eeb71",
   "metadata": {
    "ExecuteTime": {
     "end_time": "2023-02-08T03:34:48.332817Z",
     "start_time": "2023-02-08T03:34:48.317887Z"
    }
   },
   "outputs": [],
   "source": [
    "import os\n",
    "os.chdir(r'D:\\Work\\naqu')"
   ]
  },
  {
   "cell_type": "code",
   "execution_count": 3,
   "id": "27b5861c",
   "metadata": {
    "ExecuteTime": {
     "end_time": "2023-02-08T03:34:53.151832Z",
     "start_time": "2023-02-08T03:34:48.333814Z"
    }
   },
   "outputs": [],
   "source": [
    "shp_file = r'naqu.shp'\n",
    "shp = geemap.shp_to_ee(shp_file)\n",
    "\n",
    "Map.addLayer(shp, {}, 'shp')\n",
    "\n",
    "Map.center_object(shp, 3)\n",
    "roi = shp.geometry()"
   ]
  },
  {
   "cell_type": "code",
   "execution_count": 4,
   "id": "805a93df",
   "metadata": {
    "ExecuteTime": {
     "end_time": "2023-02-08T03:34:53.167790Z",
     "start_time": "2023-02-08T03:34:53.153827Z"
    }
   },
   "outputs": [],
   "source": [
    "start_time = 2018\n",
    "end_time = 2021\n",
    "day_sep = 8\n",
    "bands = ['temperature_2m',\n",
    "        'dewpoint_temperature_2m', \n",
    "        'total_precipitation', \n",
    "        'surface_net_thermal_radiation',\n",
    "        'surface_net_solar_radiation',\n",
    "        'surface_solar_radiation_downwards',\n",
    "        'u_component_of_wind_10m',\n",
    "        'v_component_of_wind_10m']"
   ]
  },
  {
   "cell_type": "code",
   "execution_count": 5,
   "id": "47a22ddb",
   "metadata": {
    "ExecuteTime": {
     "end_time": "2023-02-08T03:35:03.600205Z",
     "start_time": "2023-02-08T03:35:03.589234Z"
    }
   },
   "outputs": [],
   "source": [
    "Albers_project_img = ee.Image('users/2431566134liumonarch/WGS_1984_Albers_project')\n",
    "\n",
    "crs = Albers_project_img.projection()"
   ]
  },
  {
   "cell_type": "code",
   "execution_count": 6,
   "id": "eba2d3c6-4c5e-414a-9b4b-09840019da4a",
   "metadata": {
    "tags": []
   },
   "outputs": [
    {
     "data": {
      "text/plain": [
       "'u_component_of_wind_10m'"
      ]
     },
     "execution_count": 6,
     "metadata": {},
     "output_type": "execute_result"
    }
   ],
   "source": [
    "bands[6]"
   ]
  },
  {
   "cell_type": "code",
   "execution_count": 11,
   "id": "cb5e9a5f",
   "metadata": {
    "ExecuteTime": {
     "end_time": "2023-02-08T03:47:05.455646Z",
     "start_time": "2023-02-08T03:47:04.441046Z"
    }
   },
   "outputs": [],
   "source": [
    "year = 2018\n",
    "day = 0\n",
    "images_year = ee.ImageCollection(\"ECMWF/ERA5_LAND/HOURLY\")\\\n",
    "                .filterDate(f'{year}', f'{year+1}')\n",
    "images_day = images_year.filter(ee.Filter.calendarRange(day, day+30, 'day_of_year'))\n",
    "# img_day = images_day.select(bands[6:8]).mean()\n",
    "# Map.addLayer(img_day.clip(roi), {}, 'img')"
   ]
  },
  {
   "cell_type": "code",
   "execution_count": 12,
   "id": "97ebf9be-2c53-40cc-a8c7-749cf27707c4",
   "metadata": {
    "tags": []
   },
   "outputs": [],
   "source": [
    "img_day = images_year.mean().clip(roi).select(bands[6:8], ['u', 'v'])"
   ]
  },
  {
   "cell_type": "code",
   "execution_count": 13,
   "id": "2dbda082-a696-4c35-8ecb-e15cdea5f69b",
   "metadata": {
    "tags": []
   },
   "outputs": [],
   "source": [
    "img = img_day.expression(\"(u ** 2 + v ** 2) ** 0.5\", \n",
    "                         {\n",
    "                             'u': img_day.select('u'),\n",
    "                             'v': img_day.select('v')\n",
    "                         })"
   ]
  },
  {
   "cell_type": "code",
   "execution_count": null,
   "id": "7743356a-4203-44eb-a3f3-01a2acc86372",
   "metadata": {
    "tags": []
   },
   "outputs": [
    {
     "data": {
      "application/vnd.jupyter.widget-view+json": {
       "model_id": "d31780330aea4ae8b74c2cc41615c776",
       "version_major": 2,
       "version_minor": 0
      },
      "text/plain": [
       "wind_250.tif: |                                                       | 0.00/91.6M (raw) [  0.0%] in 00:00 (et…"
      ]
     },
     "metadata": {},
     "output_type": "display_data"
    }
   ],
   "source": [
    "geemap.download_ee_image(img, 'wind_250.tif', region=roi, crs=crs, scale=250)"
   ]
  },
  {
   "cell_type": "code",
   "execution_count": null,
   "id": "215c3362",
   "metadata": {
    "ExecuteTime": {
     "end_time": "2023-02-08T03:47:34.977741Z",
     "start_time": "2023-02-08T03:47:33.922788Z"
    }
   },
   "outputs": [],
   "source": [
    "img_day = images_day.select(bands[2]).sum()\n",
    "Map.addLayer(img_day, {}, 'prcp_s')"
   ]
  },
  {
   "cell_type": "markdown",
   "id": "f969a2a1",
   "metadata": {},
   "source": [
    "#### PRCP 8day download"
   ]
  },
  {
   "cell_type": "code",
   "execution_count": null,
   "id": "173dfde4",
   "metadata": {
    "ExecuteTime": {
     "end_time": "2023-02-07T08:53:37.892539Z",
     "start_time": "2023-02-07T08:53:37.868573Z"
    }
   },
   "outputs": [],
   "source": [
    "from Monarch.user_gee import *"
   ]
  },
  {
   "cell_type": "code",
   "execution_count": null,
   "id": "600043d5",
   "metadata": {
    "ExecuteTime": {
     "end_time": "2023-02-07T07:11:46.677733Z",
     "start_time": "2023-02-07T07:11:46.352322Z"
    },
    "scrolled": true
   },
   "outputs": [],
   "source": [
    "var = 'PRCP'\n",
    "if not os.path.exists(var):\n",
    "    os.mkdir(var)\n",
    "    \n",
    "for year in range(start_time, end_time):\n",
    "    if (year%4 == 0 and year%400!=0) or (year%400==0):\n",
    "        days = 366\n",
    "    else:\n",
    "        days = 365\n",
    "    images_year = ee.ImageCollection(\"ECMWF/ERA5_LAND/HOURLY\")\\\n",
    "                .filterDate(f'{year}', f'{year+1}')\n",
    "    \n",
    "    imgs_day_to_year = []\n",
    "    for day in range(days):\n",
    "        images_day = images_year.filter(ee.Filter.calendarRange(day, day+1, 'day_of_year'))\n",
    "\n",
    "        img_day = images_day.select(bands[2]).sum()\n",
    "\n",
    "        imgs_day_to_year.append(img_day)\n",
    "\n",
    "    for i in range(0, days, day_sep):\n",
    "        image = ee.ImageCollection(imgs_day_to_year[i:i+day_sep]).sum().multiply(1000)\n",
    "        outfile = f'{var}/{var}_{year}{i+1:03d}.tif'\n",
    "        while not os.path.exists(outfile):\n",
    "            try:\n",
    "                download_image(image, outfile, region=roi, crs=crs,\n",
    "                                     scale=10000)\n",
    "            except:\n",
    "                continue"
   ]
  },
  {
   "cell_type": "markdown",
   "id": "14d538c7",
   "metadata": {},
   "source": [
    "#### TAVG 8day download"
   ]
  },
  {
   "cell_type": "code",
   "execution_count": null,
   "id": "622fb9f6",
   "metadata": {
    "ExecuteTime": {
     "end_time": "2023-02-06T11:52:08.086193Z",
     "start_time": "2023-02-06T10:47:33.150691Z"
    }
   },
   "outputs": [],
   "source": [
    "var = 'TAVG'\n",
    "if not os.path.exists(var):\n",
    "    os.mkdir(var)\n",
    "    \n",
    "for year in range(start_time, end_time):\n",
    "    if (year%4 == 0 and year%400!=0) or (year%400==0):\n",
    "        days = 366\n",
    "    else:\n",
    "        days = 365\n",
    "    images_year = ee.ImageCollection(\"ECMWF/ERA5_LAND/HOURLY\")\\\n",
    "                .filterDate(f'{year}', f'{year+1}')\n",
    "    \n",
    "    imgs_day_to_year = []\n",
    "    for day in range(days):\n",
    "        images_day = images_year.filter(ee.Filter.calendarRange(day, day+1, 'day_of_year'))\n",
    "\n",
    "        img_day = images_day.select(bands[0]).mean()\n",
    "\n",
    "        imgs_day_to_year.append(img_day)\n",
    "\n",
    "    for i in range(0, days, day_sep):\n",
    "        image = ee.ImageCollection(imgs_day_to_year[i:i+day_sep]).mean().subtract(273.15)\n",
    "        outfile = f'{var}/{var}_{year}{i+1:03d}.tif'\n",
    "        while not os.path.exists(outfile):\n",
    "            try:\n",
    "                download_image(image, outfile, region=roi, crs=crs,\n",
    "                                     scale=10000)\n",
    "            except:\n",
    "                continue\n",
    "            "
   ]
  },
  {
   "cell_type": "markdown",
   "id": "e738b997",
   "metadata": {},
   "source": [
    "#### TMIN 8day download"
   ]
  },
  {
   "cell_type": "code",
   "execution_count": null,
   "id": "2928fe3a",
   "metadata": {
    "ExecuteTime": {
     "end_time": "2023-02-06T12:48:11.260047Z",
     "start_time": "2023-02-06T11:52:08.330539Z"
    }
   },
   "outputs": [],
   "source": [
    "var = 'TMIN'\n",
    "if not os.path.exists(var):\n",
    "    os.mkdir(var)\n",
    "    \n",
    "for year in range(start_time, end_time):\n",
    "    if (year%4 == 0 and year%400!=0) or (year%400==0):\n",
    "        days = 366\n",
    "    else:\n",
    "        days = 365\n",
    "    images_year = ee.ImageCollection(\"ECMWF/ERA5_LAND/HOURLY\")\\\n",
    "                .filterDate(f'{year}', f'{year+1}')\n",
    "    \n",
    "    imgs_day_to_year = []\n",
    "    for day in range(days):\n",
    "        images_day = images_year.filter(ee.Filter.calendarRange(day, day+1, 'day_of_year'))\n",
    "\n",
    "        img_day = images_day.select(bands[0]).min()\n",
    "\n",
    "        imgs_day_to_year.append(img_day)\n",
    "\n",
    "    for i in range(0, days, day_sep):\n",
    "        image = ee.ImageCollection(imgs_day_to_year[i:i+day_sep]).mean().subtract(273.15)\n",
    "        outfile = f'{var}/{var}_{year}{i+1:03d}.tif'\n",
    "        while not os.path.exists(outfile):\n",
    "            try:\n",
    "                download_image(image, outfile, region=roi, crs=crs,\n",
    "                                     scale=10000)\n",
    "            except:\n",
    "                continue"
   ]
  },
  {
   "cell_type": "markdown",
   "id": "240ccdb7",
   "metadata": {},
   "source": [
    "#### TMAX 8day download"
   ]
  },
  {
   "cell_type": "code",
   "execution_count": null,
   "id": "a638afac",
   "metadata": {
    "ExecuteTime": {
     "start_time": "2023-02-06T10:02:13.894Z"
    }
   },
   "outputs": [],
   "source": [
    "def calc_RHU(img):\n",
    "    Ea = img.expression('0.6108 * exp(17.27 * b(3) / (b(3) + 237.3))')\n",
    "    Etmax = img.expression('0.6108 * exp(17.27 * b(1) / (b(1) + 237.3))')\n",
    "    Etmin = img.expression('0.6108 * exp(17.27 * b(0) / (b(0) + 237.3))')\n",
    "    return Ea.divide(Etmax.add(Etmin).divide(2)).multiply(100)"
   ]
  },
  {
   "cell_type": "code",
   "execution_count": null,
   "id": "3ed9d4d1",
   "metadata": {
    "ExecuteTime": {
     "end_time": "2023-02-06T14:11:48.905325Z",
     "start_time": "2023-02-06T12:48:11.505817Z"
    }
   },
   "outputs": [],
   "source": [
    "var = 'TMAX'\n",
    "if not os.path.exists(var):\n",
    "    os.mkdir(var)\n",
    "    \n",
    "for year in range(start_time, end_time):\n",
    "    if (year%4 == 0 and year%400!=0) or (year%400==0):\n",
    "        days = 366\n",
    "    else:\n",
    "        days = 365\n",
    "    images_year = ee.ImageCollection(\"ECMWF/ERA5_LAND/HOURLY\")\\\n",
    "                .filterDate(f'{year}', f'{year+1}')\n",
    "    \n",
    "    imgs_day_to_year = []\n",
    "    for day in range(days):\n",
    "        images_day = images_year.filter(ee.Filter.calendarRange(day, day+1, 'day_of_year'))\n",
    "\n",
    "        img_day = images_day.select(bands[0]).max()\n",
    "\n",
    "        imgs_day_to_year.append(img_day)\n",
    "\n",
    "    for i in range(0, days, day_sep):\n",
    "        image = ee.ImageCollection(imgs_day_to_year[i:i+day_sep]).mean().subtract(273.15)\n",
    "        outfile = f'{var}/{var}_{year}{i+1:03d}.tif'\n",
    "        while not os.path.exists(outfile):\n",
    "            try:\n",
    "                download_image(image, outfile, region=roi, crs=crs,\n",
    "                                     scale=10000)\n",
    "            except:\n",
    "                continue"
   ]
  },
  {
   "cell_type": "markdown",
   "id": "8c4a1a75",
   "metadata": {},
   "source": [
    "#### WIND 8day download"
   ]
  },
  {
   "cell_type": "code",
   "execution_count": null,
   "id": "3b67e6b8",
   "metadata": {
    "ExecuteTime": {
     "end_time": "2023-02-06T15:22:17.992125Z",
     "start_time": "2023-02-06T14:11:48.910051Z"
    },
    "scrolled": true
   },
   "outputs": [],
   "source": [
    "var = 'WIND'\n",
    "if not os.path.exists(var):\n",
    "    os.mkdir(var)\n",
    "    \n",
    "for year in range(start_time, end_time):\n",
    "    if (year%4 == 0 and year%400!=0) or (year%400==0):\n",
    "        days = 366\n",
    "    else:\n",
    "        days = 365\n",
    "    images_year = ee.ImageCollection(\"ECMWF/ERA5_LAND/HOURLY\")\\\n",
    "                .filterDate(f'{year}', f'{year+1}')\n",
    "    \n",
    "    imgs_day_to_year = []\n",
    "    for day in range(days):\n",
    "        images_day = images_year.filter(ee.Filter.calendarRange(day, day+1, 'day_of_year'))\n",
    "\n",
    "        img_day = images_day.select(bands[6:8])\\\n",
    "                .map(lambda img: img.expression('sqrt(b(0)**2+b(1)**2)')).mean()\n",
    "\n",
    "        imgs_day_to_year.append(img_day)\n",
    "\n",
    "    for i in range(0, days, day_sep):\n",
    "        image = ee.ImageCollection(imgs_day_to_year[i:i+day_sep]).mean()\n",
    "        outfile = f'{var}/{var}_{year}{i+1:03d}.tif'\n",
    "        while not os.path.exists(outfile):\n",
    "            try:\n",
    "                download_image(image, outfile, region=roi, crs=crs,\n",
    "                                     scale=10000)\n",
    "            except:\n",
    "                continue"
   ]
  },
  {
   "cell_type": "markdown",
   "id": "a566d51d",
   "metadata": {},
   "source": [
    "#### RHU 8day download"
   ]
  },
  {
   "cell_type": "code",
   "execution_count": null,
   "id": "eff36daa",
   "metadata": {
    "ExecuteTime": {
     "end_time": "2023-02-06T16:38:10.501212Z",
     "start_time": "2023-02-06T15:22:17.993092Z"
    },
    "scrolled": true
   },
   "outputs": [],
   "source": [
    "var = 'RHU'\n",
    "if not os.path.exists(var):\n",
    "    os.mkdir(var)\n",
    "    \n",
    "for year in range(start_time, end_time):\n",
    "    if (year%4 == 0 and year%400!=0) or (year%400==0):\n",
    "        days = 366\n",
    "    else:\n",
    "        days = 365\n",
    "    images_year = ee.ImageCollection(\"ECMWF/ERA5_LAND/HOURLY\")\\\n",
    "                .filterDate(f'{year}', f'{year+1}')\n",
    "    \n",
    "    imgs_day_to_year = []\n",
    "    for day in range(days):\n",
    "        images_day = images_year.filter(ee.Filter.calendarRange(day, day+1, 'day_of_year'))\n",
    "\n",
    "        tmax = images_day.select(bands[0]).max()\n",
    "        tmin = images_day.select(bands[0]).min()\n",
    "        tdew = images_day.select(bands[1]).mean()\n",
    "        img = ee.Image([tmax, tmin, tdew])\n",
    "        Ea = img.expression('0.6108 * exp(17.27 * b(2) / (237.3 + b(2)))')\n",
    "        Etmax = img.expression('0.6108 * exp(17.27 * b(0) / (237.3 + b(0)))')\n",
    "        Etmin = img.expression('0.6108 * exp(17.27 * b(1) / (237.3 + b(1)))')\n",
    "        Es = Etmax.add(Etmin).divide(2)\n",
    "        img_day = Ea.divide(Es).multiply(100)\n",
    "        \n",
    "        imgs_day_to_year.append(img_day)\n",
    "\n",
    "    for i in range(0, days, day_sep):\n",
    "        image = ee.ImageCollection(imgs_day_to_year[i:i+day_sep]).mean()\n",
    "        outfile = f'{var}/{var}_{year}{i+1:03d}.tif'\n",
    "        while not os.path.exists(outfile):\n",
    "            try:\n",
    "                download_image(image, outfile, region=roi, crs=crs,\n",
    "                                     scale=10000)\n",
    "            except:\n",
    "                continue"
   ]
  },
  {
   "cell_type": "markdown",
   "id": "7ebf9591",
   "metadata": {},
   "source": [
    "#### SNR 8day download"
   ]
  },
  {
   "cell_type": "code",
   "execution_count": null,
   "id": "4a2aad49",
   "metadata": {
    "ExecuteTime": {
     "end_time": "2023-02-07T09:40:59.936046Z",
     "start_time": "2023-02-07T08:53:44.758103Z"
    },
    "scrolled": true
   },
   "outputs": [],
   "source": [
    "var = 'SNR'\n",
    "if not os.path.exists(var):\n",
    "    os.mkdir(var)\n",
    "    \n",
    "for year in range(start_time, end_time):\n",
    "    if (year%4 == 0 and year%400!=0) or (year%400==0):\n",
    "        days = 366\n",
    "    else:\n",
    "        days = 365\n",
    "    images_year = ee.ImageCollection(\"ECMWF/ERA5_LAND/HOURLY\")\\\n",
    "                .filterDate(f'{year}', f'{year+1}')\n",
    "    \n",
    "    imgs_day_to_year = []\n",
    "    for day in range(days):\n",
    "        images_day = images_year.filter(ee.Filter.calendarRange(day, day+1, 'day_of_year'))\n",
    "\n",
    "        sntr = images_day.select(bands[3]).sum()\n",
    "        snsr = images_day.select(bands[4]).sum()\n",
    "        img_day = sntr.add(snsr)\n",
    "        \n",
    "        imgs_day_to_year.append(img_day)\n",
    "\n",
    "    for i in range(0, days, day_sep):\n",
    "        image = ee.ImageCollection(imgs_day_to_year[i:i+day_sep]).mean().divide(1000000)\n",
    "        outfile = f'{var}/{var}_{year}{i+1:03d}.tif'\n",
    "        while not os.path.exists(outfile):\n",
    "            try:\n",
    "                download_image(image, outfile, region=roi, crs=crs,\n",
    "                                     scale=10000)\n",
    "            except:\n",
    "                continue\n"
   ]
  },
  {
   "cell_type": "markdown",
   "id": "9d00c0bc",
   "metadata": {},
   "source": [
    "#### SSRD 8day download"
   ]
  },
  {
   "cell_type": "code",
   "execution_count": null,
   "id": "7cbcac98",
   "metadata": {
    "ExecuteTime": {
     "end_time": "2023-02-07T14:06:19.365997Z",
     "start_time": "2023-02-07T13:00:24.720368Z"
    },
    "scrolled": true
   },
   "outputs": [],
   "source": [
    "var = 'SSRD'\n",
    "if not os.path.exists(var):\n",
    "    os.mkdir(var)\n",
    "    \n",
    "for year in range(start_time, end_time):\n",
    "    if (year%4 == 0 and year%400!=0) or (year%400==0):\n",
    "        days = 366\n",
    "    else:\n",
    "        days = 365\n",
    "    images_year = ee.ImageCollection(\"ECMWF/ERA5_LAND/HOURLY\")\\\n",
    "                .filterDate(f'{year}', f'{year+1}')\n",
    "    \n",
    "    imgs_day_to_year = []\n",
    "    for day in range(days):\n",
    "        images_day = images_year.filter(ee.Filter.calendarRange(day, day+1, 'day_of_year'))\n",
    "\n",
    "        img_day = images_day.select(bands[5]).sum()\n",
    "        \n",
    "        imgs_day_to_year.append(img_day)\n",
    "\n",
    "    for i in range(0, days, day_sep):\n",
    "        image = ee.ImageCollection(imgs_day_to_year[i:i+day_sep]).mean().divide(1000000)\n",
    "        outfile = f'{var}/{var}_{year}{i+1:03d}.tif'\n",
    "        while not os.path.exists(outfile):\n",
    "            try:\n",
    "                download_image(image, outfile, region=roi, crs=crs,\n",
    "                                     scale=10000)\n",
    "            except:\n",
    "                continue"
   ]
  },
  {
   "cell_type": "code",
   "execution_count": null,
   "id": "3d5a4917",
   "metadata": {},
   "outputs": [],
   "source": []
  },
  {
   "cell_type": "code",
   "execution_count": null,
   "id": "1913767c",
   "metadata": {
    "ExecuteTime": {
     "end_time": "2023-02-04T05:22:15.062837Z",
     "start_time": "2023-02-04T05:22:15.046858Z"
    }
   },
   "outputs": [],
   "source": [
    "f'{var}/{var}_{year}{(i)+1:03d}.tif'"
   ]
  },
  {
   "cell_type": "code",
   "execution_count": null,
   "id": "1aff4fd1",
   "metadata": {
    "ExecuteTime": {
     "end_time": "2023-02-04T05:17:55.952691Z",
     "start_time": "2023-02-04T05:17:55.933743Z"
    }
   },
   "outputs": [],
   "source": [
    "for i in range(0, days, day_sep):\n",
    "    print(i)"
   ]
  }
 ],
 "metadata": {
  "kernelspec": {
   "display_name": "Python 3 (ipykernel)",
   "language": "python",
   "name": "python3"
  },
  "language_info": {
   "codemirror_mode": {
    "name": "ipython",
    "version": 3
   },
   "file_extension": ".py",
   "mimetype": "text/x-python",
   "name": "python",
   "nbconvert_exporter": "python",
   "pygments_lexer": "ipython3",
   "version": "3.10.9"
  }
 },
 "nbformat": 4,
 "nbformat_minor": 5
}
