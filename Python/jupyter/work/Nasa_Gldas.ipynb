{
 "cells": [
  {
   "cell_type": "code",
   "execution_count": null,
   "id": "1dfcdbe7",
   "metadata": {},
   "outputs": [],
   "source": [
    "import geemap\n",
    "import ee"
   ]
  },
  {
   "cell_type": "code",
   "execution_count": null,
   "id": "4dff5830",
   "metadata": {},
   "outputs": [],
   "source": [
    "Map = geemap.Map()\n",
    "Map"
   ]
  },
  {
   "cell_type": "code",
   "execution_count": null,
   "id": "0de68521",
   "metadata": {},
   "outputs": [],
   "source": [
    "start = 2000\n",
    "end = 2021\n",
    "for year in range(start, end):\n",
    "    image = ee.ImageCollection(\"NASA/GLDAS/V021/NOAH/G025/T3H\")\\\n",
    "                .filterDate(str(year), str(year+1)).select(\"Qh_tavg\", \"Qle_tavg\").sum()\n",
    "    img = image.select(\"Qh_tavg\").divide(image.select(\"Qle_tavg\"))\n",
    "    geemap.ee_export_image_to_drive(dem_img, description='tavg', \n",
    "                                scale=8000, folder='Image')"
   ]
  },
  {
   "cell_type": "code",
   "execution_count": null,
   "id": "55d092f8",
   "metadata": {},
   "outputs": [],
   "source": []
  }
 ],
 "metadata": {
  "kernelspec": {
   "display_name": "Python 3 (ipykernel)",
   "language": "python",
   "name": "python3"
  },
  "language_info": {
   "codemirror_mode": {
    "name": "ipython",
    "version": 3
   },
   "file_extension": ".py",
   "mimetype": "text/x-python",
   "name": "python",
   "nbconvert_exporter": "python",
   "pygments_lexer": "ipython3",
   "version": "3.9.6"
  }
 },
 "nbformat": 4,
 "nbformat_minor": 5
}
