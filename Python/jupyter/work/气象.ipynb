{
 "cells": [
  {
   "cell_type": "code",
   "execution_count": 1,
   "id": "8242e1c6",
   "metadata": {
    "ExecuteTime": {
     "end_time": "2021-10-13T10:50:30.687804Z",
     "start_time": "2021-10-13T10:50:19.238546Z"
    },
    "tags": []
   },
   "outputs": [
    {
     "data": {
      "text/html": [
       "<p>To authorize access needed by Earth Engine, open the following\n",
       "        URL in a web browser and follow the instructions:</p>\n",
       "        <p><a href=https://code.earthengine.google.com/client-auth?scopes=https%3A//www.googleapis.com/auth/earthengine%20https%3A//www.googleapis.com/auth/devstorage.full_control&request_id=B4QyAnc_gq3M4oT4oYTRHQwWDUjmDQCTk9mv_ZYMhO0&tc=JfMvcn5avCi3UB1lJVRerY13YneAMqBwLg7SJsT2Brw&cc=DgjhChAEVX2ObaGp4nduItiFriC7dzkRt4KLhZ6sR3U>https://code.earthengine.google.com/client-auth?scopes=https%3A//www.googleapis.com/auth/earthengine%20https%3A//www.googleapis.com/auth/devstorage.full_control&request_id=B4QyAnc_gq3M4oT4oYTRHQwWDUjmDQCTk9mv_ZYMhO0&tc=JfMvcn5avCi3UB1lJVRerY13YneAMqBwLg7SJsT2Brw&cc=DgjhChAEVX2ObaGp4nduItiFriC7dzkRt4KLhZ6sR3U</a></p>\n",
       "        <p>The authorization workflow will generate a code, which you should paste in the box below.</p>\n",
       "        "
      ],
      "text/plain": [
       "<IPython.core.display.HTML object>"
      ]
     },
     "metadata": {},
     "output_type": "display_data"
    },
    {
     "name": "stdin",
     "output_type": "stream",
     "text": [
      "Enter verification code:  4/1AWtgzh7gCaLORisS_35CoojrikUYBV8bINqI-2ZWZzqANDRH-EferyUK3i8\n"
     ]
    },
    {
     "name": "stdout",
     "output_type": "stream",
     "text": [
      "\n",
      "Successfully saved authorization token.\n"
     ]
    },
    {
     "data": {
      "application/vnd.jupyter.widget-view+json": {
       "model_id": "afabc7ac662f4d9e9533408d91519c35",
       "version_major": 2,
       "version_minor": 0
      },
      "text/plain": [
       "Map(center=[20, 0], controls=(WidgetControl(options=['position', 'transparent_bg'], widget=HBox(children=(Togg…"
      ]
     },
     "metadata": {},
     "output_type": "display_data"
    }
   ],
   "source": [
    "import geemap\n",
    "import ee\n",
    "Map = geemap.Map()\n",
    "Map"
   ]
  },
  {
   "cell_type": "code",
   "execution_count": null,
   "id": "6a229ee5",
   "metadata": {},
   "outputs": [],
   "source": [
    "roi = Map.draw_last_feature.geometry()"
   ]
  },
  {
   "cell_type": "code",
   "execution_count": null,
   "id": "5e7fcd86",
   "metadata": {
    "ExecuteTime": {
     "end_time": "2021-10-13T10:50:31.141044Z",
     "start_time": "2021-10-13T10:50:30.720803Z"
    }
   },
   "outputs": [],
   "source": [
    "rectangle = ee.Geometry.Rectangle([73, 3, 136, 54])  # ee.Geometry.Rectangle(minLng, minLat, maxLng, maxLat)\n",
    "roi = ee.Geometry(rectangle, None, False)\n",
    "Map.addLayer(roi, {}, 'rectangle')"
   ]
  },
  {
   "cell_type": "code",
   "execution_count": null,
   "id": "7d15f62d",
   "metadata": {},
   "outputs": [],
   "source": [
    "visParams = {\n",
    "  'bands': ['B4', 'B3', 'B2'],\n",
    "  'min': 0,\n",
    "  'max': 3000\n",
    "}"
   ]
  },
  {
   "cell_type": "code",
   "execution_count": null,
   "id": "3f7e6796",
   "metadata": {},
   "outputs": [],
   "source": [
    "image = ee.ImageCollection(\"LANDSAT/LC08/C01/T1_SR\")\\\n",
    "            .filterDate('2018-05', '2018-08').filterBounds(roi).sort('CLOUD_COVER', True)\n",
    "Map.addLayer(image.first(), visParams, 'img')"
   ]
  },
  {
   "cell_type": "code",
   "execution_count": null,
   "id": "2e5029d1",
   "metadata": {},
   "outputs": [],
   "source": [
    "image.aggregate_array('system:id').getInfo()"
   ]
  },
  {
   "cell_type": "code",
   "execution_count": null,
   "id": "74cad230",
   "metadata": {},
   "outputs": [],
   "source": [
    "Map.addLayer(temp_mean.subtract(273).clip(roi), {}, \"a\")"
   ]
  },
  {
   "cell_type": "code",
   "execution_count": null,
   "id": "fa5f7282",
   "metadata": {},
   "outputs": [],
   "source": [
    "clip_dow_merge(roi, images2, r'E:/Data/temp/mean1', 500)"
   ]
  },
  {
   "cell_type": "code",
   "execution_count": null,
   "id": "483d965b",
   "metadata": {},
   "outputs": [],
   "source": [
    "def clip_dow_merge(geo: ee.Geometry, image: ee.Image, outfile: str, scale: int,\n",
    "                   crs='epsg:4326', sep=0.25):\n",
    "    \"\"\"\n",
    "\n",
    "    Args:\n",
    "        geo: ee.Geometry, 需要下载的区域矢量几何\n",
    "        image: ee.Image, 需要下载的影像\n",
    "        outfile: str, 输出文件路径和名称，不需要文件后缀，下载的影响默认后缀为tif\n",
    "        scale: int, 下载时的像元大小\n",
    "        crs: str, 下载影像的投影，默认为 'epsg:4326' wgs1984投影\n",
    "        sep: float, 单波段10m分辨率像元的影像裁剪大小(单位：经纬度)，默认为0.25\n",
    "    Returns: None\n",
    "\n",
    "    \"\"\"\n",
    "    import os\n",
    "    import numpy as np\n",
    "    import rasterio\n",
    "    from glob import glob\n",
    "    from rasterio.merge import merge\n",
    "    import shutil\n",
    "    import geemap\n",
    "    import math\n",
    "    bounds = geo.bounds()\n",
    "    bands = image.bandNames().size().getInfo()\n",
    "    poy = np.array(bounds.coordinates().getInfo()[0])\n",
    "    min_x = poy[:, 0].min()\n",
    "    max_x = poy[:, 0].max()\n",
    "    min_y = poy[:, 1].min()\n",
    "    max_y = poy[:, 1].max()\n",
    "    step = scale / 10 * sep / (int(math.sqrt(bands))+1)\n",
    "    end_x = int((max_x - min_x) / step) + 1\n",
    "    end_y = int((max_y - min_y) / step) + 1\n",
    "    polys = []\n",
    "    for i in range(end_y):\n",
    "        y1 = min_y + step * i\n",
    "        y2 = min_y + step * (i + 1)\n",
    "        if y2 > max_y:\n",
    "            y2 = max_y\n",
    "        for j in range(end_x):\n",
    "            x1 = min_x + step * j\n",
    "            x2 = min_x + step * (j + 1)\n",
    "            if x2 > max_x:\n",
    "                x2 = max_x\n",
    "            poly = ee.Geometry(ee.Geometry.Rectangle([x1, y1, x2, y2]), None, False)\n",
    "            polys.append(poly)\n",
    "    if len(polys) > 1:\n",
    "        print(f\"分割成{len(polys)}份, 开始下载:\")\n",
    "        path = outfile+'_mk'\n",
    "        if not os.path.exists(path):\n",
    "            os.makedirs(path)\n",
    "        for j, i in enumerate(polys):\n",
    "            geemap.ee_export_image(image, path+f'/temp_{j}.tif', scale=scale, crs=crs, region=i)\n",
    "        files = glob(path+\"/*.tif\")\n",
    "        src_files_to_mosaic = []\n",
    "        for tif_f in files:\n",
    "            src = rasterio.open(tif_f)\n",
    "            src_files_to_mosaic.append(src)\n",
    "        mosaic, out_trans = merge(src_files_to_mosaic)\n",
    "        out_meta = src.meta.copy()\n",
    "        out_meta.update({\"driver\": \"GTiff\",\n",
    "                         \"height\": mosaic.shape[1],\n",
    "                         \"width\": mosaic.shape[2],\n",
    "                         \"transform\": out_trans,\n",
    "                         })\n",
    "        with rasterio.open(outfile+\".tif\", \"w\", **out_meta) as dest:\n",
    "            dest.write(mosaic)\n",
    "        for src in src_files_to_mosaic:\n",
    "            src.close()\n",
    "        shutil.rmtree(path)\n",
    "    else:\n",
    "        geemap.ee_export_image(image, outfile+'.tif', scale=scale, crs=crs, region=geo)\n",
    "    print(\"download successful !!!\")\n"
   ]
  },
  {
   "cell_type": "code",
   "execution_count": null,
   "id": "86b73db4",
   "metadata": {},
   "outputs": [],
   "source": []
  }
 ],
 "metadata": {
  "kernelspec": {
   "display_name": "Python 3 (ipykernel)",
   "language": "python",
   "name": "python3"
  },
  "language_info": {
   "codemirror_mode": {
    "name": "ipython",
    "version": 3
   },
   "file_extension": ".py",
   "mimetype": "text/x-python",
   "name": "python",
   "nbconvert_exporter": "python",
   "pygments_lexer": "ipython3",
   "version": "3.10.10"
  },
  "varInspector": {
   "cols": {
    "lenName": 16,
    "lenType": 16,
    "lenVar": 40
   },
   "kernels_config": {
    "python": {
     "delete_cmd_postfix": "",
     "delete_cmd_prefix": "del ",
     "library": "var_list.py",
     "varRefreshCmd": "print(var_dic_list())"
    },
    "r": {
     "delete_cmd_postfix": ") ",
     "delete_cmd_prefix": "rm(",
     "library": "var_list.r",
     "varRefreshCmd": "cat(var_dic_list()) "
    }
   },
   "types_to_exclude": [
    "module",
    "function",
    "builtin_function_or_method",
    "instance",
    "_Feature"
   ],
   "window_display": false
  }
 },
 "nbformat": 4,
 "nbformat_minor": 5
}
