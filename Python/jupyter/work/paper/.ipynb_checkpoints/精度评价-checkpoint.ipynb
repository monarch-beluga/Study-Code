{
 "cells": [
  {
   "cell_type": "code",
   "execution_count": null,
   "metadata": {
    "tags": []
   },
   "outputs": [],
   "source": [
    "path_csv = r'D:\\Data\\parper\\data\\verify_ps.csv'\n",
    "\n",
    "# geemap.zonal_statistics(JX_img, Points1, path_csv, scale=10)"
   ]
  },
  {
   "cell_type": "code",
   "execution_count": null,
   "metadata": {
    "tags": []
   },
   "outputs": [],
   "source": [
    "import pandas as pd\n",
    "data = pd.read_csv(path_csv, sep=',')"
   ]
  },
  {
   "cell_type": "code",
   "execution_count": null,
   "metadata": {
    "tags": []
   },
   "outputs": [],
   "source": [
    "a1 = len(data[(data['mean'] == 3) & (data['TDLYDM'] == 3)])\n",
    "a2 = len(data[(data['mean'] == 3) & (data['TDLYDM'] != 3)])"
   ]
  },
  {
   "cell_type": "code",
   "execution_count": null,
   "metadata": {
    "tags": []
   },
   "outputs": [],
   "source": [
    "b1 = len(data[(data['mean'] != 3) & (data['TDLYDM'] == 3)])\n",
    "b2 = len(data[(data['mean'] != 3) & (data['TDLYDM'] != 3)])"
   ]
  },
  {
   "cell_type": "code",
   "execution_count": null,
   "metadata": {
    "tags": []
   },
   "outputs": [],
   "source": [
    "df = pd.DataFrame({'水稻':[a1, a2], '其他地类':[b1, b2]})\n",
    "df.index = ['水稻', '其他地类']\n",
    "df"
   ]
  },
  {
   "cell_type": "code",
   "execution_count": null,
   "metadata": {
    "tags": []
   },
   "outputs": [],
   "source": [
    "df['Total'] = df.sum(axis=1)\n",
    "df = df.T\n",
    "df['Total'] = df.sum(axis=1)\n",
    "df = df.T\n",
    "df"
   ]
  },
  {
   "cell_type": "code",
   "execution_count": null,
   "metadata": {
    "tags": []
   },
   "outputs": [],
   "source": [
    "Sd = 0\n",
    "PAs = []\n",
    "UAs = []\n",
    "Fs = []\n",
    "for i in df.columns[:-1]:\n",
    "    for j in df.index[:-1]:\n",
    "        if i == j:\n",
    "            PA = df[i][j]/df['Total'][j]*100\n",
    "            UA = df[i][j]/df[i]['Total']*100\n",
    "            F = (PA*UA)/(UA+PA)*2\n",
    "            PA = format(PA, '.2f') + '%'\n",
    "            PAs.append(PA)\n",
    "            Sd += df[i][j]\n",
    "            UA = format(UA, '.2f') + '%'\n",
    "            UAs.append(UA)\n",
    "            F = format(F, '.2f') + '%'\n",
    "            Fs.append(F)"
   ]
  },
  {
   "cell_type": "code",
   "execution_count": null,
   "metadata": {
    "tags": []
   },
   "outputs": [],
   "source": [
    "UAs"
   ]
  },
  {
   "cell_type": "code",
   "execution_count": null,
   "metadata": {
    "tags": []
   },
   "outputs": [],
   "source": [
    "PAs"
   ]
  },
  {
   "cell_type": "code",
   "execution_count": null,
   "metadata": {
    "tags": []
   },
   "outputs": [],
   "source": [
    "OA = format(Sd / df['Total']['Total'] * 100, '.2f') + '%'\n",
    "OA"
   ]
  },
  {
   "cell_type": "code",
   "execution_count": null,
   "metadata": {},
   "outputs": [],
   "source": []
  }
 ],
 "metadata": {
  "kernelspec": {
   "display_name": "Python 3 (ipykernel)",
   "language": "python",
   "name": "python3"
  },
  "language_info": {
   "codemirror_mode": {
    "name": "ipython",
    "version": 3
   },
   "file_extension": ".py",
   "mimetype": "text/x-python",
   "name": "python",
   "nbconvert_exporter": "python",
   "pygments_lexer": "ipython3",
   "version": "3.10.10"
  },
  "varInspector": {
   "cols": {
    "lenName": 16,
    "lenType": 16,
    "lenVar": 40
   },
   "kernels_config": {
    "python": {
     "delete_cmd_postfix": "",
     "delete_cmd_prefix": "del ",
     "library": "var_list.py",
     "varRefreshCmd": "print(var_dic_list())"
    },
    "r": {
     "delete_cmd_postfix": ") ",
     "delete_cmd_prefix": "rm(",
     "library": "var_list.r",
     "varRefreshCmd": "cat(var_dic_list()) "
    }
   },
   "oldHeight": 122.22178,
   "position": {
    "height": "40px",
    "left": "794.01px",
    "right": "20px",
    "top": "120px",
    "width": "250.434px"
   },
   "types_to_exclude": [
    "module",
    "function",
    "builtin_function_or_method",
    "instance",
    "_Feature"
   ],
   "varInspector_section_display": "none",
   "window_display": true
  }
 },
 "nbformat": 4,
 "nbformat_minor": 4
}
