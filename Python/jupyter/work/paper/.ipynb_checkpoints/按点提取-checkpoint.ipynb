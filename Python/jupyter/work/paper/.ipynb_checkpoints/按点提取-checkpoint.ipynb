{
 "cells": [
  {
   "cell_type": "code",
   "execution_count": 1,
   "metadata": {
    "tags": []
   },
   "outputs": [],
   "source": [
    "import geemap\n",
    "import ee"
   ]
  },
  {
   "cell_type": "code",
   "execution_count": 17,
   "metadata": {
    "tags": []
   },
   "outputs": [
    {
     "data": {
      "application/vnd.jupyter.widget-view+json": {
       "model_id": "f90265615c5541a4a8d1aa81081b04b9",
       "version_major": 2,
       "version_minor": 0
      },
      "text/plain": [
       "Map(center=[20, 0], controls=(WidgetControl(options=['position', 'transparent_bg'], widget=HBox(children=(Togg…"
      ]
     },
     "metadata": {},
     "output_type": "display_data"
    }
   ],
   "source": [
    "Map = geemap.Map()\n",
    "Map"
   ]
  },
  {
   "cell_type": "code",
   "execution_count": 25,
   "metadata": {
    "tags": []
   },
   "outputs": [
    {
     "data": {
      "text/html": [
       "<div><style>:root {\n",
       "  --font-color-primary: var(--jp-content-font-color0, rgba(0, 0, 0, 1));\n",
       "  --font-color-secondary: var(--jp-content-font-color2, rgba(0, 0, 0, 0.6));\n",
       "  --font-color-accent: rgba(123, 31, 162, 1);\n",
       "  --border-color: var(--jp-border-color2, #e0e0e0);\n",
       "  --background-color: var(--jp-layout-color0, white);\n",
       "  --background-color-row-even: var(--jp-layout-color1, white);\n",
       "  --background-color-row-odd: var(--jp-layout-color2, #eeeeee);\n",
       "}\n",
       "\n",
       "html[theme=\"dark\"],\n",
       "body[data-theme=\"dark\"],\n",
       "body.vscode-dark {\n",
       "  --font-color-primary: rgba(255, 255, 255, 1);\n",
       "  --font-color-secondary: rgba(255, 255, 255, 0.6);\n",
       "  --font-color-accent: rgb(173, 132, 190);\n",
       "  --border-color: #2e2e2e;\n",
       "  --background-color: #111111;\n",
       "  --background-color-row-even: #111111;\n",
       "  --background-color-row-odd: #313131;\n",
       "}\n",
       "\n",
       ".ee {\n",
       "  padding: 1em;\n",
       "  line-height: 1.5em;\n",
       "  min-width: 300px;\n",
       "  max-width: 1200px;\n",
       "  overflow-y: scroll;\n",
       "  max-height: 600px;\n",
       "  border: 1px solid var(--border-color);\n",
       "  font-family: monospace;\n",
       "}\n",
       "\n",
       ".ee li {\n",
       "  list-style-type: none;\n",
       "}\n",
       "\n",
       ".ee ul {\n",
       "  padding-left: 1.5em !important;\n",
       "  margin: 0;\n",
       "}\n",
       "\n",
       ".ee > ul {\n",
       "  padding-left: 0 !important;\n",
       "}\n",
       "\n",
       ".ee-open,\n",
       ".ee-shut {\n",
       "  color: var(--font-color-secondary);\n",
       "  cursor: pointer;\n",
       "  margin: 0;\n",
       "}\n",
       "\n",
       ".ee-open:hover,\n",
       ".ee-shut:hover {\n",
       "  color: var(--font-color-primary);\n",
       "}\n",
       "\n",
       ".ee-k {\n",
       "  color: var(--font-color-accent);\n",
       "  margin-right: 6px;\n",
       "}\n",
       "\n",
       ".ee-v {\n",
       "  color: var(--font-color-primary);\n",
       "}\n",
       "\n",
       ".ee-toggle {\n",
       "  display: none;\n",
       "}\n",
       "\n",
       ".ee-shut + ul {\n",
       "  display: none;\n",
       "}\n",
       "\n",
       ".ee-open + ul {\n",
       "  display: block;\n",
       "}\n",
       "\n",
       ".ee-shut::before {\n",
       "  display: inline-block;\n",
       "  content: \"▼\";\n",
       "  margin-right: 6px;\n",
       "  transform: rotate(-90deg);\n",
       "  transition: transform 0.2s;\n",
       "}\n",
       "\n",
       ".ee-open::before {\n",
       "  transform: rotate(0deg);\n",
       "  display: inline-block;\n",
       "  content: \"▼\";\n",
       "  margin-right: 6px;\n",
       "  transition: transform 0.2s;\n",
       "}\n",
       "</style><div class='ee'><ul><li><label class='ee-shut'>FeatureCollection (5 elements, 2 columns)<input type='checkbox' class='ee-toggle'></label><ul><li><span class='ee-k'>type:</span><span class='ee-v'>FeatureCollection</span></li><li><label class='ee-shut'>columns: Object (2 properties)<input type='checkbox' class='ee-toggle'></label><ul><li><span class='ee-k'>first:</span><span class='ee-v'>Short</span></li><li><span class='ee-k'>system:index:</span><span class='ee-v'>String</span></li></ul></li><li><label class='ee-shut'>features: List (5 elements)<input type='checkbox' class='ee-toggle'></label><ul><li><label class='ee-shut'>0: Feature (Point, 1 property)<input type='checkbox' class='ee-toggle'></label><ul><li><span class='ee-k'>type:</span><span class='ee-v'>Feature</span></li><li><span class='ee-k'>id:</span><span class='ee-v'>0</span></li><li><label class='ee-shut'>geometry: Point (47.31, 22.43)<input type='checkbox' class='ee-toggle'></label><ul><li><span class='ee-k'>type:</span><span class='ee-v'>Point</span></li><li><label class='ee-shut'>coordinates: [47.308608, 22.43134]<input type='checkbox' class='ee-toggle'></label><ul><li><span class='ee-k'>0:</span><span class='ee-v'>47.308608</span></li><li><span class='ee-k'>1:</span><span class='ee-v'>22.43134</span></li></ul></li></ul></li><li><label class='ee-shut'>properties: Object (1 property)<input type='checkbox' class='ee-toggle'></label><ul><li><span class='ee-k'>first:</span><span class='ee-v'>817</span></li></ul></li></ul></li><li><label class='ee-shut'>1: Feature (Point, 1 property)<input type='checkbox' class='ee-toggle'></label><ul><li><span class='ee-k'>type:</span><span class='ee-v'>Feature</span></li><li><span class='ee-k'>id:</span><span class='ee-v'>1</span></li><li><label class='ee-shut'>geometry: Point (49.86, 18.98)<input type='checkbox' class='ee-toggle'></label><ul><li><span class='ee-k'>type:</span><span class='ee-v'>Point</span></li><li><label class='ee-shut'>coordinates: [49.856834, 18.979026]<input type='checkbox' class='ee-toggle'></label><ul><li><span class='ee-k'>0:</span><span class='ee-v'>49.856834</span></li><li><span class='ee-k'>1:</span><span class='ee-v'>18.979026</span></li></ul></li></ul></li><li><label class='ee-shut'>properties: Object (1 property)<input type='checkbox' class='ee-toggle'></label><ul><li><span class='ee-k'>first:</span><span class='ee-v'>1203</span></li></ul></li></ul></li><li><label class='ee-shut'>2: Feature (Point, 1 property)<input type='checkbox' class='ee-toggle'></label><ul><li><span class='ee-k'>type:</span><span class='ee-v'>Feature</span></li><li><span class='ee-k'>id:</span><span class='ee-v'>2</span></li><li><label class='ee-shut'>geometry: Point (54.91, 19.19)<input type='checkbox' class='ee-toggle'></label><ul><li><span class='ee-k'>type:</span><span class='ee-v'>Point</span></li><li><label class='ee-shut'>coordinates: [54.909351, 19.186678]<input type='checkbox' class='ee-toggle'></label><ul><li><span class='ee-k'>0:</span><span class='ee-v'>54.909351</span></li><li><span class='ee-k'>1:</span><span class='ee-v'>19.186678</span></li></ul></li></ul></li><li><label class='ee-shut'>properties: Object (1 property)<input type='checkbox' class='ee-toggle'></label><ul><li><span class='ee-k'>first:</span><span class='ee-v'>917</span></li></ul></li></ul></li><li><label class='ee-shut'>3: Feature (Point, 0 properties)<input type='checkbox' class='ee-toggle'></label><ul><li><span class='ee-k'>type:</span><span class='ee-v'>Feature</span></li><li><span class='ee-k'>id:</span><span class='ee-v'>3</span></li><li><label class='ee-shut'>geometry: Point (62.11, 12.04)<input type='checkbox' class='ee-toggle'></label><ul><li><span class='ee-k'>type:</span><span class='ee-v'>Point</span></li><li><label class='ee-shut'>coordinates: [62.11468, 12.039321]<input type='checkbox' class='ee-toggle'></label><ul><li><span class='ee-k'>0:</span><span class='ee-v'>62.11468</span></li><li><span class='ee-k'>1:</span><span class='ee-v'>12.039321</span></li></ul></li></ul></li><li><label class='ee-shut'>properties: Object (0 properties)<input type='checkbox' class='ee-toggle'></label><ul></ul></li></ul></li><li><label class='ee-shut'>4: Feature (Point, 0 properties)<input type='checkbox' class='ee-toggle'></label><ul><li><span class='ee-k'>type:</span><span class='ee-v'>Feature</span></li><li><span class='ee-k'>id:</span><span class='ee-v'>4</span></li><li><label class='ee-shut'>geometry: Point (65.10, 18.15)<input type='checkbox' class='ee-toggle'></label><ul><li><span class='ee-k'>type:</span><span class='ee-v'>Point</span></li><li><label class='ee-shut'>coordinates: [65.102255, 18.145852]<input type='checkbox' class='ee-toggle'></label><ul><li><span class='ee-k'>0:</span><span class='ee-v'>65.102255</span></li><li><span class='ee-k'>1:</span><span class='ee-v'>18.145852</span></li></ul></li></ul></li><li><label class='ee-shut'>properties: Object (0 properties)<input type='checkbox' class='ee-toggle'></label><ul></ul></li></ul></li></ul></li></ul></li></ul></div><script>function toggleHeader() {\n",
       "    const parent = this.parentElement;\n",
       "    parent.className = parent.className === \"ee-open\" ? \"ee-shut\" : \"ee-open\";\n",
       "}\n",
       "\n",
       "for (let c of document.getElementsByClassName(\"ee-toggle\")) {\n",
       "    c.onclick = toggleHeader;\n",
       "}</script></div>"
      ],
      "text/plain": [
       "<ee.featurecollection.FeatureCollection at 0x1c49cc89a50>"
      ]
     },
     "execution_count": 25,
     "metadata": {},
     "output_type": "execute_result"
    }
   ],
   "source": [
    "geemap.extract_values_to_points(temp_point, MOD13, scale=5000, stats_type='FIRST')"
   ]
  },
  {
   "cell_type": "code",
   "execution_count": 27,
   "metadata": {
    "tags": []
   },
   "outputs": [
    {
     "data": {
      "text/html": [
       "<div><style>:root {\n",
       "  --font-color-primary: var(--jp-content-font-color0, rgba(0, 0, 0, 1));\n",
       "  --font-color-secondary: var(--jp-content-font-color2, rgba(0, 0, 0, 0.6));\n",
       "  --font-color-accent: rgba(123, 31, 162, 1);\n",
       "  --border-color: var(--jp-border-color2, #e0e0e0);\n",
       "  --background-color: var(--jp-layout-color0, white);\n",
       "  --background-color-row-even: var(--jp-layout-color1, white);\n",
       "  --background-color-row-odd: var(--jp-layout-color2, #eeeeee);\n",
       "}\n",
       "\n",
       "html[theme=\"dark\"],\n",
       "body[data-theme=\"dark\"],\n",
       "body.vscode-dark {\n",
       "  --font-color-primary: rgba(255, 255, 255, 1);\n",
       "  --font-color-secondary: rgba(255, 255, 255, 0.6);\n",
       "  --font-color-accent: rgb(173, 132, 190);\n",
       "  --border-color: #2e2e2e;\n",
       "  --background-color: #111111;\n",
       "  --background-color-row-even: #111111;\n",
       "  --background-color-row-odd: #313131;\n",
       "}\n",
       "\n",
       ".ee {\n",
       "  padding: 1em;\n",
       "  line-height: 1.5em;\n",
       "  min-width: 300px;\n",
       "  max-width: 1200px;\n",
       "  overflow-y: scroll;\n",
       "  max-height: 600px;\n",
       "  border: 1px solid var(--border-color);\n",
       "  font-family: monospace;\n",
       "}\n",
       "\n",
       ".ee li {\n",
       "  list-style-type: none;\n",
       "}\n",
       "\n",
       ".ee ul {\n",
       "  padding-left: 1.5em !important;\n",
       "  margin: 0;\n",
       "}\n",
       "\n",
       ".ee > ul {\n",
       "  padding-left: 0 !important;\n",
       "}\n",
       "\n",
       ".ee-open,\n",
       ".ee-shut {\n",
       "  color: var(--font-color-secondary);\n",
       "  cursor: pointer;\n",
       "  margin: 0;\n",
       "}\n",
       "\n",
       ".ee-open:hover,\n",
       ".ee-shut:hover {\n",
       "  color: var(--font-color-primary);\n",
       "}\n",
       "\n",
       ".ee-k {\n",
       "  color: var(--font-color-accent);\n",
       "  margin-right: 6px;\n",
       "}\n",
       "\n",
       ".ee-v {\n",
       "  color: var(--font-color-primary);\n",
       "}\n",
       "\n",
       ".ee-toggle {\n",
       "  display: none;\n",
       "}\n",
       "\n",
       ".ee-shut + ul {\n",
       "  display: none;\n",
       "}\n",
       "\n",
       ".ee-open + ul {\n",
       "  display: block;\n",
       "}\n",
       "\n",
       ".ee-shut::before {\n",
       "  display: inline-block;\n",
       "  content: \"▼\";\n",
       "  margin-right: 6px;\n",
       "  transform: rotate(-90deg);\n",
       "  transition: transform 0.2s;\n",
       "}\n",
       "\n",
       ".ee-open::before {\n",
       "  transform: rotate(0deg);\n",
       "  display: inline-block;\n",
       "  content: \"▼\";\n",
       "  margin-right: 6px;\n",
       "  transition: transform 0.2s;\n",
       "}\n",
       "</style><div class='ee'><ul><li><label class='ee-shut'>FeatureCollection (5 elements, 2 columns)<input type='checkbox' class='ee-toggle'></label><ul><li><span class='ee-k'>type:</span><span class='ee-v'>FeatureCollection</span></li><li><label class='ee-shut'>columns: Object (2 properties)<input type='checkbox' class='ee-toggle'></label><ul><li><span class='ee-k'>max:</span><span class='ee-v'>Short</span></li><li><span class='ee-k'>system:index:</span><span class='ee-v'>String</span></li></ul></li><li><label class='ee-shut'>features: List (5 elements)<input type='checkbox' class='ee-toggle'></label><ul><li><label class='ee-shut'>0: Feature (Point, 1 property)<input type='checkbox' class='ee-toggle'></label><ul><li><span class='ee-k'>type:</span><span class='ee-v'>Feature</span></li><li><span class='ee-k'>id:</span><span class='ee-v'>0</span></li><li><label class='ee-shut'>geometry: Point (47.31, 22.43)<input type='checkbox' class='ee-toggle'></label><ul><li><span class='ee-k'>type:</span><span class='ee-v'>Point</span></li><li><label class='ee-shut'>coordinates: [47.308608, 22.43134]<input type='checkbox' class='ee-toggle'></label><ul><li><span class='ee-k'>0:</span><span class='ee-v'>47.308608</span></li><li><span class='ee-k'>1:</span><span class='ee-v'>22.43134</span></li></ul></li></ul></li><li><label class='ee-shut'>properties: Object (1 property)<input type='checkbox' class='ee-toggle'></label><ul><li><span class='ee-k'>max:</span><span class='ee-v'>817</span></li></ul></li></ul></li><li><label class='ee-shut'>1: Feature (Point, 1 property)<input type='checkbox' class='ee-toggle'></label><ul><li><span class='ee-k'>type:</span><span class='ee-v'>Feature</span></li><li><span class='ee-k'>id:</span><span class='ee-v'>1</span></li><li><label class='ee-shut'>geometry: Point (49.86, 18.98)<input type='checkbox' class='ee-toggle'></label><ul><li><span class='ee-k'>type:</span><span class='ee-v'>Point</span></li><li><label class='ee-shut'>coordinates: [49.856834, 18.979026]<input type='checkbox' class='ee-toggle'></label><ul><li><span class='ee-k'>0:</span><span class='ee-v'>49.856834</span></li><li><span class='ee-k'>1:</span><span class='ee-v'>18.979026</span></li></ul></li></ul></li><li><label class='ee-shut'>properties: Object (1 property)<input type='checkbox' class='ee-toggle'></label><ul><li><span class='ee-k'>max:</span><span class='ee-v'>1203</span></li></ul></li></ul></li><li><label class='ee-shut'>2: Feature (Point, 1 property)<input type='checkbox' class='ee-toggle'></label><ul><li><span class='ee-k'>type:</span><span class='ee-v'>Feature</span></li><li><span class='ee-k'>id:</span><span class='ee-v'>2</span></li><li><label class='ee-shut'>geometry: Point (54.91, 19.19)<input type='checkbox' class='ee-toggle'></label><ul><li><span class='ee-k'>type:</span><span class='ee-v'>Point</span></li><li><label class='ee-shut'>coordinates: [54.909351, 19.186678]<input type='checkbox' class='ee-toggle'></label><ul><li><span class='ee-k'>0:</span><span class='ee-v'>54.909351</span></li><li><span class='ee-k'>1:</span><span class='ee-v'>19.186678</span></li></ul></li></ul></li><li><label class='ee-shut'>properties: Object (1 property)<input type='checkbox' class='ee-toggle'></label><ul><li><span class='ee-k'>max:</span><span class='ee-v'>917</span></li></ul></li></ul></li><li><label class='ee-shut'>3: Feature (Point, 0 properties)<input type='checkbox' class='ee-toggle'></label><ul><li><span class='ee-k'>type:</span><span class='ee-v'>Feature</span></li><li><span class='ee-k'>id:</span><span class='ee-v'>3</span></li><li><label class='ee-shut'>geometry: Point (62.11, 12.04)<input type='checkbox' class='ee-toggle'></label><ul><li><span class='ee-k'>type:</span><span class='ee-v'>Point</span></li><li><label class='ee-shut'>coordinates: [62.11468, 12.039321]<input type='checkbox' class='ee-toggle'></label><ul><li><span class='ee-k'>0:</span><span class='ee-v'>62.11468</span></li><li><span class='ee-k'>1:</span><span class='ee-v'>12.039321</span></li></ul></li></ul></li><li><label class='ee-shut'>properties: Object (0 properties)<input type='checkbox' class='ee-toggle'></label><ul></ul></li></ul></li><li><label class='ee-shut'>4: Feature (Point, 0 properties)<input type='checkbox' class='ee-toggle'></label><ul><li><span class='ee-k'>type:</span><span class='ee-v'>Feature</span></li><li><span class='ee-k'>id:</span><span class='ee-v'>4</span></li><li><label class='ee-shut'>geometry: Point (65.10, 18.15)<input type='checkbox' class='ee-toggle'></label><ul><li><span class='ee-k'>type:</span><span class='ee-v'>Point</span></li><li><label class='ee-shut'>coordinates: [65.102255, 18.145852]<input type='checkbox' class='ee-toggle'></label><ul><li><span class='ee-k'>0:</span><span class='ee-v'>65.102255</span></li><li><span class='ee-k'>1:</span><span class='ee-v'>18.145852</span></li></ul></li></ul></li><li><label class='ee-shut'>properties: Object (0 properties)<input type='checkbox' class='ee-toggle'></label><ul></ul></li></ul></li></ul></li></ul></li></ul></div><script>function toggleHeader() {\n",
       "    const parent = this.parentElement;\n",
       "    parent.className = parent.className === \"ee-open\" ? \"ee-shut\" : \"ee-open\";\n",
       "}\n",
       "\n",
       "for (let c of document.getElementsByClassName(\"ee-toggle\")) {\n",
       "    c.onclick = toggleHeader;\n",
       "}</script></div>"
      ],
      "text/plain": [
       "<ee.featurecollection.FeatureCollection at 0x1c49cca1e40>"
      ]
     },
     "execution_count": 27,
     "metadata": {},
     "output_type": "execute_result"
    }
   ],
   "source": [
    "geemap.extract_values_to_points(temp_point, MOD13, scale=5000, stats_type='MAXIMUM')"
   ]
  },
  {
   "cell_type": "code",
   "execution_count": 13,
   "metadata": {
    "tags": []
   },
   "outputs": [],
   "source": [
    "# 导入需要提取的图像\n",
    "MOD13 = ee.ImageCollection('MODIS/006/MOD13A2')\\\n",
    "    .filterDate('2018-01', '2018-02').max().select('NDVI')\n",
    "\n",
    "Map.addLayer(MOD13, {}, 'MOD13')"
   ]
  },
  {
   "cell_type": "code",
   "execution_count": 28,
   "metadata": {
    "scrolled": true,
    "tags": []
   },
   "outputs": [
    {
     "data": {
      "text/html": [
       "<div><style>:root {\n",
       "  --font-color-primary: var(--jp-content-font-color0, rgba(0, 0, 0, 1));\n",
       "  --font-color-secondary: var(--jp-content-font-color2, rgba(0, 0, 0, 0.6));\n",
       "  --font-color-accent: rgba(123, 31, 162, 1);\n",
       "  --border-color: var(--jp-border-color2, #e0e0e0);\n",
       "  --background-color: var(--jp-layout-color0, white);\n",
       "  --background-color-row-even: var(--jp-layout-color1, white);\n",
       "  --background-color-row-odd: var(--jp-layout-color2, #eeeeee);\n",
       "}\n",
       "\n",
       "html[theme=\"dark\"],\n",
       "body[data-theme=\"dark\"],\n",
       "body.vscode-dark {\n",
       "  --font-color-primary: rgba(255, 255, 255, 1);\n",
       "  --font-color-secondary: rgba(255, 255, 255, 0.6);\n",
       "  --font-color-accent: rgb(173, 132, 190);\n",
       "  --border-color: #2e2e2e;\n",
       "  --background-color: #111111;\n",
       "  --background-color-row-even: #111111;\n",
       "  --background-color-row-odd: #313131;\n",
       "}\n",
       "\n",
       ".ee {\n",
       "  padding: 1em;\n",
       "  line-height: 1.5em;\n",
       "  min-width: 300px;\n",
       "  max-width: 1200px;\n",
       "  overflow-y: scroll;\n",
       "  max-height: 600px;\n",
       "  border: 1px solid var(--border-color);\n",
       "  font-family: monospace;\n",
       "}\n",
       "\n",
       ".ee li {\n",
       "  list-style-type: none;\n",
       "}\n",
       "\n",
       ".ee ul {\n",
       "  padding-left: 1.5em !important;\n",
       "  margin: 0;\n",
       "}\n",
       "\n",
       ".ee > ul {\n",
       "  padding-left: 0 !important;\n",
       "}\n",
       "\n",
       ".ee-open,\n",
       ".ee-shut {\n",
       "  color: var(--font-color-secondary);\n",
       "  cursor: pointer;\n",
       "  margin: 0;\n",
       "}\n",
       "\n",
       ".ee-open:hover,\n",
       ".ee-shut:hover {\n",
       "  color: var(--font-color-primary);\n",
       "}\n",
       "\n",
       ".ee-k {\n",
       "  color: var(--font-color-accent);\n",
       "  margin-right: 6px;\n",
       "}\n",
       "\n",
       ".ee-v {\n",
       "  color: var(--font-color-primary);\n",
       "}\n",
       "\n",
       ".ee-toggle {\n",
       "  display: none;\n",
       "}\n",
       "\n",
       ".ee-shut + ul {\n",
       "  display: none;\n",
       "}\n",
       "\n",
       ".ee-open + ul {\n",
       "  display: block;\n",
       "}\n",
       "\n",
       ".ee-shut::before {\n",
       "  display: inline-block;\n",
       "  content: \"▼\";\n",
       "  margin-right: 6px;\n",
       "  transform: rotate(-90deg);\n",
       "  transition: transform 0.2s;\n",
       "}\n",
       "\n",
       ".ee-open::before {\n",
       "  transform: rotate(0deg);\n",
       "  display: inline-block;\n",
       "  content: \"▼\";\n",
       "  margin-right: 6px;\n",
       "  transition: transform 0.2s;\n",
       "}\n",
       "</style><div class='ee'><ul><li><label class='ee-shut'>FeatureCollection (5 elements, 1 column)<input type='checkbox' class='ee-toggle'></label><ul><li><span class='ee-k'>type:</span><span class='ee-v'>FeatureCollection</span></li><li><label class='ee-shut'>columns: Object (1 property)<input type='checkbox' class='ee-toggle'></label><ul><li><span class='ee-k'>system:index:</span><span class='ee-v'>String</span></li></ul></li><li><label class='ee-shut'>features: List (5 elements)<input type='checkbox' class='ee-toggle'></label><ul><li><label class='ee-shut'>0: Feature (Point, 0 properties)<input type='checkbox' class='ee-toggle'></label><ul><li><span class='ee-k'>type:</span><span class='ee-v'>Feature</span></li><li><span class='ee-k'>id:</span><span class='ee-v'>0</span></li><li><label class='ee-shut'>geometry: Point (47.31, 22.43)<input type='checkbox' class='ee-toggle'></label><ul><li><span class='ee-k'>type:</span><span class='ee-v'>Point</span></li><li><label class='ee-shut'>coordinates: [47.308608, 22.43134]<input type='checkbox' class='ee-toggle'></label><ul><li><span class='ee-k'>0:</span><span class='ee-v'>47.308608</span></li><li><span class='ee-k'>1:</span><span class='ee-v'>22.43134</span></li></ul></li></ul></li><li><label class='ee-shut'>properties: Object (0 properties)<input type='checkbox' class='ee-toggle'></label><ul></ul></li></ul></li><li><label class='ee-shut'>1: Feature (Point, 0 properties)<input type='checkbox' class='ee-toggle'></label><ul><li><span class='ee-k'>type:</span><span class='ee-v'>Feature</span></li><li><span class='ee-k'>id:</span><span class='ee-v'>1</span></li><li><label class='ee-shut'>geometry: Point (49.86, 18.98)<input type='checkbox' class='ee-toggle'></label><ul><li><span class='ee-k'>type:</span><span class='ee-v'>Point</span></li><li><label class='ee-shut'>coordinates: [49.856834, 18.979026]<input type='checkbox' class='ee-toggle'></label><ul><li><span class='ee-k'>0:</span><span class='ee-v'>49.856834</span></li><li><span class='ee-k'>1:</span><span class='ee-v'>18.979026</span></li></ul></li></ul></li><li><label class='ee-shut'>properties: Object (0 properties)<input type='checkbox' class='ee-toggle'></label><ul></ul></li></ul></li><li><label class='ee-shut'>2: Feature (Point, 0 properties)<input type='checkbox' class='ee-toggle'></label><ul><li><span class='ee-k'>type:</span><span class='ee-v'>Feature</span></li><li><span class='ee-k'>id:</span><span class='ee-v'>2</span></li><li><label class='ee-shut'>geometry: Point (54.91, 19.19)<input type='checkbox' class='ee-toggle'></label><ul><li><span class='ee-k'>type:</span><span class='ee-v'>Point</span></li><li><label class='ee-shut'>coordinates: [54.909351, 19.186678]<input type='checkbox' class='ee-toggle'></label><ul><li><span class='ee-k'>0:</span><span class='ee-v'>54.909351</span></li><li><span class='ee-k'>1:</span><span class='ee-v'>19.186678</span></li></ul></li></ul></li><li><label class='ee-shut'>properties: Object (0 properties)<input type='checkbox' class='ee-toggle'></label><ul></ul></li></ul></li><li><label class='ee-shut'>3: Feature (Point, 0 properties)<input type='checkbox' class='ee-toggle'></label><ul><li><span class='ee-k'>type:</span><span class='ee-v'>Feature</span></li><li><span class='ee-k'>id:</span><span class='ee-v'>3</span></li><li><label class='ee-shut'>geometry: Point (62.11, 12.04)<input type='checkbox' class='ee-toggle'></label><ul><li><span class='ee-k'>type:</span><span class='ee-v'>Point</span></li><li><label class='ee-shut'>coordinates: [62.11468, 12.039321]<input type='checkbox' class='ee-toggle'></label><ul><li><span class='ee-k'>0:</span><span class='ee-v'>62.11468</span></li><li><span class='ee-k'>1:</span><span class='ee-v'>12.039321</span></li></ul></li></ul></li><li><label class='ee-shut'>properties: Object (0 properties)<input type='checkbox' class='ee-toggle'></label><ul></ul></li></ul></li><li><label class='ee-shut'>4: Feature (Point, 0 properties)<input type='checkbox' class='ee-toggle'></label><ul><li><span class='ee-k'>type:</span><span class='ee-v'>Feature</span></li><li><span class='ee-k'>id:</span><span class='ee-v'>4</span></li><li><label class='ee-shut'>geometry: Point (65.10, 18.15)<input type='checkbox' class='ee-toggle'></label><ul><li><span class='ee-k'>type:</span><span class='ee-v'>Point</span></li><li><label class='ee-shut'>coordinates: [65.102255, 18.145852]<input type='checkbox' class='ee-toggle'></label><ul><li><span class='ee-k'>0:</span><span class='ee-v'>65.102255</span></li><li><span class='ee-k'>1:</span><span class='ee-v'>18.145852</span></li></ul></li></ul></li><li><label class='ee-shut'>properties: Object (0 properties)<input type='checkbox' class='ee-toggle'></label><ul></ul></li></ul></li></ul></li></ul></li></ul></div><script>function toggleHeader() {\n",
       "    const parent = this.parentElement;\n",
       "    parent.className = parent.className === \"ee-open\" ? \"ee-shut\" : \"ee-open\";\n",
       "}\n",
       "\n",
       "for (let c of document.getElementsByClassName(\"ee-toggle\")) {\n",
       "    c.onclick = toggleHeader;\n",
       "}</script></div>"
      ],
      "text/plain": [
       "<ee.featurecollection.FeatureCollection at 0x1c49cc8bd00>"
      ]
     },
     "execution_count": 28,
     "metadata": {},
     "output_type": "execute_result"
    }
   ],
   "source": [
    "# 在Map上建立点集\n",
    "temp_point = ee.FeatureCollection(Map.draw_features)\n",
    "temp_point"
   ]
  },
  {
   "cell_type": "code",
   "execution_count": 30,
   "metadata": {
    "tags": []
   },
   "outputs": [
    {
     "data": {
      "text/html": [
       "<div><style>:root {\n",
       "  --font-color-primary: var(--jp-content-font-color0, rgba(0, 0, 0, 1));\n",
       "  --font-color-secondary: var(--jp-content-font-color2, rgba(0, 0, 0, 0.6));\n",
       "  --font-color-accent: rgba(123, 31, 162, 1);\n",
       "  --border-color: var(--jp-border-color2, #e0e0e0);\n",
       "  --background-color: var(--jp-layout-color0, white);\n",
       "  --background-color-row-even: var(--jp-layout-color1, white);\n",
       "  --background-color-row-odd: var(--jp-layout-color2, #eeeeee);\n",
       "}\n",
       "\n",
       "html[theme=\"dark\"],\n",
       "body[data-theme=\"dark\"],\n",
       "body.vscode-dark {\n",
       "  --font-color-primary: rgba(255, 255, 255, 1);\n",
       "  --font-color-secondary: rgba(255, 255, 255, 0.6);\n",
       "  --font-color-accent: rgb(173, 132, 190);\n",
       "  --border-color: #2e2e2e;\n",
       "  --background-color: #111111;\n",
       "  --background-color-row-even: #111111;\n",
       "  --background-color-row-odd: #313131;\n",
       "}\n",
       "\n",
       ".ee {\n",
       "  padding: 1em;\n",
       "  line-height: 1.5em;\n",
       "  min-width: 300px;\n",
       "  max-width: 1200px;\n",
       "  overflow-y: scroll;\n",
       "  max-height: 600px;\n",
       "  border: 1px solid var(--border-color);\n",
       "  font-family: monospace;\n",
       "}\n",
       "\n",
       ".ee li {\n",
       "  list-style-type: none;\n",
       "}\n",
       "\n",
       ".ee ul {\n",
       "  padding-left: 1.5em !important;\n",
       "  margin: 0;\n",
       "}\n",
       "\n",
       ".ee > ul {\n",
       "  padding-left: 0 !important;\n",
       "}\n",
       "\n",
       ".ee-open,\n",
       ".ee-shut {\n",
       "  color: var(--font-color-secondary);\n",
       "  cursor: pointer;\n",
       "  margin: 0;\n",
       "}\n",
       "\n",
       ".ee-open:hover,\n",
       ".ee-shut:hover {\n",
       "  color: var(--font-color-primary);\n",
       "}\n",
       "\n",
       ".ee-k {\n",
       "  color: var(--font-color-accent);\n",
       "  margin-right: 6px;\n",
       "}\n",
       "\n",
       ".ee-v {\n",
       "  color: var(--font-color-primary);\n",
       "}\n",
       "\n",
       ".ee-toggle {\n",
       "  display: none;\n",
       "}\n",
       "\n",
       ".ee-shut + ul {\n",
       "  display: none;\n",
       "}\n",
       "\n",
       ".ee-open + ul {\n",
       "  display: block;\n",
       "}\n",
       "\n",
       ".ee-shut::before {\n",
       "  display: inline-block;\n",
       "  content: \"▼\";\n",
       "  margin-right: 6px;\n",
       "  transform: rotate(-90deg);\n",
       "  transition: transform 0.2s;\n",
       "}\n",
       "\n",
       ".ee-open::before {\n",
       "  transform: rotate(0deg);\n",
       "  display: inline-block;\n",
       "  content: \"▼\";\n",
       "  margin-right: 6px;\n",
       "  transition: transform 0.2s;\n",
       "}\n",
       "</style><div class='ee'><ul><li><label class='ee-shut'>FeatureCollection (3 elements, 0 columns)<input type='checkbox' class='ee-toggle'></label><ul><li><span class='ee-k'>type:</span><span class='ee-v'>FeatureCollection</span></li><li><label class='ee-shut'>columns: Object (0 properties)<input type='checkbox' class='ee-toggle'></label><ul></ul></li><li><label class='ee-shut'>properties: Object (1 property)<input type='checkbox' class='ee-toggle'></label><ul><li><label class='ee-shut'>band_order: ['NDVI']<input type='checkbox' class='ee-toggle'></label><ul><li><span class='ee-k'>0:</span><span class='ee-v'>NDVI</span></li></ul></li></ul></li><li><label class='ee-shut'>features: List (3 elements)<input type='checkbox' class='ee-toggle'></label><ul><li><label class='ee-shut'>0: Feature (1 property)<input type='checkbox' class='ee-toggle'></label><ul><li><span class='ee-k'>type:</span><span class='ee-v'>Feature</span></li><li><span class='ee-k'>id:</span><span class='ee-v'>0_0</span></li><li><span class='ee-k'>geometry:</span><span class='ee-v'>None</span></li><li><label class='ee-shut'>properties: Object (1 property)<input type='checkbox' class='ee-toggle'></label><ul><li><span class='ee-k'>NDVI:</span><span class='ee-v'>817</span></li></ul></li></ul></li><li><label class='ee-shut'>1: Feature (1 property)<input type='checkbox' class='ee-toggle'></label><ul><li><span class='ee-k'>type:</span><span class='ee-v'>Feature</span></li><li><span class='ee-k'>id:</span><span class='ee-v'>1_0</span></li><li><span class='ee-k'>geometry:</span><span class='ee-v'>None</span></li><li><label class='ee-shut'>properties: Object (1 property)<input type='checkbox' class='ee-toggle'></label><ul><li><span class='ee-k'>NDVI:</span><span class='ee-v'>1203</span></li></ul></li></ul></li><li><label class='ee-shut'>2: Feature (1 property)<input type='checkbox' class='ee-toggle'></label><ul><li><span class='ee-k'>type:</span><span class='ee-v'>Feature</span></li><li><span class='ee-k'>id:</span><span class='ee-v'>2_0</span></li><li><span class='ee-k'>geometry:</span><span class='ee-v'>None</span></li><li><label class='ee-shut'>properties: Object (1 property)<input type='checkbox' class='ee-toggle'></label><ul><li><span class='ee-k'>NDVI:</span><span class='ee-v'>917</span></li></ul></li></ul></li></ul></li></ul></li></ul></div><script>function toggleHeader() {\n",
       "    const parent = this.parentElement;\n",
       "    parent.className = parent.className === \"ee-open\" ? \"ee-shut\" : \"ee-open\";\n",
       "}\n",
       "\n",
       "for (let c of document.getElementsByClassName(\"ee-toggle\")) {\n",
       "    c.onclick = toggleHeader;\n",
       "}</script></div>"
      ],
      "text/plain": [
       "<ee.featurecollection.FeatureCollection at 0x1c49cca2080>"
      ]
     },
     "execution_count": 30,
     "metadata": {},
     "output_type": "execute_result"
    }
   ],
   "source": [
    "# 点值提取\n",
    "temp = MOD13.sampleRegions(temp_point, scale=500)\n",
    "temp"
   ]
  },
  {
   "cell_type": "code",
   "execution_count": null,
   "metadata": {
    "scrolled": true
   },
   "outputs": [],
   "source": [
    "# 将要提取的值设置为一个属性，并填充为-9999\n",
    "def setNDVI(feature):\n",
    "    return feature.set('NDVI', -9999)\n",
    "temp_point1 = temp_point.map(setNDVI)\n",
    "temp_point1.getInfo()"
   ]
  },
  {
   "cell_type": "code",
   "execution_count": null,
   "metadata": {
    "scrolled": true
   },
   "outputs": [],
   "source": [
    "# 修改点值提取后的要素集的id\n",
    "temp1 = ee.List([])\n",
    "def setID1(feature, List):\n",
    "    feature1 = feature.set('system:index', ee.String(feature.get('system:index')).split('_').get(0))\n",
    "    return ee.List(List).add(feature1)\n",
    "temp2 = ee.FeatureCollection(ee.List(temp.iterate(setID1, temp1)))\n",
    "temp2.getInfo()"
   ]
  },
  {
   "cell_type": "code",
   "execution_count": null,
   "metadata": {},
   "outputs": [],
   "source": [
    "# 筛选空值\n",
    "filter = ee.Filter.equals(\n",
    "  leftField='system:index',\n",
    "  rightField='system:index'\n",
    ")\n",
    "simpleJoin = ee.Join.inverted()\n",
    "simpleJoined = simpleJoin.apply(temp_point1, temp2, filter)\n",
    "\n",
    "simpleJoined.getInfo()"
   ]
  },
  {
   "cell_type": "code",
   "execution_count": null,
   "metadata": {},
   "outputs": [],
   "source": [
    "# 合并要素集\n",
    "temp3 = temp2.merge(simpleJoined)\n",
    "temp3.getInfo()"
   ]
  },
  {
   "cell_type": "code",
   "execution_count": null,
   "metadata": {
    "scrolled": true
   },
   "outputs": [],
   "source": [
    "temp4 = ee.List([])\n",
    "def setID2(feature, List):\n",
    "    feature1 = feature.set('system:index', ee.String(feature.get('system:index')).split('_').get(-1))\n",
    "    feature1 = feature1.set('lon', ee.List(feature.geometry().coordinates().get(0)))\n",
    "    feature1 = feature1.set('lat', ee.List(feature.geometry().coordinates().get(1)))\n",
    "    return ee.List(List).add(feature1)\n",
    "temp5 = ee.FeatureCollection(ee.List(temp3.iterate(setID2, temp1))).sort('system:index')\n",
    "temp5.getInfo()"
   ]
  },
  {
   "cell_type": "code",
   "execution_count": null,
   "metadata": {},
   "outputs": [],
   "source": [
    "geemap.ee_to_shp(temp5, 'temp2.shp')"
   ]
  },
  {
   "cell_type": "code",
   "execution_count": null,
   "metadata": {},
   "outputs": [],
   "source": [
    "ee.List(temp5.first().geometry().coordinates()).get(0).getInfo()"
   ]
  },
  {
   "cell_type": "code",
   "execution_count": null,
   "metadata": {},
   "outputs": [],
   "source": [
    "temp5.geometry().coordinates().getInfo()"
   ]
  },
  {
   "cell_type": "code",
   "execution_count": null,
   "metadata": {},
   "outputs": [],
   "source": []
  }
 ],
 "metadata": {
  "kernelspec": {
   "display_name": "Python 3 (ipykernel)",
   "language": "python",
   "name": "python3"
  },
  "language_info": {
   "codemirror_mode": {
    "name": "ipython",
    "version": 3
   },
   "file_extension": ".py",
   "mimetype": "text/x-python",
   "name": "python",
   "nbconvert_exporter": "python",
   "pygments_lexer": "ipython3",
   "version": "3.10.10"
  },
  "varInspector": {
   "cols": {
    "lenName": 16,
    "lenType": 16,
    "lenVar": 40
   },
   "kernels_config": {
    "python": {
     "delete_cmd_postfix": "",
     "delete_cmd_prefix": "del ",
     "library": "var_list.py",
     "varRefreshCmd": "print(var_dic_list())"
    },
    "r": {
     "delete_cmd_postfix": ") ",
     "delete_cmd_prefix": "rm(",
     "library": "var_list.r",
     "varRefreshCmd": "cat(var_dic_list()) "
    }
   },
   "oldHeight": 122.22178,
   "position": {
    "height": "40px",
    "left": "794.01px",
    "right": "20px",
    "top": "120px",
    "width": "250.434px"
   },
   "types_to_exclude": [
    "module",
    "function",
    "builtin_function_or_method",
    "instance",
    "_Feature"
   ],
   "varInspector_section_display": "none",
   "window_display": true
  }
 },
 "nbformat": 4,
 "nbformat_minor": 4
}
