{
 "cells": [
  {
   "cell_type": "code",
   "execution_count": 1,
   "id": "e188c477",
   "metadata": {
    "ExecuteTime": {
     "end_time": "2021-12-14T00:44:49.520767Z",
     "start_time": "2021-12-14T00:44:46.260992Z"
    }
   },
   "outputs": [],
   "source": [
    "import geemap\n",
    "import ee\n",
    "from Monarch import user_gee"
   ]
  },
  {
   "cell_type": "code",
   "execution_count": 2,
   "id": "ec83c4b0",
   "metadata": {
    "ExecuteTime": {
     "end_time": "2021-12-14T00:45:01.433488Z",
     "start_time": "2021-12-14T00:44:49.521764Z"
    }
   },
   "outputs": [
    {
     "data": {
      "application/vnd.jupyter.widget-view+json": {
       "model_id": "97f279d2d394495987afe8d5877d025c",
       "version_major": 2,
       "version_minor": 0
      },
      "text/plain": [
       "Map(center=[30, 112], controls=(WidgetControl(options=['position', 'transparent_bg'], widget=HBox(children=(To…"
      ]
     },
     "metadata": {},
     "output_type": "display_data"
    }
   ],
   "source": [
    "Map = geemap.Map(center=(30, 112))\n",
    "Map"
   ]
  },
  {
   "cell_type": "code",
   "execution_count": 3,
   "id": "1d315491",
   "metadata": {
    "ExecuteTime": {
     "end_time": "2021-12-14T00:48:04.049366Z",
     "start_time": "2021-12-14T00:45:01.434486Z"
    }
   },
   "outputs": [],
   "source": [
    "roi = geemap.shp_to_ee(r'H:/Monarch/paper/Data/jiujiang.shp').geometry()\n",
    "Map.center_object(roi, 10)\n",
    "Map.addLayer(roi, {}, 'roi')"
   ]
  },
  {
   "cell_type": "code",
   "execution_count": null,
   "id": "219f4249",
   "metadata": {
    "ExecuteTime": {
     "end_time": "2021-11-26T02:45:02.200837Z",
     "start_time": "2021-11-26T02:45:02.183814Z"
    }
   },
   "outputs": [],
   "source": [
    "roi = Map.draw_last_feature.geometry()"
   ]
  },
  {
   "cell_type": "code",
   "execution_count": 4,
   "id": "1e18c213",
   "metadata": {
    "ExecuteTime": {
     "end_time": "2021-12-14T00:48:04.065331Z",
     "start_time": "2021-12-14T00:48:04.050976Z"
    }
   },
   "outputs": [],
   "source": [
    "visParams = {'max': 3000, 'min': 0, 'bands': ['B4', 'B3', 'B2']}"
   ]
  },
  {
   "cell_type": "code",
   "execution_count": 8,
   "id": "a8d5e825",
   "metadata": {
    "ExecuteTime": {
     "end_time": "2021-12-14T01:01:53.393459Z",
     "start_time": "2021-12-14T00:55:39.361225Z"
    }
   },
   "outputs": [
    {
     "name": "stdout",
     "output_type": "stream",
     "text": [
      "Generating URL...\n",
      "Downloading GIF image from https://earthengine.googleapis.com/v1alpha/projects/earthengine-legacy/videoThumbnails/b87b10fbb35306e05feddd693cc17fed-da75f391fb3b701d6f2a53670c8a85c4:getPixels\n",
      "Please wait ...\n",
      "The GIF image has been saved to: H:\\Monarch\\paper\\Data\\S2_image_Thumbnail_git\\S2_2016.gif\n",
      "Generating URL...\n",
      "Downloading GIF image from https://earthengine.googleapis.com/v1alpha/projects/earthengine-legacy/videoThumbnails/2afbd7063dbb7e27b50601afca8050f7-ca328180129d1952b426612004a73002:getPixels\n",
      "Please wait ...\n",
      "The GIF image has been saved to: H:\\Monarch\\paper\\Data\\S2_image_Thumbnail_git\\S2_2017.gif\n",
      "Generating URL...\n",
      "Downloading GIF image from https://earthengine.googleapis.com/v1alpha/projects/earthengine-legacy/videoThumbnails/92f3613869dfa545cf277c0448640600-670996790cdb16d771bfa901952bc0cd:getPixels\n",
      "Please wait ...\n",
      "The GIF image has been saved to: H:\\Monarch\\paper\\Data\\S2_image_Thumbnail_git\\S2_2018.gif\n",
      "Generating URL...\n",
      "Downloading GIF image from https://earthengine.googleapis.com/v1alpha/projects/earthengine-legacy/videoThumbnails/e3b3e0b9de9bf202acf63448ba99b0a7-e3e61e4884bafccfcc6c6440037a6ef4:getPixels\n",
      "Please wait ...\n",
      "The GIF image has been saved to: H:\\Monarch\\paper\\Data\\S2_image_Thumbnail_git\\S2_2019.gif\n"
     ]
    }
   ],
   "source": [
    "for year in range(2016, 2020):\n",
    "    s2_year = []\n",
    "    for i in range(3, 12):\n",
    "        s2 = ee.ImageCollection(\"COPERNICUS/S2\")\\\n",
    "                .filterBounds(roi)\\\n",
    "                .sort('CLOUD_COVERAGE_ASSESSMENT', False)\\\n",
    "                .filterDate(str(year), str(year+1))\\\n",
    "                .filter(ee.Filter.calendarRange(i, i, 'month'))\n",
    "        s2_z = s2.merge(s2.map(user_gee.rm_cloud_s2_sr))\n",
    "        a = s2.aggregate_array('system:time_start').map(lambda i: ee.Date(i).format('YYYY-MM-dd'))\n",
    "        s2_year.append(s2_z.mosaic().clip(roi).set('time', a.get(s2.size().subtract(1))))\n",
    "    s2_year = ee.ImageCollection(s2_year)\n",
    "    geemap.download_ee_video(s2_year, visParams, f'H:/Monarch/paper/Data/S2_image_Thumbnail_git/S2_{year}.gif')"
   ]
  },
  {
   "cell_type": "code",
   "execution_count": null,
   "id": "dc654a93",
   "metadata": {
    "ExecuteTime": {
     "end_time": "2021-10-19T02:56:59.230831Z",
     "start_time": "2021-10-19T02:56:58.852280Z"
    }
   },
   "outputs": [],
   "source": [
    "geemap.add_text_to_gif(f'H:/Monarch/paper/Data/S2_image_Thumbnail_git/S2_{year}.gif', f'H:/Monarch/paper/Data/S2_image_Thumbnail_git/S2_{year}_3.gif', xy=('3%', '5%'), text_sequence=a, \n",
    "                       font_size=20, font_color='#ffffff', duration=1000)"
   ]
  },
  {
   "cell_type": "code",
   "execution_count": null,
   "id": "272da064",
   "metadata": {
    "ExecuteTime": {
     "end_time": "2021-10-19T02:55:51.231825Z",
     "start_time": "2021-10-19T02:55:49.827885Z"
    }
   },
   "outputs": [],
   "source": [
    "a = s2_year.aggregate_array('time').getInfo()"
   ]
  },
  {
   "cell_type": "code",
   "execution_count": null,
   "id": "e1506ec7",
   "metadata": {
    "ExecuteTime": {
     "end_time": "2021-10-19T02:55:54.328109Z",
     "start_time": "2021-10-19T02:55:54.323123Z"
    }
   },
   "outputs": [],
   "source": [
    "a"
   ]
  },
  {
   "cell_type": "code",
   "execution_count": null,
   "id": "5b2b60b0",
   "metadata": {},
   "outputs": [],
   "source": []
  }
 ],
 "metadata": {
  "kernelspec": {
   "display_name": "Python 3 (ipykernel)",
   "language": "python",
   "name": "python3"
  },
  "language_info": {
   "codemirror_mode": {
    "name": "ipython",
    "version": 3
   },
   "file_extension": ".py",
   "mimetype": "text/x-python",
   "name": "python",
   "nbconvert_exporter": "python",
   "pygments_lexer": "ipython3",
   "version": "3.9.6"
  }
 },
 "nbformat": 4,
 "nbformat_minor": 5
}
