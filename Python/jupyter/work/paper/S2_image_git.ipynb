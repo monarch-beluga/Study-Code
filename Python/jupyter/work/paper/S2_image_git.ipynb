{
 "cells": [
  {
   "cell_type": "code",
   "execution_count": 1,
   "id": "80bbc770",
   "metadata": {
    "ExecuteTime": {
     "end_time": "2021-12-20T01:46:50.727745Z",
     "start_time": "2021-12-20T01:46:41.791230Z"
    },
    "tags": []
   },
   "outputs": [
    {
     "data": {
      "application/vnd.jupyter.widget-view+json": {
       "model_id": "c8b0957263b54039b337c66d743e15ab",
       "version_major": 2,
       "version_minor": 0
      },
      "text/plain": [
       "Map(center=[30, 112], controls=(WidgetControl(options=['position', 'transparent_bg'], widget=HBox(children=(To…"
      ]
     },
     "metadata": {},
     "output_type": "display_data"
    }
   ],
   "source": [
    "import geemap\n",
    "import ee\n",
    "\n",
    "Map = geemap.Map(center=[30, 112])\n",
    "Map"
   ]
  },
  {
   "cell_type": "code",
   "execution_count": 2,
   "id": "e9f500c0-05f1-462f-a580-b13d9fb03cf7",
   "metadata": {
    "tags": []
   },
   "outputs": [],
   "source": [
    "import os\n",
    "os.chdir(r'D:\\Data\\parper\\data')"
   ]
  },
  {
   "cell_type": "code",
   "execution_count": 3,
   "id": "1410824c-7eaa-4241-af83-86758d91acb6",
   "metadata": {
    "ExecuteTime": {
     "end_time": "2021-12-20T01:46:50.743731Z",
     "start_time": "2021-12-20T01:46:50.728743Z"
    },
    "tags": []
   },
   "outputs": [],
   "source": [
    "shp = geemap.shp_to_ee('shp/JX.shp')\n",
    "roi = shp.geometry()\n",
    "Map.center_object(roi, 8)\n",
    "Map.addLayer(roi, {}, 'roi')"
   ]
  },
  {
   "cell_type": "code",
   "execution_count": 4,
   "id": "d6097997-c206-4fed-a3b5-d4ce6da712f0",
   "metadata": {
    "ExecuteTime": {
     "end_time": "2021-12-20T01:46:53.652006Z",
     "start_time": "2021-12-20T01:46:50.744701Z"
    },
    "tags": []
   },
   "outputs": [],
   "source": [
    "points = geemap.shp_to_ee('shp/landuse_point.shp')\n",
    "\n",
    "Map.addLayer(points, {'color': 'FF0000'}, 'points')"
   ]
  },
  {
   "cell_type": "code",
   "execution_count": 5,
   "id": "1e18c213",
   "metadata": {
    "ExecuteTime": {
     "end_time": "2021-12-14T00:48:04.065331Z",
     "start_time": "2021-12-14T00:48:04.050976Z"
    },
    "tags": []
   },
   "outputs": [],
   "source": [
    "visParams = {'max': 3000, 'min': 0, 'bands': ['B4', 'B3', 'B2']}"
   ]
  },
  {
   "cell_type": "code",
   "execution_count": 17,
   "id": "3cc27734-c60d-4798-89a4-4fb27fdca8e4",
   "metadata": {
    "tags": []
   },
   "outputs": [],
   "source": [
    "Map.addLayer(s2_year[0], visParams, 's2')"
   ]
  },
  {
   "cell_type": "code",
   "execution_count": 22,
   "id": "4ef0499d-5133-4c24-9293-c0ccf4139a10",
   "metadata": {
    "tags": []
   },
   "outputs": [],
   "source": [
    "from Monarch import user_gee\n",
    "year = 2018\n",
    "s2_year = []\n",
    "lswis = []\n",
    "ndvis = []\n",
    "evis = []\n",
    "for i in range(1, 13):\n",
    "    s2 = ee.ImageCollection(\"COPERNICUS/S2\")\\\n",
    "            .filterBounds(roi)\\\n",
    "            .sort('CLOUD_COVERAGE_ASSESSMENT', False)\\\n",
    "            .filterDate(str(year), str(year+1))\\\n",
    "            .filter(ee.Filter.calendarRange(i, i, 'month'))\n",
    "    s2_rm_cloud = s2.map(user_gee.rm_cloud_s2_sr)\n",
    "    s2_z = s2_rm_cloud.merge(s2).median().select(['B2', 'B3', 'B4', 'B5', 'B8', 'B11'])\n",
    "    a = s2.aggregate_array('system:time_start').map(lambda i: ee.Date(i).format('YYYY-MM-dd'))\n",
    "    evi = s2_z.expression(\n",
    "        '2.5 * ((NIR - RED) / (NIR + 6 * RED - 7.5 * BLUE + 1))', {\n",
    "        'NIR': s2_z.select('B8'),\n",
    "        'RED': s2_z.select('B4'),\n",
    "        'BLUE': s2_z.select('B2')\n",
    "    }).rename(\"S2_EVI\")\n",
    "    ndvi = s2_z.normalizedDifference(['B8', 'B4']).rename(\"S2_NDVI\")\n",
    "    lswi = s2_z.normalizedDifference(['B8', 'B11']).rename(\"S2_LSWI\")\n",
    "    ndvis.append(ndvi)\n",
    "    lswis.append(lswi)\n",
    "    evis.append(evi)\n",
    "    s2_image = s2_z.addBands(ndvi)\n",
    "    s2_image = s2_image.addBands(lswi)\n",
    "    # s2_image = s2_image.addBands(evi)\n",
    "    s2_year.append(s2_image.clip(roi))"
   ]
  },
  {
   "cell_type": "code",
   "execution_count": 23,
   "id": "d0f20606-0447-4a4b-a5f0-718186736687",
   "metadata": {
    "tags": []
   },
   "outputs": [
    {
     "name": "stdout",
     "output_type": "stream",
     "text": [
      "Generating URL...\n",
      "Downloading GIF image from https://earthengine.googleapis.com/v1alpha/projects/earthengine-legacy/videoThumbnails/c84947255d7a2fcfd36cb34d59904230-1061b72fe81ea157a5217795e52ed410:getPixels\n",
      "Please wait ...\n",
      "The GIF image has been saved to: D:\\Data\\parper\\data\\gif_data\\S2_2018.gif\n"
     ]
    }
   ],
   "source": [
    "image = ee.ImageCollection(s2_year)\n",
    "geemap.download_ee_video(image, visParams, f'gif_data/S2_{year}.gif')"
   ]
  },
  {
   "cell_type": "code",
   "execution_count": 24,
   "id": "dc654a93",
   "metadata": {
    "ExecuteTime": {
     "end_time": "2021-10-19T02:56:59.230831Z",
     "start_time": "2021-10-19T02:56:58.852280Z"
    },
    "tags": []
   },
   "outputs": [],
   "source": [
    "geemap.add_text_to_gif(f'gif_data/S2_{year}.gif', f'gif_data/S2_{year}_text.gif', xy=('3%', '5%'), text_sequence=[f'{year}-{i:02d}' for i in range(1, 13)], \n",
    "                       font_size=20, font_color='#ffffff', duration=1000)"
   ]
  },
  {
   "cell_type": "code",
   "execution_count": 25,
   "id": "edc63e32-9db1-49d3-8842-143a7d20870a",
   "metadata": {
    "tags": []
   },
   "outputs": [
    {
     "data": {
      "application/vnd.jupyter.widget-view+json": {
       "model_id": "a643016b0e6f400f8f5f90e7c1f8e8c9",
       "version_major": 2,
       "version_minor": 0
      },
      "text/plain": [
       "Output()"
      ]
     },
     "metadata": {},
     "output_type": "display_data"
    }
   ],
   "source": [
    "geemap.show_image(f'gif_data/S2_{year}_text.gif')"
   ]
  },
  {
   "cell_type": "code",
   "execution_count": null,
   "id": "5b2b60b0",
   "metadata": {},
   "outputs": [],
   "source": []
  }
 ],
 "metadata": {
  "kernelspec": {
   "display_name": "Python 3 (ipykernel)",
   "language": "python",
   "name": "python3"
  },
  "language_info": {
   "codemirror_mode": {
    "name": "ipython",
    "version": 3
   },
   "file_extension": ".py",
   "mimetype": "text/x-python",
   "name": "python",
   "nbconvert_exporter": "python",
   "pygments_lexer": "ipython3",
   "version": "3.10.10"
  }
 },
 "nbformat": 4,
 "nbformat_minor": 5
}
