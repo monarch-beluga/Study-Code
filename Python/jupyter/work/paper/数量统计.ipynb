{
 "cells": [
  {
   "cell_type": "code",
   "execution_count": null,
   "metadata": {},
   "outputs": [],
   "source": [
    "import geemap\n",
    "import ee"
   ]
  },
  {
   "cell_type": "code",
   "execution_count": null,
   "metadata": {},
   "outputs": [],
   "source": [
    "Map = geemap.Map()\n",
    "Map"
   ]
  },
  {
   "cell_type": "code",
   "execution_count": null,
   "metadata": {},
   "outputs": [],
   "source": [
    "jiangxi = geemap.shp_to_ee(r'F:/file/work/师兄/统计数量/矢量文件/Jiangxi.shp', encoding=\"gbk\")"
   ]
  },
  {
   "cell_type": "code",
   "execution_count": null,
   "metadata": {},
   "outputs": [],
   "source": [
    "jiangxi.getInfo()"
   ]
  },
  {
   "cell_type": "code",
   "execution_count": null,
   "metadata": {},
   "outputs": [],
   "source": []
  },
  {
   "cell_type": "code",
   "execution_count": null,
   "metadata": {},
   "outputs": [],
   "source": [
    "Landsat8 = ee.ImageCollection(\"LANDSAT/LC08/C01/T1_RT\")\\\n",
    "    .filterBounds(jiangxi.geometry()).filterDate(\"2014\", \"2020\")\\\n",
    "    .select('B3')"
   ]
  },
  {
   "cell_type": "code",
   "execution_count": null,
   "metadata": {},
   "outputs": [],
   "source": [
    "landsat = Landsat8.count()\n",
    "palette = ['FF0000', '00FF00', '0000FF']\n",
    "Map.addLayer(landsat, {'palette': palette, 'max': 500, 'min': 0}, 'count')"
   ]
  },
  {
   "cell_type": "code",
   "execution_count": null,
   "metadata": {},
   "outputs": [],
   "source": [
    "empty = ee.Image().byte()\n",
    "outline = empty.paint(\n",
    "    featureCollection=jiangxi,\n",
    "    color=1,\n",
    "    width=5\n",
    ")\n",
    "Map.center_object(jiangxi, 6)\n",
    "Map.addLayer(outline, {'palette': '0000ff'}, 'edges')"
   ]
  },
  {
   "cell_type": "code",
   "execution_count": null,
   "metadata": {},
   "outputs": [],
   "source": [
    "aoi = ee.Geometry.Polygon(\n",
    "  [[[110, 32],\n",
    "    [110, 23],\n",
    "    [122,23],\n",
    "    [122, 32]]], None, False)\n",
    "Map.addLayer(aoi, {}, \"aoi\")"
   ]
  },
  {
   "cell_type": "code",
   "execution_count": null,
   "metadata": {},
   "outputs": [],
   "source": [
    "# geemap.ee_export_image(landsat, 'temp.tif', scale=800, region=aoi)\n",
    "geemap.ee_export_image(outline, 'temp1.tif', scale=500, region=aoi)"
   ]
  },
  {
   "cell_type": "code",
   "execution_count": null,
   "metadata": {},
   "outputs": [],
   "source": []
  }
 ],
 "metadata": {
  "kernelspec": {
   "display_name": "Python 3",
   "language": "python",
   "name": "python3"
  },
  "language_info": {
   "codemirror_mode": {
    "name": "ipython",
    "version": 3
   },
   "file_extension": ".py",
   "mimetype": "text/x-python",
   "name": "python",
   "nbconvert_exporter": "python",
   "pygments_lexer": "ipython3",
   "version": "3.8.5"
  },
  "varInspector": {
   "cols": {
    "lenName": 16,
    "lenType": 16,
    "lenVar": 40
   },
   "kernels_config": {
    "python": {
     "delete_cmd_postfix": "",
     "delete_cmd_prefix": "del ",
     "library": "var_list.py",
     "varRefreshCmd": "print(var_dic_list())"
    },
    "r": {
     "delete_cmd_postfix": ") ",
     "delete_cmd_prefix": "rm(",
     "library": "var_list.r",
     "varRefreshCmd": "cat(var_dic_list()) "
    }
   },
   "oldHeight": 122.22178,
   "position": {
    "height": "40px",
    "left": "794.01px",
    "right": "20px",
    "top": "120px",
    "width": "250.434px"
   },
   "types_to_exclude": [
    "module",
    "function",
    "builtin_function_or_method",
    "instance",
    "_Feature"
   ],
   "varInspector_section_display": "none",
   "window_display": true
  }
 },
 "nbformat": 4,
 "nbformat_minor": 4
}
