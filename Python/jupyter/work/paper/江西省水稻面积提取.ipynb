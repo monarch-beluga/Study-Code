{
 "cells": [
  {
   "cell_type": "code",
   "execution_count": 1,
   "id": "80bbc770",
   "metadata": {
    "ExecuteTime": {
     "end_time": "2021-12-20T01:46:50.727745Z",
     "start_time": "2021-12-20T01:46:41.791230Z"
    },
    "tags": []
   },
   "outputs": [
    {
     "data": {
      "text/html": [
       "<p>To authorize access needed by Earth Engine, open the following\n",
       "        URL in a web browser and follow the instructions:</p>\n",
       "        <p><a href=https://code.earthengine.google.com/client-auth?scopes=https%3A//www.googleapis.com/auth/earthengine%20https%3A//www.googleapis.com/auth/cloud-platform%20https%3A//www.googleapis.com/auth/devstorage.full_control&request_id=LNVa0McWAci2PUNhFXH_-HiB03rhzpSx9NZp5SQv4jk&tc=ChuwBkvKy2XD1xdPnSHfy-1_IeaGHS60GmL5UnYGLnA&cc=afxEyiHVO8EdXENOgDiHoq0mBwwcZLvD43HeKvSVdUs>https://code.earthengine.google.com/client-auth?scopes=https%3A//www.googleapis.com/auth/earthengine%20https%3A//www.googleapis.com/auth/cloud-platform%20https%3A//www.googleapis.com/auth/devstorage.full_control&request_id=LNVa0McWAci2PUNhFXH_-HiB03rhzpSx9NZp5SQv4jk&tc=ChuwBkvKy2XD1xdPnSHfy-1_IeaGHS60GmL5UnYGLnA&cc=afxEyiHVO8EdXENOgDiHoq0mBwwcZLvD43HeKvSVdUs</a></p>\n",
       "        <p>The authorization workflow will generate a code, which you should paste in the box below.</p>\n",
       "        "
      ],
      "text/plain": [
       "<IPython.core.display.HTML object>"
      ]
     },
     "metadata": {},
     "output_type": "display_data"
    },
    {
     "name": "stdin",
     "output_type": "stream",
     "text": [
      "Enter verification code:  4/1AeaYSHCFN1adaTGhEszzhU2eHk4uDJ47trMdeywUTlWaF4POFeDwBNaMWLg\n"
     ]
    },
    {
     "name": "stdout",
     "output_type": "stream",
     "text": [
      "\n",
      "Successfully saved authorization token.\n"
     ]
    },
    {
     "data": {
      "application/vnd.jupyter.widget-view+json": {
       "model_id": "6f905eded97f463d96784eacf8602a30",
       "version_major": 2,
       "version_minor": 0
      },
      "text/plain": [
       "Map(center=[30, 112], controls=(WidgetControl(options=['position', 'transparent_bg'], widget=HBox(children=(To…"
      ]
     },
     "metadata": {},
     "output_type": "display_data"
    }
   ],
   "source": [
    "import geemap\n",
    "import ee\n",
    "\n",
    "Map = geemap.Map(center=[30, 112])\n",
    "Map"
   ]
  },
  {
   "cell_type": "code",
   "execution_count": 2,
   "id": "6331c2dd-2927-48ba-bdc2-bdd633f0fc60",
   "metadata": {
    "tags": []
   },
   "outputs": [],
   "source": [
    "import os\n",
    "os.chdir(r'D:\\Data\\parper\\data')"
   ]
  },
  {
   "cell_type": "code",
   "execution_count": 3,
   "id": "713d64eb",
   "metadata": {
    "ExecuteTime": {
     "end_time": "2021-12-20T01:46:50.743731Z",
     "start_time": "2021-12-20T01:46:50.728743Z"
    },
    "tags": []
   },
   "outputs": [],
   "source": [
    "shp = geemap.shp_to_ee('shp/JX.shp')\n",
    "roi = shp.geometry()\n",
    "Map.center_object(roi, 8)\n",
    "Map.addLayer(roi, {}, 'roi')"
   ]
  },
  {
   "cell_type": "code",
   "execution_count": null,
   "id": "7ce55f7c",
   "metadata": {
    "ExecuteTime": {
     "end_time": "2021-12-20T01:46:53.652006Z",
     "start_time": "2021-12-20T01:46:50.744701Z"
    },
    "tags": []
   },
   "outputs": [],
   "source": [
    "points = geemap.shp_to_ee('shp/landuse_point.shp')\n",
    "\n",
    "Map.addLayer(points, {'color': 'FF0000'}, 'points')"
   ]
  },
  {
   "cell_type": "code",
   "execution_count": null,
   "id": "7bb9b37d",
   "metadata": {
    "ExecuteTime": {
     "end_time": "2021-12-20T01:47:05.840174Z",
     "start_time": "2021-12-20T01:47:05.809539Z"
    },
    "tags": []
   },
   "outputs": [],
   "source": [
    "from Monarch import user_gee\n",
    "year = 2018\n",
    "s2_year = []\n",
    "lswis = []\n",
    "ndvis = []\n",
    "evis = []\n",
    "for i in range(1, 13):\n",
    "    s2 = ee.ImageCollection(\"COPERNICUS/S2\")\\\n",
    "            .filterBounds(roi)\\\n",
    "            .sort('CLOUD_COVERAGE_ASSESSMENT', False)\\\n",
    "            .filterDate(str(year), str(year+1))\\\n",
    "            .filter(ee.Filter.calendarRange(i, i, 'month'))\n",
    "    s2_rm_cloud = s2.map(user_gee.rm_cloud_s2_sr)\n",
    "    s2_z = s2_rm_cloud.merge(s2).mosaic().select(['B2', 'B3', 'B4', 'B5', 'B8', 'B11'])\n",
    "    a = s2.aggregate_array('system:time_start').map(lambda i: ee.Date(i).format('YYYY-MM-dd'))\n",
    "    evi = s2_z.expression(\n",
    "        '2.5 * ((NIR - RED) / (NIR + 6 * RED - 7.5 * BLUE + 1))', {\n",
    "        'NIR': s2_z.select('B8'),\n",
    "        'RED': s2_z.select('B4'),\n",
    "        'BLUE': s2_z.select('B2')\n",
    "    }).rename(\"S2_EVI\")\n",
    "    ndvi = s2_z.normalizedDifference(['B8', 'B4']).rename(\"S2_NDVI\")\n",
    "    lswi = s2_z.normalizedDifference(['B8', 'B11']).rename(\"S2_LSWI\")\n",
    "    ndvis.append(ndvi)\n",
    "    lswis.append(lswi)\n",
    "    evis.append(evi)\n",
    "    s2_image = s2_z.addBands(ndvi)\n",
    "    s2_image = s2_image.addBands(lswi)\n",
    "    # s2_image = s2_image.addBands(evi)\n",
    "    s2_year.append(s2_image)\n",
    "    break"
   ]
  },
  {
   "cell_type": "code",
   "execution_count": null,
   "id": "f2b2f842-9ddc-421c-af7e-00c3ecfa710d",
   "metadata": {
    "tags": []
   },
   "outputs": [],
   "source": [
    "Map.addLayer(s2_rm_cloud.select('B2'), {}, 's2_rm_mo')"
   ]
  },
  {
   "cell_type": "code",
   "execution_count": null,
   "id": "b66a48e9-723c-4077-99ab-b35768c98041",
   "metadata": {
    "tags": []
   },
   "outputs": [],
   "source": [
    "Map.addLayer(s2_rm_cloud.select('B2').mean(), {}, 's2_rm_mean')"
   ]
  },
  {
   "cell_type": "code",
   "execution_count": null,
   "id": "888860bd-315d-4803-ae35-fc3a51e69564",
   "metadata": {
    "tags": []
   },
   "outputs": [],
   "source": [
    "Map"
   ]
  },
  {
   "cell_type": "code",
   "execution_count": null,
   "id": "f87f7916",
   "metadata": {
    "ExecuteTime": {
     "end_time": "2021-12-20T02:17:39.374092Z",
     "start_time": "2021-12-20T02:17:39.356110Z"
    },
    "scrolled": true,
    "tags": []
   },
   "outputs": [],
   "source": [
    "image = ee.ImageCollection(s2_year).toBands().clip(roi)"
   ]
  },
  {
   "cell_type": "code",
   "execution_count": null,
   "id": "0f391b8a-64cf-47db-83af-de7dc511a91f",
   "metadata": {
    "tags": []
   },
   "outputs": [],
   "source": [
    "lswi = ee.ImageCollection(lswis).toBands().clip(roi)\n",
    "ndvi = ee.ImageCollection(ndvis).toBands().clip(roi)"
   ]
  },
  {
   "cell_type": "code",
   "execution_count": null,
   "id": "0ab9b191-279d-41d6-a1eb-25f8e1ce9968",
   "metadata": {
    "tags": []
   },
   "outputs": [],
   "source": [
    "com1 = ndvi.expression('gt1 && gt2', {\n",
    "    'gt1': ndvi.select('7_S2_NDVI').gt(0.35),\n",
    "    'gt2': ndvi.select('8_S2_NDVI').gt(0.35)\n",
    "}).rename('ndvi_com')\n",
    "com2 = lswi.expression('gt1 && lt2', {\n",
    "    'gt1': lswi.select('8_S2_LSWI').gt(0.15),\n",
    "    'lt2': lswi.select('10_S2_LSWI').lt(0.15)\n",
    "}).rename('lswi_com')\n",
    "image = image.addBands(com1)\n",
    "image = image.addBands(com2)"
   ]
  },
  {
   "cell_type": "code",
   "execution_count": null,
   "id": "e7b1e3fa",
   "metadata": {
    "ExecuteTime": {
     "end_time": "2021-12-20T01:50:14.794753Z",
     "start_time": "2021-12-20T01:50:14.786775Z"
    },
    "tags": []
   },
   "outputs": [],
   "source": [
    "ps = points.filter(ee.Filter.lt('CID', 700))\n",
    "ps_y = points.filter(ee.Filter.gte('CID', 700))"
   ]
  },
  {
   "cell_type": "code",
   "execution_count": null,
   "id": "ce12730a",
   "metadata": {
    "ExecuteTime": {
     "end_time": "2021-12-20T01:50:16.408409Z",
     "start_time": "2021-12-20T01:50:16.390458Z"
    },
    "tags": []
   },
   "outputs": [],
   "source": [
    "label = 'TDLYDM'\n",
    "\n",
    "training = image.sampleRegions(**{\n",
    "  'collection': ps,\n",
    "  'properties': [label],\n",
    "  'scale': 10\n",
    "})\n",
    "# 使用随机森林分类\n",
    "trained = ee.Classifier.smileRandomForest(numberOfTrees=100).train(training, label)"
   ]
  },
  {
   "cell_type": "code",
   "execution_count": null,
   "id": "c24a0a12",
   "metadata": {
    "ExecuteTime": {
     "end_time": "2021-12-18T01:17:00.383705Z",
     "start_time": "2021-12-18T01:15:58.292274Z"
    },
    "tags": []
   },
   "outputs": [],
   "source": [
    "result = image.classify(trained)\n",
    "\n",
    "geemap.ee_export_image_to_asset(result, 'JX_class_3', 'JX_class_3', scale=10, crs='epsg:3857', region=roi, maxPixels=1e10)"
   ]
  },
  {
   "cell_type": "code",
   "execution_count": null,
   "id": "44964d71-4af2-49ab-a21c-c3ce21ab0d53",
   "metadata": {
    "tags": []
   },
   "outputs": [],
   "source": [
    "Map.addLayer(result.randomVisualizer(), {}, 'classfied')\n",
    "Map"
   ]
  },
  {
   "cell_type": "code",
   "execution_count": null,
   "id": "9d23ba61-bd26-4edf-a91a-885b057fb5c2",
   "metadata": {
    "tags": []
   },
   "outputs": [],
   "source": [
    "landuse = ee.Image('users/2431566134liumonarch/JX_class_3')"
   ]
  },
  {
   "cell_type": "code",
   "execution_count": null,
   "id": "06514854-c0a2-4481-bf56-25f672289550",
   "metadata": {
    "tags": []
   },
   "outputs": [],
   "source": [
    "Map.addLayer(landuse.randomVisualizer(), {}, 'classfied')\n",
    "Map"
   ]
  },
  {
   "cell_type": "code",
   "execution_count": null,
   "id": "12d106d2",
   "metadata": {
    "tags": []
   },
   "outputs": [],
   "source": [
    "label = 'TDLYDM'\n",
    "\n",
    "verify = landuse.sampleRegions(**{\n",
    "  'collection': ps_y,\n",
    "  'properties': [label],\n",
    "  'scale': 10\n",
    "})"
   ]
  },
  {
   "cell_type": "code",
   "execution_count": null,
   "id": "e86247c9-6f73-4dc9-901e-98aff28309b7",
   "metadata": {
    "tags": []
   },
   "outputs": [],
   "source": [
    "path_csv = 'verify_ps_2017.csv'\n",
    "geemap.zonal_statistics(landuse, ps_y, path_csv, scale=10)"
   ]
  },
  {
   "cell_type": "code",
   "execution_count": null,
   "id": "db1a5362-4efb-4e3a-b596-a1db2ca1469a",
   "metadata": {},
   "outputs": [],
   "source": [
    "geemap.ee_export_image_to_drive(landuse, 'JX_class', 'Image', region=roi, crs='epsg:3857', scale=10, maxPixels=1e10)"
   ]
  },
  {
   "cell_type": "code",
   "execution_count": null,
   "id": "b4250e51-243e-4ca9-b14a-cdc12b266d73",
   "metadata": {},
   "outputs": [],
   "source": [
    "landuse_rice = landuse.mask(landuse.eq(3))\n",
    "# Map.addLayer(landuse_rice, {'palette': 'red', 'max':3, 'min':3}, 'rich')"
   ]
  },
  {
   "cell_type": "code",
   "execution_count": null,
   "id": "40d050ff-38ed-46f8-b92d-10a47dc39283",
   "metadata": {
    "tags": []
   },
   "outputs": [],
   "source": [
    "landuse_count = landuse_rice.connectedPixelCount(50, False)"
   ]
  },
  {
   "cell_type": "code",
   "execution_count": null,
   "id": "f2367247-48d6-44a7-b193-db757aa8ba6f",
   "metadata": {
    "tags": []
   },
   "outputs": [],
   "source": [
    "landuse_make = landuse.mask(landuse_count.gte(10))\n",
    "landuse_make_a = landuse_make.unmask(1)\n",
    "Map.addLayer(landuse_make, {'max':3, 'min':0}, 'make')"
   ]
  },
  {
   "cell_type": "code",
   "execution_count": null,
   "id": "2b102dd7-9709-44c4-b1af-6d5432dff480",
   "metadata": {
    "tags": []
   },
   "outputs": [],
   "source": [
    "geemap.ee_export_image_to_drive(landuse_make, 'JX_rice', 'Image', region=roi, crs='epsg:3857', scale=10, maxPixels=1e10)"
   ]
  },
  {
   "cell_type": "code",
   "execution_count": null,
   "id": "c0fb83cb-b841-423e-bc69-db0b10889ee7",
   "metadata": {
    "tags": []
   },
   "outputs": [],
   "source": [
    "path_csv = 'verify_ps_2017_1.csv'\n",
    "geemap.zonal_statistics(landuse_make_a, ps_y, path_csv, scale=10)"
   ]
  },
  {
   "cell_type": "code",
   "execution_count": null,
   "id": "12667fe9-1e4e-4d75-afa0-c9a22f59d2ea",
   "metadata": {
    "tags": []
   },
   "outputs": [],
   "source": [
    "a = landuse_rice.reduceRegion(ee.Reducer.sum(), geometry=roi, scale=10, crs='epsg:3857', maxPixels=1e10)"
   ]
  },
  {
   "cell_type": "code",
   "execution_count": null,
   "id": "94f057c5-8144-4080-b088-6988e7a35f18",
   "metadata": {
    "tags": []
   },
   "outputs": [],
   "source": [
    "a.getInfo()"
   ]
  },
  {
   "cell_type": "code",
   "execution_count": null,
   "id": "607dd83e-030f-44d0-b95b-703755beae3b",
   "metadata": {
    "tags": []
   },
   "outputs": [],
   "source": [
    "790888352 / 3"
   ]
  },
  {
   "cell_type": "code",
   "execution_count": null,
   "id": "72c5a28c-1093-47ba-b51b-b1844cc98b6a",
   "metadata": {},
   "outputs": [],
   "source": []
  }
 ],
 "metadata": {
  "kernelspec": {
   "display_name": "Python 3 (ipykernel)",
   "language": "python",
   "name": "python3"
  },
  "language_info": {
   "codemirror_mode": {
    "name": "ipython",
    "version": 3
   },
   "file_extension": ".py",
   "mimetype": "text/x-python",
   "name": "python",
   "nbconvert_exporter": "python",
   "pygments_lexer": "ipython3",
   "version": "3.10.9"
  }
 },
 "nbformat": 4,
 "nbformat_minor": 5
}
