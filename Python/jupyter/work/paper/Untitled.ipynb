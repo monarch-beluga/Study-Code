{
 "cells": [
  {
   "cell_type": "code",
   "execution_count": null,
   "id": "80bbc770",
   "metadata": {
    "ExecuteTime": {
     "end_time": "2021-12-20T01:46:50.727745Z",
     "start_time": "2021-12-20T01:46:41.791230Z"
    }
   },
   "outputs": [],
   "source": [
    "import geemap\n",
    "import ee\n",
    "\n",
    "Map = geemap.Map(center=[30, 112])\n",
    "Map"
   ]
  },
  {
   "cell_type": "code",
   "execution_count": null,
   "id": "713d64eb",
   "metadata": {
    "ExecuteTime": {
     "end_time": "2021-12-20T01:46:50.743731Z",
     "start_time": "2021-12-20T01:46:50.728743Z"
    }
   },
   "outputs": [],
   "source": [
    "roi_file = r'E:/Paper/Data/roi_shp/jiujiang.shp'\n",
    "# point_file = r'E:/Paper/Data/landuse/points.shp'"
   ]
  },
  {
   "cell_type": "code",
   "execution_count": null,
   "id": "7ce55f7c",
   "metadata": {
    "ExecuteTime": {
     "end_time": "2021-12-20T01:46:53.652006Z",
     "start_time": "2021-12-20T01:46:50.744701Z"
    }
   },
   "outputs": [],
   "source": [
    "roi = geemap.shp_to_ee(roi_file)\n",
    "psv = ee.FeatureCollection('users/2431566134liumonarch/points')"
   ]
  },
  {
   "cell_type": "code",
   "execution_count": null,
   "id": "ed3fbd89",
   "metadata": {
    "ExecuteTime": {
     "end_time": "2021-12-20T01:47:05.808572Z",
     "start_time": "2021-12-20T01:46:53.654001Z"
    }
   },
   "outputs": [],
   "source": [
    "Map.addLayer(roi, {}, 'roi')\n",
    "Map.addLayer(psv, {'color': 'FF0000'}, 'ps')"
   ]
  },
  {
   "cell_type": "code",
   "execution_count": null,
   "id": "7bb9b37d",
   "metadata": {
    "ExecuteTime": {
     "end_time": "2021-12-20T01:47:05.840174Z",
     "start_time": "2021-12-20T01:47:05.809539Z"
    }
   },
   "outputs": [],
   "source": [
    "from Monarch import user_gee\n",
    "year = 2019\n",
    "s2_year = []\n",
    "for i in range(3, 12):\n",
    "    s2 = ee.ImageCollection(\"COPERNICUS/S2\")\\\n",
    "            .filterBounds(roi)\\\n",
    "            .sort('CLOUD_COVERAGE_ASSESSMENT', False)\\\n",
    "            .filterDate(str(year), str(year+1))\\\n",
    "            .filter(ee.Filter.calendarRange(i, i, 'month'))\n",
    "    s2_rm_cloud = s2.map(user_gee.rm_cloud_s2_sr)\n",
    "    s2_z = s2.merge(s2_rm_cloud).mosaic()\n",
    "    a = s2.aggregate_array('system:time_start').map(lambda i: ee.Date(i).format('YYYY-MM-dd'))\n",
    "    s2_image = s2_z.addBands(s2_z.normalizedDifference(['B8', 'B11']).rename(\"S2_LSWI\"))\n",
    "    s2_image = s2_image.addBands(s2_z.normalizedDifference(['B8', 'B4']).rename(\"S2_NDVI_B84\"))\n",
    "    s2_year.append(s2_image)"
   ]
  },
  {
   "cell_type": "code",
   "execution_count": null,
   "id": "f87f7916",
   "metadata": {
    "ExecuteTime": {
     "end_time": "2021-12-20T02:17:39.374092Z",
     "start_time": "2021-12-20T02:17:39.356110Z"
    },
    "scrolled": true
   },
   "outputs": [],
   "source": [
    "image = ee.ImageCollection(s2_year).toBands().clip(roi.geometry())"
   ]
  },
  {
   "cell_type": "code",
   "execution_count": null,
   "id": "e7b1e3fa",
   "metadata": {
    "ExecuteTime": {
     "end_time": "2021-12-20T01:50:14.794753Z",
     "start_time": "2021-12-20T01:50:14.786775Z"
    }
   },
   "outputs": [],
   "source": [
    "ps = psv.filter(ee.Filter.lte('CID', 70))\n",
    "ps_y = psv.filter(ee.Filter.gt('CID', 70))"
   ]
  },
  {
   "cell_type": "code",
   "execution_count": null,
   "id": "ce12730a",
   "metadata": {
    "ExecuteTime": {
     "end_time": "2021-12-20T01:50:16.408409Z",
     "start_time": "2021-12-20T01:50:16.390458Z"
    }
   },
   "outputs": [],
   "source": [
    "label = 'RASTERVALU'\n",
    "\n",
    "training = image.sampleRegions(**{\n",
    "  'collection': psv,\n",
    "  'properties': [label],\n",
    "  'scale': 10\n",
    "})\n",
    "# 使用Cart(分类与回归树)\n",
    "trained = ee.Classifier.smileCart().train(training, label)"
   ]
  },
  {
   "cell_type": "code",
   "execution_count": null,
   "id": "c24a0a12",
   "metadata": {
    "ExecuteTime": {
     "end_time": "2021-12-18T01:17:00.383705Z",
     "start_time": "2021-12-18T01:15:58.292274Z"
    }
   },
   "outputs": [],
   "source": [
    "result = image.classify(trained)\n",
    "\n",
    "Map.addLayer(result.randomVisualizer(), {}, 'classfied')\n",
    "Map"
   ]
  },
  {
   "cell_type": "code",
   "execution_count": null,
   "id": "12d106d2",
   "metadata": {},
   "outputs": [],
   "source": []
  }
 ],
 "metadata": {
  "kernelspec": {
   "display_name": "Python 3 (ipykernel)",
   "language": "python",
   "name": "python3"
  },
  "language_info": {
   "codemirror_mode": {
    "name": "ipython",
    "version": 3
   },
   "file_extension": ".py",
   "mimetype": "text/x-python",
   "name": "python",
   "nbconvert_exporter": "python",
   "pygments_lexer": "ipython3",
   "version": "3.9.6"
  }
 },
 "nbformat": 4,
 "nbformat_minor": 5
}
