{
 "cells": [
  {
   "cell_type": "code",
   "execution_count": null,
   "id": "95e1e77a",
   "metadata": {
    "ExecuteTime": {
     "end_time": "2023-02-03T02:18:09.658452Z",
     "start_time": "2023-02-03T02:18:04.007648Z"
    },
    "tags": []
   },
   "outputs": [],
   "source": [
    "import geemap\n",
    "import ee\n",
    "\n",
    "Map = geemap.Map()\n",
    "Map"
   ]
  },
  {
   "cell_type": "code",
   "execution_count": null,
   "id": "6bf6f7db",
   "metadata": {
    "ExecuteTime": {
     "start_time": "2023-02-03T02:14:25.868Z"
    },
    "tags": []
   },
   "outputs": [],
   "source": [
    "image = ee.Image(\"projects/ee-2431566134liumonarch/assets/Gansu_pv_2020_part3_map\")\n",
    "Map.addLayer(image, {'palette':\"blue\"},'pv_final')"
   ]
  },
  {
   "cell_type": "code",
   "execution_count": null,
   "id": "9546389b-6d48-4103-87ce-48c8d134531c",
   "metadata": {
    "tags": []
   },
   "outputs": [],
   "source": [
    "roi = image.geometry()\n",
    "Map.addLayer(roi, {}, \"roi\")"
   ]
  },
  {
   "cell_type": "code",
   "execution_count": null,
   "id": "2c9aa04e-2cba-4569-a240-d4bb0a11c0f8",
   "metadata": {
    "tags": []
   },
   "outputs": [],
   "source": [
    "geemap.download_ee_image(image, r'D:\\Work\\Gansu_pv_2020_part3_map.tif', region=roi, crs='epsg:4326', scale=30)"
   ]
  },
  {
   "cell_type": "code",
   "execution_count": null,
   "id": "2053a04c-a0fe-44df-80ef-2caa88a8006e",
   "metadata": {
    "tags": []
   },
   "outputs": [],
   "source": [
    "Map.center_object(roi, 8)"
   ]
  },
  {
   "cell_type": "markdown",
   "id": "367e7ae3-5f04-4719-9219-cb06c7677393",
   "metadata": {
    "tags": []
   },
   "source": [
    "### 连通像元数量去除小斑块"
   ]
  },
  {
   "cell_type": "code",
   "execution_count": null,
   "id": "494bae99",
   "metadata": {
    "ExecuteTime": {
     "end_time": "2023-02-01T07:52:22.696526Z",
     "start_time": "2023-02-01T07:52:22.684844Z"
    },
    "tags": []
   },
   "outputs": [],
   "source": [
    "img_c = image.connectedPixelCount(50, False)\n",
    "image_mask = image.mask(img_c.gte(50))\n",
    "Map.addLayer(image_mask, {'palette':\"red\"},'pv_final_mask')"
   ]
  },
  {
   "cell_type": "code",
   "execution_count": null,
   "id": "7a9a7629",
   "metadata": {
    "ExecuteTime": {
     "end_time": "2023-02-01T07:52:23.307047Z",
     "start_time": "2023-02-01T07:52:23.291296Z"
    },
    "tags": []
   },
   "outputs": [],
   "source": [
    "image_mask_vector = image_mask.reduceToVectors(**{\n",
    "    'geometry':roi,\n",
    "    'scale': 30,\n",
    "    'maxPixels': 1e13\n",
    "})"
   ]
  },
  {
   "cell_type": "code",
   "execution_count": null,
   "id": "f90ddbad",
   "metadata": {
    "ExecuteTime": {
     "end_time": "2023-01-30T13:51:33.731330Z",
     "start_time": "2023-01-30T13:51:30.598741Z"
    },
    "tags": []
   },
   "outputs": [],
   "source": [
    "Map.addLayer(image_mask_vector, {'color':'green'}, 'vector')"
   ]
  },
  {
   "cell_type": "markdown",
   "id": "3693ad93-79fa-46df-9423-77cc94c4ff0e",
   "metadata": {
    "tags": []
   },
   "source": [
    "### 面积周长比去除不规则矢量"
   ]
  },
  {
   "cell_type": "code",
   "execution_count": null,
   "id": "55b17b8e",
   "metadata": {
    "ExecuteTime": {
     "end_time": "2023-01-30T13:51:33.747288Z",
     "start_time": "2023-01-30T13:51:33.732328Z"
    }
   },
   "outputs": [],
   "source": [
    "def feature_area_per(feature):\n",
    "    feature = ee.Feature(feature)\n",
    "    area = feature.area(0.01)\n",
    "    perimeter = feature.perimeter(0.01)\n",
    "    feature = feature.set('area', area, 'perimeter', perimeter, 'ratio', area.divide(perimeter))\n",
    "    return feature"
   ]
  },
  {
   "cell_type": "code",
   "execution_count": null,
   "id": "f6e13b8e",
   "metadata": {
    "ExecuteTime": {
     "end_time": "2023-01-30T13:51:33.762248Z",
     "start_time": "2023-01-30T13:51:33.749285Z"
    }
   },
   "outputs": [],
   "source": [
    "feature_image = image_mask_vector.map(feature_area_per)"
   ]
  },
  {
   "cell_type": "code",
   "execution_count": null,
   "id": "a06ce43f",
   "metadata": {
    "ExecuteTime": {
     "end_time": "2023-01-30T13:52:23.366548Z",
     "start_time": "2023-01-30T13:52:22.103612Z"
    }
   },
   "outputs": [],
   "source": [
    "Map.addLayer(feature_image.filter(ee.Filter.gt('ratio', 45)), \n",
    "             {'color':'red'}, 'feature_image')"
   ]
  },
  {
   "cell_type": "markdown",
   "id": "c2373adb-671e-4b58-89d3-d027cf7b3ef3",
   "metadata": {
    "tags": []
   },
   "source": [
    "### 矢量导出"
   ]
  },
  {
   "cell_type": "code",
   "execution_count": null,
   "id": "9c00de58-98d3-471b-bd87-92c542f4b8ca",
   "metadata": {
    "tags": []
   },
   "outputs": [],
   "source": [
    "geemap.ee_to_shp(image_mask_vector, r'D:\\Data\\feature_image.shp')"
   ]
  },
  {
   "cell_type": "code",
   "execution_count": null,
   "id": "cafb3748",
   "metadata": {},
   "outputs": [],
   "source": []
  }
 ],
 "metadata": {
  "kernelspec": {
   "display_name": "Python 3 (ipykernel)",
   "language": "python",
   "name": "python3"
  },
  "language_info": {
   "codemirror_mode": {
    "name": "ipython",
    "version": 3
   },
   "file_extension": ".py",
   "mimetype": "text/x-python",
   "name": "python",
   "nbconvert_exporter": "python",
   "pygments_lexer": "ipython3",
   "version": "3.10.10"
  }
 },
 "nbformat": 4,
 "nbformat_minor": 5
}
