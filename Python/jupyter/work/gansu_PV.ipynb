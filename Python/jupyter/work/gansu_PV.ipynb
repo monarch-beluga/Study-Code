{
 "cells": [
  {
   "cell_type": "code",
   "execution_count": 1,
   "id": "95e1e77a",
   "metadata": {
    "ExecuteTime": {
     "end_time": "2023-02-03T02:18:09.658452Z",
     "start_time": "2023-02-03T02:18:04.007648Z"
    }
   },
   "outputs": [
    {
     "data": {
      "application/vnd.jupyter.widget-view+json": {
       "model_id": "1ca01b389a944b91b8879010bd26174c",
       "version_major": 2,
       "version_minor": 0
      },
      "text/plain": [
       "Map(center=[20, 0], controls=(WidgetControl(options=['position', 'transparent_bg'], widget=HBox(children=(Togg…"
      ]
     },
     "metadata": {},
     "output_type": "display_data"
    }
   ],
   "source": [
    "import geemap\n",
    "import ee\n",
    "\n",
    "Map = geemap.Map()\n",
    "Map"
   ]
  },
  {
   "cell_type": "code",
   "execution_count": null,
   "id": "ff1b1768",
   "metadata": {
    "ExecuteTime": {
     "start_time": "2023-02-03T02:15:33.812Z"
    }
   },
   "outputs": [],
   "source": [
    "import os\n",
    "os.chdir(r'H:\\Monarch\\Work\\Gansu_PV_2020_map')"
   ]
  },
  {
   "cell_type": "code",
   "execution_count": null,
   "id": "270b245d",
   "metadata": {
    "ExecuteTime": {
     "start_time": "2023-02-03T02:15:37.924Z"
    }
   },
   "outputs": [],
   "source": [
    "shp_file = r'gansu_pv_roi_prj.shp'\n",
    "shp = geemap.shp_to_ee(shp_file)"
   ]
  },
  {
   "cell_type": "code",
   "execution_count": null,
   "id": "e493d9d6",
   "metadata": {
    "ExecuteTime": {
     "start_time": "2023-02-03T02:15:44.309Z"
    }
   },
   "outputs": [],
   "source": [
    "Map.addLayer(shp, {}, 'shp1')\n",
    "Map.center_object(shp, 6)\n",
    "roi = shp.geometry()"
   ]
  },
  {
   "cell_type": "code",
   "execution_count": null,
   "id": "6bf6f7db",
   "metadata": {
    "ExecuteTime": {
     "start_time": "2023-02-03T02:14:25.868Z"
    }
   },
   "outputs": [],
   "source": [
    "image = ee.Image(\"projects/ee-2431566134liumonarch/assets/Gansu_pv_2020_part3_map\")\n",
    "Map.addLayer(image, {'palette':\"blue\"},'pv_final')"
   ]
  },
  {
   "cell_type": "code",
   "execution_count": null,
   "id": "494bae99",
   "metadata": {
    "ExecuteTime": {
     "end_time": "2023-02-01T07:52:22.696526Z",
     "start_time": "2023-02-01T07:52:22.684844Z"
    }
   },
   "outputs": [],
   "source": [
    "img_c = image.connectedPixelCount(50, False)\n",
    "# Map.addLayer(img_c.gte(150), {'min':1, 'max': 1, 'palette': ['ff0000']},'img_c')\n",
    "# geemap.ee_export_image(img_c.clip(window), 'img_c.tif', 30, region=window)"
   ]
  },
  {
   "cell_type": "code",
   "execution_count": null,
   "id": "d3ceb81f",
   "metadata": {
    "ExecuteTime": {
     "end_time": "2023-02-01T07:52:22.840639Z",
     "start_time": "2023-02-01T07:52:22.824686Z"
    }
   },
   "outputs": [],
   "source": [
    "image_mask = image.mask(img_c.gte(50))\n",
    "# Map.addLayer(image_mask, {'palette':\"red\"},'pv_final_mask')"
   ]
  },
  {
   "cell_type": "code",
   "execution_count": null,
   "id": "7a9a7629",
   "metadata": {
    "ExecuteTime": {
     "end_time": "2023-02-01T07:52:23.307047Z",
     "start_time": "2023-02-01T07:52:23.291296Z"
    }
   },
   "outputs": [],
   "source": [
    "image_mask_vector = image_mask.reduceToVectors(**{\n",
    "    'geometry':roi,\n",
    "    'scale': 30,\n",
    "    'maxPixels': 1e13\n",
    "})"
   ]
  },
  {
   "cell_type": "code",
   "execution_count": null,
   "id": "f90ddbad",
   "metadata": {
    "ExecuteTime": {
     "end_time": "2023-01-30T13:51:33.731330Z",
     "start_time": "2023-01-30T13:51:30.598741Z"
    }
   },
   "outputs": [],
   "source": [
    "Map.addLayer(image_mask_vector, {'color':'green'}, 'vector')"
   ]
  },
  {
   "cell_type": "code",
   "execution_count": null,
   "id": "55b17b8e",
   "metadata": {
    "ExecuteTime": {
     "end_time": "2023-01-30T13:51:33.747288Z",
     "start_time": "2023-01-30T13:51:33.732328Z"
    }
   },
   "outputs": [],
   "source": [
    "def feature_area_per(feature):\n",
    "    feature = ee.Feature(feature)\n",
    "    area = feature.area(0.01)\n",
    "    perimeter = feature.perimeter(0.01)\n",
    "    feature = feature.set('area', area, 'perimeter', perimeter, 'ratio', area.divide(perimeter))\n",
    "    return feature"
   ]
  },
  {
   "cell_type": "code",
   "execution_count": null,
   "id": "f6e13b8e",
   "metadata": {
    "ExecuteTime": {
     "end_time": "2023-01-30T13:51:33.762248Z",
     "start_time": "2023-01-30T13:51:33.749285Z"
    }
   },
   "outputs": [],
   "source": [
    "feature_image = image_mask_vector.map(feature_area_per)"
   ]
  },
  {
   "cell_type": "code",
   "execution_count": null,
   "id": "a06ce43f",
   "metadata": {
    "ExecuteTime": {
     "end_time": "2023-01-30T13:52:23.366548Z",
     "start_time": "2023-01-30T13:52:22.103612Z"
    }
   },
   "outputs": [],
   "source": [
    "Map.addLayer(feature_image.filter(ee.Filter.gt('ratio', 45)), \n",
    "             {'color':'red'}, 'feature_image')"
   ]
  },
  {
   "cell_type": "markdown",
   "id": "55ef1b8b",
   "metadata": {},
   "source": [
    "### 矢量导出"
   ]
  },
  {
   "cell_type": "code",
   "execution_count": null,
   "id": "129aeebe",
   "metadata": {
    "ExecuteTime": {
     "start_time": "2023-01-30T11:28:54.104Z"
    }
   },
   "outputs": [],
   "source": [
    "geemap.ee_to_shp(feature_image.filter(ee.Filter.gt('ratio', 45)), r'feature_image_f.shp')\n",
    "\n",
    "geemap.ee_to_shp(feature_image, r'feature_image.shp')"
   ]
  },
  {
   "cell_type": "code",
   "execution_count": null,
   "id": "ef647147",
   "metadata": {},
   "outputs": [],
   "source": []
  },
  {
   "cell_type": "code",
   "execution_count": null,
   "id": "56f160a2",
   "metadata": {
    "ExecuteTime": {
     "end_time": "2023-02-01T07:52:51.219731Z",
     "start_time": "2023-02-01T07:52:51.212738Z"
    }
   },
   "outputs": [],
   "source": [
    "from Monarch.user_gee import *"
   ]
  },
  {
   "cell_type": "code",
   "execution_count": null,
   "id": "ecd02d13",
   "metadata": {
    "ExecuteTime": {
     "end_time": "2023-02-01T08:01:22.876902Z",
     "start_time": "2023-02-01T08:00:08.020869Z"
    }
   },
   "outputs": [],
   "source": [
    "clip_dow_merge(roi, image, 'image', 30, 2)"
   ]
  },
  {
   "cell_type": "code",
   "execution_count": null,
   "id": "cafb3748",
   "metadata": {},
   "outputs": [],
   "source": []
  }
 ],
 "metadata": {
  "kernelspec": {
   "display_name": "Python 3 (ipykernel)",
   "language": "python",
   "name": "python3"
  },
  "language_info": {
   "codemirror_mode": {
    "name": "ipython",
    "version": 3
   },
   "file_extension": ".py",
   "mimetype": "text/x-python",
   "name": "python",
   "nbconvert_exporter": "python",
   "pygments_lexer": "ipython3",
   "version": "3.9.7"
  }
 },
 "nbformat": 4,
 "nbformat_minor": 5
}
