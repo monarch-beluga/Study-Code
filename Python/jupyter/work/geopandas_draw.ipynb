{
 "cells": [
  {
   "cell_type": "code",
   "execution_count": null,
   "id": "3a4498d6-ea44-40c5-8e79-93b720e44714",
   "metadata": {
    "tags": []
   },
   "outputs": [],
   "source": [
    "import matplotlib.pyplot as plt\n",
    "import numpy as np\n",
    "import pandas as pd\n",
    "from matplotlib.gridspec import GridSpec\n",
    "import matplotlib.patches as mpatches\n",
    "import random\n",
    "import geopandas as gpd\n",
    "from matplotlib.colors import ListedColormap,LinearSegmentedColormap\n",
    "import time\n",
    "\n",
    "path = r'D:\\Work\\江西合作团队\\PKU_CH4.xlsx'\n",
    "\n",
    "df = pd.DataFrame()\n",
    "fdir = pd.read_excel(path, sheet_name=None)\n",
    "fdir1 = pd.read_excel(path, sheet_name=1)\n",
    "\n",
    "df_sum = fdir['Other'].iloc[:, 2:] + fdir['Other1'].iloc[:, 2:] + fdir['Other2'].iloc[:, 2:]\n",
    "df1 = pd.concat([fdir['Other'].iloc[:, :2], df_sum], axis=1)\n",
    "vrs = ['Other', 'Other1', 'Other2']\n",
    "for vr in vrs:\n",
    "    del fdir[vr]\n",
    "fdir['other'] = df1\n",
    "keys = list(fdir.keys())\n",
    "\n",
    "df0 = fdir1.iloc[:, [1]]  # 市名\n",
    "key0 = list(fdir.keys())\n",
    "\n",
    "lst = []\n",
    "names = []\n",
    "for name in df0['NAME']:\n",
    "    locals()[f'df_{name}'] = pd.DataFrame()\n",
    "    for value in fdir.values():\n",
    "        dfn = value[value['NAME'] == name].loc[:, 2000:2019]\n",
    "        dfn = dfn / (1000000000000000)\n",
    "        locals()[f'df_{name}'] = pd.concat([locals()[f'df_{name}'], dfn], axis=0)\n",
    "    locals()[f'df_{name}'].index = key0\n",
    "    lst.append(locals()[f'df_{name}'])\n",
    "    names.append(name)\n"
   ]
  },
  {
   "cell_type": "code",
   "execution_count": null,
   "id": "832edfcc-4807-439d-91ee-b3410e04f166",
   "metadata": {
    "tags": []
   },
   "outputs": [],
   "source": [
    "def get_colors(n):\n",
    "    colors = []\n",
    "    for i in range(n):\n",
    "        color = ''.join([random.choice('0123456789ABCDEF') for j in range(6)])\n",
    "        colors.append('#' + color)\n",
    "    return colors"
   ]
  },
  {
   "cell_type": "code",
   "execution_count": null,
   "id": "3f279659-d2a5-4e59-9332-c928e61d06c6",
   "metadata": {
    "tags": []
   },
   "outputs": [],
   "source": [
    "grid_mat = [\n",
    "    [1, 1, 1, 1, 1, 1, 1, 1], \n",
    "    [1, 1, 0, 0, 0, 0, 1, 1],\n",
    "    [1, 1, 0, 0, 0, 0, 1, 1],\n",
    "    [1, 1, 0, 0, 0, 0, 1, 1],\n",
    "    [1, 1, 0, 0, 0, 0, 1, 1],\n",
    "    [1, 1, 1, 1, 1, 1, 1, 1]\n",
    "]\n",
    "colors = get_colors(32)"
   ]
  },
  {
   "cell_type": "code",
   "execution_count": null,
   "id": "ef44716a-0ccb-4246-9ebf-cc8a117ce41c",
   "metadata": {
    "tags": []
   },
   "outputs": [],
   "source": [
    "path_polygon = r'D:\\Work\\江西合作团队\\boundary\\proidalbers.shp'\n",
    "path_line = r'D:\\Work\\江西合作团队\\boundary\\boundaryline.shp'"
   ]
  },
  {
   "cell_type": "code",
   "execution_count": null,
   "id": "24bdec13-d5b1-4748-833e-98583a7a5874",
   "metadata": {},
   "outputs": [],
   "source": [
    "gdf_pl.plot()"
   ]
  },
  {
   "cell_type": "code",
   "execution_count": null,
   "id": "e8e1ee4d-cf94-4e0a-a248-81c5afdf772e",
   "metadata": {
    "tags": []
   },
   "outputs": [],
   "source": [
    "star = time.time()\n",
    "# grid_size为网格长宽\n",
    "grid_size = 4\n",
    "# row 为 网格的 行数\n",
    "row = len(grid_mat)\n",
    "# col为网格列数\n",
    "col = len(grid_mat[0])\n",
    "# 设置画布大小\n",
    "fig = plt.figure(figsize = (grid_size*col, grid_size*row))\n",
    "# 定义网格\n",
    "grid = GridSpec(row, col)\n",
    "\n",
    "lst2 = ['b', 'g', 'r', 'c', 'm', 'y', 'k']\n",
    "x = np.arange(2000, 2020)\n",
    "\n",
    "p = 0\n",
    "# grid_x 控制子图绘制在哪一行\n",
    "for grid_x, i in enumerate(grid_mat):\n",
    "    # grid_y控制子图绘制在哪一列\n",
    "    for grid_y, j in enumerate(i):\n",
    "        # 当矩阵中为0时，不绘制子图，留空位\n",
    "        if j == 0:\n",
    "            continue\n",
    "        # 当矩阵中不为0时绘制子图\n",
    "        ax = fig.add_subplot(grid[grid_x, grid_y])\n",
    "        # 循环绘制点线图\n",
    "        for t in range(7):\n",
    "            y = lst[p].iloc[t, :]\n",
    "            ax.plot(x, y, color=lst2[t], label=key0[t])\n",
    "        # 设置标题\n",
    "        ax.set_title(names[p])\n",
    "        # 坐标轴设置\n",
    "        ax.set(xlim=(2000, 2019), xticks=np.arange(2000, 2019, 5))\n",
    "        ax.ticklabel_format(style='sci', scilimits=(-1, 2), axis='y')\n",
    "        p += 1\n",
    "\n",
    "dic = {'Guangdong':(0.4,0.6),'Hainan':(0,0.9),'Macau':(0,-5),'Hongkong':(1,1), 'Hebei':(0.1,0.3),\n",
    "       'Shanxi':(0.2,0.4), 'Jiangxi': (0.2,0.5), 'Inner Mongolia':(0.2,0.2), 'Gansu':(0.2,0.7),\n",
    "       'Shaanxi':(0.3,0.3)}\n",
    "\n",
    "# geopandas 读取矢量shp\n",
    "gdf_pl = gpd.read_file(path_line)\n",
    "gdf_py = gpd.read_file(path_polygon).to_crs(gdf_pl.crs)\n",
    "\n",
    "# 设置中间子图位置\n",
    "ax = fig.add_subplot(grid[1:5, 2:6])\n",
    "\n",
    "# 使用颜色color表自定义camp色带\n",
    "newcmp = LinearSegmentedColormap.from_list('chaos',colors)\n",
    "# 绘制面状矢量图，应用camp\n",
    "gpd.plotting.plot_dataframe(gdf_py, ax=ax, edgecolor='black', linewidth=0.05, cmap=newcmp, alpha=0.7)\n",
    "\n",
    "# 循环标注城市名称\n",
    "for i, record in gdf_py.iterrows():\n",
    "    name = record['NAME']\n",
    "    # bound = record.geometry.bounds\n",
    "    x = record.geometry.centroid.x\n",
    "    y = record.geometry.centroid.y\n",
    "    \n",
    "#     x_l = bound[2]-bound[0]\n",
    "#     y_l = bound[3]-bound[1]\n",
    "    \n",
    "#     if name in dic:\n",
    "#         x = bound[0]+dic[name][0]*x_l\n",
    "#         y = bound[1]+dic[name][1]*y_l\n",
    "    \n",
    "#     else:\n",
    "#         x = bound[0]+x_l*0.3\n",
    "#         y = bound[1]+y_l*0.5\n",
    "    \n",
    "    ax.text(x, y, name, fontsize=10,fontstyle='oblique',fontweight= 'bold',  horizontalalignment='center')\n",
    "\n",
    "# 绘制经纬网线状矢量图\n",
    "gpd.plotting.plot_dataframe(gdf_pl, linewidth=1, color='#33bcf2', ax=ax, alpha=0.7)\n",
    "\n",
    "# 设置坐标轴范围来放大图像\n",
    "bounds = gdf_pl.bounds\n",
    "ax.set_xlim((bounds['minx'].min(), bounds['maxx'].max()))\n",
    "ax.set_ylim((bounds['miny'].min(), bounds['maxy'].max()))\n",
    "\n",
    "# 隐藏坐标轴\n",
    "ax.axis('off')\n",
    "\n",
    "# 定义图例\n",
    "labels = lst[1].index\n",
    "fig.legend(labels, bbox_to_anchor=(0.75, 0.92), ncol=7, fontsize='large', title_fontsize=\"10\")\n",
    "\n",
    "plt.show()\n",
    "time.time() - star"
   ]
  },
  {
   "cell_type": "code",
   "execution_count": null,
   "id": "f505580b-6d70-4ea0-b49d-f3fe5e8dbfc7",
   "metadata": {},
   "outputs": [],
   "source": []
  },
  {
   "cell_type": "code",
   "execution_count": null,
   "id": "8dc31e56-3e3e-4df9-b3e1-1e68a4695a0f",
   "metadata": {},
   "outputs": [],
   "source": []
  },
  {
   "cell_type": "code",
   "execution_count": null,
   "id": "6331b44f-117b-44eb-94a9-04b71c796040",
   "metadata": {
    "tags": []
   },
   "outputs": [],
   "source": [
    "import geemap\n",
    "import ee\n",
    "\n",
    "Map = geemap.Map()\n",
    "Map"
   ]
  },
  {
   "cell_type": "code",
   "execution_count": null,
   "id": "31b62198-da65-432a-a0f6-14a21a847b31",
   "metadata": {
    "tags": []
   },
   "outputs": [],
   "source": [
    "import os\n",
    "\n",
    "os.chdir('D:/Work/WinterWheat/')"
   ]
  },
  {
   "cell_type": "code",
   "execution_count": null,
   "id": "a3131716-0012-45a0-bcd7-cec0aabc5e1b",
   "metadata": {},
   "outputs": [],
   "source": [
    "image = ee.Image('users/2431566134liumonarch/XJ_class3')\n",
    "# landcover = image.set('classification_class_values', class_values)**\n",
    "# landcover = landcover.set('classification_class_palette', class_palette)\n",
    "Map.addLayer(image.mask(image.eq(1)), {'min': 0, 'max': 1}, 'landcover')"
   ]
  },
  {
   "cell_type": "code",
   "execution_count": null,
   "id": "492f809f-dbd0-4a78-afcf-3a4237b5d607",
   "metadata": {
    "tags": []
   },
   "outputs": [],
   "source": [
    "xj_shp = geemap.shp_to_ee('XJ.shp')\n",
    "xj_roi = xj_shp.geometry()\n",
    "Map.addLayer(xj_roi, {}, 'xj_roi')\n",
    "Map.center_object(xj_roi)"
   ]
  },
  {
   "cell_type": "code",
   "execution_count": null,
   "id": "938b8563-094f-43ac-b3e0-498bf2480950",
   "metadata": {
    "tags": []
   },
   "outputs": [],
   "source": [
    "geemap.download_ee_image(image, 'WinterWheat_2022.tif', xj_roi, 'epsg:4236', scale=30)"
   ]
  },
  {
   "cell_type": "code",
   "execution_count": null,
   "id": "61e0920e-b7f2-407c-bf68-ffd33bfd1bfb",
   "metadata": {},
   "outputs": [],
   "source": []
  }
 ],
 "metadata": {
  "kernelspec": {
   "display_name": "Python 3 (ipykernel)",
   "language": "python",
   "name": "python3"
  },
  "language_info": {
   "codemirror_mode": {
    "name": "ipython",
    "version": 3
   },
   "file_extension": ".py",
   "mimetype": "text/x-python",
   "name": "python",
   "nbconvert_exporter": "python",
   "pygments_lexer": "ipython3",
   "version": "3.10.10"
  }
 },
 "nbformat": 4,
 "nbformat_minor": 5
}
