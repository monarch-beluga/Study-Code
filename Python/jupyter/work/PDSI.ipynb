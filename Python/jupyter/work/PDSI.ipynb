{
 "cells": [
  {
   "cell_type": "code",
   "execution_count": 43,
   "id": "24796415",
   "metadata": {
    "ExecuteTime": {
     "end_time": "2021-10-10T08:03:39.171378Z",
     "start_time": "2021-10-10T08:03:29.047162Z"
    },
    "scrolled": false
   },
   "outputs": [
    {
     "data": {
      "application/vnd.jupyter.widget-view+json": {
       "model_id": "2c859478d5d14cb79e54c6bac1592867",
       "version_major": 2,
       "version_minor": 0
      },
      "text/plain": [
       "Map(center=[40, -100], controls=(WidgetControl(options=['position', 'transparent_bg'], widget=HBox(children=(T…"
      ]
     },
     "metadata": {},
     "output_type": "display_data"
    }
   ],
   "source": [
    "import geemap\n",
    "import ee\n",
    "Map = geemap.Map()\n",
    "Map"
   ]
  },
  {
   "cell_type": "code",
   "execution_count": 40,
   "id": "14cf650d",
   "metadata": {
    "ExecuteTime": {
     "end_time": "2021-10-10T08:04:22.246417Z",
     "start_time": "2021-10-10T08:04:22.243415Z"
    }
   },
   "outputs": [],
   "source": [
    "#绘制边界\n",
    "feature = Map.draw_last_feature\n",
    "#形成面几何\n",
    "roi = feature.geometry()"
   ]
  },
  {
   "cell_type": "code",
   "execution_count": 41,
   "id": "e84d9d03",
   "metadata": {},
   "outputs": [
    {
     "data": {
      "text/plain": [
       "{'geodesic': False,\n",
       " 'type': 'Polygon',\n",
       " 'coordinates': [[[-642.410077, 34.624168],\n",
       "   [-642.410077, 43.092961],\n",
       "   [-623.416962, 43.092961],\n",
       "   [-623.416962, 34.624168],\n",
       "   [-642.410077, 34.624168]]]}"
      ]
     },
     "execution_count": 41,
     "metadata": {},
     "output_type": "execute_result"
    }
   ],
   "source": [
    "roi.getInfo()"
   ]
  },
  {
   "cell_type": "code",
   "execution_count": 29,
   "id": "014d7135",
   "metadata": {},
   "outputs": [],
   "source": [
    "polygon = ee.Geometry.Rectangle([90, 40, 110, 60])\n",
    "roi = ee.Geometry(polygon, None, False)"
   ]
  },
  {
   "cell_type": "code",
   "execution_count": 32,
   "id": "82c02b66",
   "metadata": {},
   "outputs": [
    {
     "data": {
      "text/plain": [
       "{'geodesic': False,\n",
       " 'type': 'Polygon',\n",
       " 'coordinates': [[[90, 40], [110, 40], [110, 60], [90, 60], [90, 40]]]}"
      ]
     },
     "execution_count": 32,
     "metadata": {},
     "output_type": "execute_result"
    }
   ],
   "source": [
    "roi.getInfo()"
   ]
  },
  {
   "cell_type": "code",
   "execution_count": 8,
   "id": "bb20589b",
   "metadata": {
    "ExecuteTime": {
     "end_time": "2021-10-10T08:11:24.785839Z",
     "start_time": "2021-10-10T08:11:03.046232Z"
    }
   },
   "outputs": [
    {
     "name": "stdout",
     "output_type": "stream",
     "text": [
      "Generating URL ...\n",
      "Downloading data from https://earthengine.googleapis.com/v1alpha/projects/earthengine-legacy/thumbnails/8fdc2128aa3ed4731342b2ab54359625-cb7010aac6143aec4e9993e9a17d0694:getPixels\n",
      "Please wait ...\n",
      "Data downloaded to E:\\Data\\mean.tif\n"
     ]
    }
   ],
   "source": [
    "image = ee.ImageCollection(\"IDAHO_EPSCOR/TERRACLIMATE\").select(\"pdsi\").filter(ee.Filter.calendarRange(1982,2020,'year'))\\\n",
    ".filter(ee.Filter.calendarRange(4,11,'month')).mean()\n",
    "maximumTemperatureVis = {\n",
    "  \"min\": -300.0,\n",
    "  \"max\": 300.0,\n",
    "  \"palette\": [\n",
    "    '1a3678', '2955bc', '5699ff', '8dbae9', 'acd1ff', 'caebff', 'e5f9ff',\n",
    "    'fdffb4', 'ffe6a2', 'ffc969', 'ffa12d', 'ff7c1f', 'ca531a', 'ff0000',\n",
    "    'ab0000'\n",
    "  ],\n",
    "}\n",
    "# cipped_image = image.clip(roi) # 裁剪图层，image文件被裁剪图层，states为裁剪图层\n",
    "Map.addLayer(image, maximumTemperatureVis, 'Maximum Temperature')\n",
    "geemap.ee_export_image(image, filename=r\"E:/Data/mean.tif\", region=roi, scale=8000)\n",
    "# geemap.ee_export_image_to_drive(image, description=\"pdsi\", folder=\"ndvi\", region=roi, scale=8000)"
   ]
  },
  {
   "cell_type": "code",
   "execution_count": 35,
   "id": "c92cae96",
   "metadata": {},
   "outputs": [
    {
     "name": "stdout",
     "output_type": "stream",
     "text": [
      "Generating URL ...\n",
      "Downloading data from https://earthengine.googleapis.com/v1alpha/projects/earthengine-legacy/thumbnails/f1b13e8277f4089eb8983bd1557d2ea1-f11c6ea44a26e3a55148a54d45d24c11:getPixels\n",
      "Please wait ...\n",
      "Data downloaded to E:\\Data\\amean1.tif\n"
     ]
    }
   ],
   "source": [
    "geemap.ee_export_image(image, filename=r\"E:/Data/amean1.tif\", region=roi1, scale=8000, crs='EPSG:4326')"
   ]
  },
  {
   "cell_type": "code",
   "execution_count": 17,
   "id": "61c7c792",
   "metadata": {},
   "outputs": [
    {
     "name": "stdout",
     "output_type": "stream",
     "text": [
      "Image.sampleRectangle: Fully masked pixels / pixels outside of the image footprint when sampling band 'pdsi' with no default value set. Note that calling sampleRectangle() on an image after ee.Image.clip() may result in a sampling bounding box outside the geometry passed to clip().\n"
     ]
    }
   ],
   "source": [
    "a = geemap.ee_to_numpy(image, region=roi)"
   ]
  },
  {
   "cell_type": "code",
   "execution_count": null,
   "id": "5742a50b",
   "metadata": {
    "ExecuteTime": {
     "end_time": "2021-10-10T02:55:27.162400Z",
     "start_time": "2021-10-10T02:55:26.618227Z"
    }
   },
   "outputs": [],
   "source": [
    "image.size().getInfo()"
   ]
  },
  {
   "cell_type": "code",
   "execution_count": 24,
   "id": "009fd634",
   "metadata": {
    "ExecuteTime": {
     "end_time": "2021-10-10T10:13:43.951830Z",
     "start_time": "2021-10-10T10:13:43.946793Z"
    }
   },
   "outputs": [],
   "source": [
    "idaho = ee.ImageCollection(\"IDAHO_EPSCOR/TERRACLIMATE\")\n",
    "idaho_mean = idaho.filter(ee.Filter.calendarRange(1982,2020,'year'))\\\n",
    ".filter(ee.Filter.calendarRange(4,10,'month')).select('pdsi').mean()\n",
    "# geemap.ee_export_image_to_drive(idaho_mean,folder = 'ndvi',description = 'pdsi_test' ,region=roi,file_format='GeoTIFF',scale=8000)"
   ]
  },
  {
   "cell_type": "code",
   "execution_count": null,
   "id": "c57fcb73",
   "metadata": {
    "ExecuteTime": {
     "end_time": "2021-10-10T10:08:44.743333Z",
     "start_time": "2021-10-10T10:08:40.016546Z"
    }
   },
   "outputs": [],
   "source": [
    "Map.addLayer(idaho_mean, maximumTemperatureVis, 'pdsi')"
   ]
  },
  {
   "cell_type": "code",
   "execution_count": 30,
   "id": "db669a04",
   "metadata": {
    "ExecuteTime": {
     "end_time": "2021-10-10T10:13:50.745870Z",
     "start_time": "2021-10-10T10:13:46.543870Z"
    }
   },
   "outputs": [
    {
     "name": "stdout",
     "output_type": "stream",
     "text": [
      "Generating URL ...\n",
      "Downloading data from https://earthengine.googleapis.com/v1alpha/projects/earthengine-legacy/thumbnails/e5940f10468d78b474cb2cf3546e99cf-8646dd69440a161a95ee818450ed9ea7:getPixels\n",
      "Please wait ...\n",
      "Data downloaded to E:\\Data\\mean.tif\n"
     ]
    }
   ],
   "source": [
    "# roi = Map.draw_last_feature.geometry()\n",
    "geemap.ee_export_image(idaho_mean, filename=r\"E:/Data/mean.tif\", region=roi, scale=8000)"
   ]
  },
  {
   "cell_type": "code",
   "execution_count": null,
   "id": "90aaa8b1",
   "metadata": {},
   "outputs": [],
   "source": []
  }
 ],
 "metadata": {
  "kernelspec": {
   "display_name": "Python 3 (ipykernel)",
   "language": "python",
   "name": "python3"
  },
  "language_info": {
   "codemirror_mode": {
    "name": "ipython",
    "version": 3
   },
   "file_extension": ".py",
   "mimetype": "text/x-python",
   "name": "python",
   "nbconvert_exporter": "python",
   "pygments_lexer": "ipython3",
   "version": "3.9.6"
  },
  "varInspector": {
   "cols": {
    "lenName": 16,
    "lenType": 16,
    "lenVar": 40
   },
   "kernels_config": {
    "python": {
     "delete_cmd_postfix": "",
     "delete_cmd_prefix": "del ",
     "library": "var_list.py",
     "varRefreshCmd": "print(var_dic_list())"
    },
    "r": {
     "delete_cmd_postfix": ") ",
     "delete_cmd_prefix": "rm(",
     "library": "var_list.r",
     "varRefreshCmd": "cat(var_dic_list()) "
    }
   },
   "types_to_exclude": [
    "module",
    "function",
    "builtin_function_or_method",
    "instance",
    "_Feature"
   ],
   "window_display": false
  }
 },
 "nbformat": 4,
 "nbformat_minor": 5
}
