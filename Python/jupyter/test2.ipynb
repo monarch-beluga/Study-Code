{
 "cells": [
  {
   "cell_type": "code",
   "execution_count": 1,
   "metadata": {},
   "outputs": [],
   "source": [
    "import ee,geemap\n",
    "import numpy as np\n",
    "Map = geemap.Map()\n",
    "Map.add_basemap()\n",
    "sh_cn = ee.Geometry.Rectangle([70, 0, 138, 55], None, False)\n",
    "sh = ee.Geometry.Rectangle([-180, -90, 180, 90], None, False)\n",
    "clip_region = ee.Geometry.Rectangle([-180, -30, 180, 30], None, False)"
   ]
  },
  {
   "cell_type": "code",
   "execution_count": 2,
   "metadata": {},
   "outputs": [
    {
     "data": {
      "text/html": [
       "\n",
       "            <style>\n",
       "                .geemap-dark {\n",
       "                    --jp-widgets-color: white;\n",
       "                    --jp-widgets-label-color: white;\n",
       "                    --jp-ui-font-color1: white;\n",
       "                    --jp-layout-color2: #454545;\n",
       "                    background-color: #383838;\n",
       "                }\n",
       "\n",
       "                .geemap-dark .jupyter-button {\n",
       "                    --jp-layout-color3: #383838;\n",
       "                }\n",
       "\n",
       "                .geemap-colab {\n",
       "                    background-color: var(--colab-primary-surface-color, white);\n",
       "                }\n",
       "\n",
       "                .geemap-colab .jupyter-button {\n",
       "                    --jp-layout-color3: var(--colab-primary-surface-color, white);\n",
       "                }\n",
       "            </style>\n",
       "            "
      ],
      "text/plain": [
       "<IPython.core.display.HTML object>"
      ]
     },
     "metadata": {},
     "output_type": "display_data"
    }
   ],
   "source": [
    "#树木覆盖度\n",
    "vc = ee.Image('projects/ee-lmike18770616551/assets/vc_mean_ee')\n",
    "# vc.projection().nominalScale()"
   ]
  },
  {
   "cell_type": "code",
   "execution_count": 3,
   "metadata": {},
   "outputs": [
    {
     "data": {
      "text/html": [
       "\n",
       "            <style>\n",
       "                .geemap-dark {\n",
       "                    --jp-widgets-color: white;\n",
       "                    --jp-widgets-label-color: white;\n",
       "                    --jp-ui-font-color1: white;\n",
       "                    --jp-layout-color2: #454545;\n",
       "                    background-color: #383838;\n",
       "                }\n",
       "\n",
       "                .geemap-dark .jupyter-button {\n",
       "                    --jp-layout-color3: #383838;\n",
       "                }\n",
       "\n",
       "                .geemap-colab {\n",
       "                    background-color: var(--colab-primary-surface-color, white);\n",
       "                }\n",
       "\n",
       "                .geemap-colab .jupyter-button {\n",
       "                    --jp-layout-color3: var(--colab-primary-surface-color, white);\n",
       "                }\n",
       "            </style>\n",
       "            "
      ],
      "text/plain": [
       "<IPython.core.display.HTML object>"
      ]
     },
     "metadata": {},
     "output_type": "display_data"
    }
   ],
   "source": [
    "#干燥指数\n",
    "pet = ee.ImageCollection(\"IDAHO_EPSCOR/TERRACLIMATE\").filterDate(ee.Date.fromYMD(2001,1,1),ee.Date.fromYMD(2024,1,1)).select('pet').sum().multiply(0.1).multiply(1/23)\n",
    "pr = ee.ImageCollection(\"IDAHO_EPSCOR/TERRACLIMATE\").filterDate(ee.Date.fromYMD(2001,1,1),ee.Date.fromYMD(2024,1,1)).select('pr').sum().multiply(1/23)\n",
    "dry = pet.multiply(pr.pow(-1))\n",
    "# geemap.download_ee_image(dry,r'D:\\work\\gee_\\gee_download\\yuan\\test\\dry.tif',scale= 4638.3,crs= 'EPSG:4326',region=sh)"
   ]
  },
  {
   "cell_type": "code",
   "execution_count": 4,
   "metadata": {},
   "outputs": [
    {
     "data": {
      "text/html": [
       "\n",
       "            <style>\n",
       "                .geemap-dark {\n",
       "                    --jp-widgets-color: white;\n",
       "                    --jp-widgets-label-color: white;\n",
       "                    --jp-ui-font-color1: white;\n",
       "                    --jp-layout-color2: #454545;\n",
       "                    background-color: #383838;\n",
       "                }\n",
       "\n",
       "                .geemap-dark .jupyter-button {\n",
       "                    --jp-layout-color3: #383838;\n",
       "                }\n",
       "\n",
       "                .geemap-colab {\n",
       "                    background-color: var(--colab-primary-surface-color, white);\n",
       "                }\n",
       "\n",
       "                .geemap-colab .jupyter-button {\n",
       "                    --jp-layout-color3: var(--colab-primary-surface-color, white);\n",
       "                }\n",
       "            </style>\n",
       "            "
      ],
      "text/plain": [
       "<IPython.core.display.HTML object>"
      ]
     },
     "metadata": {},
     "output_type": "display_data"
    }
   ],
   "source": [
    "#气温\n",
    "temp = ee.ImageCollection(\"IDAHO_EPSCOR/TERRACLIMATE\")\\\n",
    "        .filterDate(ee.Date.fromYMD(2001,1,1),ee.Date.fromYMD(2024,1,1))\\\n",
    "        .mean().select(['tmmn','tmmx']).multiply(0.1)\n",
    "temp = temp.expression('(tmmx+tmmn)/2',\n",
    "                       {'tmmx':temp.select('tmmx'),\n",
    "                        'tmmn':temp.select('tmmn')})"
   ]
  },
  {
   "cell_type": "code",
   "execution_count": null,
   "metadata": {},
   "outputs": [
    {
     "data": {
      "text/html": [
       "\n",
       "            <style>\n",
       "                .geemap-dark {\n",
       "                    --jp-widgets-color: white;\n",
       "                    --jp-widgets-label-color: white;\n",
       "                    --jp-ui-font-color1: white;\n",
       "                    --jp-layout-color2: #454545;\n",
       "                    background-color: #383838;\n",
       "                }\n",
       "\n",
       "                .geemap-dark .jupyter-button {\n",
       "                    --jp-layout-color3: #383838;\n",
       "                }\n",
       "\n",
       "                .geemap-colab {\n",
       "                    background-color: var(--colab-primary-surface-color, white);\n",
       "                }\n",
       "\n",
       "                .geemap-colab .jupyter-button {\n",
       "                    --jp-layout-color3: var(--colab-primary-surface-color, white);\n",
       "                }\n",
       "            </style>\n",
       "            "
      ],
      "text/plain": [
       "<IPython.core.display.HTML object>"
      ]
     },
     "metadata": {},
     "output_type": "display_data"
    }
   ],
   "source": [
    "#LAI\n",
    "from datetime import datetime,timedelta\n",
    "days = timedelta(days=8)\n",
    "t = datetime(2001,1,1)\n",
    "i = 1\n",
    "LAI_8 = {}\n",
    "while(t.year<=2023):\n",
    "    # print(t)\n",
    "    next_t = t+days\n",
    "    image = ee.ImageCollection(\"MODIS/061/MOD15A2H\").filter(ee.Filter.date(f'{t.year}-{str(t.month).rjust(2,\"0\")}-{str(t.day).rjust(2,\"0\")}', f'{next_t.year}-{str(next_t.month).rjust(2,\"0\")}-{str(next_t.day).rjust(2,\"0\")}')).select('Lai_500m')\n",
    "    if image.size().getInfo()==0:\n",
    "        t=next_t\n",
    "        i+=1\n",
    "        continue\n",
    "    # geemap.download_ee_image(image.first().clip(roi),head_path+os.sep+f'LAI-{t.year}-{i}.tif',crs='EPSG:4326')\n",
    "    LAI_8[f'{t.year}-{i}']=image.mean()\n",
    "    if next_t.year!=t.year:\n",
    "        t=datetime(next_t.year,1,1)\n",
    "        i=1\n",
    "        continue\n",
    "    i+=1\n",
    "    t=next_t\n",
    "LAI_keys = list(LAI_8.keys())\n",
    "LAI_p = []\n",
    "LAI_ = {}\n",
    "# LAI_mean = ee.Image(0)\n",
    "dd = 1\n",
    "p = 1\n",
    "for i in range(len(LAI_keys)):\n",
    "    if (i+1) == len(LAI_keys):\n",
    "        pass\n",
    "    else:\n",
    "        per = (LAI_8[LAI_keys[i+1]].add(LAI_8[LAI_keys[i]].multiply(-1))).divide(7)\n",
    "    for d in range(8):\n",
    "        LAI_p = LAI_p.append(LAI_8[LAI_keys[i]].add(per.multiply(d)))\n",
    "        if dd%5 == 0:\n",
    "            # LAI_mean = LAI_mean.add(LAI_p.divide(5))\n",
    "            LAI_[f\"{LAI_keys[i].split('-')[0]}-{p}\"]=ee.ImageCollection(LAI_p).mean()\n",
    "            LAI_p = []\n",
    "            if dd==365:\n",
    "                dd = 1\n",
    "                p = 1\n",
    "                break\n",
    "            else:\n",
    "                p+=1\n",
    "        dd+=1\n",
    "    print(LAI_keys[i])\n",
    "# LAI_mean = ee.ImageCollection(LAI_)\n",
    "# LAI_mean = LAI_mean.mean()\n",
    "# LAI_std = ee.Image(0)\n",
    "# for i in LAI_:\n",
    "#     LAI_std = LAI_std.add(LAI_[i].add(LAI_mean.multiply(-1)).pow(2))\n",
    "# LAI_std.divide(len(LAI_))\n",
    "# LAI = {}\n",
    "# for i in LAI_:\n",
    "#     LAI[i] = LAI_[i].add(LAI_mean.multiply(-1)).divide(LAI_std)\n",
    "\n",
    "# geemap.download_ee_image(LAI[i],r'D:\\work\\gee_\\gee_download\\yuan\\test\\LAI.tif',scale= 4638.3,crs= 'EPSG:4326',region=sh)\n"
   ]
  },
  {
   "cell_type": "code",
   "execution_count": null,
   "metadata": {},
   "outputs": [],
   "source": [
    "LAI_coll = ee.ImageCollection(list(LAI_.values()))\n",
    "LAI_mean = LAI_coll.mean()\n",
    "LAI_std = LAI_coll.map(lambda im: im.subtract(LAI_mean).pow(2)).sum()\n",
    "\n",
    "# LAI_std = ee.Image(0)\n",
    "# for i in LAI_:\n",
    "#     LAI_std = LAI_std.add(LAI_[i].add(LAI_mean.multiply(-1)).pow(2))\n",
    "# LAI_std.divide(len(LAI_))\n",
    "# LAI = {}\n",
    "# for i in LAI_:\n",
    "#     LAI[i] = LAI_[i].subtract(LAI_mean).divide(LAI_std)\n",
    "LAI = LAI_coll.map(lambda im: im.subtract(LAI_mean).divide(LAI_std))\n",
    "LAI.first()\n",
    "# geemap.download_ee_image(LAI.first().toFloat(),r'D:\\work\\gee_\\gee_download\\yuan\\test\\LAI.tif',scale= 4638.3,crs= 'EPSG:4326',region=sh_cn)\n"
   ]
  },
  {
   "cell_type": "code",
   "execution_count": null,
   "metadata": {},
   "outputs": [],
   "source": [
    "#多轴图\n",
    "p_dry = ee.Image(40)\n",
    "p_dry = p_dry.add(dry.lt(0.5).multiply(-10))\n",
    "p_dry = p_dry.add(dry.lt(1).multiply(-10))\n",
    "p_dry = p_dry.add(dry.lt(2).multiply(-10))\n",
    "p_dry = p_dry.multiply(dry.lt(4))\n",
    "\n",
    "p_tc = ee.Image(4)\n",
    "p_tc = p_tc.add(vc.lt(0.25).multiply(-1))\n",
    "p_tc = p_tc.add(vc.lt(0.5).multiply(-1))\n",
    "p_tc = p_tc.add(vc.lt(0.75).multiply(-1))\n",
    "p_tc = p_tc.multiply(vc.lt(1))\n",
    "\n",
    "p_tc = p_tc.multiply(p_dry.gt(0.5))\n",
    "p_dry = p_dry.multiply(p_tc.gt(0.5))\n",
    "p_arr = p_dry.add(p_tc)\n",
    "# geemap.download_ee_image(p_arr,r'D:\\work\\gee_\\gee_download\\yuan\\test\\p_arr.tif',scale= 4638.3,crs= 'EPSG:4326',region=sh)"
   ]
  },
  {
   "cell_type": "code",
   "execution_count": null,
   "metadata": {
    "scrolled": true
   },
   "outputs": [],
   "source": [
    "import datetime\n",
    "\n",
    "quans = {}\n",
    "soil30 = []\n",
    "star_time = 2004\n",
    "end_time = 2024\n",
    "clip30 = ee.Image(1)\n",
    "# clip30.clip(clip_region)\n",
    "p = 1\n",
    "for day in range(0, 365, 5):\n",
    "    swvl_day_list = []\n",
    "    for year in range(star_time, end_time):\n",
    "        s = datetime.datetime(year, 1, 1)\n",
    "        image =  ee.ImageCollection(\"NASA/GLDAS/V022/CLSM/G025/DA1D\").filterDate((s+datetime.timedelta(day)).strftime(\"%Y-%m-%d\"), \n",
    "                                                                        (s+datetime.timedelta(day+5)).strftime(\"%Y-%m-%d\")).mean()\n",
    "        swvl = image.select('SoilMoist_RZ_tavg')\n",
    "        # swvl = image.expression('swvl1*c1+swvl2*c2+swvl3*c3',\n",
    "        #                          {'swvl1':image.select('soil_temperature_level_1'),\n",
    "        #                           'swvl2':image.select('soil_temperature_level_2'),\n",
    "        #                           'swvl3':image.select('soil_temperature_level_3'),\n",
    "        #                           'c1':0.2333,'c2':0.7,'c3':0.0667})\n",
    "        swvl_day_list.append(swvl)\n",
    "    \n",
    "    swvl_day_images = ee.ImageCollection(swvl_day_list)\n",
    "    \n",
    "    for year in range(star_time, end_time):\n",
    "        ob_im = swvl_day_list[year - star_time]\n",
    "        quan = swvl_day_images.map(lambda img: ob_im.gt(img)).sum().add(1).divide(end_time-star_time)\n",
    "        if (day < 60 or day >304):\n",
    "            quan = quan.multiply(0)\n",
    "            # quan = quan.multiply(clip30.clip(clip_region))\n",
    "        quans[f\"{year}-{p}\"] = quan\n",
    " \n",
    "    p+=1\n",
    "\n",
    "# geemap.download_ee_image(quans['2001-30'],r'D:\\work\\gee_\\gee_download\\yuan\\test\\quan.tif',scale= 27830,crs= 'EPSG:4326',region=sh,max_tile_dim=100)"
   ]
  },
  {
   "cell_type": "code",
   "execution_count": null,
   "metadata": {},
   "outputs": [],
   "source": [
    "mask = Image(1)\n",
    "mask = mask.where(dry.gt(4),0).where(temp.lt(0),0)"
   ]
  },
  {
   "cell_type": "code",
   "execution_count": null,
   "metadata": {
    "scrolled": true
   },
   "outputs": [],
   "source": [
    "dry_index_year = []\n",
    "\n",
    "t_all = ee.Image(0)\n",
    "count_all = ee.Image(0)\n",
    "for year in range(2004,2024):\n",
    "    dry_index = ee.Image(0)\n",
    "    count = ee.Image(0)\n",
    "    switch = ee.Image(0)\n",
    "    st_switch = ee.Image(0)\n",
    "    st_count = ee.Image(0)\n",
    "    ed_switch = ee.Image(0)\n",
    "    ed_count = ee.Image(0)\n",
    "    LAI_switch = ee.Image(0)\n",
    "    per_count = ee.Image(0)\n",
    "    for p in range(1,74):\n",
    "        arr = quans[f'{year}-{p}'].where(mask.eq(0),0)\n",
    "        LAI_arr = LAI[f'{year}-{p}'].where(mask.eq(0),0)\n",
    "        st_switch = st_switch.where(st_count.gt(5),0)\n",
    "        st_count = st_count.multiply(st_switch)\n",
    "        ed_count = ed_count.where((switch.multiply(ed_switch)).gt(0),-3)\n",
    "        ed_switch = ed_switch.where(arr.gte(0.2).multiply(switch),1)\n",
    "        ed_switch = ed_switch.where(arr.lt(0.2).multiply(switch),0)\n",
    "        ed_count = ed_count.where(arr.lt(0.2).multiply(switch),0)\n",
    "        st_switch = st_switch.where(arr.gte(0.4),1)\n",
    "        st_count = st_count.where(arr.gte(0.4),0)\n",
    "        st_count = st_count.add(st_switch)\n",
    "        ed_count = ed_count.add(ed_switch)\n",
    "        switch = switch.where(ed_count.eq(-2).multiply(ed_switch),0)\n",
    "        count = count.add(ed_count.eq(-2).multiply(ed_switch).multiply(-1))\n",
    "        count_all = count_all.add(count.gte(6).multiply(count.lte(18)).multiply(ed_count.eq(-2)).multiply(ed_switch).multiply(per_count.neq(count)).multiply(per_count.neq(0)))\n",
    "        t_all = t_all.add(per_count.multiply(count.gte(6).multiply(count.lte(18)).multiply(ed_count.eq(-2)).multiply(ed_switch).multiply(per_count.neq(count)).multiply(per_count.neq(0))))\n",
    "        # dry_index = dry_index.add(count.gte(6).multiply(count.lte(18)).multiply(ed_count.eq(-2)).multiply(ed_switch))\n",
    "        LAI_switch = LAI_switch.where(ed_count.eq(-2).multiply(ed_switch),0)\n",
    "        per_count = per_count.where(ed_count.eq(-2).multiply(ed_switch),0)\n",
    "        count = count.where(ed_count.eq(-2).multiply(ed_switch),0)\n",
    "        ed_switch = ed_switch.where(ed_count.eq(-2).multiply(ed_switch),0)\n",
    "        ed_count = ed_count.where(ed_count.eq(-2).multiply(ed_switch),0)\n",
    "        switch = switch.where(arr.lt(0.2).multiply(st_switch),1)\n",
    "        LAI_switch = LAI_switch.where(arr.lt(0.2).multiply(st_switch),1)\n",
    "        LAI_switch = LAI_switch.where(LAI_arr.lt(0),0)\n",
    "        per_count = per_count.add(LAI_switch)\n",
    "        st_switch = st_switch.where(arr.lt(0.2).multiply(st_switch),0)\n",
    "        count = count.add(switch)\n",
    "    # geemap.download_ee_image(dry_index,f'D:\\\\work\\\\gee_\\\\gee_download\\\\yuan\\\\test\\\\dry_index-{year}.tif',scale=27830, crs='epsg:4326',region=sh, max_tile_dim=100)\n",
    "    # geemap.ee_export_image_to_asset(dry_index,f'dry_index-{year}-{p}',f'projects/ee-lmike18770616551/assets/image/dry_index-{year}-{p}',scale=27830,region=sh,crs='epsg:4326')\n",
    "    # print(f'dry_index-{year}-{p}')\n",
    "    dry_index_year.append(dry_index)\n",
    "    # break\n"
   ]
  },
  {
   "cell_type": "code",
   "execution_count": null,
   "metadata": {},
   "outputs": [],
   "source": [
    "\n",
    "# dry_index = dry_index_year[0]\n",
    "# for dry_year in dry_index_year[1:5]:\n",
    "#     dry_index = dry_index.add(dry_year)\n",
    "# geemap.download_ee_image(dry_index,f'D:\\\\work\\\\gee_\\\\gee_download\\\\yuan\\\\test\\\\dry_index.tif',scale=27830, crs='epsg:4326',region=sh, max_tile_dim=100)\n",
    "# dry_index = dry_index_year[5]\n",
    "# for dry_year in dry_index_year[6:10]:\n",
    "#     dry_index = dry_index.add(dry_year)\n",
    "# geemap.download_ee_image(dry_index,f'D:\\\\work\\\\gee_\\\\gee_download\\\\yuan\\\\test\\\\dry_index1.tif',scale=27830, crs='epsg:4326',region=sh, max_tile_dim=100)\n",
    "# dry_index = dry_index_year[10]\n",
    "# for dry_year in dry_index_year[11:15]:\n",
    "#     dry_index = dry_index.add(dry_year)\n",
    "# geemap.download_ee_image(dry_index,f'D:\\\\work\\\\gee_\\\\gee_download\\\\yuan\\\\test\\\\dry_index2.tif',scale=27830, crs='epsg:4326',region=sh, max_tile_dim=100)\n",
    "dry_index = dry_index_year[15]\n",
    "for dry_year in dry_index_year[16:20]:\n",
    "    dry_index = dry_index.add(dry_year)\n",
    "geemap.download_ee_image(dry_index,f'D:\\\\work\\\\gee_\\\\gee_download\\\\yuan\\\\test\\\\dry_index3.tif',scale=27830, crs='epsg:4326',region=sh, max_tile_dim=100)\n",
    "dry_index = dry_index_year[20]\n",
    "for dry_year in dry_index_year[21:]:\n",
    "    dry_index = dry_index.add(dry_year)\n",
    "geemap.download_ee_image(dry_index,f'D:\\\\work\\\\gee_\\\\gee_download\\\\yuan\\\\test\\\\dry_index4.tif',scale=27830, crs='epsg:4326',region=sh, max_tile_dim=100)\n"
   ]
  },
  {
   "cell_type": "code",
   "execution_count": null,
   "metadata": {},
   "outputs": [],
   "source": [
    "# Map.addLayer(dry_index, {'max': 10, 'min': 0}, \"dry_index\")"
   ]
  },
  {
   "cell_type": "code",
   "execution_count": null,
   "metadata": {},
   "outputs": [],
   "source": []
  }
 ],
 "metadata": {
  "kernelspec": {
   "display_name": "Python 3 (ipykernel)",
   "language": "python",
   "name": "python3"
  },
  "language_info": {
   "codemirror_mode": {
    "name": "ipython",
    "version": 3
   },
   "file_extension": ".py",
   "mimetype": "text/x-python",
   "name": "python",
   "nbconvert_exporter": "python",
   "pygments_lexer": "ipython3",
   "version": "3.10.9"
  }
 },
 "nbformat": 4,
 "nbformat_minor": 4
}
