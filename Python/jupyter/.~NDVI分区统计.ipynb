{
 "cells": [
  {
   "cell_type": "code",
   "execution_count": 3,
   "id": "ee9dea1d",
   "metadata": {},
   "outputs": [
    {
     "data": {
      "application/vnd.jupyter.widget-view+json": {
       "model_id": "369fe407cb6b40aaab1eaf78ba90402b",
       "version_major": 2,
       "version_minor": 0
      },
      "text/plain": [
       "Map(center=[20, 0], controls=(WidgetControl(options=['position', 'transparent_bg'], widget=HBox(children=(Togg…"
      ]
     },
     "metadata": {},
     "output_type": "display_data"
    }
   ],
   "source": [
    "import geemap\n",
    "import ee\n",
    "from GEE_xiong import ee_export\n",
    "import os\n",
    "import pandas as pd\n",
    "\n",
    "# 创建一个空的 DataFrame\n",
    "df = pd.DataFrame()\n",
    "Map = geemap.Map()\n",
    "Map"
   ]
  },
  {
   "cell_type": "code",
   "execution_count": 4,
   "id": "622153b2",
   "metadata": {},
   "outputs": [],
   "source": [
    "#研究区\n",
    "# f_shp =r\"D:\\work\\stld\\gx\\boundary.shp\" #添加面shp（文件名不能有“_”和中文）\n",
    "# f_shp_ee = geemap.shp_to_ee(f_shp)\n",
    "# Map.addLayer(f_shp_ee, {}, 'GX')\n",
    "\n",
    "#添加研究区\n",
    "shp = r\"D:\\work\\stld\\gx\\temp\\prj.shp\"\n",
    "shp_ee = geemap.shp_to_ee(shp)\n",
    "Map.addLayer(shp_ee, {}, 'GXs')\n",
    "# roi = shp_ee.geometry()                       \n"
   ]
  },
  {
   "cell_type": "code",
   "execution_count": 5,
   "id": "19259307",
   "metadata": {},
   "outputs": [],
   "source": [
    "#去云\n",
    "def maskL457sr(image):\n",
    "  # Bit 0 - Fill\n",
    "  # Bit 1 - Dilated Cloud\n",
    "  # Bit 2 - Unused\n",
    "  # Bit 3 - Cloud\n",
    "  # Bit 4 - Cloud Shadow\n",
    "  qaMask = image.select('QA_PIXEL').bitwiseAnd(int('11111', 2)).eq(0)\n",
    "  saturationMask = image.select('QA_RADSAT').eq(0)\n",
    "\n",
    "  # Apply the scaling factors to the appropriate bands.\n",
    "  opticalBands = image.select('SR_B.').multiply(0.0000275).add(-0.2)\n",
    "  thermalBand = image.select('ST_B6').multiply(0.00341802).add(149.0)\n",
    "\n",
    "  # Replace the original bands with the scaled ones and apply the masks.\n",
    "  return image.addBands(opticalBands, None, True) \\\n",
    "      .addBands(thermalBand, None, True) \\\n",
    "      .updateMask(qaMask) \\\n",
    "      .updateMask(saturationMask)"
   ]
  },
  {
   "cell_type": "code",
   "execution_count": 6,
   "id": "1cc1d77d",
   "metadata": {},
   "outputs": [],
   "source": [
    "#添加ndvi波段\n",
    "def ndvi(img):\n",
    "    ndvi = img.normalizedDifference(['SR_B4','SR_B3']).rename('NDVI')\n",
    "    Msk = ndvi.lte(1).And(ndvi.gt(0))\n",
    "    ndvi = ndvi.updateMask(Msk)\n",
    "    return img.addBands(ndvi).copyProperties(img, [\"system:time_start\",'system:id'])"
   ]
  },
  {
   "cell_type": "code",
   "execution_count": 7,
   "id": "561c8bb6",
   "metadata": {},
   "outputs": [],
   "source": [
    "#添加ndvi最大、最小、均值三个属性\n",
    "def properties(img):  \n",
    "    percentile = img.reduceRegions(**{\n",
    "        'collection': shp_ee,\n",
    "        'reducer': ee.Reducer.percentile([5, 95]),#百分之五到百分之九十五\n",
    "        'scale': 30,\n",
    "        })\n",
    "    p5 = ee.Number(percentile.first().get(\"p5\"))\n",
    "    p95 = ee.Number(percentile.first().get(\"p95\"))\n",
    "    \n",
    "#     xmin = img.reduceRegion(**{#**以dic形式传递，不加则以元组形式\n",
    "#       'reducer': ee.Reducer.min(),\n",
    "#       'geometry': roi,\n",
    "#       'scale': 30,\n",
    "#       'maxPixels': 1e13\n",
    "#     }).get('NDVI')\n",
    "#     xmax = img.reduceRegion(**{\n",
    "#           'reducer': ee.Reducer.max(),\n",
    "#           'geometry': roi,\n",
    "#           'scale': 30,\n",
    "#           'maxPixels': 1e13\n",
    "#         }).get('NDVI')\n",
    "    mean = img.reduceRegion(**{#**以dic形式传递，不加则以元组形式\n",
    "      'reducer': ee.Reducer.mean(),\n",
    "      'geometry': roi,\n",
    "      'scale': 30,\n",
    "      'maxPixels': 1e13\n",
    "    }).get('NDVI')\n",
    "    return img.set({\"xmin\":p5, \"xmax\":p95,\"mean\":mean}).copyProperties(img, [\"system:time_start\",'system:id'])"
   ]
  },
  {
   "cell_type": "code",
   "execution_count": 8,
   "id": "aaa304ed",
   "metadata": {},
   "outputs": [],
   "source": [
    "year = 2020\n",
    "start_year= str(year)\n",
    "end_year=str(year+1)\n",
    "\n",
    "collection = ee.ImageCollection(\"LANDSAT/LE07/C02/T1_L2\") \\\n",
    ".filterDate(start_year,end_year)\\\n",
    ".filterBounds(shp_ee) \\\n",
    ".map(maskL457sr)\n",
    "\n",
    "col1 = collection.map(ndvi)\n",
    "xmax = col1.select(\"NDVI\").max()\n",
    "xmin = col1.select(\"NDVI\").min()\n",
    "mean = col1.select(\"NDVI\").mean()\n"
   ]
  },
  {
   "cell_type": "code",
   "execution_count": 9,
   "id": "cf33523d",
   "metadata": {},
   "outputs": [],
   "source": [
    "#研究范围广信区分成乡镇\n",
    "features = shp_ee.toList(shp_ee.size().getInfo())"
   ]
  },
  {
   "cell_type": "code",
   "execution_count": 10,
   "id": "17a0ea4c",
   "metadata": {},
   "outputs": [
    {
     "name": "stdout",
     "output_type": "stream",
     "text": [
      "0\n",
      "1\n",
      "2\n",
      "3\n",
      "4\n",
      "5\n",
      "6\n",
      "7\n",
      "8\n",
      "9\n",
      "10\n",
      "11\n",
      "12\n",
      "13\n",
      "14\n",
      "15\n",
      "16\n",
      "17\n",
      "18\n",
      "19\n",
      "20\n",
      "21\n",
      "22\n",
      "23\n"
     ]
    }
   ],
   "source": [
    "for i in range(shp_ee.size().getInfo()):\n",
    "    feature = ee.Feature(features.get(i))\n",
    "    roi = feature.geometry()       \n",
    "    \n",
    "    Max = properties(xmax).get(\"xmax\").getInfo()\n",
    "    Min = properties(xmin).get(\"xmin\").getInfo()\n",
    "    Mean = properties(mean).get(\"mean\").getInfo()\n",
    "    subtract = Max-Min\n",
    "    code = feature.get(\"code\").getInfo()\n",
    "\n",
    "    series = pd.Series({\"max\":Max,\"min\":Min,\"subtract\":subtract,\"mean\":Mean},name=code)\n",
    "    df = df.append(series)\n",
    "    print(i)"
   ]
  },
  {
   "cell_type": "code",
   "execution_count": null,
   "id": "791817fb",
   "metadata": {},
   "outputs": [],
   "source": []
  },
  {
   "cell_type": "code",
   "execution_count": null,
   "id": "73f91519",
   "metadata": {},
   "outputs": [],
   "source": [
    "# feature = ee.Feature(features.get(1))\n",
    "# roi = feature.geometry()          \n",
    "# Max = properties(xmax).get(\"xmax\").getInfo()\n",
    "# Min = properties(xmin).get(\"xmin\").getInfo()\n",
    "# Mean = properties(mean).get(\"mean\").getInfo()\n",
    "# subtract = Max-Min\n",
    "# code = feature.get(\"code\").getInfo()\n",
    "\n",
    "# series = pd.Series({\"max\":Max,\"min\":Min,\"subtract\":subtract,\"mean\":Mean},name=code)\n",
    "# df = df.append(series)\n",
    "# print(df)"
   ]
  },
  {
   "cell_type": "code",
   "execution_count": null,
   "id": "933c4c4b",
   "metadata": {},
   "outputs": [],
   "source": [
    "# Max.getInfo()"
   ]
  },
  {
   "cell_type": "code",
   "execution_count": 11,
   "id": "2613b805",
   "metadata": {},
   "outputs": [],
   "source": [
    "save_pth = r\"D:\\work\\stld\\ndvi\\1\\2020.xlsx\"\n",
    "df.to_excel(save_pth)"
   ]
  },
  {
   "cell_type": "code",
   "execution_count": null,
   "id": "223b364b",
   "metadata": {},
   "outputs": [],
   "source": [
    "# type(df)"
   ]
  },
  {
   "cell_type": "code",
   "execution_count": null,
   "id": "212f4c7c",
   "metadata": {},
   "outputs": [],
   "source": [
    "# df.index"
   ]
  },
  {
   "cell_type": "code",
   "execution_count": null,
   "id": "c55af5e3",
   "metadata": {},
   "outputs": [],
   "source": [
    "# df.columns"
   ]
  },
  {
   "cell_type": "code",
   "execution_count": null,
   "id": "62e87758",
   "metadata": {},
   "outputs": [],
   "source": []
  }
 ],
 "metadata": {
  "kernelspec": {
   "display_name": "Python 3 (ipykernel)",
   "language": "python",
   "name": "python3"
  },
  "language_info": {
   "codemirror_mode": {
    "name": "ipython",
    "version": 3
   },
   "file_extension": ".py",
   "mimetype": "text/x-python",
   "name": "python",
   "nbconvert_exporter": "python",
   "pygments_lexer": "ipython3",
   "version": "3.10.12"
  }
 },
 "nbformat": 4,
 "nbformat_minor": 5
}
