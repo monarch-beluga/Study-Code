{
 "cells": [
  {
   "cell_type": "code",
   "execution_count": 4,
   "id": "ac7c8abe",
   "metadata": {},
   "outputs": [
    {
     "data": {
      "text/html": [
       "\n",
       "            <style>\n",
       "                .geemap-dark {\n",
       "                    --jp-widgets-color: white;\n",
       "                    --jp-widgets-label-color: white;\n",
       "                    --jp-ui-font-color1: white;\n",
       "                    --jp-layout-color2: #454545;\n",
       "                    background-color: #383838;\n",
       "                }\n",
       "                    \n",
       "                .geemap-dark .jupyter-button {\n",
       "                    --jp-layout-color3: #383838;\n",
       "                }\n",
       "                \n",
       "                .geemap-colab {\n",
       "                    background-color: var(--colab-primary-surface-color, white);\n",
       "                }\n",
       "                    \n",
       "                .geemap-colab .jupyter-button {\n",
       "                    --jp-layout-color3: var(--colab-primary-surface-color, white);\n",
       "                }\n",
       "            </style>\n",
       "            "
      ],
      "text/plain": [
       "<IPython.core.display.HTML object>"
      ]
     },
     "metadata": {},
     "output_type": "display_data"
    }
   ],
   "source": [
    "import ee, os\n",
    "import geemap\n",
    "os.environ['HTTP_PROXY'] = 'http://127.0.0.1:1082'\n",
    "os.environ['HTTPS_PROXY'] = 'http://127.0.0.1:1082'\n",
    "Map = geemap.Map(center=(32.4, 116.7), zoom=5)"
   ]
  },
  {
   "cell_type": "code",
   "execution_count": 5,
   "id": "ec054e2c",
   "metadata": {},
   "outputs": [
    {
     "data": {
      "text/html": [
       "\n",
       "            <style>\n",
       "                .geemap-dark {\n",
       "                    --jp-widgets-color: white;\n",
       "                    --jp-widgets-label-color: white;\n",
       "                    --jp-ui-font-color1: white;\n",
       "                    --jp-layout-color2: #454545;\n",
       "                    background-color: #383838;\n",
       "                }\n",
       "                    \n",
       "                .geemap-dark .jupyter-button {\n",
       "                    --jp-layout-color3: #383838;\n",
       "                }\n",
       "                \n",
       "                .geemap-colab {\n",
       "                    background-color: var(--colab-primary-surface-color, white);\n",
       "                }\n",
       "                    \n",
       "                .geemap-colab .jupyter-button {\n",
       "                    --jp-layout-color3: var(--colab-primary-surface-color, white);\n",
       "                }\n",
       "            </style>\n",
       "            "
      ],
      "text/plain": [
       "<IPython.core.display.HTML object>"
      ]
     },
     "metadata": {},
     "output_type": "display_data"
    },
    {
     "name": "stdout",
     "output_type": "stream",
     "text": [
      "2021-01-01 2021-12-31\n"
     ]
    },
    {
     "data": {
      "application/vnd.jupyter.widget-view+json": {
       "model_id": "13ff8a06c64e4e5c84ad907ef5f3e67a",
       "version_major": 2,
       "version_minor": 0
      },
      "text/plain": [
       "Map(center=[32.4, 116.7], controls=(WidgetControl(options=['position', 'transparent_bg'], widget=SearchDataGUI…"
      ]
     },
     "metadata": {},
     "output_type": "display_data"
    }
   ],
   "source": [
    "year = 2021\n",
    "start_date = str(year) + '-01-01'\n",
    "end_date = str(year) + '-12-31'\n",
    "print(start_date, end_date)\n",
    "#region = geemap.shp_to_ee('D:/Fudan/China_boundary/Anhui.shp')\n",
    "region = ee.FeatureCollection('users/wangxinxin0803/Provinces/Anhui')\n",
    "# ee.Initialize()\n",
    "Map.addLayer(region)\n",
    "Map"
   ]
  },
  {
   "cell_type": "code",
   "execution_count": 6,
   "id": "a13178d7",
   "metadata": {},
   "outputs": [
    {
     "data": {
      "text/html": [
       "\n",
       "            <style>\n",
       "                .geemap-dark {\n",
       "                    --jp-widgets-color: white;\n",
       "                    --jp-widgets-label-color: white;\n",
       "                    --jp-ui-font-color1: white;\n",
       "                    --jp-layout-color2: #454545;\n",
       "                    background-color: #383838;\n",
       "                }\n",
       "                    \n",
       "                .geemap-dark .jupyter-button {\n",
       "                    --jp-layout-color3: #383838;\n",
       "                }\n",
       "                \n",
       "                .geemap-colab {\n",
       "                    background-color: var(--colab-primary-surface-color, white);\n",
       "                }\n",
       "                    \n",
       "                .geemap-colab .jupyter-button {\n",
       "                    --jp-layout-color3: var(--colab-primary-surface-color, white);\n",
       "                }\n",
       "            </style>\n",
       "            "
      ],
      "text/plain": [
       "<IPython.core.display.HTML object>"
      ]
     },
     "metadata": {},
     "output_type": "display_data"
    }
   ],
   "source": [
    "######cloud masking for Landsat\n",
    "def maskL457sr(image):\n",
    "      # Bit 0 - Fill\n",
    "      # Bit 1 - Dilated Cloud\n",
    "      # Bit 2 - Unused\n",
    "      # Bit 3 - Cloud\n",
    "      # Bit 4 - Cloud Shadow\n",
    "    qaMask = image.select('QA_PIXEL').bitwiseAnd(int('11111', 2)).eq(0)\n",
    "    saturationMask = image.select('QA_RADSAT').eq(0)\n",
    "    opticalBands = image.select('SR_B.').multiply(0.0000275).add(-0.2)\n",
    "    thermalBand = image.select('ST_B6').multiply(0.00341802).add(149.0)\n",
    "    return image.addBands(opticalBands, None, True).addBands(thermalBand, None, True)\\\n",
    "        .updateMask(qaMask)\\\n",
    "        .updateMask(saturationMask)\n",
    "\n",
    "def maskL8sr(image):\n",
    "    qaMask = image.select('QA_PIXEL').bitwiseAnd(int('11111', 2)).eq(0)\n",
    "    saturationMask = image.select('QA_RADSAT').eq(0)\n",
    "    opticalBands = image.select('SR_B.').multiply(0.0000275).add(-0.2)\n",
    "    thermalBand = image.select('ST_B.*').multiply(0.00341802).add(149.0)\n",
    "    return image.addBands(opticalBands, None, True).addBands(thermalBand, None, True) \\\n",
    "        .updateMask(qaMask)\\\n",
    "        .updateMask(saturationMask)"
   ]
  },
  {
   "cell_type": "code",
   "execution_count": 7,
   "id": "e0799645",
   "metadata": {},
   "outputs": [
    {
     "data": {
      "text/html": [
       "\n",
       "            <style>\n",
       "                .geemap-dark {\n",
       "                    --jp-widgets-color: white;\n",
       "                    --jp-widgets-label-color: white;\n",
       "                    --jp-ui-font-color1: white;\n",
       "                    --jp-layout-color2: #454545;\n",
       "                    background-color: #383838;\n",
       "                }\n",
       "                    \n",
       "                .geemap-dark .jupyter-button {\n",
       "                    --jp-layout-color3: #383838;\n",
       "                }\n",
       "                \n",
       "                .geemap-colab {\n",
       "                    background-color: var(--colab-primary-surface-color, white);\n",
       "                }\n",
       "                    \n",
       "                .geemap-colab .jupyter-button {\n",
       "                    --jp-layout-color3: var(--colab-primary-surface-color, white);\n",
       "                }\n",
       "            </style>\n",
       "            "
      ],
      "text/plain": [
       "<IPython.core.display.HTML object>"
      ]
     },
     "metadata": {},
     "output_type": "display_data"
    }
   ],
   "source": [
    "# -------------------------------------------------------\n",
    "# 3  ImageCollection \n",
    "# -------------------------------------------------------\n",
    "# function for EVI,GCVI,NDVI,NDWI,LSWI\n",
    "def ND_VI(img, b1, b2, bName):\n",
    "    VI = img.normalizedDifference([b1,b2]).rename(bName)\n",
    "    return VI.updateMask(VI.gt(-1).And(VI.lt(1)))\n",
    "\n",
    "def f_EVI(img,b1,b2,b3):\n",
    "    EVI = img.expression(\n",
    "        '2.5 * ((NIR - RED) / (NIR + 6 * RED - 7.5 * BLUE + 1))', {\n",
    "          'NIR': img.select(b3),\n",
    "          'RED': img.select(b2),\n",
    "          'BLUE':img.select(b1)}).rename('EVI')\n",
    "    return EVI.updateMask(EVI.gt(-1)).And(EVI.lt(1))\n",
    "\n",
    "def addVIs(img):\n",
    "    NDVI = ND_VI(img,'B4','B3','NDVI')\n",
    "    mNDWI = ND_VI(img,'B2','B5','mNDWI')\n",
    "    LSWI = ND_VI(img,'B4','B5','LSWI')\n",
    "    EVI = f_EVI(img,'B1','B3','B4')\n",
    "    return img.addBands(NDVI).addBands(LSWI).addBands(EVI).addBands(mNDWI)"
   ]
  },
  {
   "cell_type": "code",
   "execution_count": 8,
   "id": "d1eab614",
   "metadata": {},
   "outputs": [
    {
     "data": {
      "text/html": [
       "\n",
       "            <style>\n",
       "                .geemap-dark {\n",
       "                    --jp-widgets-color: white;\n",
       "                    --jp-widgets-label-color: white;\n",
       "                    --jp-ui-font-color1: white;\n",
       "                    --jp-layout-color2: #454545;\n",
       "                    background-color: #383838;\n",
       "                }\n",
       "                    \n",
       "                .geemap-dark .jupyter-button {\n",
       "                    --jp-layout-color3: #383838;\n",
       "                }\n",
       "                \n",
       "                .geemap-colab {\n",
       "                    background-color: var(--colab-primary-surface-color, white);\n",
       "                }\n",
       "                    \n",
       "                .geemap-colab .jupyter-button {\n",
       "                    --jp-layout-color3: var(--colab-primary-surface-color, white);\n",
       "                }\n",
       "            </style>\n",
       "            "
      ],
      "text/plain": [
       "<IPython.core.display.HTML object>"
      ]
     },
     "metadata": {},
     "output_type": "display_data"
    }
   ],
   "source": [
    "#water detection\n",
    "def Water(img):\n",
    "    return img.select('mNDWI').gt(img.select('EVI'))\\\n",
    "        .Or(img.select('mNDWI').gt(img.select('NDVI')))\\\n",
    "        .And(img.select('EVI').lt(0.1))\n",
    "\n",
    "#Non-Water detection\n",
    "def NonWater(image):\n",
    "    return image.select('mNDWI').lte(image.select('EVI'))\\\n",
    "        .And(image.select('mNDWI').lte(image.select('NDVI')))\\\n",
    "        .Or(image.select('EVI').gte(0.1))"
   ]
  },
  {
   "cell_type": "code",
   "execution_count": 9,
   "id": "b3500a70",
   "metadata": {
    "scrolled": true
   },
   "outputs": [
    {
     "data": {
      "text/html": [
       "\n",
       "            <style>\n",
       "                .geemap-dark {\n",
       "                    --jp-widgets-color: white;\n",
       "                    --jp-widgets-label-color: white;\n",
       "                    --jp-ui-font-color1: white;\n",
       "                    --jp-layout-color2: #454545;\n",
       "                    background-color: #383838;\n",
       "                }\n",
       "                    \n",
       "                .geemap-dark .jupyter-button {\n",
       "                    --jp-layout-color3: #383838;\n",
       "                }\n",
       "                \n",
       "                .geemap-colab {\n",
       "                    background-color: var(--colab-primary-surface-color, white);\n",
       "                }\n",
       "                    \n",
       "                .geemap-colab .jupyter-button {\n",
       "                    --jp-layout-color3: var(--colab-primary-surface-color, white);\n",
       "                }\n",
       "            </style>\n",
       "            "
      ],
      "text/plain": [
       "<IPython.core.display.HTML object>"
      ]
     },
     "metadata": {},
     "output_type": "display_data"
    },
    {
     "name": "stdout",
     "output_type": "stream",
     "text": [
      "Landsat 5\n",
      "0\n",
      "Landsat 7\n",
      "296\n",
      "Landsat 8\n",
      "285\n",
      "Landsat 9\n",
      "51\n"
     ]
    }
   ],
   "source": [
    "collection5 = ee.ImageCollection('LANDSAT/LT05/C02/T1_L2')\\\n",
    "    .filterBounds(region)\\\n",
    "    .filterDate(start_date, end_date)\\\n",
    "    .map(maskL457sr)\\\n",
    "    .select(['SR_B1', 'SR_B2', 'SR_B3', 'SR_B4', 'SR_B5', 'SR_B7'],['B1', 'B2', 'B3', 'B4', 'B5', 'B7'])\\\n",
    "    .map(addVIs)\n",
    "print('Landsat 5')\n",
    "print(collection5.size().getInfo())\n",
    "\n",
    "collection7 = ee.ImageCollection('LANDSAT/LE07/C02/T1_L2')\\\n",
    "    .filterBounds(region)\\\n",
    "    .filterDate(start_date, end_date)\\\n",
    "    .map(maskL457sr)\\\n",
    "    .select(['SR_B1', 'SR_B2', 'SR_B3', 'SR_B4', 'SR_B5', 'SR_B7'],['B1', 'B2', 'B3', 'B4', 'B5', 'B7'])\\\n",
    "    .map(addVIs)\n",
    "print('Landsat 7')\n",
    "print(collection7.size().getInfo())\n",
    "\n",
    "# get landsat 8\n",
    "collection8 = ee.ImageCollection('LANDSAT/LC08/C02/T1_L2')\\\n",
    "    .filterBounds(region)\\\n",
    "    .filterDate(start_date, end_date)\\\n",
    "    .map(maskL8sr)\\\n",
    "    .select(['SR_B2', 'SR_B3', 'SR_B4', 'SR_B5', 'SR_B6', 'SR_B7'],['B1', 'B2', 'B3', 'B4', 'B5', 'B7'])\\\n",
    "    .map(addVIs)\n",
    "print('Landsat 8')\n",
    "print(collection8.size().getInfo())\n",
    "\n",
    "# get landsat 9\n",
    "collection9 = ee.ImageCollection('LANDSAT/LC09/C02/T1_L2')\\\n",
    "    .filterBounds(region)\\\n",
    "    .filterDate(start_date, end_date)\\\n",
    "    .map(maskL8sr)\\\n",
    "    .select(['SR_B2', 'SR_B3', 'SR_B4', 'SR_B5', 'SR_B6', 'SR_B7'],['B1', 'B2', 'B3', 'B4', 'B5', 'B7'])\\\n",
    "    .map(addVIs)\n",
    "print('Landsat 9')\n",
    "print(collection9.size().getInfo())"
   ]
  },
  {
   "cell_type": "code",
   "execution_count": 10,
   "id": "84d32868",
   "metadata": {},
   "outputs": [
    {
     "data": {
      "text/html": [
       "\n",
       "            <style>\n",
       "                .geemap-dark {\n",
       "                    --jp-widgets-color: white;\n",
       "                    --jp-widgets-label-color: white;\n",
       "                    --jp-ui-font-color1: white;\n",
       "                    --jp-layout-color2: #454545;\n",
       "                    background-color: #383838;\n",
       "                }\n",
       "                    \n",
       "                .geemap-dark .jupyter-button {\n",
       "                    --jp-layout-color3: #383838;\n",
       "                }\n",
       "                \n",
       "                .geemap-colab {\n",
       "                    background-color: var(--colab-primary-surface-color, white);\n",
       "                }\n",
       "                    \n",
       "                .geemap-colab .jupyter-button {\n",
       "                    --jp-layout-color3: var(--colab-primary-surface-color, white);\n",
       "                }\n",
       "            </style>\n",
       "            "
      ],
      "text/plain": [
       "<IPython.core.display.HTML object>"
      ]
     },
     "metadata": {},
     "output_type": "display_data"
    },
    {
     "name": "stdout",
     "output_type": "stream",
     "text": [
      "632\n"
     ]
    }
   ],
   "source": [
    "#Merge to a single collection\n",
    "col1 = ee.ImageCollection(collection5.merge(collection7))\n",
    "collection1 = ee.ImageCollection(col1.merge(collection8))\n",
    "collection = ee.ImageCollection(collection1.merge(collection9))\n",
    "print(collection.size().getInfo())"
   ]
  },
  {
   "cell_type": "code",
   "execution_count": 11,
   "id": "33637868",
   "metadata": {},
   "outputs": [
    {
     "data": {
      "text/html": [
       "\n",
       "            <style>\n",
       "                .geemap-dark {\n",
       "                    --jp-widgets-color: white;\n",
       "                    --jp-widgets-label-color: white;\n",
       "                    --jp-ui-font-color1: white;\n",
       "                    --jp-layout-color2: #454545;\n",
       "                    background-color: #383838;\n",
       "                }\n",
       "                    \n",
       "                .geemap-dark .jupyter-button {\n",
       "                    --jp-layout-color3: #383838;\n",
       "                }\n",
       "                \n",
       "                .geemap-colab {\n",
       "                    background-color: var(--colab-primary-surface-color, white);\n",
       "                }\n",
       "                    \n",
       "                .geemap-colab .jupyter-button {\n",
       "                    --jp-layout-color3: var(--colab-primary-surface-color, white);\n",
       "                }\n",
       "            </style>\n",
       "            "
      ],
      "text/plain": [
       "<IPython.core.display.HTML object>"
      ]
     },
     "metadata": {},
     "output_type": "display_data"
    }
   ],
   "source": [
    "#water frequency and quality band (number of good observations)\n",
    "total_Pos = collection.map(Water).sum()\n",
    "total_Neg = collection.map(NonWater).sum()"
   ]
  },
  {
   "cell_type": "code",
   "execution_count": 12,
   "id": "3c41fe5b",
   "metadata": {
    "scrolled": true
   },
   "outputs": [
    {
     "data": {
      "text/html": [
       "\n",
       "            <style>\n",
       "                .geemap-dark {\n",
       "                    --jp-widgets-color: white;\n",
       "                    --jp-widgets-label-color: white;\n",
       "                    --jp-ui-font-color1: white;\n",
       "                    --jp-layout-color2: #454545;\n",
       "                    background-color: #383838;\n",
       "                }\n",
       "                    \n",
       "                .geemap-dark .jupyter-button {\n",
       "                    --jp-layout-color3: #383838;\n",
       "                }\n",
       "                \n",
       "                .geemap-colab {\n",
       "                    background-color: var(--colab-primary-surface-color, white);\n",
       "                }\n",
       "                    \n",
       "                .geemap-colab .jupyter-button {\n",
       "                    --jp-layout-color3: var(--colab-primary-surface-color, white);\n",
       "                }\n",
       "            </style>\n",
       "            "
      ],
      "text/plain": [
       "<IPython.core.display.HTML object>"
      ]
     },
     "metadata": {},
     "output_type": "display_data"
    },
    {
     "data": {
      "application/vnd.jupyter.widget-view+json": {
       "model_id": "13ff8a06c64e4e5c84ad907ef5f3e67a",
       "version_major": 2,
       "version_minor": 0
      },
      "text/plain": [
       "Map(bottom=3616.0, center=[32.4, 116.7], controls=(WidgetControl(options=['position', 'transparent_bg'], widge…"
      ]
     },
     "metadata": {},
     "output_type": "display_data"
    }
   ],
   "source": [
    "#water frequency \n",
    "flooding_freq_export = (total_Pos.divide(total_Pos.add(total_Neg))).multiply(254).add(ee.Image(1)).rename('flooding_freq_export')\n",
    "goodGuals = total_Pos.add(total_Neg).rename('goodGuals');\n",
    "flooding_freq = (total_Pos.divide(total_Pos.add(total_Neg))).rename('flooding_freq')\n",
    "\n",
    "#year-long surface water\n",
    "per_water = ee.Image(1).updateMask(flooding_freq.gte(0.75)).clip(region).rename('per_water')\n",
    "\n",
    "#Seasonal surface water: water frequency >= 0.05 and water frequency < 0.75 \n",
    "sea_water = ee.Image(1).updateMask(flooding_freq.gte(0.05).And(flooding_freq.lt(0.75))).clip(region).rename('sea_water')\n",
    "\n",
    "#Ephemeral surface water: water frequency < 0.05\n",
    "eph_water = ee.Image(1).updateMask(flooding_freq.lt(0.05)).clip(region).rename('eph_water')\n",
    "\n",
    "Map.addLayer(flooding_freq_export.clip(region),{},'flooding_freq_export',True);\n",
    "Map.addLayer(per_water.clip(region),{}, 'per_water',True);\n",
    "#Map.addLayer(sea_water.clip(region),{}, 'sea_water',false);\n",
    "#Map.addLayer(eph_water.clip(region),{}, 'eph_water',false);\n",
    "Map"
   ]
  }
 ],
 "metadata": {
  "kernelspec": {
   "display_name": "Python 3 (ipykernel)",
   "language": "python",
   "name": "python3"
  },
  "language_info": {
   "codemirror_mode": {
    "name": "ipython",
    "version": 3
   },
   "file_extension": ".py",
   "mimetype": "text/x-python",
   "name": "python",
   "nbconvert_exporter": "python",
   "pygments_lexer": "ipython3",
   "version": "3.9.13"
  }
 },
 "nbformat": 4,
 "nbformat_minor": 5
}
