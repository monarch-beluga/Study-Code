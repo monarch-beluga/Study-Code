{
 "cells": [
  {
   "cell_type": "code",
   "execution_count": null,
   "metadata": {},
   "outputs": [],
   "source": [
    "import geemap\n",
    "import ee"
   ]
  },
  {
   "cell_type": "code",
   "execution_count": null,
   "metadata": {},
   "outputs": [],
   "source": [
    "Map = geemap.Map()\n",
    "Map"
   ]
  },
  {
   "cell_type": "code",
   "execution_count": null,
   "metadata": {},
   "outputs": [],
   "source": [
    "polygon = ee.Geometry.Polygon([\n",
    "    [[-5, 40], [65, 40], [65, 60], [-5, 60], [-5, 60]]\n",
    "])\n",
    "\n",
    "buffer = polygon.buffer(1000000)\n",
    "\n",
    "centroid = polygon.centroid()\n",
    "Map.addLayer(buffer, {}, 'buffer')\n",
    "Map.addLayer(polygon, {'color': 'ff0000'}, 'polygon')\n",
    "Map.addLayer(centroid, {'color': '00ff00'}, 'centroid')\n",
    "Map.center_object(polygon, 3)"
   ]
  },
  {
   "cell_type": "code",
   "execution_count": null,
   "metadata": {},
   "outputs": [],
   "source": [
    "holePoly = ee.Geometry.Polygon(\n",
    "    coords=[\n",
    "        [[-35, -10], [-35, 10], [35, 10], [35, -10], [-35, -10]]\n",
    "    ],\n",
    "    evenOdd=False\n",
    ")\n",
    "evenOddPoly = ee.Geometry.Polygon(\n",
    "    holePoly,\n",
    "    evenOdd=True\n",
    ")\n",
    "\n",
    "pt = ee.Geometry.Point([1.5, 1.5])\n",
    "\n",
    "print(holePoly.contains(pt))\n",
    "print(evenOddPoly.contains(pt))"
   ]
  },
  {
   "cell_type": "code",
   "execution_count": null,
   "metadata": {},
   "outputs": [],
   "source": [
    "poly1 = ee.Geometry.Point([-50, 30]).buffer(1e6)\n",
    "poly2 = ee.Geometry.Point([-40, 30]).buffer(1e6)\n",
    "\n",
    "Map.setCenter(-45, 30)\n",
    "Map.addLayer(poly1, {'color': 'FF0000'}, 'poly1')\n",
    "Map.addLayer(poly2, {'color': '0000FF'}, 'poly2')\n",
    "\n",
    "intersection = poly1.intersection(poly2, ee.ErrorMargin(1))\n",
    "Map.addLayer(intersection, {'color': '00FF00'}, 'intersection')\n",
    "\n",
    "union = poly1.union(poly2, ee.ErrorMargin(1))\n",
    "Map.addLayer(union, {'color': 'FF00FF'}, 'union')\n",
    "\n",
    "diff1 = poly1.difference(poly2, ee.ErrorMargin(1))\n",
    "Map.addLayer(diff1, {'color': 'FFFF00'}, 'diff1')\n",
    "\n",
    "symDiff = poly1.symmetricDifference(poly2, ee.ErrorMargin(1))\n",
    "Map.addLayer(symDiff, {'color': '000000'}, 'symmetric difference')"
   ]
  },
  {
   "cell_type": "code",
   "execution_count": null,
   "metadata": {},
   "outputs": [],
   "source": [
    "Map"
   ]
  },
  {
   "cell_type": "code",
   "execution_count": null,
   "metadata": {},
   "outputs": [],
   "source": []
  }
 ],
 "metadata": {
  "kernelspec": {
   "display_name": "Python 3",
   "language": "python",
   "name": "python3"
  },
  "language_info": {
   "codemirror_mode": {
    "name": "ipython",
    "version": 3
   },
   "file_extension": ".py",
   "mimetype": "text/x-python",
   "name": "python",
   "nbconvert_exporter": "python",
   "pygments_lexer": "ipython3",
   "version": "3.8.3"
  },
  "varInspector": {
   "cols": {
    "lenName": 16,
    "lenType": 16,
    "lenVar": 40
   },
   "kernels_config": {
    "python": {
     "delete_cmd_postfix": "",
     "delete_cmd_prefix": "del ",
     "library": "var_list.py",
     "varRefreshCmd": "print(var_dic_list())"
    },
    "r": {
     "delete_cmd_postfix": ") ",
     "delete_cmd_prefix": "rm(",
     "library": "var_list.r",
     "varRefreshCmd": "cat(var_dic_list()) "
    }
   },
   "oldHeight": 130.74678,
   "position": {
    "height": "40px",
    "left": "616.417px",
    "right": "20px",
    "top": "114.965px",
    "width": "369.549px"
   },
   "types_to_exclude": [
    "module",
    "function",
    "builtin_function_or_method",
    "instance",
    "_Feature"
   ],
   "varInspector_section_display": "none",
   "window_display": true
  }
 },
 "nbformat": 4,
 "nbformat_minor": 4
}
