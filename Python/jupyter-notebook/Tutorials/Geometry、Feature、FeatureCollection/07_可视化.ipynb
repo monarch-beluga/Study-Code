{
 "cells": [
  {
   "cell_type": "code",
   "execution_count": null,
   "metadata": {},
   "outputs": [],
   "source": [
    "import geemap\n",
    "import ee"
   ]
  },
  {
   "cell_type": "code",
   "execution_count": null,
   "metadata": {
    "scrolled": false
   },
   "outputs": [],
   "source": [
    "Map = geemap.Map()\n",
    "Map"
   ]
  },
  {
   "cell_type": "code",
   "execution_count": null,
   "metadata": {},
   "outputs": [],
   "source": [
    "ecoregions = ee.FeatureCollection('RESOLVE/ECOREGIONS/2017')\n",
    "\n",
    "Map.addLayer(ecoregions, {}, 'default display')\n",
    "Map.addLayer(ecoregions, {'color': 'FF0000'}, 'colored')"
   ]
  },
  {
   "cell_type": "code",
   "execution_count": null,
   "metadata": {},
   "outputs": [],
   "source": [
    "Map.addLayer(ecoregions.draw(color='006600', strokeWidth=5),\n",
    "             {}, 'drawn')"
   ]
  },
  {
   "cell_type": "code",
   "execution_count": null,
   "metadata": {},
   "outputs": [],
   "source": [
    "empty = ee.Image().byte()\n",
    "\n",
    "outline = empty.paint(\n",
    "    featureCollection=ecoregions,\n",
    "    color=1,\n",
    "    width=3\n",
    ")\n",
    "Map.addLayer(outline, {'palette': 'FF0000'}, 'edges')"
   ]
  },
  {
   "cell_type": "code",
   "execution_count": null,
   "metadata": {},
   "outputs": [],
   "source": [
    "outlines = empty.paint(\n",
    "    featureCollection=ecoregions,\n",
    "    color='BIOME_NUM',\n",
    "    width=4\n",
    ")\n",
    "palette = ['FF0000', '00FF00', '0000FF']\n",
    "Map.addLayer(outlines, {'palette': palette, 'max': 14},\n",
    "             'different color edges')"
   ]
  },
  {
   "cell_type": "code",
   "execution_count": null,
   "metadata": {},
   "outputs": [],
   "source": [
    "outlines = empty.paint(\n",
    "    featureCollection=ecoregions,\n",
    "    color='BIOME_NUM',\n",
    "    width='NNH'\n",
    ")\n",
    "Map.addLayer(outlines, {'palette': palette, 'max': 14},\n",
    "             'different color, width edges')"
   ]
  },
  {
   "cell_type": "code",
   "execution_count": null,
   "metadata": {},
   "outputs": [],
   "source": [
    "fills = empty.paint(\n",
    "    featureCollection=ecoregions,\n",
    "    color='BIOME_NUM',\n",
    ")\n",
    "Map.addLayer(fills, {'palette': palette, 'max': 14}, 'colored fills')"
   ]
  },
  {
   "cell_type": "code",
   "execution_count": null,
   "metadata": {},
   "outputs": [],
   "source": [
    "filledOutlines = empty.paint(ecoregions, 'BIOME_NUM')\\\n",
    "    .paint(ecoregions, 0, 2)\n",
    "Map.addLayer(filledOutlines,\n",
    "             {'palette': ['000000']+palette, 'max': 14},\n",
    "             'edges and fills')"
   ]
  },
  {
   "cell_type": "code",
   "execution_count": null,
   "metadata": {},
   "outputs": [],
   "source": []
  }
 ],
 "metadata": {
  "kernelspec": {
   "display_name": "Python 3",
   "language": "python",
   "name": "python3"
  },
  "language_info": {
   "codemirror_mode": {
    "name": "ipython",
    "version": 3
   },
   "file_extension": ".py",
   "mimetype": "text/x-python",
   "name": "python",
   "nbconvert_exporter": "python",
   "pygments_lexer": "ipython3",
   "version": "3.8.3"
  },
  "varInspector": {
   "cols": {
    "lenName": 16,
    "lenType": 16,
    "lenVar": 40
   },
   "kernels_config": {
    "python": {
     "delete_cmd_postfix": "",
     "delete_cmd_prefix": "del ",
     "library": "var_list.py",
     "varRefreshCmd": "print(var_dic_list())"
    },
    "r": {
     "delete_cmd_postfix": ") ",
     "delete_cmd_prefix": "rm(",
     "library": "var_list.r",
     "varRefreshCmd": "cat(var_dic_list()) "
    }
   },
   "oldHeight": 122.22178,
   "position": {
    "height": "40px",
    "left": "794.01px",
    "right": "20px",
    "top": "120px",
    "width": "250.434px"
   },
   "types_to_exclude": [
    "module",
    "function",
    "builtin_function_or_method",
    "instance",
    "_Feature"
   ],
   "varInspector_section_display": "none",
   "window_display": true
  }
 },
 "nbformat": 4,
 "nbformat_minor": 4
}
