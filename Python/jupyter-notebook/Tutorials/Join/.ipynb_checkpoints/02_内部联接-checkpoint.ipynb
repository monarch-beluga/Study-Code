{
 "cells": [
  {
   "cell_type": "code",
   "execution_count": null,
   "metadata": {},
   "outputs": [],
   "source": [
    "import geemap\n",
    "import ee"
   ]
  },
  {
   "cell_type": "code",
   "execution_count": null,
   "metadata": {},
   "outputs": [],
   "source": [
    "Map = geemap.Map()\n",
    "Map"
   ]
  },
  {
   "cell_type": "code",
   "execution_count": null,
   "metadata": {},
   "outputs": [],
   "source": [
    "primaryFeatures = ee.FeatureCollection([\n",
    "  ee.Feature(None, {'foo': 0, 'label': 'a'}),\n",
    "  ee.Feature(None, {'foo': 1, 'label': 'b'}),\n",
    "  ee.Feature(None, {'foo': 1, 'label': 'c'}),\n",
    "  ee.Feature(None, {'foo': 2, 'label': 'd'}),\n",
    "])\n",
    "secondaryFeatures = ee.FeatureCollection([\n",
    "  ee.Feature(None, {'bar': 1, 'label': 'e'}),\n",
    "  ee.Feature(None, {'bar': 1, 'label': 'f'}),\n",
    "  ee.Feature(None, {'bar': 2, 'label': 'g'}),\n",
    "  ee.Feature(None, {'bar': 3, 'label': 'h'}),\n",
    "])"
   ]
  },
  {
   "cell_type": "code",
   "execution_count": null,
   "metadata": {},
   "outputs": [],
   "source": [
    "toyFilter = ee.Filter.equals(\n",
    "  leftField='foo',\n",
    "  rightField='bar'\n",
    ")\n",
    "innerJoin = ee.Join.inner('primary', 'secondary')"
   ]
  },
  {
   "cell_type": "code",
   "execution_count": null,
   "metadata": {},
   "outputs": [],
   "source": [
    "toyJoin = innerJoin.apply(primaryFeatures, secondaryFeatures, toyFilter)\n",
    "toyJoin.getInfo()"
   ]
  },
  {
   "cell_type": "code",
   "execution_count": null,
   "metadata": {},
   "outputs": [],
   "source": []
  }
 ],
 "metadata": {
  "kernelspec": {
   "display_name": "Python 3",
   "language": "python",
   "name": "python3"
  },
  "language_info": {
   "codemirror_mode": {
    "name": "ipython",
    "version": 3
   },
   "file_extension": ".py",
   "mimetype": "text/x-python",
   "name": "python",
   "nbconvert_exporter": "python",
   "pygments_lexer": "ipython3",
   "version": "3.8.3"
  },
  "varInspector": {
   "cols": {
    "lenName": 16,
    "lenType": 16,
    "lenVar": 40
   },
   "kernels_config": {
    "python": {
     "delete_cmd_postfix": "",
     "delete_cmd_prefix": "del ",
     "library": "var_list.py",
     "varRefreshCmd": "print(var_dic_list())"
    },
    "r": {
     "delete_cmd_postfix": ") ",
     "delete_cmd_prefix": "rm(",
     "library": "var_list.r",
     "varRefreshCmd": "cat(var_dic_list()) "
    }
   },
   "oldHeight": 122.22178,
   "position": {
    "height": "40px",
    "left": "794.01px",
    "right": "20px",
    "top": "120px",
    "width": "250.434px"
   },
   "types_to_exclude": [
    "module",
    "function",
    "builtin_function_or_method",
    "instance",
    "_Feature"
   ],
   "varInspector_section_display": "none",
   "window_display": true
  }
 },
 "nbformat": 4,
 "nbformat_minor": 4
}
