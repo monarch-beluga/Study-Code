{
 "cells": [
  {
   "cell_type": "code",
   "execution_count": 3,
   "metadata": {},
   "outputs": [],
   "source": [
    "import geemap\n",
    "import ee"
   ]
  },
  {
   "cell_type": "code",
   "execution_count": 4,
   "metadata": {},
   "outputs": [
    {
     "data": {
      "application/vnd.jupyter.widget-view+json": {
       "model_id": "ddb320297e924a5f973468fa6837371e",
       "version_major": 2,
       "version_minor": 0
      },
      "text/plain": [
       "Map(center=[40, -100], controls=(WidgetControl(options=['position'], widget=HBox(children=(ToggleButton(value=…"
      ]
     },
     "metadata": {},
     "output_type": "display_data"
    }
   ],
   "source": [
    "Map = geemap.Map()\n",
    "Map"
   ]
  },
  {
   "cell_type": "code",
   "execution_count": null,
   "metadata": {},
   "outputs": [],
   "source": [
    "image = ee.Image('LANDSAT/LC08/C01/T1_TOA/LC08_044034_20140318')\n",
    "Map.setCenter(-121.9785, 37.8694, 11)\n",
    "Map.addLayer(image, {'bands': ['B5', 'B4', 'B3'], max: 0.5}, 'input image')"
   ]
  },
  {
   "cell_type": "code",
   "execution_count": null,
   "metadata": {},
   "outputs": [],
   "source": [
    "boxcar = ee.Kernel.square(radius=7, units='pixels', normalize=True)\n",
    "\n",
    "smooth = image.convolve(boxcar)\n",
    "Map.addLayer(smooth, {'bands': ['B5', 'B4', 'B3'], max: 0.5}, 'smoothed')"
   ]
  },
  {
   "cell_type": "code",
   "execution_count": null,
   "metadata": {},
   "outputs": [],
   "source": [
    "laplacian = ee.Kernel.laplacian8(normalize=False)\n",
    "\n",
    "edgy = image.convolve(laplacian)\n",
    "Map.addLayer(edgy,\n",
    "             {'bands': ['B5', 'B4', 'B3'], 'max': 0.5, 'format': 'png'},\n",
    "             'edges')"
   ]
  },
  {
   "cell_type": "code",
   "execution_count": null,
   "metadata": {},
   "outputs": [],
   "source": [
    "row = [1, 1, 1, 1, 1, 1, 1, 1, 1]\n",
    "centerRow = [1, 1, 1, 1, 0, 1, 1, 1, 1]\n",
    "rows = [row, row, row, row, centerRow, row, row, row, row]\n",
    "kernel = ee.Kernel.fixed(9, 9, rows, -4, -4, False)\n",
    "print(kernel.getInfo())"
   ]
  },
  {
   "cell_type": "code",
   "execution_count": 6,
   "metadata": {},
   "outputs": [],
   "source": [
    "image = ee.Image('LANDSAT/LC08/C01/T1_TOA/LC08_044034_20140318')\\\n",
    "            .select(4).gt(0.2)\n",
    "Map.setCenter(-122.1899, 37.5010, 13)\n",
    "Map.addLayer(image, {}, 'NIR threshold')\n",
    "kernel = ee.Kernel.circle(radius=1)\n",
    "\n",
    "opened = image.focal_min(kernel=kernel, iterations=2)\\\n",
    "             .focal_max(kernel=kernel, iterations=2)\n",
    "Map.addLayer(opened, {}, 'opened')\n",
    "    "
   ]
  }
 ],
 "metadata": {
  "kernelspec": {
   "display_name": "Python 3",
   "language": "python",
   "name": "python3"
  },
  "language_info": {
   "codemirror_mode": {
    "name": "ipython",
    "version": 3
   },
   "file_extension": ".py",
   "mimetype": "text/x-python",
   "name": "python",
   "nbconvert_exporter": "python",
   "pygments_lexer": "ipython3",
   "version": "3.8.3"
  },
  "varInspector": {
   "cols": {
    "lenName": 16,
    "lenType": 16,
    "lenVar": 40
   },
   "kernels_config": {
    "python": {
     "delete_cmd_postfix": "",
     "delete_cmd_prefix": "del ",
     "library": "var_list.py",
     "varRefreshCmd": "print(var_dic_list())"
    },
    "r": {
     "delete_cmd_postfix": ") ",
     "delete_cmd_prefix": "rm(",
     "library": "var_list.r",
     "varRefreshCmd": "cat(var_dic_list()) "
    }
   },
   "types_to_exclude": [
    "module",
    "function",
    "builtin_function_or_method",
    "instance",
    "_Feature"
   ],
   "window_display": false
  }
 },
 "nbformat": 4,
 "nbformat_minor": 4
}
