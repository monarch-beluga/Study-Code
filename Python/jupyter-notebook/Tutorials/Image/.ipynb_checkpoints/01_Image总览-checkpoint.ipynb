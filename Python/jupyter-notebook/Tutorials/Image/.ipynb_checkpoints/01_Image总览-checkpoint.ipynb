{
 "cells": [
  {
   "cell_type": "code",
   "execution_count": null,
   "metadata": {},
   "outputs": [],
   "source": [
    "import geemap\n",
    "import ee"
   ]
  },
  {
   "cell_type": "code",
   "execution_count": null,
   "metadata": {
    "scrolled": false
   },
   "outputs": [],
   "source": [
    "Map = geemap.Map()\n",
    "Map"
   ]
  },
  {
   "cell_type": "markdown",
   "metadata": {},
   "source": [
    "# 添加Image图层"
   ]
  },
  {
   "cell_type": "code",
   "execution_count": null,
   "metadata": {},
   "outputs": [],
   "source": [
    "# ee.Image用gee中的asset ID为参数导入ee图层数据\n",
    "# 这个asset ID 可以为gee里自带的ID，也可以是个人用户上传到gee的ID\n",
    "loadedImage = ee.Image('JAXA/ALOS/AW3D30/V2_2')\n",
    "# Map.addLayer为向geemap.Map对象中添加图层，也可以写成Map.add_ee_layer\n",
    "Map.addLayer(loadedImage, {}, 'loadedImage', opacity=0.5)\n",
    "# 四个参数：第一个为ee数据对象\n",
    "# 第二个为一个字典，里面可以设定输出图像的可视化参数，如：值的范围，和图像显示的色带\n",
    "# 第三个为图层名称，为 Layer N\n",
    "# 第四个为图层的透明度，默认为1\n",
    "# 还有一个参数为shown，为是否显示到图层，默认为True，不过现在没用了，不管是False还是True效果都一样"
   ]
  },
  {
   "cell_type": "code",
   "execution_count": null,
   "metadata": {},
   "outputs": [],
   "source": [
    "dem = ee.Image('users/2431566134liumonarch/monarch/dem')\n",
    "Map.addLayer(dem, {}, 'dem')"
   ]
  },
  {
   "cell_type": "markdown",
   "metadata": {},
   "source": [
    "# 在ImageCollection中添加Image图层对象"
   ]
  },
  {
   "cell_type": "code",
   "execution_count": null,
   "metadata": {},
   "outputs": [],
   "source": [
    "first = (ee.ImageCollection('COPERNICUS/S2_SR')\n",
    "                .filterBounds(ee.Geometry.Point(-70.48, 43.3631))\n",
    "                .filterDate('2019-01-01', '2019-12-31')\n",
    "                .sort('CLOUDY_PIXEL_PERCENTAGE')\n",
    "                .first())      # 选择第一个Image\n",
    "# filterBounds筛选影像范围， filterDate筛选影像时间\n",
    "# sort按指定Image属性对集合进行排序\n",
    "Map.centerObject(first, 8)\n",
    "# centerObject = center_object作用是将地图视图的中心位于指对象的左上角来显示，11表示显示缩放等级\n",
    "Map.addLayer(first, {'bands': ['B4', 'B3', 'B2'], 'min': 0, 'max': 2000}, 'first')"
   ]
  },
  {
   "cell_type": "markdown",
   "metadata": {},
   "source": [
    "# Image数据的基础操作"
   ]
  },
  {
   "cell_type": "code",
   "execution_count": null,
   "metadata": {},
   "outputs": [],
   "source": [
    "image1 = ee.Image(1)\n",
    "print(image1.getInfo())\n",
    "# 根据常量创建ee对象"
   ]
  },
  {
   "cell_type": "code",
   "execution_count": null,
   "metadata": {},
   "outputs": [],
   "source": [
    "image2 = ee.Image(2)\n",
    "image3 = ee.Image(3)\n",
    "image4 = ee.Image.cat([image1, image2, image3])\n",
    "print(image4.getInfo())\n",
    "# ee对象的合并"
   ]
  },
  {
   "cell_type": "code",
   "execution_count": null,
   "metadata": {},
   "outputs": [],
   "source": [
    "multiband = ee.Image([1, 2, 3])\n",
    "print(multiband.getInfo())"
   ]
  },
  {
   "cell_type": "code",
   "execution_count": null,
   "metadata": {},
   "outputs": [],
   "source": [
    "renamed = multiband.select(\n",
    "    [0, 1, 2], # old names\n",
    "    ['band1', 'band2', 'band3']               # new names\n",
    ")\n",
    "print(renamed.getInfo())\n",
    "# ee对象修改波段名"
   ]
  },
  {
   "cell_type": "code",
   "execution_count": null,
   "metadata": {},
   "outputs": [],
   "source": [
    "image5 = image4.addBands(ee.Image(42))\n",
    "print(image5.getInfo())\n",
    "# 向ee对象中添加波段"
   ]
  },
  {
   "cell_type": "markdown",
   "metadata": {},
   "source": [
    "# select函数应用"
   ]
  },
  {
   "cell_type": "code",
   "execution_count": null,
   "metadata": {},
   "outputs": [],
   "source": [
    "# 导入ee图层中的指定波段————select函数，select有两种传递的参数方式\n",
    "# 第一种直接传递波段索引值或波段名称或其名称的正则表达式组成的非列表序列，如下：\n",
    "loadedImage = ee.Image('JAXA/ALOS/AW3D30/V2_2').select('.*?DSM', 'AVE_STK', 2)\n",
    "Map.addLayer(loadedImage, {}, 'loadedImage')"
   ]
  },
  {
   "cell_type": "code",
   "execution_count": null,
   "metadata": {},
   "outputs": [],
   "source": [
    "# 第二种传递两个列表，第一个列表用于波段筛选，第二个列表用于指定波段的新名称\n",
    "# 两个列表的元素个数必须一致，如下：\n",
    "loadedImage_All = ee.Image('JAXA/ALOS/AW3D30/V2_2').select([0, 1], ['A', 'B'])\n",
    "Map.addLayer(loadedImage_All, {}, 'All')\n",
    "Map.addLayer(loadedImage_All.select(0), {}, 'A')\n",
    "Map.addLayer(loadedImage_All.select('B'), {}, 'B')"
   ]
  },
  {
   "cell_type": "code",
   "execution_count": null,
   "metadata": {},
   "outputs": [],
   "source": []
  }
 ],
 "metadata": {
  "kernelspec": {
   "display_name": "Python 3",
   "language": "python",
   "name": "python3"
  },
  "language_info": {
   "codemirror_mode": {
    "name": "ipython",
    "version": 3
   },
   "file_extension": ".py",
   "mimetype": "text/x-python",
   "name": "python",
   "nbconvert_exporter": "python",
   "pygments_lexer": "ipython3",
   "version": "3.8.3"
  }
 },
 "nbformat": 4,
 "nbformat_minor": 4
}
