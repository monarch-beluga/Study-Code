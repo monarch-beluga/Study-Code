{
 "cells": [
  {
   "cell_type": "code",
   "execution_count": null,
   "id": "b1ba3b9d",
   "metadata": {},
   "outputs": [],
   "source": [
    "import geemap\n",
    "import ee\n",
    "import os"
   ]
  },
  {
   "cell_type": "code",
   "execution_count": null,
   "id": "1faf7153",
   "metadata": {},
   "outputs": [],
   "source": [
    "Map = geemap.Map()\n",
    "Map"
   ]
  },
  {
   "cell_type": "code",
   "execution_count": null,
   "id": "97e56268",
   "metadata": {},
   "outputs": [],
   "source": [
    "os.chdir(r'E:/Work/Sample_points/')\n",
    "\n",
    "roi_path = r'sample_point_global.shp'\n",
    "points = geemap.shp_to_ee(roi_path)\n",
    "Map.addLayer(points, {}, 'points')"
   ]
  },
  {
   "cell_type": "code",
   "execution_count": null,
   "id": "fd7d15c0",
   "metadata": {},
   "outputs": [],
   "source": [
    "import pandas as pd\n",
    "\n",
    "df = pd.DataFrame({'ID':points.aggregate_array(\"ID\").getInfo(),\n",
    "                  'X':points.aggregate_array(\"X\").getInfo(),\n",
    "                 'Y':points.aggregate_array(\"Y\").getInfo()})\n",
    "df"
   ]
  },
  {
   "cell_type": "code",
   "execution_count": null,
   "id": "12a923b3",
   "metadata": {},
   "outputs": [],
   "source": [
    "for year in [2019, 2021]:\n",
    "    data = df.copy()\n",
    "    image = ee.ImageCollection(\"NASA/GLDAS/V021/NOAH/G025/T3H\")\\\n",
    "                .filterDate(str(year), str(year+1)).mean()\n",
    "\n",
    "    points_t1 = image.sampleRegions(points, \n",
    "                                    geometries=True, \n",
    "                                    scale=image.projection().nominalScale())\n",
    "\n",
    "    for i, key in enumerate(image.bandNames().getInfo()):\n",
    "        data.insert(3+i, key, points_t1.aggregate_array(key).getInfo())\n",
    "    \n",
    "    data.to_csv(f'GLDAS_{year}.csv', index=False, header=True)"
   ]
  },
  {
   "cell_type": "code",
   "execution_count": null,
   "id": "f2c914e5",
   "metadata": {},
   "outputs": [],
   "source": [
    "for year in [2019, 2021]:\n",
    "    data = df.copy()\n",
    "    images = ee.ImageCollection(\"IDAHO_EPSCOR/TERRACLIMATE\")\\\n",
    "                .filterDate(str(year), str(year+1))\n",
    "    image = images.mean()\n",
    "    prcp = images.select('pr').sum()\n",
    "    points_t1 = image.sampleRegions(points, \n",
    "                                    geometries=True, \n",
    "                                    scale=image.projection().nominalScale())\n",
    "    points_t2 = prcp.sampleRegions(points, \n",
    "                                    geometries=True, \n",
    "                                    scale=prcp.projection().nominalScale())\n",
    "    for i, key in enumerate(image.bandNames().getInfo()):\n",
    "        data.insert(3+i, key, points_t1.aggregate_array(key).getInfo())\n",
    "    data['pr'] = points_t2.aggregate_array('pr').getInfo()\n",
    "    data.to_csv(f'IDAHO_EPSCOR_{year}.csv', index=False, header=True)"
   ]
  },
  {
   "cell_type": "code",
   "execution_count": null,
   "id": "2e36a13b",
   "metadata": {},
   "outputs": [],
   "source": [
    "for year in [2019, 2021]:\n",
    "    data = df.copy()\n",
    "    images = ee.ImageCollection(\"ECMWF/ERA5_LAND/HOURLY\")\\\n",
    "                .filterDate(str(year), str(year+1))\n",
    "    image = images.mean()\n",
    "    prcp = images.select('total_precipitation').sum()\n",
    "    points_t1 = image.sampleRegions(points, \n",
    "                                    geometries=True, \n",
    "                                    scale=image.projection().nominalScale())\n",
    "    points_t2 = prcp.sampleRegions(points, \n",
    "                                    geometries=True, \n",
    "                                    scale=prcp.projection().nominalScale())\n",
    "    for i, key in enumerate(image.bandNames().getInfo()):\n",
    "        data.insert(3+i, key, points_t1.aggregate_array(key).getInfo())\n",
    "    data['total_precipitation'] = points_t2.aggregate_array('total_precipitation').getInfo()\n",
    "    data.to_csv(f'ERA5_{year}.csv', index=False, header=True)"
   ]
  },
  {
   "cell_type": "code",
   "execution_count": null,
   "id": "53c35c6c",
   "metadata": {},
   "outputs": [],
   "source": []
  }
 ],
 "metadata": {
  "kernelspec": {
   "display_name": "Python 3 (ipykernel)",
   "language": "python",
   "name": "python3"
  },
  "language_info": {
   "codemirror_mode": {
    "name": "ipython",
    "version": 3
   },
   "file_extension": ".py",
   "mimetype": "text/x-python",
   "name": "python",
   "nbconvert_exporter": "python",
   "pygments_lexer": "ipython3",
   "version": "3.9.6"
  }
 },
 "nbformat": 4,
 "nbformat_minor": 5
}
