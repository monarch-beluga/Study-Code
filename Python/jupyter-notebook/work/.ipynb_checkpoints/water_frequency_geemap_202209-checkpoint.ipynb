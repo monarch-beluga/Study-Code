{
 "cells": [
  {
   "cell_type": "code",
   "execution_count": null,
   "id": "b7c21578",
   "metadata": {},
   "outputs": [],
   "source": [
    "import ee, os\n",
    "import geemap\n",
    "Map = geemap.Map(center=[28, 113], zoom=7) \n",
    "Map"
   ]
  },
  {
   "cell_type": "code",
   "execution_count": null,
   "id": "081d4a19",
   "metadata": {},
   "outputs": [],
   "source": [
    "h = 110\n",
    "v = 25\n",
    "#Year\n",
    "IniYear = 2020\n",
    "\n",
    "LowLat = v\n",
    "UpLat = v+5\n",
    "LeftLon = h\n",
    "RightLon = h+5\n",
    "\n",
    "#Regions\n",
    "region = ee.FeatureCollection(\"users/2431566134liumonarch/monarch/Jiangxi\").geometry()\n",
    "Map.addLayer(region, {}, 'region')\n",
    "\n",
    "dem = ee.Image('USGS/SRTMGL1_003')\n",
    "#Set region and starting and ending time\n",
    "start_date = str(IniYear) + '-01-01';\n",
    "end_date = str(IniYear) + '-12-31';\n",
    "print(start_date)\n",
    "print(end_date)"
   ]
  },
  {
   "cell_type": "code",
   "execution_count": null,
   "id": "8a91eecd",
   "metadata": {},
   "outputs": [],
   "source": [
    "collection8 = ee.ImageCollection(\"LANDSAT/LC08/C01/T1_SR\")\\\n",
    "    .filterBounds(region)\\\n",
    "    .filterDate(start_date, end_date)\\\n",
    "    .select( #Rename LC8 bands same as L5/7\n",
    "      ['B2', 'B3', 'B4', 'B5', 'B6', 'B7']\n",
    "      ,['B1', 'B2', 'B3', 'B4', 'B5', 'B7'])\n",
    "print('Landsat8')\n",
    "# print(collection8.size().getInfo())"
   ]
  },
  {
   "cell_type": "code",
   "execution_count": null,
   "id": "3bfa8618",
   "metadata": {},
   "outputs": [],
   "source": [
    "image = collection8.mosaic().toInt16()\n",
    "Map.addLayer(image, {}, 'image')\n",
    "Map"
   ]
  },
  {
   "cell_type": "code",
   "execution_count": null,
   "id": "45eea354",
   "metadata": {
    "scrolled": true
   },
   "outputs": [],
   "source": [
    "from Monarch.user_gee import *\n",
    "outfile = 'E:/Work/TEMP'\n",
    "if __name__ == '__main__':\n",
    "    clip_dow_merge(region, image, outfile, 30, 2, flag=False)"
   ]
  },
  {
   "cell_type": "code",
   "execution_count": null,
   "id": "494ac964",
   "metadata": {},
   "outputs": [],
   "source": [
    "import rasterio\n",
    "from rasterio.merge import merge\n",
    "import shutil\n",
    "from glob import glob\n",
    "\n",
    "files = glob(path + \"/*.tif\")\n",
    "src_files_to_mosaic = []\n",
    "for tif_f in files:\n",
    "    src = rasterio.open(tif_f)\n",
    "    src_files_to_mosaic.append(src)\n",
    "mosaic, out_trans = merge(src_files_to_mosaic)\n",
    "out_meta = src.meta.copy()\n",
    "out_meta.update({\"driver\": \"GTiff\",\n",
    "                 \"height\": mosaic.shape[1],\n",
    "                 \"width\": mosaic.shape[2],\n",
    "                 \"transform\": out_trans,\n",
    "                 })\n",
    "with rasterio.open(outfile + \".tif\", \"w\", **out_meta) as dest:\n",
    "    dest.write(mosaic)\n",
    "for src in src_files_to_mosaic:\n",
    "    src.close()\n",
    "shutil.rmtree(path)"
   ]
  },
  {
   "cell_type": "code",
   "execution_count": null,
   "id": "0e7c570f",
   "metadata": {},
   "outputs": [],
   "source": [
    "import rasterio\n",
    "from rasterio.merge import merge\n",
    "import shutil\n",
    "from glob import glob\n",
    "\n",
    "outfile = 'E:/Work/TEMP'\n",
    "path = outfile + '_mk'\n",
    "files = glob(path + \"/*.tif\")\n",
    "src_files_to_mosaic = []\n",
    "for tif_f in files:\n",
    "    src = rasterio.open(tif_f)\n",
    "    src_files_to_mosaic.append(src)\n",
    "mosaic, out_trans = merge(src_files_to_mosaic)\n"
   ]
  },
  {
   "cell_type": "code",
   "execution_count": null,
   "id": "57f7fc23",
   "metadata": {},
   "outputs": [],
   "source": [
    "out_meta = src.meta.copy()\n",
    "out_meta.update({\"driver\": \"GTiff\",\n",
    "                 \"height\": mosaic.shape[1],\n",
    "                 \"width\": mosaic.shape[2],\n",
    "                 \"transform\": out_trans,\n",
    "                 })"
   ]
  },
  {
   "cell_type": "code",
   "execution_count": null,
   "id": "d74b2db1",
   "metadata": {},
   "outputs": [],
   "source": [
    "with rasterio.open(outfile + \".tif\", \"w\", **out_meta) as dest:\n",
    "    dest.write(mosaic)"
   ]
  },
  {
   "cell_type": "code",
   "execution_count": null,
   "id": "32e6e8e3",
   "metadata": {},
   "outputs": [],
   "source": [
    "bounds = region.bounds(maxError=0.1, proj=ee.Projection('EPSG:3857')).getInfo()"
   ]
  },
  {
   "cell_type": "code",
   "execution_count": null,
   "id": "c1b51abb",
   "metadata": {},
   "outputs": [],
   "source": [
    "import numpy as np\n",
    "poy = np.array(bounds['coordinates'][0])\n",
    "min_x = poy[:, 0].min()\n",
    "max_x = poy[:, 0].max()\n",
    "min_y = poy[:, 1].min()\n",
    "max_y = poy[:, 1].max()"
   ]
  },
  {
   "cell_type": "code",
   "execution_count": null,
   "id": "274266a7",
   "metadata": {},
   "outputs": [],
   "source": [
    "print(min_x, max_x, min_y, max_y)"
   ]
  },
  {
   "cell_type": "code",
   "execution_count": null,
   "id": "f42c217a",
   "metadata": {},
   "outputs": [],
   "source": [
    "import rasterio\n",
    "from rasterio.merge import merge\n",
    "import shutil\n",
    "from glob import glob\n",
    "path = 'E:/Work/TEMP_mk/'\n",
    "files = glob(path + \"/*.tif\")\n",
    "outfile = 'E:/Work/TEMP1'\n",
    "scale = 50\n",
    "x_offset = int(min_x / scale)\n",
    "y_offset = int(max_y / scale) + 1\n",
    "height = y_offset - int(min_y / scale)\n",
    "width = int(max_x / scale) - x_offset + 1\n",
    "transform = [scale, 0, x_offset * scale , 0, -scale, y_offset * scale]"
   ]
  },
  {
   "cell_type": "code",
   "execution_count": null,
   "id": "7900852a",
   "metadata": {},
   "outputs": [],
   "source": [
    "with rasterio.open(files[0]) as src:\n",
    "    out_meta = src.meta.copy()\n",
    "out_meta.update({\"driver\": \"GTiff\",\n",
    "                 \"height\": height,\n",
    "                 \"width\": width,\n",
    "                 \"transform\": transform,\n",
    "                 })"
   ]
  },
  {
   "cell_type": "code",
   "execution_count": null,
   "id": "7c991196",
   "metadata": {},
   "outputs": [],
   "source": [
    "import time\n",
    "with rasterio.open(outfile + \".tif\", \"w\", **out_meta) as dest:\n",
    "    for tif_f in files:\n",
    "        with rasterio.open(tif_f) as src:\n",
    "            col_offset = int(src.transform[2] / scale) - x_offset\n",
    "            row_offset = y_offset - int(src.transform[5] / scale)\n",
    "            src_height = src.height\n",
    "            src_width = src.width\n",
    "            data = src.read()\n",
    "        dest.write(data, window=rasterio.windows.Window(col_offset, row_offset, src_width, src_height))\n",
    "        print(outfile, \"合并成功！！！\")\n",
    "        time.sleep(1)\n",
    "print(\"合并成功！！！\")"
   ]
  },
  {
   "cell_type": "code",
   "execution_count": null,
   "id": "759febb6",
   "metadata": {},
   "outputs": [],
   "source": []
  }
 ],
 "metadata": {
  "kernelspec": {
   "display_name": "Python 3 (ipykernel)",
   "language": "python",
   "name": "python3"
  },
  "language_info": {
   "codemirror_mode": {
    "name": "ipython",
    "version": 3
   },
   "file_extension": ".py",
   "mimetype": "text/x-python",
   "name": "python",
   "nbconvert_exporter": "python",
   "pygments_lexer": "ipython3",
   "version": "3.9.6"
  },
  "varInspector": {
   "cols": {
    "lenName": 16,
    "lenType": 16,
    "lenVar": 40
   },
   "kernels_config": {
    "python": {
     "delete_cmd_postfix": "",
     "delete_cmd_prefix": "del ",
     "library": "var_list.py",
     "varRefreshCmd": "print(var_dic_list())"
    },
    "r": {
     "delete_cmd_postfix": ") ",
     "delete_cmd_prefix": "rm(",
     "library": "var_list.r",
     "varRefreshCmd": "cat(var_dic_list()) "
    }
   },
   "position": {
    "height": "443.844px",
    "left": "1550px",
    "right": "20px",
    "top": "120px",
    "width": "350px"
   },
   "types_to_exclude": [
    "module",
    "function",
    "builtin_function_or_method",
    "instance",
    "_Feature"
   ],
   "window_display": true
  }
 },
 "nbformat": 4,
 "nbformat_minor": 5
}
