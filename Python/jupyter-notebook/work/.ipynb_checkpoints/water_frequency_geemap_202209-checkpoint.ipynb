{
 "cells": [
  {
   "cell_type": "code",
   "execution_count": null,
   "id": "b7c21578",
   "metadata": {},
   "outputs": [],
   "source": [
    "import ee, os\n",
    "import geemap\n",
    "Map = geemap.Map(center=[30, 113], zoom=7) \n",
    "Map"
   ]
  },
  {
   "cell_type": "code",
   "execution_count": null,
   "id": "081d4a19",
   "metadata": {},
   "outputs": [],
   "source": [
    "h = 110\n",
    "v = 25\n",
    "#Year\n",
    "IniYear = 2020\n",
    "\n",
    "LowLat = v\n",
    "UpLat = v+5\n",
    "LeftLon = h\n",
    "RightLon = h+5\n",
    "\n",
    "#Regions\n",
    "region = ee.Geometry.Rectangle(LeftLon,LowLat,RightLon,UpLat);\n",
    "Map.addLayer(region)\n",
    "\n",
    "dem = ee.Image('USGS/SRTMGL1_003')\n",
    "#Set region and starting and ending time\n",
    "start_date = str(IniYear) + '-01-01';\n",
    "end_date = str(IniYear) + '-12-31';\n",
    "print(start_date)\n",
    "print(end_date)"
   ]
  },
  {
   "cell_type": "code",
   "execution_count": null,
   "id": "8a91eecd",
   "metadata": {},
   "outputs": [],
   "source": [
    "collection8 = ee.ImageCollection('LANDSAT/LC08/C01/T1_SR')\\\n",
    "    .filterBounds(region)\\\n",
    "    .filterDate(start_date, end_date)\\\n",
    "    .select( #Rename LC8 bands same as L5/7\n",
    "      ['B2', 'B3', 'B4', 'B5', 'B6', 'B7']\n",
    "      ,['B1', 'B2', 'B3', 'B4', 'B5', 'B7'])\n",
    "print('Landsat8')\n",
    "# print(collection8.size().getInfo())"
   ]
  },
  {
   "cell_type": "code",
   "execution_count": null,
   "id": "3bfa8618",
   "metadata": {},
   "outputs": [],
   "source": [
    "Map.addLayer(collection8.mosaic().toInt16().clip(region), {}, 'image')\n",
    "Map"
   ]
  },
  {
   "cell_type": "code",
   "execution_count": null,
   "id": "bf82d7bd",
   "metadata": {},
   "outputs": [],
   "source": [
    "image = collection8.mosaic().toInt16().clip(region)"
   ]
  },
  {
   "cell_type": "code",
   "execution_count": null,
   "id": "45eea354",
   "metadata": {},
   "outputs": [],
   "source": [
    "from user_gee import *\n",
    "outfile = 'E:/Work/TEMP'\n",
    "if __name__ == '__main__':\n",
    "    clip_dow_merge(region, image, outfile, 100, 2)"
   ]
  },
  {
   "cell_type": "code",
   "execution_count": null,
   "id": "d3a51c0b",
   "metadata": {},
   "outputs": [],
   "source": [
    "import os\n",
    "import numpy as np\n",
    "import geemap\n",
    "import time\n",
    "from glob import glob\n",
    "import math\n",
    "outfile = 'E:/Work/TEMP'\n",
    "\n",
    "crs='EPSG:3857'\n",
    "max_bytes=40000000\n",
    "data_type_bytes = 2\n",
    "scale = 100\n",
    "bounds = region.bounds(maxError=0.1, proj=ee.Projection(crs))\n",
    "bands = image.bandNames().size().getInfo()\n",
    "poy = np.array(bounds.coordinates().getInfo()[0])\n",
    "min_x = poy[:, 0].min()\n",
    "max_x = poy[:, 0].max()\n",
    "min_y = poy[:, 1].min()\n",
    "max_y = poy[:, 1].max()\n",
    "x_interval = max_x - min_x\n",
    "y_interval = max_y - min_y\n",
    "max_region = max_bytes * scale*scale / bands / (data_type_bytes+1)\n",
    "max_length = int(math.sqrt(max_region))\n",
    "region_area = region.area(maxError=0.1, proj=ee.Projection(crs)).getInfo()"
   ]
  },
  {
   "cell_type": "code",
   "execution_count": null,
   "id": "5b4f3919",
   "metadata": {},
   "outputs": [],
   "source": [
    "region_area / max_region"
   ]
  },
  {
   "cell_type": "code",
   "execution_count": null,
   "id": "03bdf6f6",
   "metadata": {},
   "outputs": [],
   "source": [
    "\n",
    "sep_x = max_length\n",
    "sep_y = max_length\n",
    "if x_interval < max_length:\n",
    "    sep_x = x_interval\n",
    "    sep_y = max_region / x_interval\n",
    "if y_interval < max_length:\n",
    "    sep_y = y_interval\n",
    "    sep_x = max_region / y_interval\n",
    "p_x = [i for i in np.arange(min_x, max_x, sep_x)] + [max_x]\n",
    "p_y = [i for i in np.arange(min_y, max_y, sep_y)] + [max_y]\n",
    "polys = []\n",
    "for i in range(len(p_x)-1):\n",
    "    for j in range(len(p_y)-1):\n",
    "        poly = ee.Geometry(ee.Geometry.Rectangle([float(p_x[i]), float(p_y[j]), float(p_x[i+1]), float(p_y[j+1])]), ee.Projection(crs), False)\n",
    "        polys.append(poly)\n",
    "ee_polys = ee.FeatureCollection(polys).filterBounds(region)\n",
    "count = len(polys)\n",
    "clip_images = ee.ImageCollection(ee_polys.map(lambda x: image.clip(x.geometry()))).toList(count)\n",
    "path = outfile + '_mk'\n",
    "# Map.addLayer(clip_images, {}, 'clip')"
   ]
  },
  {
   "cell_type": "code",
   "execution_count": null,
   "id": "d5999aaa",
   "metadata": {},
   "outputs": [],
   "source": [
    "def dow(agrs):\n",
    "    img, img_count, path, scale, crs = agrs\n",
    "    geemap.ee_export_image(ee.Image(img), path+f'/{img_count}.tif', scale, crs)\n",
    "    \n",
    "def merge_img(path: str, outfile):\n",
    "    \"\"\"\n",
    "\n",
    "    Args:\n",
    "        path: 影像所在文件夹\n",
    "        outfile: 影像的输出路径, 不包含后缀\n",
    "\n",
    "    Returns:\n",
    "\n",
    "    \"\"\"\n",
    "    import rasterio\n",
    "    from rasterio.merge import merge\n",
    "    import shutil\n",
    "    from glob import glob\n",
    "\n",
    "    files = glob(path + \"/*.tif\")\n",
    "    src_files_to_mosaic = []\n",
    "    for tif_f in files:\n",
    "        src = rasterio.open(tif_f)\n",
    "        src_files_to_mosaic.append(src)\n",
    "    mosaic, out_trans = merge(src_files_to_mosaic)\n",
    "    out_meta = src.meta.copy()\n",
    "    out_meta.update({\"driver\": \"GTiff\",\n",
    "                     \"height\": mosaic.shape[1],\n",
    "                     \"width\": mosaic.shape[2],\n",
    "                     \"transform\": out_trans,\n",
    "                     })\n",
    "    with rasterio.open(outfile + \".tif\", \"w\", **out_meta) as dest:\n",
    "        dest.write(mosaic)\n",
    "    for src in src_files_to_mosaic:\n",
    "        src.close()\n",
    "    shutil.rmtree(path)"
   ]
  },
  {
   "cell_type": "code",
   "execution_count": null,
   "id": "988d6c2d",
   "metadata": {},
   "outputs": [],
   "source": [
    "from concurrent.futures import ThreadPoolExecutor,  wait, ALL_COMPLETED, FIRST_COMPLETED\n",
    "start = time.time()\n",
    "if not os.path.exists(path):\n",
    "    os.makedirs(path)\n",
    "print(f\"Total number of images: {count}\\n\")\n",
    "# for i in range(count):\n",
    "#     geemap.ee_export_image(ee.Image(clip_images.get(i)), path+f'/{i}.tif', scale, crs)\n",
    "with ThreadPoolExecutor(5) as pool:\n",
    "    pool.map(dow, [[clip_images.get(i), i, path, scale, crs] for i in range(count)])\n",
    "#     all_task = [pool.submit(dow, ([clip_images.get(i), i, path, scale, crs])) for i in range(count)]\n",
    "#     wait(all_task, return_when=ALL_COMPLETED)\n",
    "\n",
    "files = glob(path+\"/*.tif\")\n",
    "if len(files) == len(polys):\n",
    "    merge_img(path, outfile)\n",
    "    print(\"下载成功 !!!\")\n",
    "else:\n",
    "    print(\"下载不完全！！！\")\n",
    "t_con = time.time()-start\n",
    "print(f'总耗时:{t_con:.2f}s')"
   ]
  },
  {
   "cell_type": "code",
   "execution_count": null,
   "id": "3700f728",
   "metadata": {},
   "outputs": [],
   "source": [
    "from ee_export import ee_export\n",
    "sv_file = 'E:/Work/TEMP'\n",
    "ee_export(region=region, image=image, outfile=sv_file, scale=200, sep=0.5)"
   ]
  },
  {
   "cell_type": "code",
   "execution_count": null,
   "id": "f848fffe",
   "metadata": {},
   "outputs": [],
   "source": [
    "geemap.ee_export_image(image, sv_file+'.tif', 300, region=region)"
   ]
  },
  {
   "cell_type": "code",
   "execution_count": null,
   "id": "2a4ed15a",
   "metadata": {},
   "outputs": [],
   "source": [
    "region.getInfo()"
   ]
  },
  {
   "cell_type": "code",
   "execution_count": null,
   "id": "0bfe414a",
   "metadata": {},
   "outputs": [],
   "source": [
    "Map.addLayer(region.buffer(10), {'color':'red'}, 'roi')"
   ]
  },
  {
   "cell_type": "code",
   "execution_count": null,
   "id": "911aa673",
   "metadata": {},
   "outputs": [],
   "source": [
    "sv_file = 'E:/Work/TEMP1'"
   ]
  },
  {
   "cell_type": "code",
   "execution_count": null,
   "id": "5d8864a6",
   "metadata": {
    "scrolled": true
   },
   "outputs": [],
   "source": [
    "#clip_dow_merge(region, flooding_freq, freqName, 30)\n",
    "geemap.ee_export_image_to_drive(freq_image, description= freqName, folder='ee_export', scale=30)\n",
    "# geemap.ee_export_image_to_drive(flooding_freq.toUint8(), description= freqName, folder='Water', maxPixels=100000000000, region = region, scale=30)\n",
    "print('download to drive successful!!')"
   ]
  }
 ],
 "metadata": {
  "kernelspec": {
   "display_name": "Python 3 (ipykernel)",
   "language": "python",
   "name": "python3"
  },
  "language_info": {
   "codemirror_mode": {
    "name": "ipython",
    "version": 3
   },
   "file_extension": ".py",
   "mimetype": "text/x-python",
   "name": "python",
   "nbconvert_exporter": "python",
   "pygments_lexer": "ipython3",
   "version": "3.9.6"
  },
  "varInspector": {
   "cols": {
    "lenName": 16,
    "lenType": 16,
    "lenVar": 40
   },
   "kernels_config": {
    "python": {
     "delete_cmd_postfix": "",
     "delete_cmd_prefix": "del ",
     "library": "var_list.py",
     "varRefreshCmd": "print(var_dic_list())"
    },
    "r": {
     "delete_cmd_postfix": ") ",
     "delete_cmd_prefix": "rm(",
     "library": "var_list.r",
     "varRefreshCmd": "cat(var_dic_list()) "
    }
   },
   "position": {
    "height": "443.844px",
    "left": "1550px",
    "right": "20px",
    "top": "120px",
    "width": "350px"
   },
   "types_to_exclude": [
    "module",
    "function",
    "builtin_function_or_method",
    "instance",
    "_Feature"
   ],
   "window_display": true
  }
 },
 "nbformat": 4,
 "nbformat_minor": 5
}
