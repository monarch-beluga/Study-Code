{
 "cells": [
  {
   "cell_type": "code",
   "execution_count": 1,
   "id": "b7c21578",
   "metadata": {},
   "outputs": [
    {
     "data": {
      "application/vnd.jupyter.widget-view+json": {
       "model_id": "64866b7e188e4fb9a547897c9e233bee",
       "version_major": 2,
       "version_minor": 0
      },
      "text/plain": [
       "Map(center=[28, 113], controls=(WidgetControl(options=['position', 'transparent_bg'], widget=HBox(children=(To…"
      ]
     },
     "metadata": {},
     "output_type": "display_data"
    }
   ],
   "source": [
    "import ee, os\n",
    "import geemap\n",
    "Map = geemap.Map(center=[28, 113], zoom=7) \n",
    "Map"
   ]
  },
  {
   "cell_type": "code",
   "execution_count": 2,
   "id": "081d4a19",
   "metadata": {},
   "outputs": [
    {
     "name": "stdout",
     "output_type": "stream",
     "text": [
      "2020-01-01\n",
      "2020-12-31\n"
     ]
    }
   ],
   "source": [
    "h = 110\n",
    "v = 25\n",
    "#Year\n",
    "IniYear = 2020\n",
    "\n",
    "LowLat = v\n",
    "UpLat = v+5\n",
    "LeftLon = h\n",
    "RightLon = h+5\n",
    "\n",
    "#Regions\n",
    "region = ee.FeatureCollection(\"users/2431566134liumonarch/monarch/Jiangxi\").geometry()\n",
    "Map.addLayer(region, {}, 'region')\n",
    "\n",
    "dem = ee.Image('USGS/SRTMGL1_003')\n",
    "#Set region and starting and ending time\n",
    "start_date = str(IniYear) + '-01-01';\n",
    "end_date = str(IniYear) + '-12-31';\n",
    "print(start_date)\n",
    "print(end_date)"
   ]
  },
  {
   "cell_type": "code",
   "execution_count": 3,
   "id": "8a91eecd",
   "metadata": {},
   "outputs": [
    {
     "name": "stdout",
     "output_type": "stream",
     "text": [
      "Landsat8\n"
     ]
    }
   ],
   "source": [
    "collection8 = ee.ImageCollection(\"LANDSAT/LC08/C01/T1_SR\")\\\n",
    "    .filterBounds(region)\\\n",
    "    .filterDate(start_date, end_date)\\\n",
    "    .select( #Rename LC8 bands same as L5/7\n",
    "      ['B2', 'B3', 'B4', 'B5', 'B6', 'B7']\n",
    "      ,['B1', 'B2', 'B3', 'B4', 'B5', 'B7'])\n",
    "print('Landsat8')\n",
    "# print(collection8.size().getInfo())"
   ]
  },
  {
   "cell_type": "code",
   "execution_count": null,
   "id": "3bfa8618",
   "metadata": {},
   "outputs": [],
   "source": [
    "image = collection8.mosaic().toInt16()\n",
    "# Map.addLayer(image, {}, 'image')\n",
    "# Map"
   ]
  },
  {
   "cell_type": "code",
   "execution_count": null,
   "id": "45eea354",
   "metadata": {
    "scrolled": true
   },
   "outputs": [],
   "source": [
    "from Monarch.user_gee import *\n",
    "outfile = 'E:/Work/TEMP'\n",
    "if __name__ == '__main__':\n",
    "    clip_dow_merge(region, image, outfile, 30, 2, flag=False)"
   ]
  },
  {
   "cell_type": "code",
   "execution_count": null,
   "id": "494ac964",
   "metadata": {},
   "outputs": [],
   "source": [
    "import rasterio\n",
    "from rasterio.merge import merge\n",
    "import shutil\n",
    "from glob import glob\n",
    "\n",
    "files = glob(path + \"/*.tif\")\n",
    "src_files_to_mosaic = []\n",
    "for tif_f in files:\n",
    "    src = rasterio.open(tif_f)\n",
    "    src_files_to_mosaic.append(src)\n",
    "mosaic, out_trans = merge(src_files_to_mosaic)\n",
    "out_meta = src.meta.copy()\n",
    "out_meta.update({\"driver\": \"GTiff\",\n",
    "                 \"height\": mosaic.shape[1],\n",
    "                 \"width\": mosaic.shape[2],\n",
    "                 \"transform\": out_trans,\n",
    "                 })\n",
    "with rasterio.open(outfile + \".tif\", \"w\", **out_meta) as dest:\n",
    "    dest.write(mosaic)\n",
    "for src in src_files_to_mosaic:\n",
    "    src.close()\n",
    "shutil.rmtree(path)"
   ]
  },
  {
   "cell_type": "code",
   "execution_count": null,
   "id": "0e7c570f",
   "metadata": {},
   "outputs": [],
   "source": [
    "import rasterio\n",
    "from rasterio.merge import merge\n",
    "import shutil\n",
    "from glob import glob\n",
    "\n",
    "outfile = 'E:/Work/TEMP'\n",
    "path = outfile + '_mk'\n",
    "files = glob(path + \"/*.tif\")\n",
    "src_files_to_mosaic = []\n",
    "for tif_f in files:\n",
    "    src = rasterio.open(tif_f)\n",
    "    src_files_to_mosaic.append(src)\n",
    "mosaic, out_trans = merge(src_files_to_mosaic)\n"
   ]
  },
  {
   "cell_type": "code",
   "execution_count": null,
   "id": "57f7fc23",
   "metadata": {},
   "outputs": [],
   "source": [
    "out_meta = src.meta.copy()\n",
    "out_meta.update({\"driver\": \"GTiff\",\n",
    "                 \"height\": mosaic.shape[1],\n",
    "                 \"width\": mosaic.shape[2],\n",
    "                 \"transform\": out_trans,\n",
    "                 })"
   ]
  },
  {
   "cell_type": "code",
   "execution_count": null,
   "id": "d74b2db1",
   "metadata": {},
   "outputs": [],
   "source": [
    "with rasterio.open(outfile + \".tif\", \"w\", **out_meta) as dest:\n",
    "    dest.write(mosaic)"
   ]
  },
  {
   "cell_type": "code",
   "execution_count": 4,
   "id": "32e6e8e3",
   "metadata": {},
   "outputs": [],
   "source": [
    "bounds = region.bounds(maxError=0.1, proj=ee.Projection('EPSG:3857')).getInfo()"
   ]
  },
  {
   "cell_type": "code",
   "execution_count": 5,
   "id": "c1b51abb",
   "metadata": {},
   "outputs": [],
   "source": [
    "import numpy as np\n",
    "poy = np.array(bounds['coordinates'][0])\n",
    "min_x = poy[:, 0].min()\n",
    "max_x = poy[:, 0].max()\n",
    "min_y = poy[:, 1].min()\n",
    "max_y = poy[:, 1].max()"
   ]
  },
  {
   "cell_type": "code",
   "execution_count": null,
   "id": "274266a7",
   "metadata": {},
   "outputs": [],
   "source": [
    "geemap.ee_export_image()"
   ]
  },
  {
   "cell_type": "code",
   "execution_count": 6,
   "id": "f42c217a",
   "metadata": {},
   "outputs": [],
   "source": [
    "import rasterio\n",
    "from rasterio.merge import merge\n",
    "import shutil\n",
    "from glob import glob\n",
    "path = 'E:/Work/TEMP_mk/'\n",
    "files = glob(path + \"/*.tif\")\n",
    "outfile = 'E:/Work/TEMP2'\n",
    "scale = 30\n",
    "x_offset = int(min_x / scale)\n",
    "y_offset = int(max_y / scale) + 1\n",
    "height = y_offset - int(min_y / scale)\n",
    "width = int(max_x / scale) - x_offset + 1\n",
    "transform = [scale, 0, x_offset * scale , 0, -scale, y_offset * scale]"
   ]
  },
  {
   "cell_type": "code",
   "execution_count": 24,
   "id": "7900852a",
   "metadata": {},
   "outputs": [],
   "source": [
    "with rasterio.open(files[0]) as src:\n",
    "    out_meta = src.meta.copy()\n",
    "out_meta.update({\"driver\": \"GTiff\",\n",
    "                 \"height\": height,\n",
    "                 \"compress\": 'DEFLATE',\n",
    "                 \"width\": width,\n",
    "                 \"transform\": transform,\n",
    "                 'BIGTIFF':\"YES\"\n",
    "                 })"
   ]
  },
  {
   "cell_type": "code",
   "execution_count": 31,
   "id": "7c991196",
   "metadata": {},
   "outputs": [
    {
     "name": "stdout",
     "output_type": "stream",
     "text": [
      "E:/Work/TEMP_mk\\0.tif 合并成功！！！\n",
      "E:/Work/TEMP_mk\\1.tif 合并成功！！！\n",
      "E:/Work/TEMP_mk\\10.tif 合并成功！！！\n",
      "E:/Work/TEMP_mk\\100.tif 合并成功！！！\n",
      "E:/Work/TEMP_mk\\101.tif 合并成功！！！\n",
      "E:/Work/TEMP_mk\\102.tif 合并成功！！！\n",
      "E:/Work/TEMP_mk\\103.tif 合并成功！！！\n",
      "E:/Work/TEMP_mk\\104.tif 合并成功！！！\n",
      "E:/Work/TEMP_mk\\105.tif 合并成功！！！\n",
      "E:/Work/TEMP_mk\\106.tif 合并成功！！！\n",
      "E:/Work/TEMP_mk\\107.tif 合并成功！！！\n",
      "E:/Work/TEMP_mk\\108.tif 合并成功！！！\n",
      "E:/Work/TEMP_mk\\109.tif 合并成功！！！\n",
      "E:/Work/TEMP_mk\\11.tif 合并成功！！！\n",
      "E:/Work/TEMP_mk\\110.tif 合并成功！！！\n",
      "E:/Work/TEMP_mk\\111.tif 合并成功！！！\n",
      "E:/Work/TEMP_mk\\112.tif 合并成功！！！\n",
      "E:/Work/TEMP_mk\\113.tif 合并成功！！！\n",
      "E:/Work/TEMP_mk\\114.tif 合并成功！！！\n",
      "E:/Work/TEMP_mk\\115.tif 合并成功！！！\n",
      "E:/Work/TEMP_mk\\116.tif 合并成功！！！\n",
      "E:/Work/TEMP_mk\\117.tif 合并成功！！！\n",
      "E:/Work/TEMP_mk\\118.tif 合并成功！！！\n",
      "E:/Work/TEMP_mk\\119.tif 合并成功！！！\n",
      "E:/Work/TEMP_mk\\12.tif 合并成功！！！\n",
      "E:/Work/TEMP_mk\\120.tif 合并成功！！！\n",
      "E:/Work/TEMP_mk\\121.tif 合并成功！！！\n",
      "E:/Work/TEMP_mk\\122.tif 合并成功！！！\n",
      "E:/Work/TEMP_mk\\123.tif 合并成功！！！\n",
      "E:/Work/TEMP_mk\\124.tif 合并成功！！！\n",
      "E:/Work/TEMP_mk\\125.tif 合并成功！！！\n",
      "E:/Work/TEMP_mk\\126.tif 合并成功！！！\n",
      "E:/Work/TEMP_mk\\127.tif 合并成功！！！\n",
      "E:/Work/TEMP_mk\\128.tif 合并成功！！！\n",
      "E:/Work/TEMP_mk\\129.tif 合并成功！！！\n",
      "E:/Work/TEMP_mk\\13.tif 合并成功！！！\n",
      "E:/Work/TEMP_mk\\130.tif 合并成功！！！\n",
      "E:/Work/TEMP_mk\\131.tif 合并成功！！！\n",
      "E:/Work/TEMP_mk\\132.tif 合并成功！！！\n",
      "E:/Work/TEMP_mk\\133.tif 合并成功！！！\n",
      "E:/Work/TEMP_mk\\134.tif 合并成功！！！\n",
      "E:/Work/TEMP_mk\\135.tif 合并成功！！！\n",
      "E:/Work/TEMP_mk\\136.tif 合并成功！！！\n",
      "E:/Work/TEMP_mk\\137.tif 合并成功！！！\n",
      "E:/Work/TEMP_mk\\138.tif 合并成功！！！\n",
      "E:/Work/TEMP_mk\\139.tif 合并成功！！！\n",
      "E:/Work/TEMP_mk\\14.tif 合并成功！！！\n",
      "E:/Work/TEMP_mk\\140.tif 合并成功！！！\n",
      "E:/Work/TEMP_mk\\15.tif 合并成功！！！\n",
      "E:/Work/TEMP_mk\\16.tif 合并成功！！！\n",
      "E:/Work/TEMP_mk\\17.tif 合并成功！！！\n",
      "E:/Work/TEMP_mk\\18.tif 合并成功！！！\n",
      "E:/Work/TEMP_mk\\19.tif 合并成功！！！\n",
      "E:/Work/TEMP_mk\\2.tif 合并成功！！！\n",
      "E:/Work/TEMP_mk\\20.tif 合并成功！！！\n",
      "E:/Work/TEMP_mk\\21.tif 合并成功！！！\n",
      "E:/Work/TEMP_mk\\22.tif 合并成功！！！\n",
      "E:/Work/TEMP_mk\\23.tif 合并成功！！！\n",
      "E:/Work/TEMP_mk\\24.tif 合并成功！！！\n",
      "E:/Work/TEMP_mk\\25.tif 合并成功！！！\n",
      "E:/Work/TEMP_mk\\26.tif 合并成功！！！\n",
      "E:/Work/TEMP_mk\\27.tif 合并成功！！！\n",
      "E:/Work/TEMP_mk\\28.tif 合并成功！！！\n",
      "E:/Work/TEMP_mk\\29.tif 合并成功！！！\n",
      "E:/Work/TEMP_mk\\3.tif 合并成功！！！\n",
      "E:/Work/TEMP_mk\\30.tif 合并成功！！！\n",
      "E:/Work/TEMP_mk\\31.tif 合并成功！！！\n",
      "E:/Work/TEMP_mk\\32.tif 合并成功！！！\n",
      "E:/Work/TEMP_mk\\33.tif 合并成功！！！\n"
     ]
    },
    {
     "ename": "RasterioIOError",
     "evalue": "Read or write failed. An error occurred while writing a dirty block from GDALRasterBand::IRasterIO",
     "output_type": "error",
     "traceback": [
      "\u001b[1;31m---------------------------------------------------------------------------\u001b[0m",
      "\u001b[1;31mCPLE_AppDefinedError\u001b[0m                      Traceback (most recent call last)",
      "\u001b[1;32mrasterio\\_io.pyx\u001b[0m in \u001b[0;36mrasterio._io.DatasetWriterBase.write\u001b[1;34m()\u001b[0m\n",
      "\u001b[1;32mrasterio\\shim_rasterioex.pxi\u001b[0m in \u001b[0;36mrasterio._shim.io_multi_band\u001b[1;34m()\u001b[0m\n",
      "\u001b[1;32mrasterio\\_err.pyx\u001b[0m in \u001b[0;36mrasterio._err.exc_wrap_int\u001b[1;34m()\u001b[0m\n",
      "\u001b[1;31mCPLE_AppDefinedError\u001b[0m: An error occurred while writing a dirty block from GDALRasterBand::IRasterIO",
      "\nDuring handling of the above exception, another exception occurred:\n",
      "\u001b[1;31mRasterioIOError\u001b[0m                           Traceback (most recent call last)",
      "\u001b[1;32m~\\AppData\\Local\\Temp/ipykernel_14436/1476756361.py\u001b[0m in \u001b[0;36m<module>\u001b[1;34m\u001b[0m\n\u001b[0;32m      8\u001b[0m             \u001b[0msrc_width\u001b[0m \u001b[1;33m=\u001b[0m \u001b[0msrc\u001b[0m\u001b[1;33m.\u001b[0m\u001b[0mwidth\u001b[0m\u001b[1;33m\u001b[0m\u001b[1;33m\u001b[0m\u001b[0m\n\u001b[0;32m      9\u001b[0m             \u001b[0mdata\u001b[0m \u001b[1;33m=\u001b[0m \u001b[0msrc\u001b[0m\u001b[1;33m.\u001b[0m\u001b[0mread\u001b[0m\u001b[1;33m(\u001b[0m\u001b[1;33m)\u001b[0m\u001b[1;33m\u001b[0m\u001b[1;33m\u001b[0m\u001b[0m\n\u001b[1;32m---> 10\u001b[1;33m         \u001b[0mdest\u001b[0m\u001b[1;33m.\u001b[0m\u001b[0mwrite\u001b[0m\u001b[1;33m(\u001b[0m\u001b[0mdata\u001b[0m\u001b[1;33m.\u001b[0m\u001b[0mastype\u001b[0m\u001b[1;33m(\u001b[0m\u001b[0mout_meta\u001b[0m\u001b[1;33m[\u001b[0m\u001b[1;34m\"dtype\"\u001b[0m\u001b[1;33m]\u001b[0m\u001b[1;33m)\u001b[0m\u001b[1;33m,\u001b[0m \u001b[0mwindow\u001b[0m\u001b[1;33m=\u001b[0m\u001b[0mrasterio\u001b[0m\u001b[1;33m.\u001b[0m\u001b[0mwindows\u001b[0m\u001b[1;33m.\u001b[0m\u001b[0mWindow\u001b[0m\u001b[1;33m(\u001b[0m\u001b[0mcol_offset\u001b[0m\u001b[1;33m,\u001b[0m \u001b[0mrow_offset\u001b[0m\u001b[1;33m,\u001b[0m \u001b[0msrc_width\u001b[0m\u001b[1;33m,\u001b[0m \u001b[0msrc_height\u001b[0m\u001b[1;33m)\u001b[0m\u001b[1;33m)\u001b[0m\u001b[1;33m\u001b[0m\u001b[1;33m\u001b[0m\u001b[0m\n\u001b[0m\u001b[0;32m     11\u001b[0m         \u001b[0mprint\u001b[0m\u001b[1;33m(\u001b[0m\u001b[0mtif_f\u001b[0m\u001b[1;33m,\u001b[0m \u001b[1;34m\"合并成功！！！\"\u001b[0m\u001b[1;33m)\u001b[0m\u001b[1;33m\u001b[0m\u001b[1;33m\u001b[0m\u001b[0m\n\u001b[0;32m     12\u001b[0m \u001b[0mprint\u001b[0m\u001b[1;33m(\u001b[0m\u001b[1;34m\"合并成功！！！\"\u001b[0m\u001b[1;33m)\u001b[0m\u001b[1;33m\u001b[0m\u001b[1;33m\u001b[0m\u001b[0m\n",
      "\u001b[1;32mrasterio\\_io.pyx\u001b[0m in \u001b[0;36mrasterio._io.DatasetWriterBase.write\u001b[1;34m()\u001b[0m\n",
      "\u001b[1;31mRasterioIOError\u001b[0m: Read or write failed. An error occurred while writing a dirty block from GDALRasterBand::IRasterIO"
     ]
    }
   ],
   "source": [
    "import time\n",
    "with rasterio.open(outfile + \".tif\", \"w\", **out_meta) as dest:\n",
    "    for tif_f in files:\n",
    "        with rasterio.open(tif_f) as src:\n",
    "            col_offset = int(src.transform[2] / scale) - x_offset\n",
    "            row_offset = y_offset - int(src.transform[5] / scale)\n",
    "            src_height = src.height\n",
    "            src_width = src.width\n",
    "            data = src.read()\n",
    "        dest.write(data.astype(out_meta[\"dtype\"]), window=rasterio.windows.Window(col_offset, row_offset, src_width, src_height))\n",
    "        print(tif_f, \"合并成功！！！\")\n",
    "print(\"合并成功！！！\")"
   ]
  },
  {
   "cell_type": "code",
   "execution_count": 30,
   "id": "759febb6",
   "metadata": {},
   "outputs": [
    {
     "data": {
      "text/plain": [
       "'int16'"
      ]
     },
     "execution_count": 30,
     "metadata": {},
     "output_type": "execute_result"
    }
   ],
   "source": [
    "out_meta[\"dtype\"]"
   ]
  },
  {
   "cell_type": "code",
   "execution_count": null,
   "id": "8f87cbfa",
   "metadata": {},
   "outputs": [],
   "source": []
  }
 ],
 "metadata": {
  "kernelspec": {
   "display_name": "Python 3 (ipykernel)",
   "language": "python",
   "name": "python3"
  },
  "language_info": {
   "codemirror_mode": {
    "name": "ipython",
    "version": 3
   },
   "file_extension": ".py",
   "mimetype": "text/x-python",
   "name": "python",
   "nbconvert_exporter": "python",
   "pygments_lexer": "ipython3",
   "version": "3.9.6"
  },
  "varInspector": {
   "cols": {
    "lenName": 16,
    "lenType": 16,
    "lenVar": 40
   },
   "kernels_config": {
    "python": {
     "delete_cmd_postfix": "",
     "delete_cmd_prefix": "del ",
     "library": "var_list.py",
     "varRefreshCmd": "print(var_dic_list())"
    },
    "r": {
     "delete_cmd_postfix": ") ",
     "delete_cmd_prefix": "rm(",
     "library": "var_list.r",
     "varRefreshCmd": "cat(var_dic_list()) "
    }
   },
   "position": {
    "height": "443.844px",
    "left": "1550px",
    "right": "20px",
    "top": "120px",
    "width": "350px"
   },
   "types_to_exclude": [
    "module",
    "function",
    "builtin_function_or_method",
    "instance",
    "_Feature"
   ],
   "window_display": true
  }
 },
 "nbformat": 4,
 "nbformat_minor": 5
}
