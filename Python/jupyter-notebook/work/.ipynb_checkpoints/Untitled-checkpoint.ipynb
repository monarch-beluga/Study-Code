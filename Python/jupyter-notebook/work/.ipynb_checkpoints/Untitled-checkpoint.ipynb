{
 "cells": [
  {
   "cell_type": "code",
   "execution_count": null,
   "id": "8d61720b-d211-4343-ab82-9fc385afea39",
   "metadata": {
    "ExecuteTime": {
     "end_time": "2021-11-30T02:51:26.469118Z",
     "start_time": "2021-11-30T02:44:58.375472Z"
    }
   },
   "outputs": [],
   "source": [
    "import geemap\n",
    "import ee\n",
    "import os\n",
    "from Monarch import user_gee\n",
    "Map = geemap.Map()\n",
    "Map"
   ]
  },
  {
   "cell_type": "code",
   "execution_count": null,
   "id": "4d7ec541-1b87-4db2-b57e-25ba02732eb5",
   "metadata": {
    "ExecuteTime": {
     "end_time": "2021-11-30T02:51:27.140720Z",
     "start_time": "2021-11-30T02:51:26.470115Z"
    }
   },
   "outputs": [],
   "source": [
    "roi = ee.Geometry.Rectangle([73, 25, 106, 42], None, False)\n",
    "# feature = Map.draw_last_feature\n",
    "# roi = feature.geometry()\n",
    "Map.addLayer(roi, {}, \"roi\")"
   ]
  },
  {
   "cell_type": "code",
   "execution_count": null,
   "id": "83508e5d-bf5a-4bcf-a0f5-f4c0f0afb622",
   "metadata": {
    "ExecuteTime": {
     "end_time": "2021-11-30T02:51:27.156679Z",
     "start_time": "2021-11-30T02:51:27.141748Z"
    }
   },
   "outputs": [],
   "source": [
    "def fun(image):\n",
    "    image1 = image.clip(roi)\n",
    "    mask = image1.gt(0)\n",
    "    image2 = image1.updateMask(mask)\n",
    "    return image2.multiply(0.0001)"
   ]
  },
  {
   "cell_type": "code",
   "execution_count": null,
   "id": "beecd059-2f10-4d4a-b461-877d6dd648f0",
   "metadata": {
    "ExecuteTime": {
     "end_time": "2021-11-30T04:15:56.859131Z",
     "start_time": "2021-11-30T02:51:32.257439Z"
    },
    "tags": []
   },
   "outputs": [],
   "source": [
    "for year in range(2017, 2022):\n",
    "    images = ee.ImageCollection(\"MODIS/006/MOD13A1\")\\\n",
    "            .filterDate(str(year), str(year+1))\\\n",
    "            .filterBounds(roi).select(\"NDVI\").map(fun).toArrayPerBand()\n",
    "    MAX = images.select(\"NDVI\").arraySort().arraySlice(start=-3)\n",
    "    average = MAX.arrayReduce(ee.Reducer.mean(), [0])\n",
    "    img = average.arrayGet(0)\n",
    "    # Map.addLayer(images, {}, 'a')\n",
    "    f = f'H:/Monarch/Data/temp/NDVI_{year}'\n",
    "    while not os.path.exists(f+'.tif'):\n",
    "        user_gee.clip_dow_merge(roi, img, f, 500, sep=0.2)"
   ]
  },
  {
   "cell_type": "code",
   "execution_count": null,
   "id": "61462bb3",
   "metadata": {},
   "outputs": [],
   "source": []
  }
 ],
 "metadata": {
  "kernelspec": {
   "display_name": "Python 3 (ipykernel)",
   "language": "python",
   "name": "python3"
  },
  "language_info": {
   "codemirror_mode": {
    "name": "ipython",
    "version": 3
   },
   "file_extension": ".py",
   "mimetype": "text/x-python",
   "name": "python",
   "nbconvert_exporter": "python",
   "pygments_lexer": "ipython3",
   "version": "3.9.7"
  }
 },
 "nbformat": 4,
 "nbformat_minor": 5
}
