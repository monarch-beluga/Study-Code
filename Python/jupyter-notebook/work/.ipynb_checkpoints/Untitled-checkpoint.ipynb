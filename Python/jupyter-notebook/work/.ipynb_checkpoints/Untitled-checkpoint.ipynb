{
 "cells": [
  {
   "cell_type": "code",
   "execution_count": 1,
   "id": "d92f032a",
   "metadata": {
    "ExecuteTime": {
     "end_time": "2023-01-07T11:06:59.058689Z",
     "start_time": "2023-01-07T11:06:48.305354Z"
    }
   },
   "outputs": [
    {
     "data": {
      "application/vnd.jupyter.widget-view+json": {
       "model_id": "d197154174904deb9a26c40e3b2ae256",
       "version_major": 2,
       "version_minor": 0
      },
      "text/plain": [
       "Map(center=[20, 0], controls=(WidgetControl(options=['position', 'transparent_bg'], widget=HBox(children=(Togg…"
      ]
     },
     "metadata": {},
     "output_type": "display_data"
    }
   ],
   "source": [
    "import geemap\n",
    "import ee\n",
    "\n",
    "Map = geemap.Map()\n",
    "Map"
   ]
  },
  {
   "cell_type": "code",
   "execution_count": 2,
   "id": "08eecb3a",
   "metadata": {
    "ExecuteTime": {
     "end_time": "2023-01-07T11:06:59.074646Z",
     "start_time": "2023-01-07T11:06:59.059686Z"
    }
   },
   "outputs": [],
   "source": [
    "import os\n",
    "os.chdir(r'H:\\Monarch\\Work\\Gansu_PV_2020_map')"
   ]
  },
  {
   "cell_type": "code",
   "execution_count": 3,
   "id": "78f51d85",
   "metadata": {
    "ExecuteTime": {
     "end_time": "2023-01-07T11:07:00.521003Z",
     "start_time": "2023-01-07T11:06:59.075643Z"
    }
   },
   "outputs": [],
   "source": [
    "shp_file = r'gansu.shp'\n",
    "shp = geemap.shp_to_ee(shp_file, encoding='GBK')"
   ]
  },
  {
   "cell_type": "code",
   "execution_count": 4,
   "id": "b14c007d",
   "metadata": {
    "ExecuteTime": {
     "end_time": "2023-01-07T11:09:00.464016Z",
     "start_time": "2023-01-07T11:07:00.522998Z"
    }
   },
   "outputs": [],
   "source": [
    "Map.addLayer(shp, {}, 'shp')\n",
    "roi = shp.geometry()"
   ]
  },
  {
   "cell_type": "code",
   "execution_count": null,
   "id": "1f383d3e",
   "metadata": {
    "ExecuteTime": {
     "start_time": "2023-01-07T11:10:23.381Z"
    }
   },
   "outputs": [],
   "source": [
    "Map.center_object(shp, 8)"
   ]
  },
  {
   "cell_type": "code",
   "execution_count": null,
   "id": "f4c697a0",
   "metadata": {},
   "outputs": [],
   "source": []
  }
 ],
 "metadata": {
  "kernelspec": {
   "display_name": "Python 3 (ipykernel)",
   "language": "python",
   "name": "python3"
  },
  "language_info": {
   "codemirror_mode": {
    "name": "ipython",
    "version": 3
   },
   "file_extension": ".py",
   "mimetype": "text/x-python",
   "name": "python",
   "nbconvert_exporter": "python",
   "pygments_lexer": "ipython3",
   "version": "3.9.7"
  }
 },
 "nbformat": 4,
 "nbformat_minor": 5
}
