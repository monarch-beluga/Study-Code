{
 "cells": [
  {
   "cell_type": "code",
   "execution_count": null,
   "id": "95e1e77a",
   "metadata": {
    "ExecuteTime": {
     "end_time": "2023-01-13T06:11:05.827728Z",
     "start_time": "2023-01-13T06:10:44.757754Z"
    }
   },
   "outputs": [],
   "source": [
    "import geemap\n",
    "import ee\n",
    "\n",
    "Map = geemap.Map()\n",
    "Map"
   ]
  },
  {
   "cell_type": "code",
   "execution_count": null,
   "id": "ff1b1768",
   "metadata": {
    "ExecuteTime": {
     "end_time": "2023-01-13T06:11:05.843685Z",
     "start_time": "2023-01-13T06:11:05.829723Z"
    }
   },
   "outputs": [],
   "source": [
    "import os\n",
    "os.chdir(r'H:\\Monarch\\Work\\Gansu_PV_2020_map')"
   ]
  },
  {
   "cell_type": "code",
   "execution_count": null,
   "id": "58c0d649",
   "metadata": {
    "ExecuteTime": {
     "end_time": "2023-01-13T07:33:45.941583Z",
     "start_time": "2023-01-13T07:33:45.468455Z"
    }
   },
   "outputs": [],
   "source": [
    "window = Map.draw_last_feature.geometry()\n",
    "window.getInfo()"
   ]
  },
  {
   "cell_type": "code",
   "execution_count": null,
   "id": "270b245d",
   "metadata": {
    "ExecuteTime": {
     "end_time": "2023-01-13T06:11:06.823120Z",
     "start_time": "2023-01-13T06:11:05.844683Z"
    }
   },
   "outputs": [],
   "source": [
    "shp_file = r'gansu_pv_roi.shp'\n",
    "shp = geemap.shp_to_ee(shp_file)"
   ]
  },
  {
   "cell_type": "code",
   "execution_count": null,
   "id": "e493d9d6",
   "metadata": {
    "ExecuteTime": {
     "end_time": "2023-01-13T06:11:07.865850Z",
     "start_time": "2023-01-13T06:11:06.824047Z"
    }
   },
   "outputs": [],
   "source": [
    "Map.addLayer(shp, {}, 'shp')\n",
    "Map.center_object(shp, 6)\n",
    "roi = shp.geometry()"
   ]
  },
  {
   "cell_type": "code",
   "execution_count": null,
   "id": "6bf6f7db",
   "metadata": {
    "ExecuteTime": {
     "end_time": "2023-01-13T06:11:10.174238Z",
     "start_time": "2023-01-13T06:11:07.867846Z"
    }
   },
   "outputs": [],
   "source": [
    "image = ee.Image(\"projects/geemap-2022/assets/Gansu_PV_2020_map\")\n",
    "Map.addLayer(image, {'palette':\"blue\"},'pv_final')"
   ]
  },
  {
   "cell_type": "code",
   "execution_count": null,
   "id": "2716287e",
   "metadata": {
    "ExecuteTime": {
     "end_time": "2023-01-13T07:10:57.460193Z",
     "start_time": "2023-01-13T07:10:51.588971Z"
    }
   },
   "outputs": [],
   "source": [
    "geemap.ee_export_image_to_drive(image.clip(roi), description='Gansu_PV_2020_p_map', folder='Image',\n",
    "                                scale=30, region=roi, maxPixels=1e10)"
   ]
  },
  {
   "cell_type": "code",
   "execution_count": null,
   "id": "494bae99",
   "metadata": {
    "ExecuteTime": {
     "end_time": "2023-01-13T07:41:13.381281Z",
     "start_time": "2023-01-13T07:41:13.372305Z"
    }
   },
   "outputs": [],
   "source": [
    "img_c = image.connectedPixelCount(1000, False)\n",
    "# Map.addLayer(img_c.gte(150), {'min':1, 'max': 1, 'palette': ['ff0000']},'img_c')\n",
    "# geemap.ee_export_image(img_c.clip(window), 'img_c.tif', 30, region=window)"
   ]
  },
  {
   "cell_type": "code",
   "execution_count": null,
   "id": "d3ceb81f",
   "metadata": {
    "ExecuteTime": {
     "end_time": "2023-01-13T07:31:52.015122Z",
     "start_time": "2023-01-13T07:31:33.211915Z"
    }
   },
   "outputs": [],
   "source": [
    "image_mask = image.mask(img_c.gte(150))\n",
    "Map.addLayer(image_mask, {'palette':\"red\"},'pv_final_mask')"
   ]
  },
  {
   "cell_type": "code",
   "execution_count": null,
   "id": "569eede0",
   "metadata": {
    "ExecuteTime": {
     "end_time": "2023-01-13T07:33:58.771415Z",
     "start_time": "2023-01-13T07:33:50.100778Z"
    }
   },
   "outputs": [],
   "source": [
    "geemap.ee_export_image(image_mask.clip(window), 'img_mask.tif', 30, region=window, crs='EPSG:3857')"
   ]
  },
  {
   "cell_type": "code",
   "execution_count": null,
   "id": "39f2bf14",
   "metadata": {
    "ExecuteTime": {
     "end_time": "2023-01-13T05:28:26.111625Z",
     "start_time": "2023-01-13T05:28:20.199115Z"
    }
   },
   "outputs": [],
   "source": [
    "geemap.ee_export_image(image.clip(window), 'img.tif', 30, region=window)"
   ]
  },
  {
   "cell_type": "code",
   "execution_count": null,
   "id": "5f969ccb",
   "metadata": {
    "ExecuteTime": {
     "end_time": "2023-01-13T07:37:30.128635Z",
     "start_time": "2023-01-13T07:37:05.821889Z"
    }
   },
   "outputs": [],
   "source": [
    "geemap.ee_export_image(img_c.clip(window), 'img_c.tif', 30, region=window, crs='EPSG:3857')"
   ]
  },
  {
   "cell_type": "code",
   "execution_count": null,
   "id": "88863833",
   "metadata": {
    "ExecuteTime": {
     "end_time": "2023-01-13T06:11:10.189724Z",
     "start_time": "2023-01-13T06:11:10.175236Z"
    }
   },
   "outputs": [],
   "source": [
    "from Monarch.user_gee import *"
   ]
  },
  {
   "cell_type": "code",
   "execution_count": null,
   "id": "f55f1711",
   "metadata": {
    "ExecuteTime": {
     "end_time": "2023-01-13T07:52:39.142949Z",
     "start_time": "2023-01-13T07:49:23.652528Z"
    },
    "scrolled": true
   },
   "outputs": [],
   "source": [
    "clip_dow_merge(roi, image_mask.clip(roi), 'image_mask', 30, 2, max_bytes=40000000)"
   ]
  },
  {
   "cell_type": "code",
   "execution_count": null,
   "id": "ae4588b4",
   "metadata": {
    "ExecuteTime": {
     "end_time": "2023-01-13T06:12:40.655616Z",
     "start_time": "2023-01-13T06:12:40.645619Z"
    }
   },
   "outputs": [],
   "source": [
    "transform"
   ]
  },
  {
   "cell_type": "code",
   "execution_count": null,
   "id": "8ff576f1",
   "metadata": {},
   "outputs": [],
   "source": []
  }
 ],
 "metadata": {
  "kernelspec": {
   "display_name": "Python 3 (ipykernel)",
   "language": "python",
   "name": "python3"
  },
  "language_info": {
   "codemirror_mode": {
    "name": "ipython",
    "version": 3
   },
   "file_extension": ".py",
   "mimetype": "text/x-python",
   "name": "python",
   "nbconvert_exporter": "python",
   "pygments_lexer": "ipython3",
   "version": "3.9.7"
  }
 },
 "nbformat": 4,
 "nbformat_minor": 5
}
