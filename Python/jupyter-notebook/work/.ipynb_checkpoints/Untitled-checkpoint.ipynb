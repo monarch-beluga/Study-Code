{
 "cells": [
  {
   "cell_type": "code",
   "execution_count": 1,
   "id": "8d61720b-d211-4343-ab82-9fc385afea39",
   "metadata": {
    "ExecuteTime": {
     "end_time": "2021-11-30T02:51:26.469118Z",
     "start_time": "2021-11-30T02:44:58.375472Z"
    }
   },
   "outputs": [
    {
     "data": {
      "application/vnd.jupyter.widget-view+json": {
       "model_id": "a1a913e412ce44a0aed8cd4c33998612",
       "version_major": 2,
       "version_minor": 0
      },
      "text/plain": [
       "Map(center=[40, -100], controls=(WidgetControl(options=['position', 'transparent_bg'], widget=HBox(children=(T…"
      ]
     },
     "metadata": {},
     "output_type": "display_data"
    }
   ],
   "source": [
    "import geemap\n",
    "import ee\n",
    "import os\n",
    "from Monarch import user_gee\n",
    "Map = geemap.Map()\n",
    "Map"
   ]
  },
  {
   "cell_type": "code",
   "execution_count": 2,
   "id": "eb78a9d9",
   "metadata": {},
   "outputs": [],
   "source": [
    "os.chdir(r'E:\\Data\\Remote sensing')"
   ]
  },
  {
   "cell_type": "code",
   "execution_count": 3,
   "id": "259caddf",
   "metadata": {},
   "outputs": [],
   "source": [
    "shp = geemap.shp_to_ee(\"gangxian.shp\")\n",
    "Map.addLayer(shp, {}, \"shp\")"
   ]
  },
  {
   "cell_type": "code",
   "execution_count": 4,
   "id": "beecd059-2f10-4d4a-b461-877d6dd648f0",
   "metadata": {
    "ExecuteTime": {
     "end_time": "2021-11-30T04:15:56.859131Z",
     "start_time": "2021-11-30T02:51:32.257439Z"
    },
    "tags": []
   },
   "outputs": [],
   "source": [
    "roi = shp.geometry()\n",
    "s2 = ee.ImageCollection(\"COPERNICUS/S2_SR\")\\\n",
    "        .filterDate('2020-07', '2020-08')\\\n",
    "        .filterBounds(roi)\\\n",
    "        .sort('CLOUDY_PIXEL_PERCENTAGE', False)\n",
    "Map.addLayer(s2.mosaic().clip(roi), {'bands':['B4', 'B3', 'B2'], 'max':3000, 'min': 0}, 's2')"
   ]
  },
  {
   "cell_type": "code",
   "execution_count": 5,
   "id": "96584834",
   "metadata": {},
   "outputs": [],
   "source": [
    "s2_img = s2.mosaic().clip(roi).select(['B2', 'B3', 'B4', 'B5', 'B6', 'B7', 'B8', 'B8A', 'B11', 'B12'])"
   ]
  },
  {
   "cell_type": "code",
   "execution_count": 7,
   "id": "c4a0a8dc",
   "metadata": {},
   "outputs": [],
   "source": [
    "Map.addLayer(s2_img, {'bands':['B4', 'B3', 'B2'], 'max':3000, 'min': 0}, 's2_img')"
   ]
  },
  {
   "cell_type": "code",
   "execution_count": null,
   "id": "a43679d5",
   "metadata": {},
   "outputs": [],
   "source": [
    "NDVI_img = s2_img.normalizedDifference([\"B8\", \"B4\"]).select(['nd'], ['ndvi'])\n",
    "Map.addLayer(NDVI_img, {'max':1, 'min':-1}, 'NDVI')"
   ]
  },
  {
   "cell_type": "code",
   "execution_count": 9,
   "id": "c4076829",
   "metadata": {},
   "outputs": [],
   "source": [
    "S2_image = s2_img.addBands(NDVI_img)"
   ]
  },
  {
   "cell_type": "code",
   "execution_count": 6,
   "id": "88ea670b",
   "metadata": {},
   "outputs": [
    {
     "name": "stdout",
     "output_type": "stream",
     "text": [
      "Exporting 2020-07 ...\n"
     ]
    }
   ],
   "source": [
    "geemap.ee_export_image_to_drive(s2_img, description=\"2020-07\", folder=\"MODIS_NDVI\", \n",
    "                                region=roi, scale=10, crs=\"EPSG:3857\")"
   ]
  },
  {
   "cell_type": "code",
   "execution_count": null,
   "id": "61462bb3",
   "metadata": {},
   "outputs": [],
   "source": [
    "while not os.path.exists(out_name+'.tif'):\n",
    "    user_gee.clip_dow_merge(roi, s2_img.clip(roi), out_name, 10)"
   ]
  },
  {
   "cell_type": "code",
   "execution_count": null,
   "id": "342d4e7d",
   "metadata": {},
   "outputs": [],
   "source": []
  }
 ],
 "metadata": {
  "kernelspec": {
   "display_name": "Python 3 (ipykernel)",
   "language": "python",
   "name": "python3"
  },
  "language_info": {
   "codemirror_mode": {
    "name": "ipython",
    "version": 3
   },
   "file_extension": ".py",
   "mimetype": "text/x-python",
   "name": "python",
   "nbconvert_exporter": "python",
   "pygments_lexer": "ipython3",
   "version": "3.9.6"
  }
 },
 "nbformat": 4,
 "nbformat_minor": 5
}
