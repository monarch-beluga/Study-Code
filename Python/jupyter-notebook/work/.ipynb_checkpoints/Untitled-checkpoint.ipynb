{
 "cells": [
  {
   "cell_type": "code",
   "execution_count": 1,
   "id": "8d61720b-d211-4343-ab82-9fc385afea39",
   "metadata": {
    "ExecuteTime": {
     "end_time": "2021-11-30T02:51:26.469118Z",
     "start_time": "2021-11-30T02:44:58.375472Z"
    }
   },
   "outputs": [
    {
     "data": {
      "application/vnd.jupyter.widget-view+json": {
       "model_id": "1d680943bff34a45a6b2a3c9a125d30e",
       "version_major": 2,
       "version_minor": 0
      },
      "text/plain": [
       "Map(center=[40, -100], controls=(WidgetControl(options=['position', 'transparent_bg'], widget=HBox(children=(T…"
      ]
     },
     "metadata": {},
     "output_type": "display_data"
    }
   ],
   "source": [
    "import geemap\n",
    "import ee\n",
    "import os\n",
    "import pandas as pd\n",
    "Map = geemap.Map()\n",
    "Map"
   ]
  },
  {
   "cell_type": "code",
   "execution_count": 2,
   "id": "eb78a9d9",
   "metadata": {},
   "outputs": [],
   "source": [
    "os.chdir(r'E:\\Work\\QTPofShp')"
   ]
  },
  {
   "cell_type": "code",
   "execution_count": 6,
   "id": "9898d866",
   "metadata": {},
   "outputs": [],
   "source": [
    "link_roi = ['users/2431566134liumonarch/QTP',\n",
    "           'users/2431566134liumonarch/QTP_Rectangle_CustomProj',\n",
    "           'users/2431566134liumonarch/QHandXZ_Province_Proj']"
   ]
  },
  {
   "cell_type": "code",
   "execution_count": 7,
   "id": "281b1241",
   "metadata": {},
   "outputs": [],
   "source": [
    "rois = [ee.FeatureCollection(i) for i in link_roi]"
   ]
  },
  {
   "cell_type": "code",
   "execution_count": 8,
   "id": "2f0a4c9d",
   "metadata": {},
   "outputs": [],
   "source": [
    "Map.addLayer(rois[1], {}, 'roi1')"
   ]
  },
  {
   "cell_type": "code",
   "execution_count": 12,
   "id": "342d4e7d",
   "metadata": {},
   "outputs": [],
   "source": [
    "tavg_df = pd.DataFrame({'roi':['QTP', 'QTP_Rectangle_CustomProj', 'QHandXZ_Province_Proj']}, index=0)\n",
    "prcp_df = pd.DataFrame({'roi':['QTP', 'QTP_Rectangle_CustomProj', 'QHandXZ_Province_Proj']}, index=0)\n",
    "tavg_df.set_index('roi', inplace=True)\n",
    "prcp_df.set_index('roi', inplace=True)\n",
    "for year in range(2000, 2021):\n",
    "    image = ee.ImageCollection(\"IDAHO_EPSCOR/TERRACLIMATE\")\\\n",
    "                .filterDate(str(year), str(year+1))\n",
    "    tavg_img = image.select('tmmx').mean().Add(image.select('tmmn').mean())\n",
    "    prcp_img = image.select('pr').sum()\n",
    "    scale_tavg = tavg_img.projection().nominalScale()\n",
    "    scale_prcp = prcp_img.projection().nominalScale()\n",
    "    \n",
    "    tavg = [tavg_img.reduceRegion(ee.Reducer.mean(), \n",
    "                                roi.geometry(), scale=scale_tavg)\\\n",
    "                                .getNumber('tmmx').getInfo() for roi in rois]\n",
    "    prcp = [prcp_img.reduceRegion(ee.Reducer.mean(), \n",
    "                                 roi.geometry(), scale=scale_prcp)\\\n",
    "                                .getNumber('pr').getInfo() for roi in rois]\n",
    "    tavg_df.insert(year-1999, str(year), tavg)\n",
    "    prcp_df.insert(year-1999, str(year), prcp)\n",
    "    print(f'{year} 统计结束！！！')\n",
    "prcp_df = prcp_df*0.1\n",
    "tavg_df = tavg_df*0.1\n",
    "prcp_df.to_csv('result/IDAHO_2000_2020_prcp.csv')\n",
    "tavg_df.to_csv('result/IDAHO_2000_2020_tavg.csv')"
   ]
  },
  {
   "cell_type": "code",
   "execution_count": null,
   "id": "d63ba8fa",
   "metadata": {},
   "outputs": [],
   "source": [
    "tavg_df = pd.DataFrame({'roi':['QTP', 'QTP_Rectangle_CustomProj', 'QHandXZ_Province_Proj']}, index=0)\n",
    "prcp_df = pd.DataFrame({'roi':['QTP', 'QTP_Rectangle_CustomProj', 'QHandXZ_Province_Proj']}, index=0)\n",
    "tavg_df.set_index('roi', inplace=True)\n",
    "prcp_df.set_index('roi', inplace=True)\n",
    "for year in range(2000, 2021):\n",
    "    image = ee.ImageCollection(\"ECMWF/ERA5/MONTHLY\")\\\n",
    "                .filterDate(str(year), str(year+1))\n",
    "    tavg_img = image.select('mean_2m_air_temperature').mean()\n",
    "    prcp_img = image.select('total_precipitation').sum()\n",
    "    scale_tavg = tavg_img.projection().nominalScale()\n",
    "    scale_prcp = prcp_img.projection().nominalScale()\n",
    "    \n",
    "    tavg = [tavg_img.reduceRegion(ee.Reducer.mean(), \n",
    "                                roi.geometry(), scale=scale_tavg)\\\n",
    "                                .getNumber('mean_2m_air_temperature').getInfo() for roi in rois]\n",
    "    prcp = [prcp_img.reduceRegion(ee.Reducer.mean(), \n",
    "                                 roi.geometry(), scale=scale_prcp)\\\n",
    "                                .getNumber('total_precipitation').getInfo() for roi in rois]\n",
    "    tavg_df.insert(year-1999, str(year), tavg)\n",
    "    prcp_df.insert(year-1999, str(year), prcp)\n",
    "    print(f'{year} 统计结束！！！')\n",
    "prcp_df.to_csv('result/ERA5_2000_2020_prcp.csv')\n",
    "tavg_df.to_csv('result/ERA5_2000_2020_tavg.csv')"
   ]
  }
 ],
 "metadata": {
  "kernelspec": {
   "display_name": "Python 3 (ipykernel)",
   "language": "python",
   "name": "python3"
  },
  "language_info": {
   "codemirror_mode": {
    "name": "ipython",
    "version": 3
   },
   "file_extension": ".py",
   "mimetype": "text/x-python",
   "name": "python",
   "nbconvert_exporter": "python",
   "pygments_lexer": "ipython3",
   "version": "3.9.6"
  }
 },
 "nbformat": 4,
 "nbformat_minor": 5
}
