{
 "cells": [
  {
   "cell_type": "code",
   "execution_count": null,
   "id": "95e1e77a",
   "metadata": {
    "ExecuteTime": {
     "end_time": "2023-01-30T11:28:12.216185Z",
     "start_time": "2023-01-30T11:28:01.482520Z"
    }
   },
   "outputs": [],
   "source": [
    "import geemap\n",
    "import ee\n",
    "\n",
    "Map = geemap.Map()\n",
    "Map"
   ]
  },
  {
   "cell_type": "code",
   "execution_count": null,
   "id": "ff1b1768",
   "metadata": {
    "ExecuteTime": {
     "end_time": "2023-01-30T11:28:12.232142Z",
     "start_time": "2023-01-30T11:28:12.217182Z"
    }
   },
   "outputs": [],
   "source": [
    "import os\n",
    "os.chdir(r'H:\\Monarch\\Work\\Gansu_PV_2020_map')"
   ]
  },
  {
   "cell_type": "code",
   "execution_count": null,
   "id": "270b245d",
   "metadata": {
    "ExecuteTime": {
     "end_time": "2023-01-30T11:28:15.152224Z",
     "start_time": "2023-01-30T11:28:12.233140Z"
    }
   },
   "outputs": [],
   "source": [
    "shp_file = r'gansu_pv_roi.shp'\n",
    "shp = geemap.shp_to_ee(shp_file)"
   ]
  },
  {
   "cell_type": "code",
   "execution_count": null,
   "id": "e493d9d6",
   "metadata": {
    "ExecuteTime": {
     "end_time": "2023-01-30T11:28:16.645547Z",
     "start_time": "2023-01-30T11:28:15.156247Z"
    }
   },
   "outputs": [],
   "source": [
    "Map.addLayer(shp, {}, 'shp')\n",
    "Map.center_object(shp, 6)\n",
    "roi = shp.geometry()"
   ]
  },
  {
   "cell_type": "code",
   "execution_count": null,
   "id": "6bf6f7db",
   "metadata": {
    "ExecuteTime": {
     "end_time": "2023-01-30T11:28:19.772442Z",
     "start_time": "2023-01-30T11:28:16.646507Z"
    }
   },
   "outputs": [],
   "source": [
    "image = ee.Image(\"projects/ee-2431566134liumonarch/assets/Gansu_pv_2020_part3_map\")\n",
    "Map.addLayer(image, {'palette':\"blue\"},'pv_final')"
   ]
  },
  {
   "cell_type": "code",
   "execution_count": null,
   "id": "494bae99",
   "metadata": {
    "ExecuteTime": {
     "end_time": "2023-01-30T11:28:28.130498Z",
     "start_time": "2023-01-30T11:28:28.123517Z"
    }
   },
   "outputs": [],
   "source": [
    "img_c = image.connectedPixelCount(700, False)\n",
    "# Map.addLayer(img_c.gte(150), {'min':1, 'max': 1, 'palette': ['ff0000']},'img_c')\n",
    "# geemap.ee_export_image(img_c.clip(window), 'img_c.tif', 30, region=window)"
   ]
  },
  {
   "cell_type": "code",
   "execution_count": null,
   "id": "d3ceb81f",
   "metadata": {
    "ExecuteTime": {
     "end_time": "2023-01-30T11:28:28.546310Z",
     "start_time": "2023-01-30T11:28:28.530201Z"
    }
   },
   "outputs": [],
   "source": [
    "image_mask = image.mask(img_c.gte(700))\n",
    "# Map.addLayer(image_mask, {'palette':\"red\"},'pv_final_mask')"
   ]
  },
  {
   "cell_type": "code",
   "execution_count": null,
   "id": "7a9a7629",
   "metadata": {
    "ExecuteTime": {
     "end_time": "2023-01-30T11:28:30.781972Z",
     "start_time": "2023-01-30T11:28:30.755046Z"
    }
   },
   "outputs": [],
   "source": [
    "image_mask_vector = image_mask.reduceToVectors(**{\n",
    "    'geometry':roi,\n",
    "    'scale': 10,\n",
    "    'maxPixels': 1e13\n",
    "})"
   ]
  },
  {
   "cell_type": "code",
   "execution_count": null,
   "id": "f90ddbad",
   "metadata": {
    "ExecuteTime": {
     "end_time": "2023-01-30T11:28:31.572977Z",
     "start_time": "2023-01-30T11:28:31.138486Z"
    }
   },
   "outputs": [],
   "source": [
    "Map.addLayer(image_mask_vector, {'color':'green'}, 'vector')"
   ]
  },
  {
   "cell_type": "code",
   "execution_count": null,
   "id": "55b17b8e",
   "metadata": {
    "ExecuteTime": {
     "end_time": "2023-01-30T11:28:42.265707Z",
     "start_time": "2023-01-30T11:28:42.234701Z"
    }
   },
   "outputs": [],
   "source": [
    "def feature_area_per(feature):\n",
    "    feature = ee.Feature(feature)\n",
    "    area = feature.area(0.01)\n",
    "    perimeter = feature.perimeter(0.01)\n",
    "    feature = feature.set('area', area, 'perimeter', perimeter, 'ratio', area.divide(perimeter))\n",
    "    return feature"
   ]
  },
  {
   "cell_type": "code",
   "execution_count": null,
   "id": "f6e13b8e",
   "metadata": {
    "ExecuteTime": {
     "end_time": "2023-01-30T11:28:45.032221Z",
     "start_time": "2023-01-30T11:28:45.025238Z"
    }
   },
   "outputs": [],
   "source": [
    "feature_image = image_mask_vector.map(feature_area_per)"
   ]
  },
  {
   "cell_type": "code",
   "execution_count": null,
   "id": "a06ce43f",
   "metadata": {
    "ExecuteTime": {
     "end_time": "2023-01-30T11:28:53.588668Z",
     "start_time": "2023-01-30T11:28:53.130991Z"
    }
   },
   "outputs": [],
   "source": [
    "Map.addLayer(feature_image.filter(ee.Filter.gt('ratio', 45)), {'color':'red'}, 'feature_image')"
   ]
  },
  {
   "cell_type": "code",
   "execution_count": null,
   "id": "5e45d7f2",
   "metadata": {
    "ExecuteTime": {
     "start_time": "2023-01-30T11:28:54.104Z"
    }
   },
   "outputs": [],
   "source": [
    "geemap.ee_to_shp(feature_image.filter(ee.Filter.gt('ratio', 45)), r'feature_image_f.shp')"
   ]
  },
  {
   "cell_type": "code",
   "execution_count": null,
   "id": "eec87e82",
   "metadata": {
    "ExecuteTime": {
     "end_time": "2023-01-30T05:20:09.325677Z",
     "start_time": "2023-01-30T05:19:52.493603Z"
    }
   },
   "outputs": [],
   "source": [
    "geemap.ee_to_shp(feature_image, r'feature_image.shp')"
   ]
  },
  {
   "cell_type": "code",
   "execution_count": null,
   "id": "ef647147",
   "metadata": {},
   "outputs": [],
   "source": []
  },
  {
   "cell_type": "code",
   "execution_count": null,
   "id": "8ff576f1",
   "metadata": {},
   "outputs": [],
   "source": []
  }
 ],
 "metadata": {
  "kernelspec": {
   "display_name": "Python 3 (ipykernel)",
   "language": "python",
   "name": "python3"
  },
  "language_info": {
   "codemirror_mode": {
    "name": "ipython",
    "version": 3
   },
   "file_extension": ".py",
   "mimetype": "text/x-python",
   "name": "python",
   "nbconvert_exporter": "python",
   "pygments_lexer": "ipython3",
   "version": "3.9.7"
  }
 },
 "nbformat": 4,
 "nbformat_minor": 5
}
