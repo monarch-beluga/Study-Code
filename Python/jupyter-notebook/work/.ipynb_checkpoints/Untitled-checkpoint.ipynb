{
 "cells": [
  {
   "cell_type": "code",
   "execution_count": 1,
   "id": "8d61720b-d211-4343-ab82-9fc385afea39",
   "metadata": {
    "ExecuteTime": {
     "end_time": "2021-11-30T02:51:26.469118Z",
     "start_time": "2021-11-30T02:44:58.375472Z"
    }
   },
   "outputs": [
    {
     "data": {
      "application/vnd.jupyter.widget-view+json": {
       "model_id": "9cc5274fcb874c619a122243690070e6",
       "version_major": 2,
       "version_minor": 0
      },
      "text/plain": [
       "Map(center=[45, 110], controls=(WidgetControl(options=['position', 'transparent_bg'], widget=HBox(children=(To…"
      ]
     },
     "metadata": {},
     "output_type": "display_data"
    }
   ],
   "source": [
    "import geemap\n",
    "import ee\n",
    "import os\n",
    "from Monarch import user_gee\n",
    "Map = geemap.Map(center=(45, 110))\n",
    "Map"
   ]
  },
  {
   "cell_type": "code",
   "execution_count": 3,
   "id": "4d7ec541-1b87-4db2-b57e-25ba02732eb5",
   "metadata": {
    "ExecuteTime": {
     "end_time": "2021-11-30T02:51:27.140720Z",
     "start_time": "2021-11-30T02:51:26.470115Z"
    }
   },
   "outputs": [],
   "source": [
    "roi = ee.Geometry.Rectangle([96, 37, 126.5, 54], None, False)\n",
    "# feature = Map.draw_last_feature\n",
    "# roi = feature.geometry()\n",
    "Map.addLayer(roi, {}, \"roi\")"
   ]
  },
  {
   "cell_type": "code",
   "execution_count": null,
   "id": "beecd059-2f10-4d4a-b461-877d6dd648f0",
   "metadata": {
    "ExecuteTime": {
     "start_time": "2021-11-30T02:51:32.256Z"
    },
    "tags": []
   },
   "outputs": [],
   "source": [
    "for year in [2013, 2019, 2020]:\n",
    "    images = ee.ImageCollection(\"MODIS/006/MOD17A2H\")\\\n",
    "            .filterDate(str(year), str(year+1))\\\n",
    "            .select(\"Gpp\").mean()\n",
    "    f = f'E:/Data/temp/Gpp/Gpp_{year}'\n",
    "    while not os.path.exists(f+'.tif'):\n",
    "        user_gee.clip_dow_merge(roi, images, f, 1000, sep=0.25)"
   ]
  },
  {
   "cell_type": "code",
   "execution_count": 4,
   "id": "61462bb3",
   "metadata": {},
   "outputs": [
    {
     "name": "stdout",
     "output_type": "stream",
     "text": [
      "2019-01 2019-02\n",
      "2019-02 2019-03\n",
      "2019-03 2019-04\n",
      "2019-04 2019-05\n",
      "2019-05 2019-06\n",
      "2019-06 2019-07\n",
      "2019-07 2019-08\n",
      "2019-08 2019-09\n",
      "2019-09 2019-10\n",
      "2019-10 2019-11\n",
      "2019-11 2019-12\n",
      "2019-12 2020-01\n",
      "2020-01 2020-02\n",
      "2020-02 2020-03\n",
      "2020-03 2020-04\n",
      "2020-04 2020-05\n",
      "2020-05 2020-06\n",
      "2020-06 2020-07\n",
      "2020-07 2020-08\n",
      "2020-08 2020-09\n",
      "2020-09 2020-10\n",
      "2020-10 2020-11\n",
      "2020-11 2020-12\n",
      "2020-12 2021-01\n"
     ]
    }
   ],
   "source": [
    "for year in [2019, 2020]:\n",
    "    for moth in range(1, 13):\n",
    "        if moth != 12:\n",
    "#             print(f'{year}-{moth:02d}', f'{year}-{moth+1:02d}')\n",
    "            images = ee.ImageCollection(\"MODIS/006/MOD17A2H\")\\\n",
    "                    .filterDate(f'{year}-{moth:02d}', f'{year}-{moth+1:02d}')\\\n",
    "                    .select(\"NDVI\").mean()\n",
    "        else:\n",
    "#             print(f'{year}-{moth:02d}', f'{year+1}-01')\n",
    "            images = ee.ImageCollection(\"MODIS/006/MOD17A2H\")\\\n",
    "                    .filterDate(f'{year}-{moth:02d}', f'{year+1}-01')\\\n",
    "                    .select(\"NDVI\").mean()\n",
    "        f = f'E:/Data/temp/NDVI/NDVI_{year}_{moth}'\n",
    "        while not os.path.exists(f+'.tif'):\n",
    "            user_gee.clip_dow_merge(roi, images, f, 1000, sep=0.25)"
   ]
  }
 ],
 "metadata": {
  "kernelspec": {
   "display_name": "Python 3 (ipykernel)",
   "language": "python",
   "name": "python3"
  },
  "language_info": {
   "codemirror_mode": {
    "name": "ipython",
    "version": 3
   },
   "file_extension": ".py",
   "mimetype": "text/x-python",
   "name": "python",
   "nbconvert_exporter": "python",
   "pygments_lexer": "ipython3",
   "version": "3.9.6"
  }
 },
 "nbformat": 4,
 "nbformat_minor": 5
}
