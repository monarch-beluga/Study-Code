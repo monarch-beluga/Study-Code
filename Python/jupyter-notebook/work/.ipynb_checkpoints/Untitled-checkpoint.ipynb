{
 "cells": [
  {
   "cell_type": "code",
   "execution_count": 1,
   "id": "8d61720b-d211-4343-ab82-9fc385afea39",
   "metadata": {},
   "outputs": [
    {
     "data": {
      "text/html": [
       "<p>To authorize access needed by Earth Engine, open the following\n",
       "        URL in a web browser and follow the instructions:</p>\n",
       "        <p><a href=https://accounts.google.com/o/oauth2/auth?client_id=517222506229-vsmmajv00ul0bs7p89v5m89qs8eb9359.apps.googleusercontent.com&scope=https%3A%2F%2Fwww.googleapis.com%2Fauth%2Fearthengine+https%3A%2F%2Fwww.googleapis.com%2Fauth%2Fdevstorage.full_control&redirect_uri=urn%3Aietf%3Awg%3Aoauth%3A2.0%3Aoob&response_type=code&code_challenge=GJwPDZW-WcT6lCRcCu1bVC2wkXq-S4CFzosP8rZl_5Q&code_challenge_method=S256>https://accounts.google.com/o/oauth2/auth?client_id=517222506229-vsmmajv00ul0bs7p89v5m89qs8eb9359.apps.googleusercontent.com&scope=https%3A%2F%2Fwww.googleapis.com%2Fauth%2Fearthengine+https%3A%2F%2Fwww.googleapis.com%2Fauth%2Fdevstorage.full_control&redirect_uri=urn%3Aietf%3Awg%3Aoauth%3A2.0%3Aoob&response_type=code&code_challenge=GJwPDZW-WcT6lCRcCu1bVC2wkXq-S4CFzosP8rZl_5Q&code_challenge_method=S256</a></p>\n",
       "        <p>The authorization workflow will generate a code, which you\n",
       "        should paste in the box below</p>\n",
       "        "
      ],
      "text/plain": [
       "<IPython.core.display.HTML object>"
      ]
     },
     "metadata": {},
     "output_type": "display_data"
    },
    {
     "name": "stdout",
     "output_type": "stream",
     "text": [
      "Enter verification code: 4/1AX4XfWgkz3Uk9zV0mFF0UG-LmRZpOXS7Qudi_JO5Sdy0A2baqjd7hBzOakc\n",
      "\n",
      "Successfully saved authorization token.\n"
     ]
    },
    {
     "data": {
      "application/vnd.jupyter.widget-view+json": {
       "model_id": "e2b97da8f037451b878e5df765f65b6e",
       "version_major": 2,
       "version_minor": 0
      },
      "text/plain": [
       "Map(center=[40, -100], controls=(WidgetControl(options=['position', 'transparent_bg'], widget=HBox(children=(T…"
      ]
     },
     "metadata": {},
     "output_type": "display_data"
    }
   ],
   "source": [
    "import geemap\n",
    "import ee\n",
    "from Monarch import user_gee\n",
    "Map = geemap.Map()\n",
    "Map"
   ]
  },
  {
   "cell_type": "code",
   "execution_count": 2,
   "id": "4d7ec541-1b87-4db2-b57e-25ba02732eb5",
   "metadata": {},
   "outputs": [],
   "source": [
    "roi = ee.Geometry.Rectangle([77, 25, 104, 40], None, False)\n",
    "# feature = Map.draw_last_feature\n",
    "# roi = feature.geometry()\n",
    "Map.addLayer(roi, {}, \"roi\")"
   ]
  },
  {
   "cell_type": "code",
   "execution_count": 4,
   "id": "83508e5d-bf5a-4bcf-a0f5-f4c0f0afb622",
   "metadata": {},
   "outputs": [],
   "source": [
    "def fun(image):\n",
    "    image1 = image.clip(roi)\n",
    "    mask = image1.gt(0)\n",
    "    image2 = image1.updateMask(mask)\n",
    "    return image2.multiply(0.0001)"
   ]
  },
  {
   "cell_type": "code",
   "execution_count": 13,
   "id": "beecd059-2f10-4d4a-b461-877d6dd648f0",
   "metadata": {
    "tags": []
   },
   "outputs": [],
   "source": [
    "# for year in range(2017, 2018):\n",
    "year = 2017\n",
    "images = ee.ImageCollection(\"MODIS/006/MOD13A1\")\\\n",
    "        .filterDate(str(year), str(year+1))\\\n",
    "        .filterBounds(roi).select(\"NDVI\").map(fun).toArrayPerBand()\n",
    "MAX = images.select(\"NDVI\").arraySort().arraySlice(start=-3)\n",
    "average = MAX.arrayReduce(ee.Reducer.mean(), [0])\n",
    "#     file = r\"C:\\Users\\Administrator\\Desktop\\青藏\\max\\ndvi_\"+str(year)+\"_max\"\n",
    "img = average.arrayGet(0)\n",
    "# Map.addLayer(images, {}, 'a')\n",
    "#     clip_dow_merge(roi, img, file, 500)"
   ]
  },
  {
   "cell_type": "code",
   "execution_count": 15,
   "id": "3cab30ef",
   "metadata": {},
   "outputs": [],
   "source": [
    "Map.addLayer(images.arraySort().arraySlice(start=-3), {}, 'c')"
   ]
  },
  {
   "cell_type": "code",
   "execution_count": null,
   "id": "c470aa5c-51ae-4dc0-b3cd-f6f8b89f2ed7",
   "metadata": {},
   "outputs": [],
   "source": [
    "a = img.arrayProject([0])"
   ]
  },
  {
   "cell_type": "code",
   "execution_count": null,
   "id": "30ea5ec6-636c-43d1-92ff-c55ad8c78874",
   "metadata": {},
   "outputs": [],
   "source": [
    "a"
   ]
  },
  {
   "cell_type": "code",
   "execution_count": null,
   "id": "b7e72715-0819-4479-ab35-ebd54fb63ff7",
   "metadata": {},
   "outputs": [],
   "source": [
    "Map.addLayer(img,{},\"img\")"
   ]
  },
  {
   "cell_type": "code",
   "execution_count": null,
   "id": "df762214-491b-46d9-aa22-788b48ae7bb6",
   "metadata": {},
   "outputs": [],
   "source": [
    "Map.addLayer(average,{},\"average\")"
   ]
  },
  {
   "cell_type": "code",
   "execution_count": null,
   "id": "6ac7e7f3-b6f9-4827-8173-353fd1da3884",
   "metadata": {},
   "outputs": [],
   "source": [
    "Map.addLayer(images,{},\"images\")"
   ]
  },
  {
   "cell_type": "code",
   "execution_count": null,
   "id": "4bbf9313-9e01-4758-911a-3fa2fe3c20e2",
   "metadata": {},
   "outputs": [],
   "source": [
    "Map.addLayer(MAX,{},\"MAX\")"
   ]
  },
  {
   "cell_type": "code",
   "execution_count": 9,
   "id": "fa93127a-8f0c-4630-a61f-a6bd6f985586",
   "metadata": {},
   "outputs": [],
   "source": [
    "images = ee.ImageCollection(\"MODIS/006/MOD13A1\")\\\n",
    "        .filterDate(str(year), str(year+1))"
   ]
  },
  {
   "cell_type": "code",
   "execution_count": 11,
   "id": "52f6283a",
   "metadata": {},
   "outputs": [
    {
     "data": {
      "text/plain": [
       "['MODIS/006/MOD13A1/2017_01_01',\n",
       " 'MODIS/006/MOD13A1/2017_01_17',\n",
       " 'MODIS/006/MOD13A1/2017_02_02',\n",
       " 'MODIS/006/MOD13A1/2017_02_18',\n",
       " 'MODIS/006/MOD13A1/2017_03_06',\n",
       " 'MODIS/006/MOD13A1/2017_03_22',\n",
       " 'MODIS/006/MOD13A1/2017_04_07',\n",
       " 'MODIS/006/MOD13A1/2017_04_23',\n",
       " 'MODIS/006/MOD13A1/2017_05_09',\n",
       " 'MODIS/006/MOD13A1/2017_05_25',\n",
       " 'MODIS/006/MOD13A1/2017_06_10',\n",
       " 'MODIS/006/MOD13A1/2017_06_26',\n",
       " 'MODIS/006/MOD13A1/2017_07_12',\n",
       " 'MODIS/006/MOD13A1/2017_07_28',\n",
       " 'MODIS/006/MOD13A1/2017_08_13',\n",
       " 'MODIS/006/MOD13A1/2017_08_29',\n",
       " 'MODIS/006/MOD13A1/2017_09_14',\n",
       " 'MODIS/006/MOD13A1/2017_09_30',\n",
       " 'MODIS/006/MOD13A1/2017_10_16',\n",
       " 'MODIS/006/MOD13A1/2017_11_01',\n",
       " 'MODIS/006/MOD13A1/2017_11_17',\n",
       " 'MODIS/006/MOD13A1/2017_12_03',\n",
       " 'MODIS/006/MOD13A1/2017_12_19']"
      ]
     },
     "execution_count": 11,
     "metadata": {},
     "output_type": "execute_result"
    }
   ],
   "source": [
    "images.aggregate_array('system:id').getInfo()"
   ]
  },
  {
   "cell_type": "code",
   "execution_count": null,
   "id": "82bde1d0",
   "metadata": {},
   "outputs": [],
   "source": []
  }
 ],
 "metadata": {
  "kernelspec": {
   "display_name": "Python 3 (ipykernel)",
   "language": "python",
   "name": "python3"
  },
  "language_info": {
   "codemirror_mode": {
    "name": "ipython",
    "version": 3
   },
   "file_extension": ".py",
   "mimetype": "text/x-python",
   "name": "python",
   "nbconvert_exporter": "python",
   "pygments_lexer": "ipython3",
   "version": "3.9.6"
  }
 },
 "nbformat": 4,
 "nbformat_minor": 5
}
