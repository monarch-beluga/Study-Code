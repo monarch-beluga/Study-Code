{
 "cells": [
  {
   "cell_type": "code",
   "execution_count": null,
   "id": "8d61720b-d211-4343-ab82-9fc385afea39",
   "metadata": {
    "ExecuteTime": {
     "end_time": "2021-11-30T02:51:26.469118Z",
     "start_time": "2021-11-30T02:44:58.375472Z"
    }
   },
   "outputs": [],
   "source": [
    "import geemap\n",
    "import ee\n",
    "import os\n",
    "import pandas as pd\n",
    "Map = geemap.Map()\n",
    "Map"
   ]
  },
  {
   "cell_type": "code",
   "execution_count": null,
   "id": "eb78a9d9",
   "metadata": {},
   "outputs": [],
   "source": [
    "os.chdir(r'E:\\Work\\QTPofShp')"
   ]
  },
  {
   "cell_type": "code",
   "execution_count": null,
   "id": "b8bf2a63",
   "metadata": {},
   "outputs": [],
   "source": [
    "link_roi = ['users/2431566134liumonarch/QTP',\n",
    "           'users/2431566134liumonarch/QTP_Rectangle_CustomProj',\n",
    "           'users/2431566134liumonarch/QHandXZ_Province_Proj']"
   ]
  },
  {
   "cell_type": "code",
   "execution_count": null,
   "id": "edd5915f",
   "metadata": {},
   "outputs": [],
   "source": [
    "rois = [ee.FeatureCollection(i) for i in link_roi]"
   ]
  },
  {
   "cell_type": "code",
   "execution_count": null,
   "id": "34fe7170",
   "metadata": {},
   "outputs": [],
   "source": [
    "tavg_df = pd.DataFrame({'roi':['QTP', 'QTP_Rectangle_CustomProj', 'QHandXZ_Province_Proj']})\n",
    "prcp_df = pd.DataFrame({'roi':['QTP', 'QTP_Rectangle_CustomProj', 'QHandXZ_Province_Proj']})\n",
    "tavg_df.set_index('roi', inplace=True)\n",
    "prcp_df.set_index('roi', inplace=True)\n",
    "for year in range(2000, 2021):\n",
    "    image = ee.ImageCollection(\"ECMWF_ERA5_MONTHLY\")\\\n",
    "                .filterDate(str(year), str(year+1))\n",
    "    tavg_img = image.select('mean_2m_air_temperature').mean()\n",
    "    prcp_img = image.select('total_precipitation').sum()\n",
    "    scale_tavg = tavg_img.projection().nominalScale()\n",
    "    scale_prcp = prcp_img.projection().nominalScale()\n",
    "    tavg = [tavg_img.reduceRegion(ee.Reducer.mean(), \n",
    "                                roi.geometry(), scale=scale_tavg)\\\n",
    "                                .getNumber('mean_2m_air_temperature').getInfo() for roi in rois]\n",
    "    prcp = [prcp_img.reduceRegion(ee.Reducer.mean(), \n",
    "                                 roi.geometry(), scale=scale_prcp)\\\n",
    "                                .getNumber('total_precipitation').getInfo() for roi in rois]\n",
    "    tavg_df.insert(year-2000, str(year), tavg)\n",
    "    prcp_df.insert(year-2000, str(year), prcp)\n",
    "    print(f'{year} 统计结束！！！')\n",
    "tavg_df = tavg_df-273.15\n",
    "prcp_df = prcp_df*1000\n",
    "prcp_df.to_csv('result/IDAHO_2000_2020_prcp.csv')\n",
    "tavg_df.to_csv('result/IDAHO_2000_2020_tavg.csv')"
   ]
  },
  {
   "cell_type": "code",
   "execution_count": null,
   "id": "342d4e7d",
   "metadata": {},
   "outputs": [],
   "source": [
    "tavg_df = pd.DataFrame({'roi':['QTP', 'QTP_Rectangle_CustomProj', 'QHandXZ_Province_Proj']})\n",
    "prcp_df = pd.DataFrame({'roi':['QTP', 'QTP_Rectangle_CustomProj', 'QHandXZ_Province_Proj']})\n",
    "tavg_df.set_index('roi', inplace=True)\n",
    "prcp_df.set_index('roi', inplace=True)\n",
    "for year in range(2000, 2021):\n",
    "    image = ee.ImageCollection(\"IDAHO_EPSCOR/TERRACLIMATE\")\\\n",
    "                .filterDate(str(year), str(year+1))\n",
    "    tavg_img = image.select('tmmx').mean().add(image.select('tmmn').mean())\n",
    "    prcp_img = image.select('pr').sum()\n",
    "    scale_tavg = tavg_img.projection().nominalScale()\n",
    "    scale_prcp = prcp_img.projection().nominalScale()\n",
    "    tavg = [tavg_img.reduceRegion(ee.Reducer.mean(), \n",
    "                                roi.geometry(), scale=scale_tavg)\\\n",
    "                                .getNumber('tmmx').getInfo()/2 for roi in rois]\n",
    "    prcp = [prcp_img.reduceRegion(ee.Reducer.mean(), \n",
    "                                 roi.geometry(), scale=scale_prcp)\\\n",
    "                                .getNumber('pr').getInfo() for roi in rois]\n",
    "    tavg_df.insert(year-2000, str(year), tavg)\n",
    "    prcp_df.insert(year-2000, str(year), prcp)\n",
    "    print(f'{year} 统计结束！！！')\n",
    "tavg_df = tavg_df*0.1\n",
    "prcp_df.to_csv('result/IDAHO_2000_2020_prcp.csv')\n",
    "tavg_df.to_csv('result/IDAHO_2000_2020_tavg.csv')"
   ]
  },
  {
   "cell_type": "code",
   "execution_count": null,
   "id": "ab0153aa",
   "metadata": {},
   "outputs": [],
   "source": [
    "tavg_df = pd.DataFrame({'roi':['QTP', 'QTP_Rectangle_CustomProj', 'QHandXZ_Province_Proj']})\n",
    "prcp_df = pd.DataFrame({'roi':['QTP', 'QTP_Rectangle_CustomProj', 'QHandXZ_Province_Proj']})\n",
    "tavg_df.set_index('roi', inplace=True)\n",
    "prcp_df.set_index('roi', inplace=True)\n",
    "for year in range(2000, 2021):\n",
    "    image = ee.ImageCollection(\"NASA/NEX-GDDP\")\\\n",
    "                .filterDate(str(year), str(year+1))\n",
    "    tavg_img = image.select('tasmin').mean().add(image.select('tasmax').mean())\n",
    "    prcp_img = image.select('pr').sum()\n",
    "    scale_tavg = tavg_img.projection().nominalScale()\n",
    "    scale_prcp = prcp_img.projection().nominalScale()\n",
    "    tavg = [tavg_img.reduceRegion(ee.Reducer.mean(), \n",
    "                                roi.geometry(), scale=scale_tavg)\\\n",
    "                                .getNumber('tasmin').getInfo()/2 for roi in rois]\n",
    "    prcp = [prcp_img.reduceRegion(ee.Reducer.mean(), \n",
    "                                 roi.geometry(), scale=scale_prcp)\\\n",
    "                                .getNumber('pr').getInfo() for roi in rois]\n",
    "    tavg_df.insert(year-2000, str(year), tavg)\n",
    "    prcp_df.insert(year-2000, str(year), prcp)\n",
    "    print(f'{year} 统计结束！！！')\n",
    "prcp_df = prcp_df*1000\n",
    "tavg_df = tavg_df-273.15\n",
    "prcp_df.to_csv('result/NASA_2000_2020_prcp.csv')\n",
    "tavg_df.to_csv('result/NASA_2000_2020_tavg.csv')"
   ]
  },
  {
   "cell_type": "code",
   "execution_count": null,
   "id": "103fc340",
   "metadata": {},
   "outputs": [],
   "source": []
  }
 ],
 "metadata": {
  "kernelspec": {
   "display_name": "Python 3 (ipykernel)",
   "language": "python",
   "name": "python3"
  },
  "language_info": {
   "codemirror_mode": {
    "name": "ipython",
    "version": 3
   },
   "file_extension": ".py",
   "mimetype": "text/x-python",
   "name": "python",
   "nbconvert_exporter": "python",
   "pygments_lexer": "ipython3",
   "version": "3.9.6"
  }
 },
 "nbformat": 4,
 "nbformat_minor": 5
}
