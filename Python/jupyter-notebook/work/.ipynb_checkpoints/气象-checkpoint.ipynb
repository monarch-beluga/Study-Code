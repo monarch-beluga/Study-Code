{
 "cells": [
  {
   "cell_type": "code",
   "execution_count": 1,
   "id": "8242e1c6",
   "metadata": {
    "ExecuteTime": {
     "end_time": "2021-11-07T02:23:36.073719Z",
     "start_time": "2021-11-07T02:23:24.515027Z"
    }
   },
   "outputs": [
    {
     "data": {
      "application/vnd.jupyter.widget-view+json": {
       "model_id": "293d27ae60ed4db7a3288fdd82ab6a4d",
       "version_major": 2,
       "version_minor": 0
      },
      "text/plain": [
       "Map(center=[40, -100], controls=(WidgetControl(options=['position', 'transparent_bg'], widget=HBox(children=(T…"
      ]
     },
     "metadata": {},
     "output_type": "display_data"
    }
   ],
   "source": [
    "import geemap\n",
    "import ee\n",
    "Map = geemap.Map()\n",
    "Map"
   ]
  },
  {
   "cell_type": "code",
   "execution_count": 2,
   "id": "5e7fcd86",
   "metadata": {
    "ExecuteTime": {
     "end_time": "2021-11-07T02:23:37.596685Z",
     "start_time": "2021-11-07T02:23:36.074716Z"
    }
   },
   "outputs": [],
   "source": [
    "rectangle = ee.Geometry.Rectangle([100.20, 37.96, 100.23, 37.99])  # ee.Geometry.Rectangle(minLng, minLat, maxLng, maxLat)\n",
    "roi = ee.Geometry(rectangle, None, False)\n",
    "Map.addLayer(roi, {}, 'rectangle')"
   ]
  },
  {
   "cell_type": "code",
   "execution_count": 3,
   "id": "6d5320ae",
   "metadata": {
    "ExecuteTime": {
     "end_time": "2021-11-07T02:31:22.009641Z",
     "start_time": "2021-11-07T02:31:21.972814Z"
    }
   },
   "outputs": [],
   "source": [
    "from Monarch import user_gee"
   ]
  },
  {
   "cell_type": "code",
   "execution_count": 6,
   "id": "3c5326f0",
   "metadata": {
    "ExecuteTime": {
     "end_time": "2021-11-07T02:32:31.187650Z",
     "start_time": "2021-11-07T02:32:31.181638Z"
    }
   },
   "outputs": [],
   "source": [
    "images = ee.ImageCollection(\"LANDSAT/LC08/C01/T1_SR\").filterDate(roi)\\\n",
    "            .filterDate(\"2020-06\", \"2020-07\").sort('CLOUD_COVER', False)\\\n",
    "            .map(user_gee.cloud_free_landsat_sr).mosaic()\n",
    "visParams = {\n",
    "  \"bands\": ['B4', 'B3', 'B2'],\n",
    "  \"min\": 0,\n",
    "  \"max\": 3000,\n",
    "}"
   ]
  },
  {
   "cell_type": "code",
   "execution_count": null,
   "id": "bff017df",
   "metadata": {},
   "outputs": [],
   "source": [
    "Map.addLayer()"
   ]
  },
  {
   "cell_type": "code",
   "execution_count": null,
   "id": "fa5f7282",
   "metadata": {},
   "outputs": [],
   "source": [
    "clip_dow_merge(roi, temp_mean.subtract(273), r'E:/Data/temp/mean1', 8000)"
   ]
  },
  {
   "cell_type": "code",
   "execution_count": null,
   "id": "86b73db4",
   "metadata": {},
   "outputs": [],
   "source": []
  }
 ],
 "metadata": {
  "kernelspec": {
   "display_name": "Python 3 (ipykernel)",
   "language": "python",
   "name": "python3"
  },
  "language_info": {
   "codemirror_mode": {
    "name": "ipython",
    "version": 3
   },
   "file_extension": ".py",
   "mimetype": "text/x-python",
   "name": "python",
   "nbconvert_exporter": "python",
   "pygments_lexer": "ipython3",
   "version": "3.9.7"
  },
  "varInspector": {
   "cols": {
    "lenName": 16,
    "lenType": 16,
    "lenVar": 40
   },
   "kernels_config": {
    "python": {
     "delete_cmd_postfix": "",
     "delete_cmd_prefix": "del ",
     "library": "var_list.py",
     "varRefreshCmd": "print(var_dic_list())"
    },
    "r": {
     "delete_cmd_postfix": ") ",
     "delete_cmd_prefix": "rm(",
     "library": "var_list.r",
     "varRefreshCmd": "cat(var_dic_list()) "
    }
   },
   "types_to_exclude": [
    "module",
    "function",
    "builtin_function_or_method",
    "instance",
    "_Feature"
   ],
   "window_display": false
  }
 },
 "nbformat": 4,
 "nbformat_minor": 5
}
