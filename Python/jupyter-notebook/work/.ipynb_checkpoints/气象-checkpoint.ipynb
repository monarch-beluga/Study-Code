{
 "cells": [
  {
   "cell_type": "code",
   "execution_count": 2,
   "id": "8242e1c6",
   "metadata": {
    "ExecuteTime": {
     "end_time": "2021-10-13T10:50:30.687804Z",
     "start_time": "2021-10-13T10:50:19.238546Z"
    }
   },
   "outputs": [
    {
     "data": {
      "application/vnd.jupyter.widget-view+json": {
       "model_id": "46f549d8b1744490bf5c8645195126a9",
       "version_major": 2,
       "version_minor": 0
      },
      "text/plain": [
       "Map(center=[40, -100], controls=(WidgetControl(options=['position', 'transparent_bg'], widget=HBox(children=(T…"
      ]
     },
     "metadata": {},
     "output_type": "display_data"
    }
   ],
   "source": [
    "import geemap\n",
    "import ee\n",
    "Map = geemap.Map()\n",
    "Map"
   ]
  },
  {
   "cell_type": "code",
   "execution_count": 4,
   "id": "5e7fcd86",
   "metadata": {
    "ExecuteTime": {
     "end_time": "2021-10-13T10:50:31.141044Z",
     "start_time": "2021-10-13T10:50:30.720803Z"
    }
   },
   "outputs": [],
   "source": [
    "rectangle = ee.Geometry.Rectangle([73, 3, 136, 54])  # ee.Geometry.Rectangle(minLng, minLat, maxLng, maxLat)\n",
    "roi = ee.Geometry(rectangle, None, False)\n",
    "Map.addLayer(roi, {}, 'rectangle')"
   ]
  },
  {
   "cell_type": "code",
   "execution_count": 5,
   "id": "50a95c98",
   "metadata": {},
   "outputs": [],
   "source": [
    "images2 = ee.ImageCollection(\"MODIS/006/MOD17A2H\")\\\n",
    "            .filterDate('2016', '2017').select('Gpp').mean()\n",
    "Map.addLayer(images2, {}, 'img')"
   ]
  },
  {
   "cell_type": "code",
   "execution_count": null,
   "id": "74cad230",
   "metadata": {},
   "outputs": [],
   "source": [
    "Map.addLayer(temp_mean.subtract(273).clip(roi), {}, \"a\")"
   ]
  },
  {
   "cell_type": "code",
   "execution_count": null,
   "id": "fa5f7282",
   "metadata": {},
   "outputs": [
    {
     "name": "stdout",
     "output_type": "stream",
     "text": [
      "分割成63份, 开始下载:\n",
      "Generating URL ...\n",
      "Downloading data from https://earthengine.googleapis.com/v1alpha/projects/earthengine-legacy/thumbnails/d1eab7828dc908a18348f4a3c2fc9eb0-87e8d457f5caefa5acf958cc1258043d:getPixels\n",
      "Please wait ...\n",
      "Data downloaded to E:\\Data\\temp\\mean1_mk\\temp_0.tif\n",
      "Generating URL ...\n",
      "Downloading data from https://earthengine.googleapis.com/v1alpha/projects/earthengine-legacy/thumbnails/cda89466b162130f724e5911a1ac7615-f4a650ce30100178056a3a356d60ba7c:getPixels\n",
      "Please wait ...\n",
      "Data downloaded to E:\\Data\\temp\\mean1_mk\\temp_1.tif\n",
      "Generating URL ...\n",
      "Downloading data from https://earthengine.googleapis.com/v1alpha/projects/earthengine-legacy/thumbnails/55506791a70066ec1d53857d2f7f46f3-ca5b23686960b2eaffb2b5be5c67981c:getPixels\n",
      "Please wait ...\n",
      "Data downloaded to E:\\Data\\temp\\mean1_mk\\temp_2.tif\n",
      "Generating URL ...\n",
      "Downloading data from https://earthengine.googleapis.com/v1alpha/projects/earthengine-legacy/thumbnails/610d6d10087d6a91f8c3258aa47cd73d-fdb71875e4bed1165e8995a192be7868:getPixels\n",
      "Please wait ...\n",
      "Data downloaded to E:\\Data\\temp\\mean1_mk\\temp_3.tif\n",
      "Generating URL ...\n",
      "Downloading data from https://earthengine.googleapis.com/v1alpha/projects/earthengine-legacy/thumbnails/983d385b3803dbae8adfbdb87ec6dc08-c0f68dceafd15223978a7752a3af3215:getPixels\n",
      "Please wait ...\n",
      "Data downloaded to E:\\Data\\temp\\mean1_mk\\temp_4.tif\n",
      "Generating URL ...\n",
      "Downloading data from https://earthengine.googleapis.com/v1alpha/projects/earthengine-legacy/thumbnails/e2d39f8269c57a8e30fe58f3e4ba764c-5538d36684cdd43c0a94f24974e90ef9:getPixels\n",
      "Please wait ...\n",
      "Data downloaded to E:\\Data\\temp\\mean1_mk\\temp_5.tif\n",
      "Generating URL ...\n",
      "Downloading data from https://earthengine.googleapis.com/v1alpha/projects/earthengine-legacy/thumbnails/bde77cc302286075b10ced31a4ee1f5d-67575260e546749a40383918d4c8a6a3:getPixels\n",
      "Please wait ...\n",
      "Data downloaded to E:\\Data\\temp\\mean1_mk\\temp_6.tif\n",
      "Generating URL ...\n",
      "Downloading data from https://earthengine.googleapis.com/v1alpha/projects/earthengine-legacy/thumbnails/236ad39b07472ce0de12857ceff6cb64-4731cc709400b4452b5ac5fb6b20d6c1:getPixels\n",
      "Please wait ...\n",
      "Data downloaded to E:\\Data\\temp\\mean1_mk\\temp_7.tif\n",
      "Generating URL ...\n",
      "An error occurred while downloading.\n",
      "Object of type int32 is not JSON serializable\n",
      "Generating URL ...\n",
      "Downloading data from https://earthengine.googleapis.com/v1alpha/projects/earthengine-legacy/thumbnails/d29060225044bd6b0b0a02fb77a9965c-4e2eebd2e032540acbdf1aa8ffb4953d:getPixels\n",
      "Please wait ...\n",
      "Data downloaded to E:\\Data\\temp\\mean1_mk\\temp_9.tif\n",
      "Generating URL ...\n",
      "Downloading data from https://earthengine.googleapis.com/v1alpha/projects/earthengine-legacy/thumbnails/4854cb5a4b1dd4f1cb17764ca6b0f359-9f7be00a10ab2a80f2c32089d768418d:getPixels\n",
      "Please wait ...\n",
      "Data downloaded to E:\\Data\\temp\\mean1_mk\\temp_10.tif\n",
      "Generating URL ...\n",
      "Downloading data from https://earthengine.googleapis.com/v1alpha/projects/earthengine-legacy/thumbnails/f9a9b4b499c8c45dfea2818bdfbfd287-3e531cc4c706953747f0864018f4128a:getPixels\n",
      "Please wait ...\n",
      "Data downloaded to E:\\Data\\temp\\mean1_mk\\temp_11.tif\n",
      "Generating URL ...\n",
      "Downloading data from https://earthengine.googleapis.com/v1alpha/projects/earthengine-legacy/thumbnails/81a733b4782b2f26d3110bb46ef44948-e97cd5a989f075cd3eba8e8325995412:getPixels\n",
      "Please wait ...\n",
      "Data downloaded to E:\\Data\\temp\\mean1_mk\\temp_12.tif\n",
      "Generating URL ...\n",
      "Downloading data from https://earthengine.googleapis.com/v1alpha/projects/earthengine-legacy/thumbnails/16bbd06e5ce235bd2c43db7650333367-60f67803d8770a31d6a7161c4e4db3b8:getPixels\n",
      "Please wait ...\n",
      "Data downloaded to E:\\Data\\temp\\mean1_mk\\temp_13.tif\n",
      "Generating URL ...\n",
      "Downloading data from https://earthengine.googleapis.com/v1alpha/projects/earthengine-legacy/thumbnails/3c9cb6d0c314d12ed5d7e95f795d1599-7e27fd0e85b9d94342a5e006697bdc75:getPixels\n",
      "Please wait ...\n"
     ]
    }
   ],
   "source": [
    "clip_dow_merge(roi, images2, r'E:/Data/temp/mean1', 500, sep=0.15)"
   ]
  },
  {
   "cell_type": "code",
   "execution_count": 7,
   "id": "483d965b",
   "metadata": {},
   "outputs": [],
   "source": [
    "def clip_dow_merge(geo: ee.Geometry, image: ee.Image, outfile: str, scale: int,\n",
    "                   crs='epsg:4326', sep=0.25):\n",
    "    \"\"\"\n",
    "\n",
    "    Args:\n",
    "        geo: ee.Geometry, 需要下载的区域矢量几何\n",
    "        image: ee.Image, 需要下载的影像\n",
    "        outfile: str, 输出文件路径和名称，不需要文件后缀，下载的影响默认后缀为tif\n",
    "        scale: int, 下载时的像元大小\n",
    "        crs: str, 下载影像的投影，默认为 'epsg:4326' wgs1984投影\n",
    "        sep: float, 单波段10m分辨率像元的影像裁剪大小(单位：经纬度)，默认为0.25\n",
    "    Returns: None\n",
    "\n",
    "    \"\"\"\n",
    "    import os\n",
    "    import numpy as np\n",
    "    import rasterio\n",
    "    from glob import glob\n",
    "    from rasterio.merge import merge\n",
    "    import shutil\n",
    "    import geemap\n",
    "    import math\n",
    "    bounds = geo.bounds()\n",
    "    bands = image.bandNames().size().getInfo()\n",
    "    poy = np.array(bounds.coordinates().getInfo()[0])\n",
    "    min_x = poy[:, 0].min()\n",
    "    max_x = poy[:, 0].max()\n",
    "    min_y = poy[:, 1].min()\n",
    "    max_y = poy[:, 1].max()\n",
    "    step = scale / 10 * sep / (int(math.sqrt(bands))+1)\n",
    "    end_x = int((max_x - min_x) / step) + 1\n",
    "    end_y = int((max_y - min_y) / step) + 1\n",
    "    polys = []\n",
    "    for i in range(end_y):\n",
    "        y1 = min_y + step * i\n",
    "        y2 = min_y + step * (i + 1)\n",
    "        if y2 > max_y:\n",
    "            y2 = max_y\n",
    "        for j in range(end_x):\n",
    "            x1 = min_x + step * j\n",
    "            x2 = min_x + step * (j + 1)\n",
    "            if x2 > max_x:\n",
    "                x2 = max_x\n",
    "            poly = ee.Geometry(ee.Geometry.Rectangle([x1, y1, x2, y2]), None, False)\n",
    "            polys.append(poly)\n",
    "    if len(polys) > 1:\n",
    "        print(f\"分割成{len(polys)}份, 开始下载:\")\n",
    "        path = outfile+'_mk'\n",
    "        if not os.path.exists(path):\n",
    "            os.makedirs(path)\n",
    "        for j, i in enumerate(polys):\n",
    "            geemap.ee_export_image(image, path+f'/temp_{j}.tif', scale=scale, crs=crs, region=i)\n",
    "        files = glob(path+\"/*.tif\")\n",
    "        src_files_to_mosaic = []\n",
    "        for tif_f in files:\n",
    "            src = rasterio.open(tif_f)\n",
    "            src_files_to_mosaic.append(src)\n",
    "        mosaic, out_trans = merge(src_files_to_mosaic)\n",
    "        out_meta = src.meta.copy()\n",
    "        out_meta.update({\"driver\": \"GTiff\",\n",
    "                         \"height\": mosaic.shape[1],\n",
    "                         \"width\": mosaic.shape[2],\n",
    "                         \"transform\": out_trans,\n",
    "                         })\n",
    "        with rasterio.open(outfile+\".tif\", \"w\", **out_meta) as dest:\n",
    "            dest.write(mosaic)\n",
    "        for src in src_files_to_mosaic:\n",
    "            src.close()\n",
    "        shutil.rmtree(path)\n",
    "    else:\n",
    "        geemap.ee_export_image(image, outfile+'.tif', scale=scale, crs=crs, region=geo)\n",
    "    print(\"download successful !!!\")\n"
   ]
  },
  {
   "cell_type": "code",
   "execution_count": null,
   "id": "86b73db4",
   "metadata": {},
   "outputs": [],
   "source": []
  }
 ],
 "metadata": {
  "kernelspec": {
   "display_name": "Python 3 (ipykernel)",
   "language": "python",
   "name": "python3"
  },
  "language_info": {
   "codemirror_mode": {
    "name": "ipython",
    "version": 3
   },
   "file_extension": ".py",
   "mimetype": "text/x-python",
   "name": "python",
   "nbconvert_exporter": "python",
   "pygments_lexer": "ipython3",
   "version": "3.9.6"
  },
  "varInspector": {
   "cols": {
    "lenName": 16,
    "lenType": 16,
    "lenVar": 40
   },
   "kernels_config": {
    "python": {
     "delete_cmd_postfix": "",
     "delete_cmd_prefix": "del ",
     "library": "var_list.py",
     "varRefreshCmd": "print(var_dic_list())"
    },
    "r": {
     "delete_cmd_postfix": ") ",
     "delete_cmd_prefix": "rm(",
     "library": "var_list.r",
     "varRefreshCmd": "cat(var_dic_list()) "
    }
   },
   "types_to_exclude": [
    "module",
    "function",
    "builtin_function_or_method",
    "instance",
    "_Feature"
   ],
   "window_display": false
  }
 },
 "nbformat": 4,
 "nbformat_minor": 5
}
