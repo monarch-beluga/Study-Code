{
 "cells": [
  {
   "cell_type": "code",
   "execution_count": null,
   "id": "8242e1c6",
   "metadata": {
    "ExecuteTime": {
     "end_time": "2021-10-13T10:50:30.687804Z",
     "start_time": "2021-10-13T10:50:19.238546Z"
    }
   },
   "outputs": [],
   "source": [
    "import geemap\n",
    "import ee\n",
    "Map = geemap.Map()\n",
    "Map"
   ]
  },
  {
   "cell_type": "code",
   "execution_count": null,
   "id": "5e7fcd86",
   "metadata": {
    "ExecuteTime": {
     "end_time": "2021-10-13T10:50:31.141044Z",
     "start_time": "2021-10-13T10:50:30.720803Z"
    }
   },
   "outputs": [],
   "source": [
    "rectangle = ee.Geometry.Rectangle([40, 30, 100, 57])  # ee.Geometry.Rectangle(minLng, minLat, maxLng, maxLat)\n",
    "roi = ee.Geometry(rectangle, None, False)\n",
    "Map.addLayer(roi, {}, 'rectangle')"
   ]
  },
  {
   "cell_type": "code",
   "execution_count": null,
   "id": "8c914d75",
   "metadata": {
    "ExecuteTime": {
     "end_time": "2021-10-13T10:50:31.186770Z",
     "start_time": "2021-10-13T10:50:31.172396Z"
    }
   },
   "outputs": [],
   "source": [
    "def fun(image):\n",
    "    image1 = image.subtract(273)\n",
    "    return image1\n"
   ]
  },
  {
   "cell_type": "code",
   "execution_count": null,
   "id": "1a8241ee",
   "metadata": {
    "ExecuteTime": {
     "start_time": "2021-10-13T13:16:52.695Z"
    }
   },
   "outputs": [],
   "source": [
    "list1 = [(4,6),(6,8),(9,10)]\n",
    "for month in list1[:1]:\n",
    "    temp = ee.ImageCollection(\"NCEP_RE/surface_temp\")\n",
    "    temp_mean = temp.select('air').filter(ee.Filter.calendarRange(2010,2020,'year'))\\\n",
    "    .filter(ee.Filter.calendarRange(month[0],month[1],'month')).mean()\n",
    "#     clip_dow_merge(roi, temp_mean.subtract(273), f'E:/Data/temp/mean_{month[0]}', \n",
    "#                    8000)\n",
    "#     geemap.ee_export_image(temp_mean.subtract(273), filename=r'E:/Data/temp/mean_{0}.tif'.format(str(month[0]))\n",
    "#                            , region=roi, scale=8000)\n",
    "    #geemap.ee_export_image_to_drive(temp_mean,folder = 'ndvi',description = \"temp_\"+str(month[0]),region=roi,scale=8000)"
   ]
  },
  {
   "cell_type": "code",
   "execution_count": null,
   "id": "74cad230",
   "metadata": {},
   "outputs": [],
   "source": [
    "Map.addLayer(temp_mean.subtract(273).clip(roi), {}, \"a\")"
   ]
  },
  {
   "cell_type": "code",
   "execution_count": null,
   "id": "fa5f7282",
   "metadata": {},
   "outputs": [],
   "source": [
    "clip_dow_merge(roi, temp_mean.subtract(273), r'E:/Data/temp/mean1', 8000)"
   ]
  },
  {
   "cell_type": "code",
   "execution_count": null,
   "id": "483d965b",
   "metadata": {},
   "outputs": [],
   "source": [
    "def clip_dow_merge(geo: ee.Geometry, image: ee.Image, outfile: str, scale: int,\n",
    "                   crs='epsg:4326', sep=0.25):\n",
    "    \"\"\"\n",
    "\n",
    "    Args:\n",
    "        geo: ee.Geometry, 需要下载的区域矢量几何\n",
    "        image: ee.Image, 未裁剪过的单波段影像\n",
    "        outfile: str, 输出文件路径和名称，不需要文件后缀，下载的影响默认后缀为tif\n",
    "        scale: int, 下载时的像元大小\n",
    "        crs: str, 下载影像的投影，默认为 'epsg:4326' wgs1984投影\n",
    "        sep: float, 单波段10m分辨率像元的影像裁剪大小(单位：经纬度)，默认为0.25\n",
    "    Returns: None\n",
    "\n",
    "    \"\"\"\n",
    "    import os\n",
    "    import numpy as np\n",
    "    import rasterio\n",
    "    from glob import glob\n",
    "    from rasterio.merge import merge\n",
    "    import shutil\n",
    "    \n",
    "    bounds = geo.bounds()\n",
    "    poy = np.array(bounds.coordinates().getInfo()[0])\n",
    "    min_x = poy[:, 0].min()\n",
    "    max_x = poy[:, 0].max()\n",
    "    min_y = poy[:, 1].min()\n",
    "    max_y = poy[:, 1].max()\n",
    "    step = scale / 10 * sep\n",
    "    end_x = int((max_x - min_x) / step) + 1\n",
    "    end_y = int((max_y - min_y) / step) + 1\n",
    "    polys = []\n",
    "    for i in range(end_y):\n",
    "        y1 = min_y + step * i\n",
    "        y2 = min_y + step * (i + 1)\n",
    "        if y2 > max_y:\n",
    "            y2 = max_y\n",
    "        for j in range(end_x):\n",
    "            x1 = min_x + step * j\n",
    "            x2 = min_x + step * (j + 1)\n",
    "            if x2 > max_x:\n",
    "                x2 = max_x\n",
    "            poly = ee.Geometry(ee.Geometry.Rectangle([x1, y1, x2, y2]), None, False)\n",
    "            polys.append(poly)\n",
    "    if(len(polys) > 1):\n",
    "        print(f\"分割成{len(polys)}份, 开始下载:\")\n",
    "        path = outfile+'_mk'\n",
    "        if not os.path.exists(path):\n",
    "            os.makedirs(path)\n",
    "        for j, i in enumerate(polys):\n",
    "            geemap.ee_export_image(image, path+f'/temp_{j}.tif', scale=scale, crs=crs, region=i)\n",
    "        files = glob(path+\"/*.tif\")\n",
    "        src_files_to_mosaic = []\n",
    "        for tif_f in files:\n",
    "            src = rasterio.open(tif_f)\n",
    "            src_files_to_mosaic.append(src)\n",
    "        mosaic, out_trans = merge(src_files_to_mosaic)\n",
    "        out_meta = src.meta.copy()\n",
    "        out_meta.update({\"driver\": \"GTiff\",\n",
    "                         \"height\": mosaic.shape[1],\n",
    "                         \"width\": mosaic.shape[2],\n",
    "                         \"transform\": out_trans,\n",
    "                         })\n",
    "        with rasterio.open(outfile+\".tif\", \"w\", **out_meta) as dest:\n",
    "            dest.write(mosaic)\n",
    "        for src in src_files_to_mosaic:\n",
    "            src.close()\n",
    "        shutil.rmtree(path)\n",
    "    else:\n",
    "        geemap.ee_export_image(image, outfile+'.tif', scale=scale, crs=crs, region=geo)\n",
    "    print(\"download successful !!!\")"
   ]
  },
  {
   "cell_type": "code",
   "execution_count": null,
   "id": "86b73db4",
   "metadata": {},
   "outputs": [],
   "source": []
  }
 ],
 "metadata": {
  "kernelspec": {
   "display_name": "Python 3 (ipykernel)",
   "language": "python",
   "name": "python3"
  },
  "language_info": {
   "codemirror_mode": {
    "name": "ipython",
    "version": 3
   },
   "file_extension": ".py",
   "mimetype": "text/x-python",
   "name": "python",
   "nbconvert_exporter": "python",
   "pygments_lexer": "ipython3",
   "version": "3.9.7"
  },
  "varInspector": {
   "cols": {
    "lenName": 16,
    "lenType": 16,
    "lenVar": 40
   },
   "kernels_config": {
    "python": {
     "delete_cmd_postfix": "",
     "delete_cmd_prefix": "del ",
     "library": "var_list.py",
     "varRefreshCmd": "print(var_dic_list())"
    },
    "r": {
     "delete_cmd_postfix": ") ",
     "delete_cmd_prefix": "rm(",
     "library": "var_list.r",
     "varRefreshCmd": "cat(var_dic_list()) "
    }
   },
   "types_to_exclude": [
    "module",
    "function",
    "builtin_function_or_method",
    "instance",
    "_Feature"
   ],
   "window_display": false
  }
 },
 "nbformat": 4,
 "nbformat_minor": 5
}
