{
 "cells": [
  {
   "cell_type": "code",
   "execution_count": 1,
   "id": "8242e1c6",
   "metadata": {
    "ExecuteTime": {
     "end_time": "2021-10-13T10:50:30.687804Z",
     "start_time": "2021-10-13T10:50:19.238546Z"
    }
   },
   "outputs": [
    {
     "data": {
      "application/vnd.jupyter.widget-view+json": {
       "model_id": "c3acb2ae2bd14664ae20cd8ce808cb09",
       "version_major": 2,
       "version_minor": 0
      },
      "text/plain": [
       "Map(center=[40, -100], controls=(WidgetControl(options=['position', 'transparent_bg'], widget=HBox(children=(T…"
      ]
     },
     "metadata": {},
     "output_type": "display_data"
    }
   ],
   "source": [
    "import geemap\n",
    "import ee\n",
    "Map = geemap.Map()\n",
    "Map"
   ]
  },
  {
   "cell_type": "code",
   "execution_count": 2,
   "id": "5e7fcd86",
   "metadata": {
    "ExecuteTime": {
     "end_time": "2021-10-13T10:50:31.141044Z",
     "start_time": "2021-10-13T10:50:30.720803Z"
    }
   },
   "outputs": [],
   "source": [
    "rectangle = ee.Geometry.Rectangle([40, 30, 100, 57])  # ee.Geometry.Rectangle(minLng, minLat, maxLng, maxLat)\n",
    "roi = ee.Geometry(rectangle, None, False)\n",
    "Map.addLayer(roi, {}, 'rectangle')"
   ]
  },
  {
   "cell_type": "code",
   "execution_count": 3,
   "id": "8c914d75",
   "metadata": {
    "ExecuteTime": {
     "end_time": "2021-10-13T10:50:31.186770Z",
     "start_time": "2021-10-13T10:50:31.172396Z"
    }
   },
   "outputs": [],
   "source": [
    "def fun(image):\n",
    "    image1 = image.subtract(273)\n",
    "    return image1\n"
   ]
  },
  {
   "cell_type": "code",
   "execution_count": 4,
   "id": "1a8241ee",
   "metadata": {
    "ExecuteTime": {
     "start_time": "2021-10-13T13:16:52.695Z"
    }
   },
   "outputs": [],
   "source": [
    "list1 = [(4,6),(6,8),(9,10)]\n",
    "for month in list1[:1]:\n",
    "    temp = ee.ImageCollection(\"NCEP_RE/surface_temp\")\n",
    "    temp_mean = temp.select('air').filter(ee.Filter.calendarRange(1982,2020,'year'))\\\n",
    "    .filter(ee.Filter.calendarRange(month[0],month[1],'month')).map(fun).mean()\n",
    "#     geemap.ee_export_image(temp_mean, filename=r\"C:\\Users\\Administrator\\Desktop\\气象\\temp_{}.tif\".format(str(month[0]))\n",
    "#                            , region=roi, scale=8000)\n",
    "    #geemap.ee_export_image_to_drive(temp_mean,folder = 'ndvi',description = \"temp_\"+str(month[0]),region=roi,scale=8000)"
   ]
  },
  {
   "cell_type": "code",
   "execution_count": null,
   "id": "483d965b",
   "metadata": {},
   "outputs": [],
   "source": []
  }
 ],
 "metadata": {
  "kernelspec": {
   "display_name": "Python 3 (ipykernel)",
   "language": "python",
   "name": "python3"
  },
  "language_info": {
   "codemirror_mode": {
    "name": "ipython",
    "version": 3
   },
   "file_extension": ".py",
   "mimetype": "text/x-python",
   "name": "python",
   "nbconvert_exporter": "python",
   "pygments_lexer": "ipython3",
   "version": "3.9.6"
  },
  "varInspector": {
   "cols": {
    "lenName": 16,
    "lenType": 16,
    "lenVar": 40
   },
   "kernels_config": {
    "python": {
     "delete_cmd_postfix": "",
     "delete_cmd_prefix": "del ",
     "library": "var_list.py",
     "varRefreshCmd": "print(var_dic_list())"
    },
    "r": {
     "delete_cmd_postfix": ") ",
     "delete_cmd_prefix": "rm(",
     "library": "var_list.r",
     "varRefreshCmd": "cat(var_dic_list()) "
    }
   },
   "types_to_exclude": [
    "module",
    "function",
    "builtin_function_or_method",
    "instance",
    "_Feature"
   ],
   "window_display": false
  }
 },
 "nbformat": 4,
 "nbformat_minor": 5
}
