{
 "cells": [
  {
   "cell_type": "code",
   "execution_count": null,
   "id": "7ad16505",
   "metadata": {
    "ExecuteTime": {
     "end_time": "2021-11-18T02:33:16.619411Z",
     "start_time": "2021-11-18T02:33:15.223603Z"
    }
   },
   "outputs": [],
   "source": [
    "import geemap\n",
    "import ee\n",
    "from Monarch import user_gee\n",
    "import pandas as pd\n",
    "import matplotlib.pyplot as plt\n",
    "import numpy as np\n",
    "from scipy.signal import savgol_filter\n",
    "from matplotlib import rcParams\n",
    "import os"
   ]
  },
  {
   "cell_type": "code",
   "execution_count": null,
   "id": "8be87125",
   "metadata": {
    "ExecuteTime": {
     "end_time": "2021-11-18T02:33:16.635349Z",
     "start_time": "2021-11-18T02:33:16.620127Z"
    }
   },
   "outputs": [],
   "source": [
    "os.chdir(r\"H:/Monarch/paper/Data/N_L_img/\")"
   ]
  },
  {
   "cell_type": "code",
   "execution_count": null,
   "id": "23c42b8b",
   "metadata": {
    "ExecuteTime": {
     "end_time": "2021-11-18T02:33:26.085764Z",
     "start_time": "2021-11-18T02:33:18.507411Z"
    }
   },
   "outputs": [],
   "source": [
    "Map = geemap.Map()\n",
    "Map"
   ]
  },
  {
   "cell_type": "code",
   "execution_count": null,
   "id": "8baea0f0",
   "metadata": {
    "ExecuteTime": {
     "end_time": "2021-11-18T02:33:28.937251Z",
     "start_time": "2021-11-18T02:33:26.086760Z"
    }
   },
   "outputs": [],
   "source": [
    "roi = geemap.shp_to_ee(r'H:/Monarch/paper/Data/area.shp', encoding='GBK').geometry()\n",
    "Map.center_object(roi, 10)\n",
    "Map.addLayer(roi, {}, 'roi')"
   ]
  },
  {
   "cell_type": "code",
   "execution_count": null,
   "id": "68844982",
   "metadata": {
    "ExecuteTime": {
     "end_time": "2021-11-18T02:33:28.952524Z",
     "start_time": "2021-11-18T02:33:28.938178Z"
    }
   },
   "outputs": [],
   "source": [
    "rice_points = geemap.geojson_to_ee(r'H:/Monarch/paper/Data/rice_ps.geojson')"
   ]
  },
  {
   "cell_type": "code",
   "execution_count": null,
   "id": "a815740c",
   "metadata": {
    "ExecuteTime": {
     "end_time": "2021-11-09T02:27:27.936419Z",
     "start_time": "2021-11-09T02:27:27.920461Z"
    }
   },
   "outputs": [],
   "source": [
    "visParams = {'max': 3000, 'min': 0, 'bands': ['B4', 'B3', 'B2']}"
   ]
  },
  {
   "cell_type": "code",
   "execution_count": null,
   "id": "65138b96",
   "metadata": {
    "ExecuteTime": {
     "end_time": "2021-11-08T01:29:41.245900Z",
     "start_time": "2021-11-08T01:27:52.592168Z"
    }
   },
   "outputs": [],
   "source": [
    "for year in range(2019, 2020):\n",
    "    s2_year = []\n",
    "    for i in range(3, 11):\n",
    "        s2 = ee.ImageCollection(\"COPERNICUS/S2\")\\\n",
    "                .filterBounds(roi)\\\n",
    "                .sort('CLOUD_COVERAGE_ASSESSMENT', False)\\\n",
    "                .filterDate(str(year), str(year+1))\\\n",
    "                .filter(ee.Filter.calendarRange(i, i, 'month'))\\\n",
    "                .map(user_gee.rm_cloud_s2_sr)\\\n",
    "                .mosaic()\n",
    "        Map.addLayer(s2, visParams, f\"s2_{i}\")\n",
    "        s2_year.append(s2)\n",
    "    s2_year = ee.ImageCollection(s2_year)"
   ]
  },
  {
   "cell_type": "code",
   "execution_count": null,
   "id": "4b44b616",
   "metadata": {
    "ExecuteTime": {
     "end_time": "2021-11-18T02:33:28.968347Z",
     "start_time": "2021-11-18T02:33:28.954859Z"
    }
   },
   "outputs": [],
   "source": [
    "config = {\n",
    "    \"font.family\": 'serif',\n",
    "    \"font.size\": 14,\n",
    "    \"mathtext.fontset\": 'stix',\n",
    "    \"font.serif\": 'Simsun',\n",
    "}\n",
    "rcParams.update(config)"
   ]
  },
  {
   "cell_type": "code",
   "execution_count": null,
   "id": "a1156128",
   "metadata": {
    "ExecuteTime": {
     "end_time": "2021-11-18T03:02:15.074714Z",
     "start_time": "2021-11-18T02:57:34.258030Z"
    }
   },
   "outputs": [],
   "source": [
    "for year in range(2016, 2020):\n",
    "    modis = ee.ImageCollection(\"MODIS/006/MOD09A1\").filterDate(str(year), str(year+1))\\\n",
    "                .map(lambda img: img.clip(roi))\n",
    "    ndvi = modis.map(lambda img: img.normalizedDifference(['sur_refl_b02', 'sur_refl_b01']).rename(['ndvi']))\n",
    "    lswi = modis.map(lambda img: img.normalizedDifference(['sur_refl_b02', 'sur_refl_b06']).rename(['lswi']))\n",
    "    \n",
    "    ndvi_img = ndvi.toBands().rename([f'ndvi_{i}' for i in range(46)])\n",
    "    ndvi_training = ndvi_img.sampleRegions(**{\n",
    "      'collection': rice_points,\n",
    "      'scale': 500\n",
    "    })\n",
    "    lswi_img = lswi.toBands().rename([f'lswi_{i}' for i in range(46)])\n",
    "    lswi_training = lswi_img.sampleRegions(**{\n",
    "      'collection': rice_points,\n",
    "      'scale': 500\n",
    "    })\n",
    "    \n",
    "    ndvi_data = [ndvi_training.aggregate_array(f'ndvi_{i}').getInfo() for i in range(46)]\n",
    "    lswi_data = [lswi_training.aggregate_array(f'lswi_{i}').getInfo() for i in range(46)]\n",
    "    ndvi_data = np.array(ndvi_data)\n",
    "    lswi_data = np.array(lswi_data)\n",
    "    ndvi_sg_data = savgol_filter(ndvi_data, 11, 4, axis=0)\n",
    "    lswi_sg_data = savgol_filter(lswi_data, 11, 4, axis=0)\n",
    "    \n",
    "    fig, ax = plt.subplots(figsize=(12, 8))\n",
    "    ax.set_xlabel('时相')\n",
    "    ax.set_ylabel('归一化值')\n",
    "    ax.plot([i for i in range(46)], lswi_sg_data.mean(1), '-o', color='blue', lw=1, label='sg滤波后的LSWI值')\n",
    "    ax.plot([i for i in range(46)], ndvi_sg_data.mean(1), '-^', color='r', lw=1, label='sg滤波后的NDVI值')\n",
    "    ax.legend(loc=2, frameon=False, handlelength=2)\n",
    "    fig.savefig(f'{year}_4_N_L.png', dpi=600, bbox_inches='tight')"
   ]
  },
  {
   "cell_type": "code",
   "execution_count": null,
   "id": "9a3219e8",
   "metadata": {
    "ExecuteTime": {
     "end_time": "2021-11-17T00:46:47.619573Z",
     "start_time": "2021-11-17T00:46:47.343925Z"
    }
   },
   "outputs": [],
   "source": [
    "config = {\n",
    "    \"font.family\": 'serif',\n",
    "    \"font.size\": 14,\n",
    "    \"mathtext.fontset\": 'stix',\n",
    "    \"font.serif\": 'Simsun',\n",
    "}\n",
    "rcParams.update(config)\n",
    "fig, ax = plt.subplots(figsize=(12, 8))\n",
    "ax.set_xlabel('时相')\n",
    "ax.set_ylabel('NDVI值')\n",
    "ax.plot([i for i in range(46)], ndvi_data.mean(1), '-o', color='blue', lw=1, label='原始的NDVI值')\n",
    "ax.plot([i for i in range(46)], ndvi_sg_data.mean(1), '-^', color='r', lw=1, label='sg滤波后的NDVI值')\n",
    "ax.legend(loc=2, frameon=False, handlelength=2)"
   ]
  },
  {
   "cell_type": "code",
   "execution_count": null,
   "id": "12d22b08",
   "metadata": {
    "ExecuteTime": {
     "end_time": "2021-11-17T02:05:44.111749Z",
     "start_time": "2021-11-17T02:05:43.990034Z"
    },
    "scrolled": false
   },
   "outputs": [],
   "source": [
    "fig, ax = plt.subplots(figsize=(12, 8))\n",
    "ax.set_xlabel('时相')\n",
    "ax.set_ylabel('LSWI值')\n",
    "ax.plot([i for i in range(46)], lswi_data.mean(1), '-o', color='blue', lw=1, label='原始的LSWI值')\n",
    "ax.plot([i for i in range(46)], lswi_sg_data.mean(1), '-^', color='r', lw=1, label='sg滤波后的LSWI值')\n",
    "ax.legend(loc=0, frameon=False, handlelength=2, )"
   ]
  },
  {
   "cell_type": "code",
   "execution_count": null,
   "id": "994fe768",
   "metadata": {},
   "outputs": [],
   "source": []
  }
 ],
 "metadata": {
  "kernelspec": {
   "display_name": "Python 3 (ipykernel)",
   "language": "python",
   "name": "python3"
  },
  "language_info": {
   "codemirror_mode": {
    "name": "ipython",
    "version": 3
   },
   "file_extension": ".py",
   "mimetype": "text/x-python",
   "name": "python",
   "nbconvert_exporter": "python",
   "pygments_lexer": "ipython3",
   "version": "3.9.7"
  }
 },
 "nbformat": 4,
 "nbformat_minor": 5
}
