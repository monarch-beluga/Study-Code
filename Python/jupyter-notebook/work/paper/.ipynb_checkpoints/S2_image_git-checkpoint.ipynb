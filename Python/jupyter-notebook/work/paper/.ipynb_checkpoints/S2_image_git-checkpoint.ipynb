{
 "cells": [
  {
   "cell_type": "code",
   "execution_count": 1,
   "id": "e188c477",
   "metadata": {
    "ExecuteTime": {
     "end_time": "2021-11-26T02:21:52.537362Z",
     "start_time": "2021-11-26T02:21:50.627146Z"
    }
   },
   "outputs": [],
   "source": [
    "import geemap\n",
    "import ee\n",
    "from Monarch import user_gee"
   ]
  },
  {
   "cell_type": "code",
   "execution_count": 2,
   "id": "ec83c4b0",
   "metadata": {
    "ExecuteTime": {
     "end_time": "2021-11-26T02:22:00.395610Z",
     "start_time": "2021-11-26T02:21:52.538336Z"
    }
   },
   "outputs": [
    {
     "data": {
      "application/vnd.jupyter.widget-view+json": {
       "model_id": "3863f2e44a5e43af942caad587f97eee",
       "version_major": 2,
       "version_minor": 0
      },
      "text/plain": [
       "Map(center=[30, 112], controls=(WidgetControl(options=['position', 'transparent_bg'], widget=HBox(children=(To…"
      ]
     },
     "metadata": {},
     "output_type": "display_data"
    }
   ],
   "source": [
    "Map = geemap.Map(center=(30, 112))\n",
    "Map"
   ]
  },
  {
   "cell_type": "code",
   "execution_count": null,
   "id": "1d315491",
   "metadata": {
    "ExecuteTime": {
     "end_time": "2021-11-09T02:28:39.400601Z",
     "start_time": "2021-11-09T02:28:36.925410Z"
    }
   },
   "outputs": [],
   "source": [
    "roi = geemap.shp_to_ee(r'H:/Monarch/paper/Data/pengze.shp', encoding='GBK').geometry()\n",
    "Map.center_object(roi, 10)\n",
    "Map.addLayer(roi, {}, 'roi')"
   ]
  },
  {
   "cell_type": "code",
   "execution_count": 8,
   "id": "89f5ea43",
   "metadata": {
    "ExecuteTime": {
     "end_time": "2021-11-26T02:28:11.307175Z",
     "start_time": "2021-11-26T02:28:11.303185Z"
    }
   },
   "outputs": [],
   "source": [
    "roi = Map.draw_last_feature.geometry()"
   ]
  },
  {
   "cell_type": "code",
   "execution_count": 4,
   "id": "1e18c213",
   "metadata": {
    "ExecuteTime": {
     "end_time": "2021-11-26T02:22:16.276429Z",
     "start_time": "2021-11-26T02:22:16.265371Z"
    }
   },
   "outputs": [],
   "source": [
    "visParams = {'max': 3000, 'min': 0, 'bands': ['B4', 'B3', 'B2']}"
   ]
  },
  {
   "cell_type": "code",
   "execution_count": 9,
   "id": "a8d5e825",
   "metadata": {
    "ExecuteTime": {
     "end_time": "2021-11-26T02:28:54.513394Z",
     "start_time": "2021-11-26T02:28:13.346887Z"
    }
   },
   "outputs": [
    {
     "name": "stdout",
     "output_type": "stream",
     "text": [
      "Generating URL...\n",
      "Downloading GIF image from https://earthengine.googleapis.com/v1alpha/projects/earthengine-legacy/videoThumbnails/8a275529b88f0bd7ace9337f8ebaa761-8ffca02730a5e5d3975233309edb6eaa:getPixels\n",
      "Please wait ...\n",
      "The GIF image has been saved to: H:\\Monarch\\paper\\Data\\S2_image_Thumbnail_git\\S2_2016.gif\n",
      "Generating URL...\n",
      "Downloading GIF image from https://earthengine.googleapis.com/v1alpha/projects/earthengine-legacy/videoThumbnails/c335ec88662eab916ebbe55e5a299b03-3bfaf970e1dbdb6871bb34b4fe535a0c:getPixels\n",
      "Please wait ...\n",
      "The GIF image has been saved to: H:\\Monarch\\paper\\Data\\S2_image_Thumbnail_git\\S2_2017.gif\n",
      "Generating URL...\n",
      "Downloading GIF image from https://earthengine.googleapis.com/v1alpha/projects/earthengine-legacy/videoThumbnails/f3f097705ea7b0d38a6b6bf2142a36ea-83753a3dbf2c8b0274897849057f962e:getPixels\n",
      "Please wait ...\n",
      "The GIF image has been saved to: H:\\Monarch\\paper\\Data\\S2_image_Thumbnail_git\\S2_2018.gif\n",
      "Generating URL...\n",
      "Downloading GIF image from https://earthengine.googleapis.com/v1alpha/projects/earthengine-legacy/videoThumbnails/3790865e2c1b86c8b4660876d2f5ea4e-733539088424aeb55db49da8ca568a83:getPixels\n",
      "Please wait ...\n",
      "The GIF image has been saved to: H:\\Monarch\\paper\\Data\\S2_image_Thumbnail_git\\S2_2019.gif\n"
     ]
    }
   ],
   "source": [
    "for year in range(2016, 2020):\n",
    "    s2_year = []\n",
    "    for i in range(3, 12):\n",
    "        s2 = ee.ImageCollection(\"COPERNICUS/S2\")\\\n",
    "                .filterBounds(roi)\\\n",
    "                .filterDate(str(year), str(year+1))\\\n",
    "                .filter(ee.Filter.calendarRange(i, i, 'month'))\\\n",
    "                .map(user_gee.rm_cloud_s2_sr)\n",
    "        a = s2.aggregate_array('system:time_start').map(lambda i: ee.Date(i).format('YYYY-MM-dd'))\n",
    "        s2_year.append(s2.mosaic().clip(roi).set('time', a.get(s2.size().subtract(1))))\n",
    "    s2_year = ee.ImageCollection(s2_year)\n",
    "    geemap.download_ee_video(s2_year, visParams, f'H:/Monarch/paper/Data/S2_image_Thumbnail_git/S2_{year}.gif')"
   ]
  },
  {
   "cell_type": "code",
   "execution_count": null,
   "id": "dc654a93",
   "metadata": {
    "ExecuteTime": {
     "end_time": "2021-10-19T02:56:59.230831Z",
     "start_time": "2021-10-19T02:56:58.852280Z"
    }
   },
   "outputs": [],
   "source": [
    "geemap.add_text_to_gif(f'H:/Monarch/paper/Data/S2_image_Thumbnail_git/S2_{year}.gif', f'H:/Monarch/paper/Data/S2_image_Thumbnail_git/S2_{year}_3.gif', xy=('3%', '5%'), text_sequence=a, \n",
    "                       font_size=20, font_color='#ffffff', duration=1000)"
   ]
  },
  {
   "cell_type": "code",
   "execution_count": null,
   "id": "272da064",
   "metadata": {
    "ExecuteTime": {
     "end_time": "2021-10-19T02:55:51.231825Z",
     "start_time": "2021-10-19T02:55:49.827885Z"
    }
   },
   "outputs": [],
   "source": [
    "a = s2_year.aggregate_array('time').getInfo()"
   ]
  },
  {
   "cell_type": "code",
   "execution_count": null,
   "id": "e1506ec7",
   "metadata": {
    "ExecuteTime": {
     "end_time": "2021-10-19T02:55:54.328109Z",
     "start_time": "2021-10-19T02:55:54.323123Z"
    }
   },
   "outputs": [],
   "source": [
    "a"
   ]
  },
  {
   "cell_type": "code",
   "execution_count": null,
   "id": "5b2b60b0",
   "metadata": {},
   "outputs": [],
   "source": []
  }
 ],
 "metadata": {
  "kernelspec": {
   "display_name": "Python 3 (ipykernel)",
   "language": "python",
   "name": "python3"
  },
  "language_info": {
   "codemirror_mode": {
    "name": "ipython",
    "version": 3
   },
   "file_extension": ".py",
   "mimetype": "text/x-python",
   "name": "python",
   "nbconvert_exporter": "python",
   "pygments_lexer": "ipython3",
   "version": "3.9.7"
  }
 },
 "nbformat": 4,
 "nbformat_minor": 5
}
