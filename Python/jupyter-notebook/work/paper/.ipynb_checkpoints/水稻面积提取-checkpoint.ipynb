{
 "cells": [
  {
   "cell_type": "code",
   "execution_count": 1,
   "id": "7ad16505",
   "metadata": {
    "ExecuteTime": {
     "end_time": "2021-10-20T02:45:33.532936Z",
     "start_time": "2021-10-20T02:45:31.468530Z"
    }
   },
   "outputs": [],
   "source": [
    "import geemap\n",
    "import ee\n",
    "from Monarch import user_gee"
   ]
  },
  {
   "cell_type": "code",
   "execution_count": 2,
   "id": "23c42b8b",
   "metadata": {
    "ExecuteTime": {
     "end_time": "2021-10-20T02:45:38.396471Z",
     "start_time": "2021-10-20T02:45:33.533476Z"
    }
   },
   "outputs": [
    {
     "data": {
      "application/vnd.jupyter.widget-view+json": {
       "model_id": "eaed64b7c9164bfe948344a7545a5845",
       "version_major": 2,
       "version_minor": 0
      },
      "text/plain": [
       "Map(center=[40, -100], controls=(WidgetControl(options=['position', 'transparent_bg'], widget=HBox(children=(T…"
      ]
     },
     "metadata": {},
     "output_type": "display_data"
    }
   ],
   "source": [
    "Map = geemap.Map()\n",
    "Map"
   ]
  },
  {
   "cell_type": "code",
   "execution_count": 3,
   "id": "8baea0f0",
   "metadata": {
    "ExecuteTime": {
     "end_time": "2021-10-20T02:45:39.772910Z",
     "start_time": "2021-10-20T02:45:38.397468Z"
    }
   },
   "outputs": [],
   "source": [
    "roi = geemap.geojson_to_ee(r'H:/Monarch/paper/Data/area.geojson').geometry()\n",
    "Map.center_object(roi, 12)\n",
    "Map.addLayer(roi, {}, 'roi')"
   ]
  },
  {
   "cell_type": "code",
   "execution_count": 4,
   "id": "a815740c",
   "metadata": {
    "ExecuteTime": {
     "end_time": "2021-10-20T02:45:39.788856Z",
     "start_time": "2021-10-20T02:45:39.773839Z"
    }
   },
   "outputs": [],
   "source": [
    "visParams = {'max': 3000, 'min': 0, 'bands': ['B4', 'B3', 'B2']}"
   ]
  },
  {
   "cell_type": "code",
   "execution_count": 5,
   "id": "65138b96",
   "metadata": {
    "ExecuteTime": {
     "end_time": "2021-10-20T02:45:47.411057Z",
     "start_time": "2021-10-20T02:45:39.789825Z"
    }
   },
   "outputs": [],
   "source": [
    "for year in range(2018, 2019):\n",
    "    s2_year = []\n",
    "    for i in range(3, 11):\n",
    "        s2 = ee.ImageCollection(\"COPERNICUS/S2\")\\\n",
    "                .filterBounds(roi)\\\n",
    "                .sort('CLOUD_COVERAGE_ASSESSMENT', False)\\\n",
    "                .filterDate(str(year), str(year+1))\\\n",
    "                .filter(ee.Filter.calendarRange(i, i, 'month'))\\\n",
    "                .map(user_gee.rm_cloud_s2_sr)\\\n",
    "                .mosaic().clip(roi)\n",
    "        Map.addLayer(s2, visParams, f\"s2_{i}\")\n",
    "        s2_year.append(s2)\n",
    "    s2_year = ee.ImageCollection(s2_year)"
   ]
  },
  {
   "cell_type": "code",
   "execution_count": 6,
   "id": "de59b8e9",
   "metadata": {
    "ExecuteTime": {
     "end_time": "2021-10-20T02:46:46.971573Z",
     "start_time": "2021-10-20T02:46:46.957583Z"
    }
   },
   "outputs": [],
   "source": [
    "year = 2018\n",
    "modis = ee.ImageCollection(\"MODIS/006/MOD09A1\").filterDate(str(year), str(year+1))\\\n",
    "            .map(lambda img: img.clip(roi))\n",
    "ndvi = modis.map(lambda img: img.normalizedDifference(['sur_refl_b02', 'sur_refl_b01'])\\\n",
    "                 .rename(['ndvi']).set({'system:id':img.get('system:id'), \n",
    "                                        'system:time_start':img.get('system:time_start')}))\n",
    "lswi = modis.map(lambda img: img.normalizedDifference(['sur_refl_b02', 'sur_refl_b06'])\\\n",
    "                 .rename(['lswi']).set({'system:id':img.get('system:id'), \n",
    "                                        'system:time_start':img.get('system:time_start')}))"
   ]
  },
  {
   "cell_type": "code",
   "execution_count": 7,
   "id": "2a5647c1",
   "metadata": {
    "ExecuteTime": {
     "end_time": "2021-10-20T02:46:59.734187Z",
     "start_time": "2021-10-20T02:46:56.108220Z"
    }
   },
   "outputs": [],
   "source": [
    "ndvi_sg_list = user_gee.sg_images(ndvi, 7, 3)\n",
    "lswi_sg_list = user_gee.sg_images(lswi, 7, 3)"
   ]
  },
  {
   "cell_type": "code",
   "execution_count": 8,
   "id": "12516d49",
   "metadata": {
    "ExecuteTime": {
     "end_time": "2021-10-20T02:47:28.340050Z",
     "start_time": "2021-10-20T02:47:28.309711Z"
    }
   },
   "outputs": [],
   "source": [
    "rice_points = geemap.geojson_to_ee(r'H:/Monarch/paper/Data/rice_ps.geojson')"
   ]
  },
  {
   "cell_type": "code",
   "execution_count": 15,
   "id": "116676f0",
   "metadata": {
    "ExecuteTime": {
     "end_time": "2021-10-20T02:51:51.635072Z",
     "start_time": "2021-10-20T02:51:50.006791Z"
    }
   },
   "outputs": [],
   "source": [
    "ndvi_sg_img = ee.Image(ndvi_sg_list)\n",
    "label = ndvi_sg_img.bandNames().getInfo()"
   ]
  },
  {
   "cell_type": "code",
   "execution_count": 23,
   "id": "f7c61714",
   "metadata": {
    "ExecuteTime": {
     "end_time": "2021-10-20T02:57:31.768920Z",
     "start_time": "2021-10-20T02:57:31.757922Z"
    }
   },
   "outputs": [],
   "source": [
    "training = ndvi_sg_img.sampleRegions(**{\n",
    "  'collection': rice_points,\n",
    "  'scale': 500\n",
    "})"
   ]
  },
  {
   "cell_type": "code",
   "execution_count": null,
   "id": "c3cbd4d5",
   "metadata": {
    "ExecuteTime": {
     "start_time": "2021-10-20T03:09:00.613Z"
    }
   },
   "outputs": [],
   "source": [
    "import pandas as pd\n",
    "import matplotlib.pyplot as plt\n",
    "import numpy as np\n",
    "ndvi_means = [np.mean(training.aggregate_array(f'ndvi_{i}').getInfo()) for i in range(46)]"
   ]
  },
  {
   "cell_type": "code",
   "execution_count": null,
   "id": "9a3219e8",
   "metadata": {
    "ExecuteTime": {
     "start_time": "2021-10-20T03:09:03.997Z"
    }
   },
   "outputs": [],
   "source": [
    "ndvi_means"
   ]
  },
  {
   "cell_type": "code",
   "execution_count": null,
   "id": "647ec561",
   "metadata": {},
   "outputs": [],
   "source": []
  }
 ],
 "metadata": {
  "kernelspec": {
   "display_name": "Python 3 (ipykernel)",
   "language": "python",
   "name": "python3"
  },
  "language_info": {
   "codemirror_mode": {
    "name": "ipython",
    "version": 3
   },
   "file_extension": ".py",
   "mimetype": "text/x-python",
   "name": "python",
   "nbconvert_exporter": "python",
   "pygments_lexer": "ipython3",
   "version": "3.9.7"
  }
 },
 "nbformat": 4,
 "nbformat_minor": 5
}
