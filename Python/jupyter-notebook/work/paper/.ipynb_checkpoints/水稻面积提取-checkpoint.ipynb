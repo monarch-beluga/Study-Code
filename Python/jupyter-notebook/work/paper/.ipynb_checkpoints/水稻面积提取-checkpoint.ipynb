{
 "cells": [
  {
   "cell_type": "code",
   "execution_count": null,
   "id": "7ad16505",
   "metadata": {
    "ExecuteTime": {
     "end_time": "2021-10-19T02:21:18.669248Z",
     "start_time": "2021-10-19T02:21:17.946502Z"
    }
   },
   "outputs": [],
   "source": [
    "import geemap\n",
    "import ee\n",
    "from Monarch import user_gee"
   ]
  },
  {
   "cell_type": "code",
   "execution_count": null,
   "id": "23c42b8b",
   "metadata": {
    "ExecuteTime": {
     "end_time": "2021-10-19T02:21:29.618201Z",
     "start_time": "2021-10-19T02:21:18.670222Z"
    }
   },
   "outputs": [],
   "source": [
    "Map = geemap.Map()\n",
    "Map"
   ]
  },
  {
   "cell_type": "code",
   "execution_count": null,
   "id": "8baea0f0",
   "metadata": {
    "ExecuteTime": {
     "end_time": "2021-10-19T02:21:30.739783Z",
     "start_time": "2021-10-19T02:21:29.619175Z"
    }
   },
   "outputs": [],
   "source": [
    "roi = geemap.geojson_to_ee(r'H:/Monarch/paper/Data/area.geojson').geometry()\n",
    "Map.center_object(roi, 12)\n",
    "Map.addLayer(roi, {}, 'roi')"
   ]
  },
  {
   "cell_type": "code",
   "execution_count": null,
   "id": "a815740c",
   "metadata": {
    "ExecuteTime": {
     "end_time": "2021-10-19T02:21:30.755324Z",
     "start_time": "2021-10-19T02:21:30.741466Z"
    }
   },
   "outputs": [],
   "source": [
    "visParams = {'max': 3000, 'min': 0, 'bands': ['B4', 'B3', 'B2']}"
   ]
  },
  {
   "cell_type": "code",
   "execution_count": null,
   "id": "65138b96",
   "metadata": {
    "ExecuteTime": {
     "end_time": "2021-10-19T02:22:27.481441Z",
     "start_time": "2021-10-19T02:22:26.411456Z"
    }
   },
   "outputs": [],
   "source": [
    "for year in range(2018, 2019):\n",
    "    s2_year = []\n",
    "    for i in range(11, 12):\n",
    "        s2 = ee.ImageCollection(\"COPERNICUS/S2\")\\\n",
    "                .filterBounds(roi)\\\n",
    "                .sort('CLOUD_COVERAGE_ASSESSMENT', False)\\\n",
    "                .filterDate(str(year), str(year+1))\\\n",
    "                .filter(ee.Filter.calendarRange(i, i, 'month'))\\\n",
    "                .map(user_gee.rm_cloud_s2_sr)\\\n",
    "                .mosaic().clip(roi)\n",
    "        Map.addLayer(s2, visParams, f\"s2_{i}\")\n",
    "        s2_year.append(s2)\n",
    "    s2_year = ee.ImageCollection(s2_year)"
   ]
  },
  {
   "cell_type": "code",
   "execution_count": null,
   "id": "de59b8e9",
   "metadata": {
    "ExecuteTime": {
     "end_time": "2021-10-19T02:13:06.531099Z",
     "start_time": "2021-10-19T02:13:06.523121Z"
    }
   },
   "outputs": [],
   "source": [
    "year = 2018\n",
    "modis = ee.ImageCollection(\"MODIS/006/MOD09A1\").filterDate(str(year), str(year+1))\\\n",
    "        .map(lambda img: img.clip(roi))\n",
    "ndvi = modis.map(lambda img: img.normalizedDifference(['sur_refl_b02', 'sur_refl_b01']))\n",
    "lswi = modis.map(lambda img: img.normalizedDifference(['sur_refl_b02', 'sur_refl_b06']))"
   ]
  },
  {
   "cell_type": "code",
   "execution_count": null,
   "id": "2a5647c1",
   "metadata": {},
   "outputs": [],
   "source": [
    "ndvi_"
   ]
  }
 ],
 "metadata": {
  "kernelspec": {
   "display_name": "Python 3 (ipykernel)",
   "language": "python",
   "name": "python3"
  },
  "language_info": {
   "codemirror_mode": {
    "name": "ipython",
    "version": 3
   },
   "file_extension": ".py",
   "mimetype": "text/x-python",
   "name": "python",
   "nbconvert_exporter": "python",
   "pygments_lexer": "ipython3",
   "version": "3.9.7"
  }
 },
 "nbformat": 4,
 "nbformat_minor": 5
}
