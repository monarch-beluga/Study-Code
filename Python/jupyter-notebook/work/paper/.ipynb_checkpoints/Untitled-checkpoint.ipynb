{
 "cells": [
  {
   "cell_type": "code",
   "execution_count": null,
   "id": "80bbc770",
   "metadata": {
    "ExecuteTime": {
     "end_time": "2021-12-18T01:27:41.056491Z",
     "start_time": "2021-12-18T01:27:33.089529Z"
    }
   },
   "outputs": [],
   "source": [
    "import geemap\n",
    "import ee\n",
    "\n",
    "Map = geemap.Map(center=[30, 112])\n",
    "Map"
   ]
  },
  {
   "cell_type": "code",
   "execution_count": null,
   "id": "713d64eb",
   "metadata": {
    "ExecuteTime": {
     "end_time": "2021-12-18T01:33:26.294709Z",
     "start_time": "2021-12-18T01:33:26.289723Z"
    }
   },
   "outputs": [],
   "source": [
    "roi_file = r'H:/Monarch/paper/Data/jiujiang.shp'\n",
    "point_file = r'H:/Monarch/paper/Data/landuse/points.shp'"
   ]
  },
  {
   "cell_type": "code",
   "execution_count": null,
   "id": "7ce55f7c",
   "metadata": {
    "ExecuteTime": {
     "end_time": "2021-12-18T01:33:29.246255Z",
     "start_time": "2021-12-18T01:33:27.767505Z"
    }
   },
   "outputs": [],
   "source": [
    "roi = geemap.shp_to_ee(roi_file)\n",
    "psv = geemap.shp_to_ee(point_file)"
   ]
  },
  {
   "cell_type": "code",
   "execution_count": null,
   "id": "ed3fbd89",
   "metadata": {
    "ExecuteTime": {
     "end_time": "2021-12-18T01:33:37.942829Z",
     "start_time": "2021-12-18T01:33:29.247225Z"
    }
   },
   "outputs": [],
   "source": [
    "Map.addLayer(roi, {}, 'roi')\n",
    "Map.addLayer(psv, {'color': 'FF0000'}, 'ps')"
   ]
  },
  {
   "cell_type": "code",
   "execution_count": null,
   "id": "7bb9b37d",
   "metadata": {
    "ExecuteTime": {
     "end_time": "2021-12-18T01:27:54.414433Z",
     "start_time": "2021-12-18T01:27:54.384636Z"
    }
   },
   "outputs": [],
   "source": [
    "from Monarch import user_gee\n",
    "year = 2019\n",
    "s2_year = []\n",
    "for i in range(3, 12):\n",
    "    s2 = ee.ImageCollection(\"COPERNICUS/S2\")\\\n",
    "            .filterBounds(roi)\\\n",
    "            .sort('CLOUD_COVERAGE_ASSESSMENT', False)\\\n",
    "            .filterDate(str(year), str(year+1))\\\n",
    "            .filter(ee.Filter.calendarRange(i, i, 'month'))\n",
    "    s2_rm_cloud = s2.map(user_gee.rm_cloud_s2_sr)\n",
    "    s2_z = s2.merge(s2_rm_cloud)\n",
    "    a = s2.aggregate_array('system:time_start').map(lambda i: ee.Date(i).format('YYYY-MM-dd'))\n",
    "    s2_year.append(s2_z.mosaic().select('B[1-7]').clip(roi).set('time', a.get(s2.size().subtract(1))))\n",
    "image = ee.Image(s2_year)"
   ]
  },
  {
   "cell_type": "code",
   "execution_count": null,
   "id": "e7b1e3fa",
   "metadata": {
    "ExecuteTime": {
     "end_time": "2021-12-18T01:27:54.430349Z",
     "start_time": "2021-12-18T01:27:54.415157Z"
    }
   },
   "outputs": [],
   "source": [
    "ps = psv.filter(ee.Filter.lte('CID', 70))\n",
    "ps_y = psv.filter(ee.Filter.gt('CID', 70))"
   ]
  },
  {
   "cell_type": "code",
   "execution_count": null,
   "id": "65173d6c",
   "metadata": {
    "ExecuteTime": {
     "end_time": "2021-12-18T01:27:56.250681Z",
     "start_time": "2021-12-18T01:27:54.431242Z"
    }
   },
   "outputs": [],
   "source": [
    "ps.first().getInfo()"
   ]
  },
  {
   "cell_type": "code",
   "execution_count": null,
   "id": "ce12730a",
   "metadata": {
    "ExecuteTime": {
     "end_time": "2021-12-18T01:33:43.198238Z",
     "start_time": "2021-12-18T01:33:43.180262Z"
    }
   },
   "outputs": [],
   "source": [
    "label = 'RASTERVALU'\n",
    "\n",
    "training = image.sampleRegions(**{\n",
    "  'collection': psv,\n",
    "  'properties': [label],\n",
    "  'scale': 10\n",
    "})\n",
    "# 使用Cart(分类与回归树)\n",
    "trained = ee.Classifier.smileCart().train(training, label)"
   ]
  },
  {
   "cell_type": "code",
   "execution_count": null,
   "id": "df06539a",
   "metadata": {
    "ExecuteTime": {
     "end_time": "2021-12-18T01:34:45.240085Z",
     "start_time": "2021-12-18T01:33:43.970653Z"
    }
   },
   "outputs": [],
   "source": [
    "training.first().getInfo()"
   ]
  },
  {
   "cell_type": "code",
   "execution_count": null,
   "id": "c24a0a12",
   "metadata": {
    "ExecuteTime": {
     "end_time": "2021-12-18T01:17:00.383705Z",
     "start_time": "2021-12-18T01:15:58.292274Z"
    }
   },
   "outputs": [],
   "source": [
    "result = image.classify(trained)\n",
    "\n",
    "Map.addLayer(result.randomVisualizer(), {}, 'classfied')\n",
    "Map"
   ]
  },
  {
   "cell_type": "code",
   "execution_count": null,
   "id": "e72dfcc6",
   "metadata": {
    "ExecuteTime": {
     "end_time": "2021-12-14T02:25:02.284286Z",
     "start_time": "2021-12-14T02:24:59.551878Z"
    }
   },
   "outputs": [],
   "source": [
    "a = psv.aggregate_array('RASTERVALU').getInfo()"
   ]
  },
  {
   "cell_type": "code",
   "execution_count": null,
   "id": "66152d77",
   "metadata": {
    "ExecuteTime": {
     "end_time": "2021-12-14T02:25:26.775377Z",
     "start_time": "2021-12-14T02:25:26.767429Z"
    }
   },
   "outputs": [],
   "source": [
    "b = set(a)"
   ]
  },
  {
   "cell_type": "code",
   "execution_count": null,
   "id": "4ed4e473",
   "metadata": {
    "ExecuteTime": {
     "end_time": "2021-12-14T02:25:30.221082Z",
     "start_time": "2021-12-14T02:25:30.209142Z"
    }
   },
   "outputs": [],
   "source": [
    "b"
   ]
  },
  {
   "cell_type": "code",
   "execution_count": null,
   "id": "129ff66f",
   "metadata": {},
   "outputs": [],
   "source": []
  }
 ],
 "metadata": {
  "kernelspec": {
   "display_name": "Python 3 (ipykernel)",
   "language": "python",
   "name": "python3"
  },
  "language_info": {
   "codemirror_mode": {
    "name": "ipython",
    "version": 3
   },
   "file_extension": ".py",
   "mimetype": "text/x-python",
   "name": "python",
   "nbconvert_exporter": "python",
   "pygments_lexer": "ipython3",
   "version": "3.9.7"
  }
 },
 "nbformat": 4,
 "nbformat_minor": 5
}
