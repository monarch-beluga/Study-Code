{
 "cells": [
  {
   "cell_type": "code",
   "execution_count": null,
   "id": "7ad16505",
   "metadata": {
    "ExecuteTime": {
     "end_time": "2021-10-22T02:01:00.734502Z",
     "start_time": "2021-10-22T02:00:55.621918Z"
    }
   },
   "outputs": [],
   "source": [
    "import geemap\n",
    "import ee\n",
    "from Monarch import user_gee\n",
    "import pandas as pd\n",
    "import matplotlib.pyplot as plt\n",
    "import numpy as np\n",
    "from scipy.signal import savgol_filter\n",
    "from matplotlib import rcParams"
   ]
  },
  {
   "cell_type": "code",
   "execution_count": null,
   "id": "23c42b8b",
   "metadata": {
    "ExecuteTime": {
     "end_time": "2021-10-22T02:04:57.166091Z",
     "start_time": "2021-10-22T02:04:42.502639Z"
    }
   },
   "outputs": [],
   "source": [
    "Map = geemap.Map()\n",
    "Map"
   ]
  },
  {
   "cell_type": "code",
   "execution_count": null,
   "id": "8baea0f0",
   "metadata": {
    "ExecuteTime": {
     "end_time": "2021-10-22T02:04:59.983453Z",
     "start_time": "2021-10-22T02:04:57.167088Z"
    }
   },
   "outputs": [],
   "source": [
    "roi = geemap.geojson_to_ee(r'H:/Monarch/paper/Data/area.geojson').geometry()\n",
    "Map.center_object(roi, 12)\n",
    "Map.addLayer(roi, {}, 'roi')"
   ]
  },
  {
   "cell_type": "code",
   "execution_count": null,
   "id": "a815740c",
   "metadata": {
    "ExecuteTime": {
     "end_time": "2021-10-20T02:45:39.788856Z",
     "start_time": "2021-10-20T02:45:39.773839Z"
    }
   },
   "outputs": [],
   "source": [
    "visParams = {'max': 3000, 'min': 0, 'bands': ['B4', 'B3', 'B2']}"
   ]
  },
  {
   "cell_type": "code",
   "execution_count": null,
   "id": "65138b96",
   "metadata": {
    "ExecuteTime": {
     "end_time": "2021-10-20T02:45:47.411057Z",
     "start_time": "2021-10-20T02:45:39.789825Z"
    }
   },
   "outputs": [],
   "source": [
    "for year in range(2018, 2019):\n",
    "    s2_year = []\n",
    "    for i in range(3, 11):\n",
    "        s2 = ee.ImageCollection(\"COPERNICUS/S2\")\\\n",
    "                .filterBounds(roi)\\\n",
    "                .sort('CLOUD_COVERAGE_ASSESSMENT', False)\\\n",
    "                .filterDate(str(year), str(year+1))\\\n",
    "                .filter(ee.Filter.calendarRange(i, i, 'month'))\\\n",
    "                .map(user_gee.rm_cloud_s2_sr)\\\n",
    "                .mosaic().clip(roi)\n",
    "        Map.addLayer(s2, visParams, f\"s2_{i}\")\n",
    "        s2_year.append(s2)\n",
    "    s2_year = ee.ImageCollection(s2_year)"
   ]
  },
  {
   "cell_type": "code",
   "execution_count": null,
   "id": "de59b8e9",
   "metadata": {
    "ExecuteTime": {
     "end_time": "2021-10-22T02:04:59.999410Z",
     "start_time": "2021-10-22T02:04:59.984450Z"
    }
   },
   "outputs": [],
   "source": [
    "year = 2018\n",
    "modis = ee.ImageCollection(\"MODIS/006/MOD09A1\").filterDate(str(year), str(year+1))\\\n",
    "            .map(lambda img: img.clip(roi))\n",
    "ndvi = modis.map(lambda img: img.normalizedDifference(['sur_refl_b02', 'sur_refl_b01'])\\\n",
    "                 .rename(['ndvi']).set({'system:id':img.get('system:id'), \n",
    "                                        'system:time_start':img.get('system:time_start')}))\n",
    "lswi = modis.map(lambda img: img.normalizedDifference(['sur_refl_b02', 'sur_refl_b06'])\\\n",
    "                 .rename(['lswi']).set({'system:id':img.get('system:id'), \n",
    "                                        'system:time_start':img.get('system:time_start')}))"
   ]
  },
  {
   "cell_type": "code",
   "execution_count": null,
   "id": "a1156128",
   "metadata": {
    "ExecuteTime": {
     "end_time": "2021-10-21T02:00:07.226384Z",
     "start_time": "2021-10-21T02:00:07.216411Z"
    }
   },
   "outputs": [],
   "source": [
    "year = 2018\n",
    "modis = ee.ImageCollection(\"MODIS/006/MOD09A1\").filterDate(str(year), str(year+1))\\\n",
    "            .map(lambda img: img.clip(roi))\n",
    "ndvi = modis.map(lambda img: img.normalizedDifference(['sur_refl_b02', 'sur_refl_b01'])\\\n",
    "                 .rename(['ndvi']))\n",
    "lswi = modis.map(lambda img: img.normalizedDifference(['sur_refl_b02', 'sur_refl_b06'])\\\n",
    "                 .rename(['lswi']).set({'system:id':img.get('system:id'), \n",
    "                                        'system:time_start':img.get('system:time_start')}))"
   ]
  },
  {
   "cell_type": "code",
   "execution_count": null,
   "id": "2a5647c1",
   "metadata": {
    "ExecuteTime": {
     "end_time": "2021-10-22T02:05:05.037837Z",
     "start_time": "2021-10-22T02:05:00.012550Z"
    }
   },
   "outputs": [],
   "source": [
    "ndvi_sg_list = user_gee.sg_images(ndvi, 11, 3)\n",
    "lswi_sg_list = user_gee.sg_images(lswi, 11, 3)"
   ]
  },
  {
   "cell_type": "code",
   "execution_count": null,
   "id": "12516d49",
   "metadata": {
    "ExecuteTime": {
     "end_time": "2021-10-21T02:00:50.510228Z",
     "start_time": "2021-10-21T02:00:50.495298Z"
    }
   },
   "outputs": [],
   "source": [
    "rice_points = geemap.geojson_to_ee(r'H:/Monarch/paper/Data/rice_ps.geojson')"
   ]
  },
  {
   "cell_type": "code",
   "execution_count": null,
   "id": "116676f0",
   "metadata": {
    "ExecuteTime": {
     "end_time": "2021-10-22T02:14:25.107485Z",
     "start_time": "2021-10-22T02:14:25.092525Z"
    }
   },
   "outputs": [],
   "source": [
    "ndvi_img = ndvi.toBands().rename([f'ndvi_{i}' for i in range(46)])\n",
    "ndvi_training = ndvi_img.sampleRegions(**{\n",
    "  'collection': rice_points,\n",
    "  'scale': 500\n",
    "})\n",
    "lswi_img = lswi.toBands().rename([f'lswi_{i}' for i in range(46)])\n",
    "lswi_training = lswi_img.sampleRegions(**{\n",
    "  'collection': rice_points,\n",
    "  'scale': 500\n",
    "})"
   ]
  },
  {
   "cell_type": "code",
   "execution_count": null,
   "id": "c3cbd4d5",
   "metadata": {
    "ExecuteTime": {
     "end_time": "2021-10-21T02:17:52.413291Z",
     "start_time": "2021-10-21T02:16:14.304363Z"
    }
   },
   "outputs": [],
   "source": [
    "ndvi_data = [ndvi_training.aggregate_array(f'ndvi_{i}').getInfo() for i in range(46)]\n",
    "lswi_data = [lswi_training.aggregate_array(f'lswi_{i}').getInfo() for i in range(46)]"
   ]
  },
  {
   "cell_type": "code",
   "execution_count": null,
   "id": "780a551d",
   "metadata": {
    "ExecuteTime": {
     "end_time": "2021-10-21T02:19:33.076974Z",
     "start_time": "2021-10-21T02:19:33.049049Z"
    }
   },
   "outputs": [],
   "source": [
    "ndvi_data = np.array(ndvi_data)\n",
    "lswi_data = np.array(lswi_data)\n",
    "ndvi_sg_data = savgol_filter(ndvi_data, 11, 3, axis=0)\n",
    "lswi_sg_data = savgol_filter(lswi_data, 11, 3, axis=0)"
   ]
  },
  {
   "cell_type": "code",
   "execution_count": null,
   "id": "70c831b7",
   "metadata": {
    "ExecuteTime": {
     "end_time": "2021-10-21T02:20:57.689316Z",
     "start_time": "2021-10-21T02:20:57.673359Z"
    }
   },
   "outputs": [],
   "source": [
    "ndvi_sg_data.mean(1)"
   ]
  },
  {
   "cell_type": "code",
   "execution_count": null,
   "id": "9a3219e8",
   "metadata": {
    "ExecuteTime": {
     "end_time": "2021-10-21T02:21:07.097595Z",
     "start_time": "2021-10-21T02:21:06.968939Z"
    }
   },
   "outputs": [],
   "source": [
    "config = {\n",
    "    \"font.family\": 'serif',\n",
    "    \"font.size\": 14,\n",
    "    \"mathtext.fontset\": 'stix',\n",
    "    \"font.serif\": 'Simsun',\n",
    "}\n",
    "rcParams.update(config)\n",
    "fig, ax = plt.subplots(figsize=(12, 8))\n",
    "ax.set_xlabel('时相')\n",
    "ax.set_ylabel('NDVI值')\n",
    "ax.plot([i for i in range(46)], ndvi_data.mean(1), '-o', color='blue', lw=1, label='原始的NDVI值')\n",
    "ax.plot([i for i in range(46)], ndvi_sg_data.mean(1), '-^', color='r', lw=1, label='sg滤波后的NDVI值')\n",
    "ax.legend(loc=2, frameon=False, handlelength=2)"
   ]
  },
  {
   "cell_type": "code",
   "execution_count": null,
   "id": "12d22b08",
   "metadata": {
    "ExecuteTime": {
     "end_time": "2021-10-21T02:47:48.513122Z",
     "start_time": "2021-10-21T02:47:48.363429Z"
    }
   },
   "outputs": [],
   "source": [
    "fig, ax = plt.subplots(figsize=(12, 8))\n",
    "ax.set_xlabel('时相')\n",
    "ax.set_ylabel('LSWI值')\n",
    "ax.plot([i for i in range(46)], lswi_data.mean(1), '-o', color='blue', lw=1, label='原始的LSWI值')\n",
    "ax.plot([i for i in range(46)], lswi_sg_data.mean(1), '-^', color='r', lw=1, label='sg滤波后的LSWI值')\n",
    "ax.legend(loc=0, frameon=False, handlelength=2, )"
   ]
  },
  {
   "cell_type": "code",
   "execution_count": null,
   "id": "647ec561",
   "metadata": {
    "ExecuteTime": {
     "end_time": "2021-10-21T02:10:31.382979Z",
     "start_time": "2021-10-21T02:10:31.255691Z"
    }
   },
   "outputs": [],
   "source": [
    "fig, ax = plt.subplots(figsize=(12, 8))\n",
    "ax.set_xlabel('时相')\n",
    "ax.set_ylabel('LSWI值')\n",
    "ax.plot([i for i in range(46)], lswi_means, '-o', color='blue', lw=1, label='原始的LSWI值')\n",
    "ax.plot([i for i in range(46)], savgol_filter(lswi_means, 7, 3), '-^', color='r', lw=1, label='sg滤波后的LSWI值')\n",
    "ax.legend(loc=2, frameon=False, handlelength=2)"
   ]
  },
  {
   "cell_type": "code",
   "execution_count": null,
   "id": "994fe768",
   "metadata": {},
   "outputs": [],
   "source": []
  }
 ],
 "metadata": {
  "kernelspec": {
   "display_name": "Python 3 (ipykernel)",
   "language": "python",
   "name": "python3"
  },
  "language_info": {
   "codemirror_mode": {
    "name": "ipython",
    "version": 3
   },
   "file_extension": ".py",
   "mimetype": "text/x-python",
   "name": "python",
   "nbconvert_exporter": "python",
   "pygments_lexer": "ipython3",
   "version": "3.9.7"
  }
 },
 "nbformat": 4,
 "nbformat_minor": 5
}
