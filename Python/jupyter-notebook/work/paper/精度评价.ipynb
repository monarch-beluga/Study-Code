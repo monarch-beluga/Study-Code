{
 "cells": [
  {
   "cell_type": "code",
   "execution_count": null,
   "metadata": {},
   "outputs": [],
   "source": [
    "import geemap\n",
    "import ee"
   ]
  },
  {
   "cell_type": "code",
   "execution_count": null,
   "metadata": {},
   "outputs": [],
   "source": [
    "Map = geemap.Map()\n",
    "Map"
   ]
  },
  {
   "cell_type": "code",
   "execution_count": null,
   "metadata": {},
   "outputs": [],
   "source": [
    "jiangxi = ee.FeatureCollection('users/2431566134liumonarch/monarch/Jiangxi')"
   ]
  },
  {
   "cell_type": "code",
   "execution_count": null,
   "metadata": {},
   "outputs": [],
   "source": [
    "empty = ee.Image().byte()\n",
    "\n",
    "JX_img = empty.paint(\n",
    "    featureCollection=jiangxi,\n",
    "    color='ID'\n",
    ")\n",
    "palette = ['FF0000', '00FF00', '0000FF']\n",
    "Map.addLayer(JX_img, {'palette': palette, 'max': 12, 'min': 0}, 'edsg')"
   ]
  },
  {
   "cell_type": "code",
   "execution_count": null,
   "metadata": {},
   "outputs": [],
   "source": [
    "Map.addLayer(jiangxi, {}, 'jx')\n",
    "Map.center_object(jiangxi, 6)"
   ]
  },
  {
   "cell_type": "code",
   "execution_count": null,
   "metadata": {},
   "outputs": [],
   "source": [
    "jiangxi = jiangxi.sort('ID')\n",
    "\n",
    "jx_List = jiangxi.toList(4)"
   ]
  },
  {
   "cell_type": "code",
   "execution_count": null,
   "metadata": {},
   "outputs": [],
   "source": [
    "Points = []\n",
    "for i in range(4):\n",
    "    feature1 = ee.Feature(jx_List.get(i))\n",
    "    name = feature1.get('CityNameC')\n",
    "    ID = feature1.get('ID')\n",
    "    def setID(fea):\n",
    "        return fea.set('name', name).set('ID', ID)\n",
    "    temp = ee.FeatureCollection.randomPoints(\n",
    "        ee.FeatureCollection.flatten(jx_List).geometry(), 300).map(setID)\n",
    "    Points.append(temp)"
   ]
  },
  {
   "cell_type": "code",
   "execution_count": null,
   "metadata": {},
   "outputs": [],
   "source": [
    "Points1 = ee.FeatureCollection.flatten(Points)"
   ]
  },
  {
   "cell_type": "code",
   "execution_count": null,
   "metadata": {},
   "outputs": [],
   "source": [
    "Points1.first().getInfo()"
   ]
  },
  {
   "cell_type": "code",
   "execution_count": null,
   "metadata": {},
   "outputs": [],
   "source": [
    "path_csv = 'F:/temp.csv'\n",
    "\n",
    "# geemap.zonal_statistics(JX_img, Points1, path_csv, scale=10)"
   ]
  },
  {
   "cell_type": "code",
   "execution_count": null,
   "metadata": {},
   "outputs": [],
   "source": [
    "import pandas as pd\n",
    "data = pd.read_csv(path_csv, sep=',')"
   ]
  },
  {
   "cell_type": "code",
   "execution_count": null,
   "metadata": {},
   "outputs": [],
   "source": [
    "data1 = []\n",
    "for i in range(11):\n",
    "    temp = []\n",
    "    for j in range(11):\n",
    "        x = len(data[(data['mean']==i) & (data['ID']==j)])\n",
    "        temp.append(x)\n",
    "    data1.append(temp)"
   ]
  },
  {
   "cell_type": "code",
   "execution_count": null,
   "metadata": {},
   "outputs": [],
   "source": [
    "df = pd.DataFrame(data1)\n",
    "\n",
    "index = data['name'].unique()\n",
    "index = index[::-1]\n",
    "index\n",
    "\n",
    "df.index = index\n",
    "\n",
    "df.columns = index"
   ]
  },
  {
   "cell_type": "code",
   "execution_count": null,
   "metadata": {},
   "outputs": [],
   "source": [
    "df"
   ]
  },
  {
   "cell_type": "code",
   "execution_count": null,
   "metadata": {},
   "outputs": [],
   "source": [
    "df['Total'] = df.sum(axis=1)\n",
    "\n",
    "df = df.T\n",
    "df['Total'] = df.sum(axis=1)\n",
    "df = df.T"
   ]
  },
  {
   "cell_type": "code",
   "execution_count": null,
   "metadata": {
    "scrolled": true
   },
   "outputs": [],
   "source": [
    "Sd = 0\n",
    "PAs = []\n",
    "UAs = []\n",
    "Fs = []\n",
    "for i in df.columns[:-1]:\n",
    "    for j in df.index[:-1]:\n",
    "        if i == j:\n",
    "            PA = df[i][j]/df[i]['Total']*100\n",
    "            UA = df[i][j]/df['Total'][j]*100\n",
    "            F = (PA*UA)/(UA+PA)*2\n",
    "            PA = format(PA, '.2f') + '%'\n",
    "            PAs.append(PA)\n",
    "            Sd += df[i][j]\n",
    "            UA = format(UA, '.2f') + '%'\n",
    "            UAs.append(UA)\n",
    "            F = format(F, '.2f') + '%'\n",
    "            Fs.append(F)"
   ]
  },
  {
   "cell_type": "code",
   "execution_count": null,
   "metadata": {},
   "outputs": [],
   "source": [
    "OA = format(Sd / df['Total']['Total'] * 100, '.2f') + '%'"
   ]
  },
  {
   "cell_type": "code",
   "execution_count": null,
   "metadata": {},
   "outputs": [],
   "source": [
    "UAs.append(np.nan)"
   ]
  },
  {
   "cell_type": "code",
   "execution_count": null,
   "metadata": {},
   "outputs": [],
   "source": [
    "df['User Accuracy'] = UAs"
   ]
  },
  {
   "cell_type": "code",
   "execution_count": null,
   "metadata": {},
   "outputs": [],
   "source": [
    "df"
   ]
  },
  {
   "cell_type": "code",
   "execution_count": null,
   "metadata": {},
   "outputs": [],
   "source": [
    "df.append([PAs])"
   ]
  },
  {
   "cell_type": "code",
   "execution_count": null,
   "metadata": {},
   "outputs": [],
   "source": []
  }
 ],
 "metadata": {
  "kernelspec": {
   "display_name": "Python 3 (ipykernel)",
   "language": "python",
   "name": "python3"
  },
  "language_info": {
   "codemirror_mode": {
    "name": "ipython",
    "version": 3
   },
   "file_extension": ".py",
   "mimetype": "text/x-python",
   "name": "python",
   "nbconvert_exporter": "python",
   "pygments_lexer": "ipython3",
   "version": "3.9.6"
  },
  "varInspector": {
   "cols": {
    "lenName": 16,
    "lenType": 16,
    "lenVar": 40
   },
   "kernels_config": {
    "python": {
     "delete_cmd_postfix": "",
     "delete_cmd_prefix": "del ",
     "library": "var_list.py",
     "varRefreshCmd": "print(var_dic_list())"
    },
    "r": {
     "delete_cmd_postfix": ") ",
     "delete_cmd_prefix": "rm(",
     "library": "var_list.r",
     "varRefreshCmd": "cat(var_dic_list()) "
    }
   },
   "oldHeight": 122.22178,
   "position": {
    "height": "40px",
    "left": "794.01px",
    "right": "20px",
    "top": "120px",
    "width": "250.434px"
   },
   "types_to_exclude": [
    "module",
    "function",
    "builtin_function_or_method",
    "instance",
    "_Feature"
   ],
   "varInspector_section_display": "none",
   "window_display": true
  }
 },
 "nbformat": 4,
 "nbformat_minor": 4
}
