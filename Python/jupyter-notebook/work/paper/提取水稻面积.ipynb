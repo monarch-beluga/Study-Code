{
 "cells": [
  {
   "cell_type": "code",
   "execution_count": null,
   "id": "e188c477",
   "metadata": {},
   "outputs": [],
   "source": [
    "import geemap\n",
    "import ee\n",
    "from Monarch import user_gee"
   ]
  },
  {
   "cell_type": "code",
   "execution_count": null,
   "id": "ec83c4b0",
   "metadata": {},
   "outputs": [],
   "source": [
    "Map = geemap.Map()\n",
    "Map"
   ]
  },
  {
   "cell_type": "code",
   "execution_count": null,
   "id": "1d315491",
   "metadata": {},
   "outputs": [],
   "source": [
    "roi = geemap.geojson_to_ee(\"E:/Data/GIS/JX.json\")\n",
    "Map.centerObject(roi, 7)\n",
    "Map.addLayer(roi, {}, \"roi\")"
   ]
  },
  {
   "cell_type": "code",
   "execution_count": null,
   "id": "3bffbced",
   "metadata": {},
   "outputs": [],
   "source": [
    "image = ee.ImageCollection(\"LANDSAT/LC08/C01/T1_SR\")\\\n",
    "        .filterBounds(roi)\\\n",
    "        .sort('CLOUD_COVER', False)\\\n",
    "        .filterDate('2019-07', '2019-08')\\\n",
    "        .map(user_gee.cloud_free_landsat_sr)\\\n",
    "        .select('B[1-7]')\\\n",
    "        .median().clip(roi.geometry())"
   ]
  },
  {
   "cell_type": "code",
   "execution_count": null,
   "id": "48e75a22",
   "metadata": {},
   "outputs": [],
   "source": [
    "Map.addLayer(image, {'max': 3000, 'min': 0, 'bands': ['B4', 'B3', 'B2']}, 'image')"
   ]
  },
  {
   "cell_type": "code",
   "execution_count": null,
   "id": "25a98342",
   "metadata": {},
   "outputs": [],
   "source": []
  },
  {
   "cell_type": "code",
   "execution_count": null,
   "id": "58ac98ef",
   "metadata": {},
   "outputs": [],
   "source": []
  },
  {
   "cell_type": "code",
   "execution_count": null,
   "id": "dc654a93",
   "metadata": {},
   "outputs": [],
   "source": []
  }
 ],
 "metadata": {
  "kernelspec": {
   "display_name": "Python 3 (ipykernel)",
   "language": "python",
   "name": "python3"
  },
  "language_info": {
   "codemirror_mode": {
    "name": "ipython",
    "version": 3
   },
   "file_extension": ".py",
   "mimetype": "text/x-python",
   "name": "python",
   "nbconvert_exporter": "python",
   "pygments_lexer": "ipython3",
   "version": "3.9.6"
  }
 },
 "nbformat": 4,
 "nbformat_minor": 5
}
