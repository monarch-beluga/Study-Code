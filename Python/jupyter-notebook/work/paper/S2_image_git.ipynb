{
 "cells": [
  {
   "cell_type": "code",
   "execution_count": null,
   "id": "e188c477",
   "metadata": {
    "ExecuteTime": {
     "end_time": "2021-10-16T02:21:42.424220Z",
     "start_time": "2021-10-16T02:21:41.663301Z"
    }
   },
   "outputs": [],
   "source": [
    "import geemap\n",
    "import ee\n",
    "from Monarch import user_gee"
   ]
  },
  {
   "cell_type": "code",
   "execution_count": null,
   "id": "ec83c4b0",
   "metadata": {
    "ExecuteTime": {
     "end_time": "2021-10-16T02:22:01.982817Z",
     "start_time": "2021-10-16T02:21:42.425218Z"
    }
   },
   "outputs": [],
   "source": [
    "Map = geemap.Map()\n",
    "Map"
   ]
  },
  {
   "cell_type": "code",
   "execution_count": null,
   "id": "1d315491",
   "metadata": {
    "ExecuteTime": {
     "end_time": "2021-10-16T02:22:03.111199Z",
     "start_time": "2021-10-16T02:22:01.983814Z"
    }
   },
   "outputs": [],
   "source": [
    "roi = geemap.geojson_to_ee(r'H:/Monarch/paper/Data/area.geojson').geometry()\n",
    "Map.center_object(roi, 12)\n",
    "Map.addLayer(roi, {}, 'roi')"
   ]
  },
  {
   "cell_type": "code",
   "execution_count": null,
   "id": "1e18c213",
   "metadata": {
    "ExecuteTime": {
     "end_time": "2021-10-16T02:12:48.265172Z",
     "start_time": "2021-10-16T02:12:48.247196Z"
    }
   },
   "outputs": [],
   "source": [
    "visParams = {'max': 3000, 'min': 0, 'bands': ['B4', 'B3', 'B2']}"
   ]
  },
  {
   "cell_type": "code",
   "execution_count": null,
   "id": "a8d5e825",
   "metadata": {
    "ExecuteTime": {
     "end_time": "2021-10-16T02:16:17.047057Z",
     "start_time": "2021-10-16T02:15:07.309708Z"
    }
   },
   "outputs": [],
   "source": [
    "for year in range(2016, 2021):\n",
    "    s2_year = []\n",
    "    for i in range(3, 11):\n",
    "        s2 = ee.ImageCollection(\"COPERNICUS/S2\")\\\n",
    "                .filterBounds(roi)\\\n",
    "                .sort('CLOUD_COVERAGE_ASSESSMENT', False)\\\n",
    "                .filterDate(str(year), str(year+1))\\\n",
    "                .filter(ee.Filter.calendarRange(, i, 'day'))\\\n",
    "                .map(user_gee.rm_cloud_s2_sr)\\\n",
    "                .mosaic().clip(roi)\n",
    "        s2_year.append(s2)\n",
    "    s2_year = ee.ImageCollection(s2_year)\n",
    "    geemap.download_ee_video(s2_year, visParams, f'H:/Monarch/paper/Data/S2_image_Thumbnail_git/S2_{year}.gif')"
   ]
  },
  {
   "cell_type": "code",
   "execution_count": null,
   "id": "dc654a93",
   "metadata": {},
   "outputs": [],
   "source": []
  }
 ],
 "metadata": {
  "kernelspec": {
   "display_name": "Python 3 (ipykernel)",
   "language": "python",
   "name": "python3"
  },
  "language_info": {
   "codemirror_mode": {
    "name": "ipython",
    "version": 3
   },
   "file_extension": ".py",
   "mimetype": "text/x-python",
   "name": "python",
   "nbconvert_exporter": "python",
   "pygments_lexer": "ipython3",
   "version": "3.9.7"
  }
 },
 "nbformat": 4,
 "nbformat_minor": 5
}
