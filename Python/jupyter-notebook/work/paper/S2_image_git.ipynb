{
 "cells": [
  {
   "cell_type": "code",
   "execution_count": 1,
   "id": "e188c477",
   "metadata": {
    "ExecuteTime": {
     "end_time": "2021-11-09T02:28:29.001512Z",
     "start_time": "2021-11-09T02:28:28.275609Z"
    }
   },
   "outputs": [],
   "source": [
    "import geemap\n",
    "import ee\n",
    "from Monarch import user_gee"
   ]
  },
  {
   "cell_type": "code",
   "execution_count": 2,
   "id": "ec83c4b0",
   "metadata": {
    "ExecuteTime": {
     "end_time": "2021-11-09T02:28:36.924413Z",
     "start_time": "2021-11-09T02:28:29.002510Z"
    }
   },
   "outputs": [
    {
     "data": {
      "application/vnd.jupyter.widget-view+json": {
       "model_id": "45832e3571994cdb86d892f00291f88a",
       "version_major": 2,
       "version_minor": 0
      },
      "text/plain": [
       "Map(center=[40, -100], controls=(WidgetControl(options=['position', 'transparent_bg'], widget=HBox(children=(T…"
      ]
     },
     "metadata": {},
     "output_type": "display_data"
    }
   ],
   "source": [
    "Map = geemap.Map()\n",
    "Map"
   ]
  },
  {
   "cell_type": "code",
   "execution_count": 3,
   "id": "1d315491",
   "metadata": {
    "ExecuteTime": {
     "end_time": "2021-11-09T02:28:39.400601Z",
     "start_time": "2021-11-09T02:28:36.925410Z"
    }
   },
   "outputs": [],
   "source": [
    "roi = geemap.shp_to_ee(r'H:/Monarch/paper/Data/pengze.shp', encoding='GBK').geometry()\n",
    "Map.center_object(roi, 10)\n",
    "Map.addLayer(roi, {}, 'roi')"
   ]
  },
  {
   "cell_type": "code",
   "execution_count": 4,
   "id": "1e18c213",
   "metadata": {
    "ExecuteTime": {
     "end_time": "2021-11-09T02:28:39.416603Z",
     "start_time": "2021-11-09T02:28:39.401593Z"
    }
   },
   "outputs": [],
   "source": [
    "visParams = {'max': 3000, 'min': 0, 'bands': ['B4', 'B3', 'B2']}"
   ]
  },
  {
   "cell_type": "code",
   "execution_count": 6,
   "id": "a8d5e825",
   "metadata": {
    "ExecuteTime": {
     "end_time": "2021-11-09T02:31:22.102985Z",
     "start_time": "2021-11-09T02:30:20.264759Z"
    }
   },
   "outputs": [
    {
     "name": "stdout",
     "output_type": "stream",
     "text": [
      "Generating URL...\n",
      "Downloading GIF image from https://earthengine.googleapis.com/v1alpha/projects/earthengine-legacy/videoThumbnails/b669f67e5c23e224099a0145910cb922-18d933817f31f358c3fe0c9e26e057f8:getPixels\n",
      "Please wait ...\n",
      "The GIF image has been saved to: H:\\Monarch\\paper\\Data\\S2_image_Thumbnail_git\\S2_2016.gif\n",
      "Generating URL...\n",
      "Downloading GIF image from https://earthengine.googleapis.com/v1alpha/projects/earthengine-legacy/videoThumbnails/5deb5d9eae9e6de46dba19f2ebd084d9-f3d682eb606b24785ed8f79860afc49c:getPixels\n",
      "Please wait ...\n",
      "The GIF image has been saved to: H:\\Monarch\\paper\\Data\\S2_image_Thumbnail_git\\S2_2017.gif\n",
      "Generating URL...\n",
      "Downloading GIF image from https://earthengine.googleapis.com/v1alpha/projects/earthengine-legacy/videoThumbnails/4e578c35efd6992be40c9297eb9e17bc-5b94855ee8496643bceec45445548f61:getPixels\n",
      "Please wait ...\n",
      "The GIF image has been saved to: H:\\Monarch\\paper\\Data\\S2_image_Thumbnail_git\\S2_2018.gif\n",
      "Generating URL...\n",
      "Downloading GIF image from https://earthengine.googleapis.com/v1alpha/projects/earthengine-legacy/videoThumbnails/bcffe8005d9949972b1841433063c2cf-9aa80081edc42d1c37c9929dfb302cce:getPixels\n",
      "Please wait ...\n",
      "The GIF image has been saved to: H:\\Monarch\\paper\\Data\\S2_image_Thumbnail_git\\S2_2019.gif\n"
     ]
    }
   ],
   "source": [
    "for year in range(2016, 2020):\n",
    "    s2_year = []\n",
    "    for i in range(3, 12):\n",
    "        s2 = ee.ImageCollection(\"COPERNICUS/S2\")\\\n",
    "                .filterBounds(roi)\\\n",
    "                .sort('CLOUD_COVERAGE_ASSESSMENT', False)\\\n",
    "                .filterDate(str(year), str(year+1))\\\n",
    "                .filter(ee.Filter.calendarRange(i, i, 'month'))\\\n",
    "                .map(user_gee.rm_cloud_s2_sr)\n",
    "        a = s2.aggregate_array('system:time_start').map(lambda i: ee.Date(i).format('YYYY-MM-dd'))\n",
    "        s2_year.append(s2.mosaic().clip(roi).set('time', a.get(s2.size().subtract(1))))\n",
    "    s2_year = ee.ImageCollection(s2_year)\n",
    "    geemap.download_ee_video(s2_year, visParams, f'H:/Monarch/paper/Data/S2_image_Thumbnail_git/S2_{year}.gif')"
   ]
  },
  {
   "cell_type": "code",
   "execution_count": null,
   "id": "dc654a93",
   "metadata": {
    "ExecuteTime": {
     "end_time": "2021-10-19T02:56:59.230831Z",
     "start_time": "2021-10-19T02:56:58.852280Z"
    }
   },
   "outputs": [],
   "source": [
    "geemap.add_text_to_gif(f'H:/Monarch/paper/Data/S2_image_Thumbnail_git/S2_{year}.gif', f'H:/Monarch/paper/Data/S2_image_Thumbnail_git/S2_{year}_3.gif', xy=('3%', '5%'), text_sequence=a, \n",
    "                       font_size=20, font_color='#ffffff', duration=1000)"
   ]
  },
  {
   "cell_type": "code",
   "execution_count": null,
   "id": "272da064",
   "metadata": {
    "ExecuteTime": {
     "end_time": "2021-10-19T02:55:51.231825Z",
     "start_time": "2021-10-19T02:55:49.827885Z"
    }
   },
   "outputs": [],
   "source": [
    "a = s2_year.aggregate_array('time').getInfo()"
   ]
  },
  {
   "cell_type": "code",
   "execution_count": null,
   "id": "e1506ec7",
   "metadata": {
    "ExecuteTime": {
     "end_time": "2021-10-19T02:55:54.328109Z",
     "start_time": "2021-10-19T02:55:54.323123Z"
    }
   },
   "outputs": [],
   "source": [
    "a"
   ]
  },
  {
   "cell_type": "code",
   "execution_count": null,
   "id": "5b2b60b0",
   "metadata": {},
   "outputs": [],
   "source": []
  }
 ],
 "metadata": {
  "kernelspec": {
   "display_name": "Python 3 (ipykernel)",
   "language": "python",
   "name": "python3"
  },
  "language_info": {
   "codemirror_mode": {
    "name": "ipython",
    "version": 3
   },
   "file_extension": ".py",
   "mimetype": "text/x-python",
   "name": "python",
   "nbconvert_exporter": "python",
   "pygments_lexer": "ipython3",
   "version": "3.9.7"
  }
 },
 "nbformat": 4,
 "nbformat_minor": 5
}
