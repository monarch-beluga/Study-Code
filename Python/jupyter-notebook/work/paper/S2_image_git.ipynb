{
 "cells": [
  {
   "cell_type": "code",
   "execution_count": null,
   "id": "e188c477",
   "metadata": {
    "ExecuteTime": {
     "end_time": "2021-10-19T02:30:44.405416Z",
     "start_time": "2021-10-19T02:30:43.659310Z"
    }
   },
   "outputs": [],
   "source": [
    "import geemap\n",
    "import ee\n",
    "from Monarch import user_gee"
   ]
  },
  {
   "cell_type": "code",
   "execution_count": null,
   "id": "ec83c4b0",
   "metadata": {
    "ExecuteTime": {
     "end_time": "2021-10-19T02:30:50.133390Z",
     "start_time": "2021-10-19T02:30:44.406417Z"
    }
   },
   "outputs": [],
   "source": [
    "Map = geemap.Map()\n",
    "Map"
   ]
  },
  {
   "cell_type": "code",
   "execution_count": null,
   "id": "1d315491",
   "metadata": {
    "ExecuteTime": {
     "end_time": "2021-10-19T02:30:51.358417Z",
     "start_time": "2021-10-19T02:30:50.134387Z"
    }
   },
   "outputs": [],
   "source": [
    "roi = geemap.geojson_to_ee(r'H:/Monarch/paper/Data/area.geojson').geometry()\n",
    "Map.center_object(roi, 12)\n",
    "Map.addLayer(roi, {}, 'roi')"
   ]
  },
  {
   "cell_type": "code",
   "execution_count": null,
   "id": "1e18c213",
   "metadata": {
    "ExecuteTime": {
     "end_time": "2021-10-19T02:30:51.373708Z",
     "start_time": "2021-10-19T02:30:51.360412Z"
    }
   },
   "outputs": [],
   "source": [
    "visParams = {'max': 3000, 'min': 0, 'bands': ['B4', 'B3', 'B2']}"
   ]
  },
  {
   "cell_type": "code",
   "execution_count": null,
   "id": "a8d5e825",
   "metadata": {
    "ExecuteTime": {
     "end_time": "2021-10-19T02:55:21.976927Z",
     "start_time": "2021-10-19T02:55:10.859987Z"
    }
   },
   "outputs": [],
   "source": [
    "for year in range(2018, 2019):\n",
    "    s2_year = []\n",
    "    for i in range(3, 12):\n",
    "        s2 = ee.ImageCollection(\"COPERNICUS/S2\")\\\n",
    "                .filterBounds(roi)\\\n",
    "                .sort('CLOUD_COVERAGE_ASSESSMENT', False)\\\n",
    "                .filterDate(str(year), str(year+1))\\\n",
    "                .filter(ee.Filter.calendarRange(i, i, 'month'))\\\n",
    "                .map(user_gee.rm_cloud_s2_sr)\n",
    "        a = s2.aggregate_array('system:time_start').map(lambda i: ee.Date(i).format('YYYY-MM-dd'))\n",
    "        s2_year.append(s2.mosaic().clip(roi).set('time', a.get(s2.size().subtract(1))))\n",
    "    s2_year = ee.ImageCollection(s2_year)\n",
    "    geemap.download_ee_video(s2_year, visParams, f'H:/Monarch/paper/Data/S2_image_Thumbnail_git/S2_{year}.gif')"
   ]
  },
  {
   "cell_type": "code",
   "execution_count": null,
   "id": "dc654a93",
   "metadata": {
    "ExecuteTime": {
     "end_time": "2021-10-19T02:56:59.230831Z",
     "start_time": "2021-10-19T02:56:58.852280Z"
    }
   },
   "outputs": [],
   "source": [
    "geemap.add_text_to_gif(f'H:/Monarch/paper/Data/S2_image_Thumbnail_git/S2_{year}.gif', f'H:/Monarch/paper/Data/S2_image_Thumbnail_git/S2_{year}_3.gif', xy=('3%', '5%'), text_sequence=a, \n",
    "                       font_size=20, font_color='#ffffff', duration=1000)"
   ]
  },
  {
   "cell_type": "code",
   "execution_count": null,
   "id": "272da064",
   "metadata": {
    "ExecuteTime": {
     "end_time": "2021-10-19T02:55:51.231825Z",
     "start_time": "2021-10-19T02:55:49.827885Z"
    }
   },
   "outputs": [],
   "source": [
    "a = s2_year.aggregate_array('time').getInfo()"
   ]
  },
  {
   "cell_type": "code",
   "execution_count": null,
   "id": "e1506ec7",
   "metadata": {
    "ExecuteTime": {
     "end_time": "2021-10-19T02:55:54.328109Z",
     "start_time": "2021-10-19T02:55:54.323123Z"
    }
   },
   "outputs": [],
   "source": [
    "a"
   ]
  },
  {
   "cell_type": "code",
   "execution_count": null,
   "id": "5b2b60b0",
   "metadata": {},
   "outputs": [],
   "source": []
  }
 ],
 "metadata": {
  "kernelspec": {
   "display_name": "Python 3 (ipykernel)",
   "language": "python",
   "name": "python3"
  },
  "language_info": {
   "codemirror_mode": {
    "name": "ipython",
    "version": 3
   },
   "file_extension": ".py",
   "mimetype": "text/x-python",
   "name": "python",
   "nbconvert_exporter": "python",
   "pygments_lexer": "ipython3",
   "version": "3.9.7"
  }
 },
 "nbformat": 4,
 "nbformat_minor": 5
}
