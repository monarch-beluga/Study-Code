{
 "cells": [
  {
   "cell_type": "code",
   "execution_count": 1,
   "id": "80bbc770",
   "metadata": {
    "ExecuteTime": {
     "end_time": "2021-11-22T01:00:49.854233Z",
     "start_time": "2021-11-22T01:00:40.567801Z"
    }
   },
   "outputs": [
    {
     "data": {
      "application/vnd.jupyter.widget-view+json": {
       "model_id": "ddeb051872224bfcbf0d7fcfa377db5f",
       "version_major": 2,
       "version_minor": 0
      },
      "text/plain": [
       "Map(center=[30, 112], controls=(WidgetControl(options=['position', 'transparent_bg'], widget=HBox(children=(To…"
      ]
     },
     "metadata": {},
     "output_type": "display_data"
    }
   ],
   "source": [
    "import geemap\n",
    "import ee\n",
    "\n",
    "Map = geemap.Map(center=[30, 112])\n",
    "Map"
   ]
  },
  {
   "cell_type": "code",
   "execution_count": 3,
   "id": "7ce55f7c",
   "metadata": {
    "ExecuteTime": {
     "end_time": "2021-11-22T01:02:50.012414Z",
     "start_time": "2021-11-22T01:02:50.003439Z"
    }
   },
   "outputs": [],
   "source": [
    "roi = Map.draw_last_feature.geometry()"
   ]
  },
  {
   "cell_type": "code",
   "execution_count": 4,
   "id": "7bb9b37d",
   "metadata": {
    "ExecuteTime": {
     "end_time": "2021-11-22T01:02:51.319063Z",
     "start_time": "2021-11-22T01:02:51.303106Z"
    }
   },
   "outputs": [],
   "source": [
    "image = ee.ImageCollection(\"COPERNICUS/CORINE/V20/100m\")\\\n",
    "        .filterDate('2017', '2019').first()"
   ]
  },
  {
   "cell_type": "code",
   "execution_count": 5,
   "id": "7d52ca39",
   "metadata": {
    "ExecuteTime": {
     "end_time": "2021-11-22T01:02:58.616026Z",
     "start_time": "2021-11-22T01:02:58.059431Z"
    }
   },
   "outputs": [],
   "source": [
    "Map.addLayer(image, {}, 'img')"
   ]
  },
  {
   "cell_type": "code",
   "execution_count": null,
   "id": "c24a0a12",
   "metadata": {},
   "outputs": [],
   "source": []
  }
 ],
 "metadata": {
  "kernelspec": {
   "display_name": "Python 3 (ipykernel)",
   "language": "python",
   "name": "python3"
  },
  "language_info": {
   "codemirror_mode": {
    "name": "ipython",
    "version": 3
   },
   "file_extension": ".py",
   "mimetype": "text/x-python",
   "name": "python",
   "nbconvert_exporter": "python",
   "pygments_lexer": "ipython3",
   "version": "3.9.7"
  }
 },
 "nbformat": 4,
 "nbformat_minor": 5
}
