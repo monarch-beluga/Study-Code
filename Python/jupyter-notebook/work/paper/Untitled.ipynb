{
 "cells": [
  {
   "cell_type": "code",
   "execution_count": null,
   "id": "80bbc770",
   "metadata": {
    "ExecuteTime": {
     "end_time": "2021-12-20T01:46:50.727745Z",
     "start_time": "2021-12-20T01:46:41.791230Z"
    }
   },
   "outputs": [],
   "source": [
    "import geemap\n",
    "import ee\n",
    "\n",
    "Map = geemap.Map(center=[30, 112])\n",
    "Map"
   ]
  },
  {
   "cell_type": "code",
   "execution_count": null,
   "id": "713d64eb",
   "metadata": {
    "ExecuteTime": {
     "end_time": "2021-12-20T01:46:50.743731Z",
     "start_time": "2021-12-20T01:46:50.728743Z"
    }
   },
   "outputs": [],
   "source": [
    "roi_file = r'H:/Monarch/paper/Data/jiujiang.shp'\n",
    "point_file = r'H:/Monarch/paper/Data/landuse/points.shp'"
   ]
  },
  {
   "cell_type": "code",
   "execution_count": null,
   "id": "7ce55f7c",
   "metadata": {
    "ExecuteTime": {
     "end_time": "2021-12-20T01:46:53.652006Z",
     "start_time": "2021-12-20T01:46:50.744701Z"
    }
   },
   "outputs": [],
   "source": [
    "roi = geemap.shp_to_ee(roi_file)\n",
    "psv = geemap.shp_to_ee(point_file)"
   ]
  },
  {
   "cell_type": "code",
   "execution_count": null,
   "id": "ed3fbd89",
   "metadata": {
    "ExecuteTime": {
     "end_time": "2021-12-20T01:47:05.808572Z",
     "start_time": "2021-12-20T01:46:53.654001Z"
    }
   },
   "outputs": [],
   "source": [
    "Map.addLayer(roi, {}, 'roi')\n",
    "Map.addLayer(psv, {'color': 'FF0000'}, 'ps')"
   ]
  },
  {
   "cell_type": "code",
   "execution_count": null,
   "id": "7bb9b37d",
   "metadata": {
    "ExecuteTime": {
     "end_time": "2021-12-20T01:47:05.840174Z",
     "start_time": "2021-12-20T01:47:05.809539Z"
    }
   },
   "outputs": [],
   "source": [
    "from Monarch import user_gee\n",
    "year = 2019\n",
    "s2_year = []\n",
    "for i in range(3, 12):\n",
    "    s2 = ee.ImageCollection(\"COPERNICUS/S2\")\\\n",
    "            .filterBounds(roi)\\\n",
    "            .sort('CLOUD_COVERAGE_ASSESSMENT', False)\\\n",
    "            .filterDate(str(year), str(year+1))\\\n",
    "            .filter(ee.Filter.calendarRange(i, i, 'month'))\n",
    "    s2_rm_cloud = s2.map(user_gee.rm_cloud_s2_sr)\n",
    "    s2_z = s2.merge(s2_rm_cloud)\n",
    "    a = s2.aggregate_array('system:time_start').map(lambda i: ee.Date(i).format('YYYY-MM-dd'))\n",
    "    s2_year.append(s2_z.mosaic().select('B[1-7]').clip(roi).set('time', a.get(s2.size().subtract(1))))"
   ]
  },
  {
   "cell_type": "code",
   "execution_count": null,
   "id": "f87f7916",
   "metadata": {
    "ExecuteTime": {
     "end_time": "2021-12-20T02:17:39.374092Z",
     "start_time": "2021-12-20T02:17:39.356110Z"
    },
    "scrolled": true
   },
   "outputs": [],
   "source": [
    "image = ee.ImageCollection(s2_year).toBands()"
   ]
  },
  {
   "cell_type": "code",
   "execution_count": null,
   "id": "17890a03",
   "metadata": {
    "ExecuteTime": {
     "end_time": "2021-12-20T02:15:31.752179Z",
     "start_time": "2021-12-20T02:14:28.415993Z"
    }
   },
   "outputs": [],
   "source": [
    "image.bandNames().getInfo()"
   ]
  },
  {
   "cell_type": "code",
   "execution_count": null,
   "id": "829cfa66",
   "metadata": {
    "ExecuteTime": {
     "end_time": "2021-12-20T02:18:46.634382Z",
     "start_time": "2021-12-20T02:17:43.334192Z"
    }
   },
   "outputs": [],
   "source": [
    "Map.addLayer(image, {}, 'i')"
   ]
  },
  {
   "cell_type": "code",
   "execution_count": null,
   "id": "e7b1e3fa",
   "metadata": {
    "ExecuteTime": {
     "end_time": "2021-12-20T01:50:14.794753Z",
     "start_time": "2021-12-20T01:50:14.786775Z"
    }
   },
   "outputs": [],
   "source": [
    "ps = psv.filter(ee.Filter.lte('CID', 50))\n",
    "ps_y = psv.filter(ee.Filter.gt('CID', 50))"
   ]
  },
  {
   "cell_type": "code",
   "execution_count": null,
   "id": "a2598d33",
   "metadata": {
    "ExecuteTime": {
     "end_time": "2021-12-18T01:36:36.818649Z",
     "start_time": "2021-12-18T01:36:35.027119Z"
    }
   },
   "outputs": [],
   "source": [
    "ps.first().getInfo()"
   ]
  },
  {
   "cell_type": "code",
   "execution_count": null,
   "id": "ce12730a",
   "metadata": {
    "ExecuteTime": {
     "end_time": "2021-12-20T01:50:16.408409Z",
     "start_time": "2021-12-20T01:50:16.390458Z"
    }
   },
   "outputs": [],
   "source": [
    "label = 'RASTERVALU'\n",
    "\n",
    "training = image.sampleRegions(**{\n",
    "  'collection': ps,\n",
    "  'properties': [label],\n",
    "  'scale': 10\n",
    "})\n",
    "# 使用Cart(分类与回归树)\n",
    "trained = ee.Classifier.smileCart().train(training, label)"
   ]
  },
  {
   "cell_type": "code",
   "execution_count": null,
   "id": "f779b6c8",
   "metadata": {
    "ExecuteTime": {
     "end_time": "2021-12-20T01:51:20.601048Z",
     "start_time": "2021-12-20T01:50:18.294823Z"
    }
   },
   "outputs": [],
   "source": [
    "training.first().getInfo()"
   ]
  },
  {
   "cell_type": "code",
   "execution_count": null,
   "id": "c24a0a12",
   "metadata": {
    "ExecuteTime": {
     "end_time": "2021-12-18T01:17:00.383705Z",
     "start_time": "2021-12-18T01:15:58.292274Z"
    }
   },
   "outputs": [],
   "source": [
    "result = image.classify(trained)\n",
    "\n",
    "Map.addLayer(result.randomVisualizer(), {}, 'classfied')\n",
    "Map"
   ]
  },
  {
   "cell_type": "code",
   "execution_count": null,
   "id": "e72dfcc6",
   "metadata": {
    "ExecuteTime": {
     "end_time": "2021-12-14T02:25:02.284286Z",
     "start_time": "2021-12-14T02:24:59.551878Z"
    }
   },
   "outputs": [],
   "source": [
    "a = psv.aggregate_array('RASTERVALU').getInfo()"
   ]
  },
  {
   "cell_type": "code",
   "execution_count": null,
   "id": "66152d77",
   "metadata": {
    "ExecuteTime": {
     "end_time": "2021-12-14T02:25:26.775377Z",
     "start_time": "2021-12-14T02:25:26.767429Z"
    }
   },
   "outputs": [],
   "source": [
    "b = set(a)"
   ]
  },
  {
   "cell_type": "code",
   "execution_count": null,
   "id": "4ed4e473",
   "metadata": {
    "ExecuteTime": {
     "end_time": "2021-12-14T02:25:30.221082Z",
     "start_time": "2021-12-14T02:25:30.209142Z"
    }
   },
   "outputs": [],
   "source": [
    "b"
   ]
  },
  {
   "cell_type": "code",
   "execution_count": null,
   "id": "129ff66f",
   "metadata": {},
   "outputs": [],
   "source": []
  }
 ],
 "metadata": {
  "kernelspec": {
   "display_name": "Python 3 (ipykernel)",
   "language": "python",
   "name": "python3"
  },
  "language_info": {
   "codemirror_mode": {
    "name": "ipython",
    "version": 3
   },
   "file_extension": ".py",
   "mimetype": "text/x-python",
   "name": "python",
   "nbconvert_exporter": "python",
   "pygments_lexer": "ipython3",
   "version": "3.9.6"
  }
 },
 "nbformat": 4,
 "nbformat_minor": 5
}
