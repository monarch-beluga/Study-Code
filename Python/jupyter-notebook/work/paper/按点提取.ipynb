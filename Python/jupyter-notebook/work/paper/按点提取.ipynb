{
 "cells": [
  {
   "cell_type": "code",
   "execution_count": 1,
   "metadata": {},
   "outputs": [],
   "source": [
    "import geemap\n",
    "import ee"
   ]
  },
  {
   "cell_type": "code",
   "execution_count": 2,
   "metadata": {
    "scrolled": true
   },
   "outputs": [
    {
     "data": {
      "application/vnd.jupyter.widget-view+json": {
       "model_id": "79bad1b532d84cc0895bd10efa39737a",
       "version_major": 2,
       "version_minor": 0
      },
      "text/plain": [
       "Map(center=[40, -100], controls=(WidgetControl(options=['position'], widget=HBox(children=(ToggleButton(value=…"
      ]
     },
     "metadata": {},
     "output_type": "display_data"
    }
   ],
   "source": [
    "Map = geemap.Map()\n",
    "Map"
   ]
  },
  {
   "cell_type": "code",
   "execution_count": null,
   "metadata": {},
   "outputs": [],
   "source": [
    "geemap.extract_values_to_points()"
   ]
  },
  {
   "cell_type": "code",
   "execution_count": null,
   "metadata": {},
   "outputs": [],
   "source": [
    "# 导入需要提取的图像\n",
    "MOD13 = ee.ImageCollection('MODIS/006/MOD13A2')\\\n",
    "    .filterDate('2018-01', '2018-02').first().select('NDVI')\n",
    "\n",
    "Map.addLayer(MOD13, {}, 'MOD13')"
   ]
  },
  {
   "cell_type": "code",
   "execution_count": null,
   "metadata": {
    "scrolled": true
   },
   "outputs": [],
   "source": [
    "# 在Map上建立点集\n",
    "temp_point = ee.FeatureCollection(Map.draw_features)\n",
    "temp_point.getInfo()"
   ]
  },
  {
   "cell_type": "code",
   "execution_count": null,
   "metadata": {
    "scrolled": true
   },
   "outputs": [],
   "source": [
    "# 点值提取\n",
    "temp = MOD13.sampleRegions(temp_point, geometries=True)\n",
    "temp.getInfo()"
   ]
  },
  {
   "cell_type": "code",
   "execution_count": null,
   "metadata": {
    "scrolled": true
   },
   "outputs": [],
   "source": [
    "# 将要提取的值设置为一个属性，并填充为-9999\n",
    "def setNDVI(feature):\n",
    "    return feature.set('NDVI', -9999)\n",
    "temp_point1 = temp_point.map(setNDVI)\n",
    "temp_point1.getInfo()"
   ]
  },
  {
   "cell_type": "code",
   "execution_count": null,
   "metadata": {
    "scrolled": true
   },
   "outputs": [],
   "source": [
    "# 修改点值提取后的要素集的id\n",
    "temp1 = ee.List([])\n",
    "def setID1(feature, List):\n",
    "    feature1 = feature.set('system:index', ee.String(feature.get('system:index')).split('_').get(0))\n",
    "    return ee.List(List).add(feature1)\n",
    "temp2 = ee.FeatureCollection(ee.List(temp.iterate(setID1, temp1)))\n",
    "temp2.getInfo()"
   ]
  },
  {
   "cell_type": "code",
   "execution_count": null,
   "metadata": {},
   "outputs": [],
   "source": [
    "# 筛选空值\n",
    "filter = ee.Filter.equals(\n",
    "  leftField='system:index',\n",
    "  rightField='system:index'\n",
    ")\n",
    "simpleJoin = ee.Join.inverted()\n",
    "simpleJoined = simpleJoin.apply(temp_point1, temp2, filter)\n",
    "\n",
    "simpleJoined.getInfo()"
   ]
  },
  {
   "cell_type": "code",
   "execution_count": null,
   "metadata": {},
   "outputs": [],
   "source": [
    "# 合并要素集\n",
    "temp3 = temp2.merge(simpleJoined)\n",
    "temp3.getInfo()"
   ]
  },
  {
   "cell_type": "code",
   "execution_count": null,
   "metadata": {
    "scrolled": true
   },
   "outputs": [],
   "source": [
    "temp4 = ee.List([])\n",
    "def setID2(feature, List):\n",
    "    feature1 = feature.set('system:index', ee.String(feature.get('system:index')).split('_').get(-1))\n",
    "    feature1 = feature1.set('lon', ee.List(feature.geometry().coordinates().get(0)))\n",
    "    feature1 = feature1.set('lat', ee.List(feature.geometry().coordinates().get(1)))\n",
    "    return ee.List(List).add(feature1)\n",
    "temp5 = ee.FeatureCollection(ee.List(temp3.iterate(setID2, temp1))).sort('system:index')\n",
    "temp5.getInfo()"
   ]
  },
  {
   "cell_type": "code",
   "execution_count": null,
   "metadata": {},
   "outputs": [],
   "source": [
    "geemap.ee_to_shp(temp5, 'temp2.shp')"
   ]
  },
  {
   "cell_type": "code",
   "execution_count": null,
   "metadata": {},
   "outputs": [],
   "source": [
    "ee.List(temp5.first().geometry().coordinates()).get(0).getInfo()"
   ]
  },
  {
   "cell_type": "code",
   "execution_count": null,
   "metadata": {},
   "outputs": [],
   "source": [
    "temp5.geometry().coordinates().getInfo()"
   ]
  },
  {
   "cell_type": "code",
   "execution_count": null,
   "metadata": {},
   "outputs": [],
   "source": []
  }
 ],
 "metadata": {
  "kernelspec": {
   "display_name": "Python 3",
   "language": "python",
   "name": "python3"
  },
  "language_info": {
   "codemirror_mode": {
    "name": "ipython",
    "version": 3
   },
   "file_extension": ".py",
   "mimetype": "text/x-python",
   "name": "python",
   "nbconvert_exporter": "python",
   "pygments_lexer": "ipython3",
   "version": "3.8.5"
  },
  "varInspector": {
   "cols": {
    "lenName": 16,
    "lenType": 16,
    "lenVar": 40
   },
   "kernels_config": {
    "python": {
     "delete_cmd_postfix": "",
     "delete_cmd_prefix": "del ",
     "library": "var_list.py",
     "varRefreshCmd": "print(var_dic_list())"
    },
    "r": {
     "delete_cmd_postfix": ") ",
     "delete_cmd_prefix": "rm(",
     "library": "var_list.r",
     "varRefreshCmd": "cat(var_dic_list()) "
    }
   },
   "oldHeight": 122.22178,
   "position": {
    "height": "40px",
    "left": "794.01px",
    "right": "20px",
    "top": "120px",
    "width": "250.434px"
   },
   "types_to_exclude": [
    "module",
    "function",
    "builtin_function_or_method",
    "instance",
    "_Feature"
   ],
   "varInspector_section_display": "none",
   "window_display": true
  }
 },
 "nbformat": 4,
 "nbformat_minor": 4
}
