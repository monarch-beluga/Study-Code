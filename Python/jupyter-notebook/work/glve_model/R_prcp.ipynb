{
 "cells": [
  {
   "cell_type": "code",
   "execution_count": null,
   "id": "8516811b",
   "metadata": {},
   "outputs": [],
   "source": [
    "import geemap\n",
    "import ee\n",
    "import os\n",
    "from concurrent.futures.thread import ThreadPoolExecutor"
   ]
  },
  {
   "cell_type": "code",
   "execution_count": null,
   "id": "ab164903",
   "metadata": {},
   "outputs": [],
   "source": [
    "user_gee.sg_images()"
   ]
  },
  {
   "cell_type": "code",
   "execution_count": null,
   "id": "84ebdb0c",
   "metadata": {
    "scrolled": false
   },
   "outputs": [],
   "source": [
    "Map = geemap.Map()\n",
    "Map"
   ]
  },
  {
   "cell_type": "code",
   "execution_count": null,
   "id": "69ef6f92",
   "metadata": {},
   "outputs": [],
   "source": [
    "roi = geemap.shp_to_ee(r'E:/Data/clip/roi.shp')\n",
    "Map.addLayer(roi, {}, 'roi')"
   ]
  },
  {
   "cell_type": "code",
   "execution_count": null,
   "id": "2e8ead77",
   "metadata": {},
   "outputs": [],
   "source": [
    "re = 10\n",
    "n = 2\n",
    "path = r'F:/r_factor/'\n",
    "os.chdir(path)"
   ]
  },
  {
   "cell_type": "code",
   "execution_count": null,
   "id": "ff640a82",
   "metadata": {},
   "outputs": [],
   "source": [
    "def re_value(img):\n",
    "    n_id = img.get('system:id')\n",
    "    img = img.clip(roi.geometry()).multiply(1000)\n",
    "    mask = img.gt(re)\n",
    "    return img.multiply(mask).set('system:id', n_id)"
   ]
  },
  {
   "cell_type": "code",
   "execution_count": null,
   "id": "ba8dd9d4",
   "metadata": {},
   "outputs": [],
   "source": [
    "re_value()"
   ]
  },
  {
   "cell_type": "code",
   "execution_count": null,
   "id": "54548d6e",
   "metadata": {},
   "outputs": [],
   "source": [
    "images = ee.ImageCollection(\"ECMWF/ERA5/DAILY\").filterDate('2019-01-01', '2020-07-06')"
   ]
  },
  {
   "cell_type": "code",
   "execution_count": null,
   "id": "027a016f",
   "metadata": {},
   "outputs": [],
   "source": [
    "images.first().getInfo()"
   ]
  },
  {
   "cell_type": "code",
   "execution_count": null,
   "id": "d5024be1",
   "metadata": {},
   "outputs": [],
   "source": [
    "nemas = images.aggregate_array('system:index').getInfo()"
   ]
  },
  {
   "cell_type": "code",
   "execution_count": null,
   "id": "d0ac14f1",
   "metadata": {},
   "outputs": [],
   "source": [
    "for year in range(2019, 2021):\n",
    "    images = ee.ImageCollection(\"ECMWF/ERA5/DAILY\")\\\n",
    "            .filterDate(str(year), str(year+1))\n",
    "\n",
    "    names = images.aggregate_array('system:id').getInfo()\n",
    "    \n",
    "    def dow(i):\n",
    "        start = i\n",
    "        end = i+8\n",
    "        if end > len(names):\n",
    "            end = len(names)\n",
    "        imgs = [ee.Image(names[j]) for j in range(start, end)]\n",
    "        img = ee.ImageCollection(imgs).select('total_precipitation')\\\n",
    "                .map(re_value).sum()\n",
    "        name = names[i].split('/')[-1]\n",
    "        month = int(name) % 10000 // 100\n",
    "        if (month >= 5) and (month <= 9):\n",
    "            a = 0.3937\n",
    "        else:\n",
    "            a = 0.3101\n",
    "        r_img = img.pow(1.7265).multiply(a).divide(n)\n",
    "        geemap.ee_export_image(r_img, r'r_factor_{0}.tif'.format(name), \n",
    "                               scale=1000, crs='epsg:3857', region=roi.geometry())    \n",
    "    \n",
    "    length = images.size().getInfo()\n",
    "    List = list(range(0, length, 8))\n",
    "    with ThreadPoolExecutor(max_workers=10) as executor:\n",
    "        executor.map(dow, List)"
   ]
  },
  {
   "cell_type": "code",
   "execution_count": null,
   "id": "22f9d795",
   "metadata": {},
   "outputs": [],
   "source": []
  }
 ],
 "metadata": {
  "kernelspec": {
   "display_name": "Python 3 (ipykernel)",
   "language": "python",
   "name": "python3"
  },
  "language_info": {
   "codemirror_mode": {
    "name": "ipython",
    "version": 3
   },
   "file_extension": ".py",
   "mimetype": "text/x-python",
   "name": "python",
   "nbconvert_exporter": "python",
   "pygments_lexer": "ipython3",
   "version": "3.9.6"
  }
 },
 "nbformat": 4,
 "nbformat_minor": 5
}
