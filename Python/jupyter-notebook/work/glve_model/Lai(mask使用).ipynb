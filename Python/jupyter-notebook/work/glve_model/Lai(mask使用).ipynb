{
 "cells": [
  {
   "cell_type": "code",
   "execution_count": 1,
   "id": "36e17ffe",
   "metadata": {},
   "outputs": [],
   "source": [
    "import geemap\n",
    "import ee"
   ]
  },
  {
   "cell_type": "code",
   "execution_count": 2,
   "id": "9d2afba7",
   "metadata": {
    "scrolled": false
   },
   "outputs": [
    {
     "data": {
      "application/vnd.jupyter.widget-view+json": {
       "model_id": "e837ccd7800b4d7a85c46faf73f723d5",
       "version_major": 2,
       "version_minor": 0
      },
      "text/plain": [
       "Map(center=[40, -100], controls=(WidgetControl(options=['position', 'transparent_bg'], widget=HBox(children=(T…"
      ]
     },
     "metadata": {},
     "output_type": "display_data"
    }
   ],
   "source": [
    "Map = geemap.Map()\n",
    "Map"
   ]
  },
  {
   "cell_type": "code",
   "execution_count": 4,
   "id": "0538289e",
   "metadata": {},
   "outputs": [],
   "source": [
    "roi = Map.draw_last_feature.geometry()"
   ]
  },
  {
   "cell_type": "code",
   "execution_count": 5,
   "id": "b07c1274",
   "metadata": {},
   "outputs": [],
   "source": [
    "images = ee.ImageCollection(\"MODIS/006/MOD15A2H\").filterDate('2015', '2021').select('Lai_500m')"
   ]
  },
  {
   "cell_type": "code",
   "execution_count": 6,
   "id": "a579ee09",
   "metadata": {},
   "outputs": [],
   "source": [
    "colorizedVis = {\n",
    "  'min': 0,\n",
    "  'max': 100,\n",
    "  'palette': [\n",
    "    'FFFFFF', 'CE7E45', 'DF923D', 'F1B555', 'FCD163', '99B718', '74A901',\n",
    "    '66A000', '529400', '3E8601', '207401', '056201', '004C00', '023B01',\n",
    "    '012E01', '011D01', '011301'\n",
    "  ],\n",
    "};"
   ]
  },
  {
   "cell_type": "code",
   "execution_count": 7,
   "id": "92ed7c3c",
   "metadata": {},
   "outputs": [
    {
     "data": {
      "text/plain": [
       "275"
      ]
     },
     "execution_count": 7,
     "metadata": {},
     "output_type": "execute_result"
    }
   ],
   "source": [
    "img_n = images.size().getInfo()\n",
    "img_n"
   ]
  },
  {
   "cell_type": "code",
   "execution_count": 8,
   "id": "c9bb3f1a",
   "metadata": {},
   "outputs": [],
   "source": [
    "img_min = images.toBands().toArray().arraySort().arrayGet([img_n*10//100])\n",
    "img_max = images.toBands().toArray().arraySort().arrayGet([img_n*90//100])"
   ]
  },
  {
   "cell_type": "code",
   "execution_count": 16,
   "id": "c2895521",
   "metadata": {},
   "outputs": [],
   "source": [
    "img = ee.Image([img_max.clip(roi), img_min.clip(roi)])\n",
    "img = ee.Image([img, img, img])"
   ]
  },
  {
   "cell_type": "code",
   "execution_count": 9,
   "id": "d5f25b80",
   "metadata": {},
   "outputs": [],
   "source": [
    "Map.addLayer(img_min.clip(roi), colorizedVis, 'a')"
   ]
  },
  {
   "cell_type": "code",
   "execution_count": 20,
   "id": "6fa2581f",
   "metadata": {},
   "outputs": [
    {
     "name": "stdout",
     "output_type": "stream",
     "text": [
      "Generating URL ...\n",
      "Downloading data from https://earthengine.googleapis.com/v1alpha/projects/earthengine-legacy/thumbnails/f0e35ebb87670186c7a90b9b81ea1e67-cd77733003a489d7e57f2230611f2eb0:getPixels\n",
      "Please wait ...\n",
      "An error occurred while downloading.\n",
      "download successful !!!\n"
     ]
    }
   ],
   "source": [
    "clip_dow_merge(roi, img_max, outfile=r'H:/Monarch/Data/Lai',\n",
    "               scale=500, crs='EPSG:3857')"
   ]
  },
  {
   "cell_type": "code",
   "execution_count": 12,
   "id": "7cd29662",
   "metadata": {},
   "outputs": [
    {
     "name": "stdout",
     "output_type": "stream",
     "text": [
      "分割成4份, 开始下载:\n",
      "Generating URL ...\n",
      "Downloading data from https://earthengine.googleapis.com/v1alpha/projects/earthengine-legacy/thumbnails/24f2e4297a0892ecf620335e3defbb0e-9d6b53c0e7df6012492192cd4c03920e:getPixels\n",
      "Please wait ...\n",
      "Data downloaded to H:\\Monarch\\Data\\Lai_mix_mk\\temp_0.tif\n",
      "Generating URL ...\n",
      "Downloading data from https://earthengine.googleapis.com/v1alpha/projects/earthengine-legacy/thumbnails/f23ef0372a1e99cc66258774c69c9403-6930414bf45caef5f92065aec777fb34:getPixels\n",
      "Please wait ...\n",
      "Data downloaded to H:\\Monarch\\Data\\Lai_mix_mk\\temp_1.tif\n",
      "Generating URL ...\n",
      "Downloading data from https://earthengine.googleapis.com/v1alpha/projects/earthengine-legacy/thumbnails/1fdd557344a0f8b6d937528b64fea4bb-d7d6d0f109c76fd8036df107f44b3462:getPixels\n",
      "Please wait ...\n",
      "Data downloaded to H:\\Monarch\\Data\\Lai_mix_mk\\temp_2.tif\n",
      "Generating URL ...\n",
      "Downloading data from https://earthengine.googleapis.com/v1alpha/projects/earthengine-legacy/thumbnails/79bd2b87fb3c965303d5dff4f51977db-8614139f0a0dcd91632b19527ee9720b:getPixels\n",
      "Please wait ...\n",
      "Data downloaded to H:\\Monarch\\Data\\Lai_mix_mk\\temp_3.tif\n",
      "download successful !!!\n"
     ]
    }
   ],
   "source": [
    "clip_dow_merge(roi, img_min.clip(roi).unmask(), outfile=r'H:/Monarch/Data/Lai_mix',\n",
    "               scale=500, crs='EPSG:3857', sep=0.05)"
   ]
  },
  {
   "cell_type": "code",
   "execution_count": 13,
   "id": "2eefb56a",
   "metadata": {},
   "outputs": [
    {
     "name": "stdout",
     "output_type": "stream",
     "text": [
      "分割成4份, 开始下载:\n",
      "Generating URL ...\n",
      "Downloading data from https://earthengine.googleapis.com/v1alpha/projects/earthengine-legacy/thumbnails/09894255deba0e70ad9e58854b02e121-8d3274826aec139b91bbbb35b9cfd13b:getPixels\n",
      "Please wait ...\n",
      "Data downloaded to H:\\Monarch\\Data\\Lai_max_mk\\temp_0.tif\n",
      "Generating URL ...\n",
      "Downloading data from https://earthengine.googleapis.com/v1alpha/projects/earthengine-legacy/thumbnails/e8ce906539bdfb9f5d7bb44e57bc49e9-56e3565faebe3db6fc716143445c3726:getPixels\n",
      "Please wait ...\n",
      "Data downloaded to H:\\Monarch\\Data\\Lai_max_mk\\temp_1.tif\n",
      "Generating URL ...\n",
      "Downloading data from https://earthengine.googleapis.com/v1alpha/projects/earthengine-legacy/thumbnails/93df9028148d8cc893397127b76a8e61-21b48760d59c41a37dc48f0e0f5d79ec:getPixels\n",
      "Please wait ...\n",
      "Data downloaded to H:\\Monarch\\Data\\Lai_max_mk\\temp_2.tif\n",
      "Generating URL ...\n",
      "Downloading data from https://earthengine.googleapis.com/v1alpha/projects/earthengine-legacy/thumbnails/514dcd376829c459c1569df928ab6478-41d555d0002f8c3d47325a9003269052:getPixels\n",
      "Please wait ...\n",
      "Data downloaded to H:\\Monarch\\Data\\Lai_max_mk\\temp_3.tif\n",
      "download successful !!!\n"
     ]
    }
   ],
   "source": [
    "clip_dow_merge(roi, img_max.clip(roi), outfile=r'H:/Monarch/Data/Lai_max',\n",
    "               scale=500, crs='EPSG:3857', sep=0.05)"
   ]
  },
  {
   "cell_type": "code",
   "execution_count": 17,
   "id": "91aa786f",
   "metadata": {},
   "outputs": [],
   "source": [
    "def clip_dow_merge(geo: ee.Geometry, image: ee.Image, outfile: str, scale: int,\n",
    "                   crs='epsg:4326', sep=0.25):\n",
    "    \"\"\"\n",
    "\n",
    "    Args:\n",
    "        geo: ee.Geometry, 需要下载的区域矢量几何\n",
    "        image: ee.Image, 单波段影像\n",
    "        outfile: str, 输出文件路径和名称，不需要文件后缀，下载的影响默认后缀为tif\n",
    "        scale: int, 下载时的像元大小\n",
    "        crs: str, 下载影像的投影，默认为 'epsg:4326' wgs1984投影\n",
    "        sep: float, 单波段10m分辨率像元的影像裁剪大小(单位：经纬度)，默认为0.25\n",
    "    Returns: None\n",
    "\n",
    "    \"\"\"\n",
    "    import os\n",
    "    import numpy as np\n",
    "    import rasterio\n",
    "    from glob import glob\n",
    "    from rasterio.merge import merge\n",
    "    import shutil\n",
    "    bounds = geo.bounds()\n",
    "    bounds.getInfo()\n",
    "    poy = np.array(bounds.coordinates().getInfo()[0])\n",
    "    min_x = poy[:, 0].min()\n",
    "    max_x = poy[:, 0].max()\n",
    "    min_y = poy[:, 1].min()\n",
    "    max_y = poy[:, 1].max()\n",
    "    step = scale / 10 * sep\n",
    "    end_x = int((max_x - min_x) / step) + 1\n",
    "    end_y = int((max_y - min_y) / step) + 1\n",
    "    polys = []\n",
    "    for i in range(end_y):\n",
    "        y1 = min_y + step * i\n",
    "        y2 = min_y + step * (i + 1)\n",
    "        if y2 > max_y:\n",
    "            y2 = max_y\n",
    "        for j in range(end_x):\n",
    "            x1 = min_x + step * j\n",
    "            x2 = min_x + step * (j + 1)\n",
    "            if x2 > max_x:\n",
    "                x2 = max_x\n",
    "            poly = ee.Geometry(ee.Geometry.Rectangle([x1, y1, x2, y2]), None, False)\n",
    "            polys.append(poly)\n",
    "    if(len(polys) > 1):\n",
    "        print(f\"分割成{len(polys)}份, 开始下载:\")\n",
    "        path = outfile+'_mk'\n",
    "        if not os.path.exists(path):\n",
    "            os.makedirs(path)\n",
    "        for j, i in enumerate(polys):\n",
    "            geemap.ee_export_image(image, path+f'/temp_{j}.tif', scale=scale, crs=crs, region=i)\n",
    "        files = glob(path+\"/*.tif\")\n",
    "        src_files_to_mosaic = []\n",
    "        for tif_f in files:\n",
    "            src = rasterio.open(tif_f)\n",
    "            src_files_to_mosaic.append(src)\n",
    "        mosaic, out_trans = merge(src_files_to_mosaic)\n",
    "        out_meta = src.meta.copy()\n",
    "        out_meta.update({\"driver\": \"GTiff\",\n",
    "                         \"height\": mosaic.shape[1],\n",
    "                         \"width\": mosaic.shape[2],\n",
    "                         \"transform\": out_trans,\n",
    "                         })\n",
    "        with rasterio.open(outfile+\".tif\", \"w\", **out_meta) as dest:\n",
    "            dest.write(mosaic)\n",
    "        for src in src_files_to_mosaic:\n",
    "            src.close()\n",
    "        shutil.rmtree(path)\n",
    "    else:\n",
    "        geemap.ee_export_image(image, outfile+'.tif', scale=scale, crs=crs, region=geo)\n",
    "    print(\"download successful !!!\")"
   ]
  },
  {
   "cell_type": "code",
   "execution_count": null,
   "id": "dbc30155",
   "metadata": {},
   "outputs": [],
   "source": []
  }
 ],
 "metadata": {
  "kernelspec": {
   "display_name": "Python 3 (ipykernel)",
   "language": "python",
   "name": "python3"
  },
  "language_info": {
   "codemirror_mode": {
    "name": "ipython",
    "version": 3
   },
   "file_extension": ".py",
   "mimetype": "text/x-python",
   "name": "python",
   "nbconvert_exporter": "python",
   "pygments_lexer": "ipython3",
   "version": "3.9.7"
  }
 },
 "nbformat": 4,
 "nbformat_minor": 5
}
