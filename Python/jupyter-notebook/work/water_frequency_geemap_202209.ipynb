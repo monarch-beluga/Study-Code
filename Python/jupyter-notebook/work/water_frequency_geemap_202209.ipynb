{
 "cells": [
  {
   "cell_type": "code",
   "execution_count": 1,
   "id": "b7c21578",
   "metadata": {},
   "outputs": [
    {
     "data": {
      "application/vnd.jupyter.widget-view+json": {
       "model_id": "cc39d62b35cd4eb292279d7eded34b06",
       "version_major": 2,
       "version_minor": 0
      },
      "text/plain": [
       "Map(center=[30, 113], controls=(WidgetControl(options=['position', 'transparent_bg'], widget=HBox(children=(To…"
      ]
     },
     "metadata": {},
     "output_type": "display_data"
    }
   ],
   "source": [
    "import ee, os\n",
    "import geemap\n",
    "Map = geemap.Map(center=[30, 113], zoom=7) \n",
    "Map"
   ]
  },
  {
   "cell_type": "code",
   "execution_count": 2,
   "id": "081d4a19",
   "metadata": {},
   "outputs": [
    {
     "name": "stdout",
     "output_type": "stream",
     "text": [
      "2020-01-01\n",
      "2020-12-31\n"
     ]
    }
   ],
   "source": [
    "h = 110\n",
    "v = 25\n",
    "#Year\n",
    "IniYear = 2020\n",
    "\n",
    "LowLat = v\n",
    "UpLat = v+5\n",
    "LeftLon = h\n",
    "RightLon = h+5\n",
    "\n",
    "#Regions\n",
    "region = ee.Geometry.Rectangle(LeftLon,LowLat,RightLon,UpLat);\n",
    "Map.addLayer(region)\n",
    "\n",
    "dem = ee.Image('USGS/SRTMGL1_003')\n",
    "#Set region and starting and ending time\n",
    "start_date = str(IniYear) + '-01-01';\n",
    "end_date = str(IniYear) + '-12-31';\n",
    "print(start_date)\n",
    "print(end_date)"
   ]
  },
  {
   "cell_type": "code",
   "execution_count": 3,
   "id": "8a91eecd",
   "metadata": {},
   "outputs": [
    {
     "name": "stdout",
     "output_type": "stream",
     "text": [
      "Landsat8\n"
     ]
    }
   ],
   "source": [
    "collection8 = ee.ImageCollection('LANDSAT/LC08/C01/T1_SR')\\\n",
    "    .filterBounds(region)\\\n",
    "    .filterDate(start_date, end_date)\\\n",
    "    .select( #Rename LC8 bands same as L5/7\n",
    "      ['B2', 'B3', 'B4', 'B5', 'B6', 'B7']\n",
    "      ,['B1', 'B2', 'B3', 'B4', 'B5', 'B7'])\n",
    "print('Landsat8')\n",
    "# print(collection8.size().getInfo())"
   ]
  },
  {
   "cell_type": "code",
   "execution_count": 4,
   "id": "3bfa8618",
   "metadata": {},
   "outputs": [
    {
     "data": {
      "application/vnd.jupyter.widget-view+json": {
       "model_id": "cc39d62b35cd4eb292279d7eded34b06",
       "version_major": 2,
       "version_minor": 0
      },
      "text/plain": [
       "Map(center=[30, 113], controls=(WidgetControl(options=['position', 'transparent_bg'], widget=HBox(children=(To…"
      ]
     },
     "metadata": {},
     "output_type": "display_data"
    }
   ],
   "source": [
    "Map.addLayer(collection8.mosaic().toInt16().clip(region), {}, 'image')\n",
    "Map"
   ]
  },
  {
   "cell_type": "code",
   "execution_count": 5,
   "id": "bf82d7bd",
   "metadata": {},
   "outputs": [],
   "source": [
    "image = collection8.mosaic().toInt16().clip(region)"
   ]
  },
  {
   "cell_type": "code",
   "execution_count": null,
   "id": "45eea354",
   "metadata": {},
   "outputs": [
    {
     "name": "stdout",
     "output_type": "stream",
     "text": [
      "Total number of images: 20\n",
      "\n",
      "Generating URL ...\n",
      "Generating URL ...\n",
      "Generating URL ...\n",
      "Generating URL ...\n",
      "Generating URL ...\n",
      "Downloading data from https://earthengine.googleapis.com/v1alpha/projects/earthengine-legacy/thumbnails/537597296ce738a212b124f64c6c5a8e-dc5dfd4b0f75a0ff0c659f40f066002a:getPixels\n",
      "Please wait ...\n",
      "Downloading data from https://earthengine.googleapis.com/v1alpha/projects/earthengine-legacy/thumbnails/0929e57ea1939e8f10b6fcd670a1e9a2-ed1f84b1536db1ce1875d6a3a5142cb7:getPixels\n",
      "Please wait ...\n",
      "Downloading data from https://earthengine.googleapis.com/v1alpha/projects/earthengine-legacy/thumbnails/39c9d15842a64c5965b30075c05ef8d0-0fe2d666ecd05f0d568d625a2430505d:getPixels\n",
      "Please wait ...\n",
      "Data downloaded to E:\\Work\\TEMP_mk\\4.tif\n",
      "Generating URL ...\n",
      "Downloading data from https://earthengine.googleapis.com/v1alpha/projects/earthengine-legacy/thumbnails/9eaf3d6f1d4230d808a85e33dc12f25b-09a94201a7fd7d6e7d1a77a6ec23e541:getPixels\n",
      "Please wait ...\n",
      "An error occurred while downloading.\n",
      "HTTPSConnectionPool(host='earthengine.googleapis.com', port=443): Max retries exceeded with url: /v1alpha/projects/earthengine-legacy/thumbnails/9eaf3d6f1d4230d808a85e33dc12f25b-09a94201a7fd7d6e7d1a77a6ec23e541:getPixels (Caused by ProxyError('Cannot connect to proxy.', RemoteDisconnected('Remote end closed connection without response')))\n",
      "Generating URL ...\n",
      "Downloading data from https://earthengine.googleapis.com/v1alpha/projects/earthengine-legacy/thumbnails/35a89127415d4d24fa03d09fd387143a-858b66c7b446ff2beb756aad17ddf294:getPixels\n",
      "Please wait ...\n",
      "An error occurred while downloading.\n",
      "HTTPSConnectionPool(host='earthengine.googleapis.com', port=443): Max retries exceeded with url: /v1alpha/projects/earthengine-legacy/thumbnails/35a89127415d4d24fa03d09fd387143a-858b66c7b446ff2beb756aad17ddf294:getPixels (Caused by ProxyError('Cannot connect to proxy.', RemoteDisconnected('Remote end closed connection without response')))\n",
      "Generating URL ...\n",
      "Downloading data from https://earthengine.googleapis.com/v1alpha/projects/earthengine-legacy/thumbnails/66a7bfdc2de7f5db42023536e794fc5e-36a725764e0ec8a7e23d2239af859b55:getPixels\n",
      "Please wait ...\n",
      "Downloading data from https://earthengine.googleapis.com/v1alpha/projects/earthengine-legacy/thumbnails/2fe334df76c13c99e88cc076626b52b8-986d25f74de27aa4bf976f83443a10ae:getPixels\n",
      "Please wait ...\n",
      "Data downloaded to E:\\Work\\TEMP_mk\\2.tif\n",
      "Generating URL ...\n",
      "Downloading data from https://earthengine.googleapis.com/v1alpha/projects/earthengine-legacy/thumbnails/c0e7ce58d331bf21f9e97fe61f14dadf-e4b24c36d92024ca24ead782379b527a:getPixels\n",
      "Please wait ...\n",
      "An error occurred while downloading.\n",
      "HTTPSConnectionPool(host='earthengine.googleapis.com', port=443): Max retries exceeded with url: /v1alpha/projects/earthengine-legacy/thumbnails/c0e7ce58d331bf21f9e97fe61f14dadf-e4b24c36d92024ca24ead782379b527a:getPixels (Caused by ProxyError('Cannot connect to proxy.', RemoteDisconnected('Remote end closed connection without response')))\n",
      "Generating URL ...\n",
      "Data downloaded to E:\\Work\\TEMP_mk\\7.tif\n",
      "Generating URL ...\n",
      "Downloading data from https://earthengine.googleapis.com/v1alpha/projects/earthengine-legacy/thumbnails/bd4fc7a7c05df8a76d00f698de809400-7d17fac6dea055bb3f3534ef50468ada:getPixels\n",
      "Please wait ...\n",
      "Downloading data from https://earthengine.googleapis.com/v1alpha/projects/earthengine-legacy/thumbnails/335ba6369e4308ab6b267bd267ac05bc-814b2bbe60d00428092acf6e7aca177a:getPixels\n",
      "Please wait ...\n",
      "An error occurred while downloading.\n",
      "HTTPSConnectionPool(host='earthengine.googleapis.com', port=443): Max retries exceeded with url: /v1alpha/projects/earthengine-legacy/thumbnails/335ba6369e4308ab6b267bd267ac05bc-814b2bbe60d00428092acf6e7aca177a:getPixels (Caused by ProxyError('Cannot connect to proxy.', RemoteDisconnected('Remote end closed connection without response')))\n",
      "Generating URL ...\n",
      "Data downloaded to E:\\Work\\TEMP_mk\\9.tif\n",
      "Generating URL ...\n",
      "Data downloaded to E:\\Work\\TEMP_mk\\3.tif\n",
      "Generating URL ...\n",
      "Downloading data from https://earthengine.googleapis.com/v1alpha/projects/earthengine-legacy/thumbnails/bc68a3c2aea4caba9ab3389445298cbe-a5d81efad4f30dc85820561f1d9b10b3:getPixels\n",
      "Please wait ...\n",
      "Downloading data from https://earthengine.googleapis.com/v1alpha/projects/earthengine-legacy/thumbnails/a577ad29783e84bce2f05341ea4eec64-4b262eeec37d8b6952f086e21e471304:getPixels\n",
      "Please wait ...\n",
      "Downloading data from https://earthengine.googleapis.com/v1alpha/projects/earthengine-legacy/thumbnails/8d27ba05399b9663f433cd820f856717-c90e63df388b324e7de67ac018c481d5:getPixels\n",
      "Please wait ...\n",
      "Data downloaded to E:\\Work\\TEMP_mk\\0.tif\n",
      "Generating URL ...\n",
      "Downloading data from https://earthengine.googleapis.com/v1alpha/projects/earthengine-legacy/thumbnails/b9b386560ec24733cf22ab20455c9618-9fabdded96f61be8c320533e1c52fa06:getPixels\n",
      "Please wait ...\n",
      "Data downloaded to E:\\Work\\TEMP_mk\\14.tif\n",
      "Generating URL ...\n",
      "Downloading data from https://earthengine.googleapis.com/v1alpha/projects/earthengine-legacy/thumbnails/8eaa5c9a2b81fccf406efc194522d681-95c9018ba8ad041ff5d7c1a55b9ab4c7:getPixels\n",
      "Please wait ...\n",
      "An error occurred while downloading.\n",
      "HTTPSConnectionPool(host='earthengine.googleapis.com', port=443): Max retries exceeded with url: /v1alpha/projects/earthengine-legacy/thumbnails/8eaa5c9a2b81fccf406efc194522d681-95c9018ba8ad041ff5d7c1a55b9ab4c7:getPixels (Caused by ProxyError('Cannot connect to proxy.', RemoteDisconnected('Remote end closed connection without response')))\n",
      "Generating URL ...\n",
      "Downloading data from https://earthengine.googleapis.com/v1alpha/projects/earthengine-legacy/thumbnails/893738b50a64e7d66708e9c6d3052f4a-ee60152b33e0aed889e5b450c80ea250:getPixels\n",
      "Please wait ...\n",
      "An error occurred while downloading.\n",
      "HTTPSConnectionPool(host='earthengine.googleapis.com', port=443): Max retries exceeded with url: /v1alpha/projects/earthengine-legacy/thumbnails/893738b50a64e7d66708e9c6d3052f4a-ee60152b33e0aed889e5b450c80ea250:getPixels (Caused by ProxyError('Cannot connect to proxy.', RemoteDisconnected('Remote end closed connection without response')))\n",
      "Generating URL ...\n",
      "Downloading data from https://earthengine.googleapis.com/v1alpha/projects/earthengine-legacy/thumbnails/87e06ca9192254491fd78e7f4a109026-777c59a43164009d369745934f2f1b08:getPixels\n",
      "Please wait ...\n",
      "Data downloaded to E:\\Work\\TEMP_mk\\13.tif\n",
      "Generating URL ...\n",
      "An error occurred while downloading.\n",
      "HTTPSConnectionPool(host='earthengine.googleapis.com', port=443): Max retries exceeded with url: /v1alpha/projects/earthengine-legacy/thumbnails/87e06ca9192254491fd78e7f4a109026-777c59a43164009d369745934f2f1b08:getPixels (Caused by ProxyError('Cannot connect to proxy.', RemoteDisconnected('Remote end closed connection without response')))\n",
      "Generating URL ...\n",
      "Downloading data from https://earthengine.googleapis.com/v1alpha/projects/earthengine-legacy/thumbnails/4171113568190d228084cd43c23ef095-fb5700ba80be3cd222ff9f7601dd3fb1:getPixels\n",
      "Please wait ...\n",
      "An error occurred while downloading.\n",
      "HTTPSConnectionPool(host='earthengine.googleapis.com', port=443): Max retries exceeded with url: /v1alpha/projects/earthengine-legacy/thumbnails/4171113568190d228084cd43c23ef095-fb5700ba80be3cd222ff9f7601dd3fb1:getPixels (Caused by ProxyError('Cannot connect to proxy.', RemoteDisconnected('Remote end closed connection without response')))\n",
      "Downloading data from https://earthengine.googleapis.com/v1alpha/projects/earthengine-legacy/thumbnails/275bd56c475a137fb19b3e71b4e2682c-336ee23ee093042e245ae40097b21734:getPixels\n",
      "Please wait ...\n",
      "Data downloaded to E:\\Work\\TEMP_mk\\19.tif\n",
      "Downloading data from https://earthengine.googleapis.com/v1alpha/projects/earthengine-legacy/thumbnails/9291791499dc4706ba01a3524c5698b7-75b684fd059b35d06299d79e569820a5:getPixels\n",
      "Please wait ...\n",
      "An error occurred while downloading.\n",
      "HTTPSConnectionPool(host='earthengine.googleapis.com', port=443): Max retries exceeded with url: /v1alpha/projects/earthengine-legacy/thumbnails/9291791499dc4706ba01a3524c5698b7-75b684fd059b35d06299d79e569820a5:getPixels (Caused by ProxyError('Cannot connect to proxy.', ConnectionResetError(10054, '远程主机强迫关闭了一个现有的连接。', None, 10054, None)))\n",
      "An error occurred while downloading.An error occurred while downloading.\n",
      "(\"Connection broken: ConnectionResetError(10054, '远程主机强迫关闭了一个现有的连接。', None, 10054, None)\", ConnectionResetError(10054, '远程主机强迫关闭了一个现有的连接。', None, 10054, None))\n",
      "\n",
      "(\"Connection broken: ConnectionResetError(10054, '远程主机强迫关闭了一个现有的连接。', None, 10054, None)\", ConnectionResetError(10054, '远程主机强迫关闭了一个现有的连接。', None, 10054, None))\n",
      "Total number of images: 20\n",
      "\n",
      "Generating URL ...\n",
      "Generating URL ...Generating URL ...\n",
      "Generating URL ...\n",
      "\n",
      "Generating URL ...\n"
     ]
    },
    {
     "name": "stdout",
     "output_type": "stream",
     "text": [
      "Downloading data from https://earthengine.googleapis.com/v1alpha/projects/earthengine-legacy/thumbnails/a577ad29783e84bce2f05341ea4eec64-05b5537d4614ed913e242285e4b0e212:getPixels\n",
      "Please wait ...\n",
      "File is not a zip file\n",
      "Generating URL ...\n",
      "An error occurred while downloading.\n",
      "[Errno 9] Bad file descriptor\n",
      "Generating URL ...\n",
      "An error occurred while downloading.An error occurred while downloading.\n",
      "[Errno 9] Bad file descriptor\n",
      "\n",
      "An error occurred while downloading.[Errno 9] Bad file descriptor\n",
      "An error occurred while downloading.\n",
      "[Errno 9] Bad file descriptor\n",
      "Generating URL ...\n",
      "Generating URL ...Generating URL ...\n",
      "\n",
      "\n",
      "[Errno 9] Bad file descriptor\n",
      "Generating URL ...\n",
      "An error occurred while downloading.An error occurred while downloading.An error occurred while downloading.\n",
      "[Errno 9] Bad file descriptor\n",
      "\n",
      "[Errno 9] Bad file descriptor\n",
      "\n",
      "[Errno 9] Bad file descriptor\n",
      "An error occurred while downloading.\n",
      "[Errno 9] Bad file descriptor\n",
      "An error occurred while downloading.\n",
      "[Errno 9] Bad file descriptor\n",
      "Total number of images: 20\n",
      "\n",
      "Generating URL ...\n",
      "Generating URL ...Generating URL ...\n",
      "\n",
      "Generating URL ...\n",
      "Generating URL ...\n",
      "An error occurred while downloading.\n",
      "[Errno 9] Bad file descriptor\n",
      "An error occurred while downloading.An error occurred while downloading.\n",
      "[Errno 9] Bad file descriptor\n",
      "\n",
      "[Errno 9] Bad file descriptor\n",
      "An error occurred while downloading.\n",
      "[Errno 9] Bad file descriptor\n",
      "An error occurred while downloading.Generating URL ...\n",
      "Generating URL ...\n",
      "Generating URL ...\n",
      "\n",
      "[Errno 9] Bad file descriptor\n",
      "Generating URL ...\n",
      "Generating URL ...\n",
      "An error occurred while downloading.An error occurred while downloading.\n",
      "[Errno 9] Bad file descriptor\n",
      "An error occurred while downloading.\n",
      "[Errno 9] Bad file descriptor\n",
      "Generating URL ...\n",
      "An error occurred while downloading.An error occurred while downloading.\n",
      "\n",
      "[Errno 9] Bad file descriptor\n",
      "[Errno 9] Bad file descriptor\n",
      "\n",
      "[Errno 9] Bad file descriptor\n",
      "An error occurred while downloading.\n",
      "[Errno 9] Bad file descriptor\n",
      "Total number of images: 20\n",
      "\n",
      "Generating URL ...\n",
      "Generating URL ...\n",
      "Generating URL ...\n",
      "Generating URL ...\n",
      "Generating URL ...\n",
      "An error occurred while downloading.An error occurred while downloading.\n",
      "[Errno 9] Bad file descriptorAn error occurred while downloading.\n",
      "[Errno 9] Bad file descriptor\n",
      "An error occurred while downloading.\n",
      "[Errno 9] Bad file descriptor\n",
      "\n",
      "\n",
      "An error occurred while downloading.Generating URL ...\n",
      "\n",
      "[Errno 9] Bad file descriptor\n",
      "[Errno 9] Bad file descriptorGenerating URL ...Generating URL ...\n",
      "\n",
      "\n",
      "Generating URL ...\n",
      "Generating URL ...\n",
      "An error occurred while downloading.An error occurred while downloading.An error occurred while downloading.\n",
      "[Errno 9] Bad file descriptor\n",
      "An error occurred while downloading.\n",
      "[Errno 9] Bad file descriptor\n",
      "Generating URL ...\n",
      "\n",
      "An error occurred while downloading.\n",
      "[Errno 9] Bad file descriptor\n",
      "[Errno 9] Bad file descriptor\n",
      "\n",
      "[Errno 9] Bad file descriptor\n",
      "An error occurred while downloading.\n",
      "[Errno 9] Bad file descriptor\n",
      "Total number of images: 20\n",
      "\n",
      "Generating URL ...\n",
      "Generating URL ...\n",
      "Generating URL ...\n",
      "Generating URL ...\n",
      "Generating URL ...\n",
      "An error occurred while downloading.\n",
      "[Errno 9] Bad file descriptor\n",
      "An error occurred while downloading.An error occurred while downloading.\n",
      "[Errno 9] Bad file descriptor\n",
      "\n",
      "[Errno 9] Bad file descriptor\n",
      "Generating URL ...\n",
      "An error occurred while downloading.\n",
      "[Errno 9] Bad file descriptor\n",
      "Generating URL ...\n",
      "Generating URL ...\n",
      "Generating URL ...\n",
      "An error occurred while downloading.\n",
      "[Errno 9] Bad file descriptor\n",
      "Generating URL ...\n",
      "An error occurred while downloading.\n",
      "[Errno 9] Bad file descriptor\n",
      "An error occurred while downloading.\n",
      "[Errno 9] Bad file descriptor\n",
      "Generating URL ...\n",
      "An error occurred while downloading.An error occurred while downloading.\n",
      "[Errno 9] Bad file descriptor\n",
      "\n",
      "An error occurred while downloading.\n",
      "[Errno 9] Bad file descriptor\n",
      "[Errno 9] Bad file descriptor\n",
      "Downloading data from https://earthengine.googleapis.com/v1alpha/projects/earthengine-legacy/thumbnails/4171113568190d228084cd43c23ef095-f90833fd058bb67cf7504157bdfbc91a:getPixels\n",
      "Please wait ...\n"
     ]
    }
   ],
   "source": [
    "from user_gee import *\n",
    "outfile = 'E:/Work/TEMP'\n",
    "if __name__ == '__main__':\n",
    "    clip_dow_merge(region, image, outfile, 100, 2)"
   ]
  },
  {
   "cell_type": "code",
   "execution_count": null,
   "id": "26a48c7b",
   "metadata": {},
   "outputs": [],
   "source": []
  }
 ],
 "metadata": {
  "kernelspec": {
   "display_name": "Python 3 (ipykernel)",
   "language": "python",
   "name": "python3"
  },
  "language_info": {
   "codemirror_mode": {
    "name": "ipython",
    "version": 3
   },
   "file_extension": ".py",
   "mimetype": "text/x-python",
   "name": "python",
   "nbconvert_exporter": "python",
   "pygments_lexer": "ipython3",
   "version": "3.9.6"
  },
  "varInspector": {
   "cols": {
    "lenName": 16,
    "lenType": 16,
    "lenVar": 40
   },
   "kernels_config": {
    "python": {
     "delete_cmd_postfix": "",
     "delete_cmd_prefix": "del ",
     "library": "var_list.py",
     "varRefreshCmd": "print(var_dic_list())"
    },
    "r": {
     "delete_cmd_postfix": ") ",
     "delete_cmd_prefix": "rm(",
     "library": "var_list.r",
     "varRefreshCmd": "cat(var_dic_list()) "
    }
   },
   "position": {
    "height": "443.844px",
    "left": "1550px",
    "right": "20px",
    "top": "120px",
    "width": "350px"
   },
   "types_to_exclude": [
    "module",
    "function",
    "builtin_function_or_method",
    "instance",
    "_Feature"
   ],
   "window_display": true
  }
 },
 "nbformat": 4,
 "nbformat_minor": 5
}
