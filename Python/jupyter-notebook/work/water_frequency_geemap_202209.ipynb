{
 "cells": [
  {
   "cell_type": "code",
   "execution_count": 1,
   "id": "b7c21578",
   "metadata": {},
   "outputs": [
    {
     "data": {
      "application/vnd.jupyter.widget-view+json": {
       "model_id": "9f4671e9f1194cfe8f8de4a1268febdc",
       "version_major": 2,
       "version_minor": 0
      },
      "text/plain": [
       "Map(center=[30, 113], controls=(WidgetControl(options=['position', 'transparent_bg'], widget=HBox(children=(To…"
      ]
     },
     "metadata": {},
     "output_type": "display_data"
    }
   ],
   "source": [
    "import ee, os\n",
    "import geemap\n",
    "Map = geemap.Map(center=[30, 113], zoom=7) \n",
    "Map"
   ]
  },
  {
   "cell_type": "code",
   "execution_count": 2,
   "id": "081d4a19",
   "metadata": {},
   "outputs": [
    {
     "name": "stdout",
     "output_type": "stream",
     "text": [
      "2020-01-01\n",
      "2020-12-31\n"
     ]
    }
   ],
   "source": [
    "h = 110\n",
    "v = 25\n",
    "#Year\n",
    "IniYear = 2020\n",
    "\n",
    "LowLat = v\n",
    "UpLat = v+5\n",
    "LeftLon = h\n",
    "RightLon = h+5\n",
    "\n",
    "#Regions\n",
    "region = ee.Geometry.Rectangle(LeftLon,LowLat,RightLon,UpLat);\n",
    "Map.addLayer(region)\n",
    "\n",
    "dem = ee.Image('USGS/SRTMGL1_003')\n",
    "#Set region and starting and ending time\n",
    "start_date = str(IniYear) + '-01-01';\n",
    "end_date = str(IniYear) + '-12-31';\n",
    "print(start_date)\n",
    "print(end_date)"
   ]
  },
  {
   "cell_type": "code",
   "execution_count": 3,
   "id": "8a91eecd",
   "metadata": {},
   "outputs": [
    {
     "name": "stdout",
     "output_type": "stream",
     "text": [
      "Landsat8\n"
     ]
    }
   ],
   "source": [
    "collection8 = ee.ImageCollection('LANDSAT/LC08/C01/T1_SR')\\\n",
    "    .filterBounds(region)\\\n",
    "    .filterDate(start_date, end_date)\\\n",
    "    .select( #Rename LC8 bands same as L5/7\n",
    "      ['B2', 'B3', 'B4', 'B5', 'B6', 'B7']\n",
    "      ,['B1', 'B2', 'B3', 'B4', 'B5', 'B7'])\n",
    "print('Landsat8')\n",
    "# print(collection8.size().getInfo())"
   ]
  },
  {
   "cell_type": "code",
   "execution_count": 4,
   "id": "3bfa8618",
   "metadata": {},
   "outputs": [
    {
     "data": {
      "application/vnd.jupyter.widget-view+json": {
       "model_id": "9f4671e9f1194cfe8f8de4a1268febdc",
       "version_major": 2,
       "version_minor": 0
      },
      "text/plain": [
       "Map(bottom=13819.0, center=[30, 113], controls=(WidgetControl(options=['position', 'transparent_bg'], widget=H…"
      ]
     },
     "metadata": {},
     "output_type": "display_data"
    }
   ],
   "source": [
    "Map.addLayer(collection8.mosaic().toInt16().clip(region), {}, 'image')\n",
    "Map"
   ]
  },
  {
   "cell_type": "code",
   "execution_count": 5,
   "id": "bf82d7bd",
   "metadata": {},
   "outputs": [],
   "source": [
    "image = collection8.mosaic().toInt16().clip(region)"
   ]
  },
  {
   "cell_type": "code",
   "execution_count": 15,
   "id": "45eea354",
   "metadata": {
    "scrolled": true
   },
   "outputs": [
    {
     "name": "stdout",
     "output_type": "stream",
     "text": [
      "总耗时:00h00m10s\n"
     ]
    }
   ],
   "source": [
    "from user_gee import *\n",
    "outfile = 'E:/Work/TEMP'\n",
    "if __name__ == '__main__':\n",
    "    clip_dow_merge(region, image, outfile, 200, 2)"
   ]
  },
  {
   "cell_type": "code",
   "execution_count": null,
   "id": "494ac964",
   "metadata": {},
   "outputs": [],
   "source": [
    "import rasterio\n",
    "from rasterio.merge import merge\n",
    "import shutil\n",
    "from glob import glob\n",
    "\n",
    "files = glob(path + \"/*.tif\")\n",
    "src_files_to_mosaic = []\n",
    "for tif_f in files:\n",
    "    src = rasterio.open(tif_f)\n",
    "    src_files_to_mosaic.append(src)\n",
    "mosaic, out_trans = merge(src_files_to_mosaic)\n",
    "out_meta = src.meta.copy()\n",
    "out_meta.update({\"driver\": \"GTiff\",\n",
    "                 \"height\": mosaic.shape[1],\n",
    "                 \"width\": mosaic.shape[2],\n",
    "                 \"transform\": out_trans,\n",
    "                 })\n",
    "with rasterio.open(outfile + \".tif\", \"w\", **out_meta) as dest:\n",
    "    dest.write(mosaic)\n",
    "for src in src_files_to_mosaic:\n",
    "    src.close()\n",
    "shutil.rmtree(path)"
   ]
  },
  {
   "cell_type": "code",
   "execution_count": 7,
   "id": "0e7c570f",
   "metadata": {},
   "outputs": [],
   "source": [
    "import rasterio\n",
    "from rasterio.merge import merge\n",
    "import shutil\n",
    "from glob import glob\n",
    "\n",
    "outfile = 'E:/Work/TEMP'\n",
    "path = outfile + '_mk'\n",
    "files = glob(path + \"/*.tif\")\n",
    "src_files_to_mosaic = []\n",
    "for tif_f in files:\n",
    "    src = rasterio.open(tif_f)\n",
    "    src_files_to_mosaic.append(src)\n",
    "mosaic, out_trans = merge(src_files_to_mosaic)\n"
   ]
  },
  {
   "cell_type": "code",
   "execution_count": 8,
   "id": "cd48fda7",
   "metadata": {},
   "outputs": [],
   "source": [
    "out_meta = src.meta.copy()\n",
    "out_meta.update({\"driver\": \"GTiff\",\n",
    "                 \"height\": mosaic.shape[1],\n",
    "                 \"width\": mosaic.shape[2],\n",
    "                 \"transform\": out_trans,\n",
    "                 })"
   ]
  },
  {
   "cell_type": "code",
   "execution_count": 9,
   "id": "cd5f8074",
   "metadata": {},
   "outputs": [],
   "source": [
    "with rasterio.open(outfile + \".tif\", \"w\", **out_meta) as dest:\n",
    "    dest.write(mosaic)"
   ]
  },
  {
   "cell_type": "code",
   "execution_count": 25,
   "id": "2dc45c03",
   "metadata": {},
   "outputs": [],
   "source": [
    "bounds = region.bounds(maxError=0.1, proj=ee.Projection('EPSG:3857')).getInfo()"
   ]
  },
  {
   "cell_type": "code",
   "execution_count": 51,
   "id": "1f0da558",
   "metadata": {},
   "outputs": [
    {
     "data": {
      "text/plain": [
       "(6, 3155, 2784)"
      ]
     },
     "execution_count": 51,
     "metadata": {},
     "output_type": "execute_result"
    }
   ],
   "source": [
    "mosaic.shape"
   ]
  },
  {
   "cell_type": "code",
   "execution_count": 35,
   "id": "33d7d58f",
   "metadata": {},
   "outputs": [],
   "source": [
    "import numpy as np\n",
    "poy = np.array(bounds['coordinates'][0])\n",
    "min_x = poy[:, 0].min()\n",
    "max_x = poy[:, 0].max()\n",
    "min_y = poy[:, 1].min()\n",
    "max_y = poy[:, 1].max()"
   ]
  },
  {
   "cell_type": "code",
   "execution_count": 36,
   "id": "2b053d9a",
   "metadata": {},
   "outputs": [
    {
     "name": "stdout",
     "output_type": "stream",
     "text": [
      "12245143.987260092 12801741.44122646 2875744.6243522423 3506587.6599170286\n"
     ]
    }
   ],
   "source": [
    "print(min_x, max_x, min_y, max_y)"
   ]
  },
  {
   "cell_type": "code",
   "execution_count": 63,
   "id": "36d079cb",
   "metadata": {},
   "outputs": [],
   "source": [
    "outfile = 'E:/Work/TEMP1'\n",
    "scale = 200\n",
    "height = int(max_y / slace) - int(min_y / slace) + 1\n",
    "width = int(max_x / slace) - int(min_x / slace) + 1\n",
    "transform = [scale, 0, int(min_x / scale) * scale , 0, -scale, (int(max_y / scale) + 1) * scale]"
   ]
  },
  {
   "cell_type": "code",
   "execution_count": 65,
   "id": "d1f3a3c7",
   "metadata": {},
   "outputs": [],
   "source": [
    "out_meta = src.meta.copy()\n",
    "out_meta.update({\"driver\": \"GTiff\",\n",
    "                 \"height\": height,\n",
    "                 \"width\": width,\n",
    "                 \"transform\": transform,\n",
    "                 })"
   ]
  },
  {
   "cell_type": "code",
   "execution_count": 50,
   "id": "d0ac05fa",
   "metadata": {},
   "outputs": [
    {
     "data": {
      "text/plain": [
       "[12543200.0, 200.0, 0.0, 3506600.0, 0.0, -200.0]"
      ]
     },
     "execution_count": 50,
     "metadata": {},
     "output_type": "execute_result"
    }
   ],
   "source": [
    "with rasterio.open(outfile + \".tif\", \"w\", **out_meta) as dest:\n",
    "    for tif_f in files:\n",
    "        with rasterio.open(tif_f) as src:\n",
    "            \n",
    "    "
   ]
  },
  {
   "cell_type": "code",
   "execution_count": 66,
   "id": "d60bcb52",
   "metadata": {},
   "outputs": [
    {
     "data": {
      "text/plain": [
       "Affine(200.0, 0.0, 12543200.0,\n",
       "       0.0, -200.0, 3506600.0)"
      ]
     },
     "execution_count": 66,
     "metadata": {},
     "output_type": "execute_result"
    }
   ],
   "source": [
    "rasterio.windows()"
   ]
  },
  {
   "cell_type": "code",
   "execution_count": 64,
   "id": "ebe089e1",
   "metadata": {},
   "outputs": [
    {
     "data": {
      "text/plain": [
       "[200, 0, 12245000, 0, -200, 3506600]"
      ]
     },
     "execution_count": 64,
     "metadata": {},
     "output_type": "execute_result"
    }
   ],
   "source": [
    "transform"
   ]
  },
  {
   "cell_type": "code",
   "execution_count": null,
   "id": "6938cc5b",
   "metadata": {},
   "outputs": [],
   "source": []
  }
 ],
 "metadata": {
  "kernelspec": {
   "display_name": "Python 3 (ipykernel)",
   "language": "python",
   "name": "python3"
  },
  "language_info": {
   "codemirror_mode": {
    "name": "ipython",
    "version": 3
   },
   "file_extension": ".py",
   "mimetype": "text/x-python",
   "name": "python",
   "nbconvert_exporter": "python",
   "pygments_lexer": "ipython3",
   "version": "3.9.6"
  },
  "varInspector": {
   "cols": {
    "lenName": 16,
    "lenType": 16,
    "lenVar": 40
   },
   "kernels_config": {
    "python": {
     "delete_cmd_postfix": "",
     "delete_cmd_prefix": "del ",
     "library": "var_list.py",
     "varRefreshCmd": "print(var_dic_list())"
    },
    "r": {
     "delete_cmd_postfix": ") ",
     "delete_cmd_prefix": "rm(",
     "library": "var_list.r",
     "varRefreshCmd": "cat(var_dic_list()) "
    }
   },
   "position": {
    "height": "443.844px",
    "left": "1550px",
    "right": "20px",
    "top": "120px",
    "width": "350px"
   },
   "types_to_exclude": [
    "module",
    "function",
    "builtin_function_or_method",
    "instance",
    "_Feature"
   ],
   "window_display": true
  }
 },
 "nbformat": 4,
 "nbformat_minor": 5
}
