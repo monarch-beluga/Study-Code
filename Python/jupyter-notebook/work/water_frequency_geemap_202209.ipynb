{
 "cells": [
  {
   "cell_type": "code",
   "execution_count": 1,
   "id": "b7c21578",
   "metadata": {},
   "outputs": [
    {
     "data": {
      "application/vnd.jupyter.widget-view+json": {
       "model_id": "7d1282c0df454b818d74e676828dabba",
       "version_major": 2,
       "version_minor": 0
      },
      "text/plain": [
       "Map(center=[30, 115], controls=(WidgetControl(options=['position', 'transparent_bg'], widget=HBox(children=(To…"
      ]
     },
     "metadata": {},
     "output_type": "display_data"
    }
   ],
   "source": [
    "import ee, os\n",
    "import geemap\n",
    "# ee.Initialize()\n",
    "Map = geemap.Map() \n",
    "Map = geemap.Map(center=(30, 115), zoom=7)\n",
    "Map"
   ]
  },
  {
   "cell_type": "code",
   "execution_count": 2,
   "id": "081d4a19",
   "metadata": {},
   "outputs": [
    {
     "name": "stdout",
     "output_type": "stream",
     "text": [
      "2020-01-01\n",
      "2020-12-31\n"
     ]
    }
   ],
   "source": [
    "h = 110\n",
    "v = 25\n",
    "#Year\n",
    "IniYear = 2020\n",
    "\n",
    "LowLat = v\n",
    "UpLat = v+5\n",
    "LeftLon = h\n",
    "RightLon = h+5\n",
    "\n",
    "#Regions\n",
    "region = ee.Geometry.Rectangle(LeftLon,LowLat,RightLon,UpLat);\n",
    "Map.addLayer(region)\n",
    "\n",
    "dem = ee.Image('USGS/SRTMGL1_003')\n",
    "#Set region and starting and ending time\n",
    "start_date = str(IniYear) + '-01-01';\n",
    "end_date = str(IniYear) + '-12-31';\n",
    "print(start_date)\n",
    "print(end_date)"
   ]
  },
  {
   "cell_type": "code",
   "execution_count": 3,
   "id": "d1d0f501",
   "metadata": {},
   "outputs": [],
   "source": [
    "def cloudMaskL457(image):\n",
    "    qa = image.select('pixel_qa')\n",
    "  # If the cloud bit (5) is set and the cloud confidence (7) is high\n",
    "  # or the cloud shadow bit is set (3), then it's a bad pixel.\n",
    "    cloud = qa.bitwiseAnd(1 << 5) \\\n",
    "                  .And(qa.bitwiseAnd(1 << 7)) \\\n",
    "                  .Or(qa.bitwiseAnd(1 << 3))\n",
    "  # Remove edge pixels that don't occur in all bands\n",
    "    mask2 = image.mask().reduce(ee.Reducer.min())\n",
    "    return image.updateMask(cloud.Not()).updateMask(mask2).divide(10000).copyProperties(image, [\"system:time_start\",'system:id'])\n",
    "\n",
    "def maskS2clouds(image):   # This function was used to mask the clouds for sentinel-2\n",
    "    qa = image.select('QA60')\n",
    "\n",
    "  # Bits 10 and 11 are clouds and cirrus, respectively.\n",
    "    cloudBitMask = 1 << 10\n",
    "    cirrusBitMask = 1 << 11\n",
    "\n",
    "  # Both flags should be set to zero, indicating clear conditions.\n",
    "    mask = qa.bitwiseAnd(cloudBitMask).eq(0).And(\n",
    "             qa.bitwiseAnd(cirrusBitMask).eq(0))\n",
    "\n",
    "  # Return the masked and scaled data, without the QA bands.\n",
    "    return image.updateMask(mask).divide(10000).select(\"B.*\").copyProperties(image, [\"system:time_start\",'system:id'])\n",
    "\n",
    "def maskL8sr(image):\n",
    "  # Bits 3 and 5 are cloud shadow and cloud, respectively.\n",
    "    cloudShadowBitMask = (1 << 3)\n",
    "    cloudsBitMask = (1 << 5)\n",
    "    # Get the pixel QA band.\n",
    "    qa = image.select('pixel_qa')\n",
    "    # Both flags should be set to zero, indicating clear conditions.\n",
    "    mask = qa.bitwiseAnd(cloudShadowBitMask).eq(0) \\\n",
    "                 .And(qa.bitwiseAnd(cloudsBitMask).eq(0)).divide(10000)\n",
    "    return image.updateMask(mask).copyProperties(image, [\"system:time_start\",'system:id'])"
   ]
  },
  {
   "cell_type": "code",
   "execution_count": 4,
   "id": "950d8f69",
   "metadata": {},
   "outputs": [],
   "source": [
    "#function: Terrain.hillShadow\n",
    "def filterBadObs(image):\n",
    "    #selecet SOLAR_AZIMUTH_ANGLE\n",
    "    azimuth = ee.Number(image.get('SOLAR_AZIMUTH_ANGLE'))\n",
    "    #selecet SOLAR_ZENITH_ANGLE\n",
    "    zenith = ee.Number(image.get('SOLAR_ZENITH_ANGLE'))\n",
    "    #calculate Terrain shadow\n",
    "    shadow_original = ee.Terrain.hillShadow(dem,azimuth,zenith,100) \n",
    "    shadow = shadow_original.focal_min(1,\"square\",\"pixels\",1)\n",
    "    shadow_band0  = ee.Image(0).where(shadow.eq(1),1)\n",
    "    #return masked imgage\n",
    "    return image.updateMask(shadow_band0)\n"
   ]
  },
  {
   "cell_type": "code",
   "execution_count": null,
   "id": "eacfd4cf",
   "metadata": {},
   "outputs": [],
   "source": [
    "def f_EVI(img):\n",
    "    EVI = img.expression(\n",
    "        '2.5 * ((NIR - RED) / (NIR + 6 * RED - 7.5 * BLUE + 1))', {\n",
    "          'NIR': img.select('B3').multiply(0.0001),\n",
    "          'RED': img.select('B2').multiply(0.0001),\n",
    "          'BLUE':img.select('B1').multiply(0.0001)}).rename('EVI')\n",
    "    return EVI\n",
    "\n",
    "def addVIs(img):\n",
    "    NDVI = img.normalizedDifference(['B4','B3']).rename('NDVI')\n",
    "    mNDWI = img.normalizedDifference(['B2','B5']).rename('mNDWI')\n",
    "    LSWI = img.normalizedDifference(['B4','B5']).rename('LSWI')\n",
    "    EVI = f_EVI(img)\n",
    "    return img.addBands(NDVI).addBands(mNDWI).addBands(LSWI).addBands(EVI)"
   ]
  },
  {
   "cell_type": "code",
   "execution_count": null,
   "id": "02e202c9",
   "metadata": {},
   "outputs": [],
   "source": [
    "#get Landsat8 collction\n",
    "collection8 = ee.ImageCollection('LANDSAT/LC08/C01/T1_SR')\\\n",
    "    .filterBounds(region)\\\n",
    "    .filterDate(start_date, end_date)\\\n",
    "    .map(filterBadObs)\\\n",
    "    .map(maskL8sr)\\\n",
    "    .select( #Rename LC8 bands same as L5/7\n",
    "      ['B2', 'B3', 'B4', 'B5', 'B6', 'B7', 'pixel_qa']\n",
    "      ,['B1', 'B2', 'B3', 'B4', 'B5', 'B7', 'pixel_qa'])\\\n",
    "      .map(addVIs)\n",
    "print('Landsat8')\n",
    "print(collection8.size().getInfo())\n",
    "\n",
    "#get Landsat7 collction\n",
    "collection7 = ee.ImageCollection('LANDSAT/LE07/C01/T1_SR')\\\n",
    "    .filterBounds(region)\\\n",
    "    .filterDate(start_date, end_date)\\\n",
    "    .map(filterBadObs)\\\n",
    "    .map(cloudMaskL457)\\\n",
    "    .select( \n",
    "      ['B1', 'B2', 'B3', 'B4', 'B5', 'B7','pixel_qa'])\\\n",
    "     .map(addVIs)\n",
    "print('Landsat7')\n",
    "print(collection7.size().getInfo())\n",
    "\n",
    "#get Landsat5 collction\n",
    "collection5 = ee.ImageCollection('LANDSAT/LT05/C01/T1_SR')\\\n",
    "    .filterBounds(region)\\\n",
    "    .filterDate(start_date, end_date)\\\n",
    "    .map(filterBadObs)\\\n",
    "    .map(cloudMaskL457)\\\n",
    "    .select( \n",
    "      ['B1', 'B2', 'B3', 'B4', 'B5', 'B7','pixel_qa'])\\\n",
    "     .map(addVIs)\n",
    "print('Landsat5')\n",
    "print(collection5.size().getInfo())\n",
    "\n",
    "\n",
    "#Merge to a single collection\n",
    "col1 = ee.ImageCollection(collection5.merge(collection7));\n",
    "collection = ee.ImageCollection(col1.merge(collection8));\n",
    "print(collection.size().getInfo())"
   ]
  },
  {
   "cell_type": "code",
   "execution_count": null,
   "id": "6ebf1a93",
   "metadata": {},
   "outputs": [],
   "source": [
    "#water detection\n",
    "def Water(img):\n",
    "    return img.select('mNDWI').gt(img.select('EVI'))\\\n",
    "    .Or(img.select('mNDWI').gt(img.select('NDVI')))\\\n",
    "    .And(img.select('EVI').lt(0.1))\n",
    "\n",
    "#Non-Water detection\n",
    "def NonWater(image):\n",
    "    return image.select('mNDWI').lte(image.select('EVI'))\\\n",
    "    .And(image.select('mNDWI').lte(image.select('NDVI')))\\\n",
    "    .Or(image.select('EVI').gte(0.1))\n",
    "\n",
    "#fill zero in front of a number.\n",
    "def PrefixInteger(num, n):\n",
    "    return (Array(n).join(0) + num).slice(-n)\n",
    "\n"
   ]
  },
  {
   "cell_type": "code",
   "execution_count": null,
   "id": "ec7a369e",
   "metadata": {},
   "outputs": [],
   "source": [
    "#water frequency and quality band (number of good observations)\n",
    "total_Pos = collection.map(Water).sum()\n",
    "total_Neg = collection.map(NonWater).sum()"
   ]
  },
  {
   "cell_type": "code",
   "execution_count": null,
   "id": "9c676b09",
   "metadata": {},
   "outputs": [],
   "source": [
    "#freqName = 'Freq_usgs578_' + str(IniYear) + '_' + str(PrefixInteger(LeftLon,4)) + '_' + str(PrefixInteger(LowLat,3))\n",
    "freqName = 'Freq_usgs578_'+str(IniYear)+'_'+str(LeftLon).zfill(4)+'_'+str(LowLat).zfill(3)\n",
    "\n",
    "print(freqName)"
   ]
  },
  {
   "cell_type": "code",
   "execution_count": null,
   "id": "2003b745",
   "metadata": {},
   "outputs": [],
   "source": [
    "# flooding_freq = (total_Pos.divide(total_Pos.add(total_Neg))).multiply(254).add(ee.Image(1)).rename(\"flooding_freq\")\n",
    "flooding_freq = ee.Image(0).expression('((Pos)/(Pos + Neg))*254+1',\n",
    "                        {\n",
    "                            'Pos':total_Pos,\n",
    "                            'Neg':total_Neg\n",
    "                        }).rename(\"flooding_freq\")\n",
    "\n",
    "vis = {\n",
    "    'min':0,\n",
    "    'max':255\n",
    "}\n",
    "Map.addLayer(flooding_freq.toUint8().clip(region),vis,'flooding_freq')"
   ]
  },
  {
   "cell_type": "code",
   "execution_count": null,
   "id": "dc9ad668",
   "metadata": {},
   "outputs": [],
   "source": [
    "freq_image = flooding_freq.toUint8().clip(region)\n",
    "freq_image.getInfo()"
   ]
  },
  {
   "cell_type": "code",
   "execution_count": 5,
   "id": "8a91eecd",
   "metadata": {},
   "outputs": [
    {
     "name": "stdout",
     "output_type": "stream",
     "text": [
      "Landsat8\n",
      "257\n"
     ]
    }
   ],
   "source": [
    "collection8 = ee.ImageCollection('LANDSAT/LC08/C01/T1_SR')\\\n",
    "    .filterBounds(region)\\\n",
    "    .filterDate(start_date, end_date)\\\n",
    "    .select( #Rename LC8 bands same as L5/7\n",
    "      ['B2', 'B3', 'B4', 'B5', 'B6', 'B7', 'pixel_qa']\n",
    "      ,['B1', 'B2', 'B3', 'B4', 'B5', 'B7', 'pixel_qa'])\n",
    "print('Landsat8')\n",
    "print(collection8.size().getInfo())"
   ]
  },
  {
   "cell_type": "code",
   "execution_count": 6,
   "id": "3bfa8618",
   "metadata": {},
   "outputs": [
    {
     "data": {
      "application/vnd.jupyter.widget-view+json": {
       "model_id": "7d1282c0df454b818d74e676828dabba",
       "version_major": 2,
       "version_minor": 0
      },
      "text/plain": [
       "Map(bottom=13819.0, center=[30, 115], controls=(WidgetControl(options=['position', 'transparent_bg'], widget=H…"
      ]
     },
     "metadata": {},
     "output_type": "display_data"
    }
   ],
   "source": [
    "Map.addLayer(collection8.mosaic().toUint8().clip(region), {}, 'image')\n",
    "Map"
   ]
  },
  {
   "cell_type": "code",
   "execution_count": null,
   "id": "bf82d7bd",
   "metadata": {},
   "outputs": [],
   "source": [
    "image = collection8.mosaic().toUint8().clip(region)"
   ]
  },
  {
   "cell_type": "code",
   "execution_count": null,
   "id": "3700f728",
   "metadata": {},
   "outputs": [],
   "source": [
    "from ee_export import ee_export\n",
    "sv_file = 'E:/Work/TEMP'\n",
    "ee_export(region=region, image=image, outfile=sv_file, scale=30, sep=0.5)"
   ]
  },
  {
   "cell_type": "code",
   "execution_count": null,
   "id": "18695df8",
   "metadata": {},
   "outputs": [],
   "source": [
    "from Monarch.user_gee import clip_dow_merge\n",
    "sv_file = 'E:/Work/TEMP'\n",
    "while not os.path.exists(sv_file+'.tif'):\n",
    "    clip_dow_merge(region, image, sv_file, 100, sep=0.5)"
   ]
  },
  {
   "cell_type": "code",
   "execution_count": null,
   "id": "f848fffe",
   "metadata": {},
   "outputs": [],
   "source": [
    "geemap.ee_export_image(image, sv_file+'.tif', 300, region=region)"
   ]
  },
  {
   "cell_type": "code",
   "execution_count": null,
   "id": "2a4ed15a",
   "metadata": {},
   "outputs": [],
   "source": [
    "region.getInfo()"
   ]
  },
  {
   "cell_type": "code",
   "execution_count": null,
   "id": "0bfe414a",
   "metadata": {},
   "outputs": [],
   "source": [
    "Map.addLayer(region.buffer(10), {'color':'red'}, 'roi')"
   ]
  },
  {
   "cell_type": "code",
   "execution_count": null,
   "id": "911aa673",
   "metadata": {},
   "outputs": [],
   "source": [
    "Map"
   ]
  },
  {
   "cell_type": "code",
   "execution_count": null,
   "id": "2158282b",
   "metadata": {},
   "outputs": [],
   "source": [
    "import os\n",
    "filename = os.path.abspath(sv_file+'.tif')\n",
    "basename = os.path.basename(filename)\n",
    "name = os.path.splitext(basename)[0]"
   ]
  },
  {
   "cell_type": "code",
   "execution_count": null,
   "id": "65782f2b",
   "metadata": {},
   "outputs": [],
   "source": [
    "name"
   ]
  },
  {
   "cell_type": "code",
   "execution_count": null,
   "id": "1a80a8c0",
   "metadata": {},
   "outputs": [],
   "source": [
    "crs = 'epsg:4326'\n",
    "params = {\"name\": name, \"filePerBand\": False}\n",
    "params['scale'] = 60\n",
    "params[\"region\"] = region\n",
    "params[\"crs\"] = crs\n",
    "try:\n",
    "    url = image.getDownloadURL(params)\n",
    "    print(url)\n",
    "except Exception as e:\n",
    "    print(e)"
   ]
  },
  {
   "cell_type": "code",
   "execution_count": null,
   "id": "aaf0548e",
   "metadata": {},
   "outputs": [],
   "source": [
    "image.getInfo()"
   ]
  },
  {
   "cell_type": "code",
   "execution_count": null,
   "id": "65479e2d",
   "metadata": {},
   "outputs": [],
   "source": [
    "import requests\n",
    "r = requests.get(url, stream=True, timeout=300, proxies=None)"
   ]
  },
  {
   "cell_type": "code",
   "execution_count": null,
   "id": "1f0b0673",
   "metadata": {},
   "outputs": [],
   "source": [
    "with open(sv_file+'.zip', \"wb\") as fd:\n",
    "    for chunk in r.iter_content(chunk_size=1024):\n",
    "        fd.write(chunk)"
   ]
  },
  {
   "cell_type": "code",
   "execution_count": null,
   "id": "5d8864a6",
   "metadata": {
    "scrolled": true
   },
   "outputs": [],
   "source": [
    "#clip_dow_merge(region, flooding_freq, freqName, 30)\n",
    "geemap.ee_export_image_to_drive(freq_image, description= freqName, folder='ee_export', scale=30)\n",
    "# geemap.ee_export_image_to_drive(flooding_freq.toUint8(), description= freqName, folder='Water', maxPixels=100000000000, region = region, scale=30)\n",
    "print('download to drive successful!!')"
   ]
  }
 ],
 "metadata": {
  "kernelspec": {
   "display_name": "Python 3 (ipykernel)",
   "language": "python",
   "name": "python3"
  },
  "language_info": {
   "codemirror_mode": {
    "name": "ipython",
    "version": 3
   },
   "file_extension": ".py",
   "mimetype": "text/x-python",
   "name": "python",
   "nbconvert_exporter": "python",
   "pygments_lexer": "ipython3",
   "version": "3.9.6"
  },
  "varInspector": {
   "cols": {
    "lenName": 16,
    "lenType": 16,
    "lenVar": 40
   },
   "kernels_config": {
    "python": {
     "delete_cmd_postfix": "",
     "delete_cmd_prefix": "del ",
     "library": "var_list.py",
     "varRefreshCmd": "print(var_dic_list())"
    },
    "r": {
     "delete_cmd_postfix": ") ",
     "delete_cmd_prefix": "rm(",
     "library": "var_list.r",
     "varRefreshCmd": "cat(var_dic_list()) "
    }
   },
   "position": {
    "height": "443.844px",
    "left": "1550px",
    "right": "20px",
    "top": "120px",
    "width": "350px"
   },
   "types_to_exclude": [
    "module",
    "function",
    "builtin_function_or_method",
    "instance",
    "_Feature"
   ],
   "window_display": true
  }
 },
 "nbformat": 4,
 "nbformat_minor": 5
}
