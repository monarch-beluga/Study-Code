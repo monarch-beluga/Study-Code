{
 "cells": [
  {
   "cell_type": "code",
   "execution_count": null,
   "metadata": {},
   "outputs": [],
   "source": [
    "import geemap\n",
    "import ee"
   ]
  },
  {
   "cell_type": "code",
   "execution_count": null,
   "metadata": {},
   "outputs": [],
   "source": [
    "Map = geemap.Map(center=[29.66,116], zoom=10)\n",
    "#添加面shp（文件名不能有“_”和中文）\n",
    "states_shp = r'F:\\file\\work\\师兄\\extract-values\\Pt\\PtRiceProj.shp'\n",
    "jx = geemap.shp_to_ee(states_shp)   #必须先安装pip install pyshp #filter_polygons(states_shp)\n",
    "Map.addLayer(jx, {}, 'JX')"
   ]
  },
  {
   "cell_type": "code",
   "execution_count": null,
   "metadata": {},
   "outputs": [],
   "source": [
    "Map"
   ]
  },
  {
   "cell_type": "code",
   "execution_count": null,
   "metadata": {},
   "outputs": [],
   "source": [
    "inpath = r'F:\\Pt'\n",
    "crop_points = inpath + os.sep + 'PtRiceProj.shp'\n",
    "p_shp = geemap.shp_to_ee(crop_points)\n",
    "Map.addLayer(p_shp, {'color': 'FF0000'}, 'p_shp')"
   ]
  },
  {
   "cell_type": "code",
   "execution_count": null,
   "metadata": {},
   "outputs": [],
   "source": [
    "p_shp.getInfo()"
   ]
  },
  {
   "cell_type": "code",
   "execution_count": null,
   "metadata": {},
   "outputs": [],
   "source": [
    "def cloudfunction_L8(image):\n",
    "    # image = ee.Algorithms.Landsat.simpleCloudScore(image)\n",
    "    image = image.updateMask(image.select(\"cloud\").lte(20));\n",
    "    return image;\n",
    "\n",
    "l8bands = ['B2','B3','B4','B5','B6','B7']\n",
    "#添加landsat8\n",
    "l8m = ee.ImageCollection('LANDSAT/LC08/C01/T1_RT_TOA')\\\n",
    "                .filterDate('2017-05-01', '2017-08-01')\\\n",
    "                .filterBounds(jx)\\\n",
    "                .map(ee.Algorithms.Landsat.simpleCloudScore)\\\n",
    "                .map(cloudfunction_L8)\\\n",
    "                .mosaic()\\\n",
    "                .clip(jx)\\\n",
    "                .select(l8bands)\n"
   ]
  },
  {
   "cell_type": "code",
   "execution_count": null,
   "metadata": {},
   "outputs": [],
   "source": [
    "import pandas as pd\n",
    "# 输出参数\n",
    "# outpath = r'F:\\JJUDATA\\ExctraValue'\n",
    "outFile = r'F:\\Ext03211119.csv'\n",
    "geemap.extract_values_to_points(p_shp,l8m, outFile, scale=30)"
   ]
  },
  {
   "cell_type": "code",
   "execution_count": null,
   "metadata": {},
   "outputs": [],
   "source": []
  }
 ],
 "metadata": {
  "kernelspec": {
   "display_name": "Python 3",
   "language": "python",
   "name": "python3"
  },
  "language_info": {
   "codemirror_mode": {
    "name": "ipython",
    "version": 3
   },
   "file_extension": ".py",
   "mimetype": "text/x-python",
   "name": "python",
   "nbconvert_exporter": "python",
   "pygments_lexer": "ipython3",
   "version": "3.8.5"
  }
 },
 "nbformat": 4,
 "nbformat_minor": 4
}
