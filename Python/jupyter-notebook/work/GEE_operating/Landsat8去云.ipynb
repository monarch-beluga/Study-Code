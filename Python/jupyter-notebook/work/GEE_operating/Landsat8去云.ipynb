{
 "cells": [
  {
   "cell_type": "code",
   "execution_count": 1,
   "id": "b739c842",
   "metadata": {
    "ExecuteTime": {
     "end_time": "2023-01-04T03:22:36.509122Z",
     "start_time": "2023-01-04T03:22:32.506692Z"
    }
   },
   "outputs": [],
   "source": [
    "import pandas as pd\n",
    "import geemap\n",
    "import ee"
   ]
  },
  {
   "cell_type": "code",
   "execution_count": 2,
   "id": "542dabb8",
   "metadata": {
    "ExecuteTime": {
     "end_time": "2023-01-04T03:22:44.531860Z",
     "start_time": "2023-01-04T03:22:36.510120Z"
    }
   },
   "outputs": [
    {
     "data": {
      "application/vnd.jupyter.widget-view+json": {
       "model_id": "d82fd09c19514be1a408698992f39232",
       "version_major": 2,
       "version_minor": 0
      },
      "text/plain": [
       "Map(center=[29, 85], controls=(WidgetControl(options=['position', 'transparent_bg'], widget=HBox(children=(Tog…"
      ]
     },
     "metadata": {},
     "output_type": "display_data"
    }
   ],
   "source": [
    "Map = geemap.Map(center=(29, 85))\n",
    "Map"
   ]
  },
  {
   "cell_type": "code",
   "execution_count": 3,
   "id": "b7b6610d",
   "metadata": {
    "ExecuteTime": {
     "end_time": "2023-01-04T03:23:04.519281Z",
     "start_time": "2023-01-04T03:23:04.506288Z"
    }
   },
   "outputs": [],
   "source": [
    "import os\n",
    "os.chdir(r'H:\\Monarch\\Work\\qizhong')"
   ]
  },
  {
   "cell_type": "code",
   "execution_count": 4,
   "id": "f7085ab2",
   "metadata": {
    "ExecuteTime": {
     "end_time": "2023-01-04T03:23:35.577340Z",
     "start_time": "2023-01-04T03:23:25.177219Z"
    }
   },
   "outputs": [],
   "source": [
    "shp = geemap.shp_to_ee(\"roi.shp\")\n",
    "roi = shp.geometry()\n",
    "Map.addLayer(roi, {'color':'red'}, 'roi')"
   ]
  },
  {
   "cell_type": "code",
   "execution_count": 5,
   "id": "772e49cd",
   "metadata": {
    "ExecuteTime": {
     "end_time": "2023-01-04T03:23:45.342995Z",
     "start_time": "2023-01-04T03:23:40.552149Z"
    }
   },
   "outputs": [],
   "source": [
    "Map.center_object(shp, 11)"
   ]
  },
  {
   "cell_type": "code",
   "execution_count": 12,
   "id": "4cba4924",
   "metadata": {
    "ExecuteTime": {
     "end_time": "2023-01-04T03:30:12.436327Z",
     "start_time": "2023-01-04T03:30:12.426326Z"
    }
   },
   "outputs": [],
   "source": [
    "def bitwise_extract(value: ee.Image, from_bit: int, to_bit: int = None) -> ee.Image:\n",
    "    \"\"\"\n",
    "\n",
    "    Args:\n",
    "        value: ee.Image, 输入Landsat去云波段\n",
    "        from_bit: int, 云的位掩码\n",
    "        to_bit: int, modis去云时需要的参数, 当掩码有多位时使用\n",
    "\n",
    "    Returns: ee.Image\n",
    "\n",
    "    \"\"\"\n",
    "    if to_bit is None:\n",
    "        to_bit = from_bit\n",
    "    mask_size = ee.Number(1).add(to_bit).subtract(from_bit)\n",
    "    mask = ee.Number(1).leftShift(mask_size).subtract(1)\n",
    "    return value.rightShift(from_bit).bitwiseAnd(mask)\n",
    "\n",
    "def cloud_free_landsat_sr(img):\n",
    "    \"\"\"\n",
    "    Landsat 去云处理\n",
    "    Args:\n",
    "        img: ee.Image, 原始影像\n",
    "\n",
    "    Returns: ee.Image, 去云后的影像\n",
    "\n",
    "    \"\"\"\n",
    "    qa = img.select('pixel_qa')                         # 特定的landsat 影像才有这一波段\n",
    "#     qa = img.select('QA_PIXEL')\n",
    "    cloud_state = bitwise_extract(qa, 5)                # 云掩码\n",
    "    cloud_shadow_state = bitwise_extract(qa, 3)         # 云影掩码\n",
    "    mask = cloud_state.eq(0).And(cloud_shadow_state.eq(0))\n",
    "    return img.updateMask(mask)"
   ]
  },
  {
   "cell_type": "code",
   "execution_count": 20,
   "id": "a04ac68f",
   "metadata": {
    "ExecuteTime": {
     "end_time": "2023-01-04T03:35:40.755032Z",
     "start_time": "2023-01-04T03:35:40.736900Z"
    }
   },
   "outputs": [],
   "source": [
    "images = ee.ImageCollection(\"LANDSAT/LC08/C01/T1_SR\")\\\n",
    "        .filterDate('2019', '2020')\\\n",
    "        .filterBounds(roi).sort(\"CLOUD_COVER\", False)\\\n",
    "        .map(cloud_free_landsat_sr)"
   ]
  },
  {
   "cell_type": "code",
   "execution_count": 21,
   "id": "569b9075",
   "metadata": {
    "ExecuteTime": {
     "end_time": "2023-01-04T03:35:42.365564Z",
     "start_time": "2023-01-04T03:35:42.359581Z"
    }
   },
   "outputs": [],
   "source": [
    "image = images.mosaic().clip(roi)"
   ]
  },
  {
   "cell_type": "code",
   "execution_count": 16,
   "id": "344d558b",
   "metadata": {
    "ExecuteTime": {
     "end_time": "2023-01-04T03:31:26.050825Z",
     "start_time": "2023-01-04T03:31:26.032776Z"
    }
   },
   "outputs": [],
   "source": [
    "visParams = {\n",
    "  'bands': ['B4', 'B3', 'B2'],\n",
    "  'min': 0,\n",
    "  'max': 3000,\n",
    "  'gamma': 1.4}"
   ]
  },
  {
   "cell_type": "code",
   "execution_count": 17,
   "id": "01e5701c",
   "metadata": {
    "ExecuteTime": {
     "end_time": "2023-01-04T03:31:30.676240Z",
     "start_time": "2023-01-04T03:31:26.641601Z"
    }
   },
   "outputs": [],
   "source": [
    "Map.addLayer(image, visParams, 'img')"
   ]
  },
  {
   "cell_type": "code",
   "execution_count": 24,
   "id": "dab6bffc",
   "metadata": {
    "ExecuteTime": {
     "end_time": "2023-01-04T03:39:26.102342Z",
     "start_time": "2023-01-04T03:39:26.089371Z"
    }
   },
   "outputs": [],
   "source": [
    "ndvi = image.normalizedDifference(['B5', 'B4'])"
   ]
  },
  {
   "cell_type": "code",
   "execution_count": 23,
   "id": "28cc1b0c",
   "metadata": {
    "ExecuteTime": {
     "end_time": "2023-01-04T03:37:30.180936Z",
     "start_time": "2023-01-04T03:37:17.193628Z"
    }
   },
   "outputs": [
    {
     "name": "stdout",
     "output_type": "stream",
     "text": [
      "Generating URL ...\n",
      "Downloading data from https://earthengine.googleapis.com/v1alpha/projects/earthengine-legacy/thumbnails/0d6bd709f169207c6e638480af2e9bf4-e858aa2f9507cb702e032b7c288b09f6:getPixels\n",
      "Please wait ...\n",
      "Data downloaded to H:\\Monarch\\Work\\qizhong\\Landsat.tif\n"
     ]
    }
   ],
   "source": [
    "geemap.ee_export_image(image.select(['B1', 'B2', 'B3', 'B4', 'B5', 'B6', 'B7']), r'Landsat.tif', scale=30)"
   ]
  },
  {
   "cell_type": "code",
   "execution_count": 25,
   "id": "8845cf0e",
   "metadata": {
    "ExecuteTime": {
     "end_time": "2023-01-04T03:39:57.027790Z",
     "start_time": "2023-01-04T03:39:47.343635Z"
    }
   },
   "outputs": [
    {
     "name": "stdout",
     "output_type": "stream",
     "text": [
      "Generating URL ...\n",
      "Downloading data from https://earthengine.googleapis.com/v1alpha/projects/earthengine-legacy/thumbnails/a8ae2dcc8afaef8636912a48281a0166-aeb801bca87ac0a436d0e2d328d711c4:getPixels\n",
      "Please wait ...\n",
      "Data downloaded to H:\\Monarch\\Work\\qizhong\\ndvi.tif\n"
     ]
    }
   ],
   "source": [
    "geemap.ee_export_image(ndvi, r'ndvi.tif', scale=30)"
   ]
  },
  {
   "cell_type": "code",
   "execution_count": null,
   "id": "a8731740",
   "metadata": {},
   "outputs": [],
   "source": [
    "points = geemap.pandas_to_ee(df, latitude='Y', longitude='X')\n",
    "Map.addLayer(points, {}, 'ps')"
   ]
  },
  {
   "cell_type": "code",
   "execution_count": 4,
   "id": "09afbca4",
   "metadata": {},
   "outputs": [],
   "source": [
    "roi = Map.draw_last_feature.geometry()"
   ]
  },
  {
   "cell_type": "code",
   "execution_count": 7,
   "id": "f3d5cc66",
   "metadata": {},
   "outputs": [],
   "source": [
    "images = ee.ImageCollection(\"LANDSAT/LC08/C02/T1_L2\")\\\n",
    "        .filterDate('2020-07', '2020-08')\\\n",
    "        .filterBounds(roi).sort(\"CLOUD_COVER\", True)"
   ]
  },
  {
   "cell_type": "code",
   "execution_count": 13,
   "id": "7c6b058d",
   "metadata": {},
   "outputs": [],
   "source": [
    "images = ee.ImageCollection(\"LANDSAT/LC08/C01/T1_SR\")\\\n",
    "        .filterDate('2020-07', '2020-08')\\\n",
    "        .filterBounds(roi).sort(\"CLOUD_COVER\", True)"
   ]
  },
  {
   "cell_type": "code",
   "execution_count": 14,
   "id": "d2e1226d",
   "metadata": {},
   "outputs": [
    {
     "data": {
      "text/plain": [
       "[79.86]"
      ]
     },
     "execution_count": 14,
     "metadata": {},
     "output_type": "execute_result"
    }
   ],
   "source": [
    "a = images.aggregate_array(\"CLOUD_COVER\").getInfo()\n",
    "a"
   ]
  },
  {
   "cell_type": "code",
   "execution_count": null,
   "id": "6c476482",
   "metadata": {},
   "outputs": [],
   "source": [
    "def rmCloudByQA(image):\n",
    "    qa = image.select('QA60')\n",
    "    cloudBitMask = 1 << 10\n",
    "    cirrusBitMask = 1 << 11\n",
    "    mask = qa.bitwiseAnd(cloudBitMask).eq(0) \\\n",
    "               .And(qa.bitwiseAnd(cirrusBitMask).eq(0))\n",
    "    return image.updateMask(mask)"
   ]
  },
  {
   "cell_type": "code",
   "execution_count": null,
   "id": "53df9955",
   "metadata": {},
   "outputs": [],
   "source": [
    "def bitwiseExtract(value, fromBit, toBit=None):\n",
    "    if toBit == None:\n",
    "        toBit = fromBit\n",
    "    maskSize = ee.Number(1).add(toBit).subtract(fromBit)\n",
    "    mask = ee.Number(1).leftShift(maskSize).subtract(1)\n",
    "    return value.rightShift(fromBit).bitwiseAnd(mask)\n",
    "\n",
    "def cloudfree_landsat(img):\n",
    "    qa = img.select('pixel_qa')\n",
    "    cloudState = bitwiseExtract(qa, 5)\n",
    "    cloudShadowState = bitwiseExtract(qa, 3)\n",
    "    mask = cloudState.eq(0).And(cloudShadowState.eq(0))\n",
    "    return img.updateMask(mask)"
   ]
  },
  {
   "cell_type": "code",
   "execution_count": null,
   "id": "5b6dd671",
   "metadata": {},
   "outputs": [],
   "source": [
    "cf_image = images.map(cloudfree_landsat)"
   ]
  },
  {
   "cell_type": "code",
   "execution_count": null,
   "id": "f47bdae4",
   "metadata": {},
   "outputs": [],
   "source": [
    "image = cf_image.mosaic().clip(roi)"
   ]
  },
  {
   "cell_type": "code",
   "execution_count": null,
   "id": "c0e8565d",
   "metadata": {},
   "outputs": [],
   "source": [
    "# img = images.median().select(['B4', 'B3', 'B2']).clip(roi)\n",
    "Map.addLayer(image, {'bands':['B4', 'B3', 'B2'], 'max': 3000, 'min':0}, 'img_1')"
   ]
  },
  {
   "cell_type": "code",
   "execution_count": null,
   "id": "f9db4fa4",
   "metadata": {},
   "outputs": [],
   "source": [
    "geemap.ee_export_image_to_drive(img, description='RGB', \n",
    "                                scale=30, folder='Landsat8_xizhang')\n",
    "geemap.ee_export_image_to_drive(img, description='NDVI', \n",
    "                                scale=30, folder='Landsat8_xizhang')"
   ]
  },
  {
   "cell_type": "code",
   "execution_count": null,
   "id": "af2743c4",
   "metadata": {},
   "outputs": [],
   "source": [
    "NDVI = image.normalizedDifference(['B5', 'B4'])\n",
    "img = image.select(['B4', 'B3', 'B2'])"
   ]
  },
  {
   "cell_type": "code",
   "execution_count": null,
   "id": "349cc9ee",
   "metadata": {},
   "outputs": [],
   "source": [
    "geemap.ee_export_image_to_drive(img, description='RGB', \n",
    "                                scale=30, folder='Landsat8_xizhang')"
   ]
  },
  {
   "cell_type": "code",
   "execution_count": null,
   "id": "459e2af4",
   "metadata": {},
   "outputs": [],
   "source": [
    "a = \"\"\"\n",
    "function rmCloudByQA(image) { \n",
    "  var qa = image.select('QA60'); \n",
    "  var cloudBitMask = 1 << 10; \n",
    "  var cirrusBitMask = 1 << 11; \n",
    "  var mask = qa.bitwiseAnd(cloudBitMask).eq(0) \n",
    "               .and(qa.bitwiseAnd(cirrusBitMask).eq(0)); \n",
    "  return image.updateMask(mask); \n",
    "} \n",
    "\"\"\""
   ]
  },
  {
   "cell_type": "code",
   "execution_count": null,
   "id": "e8cfaa58",
   "metadata": {},
   "outputs": [],
   "source": [
    "geemap.js_snippet_to_py(a)"
   ]
  },
  {
   "cell_type": "code",
   "execution_count": null,
   "id": "842ca837",
   "metadata": {},
   "outputs": [],
   "source": []
  }
 ],
 "metadata": {
  "kernelspec": {
   "display_name": "Python 3 (ipykernel)",
   "language": "python",
   "name": "python3"
  },
  "language_info": {
   "codemirror_mode": {
    "name": "ipython",
    "version": 3
   },
   "file_extension": ".py",
   "mimetype": "text/x-python",
   "name": "python",
   "nbconvert_exporter": "python",
   "pygments_lexer": "ipython3",
   "version": "3.9.7"
  }
 },
 "nbformat": 4,
 "nbformat_minor": 5
}
