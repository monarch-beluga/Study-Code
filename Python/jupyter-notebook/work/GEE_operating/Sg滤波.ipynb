{
 "cells": [
  {
   "cell_type": "code",
   "execution_count": null,
   "id": "ca6f6fdb",
   "metadata": {
    "scrolled": false
   },
   "outputs": [],
   "source": [
    "import geemap\n",
    "import ee\n",
    "\n",
    "Map = geemap.Map()\n",
    "Map"
   ]
  },
  {
   "cell_type": "code",
   "execution_count": null,
   "id": "71baa90c",
   "metadata": {},
   "outputs": [],
   "source": [
    "roi = Map.draw_last_feature.geometry()"
   ]
  },
  {
   "cell_type": "code",
   "execution_count": null,
   "id": "2510d3ed",
   "metadata": {},
   "outputs": [],
   "source": [
    "def clip(img):\n",
    "    return img.clip(roi)"
   ]
  },
  {
   "cell_type": "code",
   "execution_count": null,
   "id": "f0baee87",
   "metadata": {},
   "outputs": [],
   "source": [
    "images = ee.ImageCollection(\"NASA/GIMMS/3GV0\").select('ndvi')\\\n",
    "        .filterDate('1982', '2013').map(clip)"
   ]
  },
  {
   "cell_type": "code",
   "execution_count": null,
   "id": "197abf63",
   "metadata": {},
   "outputs": [],
   "source": [
    "visParam = {\n",
    " 'min': -1,\n",
    " 'max': 1,\n",
    " 'palette': ['000000', 'f5f5f5', '119701']\n",
    "}\n",
    "Map.addLayer(images, visParam, 'NDVI')"
   ]
  },
  {
   "cell_type": "code",
   "execution_count": null,
   "id": "da762a99",
   "metadata": {},
   "outputs": [],
   "source": [
    "def savitzky_golay(y, window_size, order):\n",
    "    half_window = (window_size - 1) / 2\n",
    "    deriv = 0\n",
    "    order_range = ee.List.sequence(0, order)\n",
    "    k_range = ee.List.sequence(-half_window, half_window)\n",
    "    def fun1(k):\n",
    "        return order_range.map(lambda o: ee.Number(k).pow(o))\n",
    "    b = ee.Array(k_range.map(fun1))\n",
    "    mPI = ee.Array(b.matrixPseudoInverse())\n",
    "    impulse_response = (mPI.slice(**{ 'axis': 0, 'start': deriv, 'end': deriv + 1 })).project([1])\n",
    "    y0 = y.get(0)\n",
    "    firstvals = y.slice(1, half_window + 1).reverse().map(\n",
    "        lambda e: ee.Number(e).subtract(y0).abs().multiply(-1).add(y0))\n",
    "    yend = y.get(-1)\n",
    "    lastvals = y.slice(-half_window - 1, -1).reverse().map(\n",
    "        lambda e: ee.Number(e).subtract(yend).abs().add(yend))\n",
    "    y_ext = firstvals.cat(y).cat(lastvals)\n",
    "    runLength = ee.List.sequence(0, y_ext.length().subtract(window_size))\n",
    "    smooth = runLength.map(\n",
    "        lambda i:ee.Array(y_ext.slice(ee.Number(i), ee.Number(i).add(window_size))).multiply(impulse_response).reduce(\"sum\", [0]).get([0])\n",
    "    )\n",
    "    return smooth"
   ]
  },
  {
   "cell_type": "code",
   "execution_count": null,
   "id": "217d33bb",
   "metadata": {},
   "outputs": [],
   "source": [
    "def sg_images(images:ee.ImageCollection, order:int, window_size:int) -> list:\n",
    "    half_window = (window_size - 1) / 2\n",
    "    deriv = 0\n",
    "    order_range = ee.List.sequence(0, order)\n",
    "    k_range = ee.List.sequence(-half_window, half_window)\n",
    "    def fun1(k):\n",
    "        return order_range.map(lambda o: ee.Number(k).pow(o))\n",
    "    b = ee.Array(k_range.map(fun1))\n",
    "    mPI = ee.Array(b.matrixPseudoInverse())\n",
    "    impulse_response = (mPI.slice(**{ 'axis': 0, 'start': deriv, 'end': deriv + 1 })).project([1])\n",
    "\n",
    "    y = images.sort('system:time_start', False).toBands().toArray()\n",
    "    times =images.aggregate_array('system:time_start')\n",
    "    ids = images.aggregate_array('system:id')\n",
    "    y1 = images.sort('system:time_start', True).toBands().toArray()\n",
    "    y0 = y1.arrayGet(0)\n",
    "    firstvals = y.arraySlice(0, -half_window - 1, -1).subtract(y0).abs().multiply(-1).add(y0)\n",
    "    yend = y.arrayGet(0)\n",
    "    lastvals = y.arraySlice(0, 1, half_window+1).subtract(yend).abs().add(yend)\n",
    "    y_ext = firstvals.arrayCat(y1, 0).arrayCat(lastvals, 0)\n",
    "    runLength = ee.List.sequence(0, images.size().subtract(1))\n",
    "\n",
    "    smooth = []\n",
    "    for i in runLength.getInfo():\n",
    "        smooth.append(y_ext.arraySlice(0, ee.Number(i), ee.Number(i).add(window_size))\n",
    "                      .multiply(impulse_response).arrayReduce(\"sum\", [0]).arrayGet([0])\n",
    "                     .set({'system:time_start':times.get(i), 'system:id':ids.get(i)}))\n",
    "    return smooth"
   ]
  },
  {
   "cell_type": "code",
   "execution_count": null,
   "id": "ff69c044",
   "metadata": {},
   "outputs": [],
   "source": [
    "sg = sg_images(images, 2, 9)\n",
    "Map.addLayer(images.first(), {}, 'y1')\n",
    "Map.addLayer(sg[0], {}, 'sg_')"
   ]
  },
  {
   "cell_type": "code",
   "execution_count": null,
   "id": "2dafa5ae",
   "metadata": {},
   "outputs": [],
   "source": [
    "Map.addLayer(images.first(), visParam, 'y1')\n",
    "Map.addLayer(sg[-1], visParam, 'sg_')"
   ]
  },
  {
   "cell_type": "code",
   "execution_count": null,
   "id": "5da72f8d",
   "metadata": {},
   "outputs": [],
   "source": []
  }
 ],
 "metadata": {
  "kernelspec": {
   "display_name": "Python 3 (ipykernel)",
   "language": "python",
   "name": "python3"
  },
  "language_info": {
   "codemirror_mode": {
    "name": "ipython",
    "version": 3
   },
   "file_extension": ".py",
   "mimetype": "text/x-python",
   "name": "python",
   "nbconvert_exporter": "python",
   "pygments_lexer": "ipython3",
   "version": "3.9.7"
  }
 },
 "nbformat": 4,
 "nbformat_minor": 5
}
