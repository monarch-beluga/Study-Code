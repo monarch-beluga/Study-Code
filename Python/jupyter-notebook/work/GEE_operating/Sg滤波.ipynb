{
 "cells": [
  {
   "cell_type": "code",
   "execution_count": 1,
   "id": "ca6f6fdb",
   "metadata": {
    "ExecuteTime": {
     "end_time": "2023-01-11T03:38:38.231981Z",
     "start_time": "2023-01-11T03:38:16.132913Z"
    },
    "scrolled": false
   },
   "outputs": [
    {
     "data": {
      "application/vnd.jupyter.widget-view+json": {
       "model_id": "520a3e2a61c043688183c0674d524914",
       "version_major": 2,
       "version_minor": 0
      },
      "text/plain": [
       "Map(center=[20, 0], controls=(WidgetControl(options=['position', 'transparent_bg'], widget=HBox(children=(Togg…"
      ]
     },
     "metadata": {},
     "output_type": "display_data"
    }
   ],
   "source": [
    "import geemap\n",
    "import ee\n",
    "\n",
    "Map = geemap.Map()\n",
    "Map"
   ]
  },
  {
   "cell_type": "code",
   "execution_count": 2,
   "id": "71baa90c",
   "metadata": {
    "ExecuteTime": {
     "end_time": "2023-01-11T03:39:16.170863Z",
     "start_time": "2023-01-11T03:39:16.154745Z"
    }
   },
   "outputs": [],
   "source": [
    "roi = Map.draw_last_feature.geometry()"
   ]
  },
  {
   "cell_type": "code",
   "execution_count": 3,
   "id": "2510d3ed",
   "metadata": {
    "ExecuteTime": {
     "end_time": "2023-01-11T03:39:18.065809Z",
     "start_time": "2023-01-11T03:39:18.034712Z"
    }
   },
   "outputs": [],
   "source": [
    "def clip(img):\n",
    "    return img.clip(roi)"
   ]
  },
  {
   "cell_type": "code",
   "execution_count": 4,
   "id": "f0baee87",
   "metadata": {
    "ExecuteTime": {
     "end_time": "2023-01-11T03:39:19.155219Z",
     "start_time": "2023-01-11T03:39:19.147214Z"
    }
   },
   "outputs": [],
   "source": [
    "images = ee.ImageCollection(\"NASA/GIMMS/3GV0\").select('ndvi')\\\n",
    "        .filterDate('1982', '2013').map(clip)"
   ]
  },
  {
   "cell_type": "code",
   "execution_count": 5,
   "id": "197abf63",
   "metadata": {
    "ExecuteTime": {
     "end_time": "2023-01-11T03:39:29.693332Z",
     "start_time": "2023-01-11T03:39:23.131667Z"
    }
   },
   "outputs": [],
   "source": [
    "visParam = {\n",
    " 'min': -1,\n",
    " 'max': 1,\n",
    " 'palette': ['000000', 'f5f5f5', '119701']\n",
    "}\n",
    "Map.addLayer(images, visParam, 'NDVI')"
   ]
  },
  {
   "cell_type": "code",
   "execution_count": 6,
   "id": "da762a99",
   "metadata": {
    "ExecuteTime": {
     "end_time": "2023-01-11T03:39:29.709319Z",
     "start_time": "2023-01-11T03:39:29.694356Z"
    }
   },
   "outputs": [],
   "source": [
    "def savitzky_golay(y, window_size, order):\n",
    "    half_window = (window_size - 1) / 2\n",
    "    deriv = 0\n",
    "    order_range = ee.List.sequence(0, order)\n",
    "    k_range = ee.List.sequence(-half_window, half_window)\n",
    "    def fun1(k):\n",
    "        return order_range.map(lambda o: ee.Number(k).pow(o))\n",
    "    b = ee.Array(k_range.map(fun1))\n",
    "    mPI = ee.Array(b.matrixPseudoInverse())\n",
    "    impulse_response = (mPI.slice(**{ 'axis': 0, 'start': deriv, 'end': deriv + 1 })).project([1])\n",
    "    y0 = y.get(0)\n",
    "    firstvals = y.slice(1, half_window + 1).reverse().map(\n",
    "        lambda e: ee.Number(e).subtract(y0).abs().multiply(-1).add(y0))\n",
    "    yend = y.get(-1)\n",
    "    lastvals = y.slice(-half_window - 1, -1).reverse().map(\n",
    "        lambda e: ee.Number(e).subtract(yend).abs().add(yend))\n",
    "    y_ext = firstvals.cat(y).cat(lastvals)\n",
    "    runLength = ee.List.sequence(0, y_ext.length().subtract(window_size))\n",
    "    smooth = runLength.map(\n",
    "        lambda i:ee.Array(y_ext.slice(ee.Number(i), ee.Number(i).add(window_size))).multiply(impulse_response).reduce(\"sum\", [0]).get([0])\n",
    "    )\n",
    "    return smooth"
   ]
  },
  {
   "cell_type": "code",
   "execution_count": 7,
   "id": "217d33bb",
   "metadata": {
    "ExecuteTime": {
     "end_time": "2023-01-11T03:39:29.724923Z",
     "start_time": "2023-01-11T03:39:29.710286Z"
    }
   },
   "outputs": [],
   "source": [
    "def sg_images(images:ee.ImageCollection, order:int, window_size:int) -> list:\n",
    "    half_window = (window_size - 1) / 2\n",
    "    deriv = 0\n",
    "    order_range = ee.List.sequence(0, order)\n",
    "    k_range = ee.List.sequence(-half_window, half_window)\n",
    "    def fun1(k):\n",
    "        return order_range.map(lambda o: ee.Number(k).pow(o))\n",
    "    b = ee.Array(k_range.map(fun1))\n",
    "    mPI = ee.Array(b.matrixPseudoInverse())\n",
    "    impulse_response = (mPI.slice(**{ 'axis': 0, 'start': deriv, 'end': deriv + 1 })).project([1])\n",
    "\n",
    "    y = images.sort('system:time_start', False).toBands().toArray()\n",
    "    times =images.aggregate_array('system:time_start')\n",
    "    ids = images.aggregate_array('system:id')\n",
    "    y1 = images.sort('system:time_start', True).toBands().toArray()\n",
    "    y0 = y1.arrayGet(0)\n",
    "    firstvals = y.arraySlice(0, -half_window - 1, -1).subtract(y0).abs().multiply(-1).add(y0)\n",
    "    yend = y.arrayGet(0)\n",
    "    lastvals = y.arraySlice(0, 1, half_window+1).subtract(yend).abs().add(yend)\n",
    "    y_ext = firstvals.arrayCat(y1, 0).arrayCat(lastvals, 0)\n",
    "    runLength = ee.List.sequence(0, images.size().subtract(1))\n",
    "\n",
    "    smooth = []\n",
    "    for i in runLength.getInfo():\n",
    "        smooth.append(y_ext.arraySlice(0, ee.Number(i), ee.Number(i).add(window_size))\n",
    "                      .multiply(impulse_response).arrayReduce(\"sum\", [0]).arrayGet([0])\n",
    "                     .set({'system:time_start':times.get(i), 'system:id':ids.get(i)}))\n",
    "    return smooth"
   ]
  },
  {
   "cell_type": "code",
   "execution_count": 8,
   "id": "ff69c044",
   "metadata": {
    "ExecuteTime": {
     "end_time": "2023-01-11T03:39:48.593788Z",
     "start_time": "2023-01-11T03:39:35.515881Z"
    }
   },
   "outputs": [],
   "source": [
    "sg = sg_images(images, 2, 9)\n",
    "Map.addLayer(images.first(), {}, 'y1')\n",
    "Map.addLayer(sg[0], {}, 'sg_')"
   ]
  },
  {
   "cell_type": "code",
   "execution_count": 9,
   "id": "2dafa5ae",
   "metadata": {
    "ExecuteTime": {
     "end_time": "2023-01-11T03:40:59.175161Z",
     "start_time": "2023-01-11T03:40:52.068219Z"
    }
   },
   "outputs": [],
   "source": [
    "Map.addLayer(images.first(), visParam, 'y1')\n",
    "Map.addLayer(sg[-1], visParam, 'sg_')"
   ]
  },
  {
   "cell_type": "code",
   "execution_count": null,
   "id": "5da72f8d",
   "metadata": {},
   "outputs": [],
   "source": []
  }
 ],
 "metadata": {
  "kernelspec": {
   "display_name": "Python 3 (ipykernel)",
   "language": "python",
   "name": "python3"
  },
  "language_info": {
   "codemirror_mode": {
    "name": "ipython",
    "version": 3
   },
   "file_extension": ".py",
   "mimetype": "text/x-python",
   "name": "python",
   "nbconvert_exporter": "python",
   "pygments_lexer": "ipython3",
   "version": "3.9.7"
  }
 },
 "nbformat": 4,
 "nbformat_minor": 5
}
