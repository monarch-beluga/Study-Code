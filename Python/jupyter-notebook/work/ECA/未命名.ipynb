{
 "cells": [
  {
   "cell_type": "code",
   "execution_count": null,
   "id": "4f2384ef",
   "metadata": {
    "ExecuteTime": {
     "end_time": "2023-01-13T06:50:48.202882Z",
     "start_time": "2023-01-13T06:50:31.373205Z"
    },
    "scrolled": false
   },
   "outputs": [],
   "source": [
    "import geemap\n",
    "import ee\n",
    "\n",
    "Map = geemap.Map()\n",
    "Map"
   ]
  },
  {
   "cell_type": "code",
   "execution_count": null,
   "id": "ce6c75ab",
   "metadata": {
    "ExecuteTime": {
     "end_time": "2023-01-13T06:50:49.081359Z",
     "start_time": "2023-01-13T06:50:48.203880Z"
    }
   },
   "outputs": [],
   "source": [
    "roi = ee.Geometry.Rectangle([46, 25, 126, 56], None, False)\n",
    "\n",
    "Map.addLayer(roi, {}, 'roi')"
   ]
  },
  {
   "cell_type": "code",
   "execution_count": null,
   "id": "2875f28c",
   "metadata": {
    "ExecuteTime": {
     "end_time": "2023-01-13T06:51:39.067067Z",
     "start_time": "2023-01-13T06:51:39.061054Z"
    }
   },
   "outputs": [],
   "source": [
    "ps = ee.FeatureCollection(Map.draw_features)"
   ]
  },
  {
   "cell_type": "code",
   "execution_count": null,
   "id": "c9c1c796",
   "metadata": {
    "ExecuteTime": {
     "end_time": "2023-01-13T12:40:34.733275Z",
     "start_time": "2023-01-13T12:40:34.707346Z"
    }
   },
   "outputs": [],
   "source": [
    "NDVI_images = ee.ImageCollection(\"MODIS/061/MOD13A2\").select('NDVI')\\\n",
    "        .filterDate('2003', '2022').map(lambda img: img.unmask(-9999))\n",
    "\n",
    "LST_images = ee.ImageCollection(\"MODIS/061/MOD11A2\").select('LST_Day_1km')\\\n",
    "        .filterDate('2000', '2022').map(lambda img: img.unmask(-9999))"
   ]
  },
  {
   "cell_type": "code",
   "execution_count": null,
   "id": "24e93b17",
   "metadata": {
    "ExecuteTime": {
     "end_time": "2023-01-13T06:59:33.992873Z",
     "start_time": "2023-01-13T06:59:31.673535Z"
    }
   },
   "outputs": [],
   "source": [
    "NDVI_images"
   ]
  },
  {
   "cell_type": "code",
   "execution_count": null,
   "id": "a8d643ac",
   "metadata": {
    "ExecuteTime": {
     "start_time": "2023-01-13T06:33:41.212Z"
    }
   },
   "outputs": [],
   "source": [
    "import pandas as pd\n",
    "def sample_points_to_list(img, ps, col_names=None):\n",
    "    ps_data = img.sampleRegions(ps, \n",
    "                                geometries=True, \n",
    "                                scale=img.select(ee.String(img.bandNames().get(0))).projection().nominalScale())\n",
    "    values_list = [f['properties'] for f in ps_data.getInfo()[\"features\"]]\n",
    "    \n",
    "    return values_list"
   ]
  },
  {
   "cell_type": "code",
   "execution_count": null,
   "id": "5bc98f1b",
   "metadata": {
    "ExecuteTime": {
     "end_time": "2023-01-12T06:12:34.738347Z",
     "start_time": "2023-01-12T06:12:34.164840Z"
    }
   },
   "outputs": [],
   "source": [
    "Map.addLayer(NDVI_images, {}, 'NDVI')"
   ]
  },
  {
   "cell_type": "code",
   "execution_count": null,
   "id": "257a33c3",
   "metadata": {
    "ExecuteTime": {
     "end_time": "2023-01-13T07:03:01.079313Z",
     "start_time": "2023-01-13T07:02:58.790968Z"
    }
   },
   "outputs": [],
   "source": [
    "ps_data"
   ]
  },
  {
   "cell_type": "code",
   "execution_count": null,
   "id": "256d18d0",
   "metadata": {
    "ExecuteTime": {
     "end_time": "2023-01-13T12:40:44.367191Z",
     "start_time": "2023-01-13T12:40:38.402954Z"
    }
   },
   "outputs": [],
   "source": [
    "img = NDVI_images.toBands().toArray()\n",
    "ps_data = img.sampleRegions(ps, \n",
    "                            geometries=True, \n",
    "                            scale=img.select(ee.String(img.bandNames().get(0))).projection().nominalScale())\n",
    "ps_data"
   ]
  },
  {
   "cell_type": "code",
   "execution_count": null,
   "id": "ebabc381",
   "metadata": {
    "ExecuteTime": {
     "end_time": "2023-01-12T04:09:21.775359Z",
     "start_time": "2023-01-12T04:09:21.125307Z"
    }
   },
   "outputs": [],
   "source": [
    "NDVI_images.toBands().select(ee.String(NDVI_images.toBands().bandNames().get(0))).projection().nominalScale().getInfo()"
   ]
  },
  {
   "cell_type": "code",
   "execution_count": null,
   "id": "fbabd59c",
   "metadata": {
    "ExecuteTime": {
     "end_time": "2023-01-12T04:10:20.152541Z",
     "start_time": "2023-01-12T04:10:19.415058Z"
    }
   },
   "outputs": [],
   "source": [
    "NDVI_images.toBands()"
   ]
  },
  {
   "cell_type": "code",
   "execution_count": null,
   "id": "779ba9a5",
   "metadata": {
    "ExecuteTime": {
     "end_time": "2023-01-12T04:10:05.265635Z",
     "start_time": "2023-01-12T04:10:04.565998Z"
    }
   },
   "outputs": [],
   "source": [
    "p_NDVI = sample_points_to_list(NDVI_images.toBands(), ps)\n",
    "p_NDVI"
   ]
  },
  {
   "cell_type": "code",
   "execution_count": null,
   "id": "45518d3a",
   "metadata": {
    "ExecuteTime": {
     "end_time": "2023-01-12T03:48:54.678108Z",
     "start_time": "2023-01-12T03:48:54.661126Z"
    }
   },
   "outputs": [],
   "source": [
    "pd.DataFrame(p_NDVI[3])"
   ]
  },
  {
   "cell_type": "code",
   "execution_count": null,
   "id": "697dc9e5",
   "metadata": {
    "ExecuteTime": {
     "end_time": "2023-01-11T03:42:50.502985Z",
     "start_time": "2023-01-11T03:42:48.331393Z"
    }
   },
   "outputs": [],
   "source": [
    "Map.addLayer(NDVI_images.median().clip(roi), {'min': -3000, 'max': 10000}, 'NDVI')\n",
    "Map.addLayer(NDVI_images.median().clip(roi), {'min': 0, 'max': 65535}, 'LST')"
   ]
  },
  {
   "cell_type": "code",
   "execution_count": null,
   "id": "543e63b0",
   "metadata": {
    "ExecuteTime": {
     "end_time": "2023-01-13T07:01:02.977619Z",
     "start_time": "2023-01-13T07:01:02.958672Z"
    }
   },
   "outputs": [],
   "source": [
    "from Monarch.user_gee import *"
   ]
  },
  {
   "cell_type": "code",
   "execution_count": null,
   "id": "3a0dd786",
   "metadata": {
    "ExecuteTime": {
     "end_time": "2023-01-13T07:42:27.781146Z",
     "start_time": "2023-01-13T07:42:22.902419Z"
    }
   },
   "outputs": [],
   "source": [
    "NDVI_sg = sg_images(NDVI_images, 9, 3)\n",
    "LST_sg = sg_images(LST_images, 9, 3)"
   ]
  },
  {
   "cell_type": "code",
   "execution_count": null,
   "id": "9492454f",
   "metadata": {
    "ExecuteTime": {
     "end_time": "2023-01-13T07:43:03.198677Z",
     "start_time": "2023-01-13T07:42:28.654316Z"
    }
   },
   "outputs": [],
   "source": [
    "Map.addLayer(ee.ImageCollection(NDVI_sg).first().clip(roi), {'min': -3000, 'max': 10000}, 'NDVI_sg')"
   ]
  },
  {
   "cell_type": "code",
   "execution_count": null,
   "id": "9a50e0a8",
   "metadata": {
    "ExecuteTime": {
     "end_time": "2023-01-11T03:46:37.279400Z",
     "start_time": "2023-01-11T03:46:32.341349Z"
    }
   },
   "outputs": [],
   "source": [
    "Map.addLayer(NDVI_sg[0].clip(roi), {'min': -3000, 'max': 10000}, 'NDVI_sg1')"
   ]
  },
  {
   "cell_type": "code",
   "execution_count": null,
   "id": "55247ac3",
   "metadata": {
    "ExecuteTime": {
     "end_time": "2023-01-11T06:06:15.107509Z",
     "start_time": "2023-01-11T06:06:04.035286Z"
    }
   },
   "outputs": [],
   "source": [
    "ee.Date(NDVI_images.first().date()).getInfo()"
   ]
  },
  {
   "cell_type": "code",
   "execution_count": null,
   "id": "bcb402ad",
   "metadata": {
    "ExecuteTime": {
     "end_time": "2023-01-11T08:35:29.607908Z",
     "start_time": "2023-01-11T08:35:29.577884Z"
    }
   },
   "outputs": [],
   "source": [
    "y.size"
   ]
  },
  {
   "cell_type": "code",
   "execution_count": null,
   "id": "8cbeca13",
   "metadata": {},
   "outputs": [],
   "source": []
  }
 ],
 "metadata": {
  "kernelspec": {
   "display_name": "Python 3 (ipykernel)",
   "language": "python",
   "name": "python3"
  },
  "language_info": {
   "codemirror_mode": {
    "name": "ipython",
    "version": 3
   },
   "file_extension": ".py",
   "mimetype": "text/x-python",
   "name": "python",
   "nbconvert_exporter": "python",
   "pygments_lexer": "ipython3",
   "version": "3.9.7"
  }
 },
 "nbformat": 4,
 "nbformat_minor": 5
}
