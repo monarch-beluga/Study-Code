{
 "cells": [
  {
   "cell_type": "code",
   "execution_count": 1,
   "id": "8d61720b-d211-4343-ab82-9fc385afea39",
   "metadata": {
    "ExecuteTime": {
     "end_time": "2021-11-30T02:51:26.469118Z",
     "start_time": "2021-11-30T02:44:58.375472Z"
    }
   },
   "outputs": [
    {
     "data": {
      "application/vnd.jupyter.widget-view+json": {
       "model_id": "8d42720d94f24da483fd89fb09898433",
       "version_major": 2,
       "version_minor": 0
      },
      "text/plain": [
       "Map(center=[40, -100], controls=(WidgetControl(options=['position', 'transparent_bg'], widget=HBox(children=(T…"
      ]
     },
     "metadata": {},
     "output_type": "display_data"
    }
   ],
   "source": [
    "import geemap\n",
    "import ee\n",
    "import os\n",
    "Map = geemap.Map()\n",
    "Map"
   ]
  },
  {
   "cell_type": "code",
   "execution_count": 2,
   "id": "eb78a9d9",
   "metadata": {},
   "outputs": [],
   "source": [
    "os.chdir(r'E:\\Work\\QTPofShp')"
   ]
  },
  {
   "cell_type": "code",
   "execution_count": null,
   "id": "acc42c5e",
   "metadata": {},
   "outputs": [],
   "source": [
    "from glob import glob"
   ]
  },
  {
   "cell_type": "code",
   "execution_count": null,
   "id": "342d4e7d",
   "metadata": {},
   "outputs": [],
   "source": [
    "year = 1980\n",
    "images = ee.ImageCollection(\"ECMWF/ERA5/MONTHLY\")\\\n",
    "            .filterDate(str(year), str(year+1))"
   ]
  }
 ],
 "metadata": {
  "kernelspec": {
   "display_name": "Python 3 (ipykernel)",
   "language": "python",
   "name": "python3"
  },
  "language_info": {
   "codemirror_mode": {
    "name": "ipython",
    "version": 3
   },
   "file_extension": ".py",
   "mimetype": "text/x-python",
   "name": "python",
   "nbconvert_exporter": "python",
   "pygments_lexer": "ipython3",
   "version": "3.9.6"
  }
 },
 "nbformat": 4,
 "nbformat_minor": 5
}
