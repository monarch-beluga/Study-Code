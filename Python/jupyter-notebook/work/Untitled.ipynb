{
 "cells": [
  {
   "cell_type": "code",
   "execution_count": null,
   "id": "95e1e77a",
   "metadata": {
    "ExecuteTime": {
     "end_time": "2023-01-09T08:24:11.435992Z",
     "start_time": "2023-01-09T08:24:00.026640Z"
    }
   },
   "outputs": [],
   "source": [
    "import geemap\n",
    "import ee\n",
    "\n",
    "Map = geemap.Map()\n",
    "Map"
   ]
  },
  {
   "cell_type": "code",
   "execution_count": null,
   "id": "f2940ccf",
   "metadata": {
    "ExecuteTime": {
     "end_time": "2023-01-09T08:24:11.971806Z",
     "start_time": "2023-01-09T08:24:11.439296Z"
    }
   },
   "outputs": [],
   "source": [
    "roi = ee.Geometry.Rectangle([46, 25, 126, 56], None, False)\n",
    "\n",
    "Map.addLayer(roi, {}, 'roi')"
   ]
  },
  {
   "cell_type": "code",
   "execution_count": null,
   "id": "d041feb9",
   "metadata": {
    "ExecuteTime": {
     "end_time": "2023-01-09T08:24:11.987903Z",
     "start_time": "2023-01-09T08:24:11.972803Z"
    }
   },
   "outputs": [],
   "source": [
    "images = ee.ImageCollection(\"NASA/GIMMS/3GV0\").filterDate('2002-01-15', '2002-03')"
   ]
  },
  {
   "cell_type": "code",
   "execution_count": null,
   "id": "3a4ecfe5",
   "metadata": {
    "ExecuteTime": {
     "end_time": "2023-01-09T08:24:12.458271Z",
     "start_time": "2023-01-09T08:24:11.989895Z"
    }
   },
   "outputs": [],
   "source": [
    "image_ids = images.aggregate_array('system:id').getInfo()"
   ]
  },
  {
   "cell_type": "code",
   "execution_count": null,
   "id": "67d75b7c",
   "metadata": {
    "ExecuteTime": {
     "end_time": "2023-01-09T08:24:12.474246Z",
     "start_time": "2023-01-09T08:24:12.458807Z"
    }
   },
   "outputs": [],
   "source": [
    "import os\n",
    "os.chdir(r'Y:\\ECA\\NDVI初始')"
   ]
  },
  {
   "cell_type": "code",
   "execution_count": null,
   "id": "08700ce2",
   "metadata": {
    "ExecuteTime": {
     "end_time": "2023-01-09T08:24:12.536512Z",
     "start_time": "2023-01-09T08:24:12.474991Z"
    }
   },
   "outputs": [],
   "source": [
    "from Monarch.user_gee import *"
   ]
  },
  {
   "cell_type": "code",
   "execution_count": null,
   "id": "a405df1e",
   "metadata": {
    "ExecuteTime": {
     "start_time": "2023-01-09T08:40:40.212Z"
    }
   },
   "outputs": [],
   "source": [
    "for img_id in image_ids[:1]:\n",
    "    outfile = f\"NDVI{img_id.split('/')[-1]}\"\n",
    "    img = ee.Image(img_id).select('ndvi').clip(roi)\n",
    "#     geemap.ee_export_image_to_drive(img, description=outfile, folder='Image', \n",
    "#                                     scale=1000, region=roi)\n",
    "    clip_dow_merge(roi, img, outfile, 0.0089831528, 4, crs='epsg:4326')"
   ]
  },
  {
   "cell_type": "code",
   "execution_count": null,
   "id": "ff1b1768",
   "metadata": {
    "ExecuteTime": {
     "end_time": "2023-01-08T02:17:25.702108Z",
     "start_time": "2023-01-08T02:17:25.692134Z"
    }
   },
   "outputs": [],
   "source": [
    "import os\n",
    "os.chdir(r'H:\\Monarch\\Work\\Gansu_PV_2020_map')"
   ]
  },
  {
   "cell_type": "code",
   "execution_count": null,
   "id": "270b245d",
   "metadata": {
    "ExecuteTime": {
     "end_time": "2023-01-08T02:17:27.080465Z",
     "start_time": "2023-01-08T02:17:25.851382Z"
    }
   },
   "outputs": [],
   "source": [
    "shp_file = r'gansu.shp'\n",
    "shp = geemap.shp_to_ee(shp_file, encoding='GBK')"
   ]
  },
  {
   "cell_type": "code",
   "execution_count": null,
   "id": "e493d9d6",
   "metadata": {
    "ExecuteTime": {
     "end_time": "2023-01-08T02:18:15.105257Z",
     "start_time": "2023-01-08T02:17:27.082377Z"
    }
   },
   "outputs": [],
   "source": [
    "Map.addLayer(shp, {}, 'shp')\n",
    "Map.center_object(shp, 6)\n",
    "roi = shp.geometry()"
   ]
  },
  {
   "cell_type": "code",
   "execution_count": null,
   "id": "6bf6f7db",
   "metadata": {
    "ExecuteTime": {
     "end_time": "2023-01-08T02:18:55.059193Z",
     "start_time": "2023-01-08T02:18:15.107266Z"
    }
   },
   "outputs": [],
   "source": [
    "image = ee.Image(\"projects/geemap-2022/assets/Gansu_PV_2020_map\").clip(roi)\n",
    "Map.addLayer(image, {'palette':\"blue\"},'pv_final')"
   ]
  },
  {
   "cell_type": "code",
   "execution_count": null,
   "id": "494bae99",
   "metadata": {
    "ExecuteTime": {
     "end_time": "2023-01-08T02:24:16.583501Z",
     "start_time": "2023-01-08T02:23:40.179226Z"
    }
   },
   "outputs": [],
   "source": [
    "img_c = image.connectedPixelCount(50, True)\n",
    "Map.addLayer(img_c, {'palette': 'red'}, 'img_m')"
   ]
  },
  {
   "cell_type": "code",
   "execution_count": null,
   "id": "33563bae",
   "metadata": {},
   "outputs": [],
   "source": []
  }
 ],
 "metadata": {
  "kernelspec": {
   "display_name": "Python 3 (ipykernel)",
   "language": "python",
   "name": "python3"
  },
  "language_info": {
   "codemirror_mode": {
    "name": "ipython",
    "version": 3
   },
   "file_extension": ".py",
   "mimetype": "text/x-python",
   "name": "python",
   "nbconvert_exporter": "python",
   "pygments_lexer": "ipython3",
   "version": "3.9.7"
  }
 },
 "nbformat": 4,
 "nbformat_minor": 5
}
