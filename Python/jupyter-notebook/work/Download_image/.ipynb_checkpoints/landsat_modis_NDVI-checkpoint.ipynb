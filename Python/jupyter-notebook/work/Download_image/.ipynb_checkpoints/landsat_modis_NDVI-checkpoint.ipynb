{
 "cells": [
  {
   "cell_type": "code",
   "execution_count": null,
   "id": "3cc4d76c",
   "metadata": {},
   "outputs": [],
   "source": [
    "import geemap\n",
    "import ee\n",
    "\n",
    "Map = geemap.Map()\n",
    "Map"
   ]
  },
  {
   "cell_type": "code",
   "execution_count": null,
   "id": "29092672",
   "metadata": {},
   "outputs": [],
   "source": [
    "roi = geemap.shp_to_ee(r'H:/Monarch/Data/roi_prj_gcs.shp')\n",
    "Map.addLayer(roi, {}, 'JX')\n",
    "Map.center_object(roi)"
   ]
  },
  {
   "cell_type": "code",
   "execution_count": null,
   "id": "b0a55c1c",
   "metadata": {},
   "outputs": [],
   "source": [
    "def modis_NDVI(img):\n",
    "    img1 = img.normalizedDifference(['sur_refl_b02', 'sur_refl_b01'])\n",
    "    return img1"
   ]
  },
  {
   "cell_type": "code",
   "execution_count": null,
   "id": "60879615",
   "metadata": {},
   "outputs": [],
   "source": [
    "modis = ee.ImageCollection(\"MODIS/006/MOD09Q1\").filterDate('2018', '2019')\n",
    "landsat8 = ee.ImageCollection('LANDSAT/LC08/C01/T1_8DAY_NDVI')\\\n",
    "            .filterDate('2018', '2019')"
   ]
  },
  {
   "cell_type": "code",
   "execution_count": null,
   "id": "6f2ffc60",
   "metadata": {},
   "outputs": [],
   "source": [
    "Sentinel2 = ee.ImageCollection(\"COPERNICUS/S2\").filterBounds(roi.geometry())\\\n",
    "            .sort('CLOUDY_PIXEL_PERCENTAGE', False).filterDate('2018-03-22', '2018-03-30')"
   ]
  },
  {
   "cell_type": "code",
   "execution_count": null,
   "id": "86b8f6bd",
   "metadata": {},
   "outputs": [],
   "source": [
    "modis_names = modis.aggregate_array('system:id').getInfo()\n",
    "landsat_names = landsat8.aggregate_array('system:id').getInfo()"
   ]
  },
  {
   "cell_type": "code",
   "execution_count": null,
   "id": "34d05f22",
   "metadata": {},
   "outputs": [],
   "source": [
    "modis_name = modis_names[10]\n",
    "landsat_name = landsat_names[10]\n",
    "# modis_img = modis_NDVI(ee.Image(modis_name))\n",
    "# landsat_img = ee.Image(landsat_name)\n",
    "# NDVI_img = landsat_img.unmask(modis_img)"
   ]
  },
  {
   "cell_type": "code",
   "execution_count": null,
   "id": "0e1bc2f0",
   "metadata": {},
   "outputs": [],
   "source": [
    "Ndvi = Sentinel2.map(lambda img: img.normalizedDifference(['B8', 'B4']))"
   ]
  },
  {
   "cell_type": "code",
   "execution_count": null,
   "id": "0e2645f8",
   "metadata": {},
   "outputs": [],
   "source": [
    "Sentinel2.size().getInfo()"
   ]
  },
  {
   "cell_type": "code",
   "execution_count": null,
   "id": "d0763f30",
   "metadata": {},
   "outputs": [],
   "source": [
    "modis_name"
   ]
  },
  {
   "cell_type": "code",
   "execution_count": null,
   "id": "3e450443",
   "metadata": {},
   "outputs": [],
   "source": [
    "ndviVis = {\n",
    "  'min': 0,\n",
    "  'max': 1,\n",
    "  'palette': [\n",
    "    'FFFFFF', 'CE7E45', 'DF923D', 'F1B555', 'FCD163', '99B718', '74A901',\n",
    "    '66A000', '529400', '3E8601', '207401', '056201', '004C00', '023B01',\n",
    "    '012E01', '011D01', '011301'\n",
    "  ],\n",
    "}\n",
    "Map.addLayer(Ndvi, ndviVis, 'n')"
   ]
  },
  {
   "cell_type": "code",
   "execution_count": null,
   "id": "6a9be1c5",
   "metadata": {},
   "outputs": [],
   "source": [
    "f_name = 'NDVI_'+modis_name.split('/')[-1]\n",
    "geemap.ee_export_image_to_drive(Ndvi, description=f_name,\n",
    "                                folder='Image', scale=30)"
   ]
  },
  {
   "cell_type": "code",
   "execution_count": null,
   "id": "212c996b",
   "metadata": {},
   "outputs": [],
   "source": []
  }
 ],
 "metadata": {
  "kernelspec": {
   "display_name": "Python 3 (ipykernel)",
   "language": "python",
   "name": "python3"
  },
  "language_info": {
   "codemirror_mode": {
    "name": "ipython",
    "version": 3
   },
   "file_extension": ".py",
   "mimetype": "text/x-python",
   "name": "python",
   "nbconvert_exporter": "python",
   "pygments_lexer": "ipython3",
   "version": "3.9.7"
  }
 },
 "nbformat": 4,
 "nbformat_minor": 5
}
