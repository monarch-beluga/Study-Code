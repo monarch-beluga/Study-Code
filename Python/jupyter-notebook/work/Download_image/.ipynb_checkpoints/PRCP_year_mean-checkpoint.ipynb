{
 "cells": [
  {
   "cell_type": "code",
   "execution_count": null,
   "id": "efcceec3",
   "metadata": {
    "ExecuteTime": {
     "end_time": "2023-02-06T08:31:34.060190Z",
     "start_time": "2023-02-06T08:31:23.723189Z"
    },
    "tags": []
   },
   "outputs": [],
   "source": [
    "import ee\n",
    "import geemap\n",
    "\n",
    "Map = geemap.Map()\n",
    "Map"
   ]
  },
  {
   "cell_type": "code",
   "execution_count": null,
   "id": "8051ee4b",
   "metadata": {
    "ExecuteTime": {
     "end_time": "2023-02-06T08:31:34.076188Z",
     "start_time": "2023-02-06T08:31:34.061067Z"
    },
    "tags": []
   },
   "outputs": [],
   "source": [
    "import os\n",
    "os.chdir(r'H:\\Monarch\\Work\\PRCP')"
   ]
  },
  {
   "cell_type": "code",
   "execution_count": null,
   "id": "4ae41ea9",
   "metadata": {
    "ExecuteTime": {
     "end_time": "2023-02-04T05:52:45.070161Z",
     "start_time": "2023-02-04T05:52:40.458436Z"
    },
    "tags": []
   },
   "outputs": [],
   "source": [
    "roi = ee.Geometry.Rectangle([30, 10, 125, 50], None, False)\n",
    "\n",
    "Map.addLayer(roi, {}, 'roi')"
   ]
  },
  {
   "cell_type": "code",
   "execution_count": null,
   "id": "64a5dd2b",
   "metadata": {
    "ExecuteTime": {
     "end_time": "2023-02-04T13:29:59.758282Z",
     "start_time": "2023-02-04T13:29:59.283969Z"
    },
    "tags": []
   },
   "outputs": [],
   "source": [
    "Albers_project_img = ee.Image('users/2431566134liumonarch/WGS_1984_Albers_project')\n",
    "\n",
    "crs = Albers_project_img.projection()"
   ]
  },
  {
   "cell_type": "code",
   "execution_count": null,
   "id": "f103b8b7-6ad7-412e-a6ff-6b3e9470d421",
   "metadata": {
    "tags": []
   },
   "outputs": [],
   "source": [
    "images = ee.ImageCollection(\"IDAHO_EPSCOR/TERRACLIMATE\").filterDate('2000', '2021')"
   ]
  },
  {
   "cell_type": "code",
   "execution_count": null,
   "id": "8af4bd6e-bca2-4aec-adeb-2214136ee3e9",
   "metadata": {
    "tags": []
   },
   "outputs": [],
   "source": [
    "prcp_years = []\n",
    "for year in range(2000, 2021):\n",
    "    images = ee.ImageCollection(\"IDAHO_EPSCOR/TERRACLIMATE\").filterDate(f'{year}', f'{year+1}').select('pr')\n",
    "    image = prcp_year_images.sum().clip(roi)\n",
    "    # Map.addLayer(prcp_year_image, {'min': 0, 'max': 3000}, 'prcp')\n",
    "    prcp_years.append(image)"
   ]
  },
  {
   "cell_type": "code",
   "execution_count": null,
   "id": "70604114-9368-4146-888c-84b70980a708",
   "metadata": {
    "tags": []
   },
   "outputs": [],
   "source": [
    "prcp_img = ee.ImageCollection(prcp_years).mean()\n",
    "Map.addLayer(prcp_img, {'min': 0, 'max': 3000}, 'prcp')"
   ]
  },
  {
   "cell_type": "code",
   "execution_count": null,
   "id": "7da34f2d-b41d-4be4-8220-f00969627a50",
   "metadata": {
    "tags": []
   },
   "outputs": [],
   "source": [
    "geemap.download_ee_image(prcp_img, 'prcp_2000_2020_mean.tif', region=roi, crs=crs, scale=4000, dtype='float32')"
   ]
  },
  {
   "cell_type": "code",
   "execution_count": null,
   "id": "0ef6a7c4",
   "metadata": {},
   "outputs": [],
   "source": []
  },
  {
   "cell_type": "code",
   "execution_count": null,
   "id": "c1ebc1e2",
   "metadata": {},
   "outputs": [],
   "source": []
  }
 ],
 "metadata": {
  "kernelspec": {
   "display_name": "Python 3 (ipykernel)",
   "language": "python",
   "name": "python3"
  },
  "language_info": {
   "codemirror_mode": {
    "name": "ipython",
    "version": 3
   },
   "file_extension": ".py",
   "mimetype": "text/x-python",
   "name": "python",
   "nbconvert_exporter": "python",
   "pygments_lexer": "ipython3",
   "version": "3.9.7"
  }
 },
 "nbformat": 4,
 "nbformat_minor": 5
}
