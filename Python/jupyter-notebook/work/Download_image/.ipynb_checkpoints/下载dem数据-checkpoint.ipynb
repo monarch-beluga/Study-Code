{
 "cells": [
  {
   "cell_type": "code",
   "execution_count": 1,
   "id": "0d6ecfc3",
   "metadata": {
    "ExecuteTime": {
     "end_time": "2023-01-04T01:56:18.408936Z",
     "start_time": "2023-01-04T01:55:43.279075Z"
    }
   },
   "outputs": [
    {
     "data": {
      "text/html": [
       "<p>To authorize access needed by Earth Engine, open the following\n",
       "        URL in a web browser and follow the instructions:</p>\n",
       "        <p><a href=https://code.earthengine.google.com/client-auth?scopes=https%3A//www.googleapis.com/auth/earthengine%20https%3A//www.googleapis.com/auth/devstorage.full_control&request_id=-ZfEXOrzkjpvAABgtJrKVZuLrZ14Gs9zkKClyYwSucU&tc=7lFH4rEQsINJtLlyIq94SEmo8X135O68V7Fkm8Z-7DE&cc=msN1O-1z5hlmn0lzmi4bM212Gcbi5B1wQ18eDk3c2bk>https://code.earthengine.google.com/client-auth?scopes=https%3A//www.googleapis.com/auth/earthengine%20https%3A//www.googleapis.com/auth/devstorage.full_control&request_id=-ZfEXOrzkjpvAABgtJrKVZuLrZ14Gs9zkKClyYwSucU&tc=7lFH4rEQsINJtLlyIq94SEmo8X135O68V7Fkm8Z-7DE&cc=msN1O-1z5hlmn0lzmi4bM212Gcbi5B1wQ18eDk3c2bk</a></p>\n",
       "        <p>The authorization workflow will generate a code, which you should paste in the box below.</p>\n",
       "        "
      ],
      "text/plain": [
       "<IPython.core.display.HTML object>"
      ]
     },
     "metadata": {},
     "output_type": "display_data"
    },
    {
     "name": "stdout",
     "output_type": "stream",
     "text": [
      "Enter verification code: 4/1AWgavdf2eqhLcGKmve9ttxRz4yZhEqDK1CJtM_wWDnvLqoj6TIbykVAToG4\n",
      "\n",
      "Successfully saved authorization token.\n"
     ]
    },
    {
     "data": {
      "application/vnd.jupyter.widget-view+json": {
       "model_id": "947792d1bdfd40dbb02ab9e97e67d6c5",
       "version_major": 2,
       "version_minor": 0
      },
      "text/plain": [
       "Map(center=[29, 85], controls=(WidgetControl(options=['position', 'transparent_bg'], widget=HBox(children=(Tog…"
      ]
     },
     "metadata": {},
     "output_type": "display_data"
    }
   ],
   "source": [
    "import geemap\n",
    "import ee\n",
    "from Monarch import user_gee\n",
    "\n",
    "Map = geemap.Map(center=(29, 85))\n",
    "Map"
   ]
  },
  {
   "cell_type": "code",
   "execution_count": 2,
   "id": "4b33e10b",
   "metadata": {
    "ExecuteTime": {
     "end_time": "2023-01-04T01:56:43.439310Z",
     "start_time": "2023-01-04T01:56:43.429337Z"
    }
   },
   "outputs": [],
   "source": [
    "import os\n",
    "os.chdir(r'H:\\Monarch\\Work\\qizhong')"
   ]
  },
  {
   "cell_type": "code",
   "execution_count": 5,
   "id": "60172990",
   "metadata": {
    "ExecuteTime": {
     "end_time": "2023-01-04T01:58:25.387999Z",
     "start_time": "2023-01-04T01:58:23.597925Z"
    }
   },
   "outputs": [
    {
     "name": "stdout",
     "output_type": "stream",
     "text": [
      "Failed to create field name '市': cannot convert to ISO-8859-1\n"
     ]
    }
   ],
   "source": [
    "shp = geemap.shp_to_ee(\"roi.shp\", encoding='utf8')"
   ]
  },
  {
   "cell_type": "code",
   "execution_count": 3,
   "id": "18545bc9",
   "metadata": {
    "ExecuteTime": {
     "end_time": "2023-01-04T01:56:52.057469Z",
     "start_time": "2023-01-04T01:56:47.805082Z"
    }
   },
   "outputs": [
    {
     "name": "stdout",
     "output_type": "stream",
     "text": [
      "Failed to create field name '市': cannot convert to ISO-8859-1\n"
     ]
    },
    {
     "ename": "AttributeError",
     "evalue": "'NoneType' object has no attribute 'geometry'",
     "output_type": "error",
     "traceback": [
      "\u001b[1;31m---------------------------------------------------------------------------\u001b[0m",
      "\u001b[1;31mAttributeError\u001b[0m                            Traceback (most recent call last)",
      "\u001b[1;32m~\\AppData\\Local\\Temp/ipykernel_16200/1407008795.py\u001b[0m in \u001b[0;36m<module>\u001b[1;34m\u001b[0m\n\u001b[0;32m      1\u001b[0m \u001b[0mshp\u001b[0m \u001b[1;33m=\u001b[0m \u001b[0mgeemap\u001b[0m\u001b[1;33m.\u001b[0m\u001b[0mshp_to_ee\u001b[0m\u001b[1;33m(\u001b[0m\u001b[1;34m\"roi.shp\"\u001b[0m\u001b[1;33m)\u001b[0m\u001b[1;33m\u001b[0m\u001b[1;33m\u001b[0m\u001b[0m\n\u001b[1;32m----> 2\u001b[1;33m \u001b[0mroi\u001b[0m \u001b[1;33m=\u001b[0m \u001b[0mshp\u001b[0m\u001b[1;33m.\u001b[0m\u001b[0mgeometry\u001b[0m\u001b[1;33m(\u001b[0m\u001b[1;33m)\u001b[0m\u001b[1;33m\u001b[0m\u001b[1;33m\u001b[0m\u001b[0m\n\u001b[0m\u001b[0;32m      3\u001b[0m \u001b[0mMap\u001b[0m\u001b[1;33m.\u001b[0m\u001b[0maddLayer\u001b[0m\u001b[1;33m(\u001b[0m\u001b[0mroi\u001b[0m\u001b[1;33m,\u001b[0m \u001b[1;33m{\u001b[0m\u001b[1;33m}\u001b[0m\u001b[1;33m,\u001b[0m \u001b[1;34m'roi'\u001b[0m\u001b[1;33m)\u001b[0m\u001b[1;33m\u001b[0m\u001b[1;33m\u001b[0m\u001b[0m\n",
      "\u001b[1;31mAttributeError\u001b[0m: 'NoneType' object has no attribute 'geometry'"
     ]
    }
   ],
   "source": [
    "shp = geemap.shp_to_ee(\"roi.shp\")\n",
    "roi = shp.geometry()\n",
    "Map.addLayer(roi, {}, 'roi')"
   ]
  },
  {
   "cell_type": "code",
   "execution_count": null,
   "id": "54614317",
   "metadata": {},
   "outputs": [],
   "source": [
    "dem_img = ee.ImageCollection('JAXA/ALOS/AW3D30/V3_2').filterBounds(roi).mosaic().clip(roi).select(\"DSM\")\n",
    "Map.addLayer(dem_img, {'min':0, 'max':2000}, 'eleva')"
   ]
  },
  {
   "cell_type": "code",
   "execution_count": null,
   "id": "844ed647",
   "metadata": {},
   "outputs": [],
   "source": [
    "geemap.ee_export_image(dem_img, r'dem_1km.tif', crs='EPSG:3857', scale=1000)"
   ]
  },
  {
   "cell_type": "code",
   "execution_count": null,
   "id": "d038f734",
   "metadata": {},
   "outputs": [],
   "source": [
    "geemap.ee_export_image_to_drive(dem_img, r'dem_1km', folder=\"Image\", crs='EPSG:3857', scale=1000)"
   ]
  },
  {
   "cell_type": "code",
   "execution_count": null,
   "id": "2d93ae02",
   "metadata": {},
   "outputs": [],
   "source": [
    "f = r'dem_1km'\n",
    "while not os.path.exists(f+'.tif'):\n",
    "    user_gee.clip_dow_merge(roi, dem_img, f, scale=1000, sep=0.5)"
   ]
  },
  {
   "cell_type": "code",
   "execution_count": null,
   "id": "ff0c6e01",
   "metadata": {},
   "outputs": [],
   "source": []
  }
 ],
 "metadata": {
  "kernelspec": {
   "display_name": "Python 3 (ipykernel)",
   "language": "python",
   "name": "python3"
  },
  "language_info": {
   "codemirror_mode": {
    "name": "ipython",
    "version": 3
   },
   "file_extension": ".py",
   "mimetype": "text/x-python",
   "name": "python",
   "nbconvert_exporter": "python",
   "pygments_lexer": "ipython3",
   "version": "3.9.7"
  }
 },
 "nbformat": 4,
 "nbformat_minor": 5
}
