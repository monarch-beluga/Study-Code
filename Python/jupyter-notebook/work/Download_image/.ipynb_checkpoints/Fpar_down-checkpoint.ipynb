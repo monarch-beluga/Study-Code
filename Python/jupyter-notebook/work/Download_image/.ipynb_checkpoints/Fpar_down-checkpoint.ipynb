{
 "cells": [
  {
   "cell_type": "code",
   "execution_count": 1,
   "id": "7c4c1939",
   "metadata": {
    "ExecuteTime": {
     "end_time": "2023-02-06T05:49:21.234115Z",
     "start_time": "2023-02-06T05:49:12.077350Z"
    }
   },
   "outputs": [
    {
     "data": {
      "application/vnd.jupyter.widget-view+json": {
       "model_id": "b9bb58896dbf444aafa5c7e7a2d52365",
       "version_major": 2,
       "version_minor": 0
      },
      "text/plain": [
       "Map(center=[20, 0], controls=(WidgetControl(options=['position', 'transparent_bg'], widget=HBox(children=(Togg…"
      ]
     },
     "metadata": {},
     "output_type": "display_data"
    }
   ],
   "source": [
    "import ee\n",
    "import geemap\n",
    "\n",
    "Map = geemap.Map()\n",
    "Map"
   ]
  },
  {
   "cell_type": "code",
   "execution_count": 2,
   "id": "2d670bdd",
   "metadata": {
    "ExecuteTime": {
     "end_time": "2023-02-06T05:49:21.250073Z",
     "start_time": "2023-02-06T05:49:21.235134Z"
    }
   },
   "outputs": [],
   "source": [
    "import os\n",
    "os.chdir(r'D:\\MCD_dow')"
   ]
  },
  {
   "cell_type": "code",
   "execution_count": 3,
   "id": "b15d4084",
   "metadata": {
    "ExecuteTime": {
     "end_time": "2023-02-06T05:49:24.200705Z",
     "start_time": "2023-02-06T05:49:21.251071Z"
    }
   },
   "outputs": [],
   "source": [
    "shp_file = r'roi.shp'\n",
    "shp = geemap.shp_to_ee(shp_file)\n",
    "\n",
    "Map.addLayer(shp, {}, 'shp')\n",
    "\n",
    "Map.center_object(shp, 3)\n",
    "roi = shp.geometry()"
   ]
  },
  {
   "cell_type": "code",
   "execution_count": 4,
   "id": "39873f27",
   "metadata": {
    "ExecuteTime": {
     "end_time": "2023-02-06T05:49:24.216662Z",
     "start_time": "2023-02-06T05:49:24.202700Z"
    }
   },
   "outputs": [],
   "source": [
    "start_time = 2018\n",
    "end_time = 2021\n",
    "day_sep = 8\n",
    "bands = ['Fpar']"
   ]
  },
  {
   "cell_type": "code",
   "execution_count": 5,
   "id": "10e545fa",
   "metadata": {
    "ExecuteTime": {
     "end_time": "2023-02-06T05:49:24.231622Z",
     "start_time": "2023-02-06T05:49:24.217660Z"
    }
   },
   "outputs": [],
   "source": [
    "Albers_project_img = ee.Image('users/2431566134liumonarch/WGS_1984_Albers_project')\n",
    "\n",
    "crs = Albers_project_img.projection()"
   ]
  },
  {
   "cell_type": "code",
   "execution_count": null,
   "id": "7f9e19a5",
   "metadata": {
    "ExecuteTime": {
     "start_time": "2023-02-06T05:48:23.528Z"
    }
   },
   "outputs": [],
   "source": [
    "var = 'Fpar'\n",
    "if not os.path.exists(var):\n",
    "    os.mkdir(var)\n",
    "    \n",
    "for year in range(start_time, end_time):\n",
    "    if (year%4 == 0 and year%400!=0) or (year%400==0):\n",
    "        days = 366\n",
    "    else:\n",
    "        days = 365\n",
    "    images_year = ee.ImageCollection(\"MODIS/061/MCD15A3H\")\\\n",
    "                .filterDate(f'{year}', f'{year+1}').select(bands[0])\n",
    "    for day in range(0, days, day_sep):\n",
    "        image = images_year.filter(ee.Filter.calendarRange(day, day+day_sep, 'day_of_year')).mean().multiply(0.01)\n",
    "        outfile = f'{var}/{var}_{year}{i+1:03d}.tif'\n",
    "        while not os.path.exists(outfile):\n",
    "            try:\n",
    "                geemap.download_ee_image(image, outfile, region=roi, crs=crs,\n",
    "                                     scale=1000, dtype='float32')\n",
    "            except:\n",
    "                os.remove(outfile)\n",
    "                continue"
   ]
  },
  {
   "cell_type": "code",
   "execution_count": null,
   "id": "42903a69",
   "metadata": {
    "ExecuteTime": {
     "end_time": "2023-02-03T02:42:23.820795Z",
     "start_time": "2023-02-03T02:42:23.806833Z"
    }
   },
   "outputs": [],
   "source": [
    "count = images.size()\n",
    "images_list = images.toList(count)"
   ]
  },
  {
   "cell_type": "code",
   "execution_count": null,
   "id": "4fa7dfec",
   "metadata": {},
   "outputs": [],
   "source": []
  },
  {
   "cell_type": "code",
   "execution_count": null,
   "id": "59787fd7",
   "metadata": {
    "ExecuteTime": {
     "end_time": "2023-02-03T02:42:23.835755Z",
     "start_time": "2023-02-03T02:42:23.822790Z"
    }
   },
   "outputs": [],
   "source": [
    "def merge_img(i):\n",
    "    i = ee.Number(i)\n",
    "    img1 = ee.Image(images_list.get(i))\n",
    "    img2 = ee.Image(images_list.get(i.add(1)))\n",
    "    img = img1.add(img2).multiply(0.01).multiply(0.5)\n",
    "    img = img.reproject(**{'crs': 'epsg:4326', 'scale': 500}).clip(roi)\n",
    "    img = img.set('system:id', img1.get('system:id'))\n",
    "    return ee.Image(img)"
   ]
  },
  {
   "cell_type": "code",
   "execution_count": null,
   "id": "8305624e",
   "metadata": {
    "ExecuteTime": {
     "end_time": "2023-02-03T02:42:24.320306Z",
     "start_time": "2023-02-03T02:42:23.837750Z"
    }
   },
   "outputs": [],
   "source": [
    "images_merge_list = ee.List.sequence(0, count.subtract(1), 2).map(merge_img)\n",
    "image_count = images_merge_list.size().getInfo()"
   ]
  },
  {
   "cell_type": "code",
   "execution_count": null,
   "id": "b16c4c68",
   "metadata": {
    "ExecuteTime": {
     "end_time": "2023-02-03T02:42:26.844530Z",
     "start_time": "2023-02-03T02:42:24.321206Z"
    }
   },
   "outputs": [],
   "source": [
    "outfiles = ee.ImageCollection(images_merge_list).aggregate_array('system:id').getInfo()"
   ]
  },
  {
   "cell_type": "code",
   "execution_count": null,
   "id": "2ac0e166",
   "metadata": {
    "ExecuteTime": {
     "end_time": "2023-02-03T02:42:26.890692Z",
     "start_time": "2023-02-03T02:42:26.856248Z"
    }
   },
   "outputs": [],
   "source": [
    "from Monarch.clip_dow_merge import *"
   ]
  },
  {
   "cell_type": "code",
   "execution_count": null,
   "id": "c058b0dc",
   "metadata": {
    "ExecuteTime": {
     "end_time": "2023-02-03T02:42:26.967941Z",
     "start_time": "2023-02-03T02:42:26.950594Z"
    }
   },
   "outputs": [],
   "source": [
    "var = 'Fpar'"
   ]
  },
  {
   "cell_type": "code",
   "execution_count": null,
   "id": "51ab744f",
   "metadata": {
    "ExecuteTime": {
     "end_time": "2023-02-03T02:42:28.993921Z",
     "start_time": "2023-02-03T02:42:28.989903Z"
    }
   },
   "outputs": [],
   "source": [
    "if not os.path.exists(f'{var}'):\n",
    "    os.mkdir(f'{var}')"
   ]
  },
  {
   "cell_type": "code",
   "execution_count": null,
   "id": "a32c04f6",
   "metadata": {
    "ExecuteTime": {
     "end_time": "2023-02-03T02:46:12.451369Z",
     "start_time": "2023-02-03T02:45:38.272521Z"
    }
   },
   "outputs": [],
   "source": [
    "img = ee.Image(images_merge_list.get(0))\n",
    "outfile = f\"{var}_{outfiles[0].split('/')[-1]}_t\"\n",
    "geemap.download_ee_image(img, outfile+'.tif', region=roi, crs='epsg:4326',\n",
    "                         scale=1000, dtype='float32')"
   ]
  },
  {
   "cell_type": "markdown",
   "id": "9c3b9d91",
   "metadata": {},
   "source": [
    "#### 测试一张影像下载"
   ]
  },
  {
   "cell_type": "code",
   "execution_count": null,
   "id": "68b3c68a",
   "metadata": {
    "ExecuteTime": {
     "end_time": "2023-02-03T02:45:17.097453Z",
     "start_time": "2023-02-03T02:42:57.816508Z"
    },
    "scrolled": true
   },
   "outputs": [],
   "source": [
    "img = ee.Image(images_merge_list.get(0))\n",
    "outfile = f\"{var}_{outfiles[0].split('/')[-1]}\"\n",
    "while not os.path.exists(outfile + '.tif'):\n",
    "    try:\n",
    "        clip_dow_merge(roi, img, outfile, 1000, 4)\n",
    "    except:\n",
    "        continue"
   ]
  },
  {
   "cell_type": "markdown",
   "id": "70261b54",
   "metadata": {},
   "source": [
    "#### 下载所有影像"
   ]
  },
  {
   "cell_type": "code",
   "execution_count": null,
   "id": "2f1e1f2f",
   "metadata": {
    "ExecuteTime": {
     "end_time": "2023-02-01T13:07:52.534305Z",
     "start_time": "2023-02-01T11:11:18.713930Z"
    },
    "scrolled": true
   },
   "outputs": [],
   "source": [
    "for i in range(image_count):\n",
    "    img = ee.Image(images_merge_list.get(i))\n",
    "    outfile = f\"{var}/{var}_{outfiles[i].split('/')[-1]}\"\n",
    "    while not os.path.exists(outfile + '.tif'):\n",
    "        try:\n",
    "            clip_dow_merge(roi, img, outfile, 1000, 4)\n",
    "        except:\n",
    "            continue"
   ]
  },
  {
   "cell_type": "code",
   "execution_count": null,
   "id": "92194179",
   "metadata": {},
   "outputs": [],
   "source": []
  },
  {
   "cell_type": "code",
   "execution_count": null,
   "id": "c471dae4",
   "metadata": {
    "ExecuteTime": {
     "end_time": "2023-02-01T05:09:54.085118Z",
     "start_time": "2023-02-01T05:07:09.752390Z"
    },
    "scrolled": true
   },
   "outputs": [],
   "source": [
    "image_count = images_merge_list.size().getInfo()\n",
    "for i in range(6, image_count):\n",
    "    img = ee.Image(images_merge_list.get(i))\n",
    "    \n",
    "    outfile = f\"Fpar_{img.get('system:id').getInfo().split('/')[-1]}\"\n",
    "    geemap.ee_export_image_to_drive(img, outfile, folder='Fpar', scale=1000, crs='epsg:4326', \n",
    "                                    region=roi, maxPixels=1e10)\n",
    "    print(i, outfile, '导出成功！！！')"
   ]
  },
  {
   "cell_type": "code",
   "execution_count": null,
   "id": "1859dd67",
   "metadata": {
    "ExecuteTime": {
     "end_time": "2023-02-02T12:10:55.389725Z",
     "start_time": "2023-02-02T12:10:55.377729Z"
    }
   },
   "outputs": [],
   "source": [
    "import geedim as gd"
   ]
  }
 ],
 "metadata": {
  "kernelspec": {
   "display_name": "Python 3 (ipykernel)",
   "language": "python",
   "name": "python3"
  },
  "language_info": {
   "codemirror_mode": {
    "name": "ipython",
    "version": 3
   },
   "file_extension": ".py",
   "mimetype": "text/x-python",
   "name": "python",
   "nbconvert_exporter": "python",
   "pygments_lexer": "ipython3",
   "version": "3.9.7"
  }
 },
 "nbformat": 4,
 "nbformat_minor": 5
}
