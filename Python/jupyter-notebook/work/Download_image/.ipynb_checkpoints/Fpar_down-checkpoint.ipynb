{
 "cells": [
  {
   "cell_type": "code",
   "execution_count": 1,
   "id": "7c4c1939",
   "metadata": {
    "ExecuteTime": {
     "end_time": "2023-02-01T07:11:03.398073Z",
     "start_time": "2023-02-01T07:10:56.996598Z"
    }
   },
   "outputs": [
    {
     "data": {
      "application/vnd.jupyter.widget-view+json": {
       "model_id": "0b1aac5dcb8c404299f84fbef362cc23",
       "version_major": 2,
       "version_minor": 0
      },
      "text/plain": [
       "Map(center=[20, 0], controls=(WidgetControl(options=['position', 'transparent_bg'], widget=HBox(children=(Togg…"
      ]
     },
     "metadata": {},
     "output_type": "display_data"
    }
   ],
   "source": [
    "import ee\n",
    "import geemap\n",
    "\n",
    "Map = geemap.Map()\n",
    "Map"
   ]
  },
  {
   "cell_type": "code",
   "execution_count": 2,
   "id": "b15d4084",
   "metadata": {
    "ExecuteTime": {
     "end_time": "2023-02-01T07:11:03.413034Z",
     "start_time": "2023-02-01T07:11:03.399071Z"
    }
   },
   "outputs": [],
   "source": [
    "import os\n",
    "os.chdir(r'H:/Monarch/Work/MCD_dow/')\n",
    "\n",
    "shp_file = r'roi.shp'\n",
    "shp = geemap.shp_to_ee(shp_file)\n",
    "\n",
    "Map.addLayer(shp, {}, 'shp')\n",
    "\n",
    "Map.center_object(shp, 3)\n",
    "roi = shp.geometry()"
   ]
  },
  {
   "cell_type": "code",
   "execution_count": 6,
   "id": "ffbadcd5",
   "metadata": {
    "ExecuteTime": {
     "end_time": "2023-02-01T07:11:06.844092Z",
     "start_time": "2023-02-01T07:11:06.828135Z"
    }
   },
   "outputs": [],
   "source": [
    "start_time = 2018\n",
    "end_time = 2021\n",
    "\n",
    "images = ee.ImageCollection(\"MODIS/061/MCD15A3H\").select('Fpar')\\\n",
    "            .filterDate(f'{start_time}', f'{end_time}')"
   ]
  },
  {
   "cell_type": "code",
   "execution_count": 8,
   "id": "42903a69",
   "metadata": {
    "ExecuteTime": {
     "end_time": "2023-02-01T07:11:07.138719Z",
     "start_time": "2023-02-01T07:11:07.124756Z"
    }
   },
   "outputs": [],
   "source": [
    "count = images.size()\n",
    "images_list = images.toList(count)"
   ]
  },
  {
   "cell_type": "code",
   "execution_count": 9,
   "id": "59787fd7",
   "metadata": {
    "ExecuteTime": {
     "end_time": "2023-02-01T07:11:07.275965Z",
     "start_time": "2023-02-01T07:11:07.259981Z"
    }
   },
   "outputs": [],
   "source": [
    "def merge_img(i):\n",
    "    i = ee.Number(i)\n",
    "    img1 = ee.Image(images_list.get(i))\n",
    "    img2 = ee.Image(images_list.get(i.add(1)))\n",
    "    img = img1.add(img2).multiply(0.01).multiply(0.5)\n",
    "    img = img.reproject(**{'crs': 'epsg:4326', 'scale': 500}).clip(roi)\n",
    "    img = img.set('system:id', img1.get('system:id'))\n",
    "    return ee.Image(img)"
   ]
  },
  {
   "cell_type": "code",
   "execution_count": 10,
   "id": "8305624e",
   "metadata": {
    "ExecuteTime": {
     "end_time": "2023-02-01T07:11:09.591439Z",
     "start_time": "2023-02-01T07:11:09.572490Z"
    }
   },
   "outputs": [],
   "source": [
    "images_merge_list = ee.List.sequence(0, count.subtract(1), 2).map(merge_img)\n",
    "image_count = images_merge_list.size().getInfo()"
   ]
  },
  {
   "cell_type": "code",
   "execution_count": 11,
   "id": "2ac0e166",
   "metadata": {
    "ExecuteTime": {
     "end_time": "2023-02-01T07:11:09.805432Z",
     "start_time": "2023-02-01T07:11:09.788478Z"
    }
   },
   "outputs": [],
   "source": [
    "from Monarch.user_gee import *"
   ]
  },
  {
   "cell_type": "code",
   "execution_count": 12,
   "id": "c058b0dc",
   "metadata": {
    "ExecuteTime": {
     "end_time": "2023-02-01T07:11:10.315254Z",
     "start_time": "2023-02-01T07:11:10.307275Z"
    }
   },
   "outputs": [],
   "source": [
    "var = 'Fpar'"
   ]
  },
  {
   "cell_type": "code",
   "execution_count": 13,
   "id": "51ab744f",
   "metadata": {
    "ExecuteTime": {
     "end_time": "2023-02-01T07:11:10.715084Z",
     "start_time": "2023-02-01T07:11:10.698130Z"
    }
   },
   "outputs": [],
   "source": [
    "if not os.path.exists(f'{var}'):\n",
    "    os.mkdir(f'{var}')"
   ]
  },
  {
   "cell_type": "code",
   "execution_count": null,
   "id": "2f1e1f2f",
   "metadata": {
    "ExecuteTime": {
     "start_time": "2023-02-01T07:25:26.684Z"
    },
    "scrolled": true
   },
   "outputs": [
    {
     "name": "stdout",
     "output_type": "stream",
     "text": [
      "影像切割完毕！！！\n",
      "需要下载的影像数: 8\n",
      "\n",
      "Generating URL ...\n",
      "Downloading data from https://earthengine.googleapis.com/v1alpha/projects/earthengine-legacy/thumbnails/85dd5d2e121bc5dd591d3ee2d08e352e-38e9ca648a192acdd4de0e53336374f6:getPixels\n",
      "Please wait ...\n",
      "Data downloaded to H:\\Monarch\\Work\\MCD_dow\\Fpar\\Fpar_2018_02_10_mk\\1.tif\n",
      "Generating URL ...\n",
      "Downloading data from https://earthengine.googleapis.com/v1alpha/projects/earthengine-legacy/thumbnails/a40d0c26ed43315f02bac98636e577c7-607b1dc1808a2137c9bb18c8ab8cdf13:getPixels\n",
      "Please wait ...\n",
      "Data downloaded to H:\\Monarch\\Work\\MCD_dow\\Fpar\\Fpar_2018_02_10_mk\\2.tif\n",
      "Generating URL ...\n",
      "Downloading data from https://earthengine.googleapis.com/v1alpha/projects/earthengine-legacy/thumbnails/418aff6056553754f319e1debecf48fc-d32e99e1960dcb25dd2c12ad7616e0bb:getPixels\n",
      "Please wait ...\n",
      "Data downloaded to H:\\Monarch\\Work\\MCD_dow\\Fpar\\Fpar_2018_02_10_mk\\3.tif\n",
      "Generating URL ...\n",
      "Downloading data from https://earthengine.googleapis.com/v1alpha/projects/earthengine-legacy/thumbnails/3239059babd8ea43ee9fcdba0456bf10-159a2258ca67438059073386a91be7d5:getPixels\n",
      "Please wait ...\n",
      "Data downloaded to H:\\Monarch\\Work\\MCD_dow\\Fpar\\Fpar_2018_02_10_mk\\4.tif\n",
      "Generating URL ...\n",
      "Downloading data from https://earthengine.googleapis.com/v1alpha/projects/earthengine-legacy/thumbnails/16f846d4b26e329bebe2018293366d0c-646293064de16557f623f5fca56e259c:getPixels\n",
      "Please wait ...\n",
      "Data downloaded to H:\\Monarch\\Work\\MCD_dow\\Fpar\\Fpar_2018_02_10_mk\\5.tif\n",
      "Generating URL ...\n",
      "Downloading data from https://earthengine.googleapis.com/v1alpha/projects/earthengine-legacy/thumbnails/d9bc262675cc1b687ff0d9654c3a1ca6-6ece8421a32f5c86a8677f3f1cd03e95:getPixels\n",
      "Please wait ...\n",
      "Data downloaded to H:\\Monarch\\Work\\MCD_dow\\Fpar\\Fpar_2018_02_10_mk\\6.tif\n",
      "Generating URL ...\n",
      "Downloading data from https://earthengine.googleapis.com/v1alpha/projects/earthengine-legacy/thumbnails/79d77d4bf34faea282df7b054a555a9c-f5071e59b5efa4a5c3d303926a3f4a18:getPixels\n",
      "Please wait ...\n",
      "Data downloaded to H:\\Monarch\\Work\\MCD_dow\\Fpar\\Fpar_2018_02_10_mk\\7.tif\n",
      "Generating URL ...\n",
      "Downloading data from https://earthengine.googleapis.com/v1alpha/projects/earthengine-legacy/thumbnails/9f80c240e475bf7ed1d9fc2e73a4166b-d7a880a9461e49a93556eb9796b51cfd:getPixels\n",
      "Please wait ...\n",
      "Data downloaded to H:\\Monarch\\Work\\MCD_dow\\Fpar\\Fpar_2018_02_10_mk\\8.tif\n",
      "总耗时:00h01m47s\n",
      "影像切割完毕！！！\n",
      "需要下载的影像数: 9\n",
      "\n",
      "Generating URL ...\n",
      "Downloading data from https://earthengine.googleapis.com/v1alpha/projects/earthengine-legacy/thumbnails/48b71583262ddfc6500e39f27ca242f8-2e0fe01afb4a39c527774c6f7e3bf1ca:getPixels\n",
      "Please wait ...\n",
      "Data downloaded to H:\\Monarch\\Work\\MCD_dow\\Fpar\\Fpar_2018_02_18_mk\\0.tif\n",
      "Generating URL ...\n",
      "Downloading data from https://earthengine.googleapis.com/v1alpha/projects/earthengine-legacy/thumbnails/441b96e9bf7b897362b8696f923dd07e-a85e442c3bdff1ba7b587df96c79350a:getPixels\n",
      "Please wait ...\n",
      "Data downloaded to H:\\Monarch\\Work\\MCD_dow\\Fpar\\Fpar_2018_02_18_mk\\1.tif\n",
      "Generating URL ...\n",
      "Downloading data from https://earthengine.googleapis.com/v1alpha/projects/earthengine-legacy/thumbnails/36f34bbe4ffad19f3a7410d91c382310-352fe9518a7ea986a68cc47a5ded33d7:getPixels\n",
      "Please wait ...\n",
      "Data downloaded to H:\\Monarch\\Work\\MCD_dow\\Fpar\\Fpar_2018_02_18_mk\\2.tif\n",
      "Generating URL ...\n",
      "Downloading data from https://earthengine.googleapis.com/v1alpha/projects/earthengine-legacy/thumbnails/e3f6cec8930d9e397f109d74f6014e55-d2d73e5de916861784c61bcd1a1f82a0:getPixels\n",
      "Please wait ...\n",
      "Data downloaded to H:\\Monarch\\Work\\MCD_dow\\Fpar\\Fpar_2018_02_18_mk\\3.tif\n",
      "Generating URL ...\n",
      "Downloading data from https://earthengine.googleapis.com/v1alpha/projects/earthengine-legacy/thumbnails/df02f4e1be860bd4618ff072a058e00d-d2ec2da55b66bbd6f3b221f138f70e72:getPixels\n",
      "Please wait ...\n",
      "Data downloaded to H:\\Monarch\\Work\\MCD_dow\\Fpar\\Fpar_2018_02_18_mk\\4.tif\n",
      "Generating URL ...\n",
      "Downloading data from https://earthengine.googleapis.com/v1alpha/projects/earthengine-legacy/thumbnails/c8584f069d3217e55cd49e378e42a9ae-916963d04416e4fb9cc6aa4571174308:getPixels\n",
      "Please wait ...\n",
      "Data downloaded to H:\\Monarch\\Work\\MCD_dow\\Fpar\\Fpar_2018_02_18_mk\\5.tif\n",
      "Generating URL ...\n",
      "Downloading data from https://earthengine.googleapis.com/v1alpha/projects/earthengine-legacy/thumbnails/acb3f01a5f8f77cf6f3cb2d42feefb19-9c7de70f726d5bbe1d434ec096991f3f:getPixels\n",
      "Please wait ...\n",
      "Data downloaded to H:\\Monarch\\Work\\MCD_dow\\Fpar\\Fpar_2018_02_18_mk\\6.tif\n",
      "Generating URL ...\n",
      "Downloading data from https://earthengine.googleapis.com/v1alpha/projects/earthengine-legacy/thumbnails/99c1cab677db80ab24f4492136023306-327f46928bda8526594167d4eea687cb:getPixels\n",
      "Please wait ...\n",
      "Data downloaded to H:\\Monarch\\Work\\MCD_dow\\Fpar\\Fpar_2018_02_18_mk\\7.tif\n",
      "Generating URL ...\n",
      "Downloading data from https://earthengine.googleapis.com/v1alpha/projects/earthengine-legacy/thumbnails/7136c3b8b2dc1fb750dbc210477515e1-18d4651a40f853227f82277ebc36eaeb:getPixels\n",
      "Please wait ...\n",
      "Data downloaded to H:\\Monarch\\Work\\MCD_dow\\Fpar\\Fpar_2018_02_18_mk\\8.tif\n",
      "总耗时:00h01m52s\n",
      "影像切割完毕！！！\n",
      "需要下载的影像数: 9\n",
      "\n",
      "Generating URL ...\n",
      "Downloading data from https://earthengine.googleapis.com/v1alpha/projects/earthengine-legacy/thumbnails/6558431e80a562431debf8cee3787f11-81141ccb5b32515714d936c8d63ec166:getPixels\n",
      "Please wait ...\n",
      "Data downloaded to H:\\Monarch\\Work\\MCD_dow\\Fpar\\Fpar_2018_02_26_mk\\0.tif\n",
      "Generating URL ...\n",
      "Downloading data from https://earthengine.googleapis.com/v1alpha/projects/earthengine-legacy/thumbnails/7de199e505c12e1f4368b48d172a5598-0de7178b00fc6d9d8e5bdb78e850f9fc:getPixels\n",
      "Please wait ...\n",
      "Data downloaded to H:\\Monarch\\Work\\MCD_dow\\Fpar\\Fpar_2018_02_26_mk\\1.tif\n",
      "Generating URL ...\n",
      "Downloading data from https://earthengine.googleapis.com/v1alpha/projects/earthengine-legacy/thumbnails/f530b99d208597cf51b7606535467fa6-754c55fd194d7368e35fd7f0af0e7671:getPixels\n",
      "Please wait ...\n",
      "Data downloaded to H:\\Monarch\\Work\\MCD_dow\\Fpar\\Fpar_2018_02_26_mk\\2.tif\n",
      "Generating URL ...\n",
      "Downloading data from https://earthengine.googleapis.com/v1alpha/projects/earthengine-legacy/thumbnails/593d57b2bcd15442885bb3238c981556-fbc2ece7d146bf91007174759090a335:getPixels\n",
      "Please wait ...\n",
      "Data downloaded to H:\\Monarch\\Work\\MCD_dow\\Fpar\\Fpar_2018_02_26_mk\\3.tif\n",
      "Generating URL ...\n",
      "Downloading data from https://earthengine.googleapis.com/v1alpha/projects/earthengine-legacy/thumbnails/bb72152aa795e134d1cf315e04e3f906-050ab775d6afa7ef3a8ada2cecd68edf:getPixels\n",
      "Please wait ...\n",
      "Data downloaded to H:\\Monarch\\Work\\MCD_dow\\Fpar\\Fpar_2018_02_26_mk\\4.tif\n",
      "Generating URL ...\n",
      "Downloading data from https://earthengine.googleapis.com/v1alpha/projects/earthengine-legacy/thumbnails/6bfcee8184ef9f2b9230d8da2402fa1e-04d2908d8d32beac5db63abcade56c36:getPixels\n",
      "Please wait ...\n",
      "Data downloaded to H:\\Monarch\\Work\\MCD_dow\\Fpar\\Fpar_2018_02_26_mk\\5.tif\n",
      "Generating URL ...\n",
      "Downloading data from https://earthengine.googleapis.com/v1alpha/projects/earthengine-legacy/thumbnails/b4ea13acbc185447ffb6bc132be93861-663ae3a1afaf0a82ca44b1e1bed89280:getPixels\n",
      "Please wait ...\n",
      "Data downloaded to H:\\Monarch\\Work\\MCD_dow\\Fpar\\Fpar_2018_02_26_mk\\6.tif\n",
      "Generating URL ...\n",
      "Downloading data from https://earthengine.googleapis.com/v1alpha/projects/earthengine-legacy/thumbnails/4c3f17aa10b7640fae300f4d297016bc-17739bb0b93b030aa4af72298b6f4e19:getPixels\n",
      "Please wait ...\n",
      "Data downloaded to H:\\Monarch\\Work\\MCD_dow\\Fpar\\Fpar_2018_02_26_mk\\7.tif\n",
      "Generating URL ...\n"
     ]
    }
   ],
   "source": [
    "for i in range(image_count):\n",
    "    img = ee.Image(images_merge_list.get(i))\n",
    "    outfile = f\"{var}/{var}_{img.get('system:id').getInfo().split('/')[-1]}\"\n",
    "    if not os.path.exists(outfile + '.tif'):\n",
    "        clip_dow_merge(roi, img, outfile, 1000, 4)"
   ]
  },
  {
   "cell_type": "code",
   "execution_count": null,
   "id": "c6f88f98",
   "metadata": {
    "ExecuteTime": {
     "end_time": "2023-02-01T05:09:54.085118Z",
     "start_time": "2023-02-01T05:07:09.752390Z"
    },
    "scrolled": true
   },
   "outputs": [],
   "source": [
    "image_count = images_merge_list.size().getInfo()\n",
    "for i in range(6, image_count):\n",
    "    img = ee.Image(images_merge_list.get(i))\n",
    "    \n",
    "    outfile = f\"Fpar_{img.get('system:id').getInfo().split('/')[-1]}\"\n",
    "    geemap.ee_export_image_to_drive(img, outfile, folder='Fpar', scale=1000, crs='epsg:4326', \n",
    "                                    region=roi, maxPixels=1e10)\n",
    "    print(i, outfile, '导出成功！！！')"
   ]
  },
  {
   "cell_type": "code",
   "execution_count": null,
   "id": "1859dd67",
   "metadata": {},
   "outputs": [],
   "source": []
  }
 ],
 "metadata": {
  "kernelspec": {
   "display_name": "Python 3 (ipykernel)",
   "language": "python",
   "name": "python3"
  },
  "language_info": {
   "codemirror_mode": {
    "name": "ipython",
    "version": 3
   },
   "file_extension": ".py",
   "mimetype": "text/x-python",
   "name": "python",
   "nbconvert_exporter": "python",
   "pygments_lexer": "ipython3",
   "version": "3.9.7"
  }
 },
 "nbformat": 4,
 "nbformat_minor": 5
}
