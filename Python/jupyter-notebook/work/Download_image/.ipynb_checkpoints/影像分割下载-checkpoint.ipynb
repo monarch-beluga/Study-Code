{
 "cells": [
  {
   "cell_type": "code",
   "execution_count": null,
   "id": "79893219",
   "metadata": {},
   "outputs": [],
   "source": [
    "import geemap\n",
    "import ee\n",
    "import os\n",
    "from concurrent.futures.thread import ThreadPoolExecutor"
   ]
  },
  {
   "cell_type": "code",
   "execution_count": null,
   "id": "a5adfe0e",
   "metadata": {},
   "outputs": [],
   "source": [
    "Map = geemap.Map() #center参数是打开地图的中心点经纬度坐标\n",
    "Map"
   ]
  },
  {
   "cell_type": "code",
   "execution_count": null,
   "id": "3c46cdd7",
   "metadata": {},
   "outputs": [],
   "source": [
    "roi = geemap.shp_to_ee(r'E:/Data/clip/roi.shp')\n",
    "Map.centerObject(roi)\n",
    "Map.addLayer(roi, {}, \"roi\")"
   ]
  },
  {
   "cell_type": "code",
   "execution_count": null,
   "id": "4a7fa981",
   "metadata": {},
   "outputs": [],
   "source": [
    "geo = roi.geometry()"
   ]
  },
  {
   "cell_type": "code",
   "execution_count": null,
   "id": "cf3dc227",
   "metadata": {},
   "outputs": [],
   "source": [
    "bounds = geo.bounds()\n",
    "bounds.getInfo()"
   ]
  },
  {
   "cell_type": "code",
   "execution_count": null,
   "id": "ab40f35b",
   "metadata": {},
   "outputs": [],
   "source": [
    "bounds.coordinates().getInfo()"
   ]
  },
  {
   "cell_type": "code",
   "execution_count": null,
   "id": "9059997d",
   "metadata": {},
   "outputs": [],
   "source": []
  },
  {
   "cell_type": "code",
   "execution_count": null,
   "id": "dfcd6961",
   "metadata": {},
   "outputs": [],
   "source": [
    "path = r'D:/Albedo/'\n",
    "os.chdir(path)"
   ]
  },
  {
   "cell_type": "code",
   "execution_count": null,
   "id": "0526deef",
   "metadata": {},
   "outputs": [],
   "source": [
    "images = ee.ImageCollection(\"MODIS/006/MOD09GQ\")\\\n",
    "            .filterDate(\"2015-01-01\", \"2015-01-03\").select('sur_refl_b01')\n",
    "geemap.ee_export_image_collection(images, path, scale=250, crs='epsg:3857', \n",
    "                                  region=roi.geometry())"
   ]
  },
  {
   "cell_type": "code",
   "execution_count": null,
   "id": "fa9441c2",
   "metadata": {},
   "outputs": [],
   "source": []
  }
 ],
 "metadata": {
  "kernelspec": {
   "display_name": "Python 3 (ipykernel)",
   "language": "python",
   "name": "python3"
  },
  "language_info": {
   "codemirror_mode": {
    "name": "ipython",
    "version": 3
   },
   "file_extension": ".py",
   "mimetype": "text/x-python",
   "name": "python",
   "nbconvert_exporter": "python",
   "pygments_lexer": "ipython3",
   "version": "3.9.6"
  }
 },
 "nbformat": 4,
 "nbformat_minor": 5
}
