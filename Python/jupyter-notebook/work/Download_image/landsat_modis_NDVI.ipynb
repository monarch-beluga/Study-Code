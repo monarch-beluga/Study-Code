{
 "cells": [
  {
   "cell_type": "code",
   "execution_count": 1,
   "id": "3cc4d76c",
   "metadata": {},
   "outputs": [
    {
     "data": {
      "application/vnd.jupyter.widget-view+json": {
       "model_id": "02a131d5e1b749f7a634c8fc9fc70700",
       "version_major": 2,
       "version_minor": 0
      },
      "text/plain": [
       "Map(center=[40, -100], controls=(WidgetControl(options=['position', 'transparent_bg'], widget=HBox(children=(T…"
      ]
     },
     "metadata": {},
     "output_type": "display_data"
    }
   ],
   "source": [
    "import geemap\n",
    "import ee\n",
    "\n",
    "Map = geemap.Map()\n",
    "Map"
   ]
  },
  {
   "cell_type": "code",
   "execution_count": 2,
   "id": "29092672",
   "metadata": {},
   "outputs": [],
   "source": [
    "roi = geemap.shp_to_ee(r'E:/public/数据/矢量数据/roi.shp')\n",
    "Map.addLayer(roi, {}, 'JX')\n",
    "Map.center_object(roi)"
   ]
  },
  {
   "cell_type": "code",
   "execution_count": 3,
   "id": "b0a55c1c",
   "metadata": {},
   "outputs": [],
   "source": [
    "def modis_NDVI(img):\n",
    "    img1 = img.normalizedDifference(['sur_refl_b02', 'sur_refl_b01'])\n",
    "    return img1"
   ]
  },
  {
   "cell_type": "code",
   "execution_count": 4,
   "id": "60879615",
   "metadata": {},
   "outputs": [],
   "source": [
    "modis = ee.ImageCollection(\"MODIS/006/MOD09Q1\").filterDate('2018', '2019')\n",
    "# landsat8 = ee.ImageCollection('LANDSAT/LC08/C01/T1_8DAY_NDVI')\\\n",
    "#             .filterDate('2018', '2019')"
   ]
  },
  {
   "cell_type": "code",
   "execution_count": null,
   "id": "6f2ffc60",
   "metadata": {},
   "outputs": [],
   "source": [
    "Sentinel2 = ee.ImageCollection(\"COPERNICUS/S2\").filterBounds(roi.geometry())\\\n",
    "            .sort('CLOUDY_PIXEL_PERCENTAGE', False).filterDate('2018-03-22', '2018-03-30')"
   ]
  },
  {
   "cell_type": "code",
   "execution_count": 5,
   "id": "86b8f6bd",
   "metadata": {},
   "outputs": [],
   "source": [
    "modis_names = modis.aggregate_array('system:id').getInfo()\n",
    "# landsat_names = landsat8.aggregate_array('system:id').getInfo()"
   ]
  },
  {
   "cell_type": "code",
   "execution_count": null,
   "id": "34d05f22",
   "metadata": {},
   "outputs": [],
   "source": [
    "modis_name = modis_names[10]\n",
    "# landsat_name = landsat_names[10]\n",
    "# modis_img = modis_NDVI(ee.Image(modis_name))\n",
    "# landsat_img = ee.Image(landsat_name)\n",
    "# NDVI_img = landsat_img.unmask(modis_img)"
   ]
  },
  {
   "cell_type": "code",
   "execution_count": null,
   "id": "0e1bc2f0",
   "metadata": {},
   "outputs": [],
   "source": [
    "Ndvi = Sentinel2.map(lambda img: img.normalizedDifference(['B8', 'B4']))"
   ]
  },
  {
   "cell_type": "code",
   "execution_count": null,
   "id": "0e2645f8",
   "metadata": {},
   "outputs": [],
   "source": [
    "from Monarch.user_gee import clip_dow_merge"
   ]
  },
  {
   "cell_type": "code",
   "execution_count": 8,
   "id": "b22b37eb",
   "metadata": {},
   "outputs": [
    {
     "name": "stdout",
     "output_type": "stream",
     "text": [
      "Exporting NDVI_2018001 ...\n",
      "Exporting NDVI_2018009 ...\n",
      "Exporting NDVI_2018017 ...\n",
      "Exporting NDVI_2018025 ...\n",
      "Exporting NDVI_2018033 ...\n",
      "Exporting NDVI_2018041 ...\n",
      "Exporting NDVI_2018049 ...\n",
      "Exporting NDVI_2018057 ...\n",
      "Exporting NDVI_2018065 ...\n",
      "Exporting NDVI_2018073 ...\n",
      "Exporting NDVI_2018081 ...\n",
      "Exporting NDVI_2018089 ...\n",
      "Exporting NDVI_2018097 ...\n",
      "Exporting NDVI_2018105 ...\n",
      "Exporting NDVI_2018113 ...\n",
      "Exporting NDVI_2018121 ...\n",
      "Exporting NDVI_2018129 ...\n",
      "Exporting NDVI_2018137 ...\n",
      "Exporting NDVI_2018145 ...\n",
      "Exporting NDVI_2018153 ...\n",
      "Exporting NDVI_2018161 ...\n",
      "Exporting NDVI_2018169 ...\n",
      "Exporting NDVI_2018177 ...\n",
      "Exporting NDVI_2018185 ...\n",
      "Exporting NDVI_2018193 ...\n",
      "Exporting NDVI_2018201 ...\n",
      "Exporting NDVI_2018209 ...\n",
      "Exporting NDVI_2018217 ...\n",
      "Exporting NDVI_2018225 ...\n",
      "Exporting NDVI_2018233 ...\n",
      "Exporting NDVI_2018241 ...\n",
      "Exporting NDVI_2018249 ...\n",
      "Exporting NDVI_2018257 ...\n",
      "Exporting NDVI_2018265 ...\n",
      "Exporting NDVI_2018273 ...\n",
      "Exporting NDVI_2018281 ...\n",
      "Exporting NDVI_2018289 ...\n",
      "Exporting NDVI_2018297 ...\n",
      "Exporting NDVI_2018305 ...\n",
      "Exporting NDVI_2018313 ...\n",
      "Exporting NDVI_2018321 ...\n",
      "Exporting NDVI_2018329 ...\n",
      "Exporting NDVI_2018337 ...\n",
      "Exporting NDVI_2018345 ...\n",
      "Exporting NDVI_2018353 ...\n",
      "Exporting NDVI_2018361 ...\n"
     ]
    }
   ],
   "source": [
    "import os\n",
    "os.chdir(r\"E:/Data/NDVI/\")\n",
    "\n",
    "for i ,ID in enumerate(modis_names):\n",
    "    image = ee.Image(ID)\n",
    "    img1 = image.normalizedDifference(['sur_refl_b02', 'sur_refl_b01'])\n",
    "    img1 = img1.updateMask(img1.gte(0))\n",
    "    geemap.ee_export_image_to_drive(img1, description=f\"NDVI_2018{i*8+1:03d}\", folder='MODIS_NDVI', region=roi.geometry(), scale=250)"
   ]
  },
  {
   "cell_type": "code",
   "execution_count": null,
   "id": "3e450443",
   "metadata": {},
   "outputs": [],
   "source": [
    "ndviVis = {\n",
    "  'min': 0,\n",
    "  'max': 1,\n",
    "  'palette': [\n",
    "    'FFFFFF', 'CE7E45', 'DF923D', 'F1B555', 'FCD163', '99B718', '74A901',\n",
    "    '66A000', '529400', '3E8601', '207401', '056201', '004C00', '023B01',\n",
    "    '012E01', '011D01', '011301'\n",
    "  ],\n",
    "}\n",
    "Map.addLayer(Ndvi, ndviVis, 'n')"
   ]
  },
  {
   "cell_type": "code",
   "execution_count": null,
   "id": "6a9be1c5",
   "metadata": {},
   "outputs": [],
   "source": [
    "f_name = 'NDVI_'+modis_name.split('/')[-1]\n",
    "\n",
    "# geemap.ee_export_image_to_drive(Ndvi, description=f_name,\n",
    "#                                 folder='Image', scale=30)"
   ]
  },
  {
   "cell_type": "code",
   "execution_count": null,
   "id": "212c996b",
   "metadata": {},
   "outputs": [],
   "source": [
    "f\"NDVI_{0*8+1:03d}\""
   ]
  },
  {
   "cell_type": "code",
   "execution_count": null,
   "id": "ecc1e3cf",
   "metadata": {},
   "outputs": [],
   "source": []
  }
 ],
 "metadata": {
  "kernelspec": {
   "display_name": "Python 3 (ipykernel)",
   "language": "python",
   "name": "python3"
  },
  "language_info": {
   "codemirror_mode": {
    "name": "ipython",
    "version": 3
   },
   "file_extension": ".py",
   "mimetype": "text/x-python",
   "name": "python",
   "nbconvert_exporter": "python",
   "pygments_lexer": "ipython3",
   "version": "3.9.6"
  }
 },
 "nbformat": 4,
 "nbformat_minor": 5
}
