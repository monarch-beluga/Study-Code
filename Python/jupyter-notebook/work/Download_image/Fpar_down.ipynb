{
 "cells": [
  {
   "cell_type": "code",
   "execution_count": 1,
   "id": "7c4c1939",
   "metadata": {
    "ExecuteTime": {
     "end_time": "2023-02-01T07:11:03.398073Z",
     "start_time": "2023-02-01T07:10:56.996598Z"
    }
   },
   "outputs": [
    {
     "data": {
      "application/vnd.jupyter.widget-view+json": {
       "model_id": "0b1aac5dcb8c404299f84fbef362cc23",
       "version_major": 2,
       "version_minor": 0
      },
      "text/plain": [
       "Map(center=[20, 0], controls=(WidgetControl(options=['position', 'transparent_bg'], widget=HBox(children=(Togg…"
      ]
     },
     "metadata": {},
     "output_type": "display_data"
    }
   ],
   "source": [
    "import ee\n",
    "import geemap\n",
    "\n",
    "Map = geemap.Map()\n",
    "Map"
   ]
  },
  {
   "cell_type": "code",
   "execution_count": 2,
   "id": "b15d4084",
   "metadata": {
    "ExecuteTime": {
     "end_time": "2023-02-01T07:11:03.413034Z",
     "start_time": "2023-02-01T07:11:03.399071Z"
    }
   },
   "outputs": [],
   "source": [
    "import os\n",
    "os.chdir(r'H:/Monarch/Work/MCD_dow/')\n",
    "\n",
    "shp_file = r'roi.shp'\n",
    "shp = geemap.shp_to_ee(shp_file)\n",
    "\n",
    "Map.addLayer(shp, {}, 'shp')\n",
    "\n",
    "Map.center_object(shp, 3)\n",
    "roi = shp.geometry()"
   ]
  },
  {
   "cell_type": "code",
   "execution_count": 6,
   "id": "ffbadcd5",
   "metadata": {
    "ExecuteTime": {
     "end_time": "2023-02-01T07:11:06.844092Z",
     "start_time": "2023-02-01T07:11:06.828135Z"
    }
   },
   "outputs": [],
   "source": [
    "start_time = 2018\n",
    "end_time = 2021\n",
    "\n",
    "images = ee.ImageCollection(\"MODIS/061/MCD15A3H\").select('Fpar')\\\n",
    "            .filterDate(f'{start_time}', f'{end_time}')"
   ]
  },
  {
   "cell_type": "code",
   "execution_count": 8,
   "id": "42903a69",
   "metadata": {
    "ExecuteTime": {
     "end_time": "2023-02-01T07:11:07.138719Z",
     "start_time": "2023-02-01T07:11:07.124756Z"
    }
   },
   "outputs": [],
   "source": [
    "count = images.size()\n",
    "images_list = images.toList(count)"
   ]
  },
  {
   "cell_type": "code",
   "execution_count": 9,
   "id": "59787fd7",
   "metadata": {
    "ExecuteTime": {
     "end_time": "2023-02-01T07:11:07.275965Z",
     "start_time": "2023-02-01T07:11:07.259981Z"
    }
   },
   "outputs": [],
   "source": [
    "def merge_img(i):\n",
    "    i = ee.Number(i)\n",
    "    img1 = ee.Image(images_list.get(i))\n",
    "    img2 = ee.Image(images_list.get(i.add(1)))\n",
    "    img = img1.add(img2).multiply(0.01).multiply(0.5)\n",
    "    img = img.reproject(**{'crs': 'epsg:4326', 'scale': 500}).clip(roi)\n",
    "    img = img.set('system:id', img1.get('system:id'))\n",
    "    return ee.Image(img)"
   ]
  },
  {
   "cell_type": "code",
   "execution_count": 10,
   "id": "8305624e",
   "metadata": {
    "ExecuteTime": {
     "end_time": "2023-02-01T07:11:09.591439Z",
     "start_time": "2023-02-01T07:11:09.572490Z"
    }
   },
   "outputs": [],
   "source": [
    "images_merge_list = ee.List.sequence(0, count.subtract(1), 2).map(merge_img)\n",
    "image_count = images_merge_list.size().getInfo()"
   ]
  },
  {
   "cell_type": "code",
   "execution_count": 11,
   "id": "2ac0e166",
   "metadata": {
    "ExecuteTime": {
     "end_time": "2023-02-01T07:11:09.805432Z",
     "start_time": "2023-02-01T07:11:09.788478Z"
    }
   },
   "outputs": [],
   "source": [
    "from Monarch.user_gee import *"
   ]
  },
  {
   "cell_type": "code",
   "execution_count": 12,
   "id": "c058b0dc",
   "metadata": {
    "ExecuteTime": {
     "end_time": "2023-02-01T07:11:10.315254Z",
     "start_time": "2023-02-01T07:11:10.307275Z"
    }
   },
   "outputs": [],
   "source": [
    "var = 'Fpar'"
   ]
  },
  {
   "cell_type": "code",
   "execution_count": 13,
   "id": "51ab744f",
   "metadata": {
    "ExecuteTime": {
     "end_time": "2023-02-01T07:11:10.715084Z",
     "start_time": "2023-02-01T07:11:10.698130Z"
    }
   },
   "outputs": [],
   "source": [
    "if not os.path.exists(f'{var}'):\n",
    "    os.mkdir(f'{var}')"
   ]
  },
  {
   "cell_type": "code",
   "execution_count": null,
   "id": "2f1e1f2f",
   "metadata": {
    "ExecuteTime": {
     "start_time": "2023-02-01T07:25:26.684Z"
    },
    "scrolled": true
   },
   "outputs": [
    {
     "name": "stdout",
     "output_type": "stream",
     "text": [
      "影像切割完毕！！！\n",
      "需要下载的影像数: 8\n",
      "\n",
      "Generating URL ...\n",
      "Downloading data from https://earthengine.googleapis.com/v1alpha/projects/earthengine-legacy/thumbnails/85dd5d2e121bc5dd591d3ee2d08e352e-38e9ca648a192acdd4de0e53336374f6:getPixels\n",
      "Please wait ...\n",
      "Data downloaded to H:\\Monarch\\Work\\MCD_dow\\Fpar\\Fpar_2018_02_10_mk\\1.tif\n",
      "Generating URL ...\n",
      "Downloading data from https://earthengine.googleapis.com/v1alpha/projects/earthengine-legacy/thumbnails/a40d0c26ed43315f02bac98636e577c7-607b1dc1808a2137c9bb18c8ab8cdf13:getPixels\n",
      "Please wait ...\n",
      "Data downloaded to H:\\Monarch\\Work\\MCD_dow\\Fpar\\Fpar_2018_02_10_mk\\2.tif\n",
      "Generating URL ...\n",
      "Downloading data from https://earthengine.googleapis.com/v1alpha/projects/earthengine-legacy/thumbnails/418aff6056553754f319e1debecf48fc-d32e99e1960dcb25dd2c12ad7616e0bb:getPixels\n",
      "Please wait ...\n",
      "Data downloaded to H:\\Monarch\\Work\\MCD_dow\\Fpar\\Fpar_2018_02_10_mk\\3.tif\n",
      "Generating URL ...\n",
      "Downloading data from https://earthengine.googleapis.com/v1alpha/projects/earthengine-legacy/thumbnails/3239059babd8ea43ee9fcdba0456bf10-159a2258ca67438059073386a91be7d5:getPixels\n",
      "Please wait ...\n",
      "Data downloaded to H:\\Monarch\\Work\\MCD_dow\\Fpar\\Fpar_2018_02_10_mk\\4.tif\n",
      "Generating URL ...\n",
      "Downloading data from https://earthengine.googleapis.com/v1alpha/projects/earthengine-legacy/thumbnails/16f846d4b26e329bebe2018293366d0c-646293064de16557f623f5fca56e259c:getPixels\n",
      "Please wait ...\n",
      "Data downloaded to H:\\Monarch\\Work\\MCD_dow\\Fpar\\Fpar_2018_02_10_mk\\5.tif\n",
      "Generating URL ...\n",
      "Downloading data from https://earthengine.googleapis.com/v1alpha/projects/earthengine-legacy/thumbnails/d9bc262675cc1b687ff0d9654c3a1ca6-6ece8421a32f5c86a8677f3f1cd03e95:getPixels\n",
      "Please wait ...\n",
      "Data downloaded to H:\\Monarch\\Work\\MCD_dow\\Fpar\\Fpar_2018_02_10_mk\\6.tif\n",
      "Generating URL ...\n",
      "Downloading data from https://earthengine.googleapis.com/v1alpha/projects/earthengine-legacy/thumbnails/79d77d4bf34faea282df7b054a555a9c-f5071e59b5efa4a5c3d303926a3f4a18:getPixels\n",
      "Please wait ...\n",
      "Data downloaded to H:\\Monarch\\Work\\MCD_dow\\Fpar\\Fpar_2018_02_10_mk\\7.tif\n",
      "Generating URL ...\n",
      "Downloading data from https://earthengine.googleapis.com/v1alpha/projects/earthengine-legacy/thumbnails/9f80c240e475bf7ed1d9fc2e73a4166b-d7a880a9461e49a93556eb9796b51cfd:getPixels\n",
      "Please wait ...\n",
      "Data downloaded to H:\\Monarch\\Work\\MCD_dow\\Fpar\\Fpar_2018_02_10_mk\\8.tif\n",
      "总耗时:00h01m47s\n",
      "影像切割完毕！！！\n",
      "需要下载的影像数: 9\n",
      "\n",
      "Generating URL ...\n",
      "Downloading data from https://earthengine.googleapis.com/v1alpha/projects/earthengine-legacy/thumbnails/48b71583262ddfc6500e39f27ca242f8-2e0fe01afb4a39c527774c6f7e3bf1ca:getPixels\n",
      "Please wait ...\n",
      "Data downloaded to H:\\Monarch\\Work\\MCD_dow\\Fpar\\Fpar_2018_02_18_mk\\0.tif\n",
      "Generating URL ...\n",
      "Downloading data from https://earthengine.googleapis.com/v1alpha/projects/earthengine-legacy/thumbnails/441b96e9bf7b897362b8696f923dd07e-a85e442c3bdff1ba7b587df96c79350a:getPixels\n",
      "Please wait ...\n",
      "Data downloaded to H:\\Monarch\\Work\\MCD_dow\\Fpar\\Fpar_2018_02_18_mk\\1.tif\n",
      "Generating URL ...\n",
      "Downloading data from https://earthengine.googleapis.com/v1alpha/projects/earthengine-legacy/thumbnails/36f34bbe4ffad19f3a7410d91c382310-352fe9518a7ea986a68cc47a5ded33d7:getPixels\n",
      "Please wait ...\n",
      "Data downloaded to H:\\Monarch\\Work\\MCD_dow\\Fpar\\Fpar_2018_02_18_mk\\2.tif\n",
      "Generating URL ...\n",
      "Downloading data from https://earthengine.googleapis.com/v1alpha/projects/earthengine-legacy/thumbnails/e3f6cec8930d9e397f109d74f6014e55-d2d73e5de916861784c61bcd1a1f82a0:getPixels\n",
      "Please wait ...\n",
      "Data downloaded to H:\\Monarch\\Work\\MCD_dow\\Fpar\\Fpar_2018_02_18_mk\\3.tif\n",
      "Generating URL ...\n",
      "Downloading data from https://earthengine.googleapis.com/v1alpha/projects/earthengine-legacy/thumbnails/df02f4e1be860bd4618ff072a058e00d-d2ec2da55b66bbd6f3b221f138f70e72:getPixels\n",
      "Please wait ...\n",
      "Data downloaded to H:\\Monarch\\Work\\MCD_dow\\Fpar\\Fpar_2018_02_18_mk\\4.tif\n",
      "Generating URL ...\n",
      "Downloading data from https://earthengine.googleapis.com/v1alpha/projects/earthengine-legacy/thumbnails/c8584f069d3217e55cd49e378e42a9ae-916963d04416e4fb9cc6aa4571174308:getPixels\n",
      "Please wait ...\n",
      "Data downloaded to H:\\Monarch\\Work\\MCD_dow\\Fpar\\Fpar_2018_02_18_mk\\5.tif\n",
      "Generating URL ...\n",
      "Downloading data from https://earthengine.googleapis.com/v1alpha/projects/earthengine-legacy/thumbnails/acb3f01a5f8f77cf6f3cb2d42feefb19-9c7de70f726d5bbe1d434ec096991f3f:getPixels\n",
      "Please wait ...\n",
      "Data downloaded to H:\\Monarch\\Work\\MCD_dow\\Fpar\\Fpar_2018_02_18_mk\\6.tif\n",
      "Generating URL ...\n",
      "Downloading data from https://earthengine.googleapis.com/v1alpha/projects/earthengine-legacy/thumbnails/99c1cab677db80ab24f4492136023306-327f46928bda8526594167d4eea687cb:getPixels\n",
      "Please wait ...\n",
      "Data downloaded to H:\\Monarch\\Work\\MCD_dow\\Fpar\\Fpar_2018_02_18_mk\\7.tif\n",
      "Generating URL ...\n",
      "Downloading data from https://earthengine.googleapis.com/v1alpha/projects/earthengine-legacy/thumbnails/7136c3b8b2dc1fb750dbc210477515e1-18d4651a40f853227f82277ebc36eaeb:getPixels\n",
      "Please wait ...\n",
      "Data downloaded to H:\\Monarch\\Work\\MCD_dow\\Fpar\\Fpar_2018_02_18_mk\\8.tif\n",
      "总耗时:00h01m52s\n",
      "影像切割完毕！！！\n",
      "需要下载的影像数: 9\n",
      "\n",
      "Generating URL ...\n",
      "Downloading data from https://earthengine.googleapis.com/v1alpha/projects/earthengine-legacy/thumbnails/6558431e80a562431debf8cee3787f11-81141ccb5b32515714d936c8d63ec166:getPixels\n",
      "Please wait ...\n",
      "Data downloaded to H:\\Monarch\\Work\\MCD_dow\\Fpar\\Fpar_2018_02_26_mk\\0.tif\n",
      "Generating URL ...\n",
      "Downloading data from https://earthengine.googleapis.com/v1alpha/projects/earthengine-legacy/thumbnails/7de199e505c12e1f4368b48d172a5598-0de7178b00fc6d9d8e5bdb78e850f9fc:getPixels\n",
      "Please wait ...\n",
      "Data downloaded to H:\\Monarch\\Work\\MCD_dow\\Fpar\\Fpar_2018_02_26_mk\\1.tif\n",
      "Generating URL ...\n",
      "Downloading data from https://earthengine.googleapis.com/v1alpha/projects/earthengine-legacy/thumbnails/f530b99d208597cf51b7606535467fa6-754c55fd194d7368e35fd7f0af0e7671:getPixels\n",
      "Please wait ...\n",
      "Data downloaded to H:\\Monarch\\Work\\MCD_dow\\Fpar\\Fpar_2018_02_26_mk\\2.tif\n",
      "Generating URL ...\n",
      "Downloading data from https://earthengine.googleapis.com/v1alpha/projects/earthengine-legacy/thumbnails/593d57b2bcd15442885bb3238c981556-fbc2ece7d146bf91007174759090a335:getPixels\n",
      "Please wait ...\n",
      "Data downloaded to H:\\Monarch\\Work\\MCD_dow\\Fpar\\Fpar_2018_02_26_mk\\3.tif\n",
      "Generating URL ...\n",
      "Downloading data from https://earthengine.googleapis.com/v1alpha/projects/earthengine-legacy/thumbnails/bb72152aa795e134d1cf315e04e3f906-050ab775d6afa7ef3a8ada2cecd68edf:getPixels\n",
      "Please wait ...\n",
      "Data downloaded to H:\\Monarch\\Work\\MCD_dow\\Fpar\\Fpar_2018_02_26_mk\\4.tif\n",
      "Generating URL ...\n",
      "Downloading data from https://earthengine.googleapis.com/v1alpha/projects/earthengine-legacy/thumbnails/6bfcee8184ef9f2b9230d8da2402fa1e-04d2908d8d32beac5db63abcade56c36:getPixels\n",
      "Please wait ...\n",
      "Data downloaded to H:\\Monarch\\Work\\MCD_dow\\Fpar\\Fpar_2018_02_26_mk\\5.tif\n",
      "Generating URL ...\n",
      "Downloading data from https://earthengine.googleapis.com/v1alpha/projects/earthengine-legacy/thumbnails/b4ea13acbc185447ffb6bc132be93861-663ae3a1afaf0a82ca44b1e1bed89280:getPixels\n",
      "Please wait ...\n",
      "Data downloaded to H:\\Monarch\\Work\\MCD_dow\\Fpar\\Fpar_2018_02_26_mk\\6.tif\n",
      "Generating URL ...\n",
      "Downloading data from https://earthengine.googleapis.com/v1alpha/projects/earthengine-legacy/thumbnails/4c3f17aa10b7640fae300f4d297016bc-17739bb0b93b030aa4af72298b6f4e19:getPixels\n",
      "Please wait ...\n",
      "Data downloaded to H:\\Monarch\\Work\\MCD_dow\\Fpar\\Fpar_2018_02_26_mk\\7.tif\n",
      "Generating URL ...\n",
      "Downloading data from https://earthengine.googleapis.com/v1alpha/projects/earthengine-legacy/thumbnails/d93b7f876b92f36772255febeb948803-61b5ab27e444d90096178425201b30ff:getPixels\n",
      "Please wait ...\n",
      "Data downloaded to H:\\Monarch\\Work\\MCD_dow\\Fpar\\Fpar_2018_02_26_mk\\8.tif\n",
      "总耗时:00h02m50s\n",
      "影像切割完毕！！！\n",
      "需要下载的影像数: 9\n",
      "\n",
      "Generating URL ...\n",
      "Downloading data from https://earthengine.googleapis.com/v1alpha/projects/earthengine-legacy/thumbnails/1f7c9d46207dd57b9807bfb3ec4aed69-a132b03fced65efdd9a217db95f3b019:getPixels\n",
      "Please wait ...\n",
      "Data downloaded to H:\\Monarch\\Work\\MCD_dow\\Fpar\\Fpar_2018_03_06_mk\\0.tif\n",
      "Generating URL ...\n",
      "Downloading data from https://earthengine.googleapis.com/v1alpha/projects/earthengine-legacy/thumbnails/807c5ca685060d50eac16d88b522a8b7-64d31b1ecd3f1ab8e9af02efc9c4bf04:getPixels\n",
      "Please wait ...\n",
      "Data downloaded to H:\\Monarch\\Work\\MCD_dow\\Fpar\\Fpar_2018_03_06_mk\\1.tif\n",
      "Generating URL ...\n"
     ]
    },
    {
     "name": "stdout",
     "output_type": "stream",
     "text": [
      "Downloading data from https://earthengine.googleapis.com/v1alpha/projects/earthengine-legacy/thumbnails/4410b77736a797831578f13e07b143cd-2f19af19d50287586c7afcc2e86fb0b9:getPixels\n",
      "Please wait ...\n",
      "Data downloaded to H:\\Monarch\\Work\\MCD_dow\\Fpar\\Fpar_2018_03_06_mk\\2.tif\n",
      "Generating URL ...\n",
      "Downloading data from https://earthengine.googleapis.com/v1alpha/projects/earthengine-legacy/thumbnails/cfb6aaf9da1ff36849e0dbff79937a9f-9c2c4694c25a76456af35a7fc7cfd4ac:getPixels\n",
      "Please wait ...\n",
      "Data downloaded to H:\\Monarch\\Work\\MCD_dow\\Fpar\\Fpar_2018_03_06_mk\\3.tif\n",
      "Generating URL ...\n",
      "Downloading data from https://earthengine.googleapis.com/v1alpha/projects/earthengine-legacy/thumbnails/299635e892999ad1cdbadce0b43be1da-252e2113514414614a734f018ea99d70:getPixels\n",
      "Please wait ...\n",
      "Data downloaded to H:\\Monarch\\Work\\MCD_dow\\Fpar\\Fpar_2018_03_06_mk\\4.tif\n",
      "Generating URL ...\n",
      "Downloading data from https://earthengine.googleapis.com/v1alpha/projects/earthengine-legacy/thumbnails/fdc7373ddff9892a6a58b6ceeca22f3b-f3d2efaf9b313f7899dae8ffb8d4a4e7:getPixels\n",
      "Please wait ...\n",
      "Data downloaded to H:\\Monarch\\Work\\MCD_dow\\Fpar\\Fpar_2018_03_06_mk\\5.tif\n",
      "Generating URL ...\n",
      "Downloading data from https://earthengine.googleapis.com/v1alpha/projects/earthengine-legacy/thumbnails/ec79a23cfb26d93ee88bdf1366ddc7f2-b44e6871dfb910f2df0b71ccf494aa93:getPixels\n",
      "Please wait ...\n",
      "Data downloaded to H:\\Monarch\\Work\\MCD_dow\\Fpar\\Fpar_2018_03_06_mk\\6.tif\n",
      "Generating URL ...\n",
      "Downloading data from https://earthengine.googleapis.com/v1alpha/projects/earthengine-legacy/thumbnails/97aab881d546a07ff154c82a756e2cb9-12922147895a914556ee209dccb14ee0:getPixels\n",
      "Please wait ...\n",
      "Data downloaded to H:\\Monarch\\Work\\MCD_dow\\Fpar\\Fpar_2018_03_06_mk\\7.tif\n",
      "Generating URL ...\n",
      "Downloading data from https://earthengine.googleapis.com/v1alpha/projects/earthengine-legacy/thumbnails/5a9cc3716a450ed9c1967ef97f3a8577-0315e4f6f45c4d4f22bdadf977847362:getPixels\n",
      "Please wait ...\n",
      "Data downloaded to H:\\Monarch\\Work\\MCD_dow\\Fpar\\Fpar_2018_03_06_mk\\8.tif\n",
      "总耗时:00h01m57s\n",
      "影像切割完毕！！！\n",
      "需要下载的影像数: 9\n",
      "\n",
      "Generating URL ...\n",
      "Downloading data from https://earthengine.googleapis.com/v1alpha/projects/earthengine-legacy/thumbnails/ab7dec5f7b1ae69dc8533b65ae0439f7-6666d24dd0f3ae65870d89a44272bb15:getPixels\n",
      "Please wait ...\n",
      "Data downloaded to H:\\Monarch\\Work\\MCD_dow\\Fpar\\Fpar_2018_03_14_mk\\0.tif\n",
      "Generating URL ...\n",
      "Downloading data from https://earthengine.googleapis.com/v1alpha/projects/earthengine-legacy/thumbnails/d5e8b11f424e6472f6416f5805ec0538-990b0608a2322523b11d31937584dd03:getPixels\n",
      "Please wait ...\n",
      "Data downloaded to H:\\Monarch\\Work\\MCD_dow\\Fpar\\Fpar_2018_03_14_mk\\1.tif\n",
      "Generating URL ...\n",
      "Downloading data from https://earthengine.googleapis.com/v1alpha/projects/earthengine-legacy/thumbnails/be1b6943f34d75b6d7ef278ad57a2cfb-1ec8010000a1148aabe1a905ca94977a:getPixels\n",
      "Please wait ...\n",
      "Data downloaded to H:\\Monarch\\Work\\MCD_dow\\Fpar\\Fpar_2018_03_14_mk\\2.tif\n",
      "Generating URL ...\n",
      "Downloading data from https://earthengine.googleapis.com/v1alpha/projects/earthengine-legacy/thumbnails/ebc81c97574ca4f439e00d25536e5b2e-3f4619a6a29432d76dd075c0b57171b0:getPixels\n",
      "Please wait ...\n",
      "Data downloaded to H:\\Monarch\\Work\\MCD_dow\\Fpar\\Fpar_2018_03_14_mk\\3.tif\n",
      "Generating URL ...\n",
      "Downloading data from https://earthengine.googleapis.com/v1alpha/projects/earthengine-legacy/thumbnails/aca404b940024a8d7131f96fc30ddc4f-1acc097d15d1b6948600f8034c594c48:getPixels\n",
      "Please wait ...\n",
      "Data downloaded to H:\\Monarch\\Work\\MCD_dow\\Fpar\\Fpar_2018_03_14_mk\\4.tif\n",
      "Generating URL ...\n",
      "Downloading data from https://earthengine.googleapis.com/v1alpha/projects/earthengine-legacy/thumbnails/796d89db92e9131c0bb91b93b2498372-718d872ecca5f08b393242733c40ddff:getPixels\n",
      "Please wait ...\n",
      "Data downloaded to H:\\Monarch\\Work\\MCD_dow\\Fpar\\Fpar_2018_03_14_mk\\5.tif\n",
      "Generating URL ...\n",
      "Downloading data from https://earthengine.googleapis.com/v1alpha/projects/earthengine-legacy/thumbnails/33a820d8d8f32f6e5ce81fb3be94dc2e-2ab15c9293ed4664bf75feb2273365bf:getPixels\n",
      "Please wait ...\n",
      "Data downloaded to H:\\Monarch\\Work\\MCD_dow\\Fpar\\Fpar_2018_03_14_mk\\6.tif\n",
      "Generating URL ...\n",
      "Downloading data from https://earthengine.googleapis.com/v1alpha/projects/earthengine-legacy/thumbnails/075f40a1660052bba29f1a7c0d0e4cde-83ef3e5dd1400609a7fb97e83ed9077c:getPixels\n",
      "Please wait ...\n",
      "Data downloaded to H:\\Monarch\\Work\\MCD_dow\\Fpar\\Fpar_2018_03_14_mk\\7.tif\n",
      "Generating URL ...\n",
      "Downloading data from https://earthengine.googleapis.com/v1alpha/projects/earthengine-legacy/thumbnails/740a82030f87f949e5c6c6115eb54993-d9afa3d79f8bc732cb268270f255aa87:getPixels\n",
      "Please wait ...\n",
      "Data downloaded to H:\\Monarch\\Work\\MCD_dow\\Fpar\\Fpar_2018_03_14_mk\\8.tif\n",
      "总耗时:00h02m09s\n",
      "影像切割完毕！！！\n",
      "需要下载的影像数: 9\n",
      "\n",
      "Generating URL ...\n",
      "Downloading data from https://earthengine.googleapis.com/v1alpha/projects/earthengine-legacy/thumbnails/76dc8a9c72c6d100e6ea12f53927243a-b3aec24b94693877cf5b51104347cd91:getPixels\n",
      "Please wait ...\n",
      "Data downloaded to H:\\Monarch\\Work\\MCD_dow\\Fpar\\Fpar_2018_03_22_mk\\0.tif\n",
      "Generating URL ...\n",
      "Downloading data from https://earthengine.googleapis.com/v1alpha/projects/earthengine-legacy/thumbnails/f254bed35e46dc8e9b5213ad74b604e0-c1f07d1a7a8327c37c97b70ff7b4e6fb:getPixels\n",
      "Please wait ...\n",
      "Data downloaded to H:\\Monarch\\Work\\MCD_dow\\Fpar\\Fpar_2018_03_22_mk\\1.tif\n",
      "Generating URL ...\n",
      "Downloading data from https://earthengine.googleapis.com/v1alpha/projects/earthengine-legacy/thumbnails/7bc0c6c3847b3a6c7cb438c732bf68d6-cec8eadaef33665596124c183e81a162:getPixels\n",
      "Please wait ...\n",
      "Data downloaded to H:\\Monarch\\Work\\MCD_dow\\Fpar\\Fpar_2018_03_22_mk\\2.tif\n",
      "Generating URL ...\n",
      "Downloading data from https://earthengine.googleapis.com/v1alpha/projects/earthengine-legacy/thumbnails/6a736a896d64251fe26af26b3f0cd0dd-e21e859611f18700543a96f03d8c5892:getPixels\n",
      "Please wait ...\n",
      "Data downloaded to H:\\Monarch\\Work\\MCD_dow\\Fpar\\Fpar_2018_03_22_mk\\3.tif\n",
      "Generating URL ...\n",
      "Downloading data from https://earthengine.googleapis.com/v1alpha/projects/earthengine-legacy/thumbnails/4fa9213c5ee8c8eda26405fdccea3fdc-a8bc215a9d8e858962b3cadc1e22df5b:getPixels\n",
      "Please wait ...\n",
      "Data downloaded to H:\\Monarch\\Work\\MCD_dow\\Fpar\\Fpar_2018_03_22_mk\\4.tif\n",
      "Generating URL ...\n",
      "Downloading data from https://earthengine.googleapis.com/v1alpha/projects/earthengine-legacy/thumbnails/ec87ea1388b6c9725dd10f8c0088c947-ee4ddcb2613e778b13657e79ac73ee0c:getPixels\n",
      "Please wait ...\n",
      "Data downloaded to H:\\Monarch\\Work\\MCD_dow\\Fpar\\Fpar_2018_03_22_mk\\5.tif\n",
      "Generating URL ...\n",
      "Downloading data from https://earthengine.googleapis.com/v1alpha/projects/earthengine-legacy/thumbnails/b239b45e544cae8206b9beb256675f5f-e01f3fba7ec7fa4396b626e41637f5b7:getPixels\n",
      "Please wait ...\n",
      "Data downloaded to H:\\Monarch\\Work\\MCD_dow\\Fpar\\Fpar_2018_03_22_mk\\6.tif\n",
      "Generating URL ...\n",
      "Downloading data from https://earthengine.googleapis.com/v1alpha/projects/earthengine-legacy/thumbnails/44c3d64e2938df5c9ae7f35aa6604d97-1bd9175edd31b781239c64aff26b1698:getPixels\n",
      "Please wait ...\n",
      "Data downloaded to H:\\Monarch\\Work\\MCD_dow\\Fpar\\Fpar_2018_03_22_mk\\7.tif\n",
      "Generating URL ...\n",
      "Downloading data from https://earthengine.googleapis.com/v1alpha/projects/earthengine-legacy/thumbnails/18e07c1ef34394305b08925f59e4a0f2-4fca66fb2294607d15f7c28381450b89:getPixels\n",
      "Please wait ...\n",
      "Data downloaded to H:\\Monarch\\Work\\MCD_dow\\Fpar\\Fpar_2018_03_22_mk\\8.tif\n",
      "总耗时:00h01m49s\n",
      "影像切割完毕！！！\n",
      "需要下载的影像数: 9\n",
      "\n",
      "Generating URL ...\n",
      "Downloading data from https://earthengine.googleapis.com/v1alpha/projects/earthengine-legacy/thumbnails/ca1110c168d06ea53747e6bd331de0d9-9d51bcf6c4eafb328322a44af8367fc9:getPixels\n",
      "Please wait ...\n",
      "Data downloaded to H:\\Monarch\\Work\\MCD_dow\\Fpar\\Fpar_2018_03_30_mk\\0.tif\n",
      "Generating URL ...\n",
      "Downloading data from https://earthengine.googleapis.com/v1alpha/projects/earthengine-legacy/thumbnails/deea198a310c9c85e853c4244a02ed0a-415ec9ba12821e43ec99bb4f0f6f8e45:getPixels\n",
      "Please wait ...\n",
      "Data downloaded to H:\\Monarch\\Work\\MCD_dow\\Fpar\\Fpar_2018_03_30_mk\\1.tif\n",
      "Generating URL ...\n",
      "Downloading data from https://earthengine.googleapis.com/v1alpha/projects/earthengine-legacy/thumbnails/b84049e119375e5f2b538711e802e37d-f29bdc68c903a9ce542a21702e719839:getPixels\n",
      "Please wait ...\n",
      "Data downloaded to H:\\Monarch\\Work\\MCD_dow\\Fpar\\Fpar_2018_03_30_mk\\2.tif\n",
      "Generating URL ...\n",
      "Downloading data from https://earthengine.googleapis.com/v1alpha/projects/earthengine-legacy/thumbnails/a0a99b0e97d307fb02c03790dd519a0c-f43d3986ef68c356a9d07d96dc39e175:getPixels\n",
      "Please wait ...\n"
     ]
    },
    {
     "name": "stdout",
     "output_type": "stream",
     "text": [
      "Data downloaded to H:\\Monarch\\Work\\MCD_dow\\Fpar\\Fpar_2018_03_30_mk\\3.tif\n",
      "Generating URL ...\n",
      "Downloading data from https://earthengine.googleapis.com/v1alpha/projects/earthengine-legacy/thumbnails/593456aec56c4c4e82d8c779b4582e46-db7a6e865d90f2db66ce800e48154cf5:getPixels\n",
      "Please wait ...\n",
      "Data downloaded to H:\\Monarch\\Work\\MCD_dow\\Fpar\\Fpar_2018_03_30_mk\\4.tif\n",
      "Generating URL ...\n",
      "Downloading data from https://earthengine.googleapis.com/v1alpha/projects/earthengine-legacy/thumbnails/d2dd04d1c49118485cad7a2faf2cb4e9-bf97940c2a47f87ffa5c85a49a71f088:getPixels\n",
      "Please wait ...\n",
      "Data downloaded to H:\\Monarch\\Work\\MCD_dow\\Fpar\\Fpar_2018_03_30_mk\\5.tif\n",
      "Generating URL ...\n",
      "Downloading data from https://earthengine.googleapis.com/v1alpha/projects/earthengine-legacy/thumbnails/9df7020e65198ef9cf3b1e40fc2799e2-ad6686745b2ac87df5c272e02d7f1059:getPixels\n",
      "Please wait ...\n",
      "Data downloaded to H:\\Monarch\\Work\\MCD_dow\\Fpar\\Fpar_2018_03_30_mk\\6.tif\n",
      "Generating URL ...\n",
      "Downloading data from https://earthengine.googleapis.com/v1alpha/projects/earthengine-legacy/thumbnails/f50d60550d5e8519be2cee433a13899d-601d4b4c2b758f8fe110990f7703dd54:getPixels\n",
      "Please wait ...\n",
      "Data downloaded to H:\\Monarch\\Work\\MCD_dow\\Fpar\\Fpar_2018_03_30_mk\\7.tif\n",
      "Generating URL ...\n",
      "Downloading data from https://earthengine.googleapis.com/v1alpha/projects/earthengine-legacy/thumbnails/290360f56c1846f618201c338dfbd84c-f9d9f62c3a22a79839576923b4bc9ec7:getPixels\n",
      "Please wait ...\n",
      "Data downloaded to H:\\Monarch\\Work\\MCD_dow\\Fpar\\Fpar_2018_03_30_mk\\8.tif\n",
      "总耗时:00h02m03s\n",
      "影像切割完毕！！！\n",
      "需要下载的影像数: 9\n",
      "\n",
      "Generating URL ...\n",
      "Downloading data from https://earthengine.googleapis.com/v1alpha/projects/earthengine-legacy/thumbnails/1563031d01d20369b5663e3d76d8d00e-9398bf0d93f482f8a38b6f2a9a0397d7:getPixels\n",
      "Please wait ...\n",
      "Data downloaded to H:\\Monarch\\Work\\MCD_dow\\Fpar\\Fpar_2018_04_07_mk\\0.tif\n",
      "Generating URL ...\n",
      "Downloading data from https://earthengine.googleapis.com/v1alpha/projects/earthengine-legacy/thumbnails/29260a387cfb62286b985944755d6896-a3c9de73092d7c09a43c2d7c6d090ed2:getPixels\n",
      "Please wait ...\n",
      "Data downloaded to H:\\Monarch\\Work\\MCD_dow\\Fpar\\Fpar_2018_04_07_mk\\1.tif\n",
      "Generating URL ...\n",
      "Downloading data from https://earthengine.googleapis.com/v1alpha/projects/earthengine-legacy/thumbnails/d80c2232f65903b408066e7900fbd0f5-e27ed1ba37a5c180f61f5be641d7512a:getPixels\n",
      "Please wait ...\n",
      "Data downloaded to H:\\Monarch\\Work\\MCD_dow\\Fpar\\Fpar_2018_04_07_mk\\2.tif\n",
      "Generating URL ...\n",
      "Downloading data from https://earthengine.googleapis.com/v1alpha/projects/earthengine-legacy/thumbnails/fdd298a2317a69d4e2ab66a27ba9359f-259df1921f7a3d0c92b3a8d8f9be3416:getPixels\n",
      "Please wait ...\n",
      "Data downloaded to H:\\Monarch\\Work\\MCD_dow\\Fpar\\Fpar_2018_04_07_mk\\3.tif\n",
      "Generating URL ...\n",
      "Downloading data from https://earthengine.googleapis.com/v1alpha/projects/earthengine-legacy/thumbnails/442414275258e53272a792ef42c97f6c-58d7be9db09622719167f61de5ae78e5:getPixels\n",
      "Please wait ...\n",
      "Data downloaded to H:\\Monarch\\Work\\MCD_dow\\Fpar\\Fpar_2018_04_07_mk\\4.tif\n",
      "Generating URL ...\n",
      "Downloading data from https://earthengine.googleapis.com/v1alpha/projects/earthengine-legacy/thumbnails/98dd2f3a84deef34d57acc00f7b4ec1f-4ab49d9d85d8922feb37aaea9cd10fb1:getPixels\n",
      "Please wait ...\n",
      "Data downloaded to H:\\Monarch\\Work\\MCD_dow\\Fpar\\Fpar_2018_04_07_mk\\5.tif\n",
      "Generating URL ...\n",
      "Downloading data from https://earthengine.googleapis.com/v1alpha/projects/earthengine-legacy/thumbnails/1af303ddd785037f2d7820f634fd01a3-910dcf534fcd034f3447923b98ee1bad:getPixels\n",
      "Please wait ...\n",
      "Data downloaded to H:\\Monarch\\Work\\MCD_dow\\Fpar\\Fpar_2018_04_07_mk\\6.tif\n",
      "Generating URL ...\n",
      "Downloading data from https://earthengine.googleapis.com/v1alpha/projects/earthengine-legacy/thumbnails/66c4f1229646c227e5ba216bfdea7939-5652bb36081bccd23094eb63594ba5e3:getPixels\n",
      "Please wait ...\n",
      "Data downloaded to H:\\Monarch\\Work\\MCD_dow\\Fpar\\Fpar_2018_04_07_mk\\7.tif\n",
      "Generating URL ...\n",
      "Downloading data from https://earthengine.googleapis.com/v1alpha/projects/earthengine-legacy/thumbnails/559ae1aecbc28997bdb6b632920ee35f-3c6b76d0d3fe4688746ab25ee0811684:getPixels\n",
      "Please wait ...\n",
      "Data downloaded to H:\\Monarch\\Work\\MCD_dow\\Fpar\\Fpar_2018_04_07_mk\\8.tif\n",
      "总耗时:00h02m14s\n"
     ]
    }
   ],
   "source": [
    "for i in range(image_count):\n",
    "    img = ee.Image(images_merge_list.get(i))\n",
    "    outfile = f\"{var}/{var}_{img.get('system:id').getInfo().split('/')[-1]}\"\n",
    "    if not os.path.exists(outfile + '.tif'):\n",
    "        clip_dow_merge(roi, img, outfile, 1000, 4)"
   ]
  },
  {
   "cell_type": "code",
   "execution_count": null,
   "id": "51aa1e0c",
   "metadata": {
    "ExecuteTime": {
     "end_time": "2023-02-01T05:09:54.085118Z",
     "start_time": "2023-02-01T05:07:09.752390Z"
    },
    "scrolled": true
   },
   "outputs": [],
   "source": [
    "image_count = images_merge_list.size().getInfo()\n",
    "for i in range(6, image_count):\n",
    "    img = ee.Image(images_merge_list.get(i))\n",
    "    \n",
    "    outfile = f\"Fpar_{img.get('system:id').getInfo().split('/')[-1]}\"\n",
    "    geemap.ee_export_image_to_drive(img, outfile, folder='Fpar', scale=1000, crs='epsg:4326', \n",
    "                                    region=roi, maxPixels=1e10)\n",
    "    print(i, outfile, '导出成功！！！')"
   ]
  },
  {
   "cell_type": "code",
   "execution_count": null,
   "id": "1859dd67",
   "metadata": {},
   "outputs": [],
   "source": []
  }
 ],
 "metadata": {
  "kernelspec": {
   "display_name": "Python 3 (ipykernel)",
   "language": "python",
   "name": "python3"
  },
  "language_info": {
   "codemirror_mode": {
    "name": "ipython",
    "version": 3
   },
   "file_extension": ".py",
   "mimetype": "text/x-python",
   "name": "python",
   "nbconvert_exporter": "python",
   "pygments_lexer": "ipython3",
   "version": "3.9.7"
  }
 },
 "nbformat": 4,
 "nbformat_minor": 5
}
