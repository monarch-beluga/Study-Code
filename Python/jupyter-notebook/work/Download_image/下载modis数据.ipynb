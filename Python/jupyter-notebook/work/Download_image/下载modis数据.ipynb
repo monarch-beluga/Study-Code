{
 "cells": [
  {
   "cell_type": "code",
   "execution_count": 1,
   "metadata": {},
   "outputs": [],
   "source": [
    "import ee\n",
    "import geemap\n",
    "import os\n",
    "from concurrent.futures.thread import ThreadPoolExecutor"
   ]
  },
  {
   "cell_type": "code",
   "execution_count": null,
   "metadata": {},
   "outputs": [
    {
     "data": {
      "text/html": [
       "<p>To authorize access needed by Earth Engine, open the following\n",
       "        URL in a web browser and follow the instructions:</p>\n",
       "        <p><a href=https://accounts.google.com/o/oauth2/auth?client_id=517222506229-vsmmajv00ul0bs7p89v5m89qs8eb9359.apps.googleusercontent.com&scope=https%3A%2F%2Fwww.googleapis.com%2Fauth%2Fearthengine+https%3A%2F%2Fwww.googleapis.com%2Fauth%2Fdevstorage.full_control&redirect_uri=urn%3Aietf%3Awg%3Aoauth%3A2.0%3Aoob&response_type=code&code_challenge=VilxwZcP_Nj8yA9I9KurwpA_uS4D749_Lyz8_4VbKk4&code_challenge_method=S256>https://accounts.google.com/o/oauth2/auth?client_id=517222506229-vsmmajv00ul0bs7p89v5m89qs8eb9359.apps.googleusercontent.com&scope=https%3A%2F%2Fwww.googleapis.com%2Fauth%2Fearthengine+https%3A%2F%2Fwww.googleapis.com%2Fauth%2Fdevstorage.full_control&redirect_uri=urn%3Aietf%3Awg%3Aoauth%3A2.0%3Aoob&response_type=code&code_challenge=VilxwZcP_Nj8yA9I9KurwpA_uS4D749_Lyz8_4VbKk4&code_challenge_method=S256</a></p>\n",
       "        <p>The authorization workflow will generate a code, which you\n",
       "        should paste in the box below</p>\n",
       "        "
      ],
      "text/plain": [
       "<IPython.core.display.HTML object>"
      ]
     },
     "metadata": {},
     "output_type": "display_data"
    }
   ],
   "source": [
    "Map = geemap.Map() #center参数是打开地图的中心点经纬度坐标\n",
    "Map"
   ]
  },
  {
   "cell_type": "code",
   "execution_count": null,
   "metadata": {},
   "outputs": [],
   "source": [
    "roi = geemap.shp_to_ee(r'E:/Data/temp/union.shp').geometry() # 选择指定绘制区域作为下载范围，这里选择的是第一个即0"
   ]
  },
  {
   "cell_type": "code",
   "execution_count": null,
   "metadata": {},
   "outputs": [],
   "source": [
    "class para:\n",
    "    start_time = '2001-05' # 开始时间\n",
    "    end_time = '2001-07'   # 结束时间\n",
    "    outpath1 = 'E:/temp/Shandong'\n",
    "    outpath = 'F:/文件/工作/孟印缅边界/MOD11A2/'   # 下载文件保存文件夹路径,路径符号用正斜杠，且以正斜杠结尾\n",
    "    file_format = '.tif'         # 下载文件保存格式\n"
   ]
  },
  {
   "cell_type": "code",
   "execution_count": null,
   "metadata": {},
   "outputs": [],
   "source": [
    "if not os.path.exists(para.outpath1):\n",
    "    os.makedirs(para.outpath1)"
   ]
  },
  {
   "cell_type": "code",
   "execution_count": null,
   "metadata": {},
   "outputs": [],
   "source": [
    "image = ee.ImageCollection(\"MODIS/006/MOD09Q1\").filterDate(para.start_time, para.end_time) # 引用方法到gee里面复制\n",
    "# filterDate确定时间范围\n",
    "name = image.aggregate_array('system:id').getInfo()   # 得到地图id"
   ]
  },
  {
   "cell_type": "code",
   "execution_count": null,
   "metadata": {},
   "outputs": [],
   "source": [
    "name"
   ]
  },
  {
   "cell_type": "code",
   "execution_count": null,
   "metadata": {},
   "outputs": [],
   "source": [
    "Layer = ee.Image('MODIS/006/MOD11A2/2001_06_26').select('LST_Day_1km')\n",
    "Map.addLayer(Layer, {}, \"Layer1\")"
   ]
  },
  {
   "cell_type": "code",
   "execution_count": null,
   "metadata": {},
   "outputs": [],
   "source": [
    "def dow(i): # 用地图id做循环\n",
    "    Layer = ee.Image(i).select('LST_Day_1km') # 使用地图，select为确定地图波段，可以去除，则为全波段\n",
    "    # 保存文件名为地图id加文件格式\n",
    "    a = i.split('/')\n",
    "    str = '-'\n",
    "    b = str.join(a)\n",
    "    file = para.outpath + b + para.file_format\n",
    "    # 导出栅格影像，file_per_band为是否按波段分别导出\n",
    "    geemap.ee_export_image(Layer, filename=file, region=roi,file_per_band=True)"
   ]
  },
  {
   "cell_type": "code",
   "execution_count": null,
   "metadata": {},
   "outputs": [],
   "source": [
    "with ThreadPoolExecutor(max_workers=10) as executor:\n",
    "    executor.map(dow, name)"
   ]
  },
  {
   "cell_type": "code",
   "execution_count": null,
   "metadata": {},
   "outputs": [],
   "source": [
    "image = ee.ImageCollection(\"MODIS/006/MOD13A1\").filterDate(\"2000\", \"2019\") # 引用方法到gee里面复制\n",
    "# filterDate确定时间范围\n",
    "name = image.aggregate_array('system:id').getInfo()   # 得到地图id"
   ]
  },
  {
   "cell_type": "code",
   "execution_count": null,
   "metadata": {},
   "outputs": [],
   "source": [
    "name"
   ]
  },
  {
   "cell_type": "code",
   "execution_count": null,
   "metadata": {},
   "outputs": [],
   "source": [
    "def dow1(i):  # 用地图id做循环\n",
    "    Layer = ee.Image(i).select('NDVI') # 使用地图，select为确定地图波段，可以去除，则为全波段\n",
    "    # 保存文件名为地图id加文件格式\n",
    "    a = i.split('/')\n",
    "    str = '-'\n",
    "    b = str.join(a)\n",
    "    file = r'E:/Data/temp/' + b + '.tif'\n",
    "    # 导出栅格影像，file_per_band为是否按波段分别导出\n",
    "    geemap.ee_export_image(Layer, filename=file, scale=500, region=roi,file_per_band=True)"
   ]
  },
  {
   "cell_type": "code",
   "execution_count": null,
   "metadata": {},
   "outputs": [],
   "source": [
    "with ThreadPoolExecutor(max_workers=10) as executor:\n",
    "    executor.map(dow1, name)"
   ]
  },
  {
   "cell_type": "code",
   "execution_count": null,
   "metadata": {},
   "outputs": [],
   "source": [
    "dow1(name[0])"
   ]
  },
  {
   "cell_type": "code",
   "execution_count": null,
   "metadata": {},
   "outputs": [],
   "source": []
  }
 ],
 "metadata": {
  "kernelspec": {
   "display_name": "Python 3 (ipykernel)",
   "language": "python",
   "name": "python3"
  },
  "language_info": {
   "codemirror_mode": {
    "name": "ipython",
    "version": 3
   },
   "file_extension": ".py",
   "mimetype": "text/x-python",
   "name": "python",
   "nbconvert_exporter": "python",
   "pygments_lexer": "ipython3",
   "version": "3.9.6"
  },
  "varInspector": {
   "cols": {
    "lenName": 16,
    "lenType": 16,
    "lenVar": 40
   },
   "kernels_config": {
    "python": {
     "delete_cmd_postfix": "",
     "delete_cmd_prefix": "del ",
     "library": "var_list.py",
     "varRefreshCmd": "print(var_dic_list())"
    },
    "r": {
     "delete_cmd_postfix": ") ",
     "delete_cmd_prefix": "rm(",
     "library": "var_list.r",
     "varRefreshCmd": "cat(var_dic_list()) "
    }
   },
   "oldHeight": 122.22178,
   "position": {
    "height": "40px",
    "left": "794.01px",
    "right": "20px",
    "top": "120px",
    "width": "250.434px"
   },
   "types_to_exclude": [
    "module",
    "function",
    "builtin_function_or_method",
    "instance",
    "_Feature"
   ],
   "varInspector_section_display": "none",
   "window_display": true
  }
 },
 "nbformat": 4,
 "nbformat_minor": 4
}
