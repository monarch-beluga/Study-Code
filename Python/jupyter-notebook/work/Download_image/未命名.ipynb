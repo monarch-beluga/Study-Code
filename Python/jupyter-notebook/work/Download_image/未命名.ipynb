{
 "cells": [
  {
   "cell_type": "code",
   "execution_count": 7,
   "id": "efcceec3",
   "metadata": {
    "ExecuteTime": {
     "end_time": "2023-02-02T10:17:17.801932Z",
     "start_time": "2023-02-02T10:17:17.386826Z"
    }
   },
   "outputs": [
    {
     "data": {
      "application/vnd.jupyter.widget-view+json": {
       "model_id": "4e2511d2ac8841e9b004bfb6e1f90c17",
       "version_major": 2,
       "version_minor": 0
      },
      "text/plain": [
       "Map(center=[20, 0], controls=(WidgetControl(options=['position', 'transparent_bg'], widget=HBox(children=(Togg…"
      ]
     },
     "metadata": {},
     "output_type": "display_data"
    }
   ],
   "source": [
    "import ee\n",
    "import geemap\n",
    "\n",
    "Map = geemap.Map()\n",
    "Map"
   ]
  },
  {
   "cell_type": "code",
   "execution_count": 8,
   "id": "ee042236",
   "metadata": {
    "ExecuteTime": {
     "end_time": "2023-02-02T10:17:21.872517Z",
     "start_time": "2023-02-02T10:17:21.866533Z"
    }
   },
   "outputs": [],
   "source": [
    "import os\n",
    "os.chdir(r'H:\\Monarch\\paper\\Data')"
   ]
  },
  {
   "cell_type": "code",
   "execution_count": null,
   "id": "57a2e739",
   "metadata": {},
   "outputs": [],
   "source": [
    "geemap.ee_export_image"
   ]
  },
  {
   "cell_type": "code",
   "execution_count": 9,
   "id": "4ae41ea9",
   "metadata": {
    "ExecuteTime": {
     "end_time": "2023-02-02T10:17:25.812712Z",
     "start_time": "2023-02-02T10:17:23.506583Z"
    }
   },
   "outputs": [],
   "source": [
    "shp_file = r'JX.shp'\n",
    "shp = geemap.shp_to_ee(shp_file, encoding='GBK')\n",
    "\n",
    "Map.addLayer(shp, {}, 'shp')\n",
    "\n",
    "Map.center_object(shp, 7)\n",
    "roi = shp.geometry()"
   ]
  },
  {
   "cell_type": "code",
   "execution_count": 17,
   "id": "136e88f1",
   "metadata": {
    "ExecuteTime": {
     "end_time": "2023-02-02T10:23:51.473264Z",
     "start_time": "2023-02-02T10:23:51.466283Z"
    }
   },
   "outputs": [],
   "source": [
    "images = (ee.ImageCollection(\"LANDSAT/LC08/C02/T1_RT\").filterDate('2019', '2020').filterBounds(roi)\n",
    "            .sort(\"CLOUD_COVER\").select('B[1-7]'))"
   ]
  },
  {
   "cell_type": "code",
   "execution_count": null,
   "id": "f57fcf6f",
   "metadata": {
    "ExecuteTime": {
     "start_time": "2023-02-02T11:24:47.212Z"
    }
   },
   "outputs": [
    {
     "name": "stderr",
     "output_type": "stream",
     "text": [
      "Consider adjusting `region`, `scale` and/or `dtype` to reduce the JX_landsat8.tif download size (raw: 5.25 GB).\n"
     ]
    },
    {
     "data": {
      "application/vnd.jupyter.widget-view+json": {
       "model_id": "8a63c003250b4716abc6c315d9d8629a",
       "version_major": 2,
       "version_minor": 0
      },
      "text/plain": [
       "JX_landsat8.tif: |                                                    | 0.00/5.25G (raw) [  0.0%] in 00:00 (et…"
      ]
     },
     "metadata": {},
     "output_type": "display_data"
    }
   ],
   "source": [
    "geemap.download_ee_image(images.mosaic().clip(roi), 'JX_landsat8.tif', region=roi, \n",
    "                        crs='epsg:4326', scale=30, max_tile_size=30)"
   ]
  },
  {
   "cell_type": "code",
   "execution_count": null,
   "id": "e5631847",
   "metadata": {},
   "outputs": [],
   "source": []
  }
 ],
 "metadata": {
  "kernelspec": {
   "display_name": "Python 3 (ipykernel)",
   "language": "python",
   "name": "python3"
  },
  "language_info": {
   "codemirror_mode": {
    "name": "ipython",
    "version": 3
   },
   "file_extension": ".py",
   "mimetype": "text/x-python",
   "name": "python",
   "nbconvert_exporter": "python",
   "pygments_lexer": "ipython3",
   "version": "3.9.7"
  }
 },
 "nbformat": 4,
 "nbformat_minor": 5
}
