{
 "cells": [
  {
   "cell_type": "code",
   "execution_count": 1,
   "id": "efcceec3",
   "metadata": {
    "ExecuteTime": {
     "end_time": "2023-02-01T07:19:18.512487Z",
     "start_time": "2023-02-01T07:19:09.295764Z"
    }
   },
   "outputs": [
    {
     "data": {
      "application/vnd.jupyter.widget-view+json": {
       "model_id": "19627cfad2a04f06970b3ed2c75ac9fa",
       "version_major": 2,
       "version_minor": 0
      },
      "text/plain": [
       "Map(center=[20, 0], controls=(WidgetControl(options=['position', 'transparent_bg'], widget=HBox(children=(Togg…"
      ]
     },
     "metadata": {},
     "output_type": "display_data"
    }
   ],
   "source": [
    "import ee\n",
    "import geemap\n",
    "\n",
    "Map = geemap.Map()\n",
    "Map"
   ]
  },
  {
   "cell_type": "code",
   "execution_count": 2,
   "id": "4ae41ea9",
   "metadata": {
    "ExecuteTime": {
     "end_time": "2023-02-01T07:19:43.908125Z",
     "start_time": "2023-02-01T07:19:39.990395Z"
    }
   },
   "outputs": [],
   "source": [
    "import os\n",
    "os.chdir(r'H:/Monarch/Work/MCD_dow/')\n",
    "\n",
    "shp_file = r'roi.shp'\n",
    "shp = geemap.shp_to_ee(shp_file)\n",
    "\n",
    "Map.addLayer(shp, {}, 'shp')\n",
    "\n",
    "Map.center_object(shp, 3)\n",
    "roi = shp.geometry()"
   ]
  },
  {
   "cell_type": "code",
   "execution_count": 12,
   "id": "136e88f1",
   "metadata": {
    "ExecuteTime": {
     "end_time": "2023-02-01T07:40:37.735036Z",
     "start_time": "2023-02-01T07:40:37.719300Z"
    }
   },
   "outputs": [],
   "source": [
    "start_time = 2018\n",
    "end_time = 2021\n",
    "\n",
    "images = ee.ImageCollection(\"ECMWF/ERA5/DAILY\")\\\n",
    "            .filterDate(f'{2020}', f'{2021}')"
   ]
  },
  {
   "cell_type": "code",
   "execution_count": 6,
   "id": "f57fcf6f",
   "metadata": {
    "ExecuteTime": {
     "end_time": "2023-02-01T07:38:24.793835Z",
     "start_time": "2023-02-01T07:38:24.788837Z"
    }
   },
   "outputs": [
    {
     "data": {
      "text/plain": [
       "1095"
      ]
     },
     "execution_count": 6,
     "metadata": {},
     "output_type": "execute_result"
    }
   ],
   "source": []
  },
  {
   "cell_type": "code",
   "execution_count": null,
   "id": "e5631847",
   "metadata": {},
   "outputs": [],
   "source": []
  }
 ],
 "metadata": {
  "kernelspec": {
   "display_name": "Python 3 (ipykernel)",
   "language": "python",
   "name": "python3"
  },
  "language_info": {
   "codemirror_mode": {
    "name": "ipython",
    "version": 3
   },
   "file_extension": ".py",
   "mimetype": "text/x-python",
   "name": "python",
   "nbconvert_exporter": "python",
   "pygments_lexer": "ipython3",
   "version": "3.9.7"
  }
 },
 "nbformat": 4,
 "nbformat_minor": 5
}
