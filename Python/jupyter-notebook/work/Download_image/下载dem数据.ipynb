{
 "cells": [
  {
   "cell_type": "code",
   "execution_count": null,
   "id": "0d6ecfc3",
   "metadata": {
    "ExecuteTime": {
     "end_time": "2023-01-05T03:12:23.860027Z",
     "start_time": "2023-01-05T03:12:15.491995Z"
    },
    "tags": []
   },
   "outputs": [],
   "source": [
    "import geemap\n",
    "import ee\n",
    "\n",
    "Map = geemap.Map()\n",
    "Map"
   ]
  },
  {
   "cell_type": "code",
   "execution_count": null,
   "id": "4b33e10b",
   "metadata": {
    "ExecuteTime": {
     "end_time": "2023-01-05T03:12:23.875648Z",
     "start_time": "2023-01-05T03:12:23.860027Z"
    },
    "tags": []
   },
   "outputs": [],
   "source": [
    "import os\n",
    "os.chdir(r'D:\\Work\\dem')"
   ]
  },
  {
   "cell_type": "code",
   "execution_count": null,
   "id": "d3746b2e",
   "metadata": {
    "ExecuteTime": {
     "end_time": "2023-01-05T03:12:25.986324Z",
     "start_time": "2023-01-05T03:12:23.875648Z"
    },
    "tags": []
   },
   "outputs": [],
   "source": [
    "roi = ee.Geometry.Rectangle([74, 41, 86, 45], None, False)\n",
    "\n",
    "Map.addLayer(roi, {}, 'roi')"
   ]
  },
  {
   "cell_type": "code",
   "execution_count": null,
   "id": "16eb198a-844d-4ea1-a70c-769a35cd4626",
   "metadata": {
    "tags": []
   },
   "outputs": [],
   "source": [
    "Albers_project_img = ee.Image('users/2431566134liumonarch/WGS_1984_Albers_project')\n",
    "\n",
    "crs = Albers_project_img.projection()"
   ]
  },
  {
   "cell_type": "code",
   "execution_count": null,
   "id": "54614317",
   "metadata": {
    "ExecuteTime": {
     "end_time": "2023-01-05T02:01:18.212308Z",
     "start_time": "2023-01-05T02:01:11.237156Z"
    }
   },
   "outputs": [],
   "source": [
    "dem_img = ee.ImageCollection('JAXA/ALOS/AW3D30/V3_2').filterBounds(roi).mosaic().clip(roi).select(\"DSM\")\n",
    "Map.addLayer(dem_img, {'min':0, 'max':2000}, 'eleva')"
   ]
  },
  {
   "cell_type": "code",
   "execution_count": null,
   "id": "844ed647",
   "metadata": {
    "ExecuteTime": {
     "end_time": "2023-01-04T03:35:05.885309Z",
     "start_time": "2023-01-04T03:35:01.788419Z"
    }
   },
   "outputs": [],
   "source": [
    "geemap.download_ee_image(dem_img, r'dem_90m.tif', scale=90, region=roi, crs=crs)"
   ]
  },
  {
   "cell_type": "code",
   "execution_count": null,
   "id": "36c39e15-c56e-4759-8a51-a4dbbfe5bfcd",
   "metadata": {},
   "outputs": [],
   "source": [
    "Map.add_raster(r'dem_90m.tif', layer_name='dem')"
   ]
  },
  {
   "cell_type": "code",
   "execution_count": null,
   "id": "9fed53e1-1fa5-44bb-b7fe-c678a29da899",
   "metadata": {},
   "outputs": [],
   "source": []
  }
 ],
 "metadata": {
  "kernelspec": {
   "display_name": "Python 3 (ipykernel)",
   "language": "python",
   "name": "python3"
  },
  "language_info": {
   "codemirror_mode": {
    "name": "ipython",
    "version": 3
   },
   "file_extension": ".py",
   "mimetype": "text/x-python",
   "name": "python",
   "nbconvert_exporter": "python",
   "pygments_lexer": "ipython3",
   "version": "3.10.10"
  }
 },
 "nbformat": 4,
 "nbformat_minor": 5
}
