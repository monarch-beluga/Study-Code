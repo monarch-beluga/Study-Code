{
 "cells": [
  {
   "cell_type": "code",
   "execution_count": 1,
   "id": "0d6ecfc3",
   "metadata": {},
   "outputs": [
    {
     "data": {
      "application/vnd.jupyter.widget-view+json": {
       "model_id": "7fccf96ad47249969f6efe7abb78b2e1",
       "version_major": 2,
       "version_minor": 0
      },
      "text/plain": [
       "Map(center=[29, 85], controls=(WidgetControl(options=['position', 'transparent_bg'], widget=HBox(children=(Tog…"
      ]
     },
     "metadata": {},
     "output_type": "display_data"
    }
   ],
   "source": [
    "import geemap\n",
    "import ee\n",
    "from Monarch import user_gee\n",
    "\n",
    "Map = geemap.Map(center=(29, 85))\n",
    "Map"
   ]
  },
  {
   "cell_type": "code",
   "execution_count": 2,
   "id": "4b33e10b",
   "metadata": {},
   "outputs": [],
   "source": [
    "import os\n",
    "os.chdir(r'E:\\Data\\class\\数字地形分析')"
   ]
  },
  {
   "cell_type": "code",
   "execution_count": 3,
   "id": "18545bc9",
   "metadata": {},
   "outputs": [],
   "source": [
    "roi = geemap.shp_to_ee('gz.shp')\n",
    "Map.addLayer(roi, {}, \"roi\")"
   ]
  },
  {
   "cell_type": "code",
   "execution_count": null,
   "id": "94d70be6",
   "metadata": {},
   "outputs": [],
   "source": [
    "river = ee.FeatureCollection(\"WWF/HydroSHEDS/v1/FreeFlowingRivers\").filterBounds(roi.geometry())\n",
    "Map.addLayer(river, {'color':'blue'}, 'river')"
   ]
  },
  {
   "cell_type": "code",
   "execution_count": null,
   "id": "78675ae2",
   "metadata": {},
   "outputs": [],
   "source": [
    "geemap.ee_to_shp(river, 'river.shp')"
   ]
  },
  {
   "cell_type": "code",
   "execution_count": 4,
   "id": "54614317",
   "metadata": {},
   "outputs": [],
   "source": [
    "dem_img = ee.Image(\"USGS/SRTMGL1_003\").clip(roi.geometry())\n",
    "Map.addLayer(dem_img, {'min':0, 'max':2000}, 'eleva')"
   ]
  },
  {
   "cell_type": "code",
   "execution_count": null,
   "id": "844ed647",
   "metadata": {},
   "outputs": [],
   "source": [
    "geemap.ee_export_image(dem_img, r'gz_dem_90m1.tif', scale=90)"
   ]
  },
  {
   "cell_type": "code",
   "execution_count": null,
   "id": "2d93ae02",
   "metadata": {},
   "outputs": [],
   "source": [
    "f = r'gz_dem_90m'\n",
    "while not os.path.exists(f+'.tif'):\n",
    "    user_gee.clip_dow_merge(roi.geometry(), dem_img, f, scale=90, sep=0.25)"
   ]
  },
  {
   "cell_type": "code",
   "execution_count": null,
   "id": "ff0c6e01",
   "metadata": {},
   "outputs": [],
   "source": []
  }
 ],
 "metadata": {
  "kernelspec": {
   "display_name": "Python 3 (ipykernel)",
   "language": "python",
   "name": "python3"
  },
  "language_info": {
   "codemirror_mode": {
    "name": "ipython",
    "version": 3
   },
   "file_extension": ".py",
   "mimetype": "text/x-python",
   "name": "python",
   "nbconvert_exporter": "python",
   "pygments_lexer": "ipython3",
   "version": "3.9.6"
  }
 },
 "nbformat": 4,
 "nbformat_minor": 5
}
