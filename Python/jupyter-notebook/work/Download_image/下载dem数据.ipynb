{
 "cells": [
  {
   "cell_type": "code",
   "execution_count": null,
   "id": "0d6ecfc3",
   "metadata": {
    "ExecuteTime": {
     "end_time": "2021-12-01T02:44:54.863164Z",
     "start_time": "2021-12-01T02:40:07.213917Z"
    }
   },
   "outputs": [],
   "source": [
    "import geemap\n",
    "import ee\n",
    "from Monarch import user_gee\n",
    "\n",
    "Map = geemap.Map(center=(29, 85))\n",
    "Map"
   ]
  },
  {
   "cell_type": "code",
   "execution_count": null,
   "id": "bd7522e8",
   "metadata": {
    "ExecuteTime": {
     "end_time": "2021-12-01T02:44:58.223663Z",
     "start_time": "2021-12-01T02:44:54.865132Z"
    }
   },
   "outputs": [],
   "source": [
    "roi_f = r'H:/Monarch/paper/Data/JX.shp'\n",
    "roi = geemap.shp_to_ee(roi_f, encoding=\"GBK\").\n",
    "Map.addLayer(roi, {}, 'roi')"
   ]
  },
  {
   "cell_type": "code",
   "execution_count": null,
   "id": "54614317",
   "metadata": {
    "ExecuteTime": {
     "end_time": "2021-12-01T02:45:16.374595Z",
     "start_time": "2021-12-01T02:45:14.592632Z"
    }
   },
   "outputs": [],
   "source": [
    "dem_img = ee.Image(\"USGS/SRTMGL1_003\").clip(roi.geometry())\n",
    "Map.addLayer(dem_img, {'min':0, 'max':2000}, 'eleva')"
   ]
  },
  {
   "cell_type": "code",
   "execution_count": null,
   "id": "56ddc4d5",
   "metadata": {
    "ExecuteTime": {
     "end_time": "2021-12-01T03:05:53.605147Z",
     "start_time": "2021-12-01T02:45:19.788303Z"
    }
   },
   "outputs": [],
   "source": [
    "import os\n",
    "f = r'H:/Monarch/Data/JX_dem_90m'\n",
    "while not os.path.exists(f+'.tif'):\n",
    "    user_gee.clip_dow_merge(roi.geometry(), dem_img, f, scale=90, sep=0.2)"
   ]
  },
  {
   "cell_type": "code",
   "execution_count": null,
   "id": "0093c47c",
   "metadata": {},
   "outputs": [],
   "source": [
    "geemap.ee_export_image_to_drive(dem_img, description='dem_qzgy', \n",
    "                                scale=90, folder='Image')"
   ]
  },
  {
   "cell_type": "code",
   "execution_count": null,
   "id": "db510ce5",
   "metadata": {},
   "outputs": [],
   "source": []
  }
 ],
 "metadata": {
  "kernelspec": {
   "display_name": "Python 3 (ipykernel)",
   "language": "python",
   "name": "python3"
  },
  "language_info": {
   "codemirror_mode": {
    "name": "ipython",
    "version": 3
   },
   "file_extension": ".py",
   "mimetype": "text/x-python",
   "name": "python",
   "nbconvert_exporter": "python",
   "pygments_lexer": "ipython3",
   "version": "3.9.7"
  }
 },
 "nbformat": 4,
 "nbformat_minor": 5
}
