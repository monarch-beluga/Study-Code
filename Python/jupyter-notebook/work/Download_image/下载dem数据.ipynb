{
 "cells": [
  {
   "cell_type": "code",
   "execution_count": null,
   "id": "0d6ecfc3",
   "metadata": {},
   "outputs": [],
   "source": [
    "import geemap\n",
    "import ee\n",
    "\n",
    "Map = geemap.Map(center=(29, 85))\n",
    "Map"
   ]
  },
  {
   "cell_type": "code",
   "execution_count": null,
   "id": "bd7522e8",
   "metadata": {},
   "outputs": [],
   "source": [
    "roi_f = r'E:/Data/roi/qzgy.shp'\n",
    "roi = geemap.shp_to_ee(roi_f)\n",
    "Map.addLayer(roi, {}, 'roi')"
   ]
  },
  {
   "cell_type": "code",
   "execution_count": null,
   "id": "54614317",
   "metadata": {},
   "outputs": [],
   "source": [
    "dem_img = ee.Image(\"USGS/SRTMGL1_003\").clip(roi.geometry())\n",
    "Map.addLayer(dem_img, {'min':0, 'max':6500}, 'eleva')"
   ]
  },
  {
   "cell_type": "code",
   "execution_count": null,
   "id": "0093c47c",
   "metadata": {},
   "outputs": [],
   "source": [
    "geemap.ee_export_image_to_drive(dem_img, description='dem_qzgy', \n",
    "                                scale=250, folder='Image')"
   ]
  },
  {
   "cell_type": "code",
   "execution_count": null,
   "id": "db510ce5",
   "metadata": {},
   "outputs": [],
   "source": []
  }
 ],
 "metadata": {
  "kernelspec": {
   "display_name": "Python 3",
   "language": "python",
   "name": "python3"
  },
  "language_info": {
   "codemirror_mode": {
    "name": "ipython",
    "version": 3
   },
   "file_extension": ".py",
   "mimetype": "text/x-python",
   "name": "python",
   "nbconvert_exporter": "python",
   "pygments_lexer": "ipython3",
   "version": "3.8.8"
  }
 },
 "nbformat": 4,
 "nbformat_minor": 5
}
