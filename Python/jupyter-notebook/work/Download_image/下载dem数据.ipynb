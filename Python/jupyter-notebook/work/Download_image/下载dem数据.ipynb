{
 "cells": [
  {
   "cell_type": "code",
   "execution_count": 1,
   "id": "0d6ecfc3",
   "metadata": {
    "ExecuteTime": {
     "end_time": "2023-01-05T03:12:23.860027Z",
     "start_time": "2023-01-05T03:12:15.491995Z"
    },
    "scrolled": false
   },
   "outputs": [
    {
     "data": {
      "application/vnd.jupyter.widget-view+json": {
       "model_id": "731bd9b961df4bc59b2f1e1862fedb58",
       "version_major": 2,
       "version_minor": 0
      },
      "text/plain": [
       "Map(center=[29, 85], controls=(WidgetControl(options=['position', 'transparent_bg'], widget=HBox(children=(Tog…"
      ]
     },
     "metadata": {},
     "output_type": "display_data"
    }
   ],
   "source": [
    "import geemap\n",
    "import ee\n",
    "from Monarch import user_gee\n",
    "\n",
    "Map = geemap.Map(center=(29, 85))\n",
    "Map"
   ]
  },
  {
   "cell_type": "code",
   "execution_count": 2,
   "id": "4b33e10b",
   "metadata": {
    "ExecuteTime": {
     "end_time": "2023-01-05T03:12:23.875648Z",
     "start_time": "2023-01-05T03:12:23.860027Z"
    }
   },
   "outputs": [],
   "source": [
    "import os\n",
    "os.chdir(r'H:\\Monarch\\Work\\qizhong')"
   ]
  },
  {
   "cell_type": "code",
   "execution_count": 3,
   "id": "d3746b2e",
   "metadata": {
    "ExecuteTime": {
     "end_time": "2023-01-05T03:12:25.986324Z",
     "start_time": "2023-01-05T03:12:23.875648Z"
    }
   },
   "outputs": [],
   "source": [
    "shp = geemap.shp_to_ee(\"roi.shp\")"
   ]
  },
  {
   "cell_type": "code",
   "execution_count": 4,
   "id": "b11e1860",
   "metadata": {
    "ExecuteTime": {
     "end_time": "2023-01-05T03:12:28.305204Z",
     "start_time": "2023-01-05T03:12:25.988320Z"
    }
   },
   "outputs": [],
   "source": [
    "Map.center_object(shp, 11)"
   ]
  },
  {
   "cell_type": "code",
   "execution_count": 5,
   "id": "18545bc9",
   "metadata": {
    "ExecuteTime": {
     "end_time": "2023-01-05T03:12:28.997452Z",
     "start_time": "2023-01-05T03:12:28.307202Z"
    }
   },
   "outputs": [],
   "source": [
    "roi = shp.geometry()\n",
    "Map.addLayer(roi, {'color':'red'}, 'roi')"
   ]
  },
  {
   "cell_type": "code",
   "execution_count": null,
   "id": "54614317",
   "metadata": {
    "ExecuteTime": {
     "end_time": "2023-01-05T02:01:18.212308Z",
     "start_time": "2023-01-05T02:01:11.237156Z"
    }
   },
   "outputs": [],
   "source": [
    "dem_img = ee.ImageCollection('JAXA/ALOS/AW3D30/V3_2').filterBounds(roi).mosaic().clip(roi).select(\"DSM\")\n",
    "Map.addLayer(dem_img, {'min':0, 'max':2000}, 'eleva')"
   ]
  },
  {
   "cell_type": "code",
   "execution_count": null,
   "id": "844ed647",
   "metadata": {
    "ExecuteTime": {
     "end_time": "2023-01-04T03:35:05.885309Z",
     "start_time": "2023-01-04T03:35:01.788419Z"
    }
   },
   "outputs": [],
   "source": [
    "geemap.ee_export_image(dem_img, r'dem_30m.tif', scale=30)"
   ]
  },
  {
   "cell_type": "code",
   "execution_count": null,
   "id": "ff0c6e01",
   "metadata": {},
   "outputs": [],
   "source": []
  }
 ],
 "metadata": {
  "kernelspec": {
   "display_name": "Python 3 (ipykernel)",
   "language": "python",
   "name": "python3"
  },
  "language_info": {
   "codemirror_mode": {
    "name": "ipython",
    "version": 3
   },
   "file_extension": ".py",
   "mimetype": "text/x-python",
   "name": "python",
   "nbconvert_exporter": "python",
   "pygments_lexer": "ipython3",
   "version": "3.9.7"
  }
 },
 "nbformat": 4,
 "nbformat_minor": 5
}
