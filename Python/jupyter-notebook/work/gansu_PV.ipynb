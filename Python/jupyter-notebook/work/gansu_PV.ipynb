{
 "cells": [
  {
   "cell_type": "code",
   "execution_count": null,
   "id": "95e1e77a",
   "metadata": {
    "ExecuteTime": {
     "end_time": "2023-01-30T11:31:13.676979Z",
     "start_time": "2023-01-30T11:31:07.731754Z"
    }
   },
   "outputs": [],
   "source": [
    "import geemap\n",
    "import ee\n",
    "\n",
    "Map = geemap.Map()\n",
    "Map"
   ]
  },
  {
   "cell_type": "code",
   "execution_count": null,
   "id": "ff1b1768",
   "metadata": {
    "ExecuteTime": {
     "end_time": "2023-01-30T11:31:13.692913Z",
     "start_time": "2023-01-30T11:31:13.677953Z"
    }
   },
   "outputs": [],
   "source": [
    "import os\n",
    "os.chdir(r'H:\\Monarch\\Work\\Gansu_PV_2020_map')"
   ]
  },
  {
   "cell_type": "code",
   "execution_count": null,
   "id": "270b245d",
   "metadata": {
    "ExecuteTime": {
     "end_time": "2023-01-30T11:34:18.637639Z",
     "start_time": "2023-01-30T11:34:16.107555Z"
    }
   },
   "outputs": [],
   "source": [
    "shp_file = r'gansu_pv_roi.shp'\n",
    "shp = geemap.shp_to_ee(shp_file)"
   ]
  },
  {
   "cell_type": "code",
   "execution_count": null,
   "id": "e493d9d6",
   "metadata": {
    "ExecuteTime": {
     "end_time": "2023-01-30T11:34:26.465246Z",
     "start_time": "2023-01-30T11:34:21.865654Z"
    }
   },
   "outputs": [],
   "source": [
    "Map.addLayer(shp, {}, 'shp')\n",
    "Map.center_object(shp, 6)\n",
    "roi = shp.geometry()"
   ]
  },
  {
   "cell_type": "code",
   "execution_count": null,
   "id": "6bf6f7db",
   "metadata": {
    "ExecuteTime": {
     "end_time": "2023-01-30T11:34:29.022681Z",
     "start_time": "2023-01-30T11:34:26.466242Z"
    }
   },
   "outputs": [],
   "source": [
    "image = ee.Image(\"projects/ee-2431566134liumonarch/assets/Gansu_pv_2020_part3_map\")\n",
    "Map.addLayer(image, {'palette':\"blue\"},'pv_final')"
   ]
  },
  {
   "cell_type": "code",
   "execution_count": null,
   "id": "494bae99",
   "metadata": {
    "ExecuteTime": {
     "end_time": "2023-01-30T11:34:36.206504Z",
     "start_time": "2023-01-30T11:34:36.195533Z"
    }
   },
   "outputs": [],
   "source": [
    "img_c = image.connectedPixelCount(500, False)\n",
    "# Map.addLayer(img_c.gte(150), {'min':1, 'max': 1, 'palette': ['ff0000']},'img_c')\n",
    "# geemap.ee_export_image(img_c.clip(window), 'img_c.tif', 30, region=window)"
   ]
  },
  {
   "cell_type": "code",
   "execution_count": null,
   "id": "d3ceb81f",
   "metadata": {
    "ExecuteTime": {
     "end_time": "2023-01-30T11:34:36.503946Z",
     "start_time": "2023-01-30T11:34:36.489959Z"
    }
   },
   "outputs": [],
   "source": [
    "image_mask = image.mask(img_c.gte(500))\n",
    "# Map.addLayer(image_mask, {'palette':\"red\"},'pv_final_mask')"
   ]
  },
  {
   "cell_type": "code",
   "execution_count": null,
   "id": "7a9a7629",
   "metadata": {
    "ExecuteTime": {
     "end_time": "2023-01-30T11:34:38.350380Z",
     "start_time": "2023-01-30T11:34:38.338436Z"
    }
   },
   "outputs": [],
   "source": [
    "image_mask_vector = image_mask.reduceToVectors(**{\n",
    "    'geometry':roi,\n",
    "    'scale': 10,\n",
    "    'maxPixels': 1e13\n",
    "})"
   ]
  },
  {
   "cell_type": "code",
   "execution_count": null,
   "id": "f90ddbad",
   "metadata": {
    "ExecuteTime": {
     "end_time": "2023-01-30T11:34:41.282747Z",
     "start_time": "2023-01-30T11:34:40.833531Z"
    }
   },
   "outputs": [],
   "source": [
    "Map.addLayer(image_mask_vector, {'color':'green'}, 'vector')"
   ]
  },
  {
   "cell_type": "code",
   "execution_count": null,
   "id": "55b17b8e",
   "metadata": {
    "ExecuteTime": {
     "end_time": "2023-01-30T11:34:42.220100Z",
     "start_time": "2023-01-30T11:34:42.201160Z"
    }
   },
   "outputs": [],
   "source": [
    "def feature_area_per(feature):\n",
    "    feature = ee.Feature(feature)\n",
    "    area = feature.area(0.01)\n",
    "    perimeter = feature.perimeter(0.01)\n",
    "    feature = feature.set('area', area, 'perimeter', perimeter, 'ratio', area.divide(perimeter))\n",
    "    return feature"
   ]
  },
  {
   "cell_type": "code",
   "execution_count": null,
   "id": "f6e13b8e",
   "metadata": {
    "ExecuteTime": {
     "end_time": "2023-01-30T11:34:44.826192Z",
     "start_time": "2023-01-30T11:34:44.809237Z"
    }
   },
   "outputs": [],
   "source": [
    "feature_image = image_mask_vector.map(feature_area_per)"
   ]
  },
  {
   "cell_type": "code",
   "execution_count": null,
   "id": "a06ce43f",
   "metadata": {
    "ExecuteTime": {
     "end_time": "2023-01-30T11:34:46.471391Z",
     "start_time": "2023-01-30T11:34:46.034628Z"
    }
   },
   "outputs": [],
   "source": [
    "Map.addLayer(feature_image.filter(ee.Filter.gt('ratio', 45)), \n",
    "             {'color':'red'}, 'feature_image')"
   ]
  },
  {
   "cell_type": "markdown",
   "id": "55ef1b8b",
   "metadata": {},
   "source": [
    "### 矢量导出"
   ]
  },
  {
   "cell_type": "code",
   "execution_count": null,
   "id": "129aeebe",
   "metadata": {
    "ExecuteTime": {
     "start_time": "2023-01-30T11:28:54.104Z"
    }
   },
   "outputs": [],
   "source": [
    "geemap.ee_to_shp(feature_image.filter(ee.Filter.gt('ratio', 45)), r'feature_image_f.shp')\n",
    "\n",
    "geemap.ee_to_shp(feature_image, r'feature_image.shp')"
   ]
  },
  {
   "cell_type": "code",
   "execution_count": null,
   "id": "ef647147",
   "metadata": {},
   "outputs": [],
   "source": []
  },
  {
   "cell_type": "code",
   "execution_count": null,
   "id": "8ff576f1",
   "metadata": {},
   "outputs": [],
   "source": []
  }
 ],
 "metadata": {
  "kernelspec": {
   "display_name": "Python 3 (ipykernel)",
   "language": "python",
   "name": "python3"
  },
  "language_info": {
   "codemirror_mode": {
    "name": "ipython",
    "version": 3
   },
   "file_extension": ".py",
   "mimetype": "text/x-python",
   "name": "python",
   "nbconvert_exporter": "python",
   "pygments_lexer": "ipython3",
   "version": "3.9.7"
  }
 },
 "nbformat": 4,
 "nbformat_minor": 5
}
