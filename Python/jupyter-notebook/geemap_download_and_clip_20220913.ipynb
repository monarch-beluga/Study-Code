{
 "cells": [
  {
   "cell_type": "code",
   "execution_count": null,
   "id": "b1c72e74",
   "metadata": {
    "ExecuteTime": {
     "end_time": "2023-01-03T03:43:26.205134Z",
     "start_time": "2023-01-03T03:43:26.169550Z"
    }
   },
   "outputs": [],
   "source": [
    "import ee, os\n",
    "import geemap\n",
    "Map = geemap.Map(center=[30, 113], zoom=7) \n",
    "Map"
   ]
  },
  {
   "cell_type": "code",
   "execution_count": null,
   "id": "ddf6305d",
   "metadata": {},
   "outputs": [],
   "source": [
    "h = 110\n",
    "v = 25\n",
    "#Year\n",
    "IniYear = 2020\n",
    "\n",
    "LowLat = v\n",
    "UpLat = v+5\n",
    "LeftLon = h\n",
    "RightLon = h+5\n",
    "\n",
    "#Regions\n",
    "# region = ee.Geometry.Rectangle(LeftLon,LowLat,RightLon,UpLat);\n",
    "# region_path = r'D:\\TempData\\Anhui.shp'\n",
    "# convert local shape file to ee.feature\n",
    "# region = ee.FeatureCollection(geemap.shp_to_ee(region_path))\n",
    "region = ee.FeatureCollection(\"users/2431566134liumonarch/monarch/Jiangxi\").geometry()\n",
    "\n",
    "Map.addLayer(region, {}, 'region')\n",
    "\n",
    "dem = ee.Image('USGS/SRTMGL1_003')\n",
    "#Set region and starting and ending time\n",
    "start_date = str(IniYear) + '-01-01';\n",
    "end_date = str(IniYear) + '-12-31';\n",
    "print(start_date)\n",
    "print(end_date)\n",
    "Map"
   ]
  },
  {
   "cell_type": "code",
   "execution_count": null,
   "id": "ee444522",
   "metadata": {},
   "outputs": [],
   "source": [
    "collection8 = ee.ImageCollection('LANDSAT/LC08/C01/T1_SR')\\\n",
    "    .filterBounds(region)\\\n",
    "    .filterDate(start_date, end_date)\\\n",
    "    .select( #Rename LC8 bands same as L5/7\n",
    "      ['B2', 'B3', 'B4', 'B5', 'B6', 'B7']\n",
    "      ,['B1', 'B2', 'B3', 'B4', 'B5', 'B7'])\n",
    "print('Landsat8')\n",
    "print(collection8.size().getInfo())"
   ]
  },
  {
   "cell_type": "code",
   "execution_count": null,
   "id": "38526e70",
   "metadata": {
    "scrolled": true
   },
   "outputs": [],
   "source": [
    "Map.addLayer(collection8.mosaic().toInt16().clip(region), {}, 'image')\n",
    "Map"
   ]
  },
  {
   "cell_type": "code",
   "execution_count": null,
   "id": "231c43c9",
   "metadata": {},
   "outputs": [],
   "source": [
    "image = collection8.mosaic().toInt16().clip(region)"
   ]
  },
  {
   "cell_type": "code",
   "execution_count": null,
   "id": "b5222874",
   "metadata": {
    "scrolled": true
   },
   "outputs": [],
   "source": [
    "from Monarch.user_gee import *\n",
    "outfile = 'E:/Work/TEMP3'\n",
    "if __name__ == '__main__':\n",
    "    clip_dow_merge(region, image, outfile, 30, 2, flag=False)"
   ]
  },
  {
   "cell_type": "code",
   "execution_count": null,
   "id": "b16e0808",
   "metadata": {},
   "outputs": [],
   "source": []
  }
 ],
 "metadata": {
  "kernelspec": {
   "display_name": "Python 3 (ipykernel)",
   "language": "python",
   "name": "python3"
  },
  "language_info": {
   "codemirror_mode": {
    "name": "ipython",
    "version": 3
   },
   "file_extension": ".py",
   "mimetype": "text/x-python",
   "name": "python",
   "nbconvert_exporter": "python",
   "pygments_lexer": "ipython3",
   "version": "3.9.7"
  }
 },
 "nbformat": 4,
 "nbformat_minor": 5
}
