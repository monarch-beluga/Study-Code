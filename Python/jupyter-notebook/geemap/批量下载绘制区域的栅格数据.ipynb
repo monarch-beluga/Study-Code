{
 "cells": [
  {
   "cell_type": "code",
   "execution_count": null,
   "metadata": {},
   "outputs": [],
   "source": [
    "import geemap\n",
    "import ee"
   ]
  },
  {
   "cell_type": "code",
   "execution_count": null,
   "metadata": {},
   "outputs": [],
   "source": [
    "# 打开地图\n",
    "Map = geemap.Map(center=(40, 80)) #center参数是打开地图的中心点经纬度坐标\n",
    "Map"
   ]
  },
  {
   "cell_type": "code",
   "execution_count": null,
   "metadata": {},
   "outputs": [],
   "source": [
    "# 在上图绘制需要下载的区域然后再执行这一步\n",
    "Map.draw_features  # 查看绘制图层信息"
   ]
  },
  {
   "cell_type": "code",
   "execution_count": null,
   "metadata": {},
   "outputs": [],
   "source": [
    "roi = Map.draw_features[0].geometry() # 选择指定绘制区域作为下载范围，这里选择的是第一个即0"
   ]
  },
  {
   "cell_type": "code",
   "execution_count": null,
   "metadata": {},
   "outputs": [],
   "source": [
    "class para:\n",
    "    start_time = '2002-01-01' # 开始时间\n",
    "    end_time = '2002-03-01'   # 结束时间\n",
    "    outpath = 'E:/temp/MODIS/'   # 下载文件保存文件夹路径,路径符号用正斜杠，且以正斜杠结尾\n",
    "    file_format = '.tif'         # 下载文件保存格式\n"
   ]
  },
  {
   "cell_type": "code",
   "execution_count": null,
   "metadata": {},
   "outputs": [],
   "source": [
    "image = ee.ImageCollection(\"MODIS/006/MOD11A2\").filterDate(para.start_time, para.end_time) # 引用方法到gee里面复制\n",
    "# filterDate确定时间范围\n",
    "name = image.aggregate_array('system:id').getInfo()   # 得到地图id"
   ]
  },
  {
   "cell_type": "code",
   "execution_count": null,
   "metadata": {},
   "outputs": [],
   "source": [
    "# 下载方法1\n",
    "for i in name: # 用地图id做循环\n",
    "    Layer = ee.Image(i).select('LST_Day_1km') # 使用地图，select为确定地图波段，可以去除，则为全波段\n",
    "    # 保存文件名为地图id加文件格式\n",
    "    a = i.split('/')\n",
    "    str = '-'\n",
    "    b = str.join(a)\n",
    "    file = para.outpath + b + para.file_format\n",
    "    # 导出栅格影像，file_per_band为是否按波段分别导出\n",
    "    geemap.ee_export_image(Layer, filename=file, region=roi,file_per_band=True)"
   ]
  },
  {
   "cell_type": "code",
   "execution_count": null,
   "metadata": {},
   "outputs": [],
   "source": [
    "# 下载方法2\n",
    "image = ee.ImageCollection(\"MODIS/006/MOD11A2\") \\ \n",
    "          .filterBounds(roi)\n",
    "          .filterDate(para.start_time, para.end_time) \\ \n",
    "          .select('LST_Day_1km')\n",
    "geemap.ee_export_image_collection（image, out_dir=para.outpath）"
   ]
  }
 ],
 "metadata": {
  "kernelspec": {
   "display_name": "Python 3",
   "language": "python",
   "name": "python3"
  },
  "language_info": {
   "codemirror_mode": {
    "name": "ipython",
    "version": 3
   },
   "file_extension": ".py",
   "mimetype": "text/x-python",
   "name": "python",
   "nbconvert_exporter": "python",
   "pygments_lexer": "ipython3",
   "version": "3.8.3"
  }
 },
 "nbformat": 4,
 "nbformat_minor": 4
}
