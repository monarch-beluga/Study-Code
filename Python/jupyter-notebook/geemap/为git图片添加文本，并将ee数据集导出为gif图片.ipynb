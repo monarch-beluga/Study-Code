{
 "cells": [
  {
   "cell_type": "code",
   "execution_count": null,
   "metadata": {},
   "outputs": [],
   "source": [
    "import geemap\n",
    "import os"
   ]
  },
  {
   "cell_type": "code",
   "execution_count": null,
   "metadata": {},
   "outputs": [],
   "source": [
    "# geemap.update_package() \n",
    "# 可以从geemap GitHub存储库更新geemap包，而无需使用pip或conda"
   ]
  },
  {
   "cell_type": "code",
   "execution_count": null,
   "metadata": {},
   "outputs": [],
   "source": [
    "in_gif = '../geemap_data/animation.gif'\n",
    "out_gif = '../geemap_data/Downloads/output.gif'\n",
    "out_gif1 = '../geemap_data/Downloads/output1.gif'"
   ]
  },
  {
   "cell_type": "code",
   "execution_count": null,
   "metadata": {},
   "outputs": [],
   "source": [
    "geemap.show_image(in_gif) # 导入本地gif图片\n",
    "# show_image为在Jupyte中显示图像"
   ]
  },
  {
   "cell_type": "code",
   "execution_count": null,
   "metadata": {},
   "outputs": [],
   "source": [
    "geemap.add_text_to_gif(in_gif, out_gif, xy=('5%', '5%'), text_sequence=1984, font_size=30, font_color='#0000ff', duration=100)\n",
    "# 将文本添加到git图像中,详细用法：https://geemap.readthedocs.io/en/latest/source/geemap.html?highlight=add_text_to_gif#geemap.geemap.add_text_to_gif\n",
    "# xy为文本在图片上的位置\n",
    "# text_sequence为要绘制的文本，可以为int,str,list\n",
    "# 为int类型时，文本将以输入值为起始，每一帧加一的方式绘制到git图片上\n",
    "# 如果为list则list长度要和图片帧数一致\n",
    "# 为str类型时，先看是否为str型内容是否为数值，如果为数值，则与int型一致，如果不是，则以该字符串绘制每一帧上\n",
    "# font_size字体大小，font_color字体颜色\n",
    "# duration每一帧播放时间单位毫秒"
   ]
  },
  {
   "cell_type": "code",
   "execution_count": null,
   "metadata": {},
   "outputs": [],
   "source": [
    "geemap.show_image(out_gif)"
   ]
  },
  {
   "cell_type": "code",
   "execution_count": null,
   "metadata": {},
   "outputs": [],
   "source": [
    "geemap.add_text_to_gif(out_gif, out_gif1, xy=('30%', '85%'), text_sequence=\"Las Vegas\", font_color='black')"
   ]
  },
  {
   "cell_type": "code",
   "execution_count": null,
   "metadata": {},
   "outputs": [],
   "source": [
    "geemap.show_image(out_gif1)"
   ]
  },
  {
   "cell_type": "code",
   "execution_count": null,
   "metadata": {},
   "outputs": [],
   "source": [
    "geemap.system_fonts() # 获取系统字体列表"
   ]
  },
  {
   "cell_type": "code",
   "execution_count": null,
   "metadata": {},
   "outputs": [],
   "source": [
    "out_gif2 = '../geemap_data/Downloads/output2.gif'\n",
    "geemap.add_text_to_gif(out_gif, out_gif2, xy=('30%', '85%'), text_sequence=\"Las Vegas\",  font_type=\"timesbd.ttf\", font_size = 30, font_color='black')\n",
    "# font_type设置文本字体\n",
    "geemap.show_image(out_gif2)"
   ]
  },
  {
   "cell_type": "markdown",
   "metadata": {},
   "source": [
    "## 将ee图像导出为动态git影像"
   ]
  },
  {
   "cell_type": "code",
   "execution_count": null,
   "metadata": {},
   "outputs": [],
   "source": [
    "import ee\n",
    "import geemap\n",
    "\n",
    "ee.Initialize()\n",
    "\n",
    "aoi = ee.Geometry.Polygon(\n",
    "  [[[-179.0, 78.0], [-179.0, -58.0], [179.0, -58.0], [179.0, 78.0]]], None, False)\n",
    "\n",
    "# limit用于限制图片数量为24张\n",
    "tempCol = ee.ImageCollection('NOAA/GFS0P25') \\\n",
    "  .filterDate('2018-12-22', '2018-12-23') \\\n",
    "  .limit(24) \\\n",
    "  .select('temperature_2m_above_ground')\n",
    "\n",
    "# 编辑影像属性\n",
    "videoArgs = {\n",
    "  'dimensions': 768,\n",
    "  'region': aoi,\n",
    "  'framesPerSecond': 10,\n",
    "  'crs': 'EPSG:3857',\n",
    "  'min': -40.0,\n",
    "  'max': 35.0,\n",
    "  'palette': ['blue', 'purple', 'cyan', 'green', 'yellow', 'red']\n",
    "}"
   ]
  },
  {
   "cell_type": "code",
   "execution_count": null,
   "metadata": {},
   "outputs": [],
   "source": [
    "saved_gif ='../geemap_data/Downloads/temperature.gif'\n",
    "# 将影像下载为gif图像\n",
    "geemap.download_ee_video(tempCol, videoArgs, saved_gif)"
   ]
  },
  {
   "cell_type": "code",
   "execution_count": null,
   "metadata": {},
   "outputs": [],
   "source": [
    "geemap.show_image(saved_gif)"
   ]
  },
  {
   "cell_type": "code",
   "execution_count": null,
   "metadata": {},
   "outputs": [],
   "source": [
    "text = [str(n).zfill(2) + \":00\" for n in range(0, 24)]\n",
    "# 指定长度的字符串，原字符串右对齐，前面填充0\n",
    "print(text)"
   ]
  },
  {
   "cell_type": "code",
   "execution_count": null,
   "metadata": {},
   "outputs": [],
   "source": [
    "out_gif = '../geemap_data/Downloads/output3.gif'\n",
    "out_gif1 = '../geemap_data/Downloads/output4.gif'"
   ]
  },
  {
   "cell_type": "code",
   "execution_count": null,
   "metadata": {},
   "outputs": [],
   "source": [
    "geemap.add_text_to_gif(saved_gif, out_gif, xy=('3%', '5%'), text_sequence=text, font_size=30, font_color='#ffffff')"
   ]
  },
  {
   "cell_type": "code",
   "execution_count": null,
   "metadata": {},
   "outputs": [],
   "source": [
    "geemap.add_text_to_gif(out_gif, out_gif1, xy=('32%', '92%'), text_sequence='NOAA GFS Hourly Temperature', font_color='white')"
   ]
  },
  {
   "cell_type": "code",
   "execution_count": null,
   "metadata": {},
   "outputs": [],
   "source": [
    "geemap.show_image(out_gif)"
   ]
  },
  {
   "cell_type": "code",
   "execution_count": null,
   "metadata": {},
   "outputs": [],
   "source": [
    "geemap.show_image(out_gif1)"
   ]
  }
 ],
 "metadata": {
  "hide_input": false,
  "kernelspec": {
   "display_name": "Python 3",
   "language": "python",
   "name": "python3"
  },
  "language_info": {
   "codemirror_mode": {
    "name": "ipython",
    "version": 3
   },
   "file_extension": ".py",
   "mimetype": "text/x-python",
   "name": "python",
   "nbconvert_exporter": "python",
   "pygments_lexer": "ipython3",
   "version": "3.8.3"
  },
  "toc": {
   "base_numbering": 1,
   "nav_menu": {},
   "number_sections": true,
   "sideBar": true,
   "skip_h1_title": true,
   "title_cell": "Table of Contents",
   "title_sidebar": "Table of Contents",
   "toc_cell": false,
   "toc_position": {},
   "toc_section_display": true,
   "toc_window_display": true
  },
  "varInspector": {
   "cols": {
    "lenName": 16,
    "lenType": 16,
    "lenVar": 40
   },
   "kernels_config": {
    "python": {
     "delete_cmd_postfix": "",
     "delete_cmd_prefix": "del ",
     "library": "var_list.py",
     "varRefreshCmd": "print(var_dic_list())"
    },
    "r": {
     "delete_cmd_postfix": ") ",
     "delete_cmd_prefix": "rm(",
     "library": "var_list.r",
     "varRefreshCmd": "cat(var_dic_list()) "
    }
   },
   "types_to_exclude": [
    "module",
    "function",
    "builtin_function_or_method",
    "instance",
    "_Feature"
   ],
   "window_display": false
  }
 },
 "nbformat": 4,
 "nbformat_minor": 4
}
