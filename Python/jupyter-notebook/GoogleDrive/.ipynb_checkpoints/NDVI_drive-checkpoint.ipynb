{
 "cells": [
  {
   "cell_type": "code",
   "execution_count": null,
   "id": "27a0b9b4",
   "metadata": {},
   "outputs": [],
   "source": [
    "import geemap\n",
    "import ee\n",
    "\n",
    "Map = geemap.Map()"
   ]
  },
  {
   "cell_type": "code",
   "execution_count": null,
   "id": "dcf16713",
   "metadata": {},
   "outputs": [],
   "source": [
    "from pydrive2.auth import GoogleAuth\n",
    "from pydrive2.drive import GoogleDrive\n",
    "\n",
    "gauth = GoogleAuth()\n",
    "gauth.LocalWebserverAuth()\n",
    "drive = GoogleDrive(gauth)"
   ]
  },
  {
   "cell_type": "code",
   "execution_count": null,
   "id": "3f0d2b0e",
   "metadata": {},
   "outputs": [],
   "source": [
    "roi = geemap.geojson_to_ee(r'E:/Data/GIS/JX.json')\n",
    "modis = ee.ImageCollection(\"MODIS/006/MOD09Q1\").filterDate('2016', '2018')\\\n",
    "        .filter(ee.Filter.calendarRange(95, 367, 'day_of_year'))\n",
    "landsat8 = ee.ImageCollection('LANDSAT/LC08/C01/T1_8DAY_NDVI')\\\n",
    "            .filterDate('2016', '2018')\\\n",
    "            .filter(ee.Filter.calendarRange(95, 367, 'day_of_year'))\n",
    "modis_names = modis.aggregate_array('system:id').getInfo()\n",
    "landsat_names = landsat8.aggregate_array('system:id').getInfo()\n",
    "\n",
    "path = r'E:/Data/NDVI_JX/'"
   ]
  },
  {
   "cell_type": "code",
   "execution_count": null,
   "id": "c0c3346d",
   "metadata": {},
   "outputs": [],
   "source": [
    "import os\n",
    "\n",
    "def clip(img):\n",
    "    return img.clip(roi.geometry())\n",
    "def modis_NDVI(img):\n",
    "    img1 = img.clip(roi.geometry())\n",
    "    img2 = img1.normalizedDifference(['sur_refl_b02', 'sur_refl_b01'])\n",
    "    return img2\n",
    "def export_image(i):\n",
    "    modis_name = modis_names[i]\n",
    "    landsat_name = landsat_names[i]\n",
    "    modis_img = modis_NDVI(ee.Image(modis_name))\n",
    "    landsat_img = clip(ee.Image(landsat_name))\n",
    "    NDVI_img = landsat_img.unmask(modis_img)\n",
    "    f_name = 'NDVI_'+modis_name.split('/')[-1]\n",
    "    geemap.ee_export_image_to_drive(NDVI_img, description=f_name,\n",
    "                                    folder='Image', scale=30)\n",
    "#     return f_name+'.tif'\n",
    "def Downlocal(List):\n",
    "    global gauth\n",
    "    global drive\n",
    "    gauth = GoogleAuth()\n",
    "    gauth.LocalWebserverAuth()\n",
    "    drive = GoogleDrive(gauth)\n",
    "    os.system('taskkill /F /IM msedge.exe')\n",
    "    for f_list in List:\n",
    "        out_file = path + f_list['title']\n",
    "        f_list.GetContentFile(out_file)\n",
    "        print(out_file+'下载成功！！')\n",
    "        f_list.Delete()"
   ]
  },
  {
   "cell_type": "code",
   "execution_count": null,
   "id": "362ce030",
   "metadata": {},
   "outputs": [],
   "source": [
    "flag = False\n",
    "for i in range(25, len(modis_names)):\n",
    "    export_image(i)\n",
    "    if (i % 5 == 4) or (i == len(modis_names)-1):\n",
    "        file_list = []\n",
    "        print('正在检测.....')\n",
    "        while(len(file_list) < i%5+1):\n",
    "            file_list = drive.ListFile({'q':\"mimeType='image/tiff'\"}).GetList()\n",
    "        if flag:\n",
    "            print('开始下载.....')\n",
    "            Downlocal(file_list)\n",
    "        flag = True"
   ]
  },
  {
   "cell_type": "code",
   "execution_count": null,
   "id": "65e74817",
   "metadata": {
    "scrolled": true
   },
   "outputs": [],
   "source": [
    "import os\n",
    "path = r'E:/Data/NDVI_JX/'\n",
    "j = 30\n",
    "k = 34\n",
    "flag = True\n",
    "while(flag):\n",
    "    file_list = []\n",
    "    while(len(file_list) < k-j):\n",
    "        file_list = drive.ListFile({'q':\"mimeType='image/tiff'\"}).GetList()\n",
    "    j += 5\n",
    "    k += 5\n",
    "    if k>len(modis_names):\n",
    "        k = len(modis_names)\n",
    "    for i in range(j, k):\n",
    "        export_image(i)\n",
    "    drive = GoogleDrive(gauth)\n",
    "    os.system('taskkill /F /IM msedge.exe')\n",
    "    for file in file_list:\n",
    "        out_file = path + file['title']\n",
    "        file.GetContentFile(out_file)\n",
    "        print(out_file+'下载成功！！')\n",
    "        file.Delete()\n",
    "    if k > len(modis_names):\n",
    "        break"
   ]
  },
  {
   "cell_type": "code",
   "execution_count": null,
   "id": "eb0970e6",
   "metadata": {},
   "outputs": [],
   "source": [
    "file_list = drive.ListFile({'q':\"mimeType='image/tiff'\"}).GetList()\n",
    "Downlocal(file_list)"
   ]
  },
  {
   "cell_type": "code",
   "execution_count": null,
   "id": "58f667d5",
   "metadata": {},
   "outputs": [],
   "source": [
    "import winsound\n",
    "duration = 1000  # millisecond\n",
    "freq = 440  # Hz\n",
    "winsound.Beep(freq, duration)"
   ]
  },
  {
   "cell_type": "code",
   "execution_count": null,
   "id": "b2ca52f0",
   "metadata": {},
   "outputs": [],
   "source": [
    "modis_names[25]"
   ]
  }
 ],
 "metadata": {
  "kernelspec": {
   "display_name": "Python 3",
   "language": "python",
   "name": "python3"
  },
  "language_info": {
   "codemirror_mode": {
    "name": "ipython",
    "version": 3
   },
   "file_extension": ".py",
   "mimetype": "text/x-python",
   "name": "python",
   "nbconvert_exporter": "python",
   "pygments_lexer": "ipython3",
   "version": "3.8.8"
  }
 },
 "nbformat": 4,
 "nbformat_minor": 5
}
