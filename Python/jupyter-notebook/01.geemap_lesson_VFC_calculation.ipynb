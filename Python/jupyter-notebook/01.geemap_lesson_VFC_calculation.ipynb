{
 "cells": [
  {
   "cell_type": "markdown",
   "id": "1f4e6ed8",
   "metadata": {},
   "source": [
    "# Table of Contents\n",
    "1  Image概述\n",
    "2  Image operator(mask, clip, select, addBands, export)\n",
    "3  ImageCollection概述\n",
    "4  ImageCollection operator(filter, select, set/get, calculation, toList)\n",
    "5  Example 1. Calculate NDVI for Jiangxi and Extract NDWI for poyang Lake between 1982 to 2021;\n",
    "6  Example 2. Download huge ImageCollection from google earth engine; -> Download Images\n",
    "7  Example 3. Extract NDVI values of climate stations from 1982 to 2021; -> Spatial analysis\n",
    "8  Example 4. Supervised Classification -> Images Classification\n",
    "9  Example 5. Unsupervised Classification (clustering) "
   ]
  },
  {
   "cell_type": "code",
   "execution_count": 1,
   "id": "a6692d8e",
   "metadata": {},
   "outputs": [
    {
     "data": {
      "application/vnd.jupyter.widget-view+json": {
       "model_id": "5b91da6af7654a218e9d15227579460c",
       "version_major": 2,
       "version_minor": 0
      },
      "text/plain": [
       "Map(center=[39, 110], controls=(WidgetControl(options=['position', 'transparent_bg'], widget=HBox(children=(To…"
      ]
     },
     "metadata": {},
     "output_type": "display_data"
    }
   ],
   "source": [
    "import ee, os\n",
    "import geemap\n",
    "# ee.Initialize()\n",
    "Map = geemap.Map()\n",
    "Map = geemap.Map(center=(39, 110), zoom=4)\n",
    "Map"
   ]
  },
  {
   "cell_type": "raw",
   "id": "cb8ba329",
   "metadata": {},
   "source": [
    "# -------------------------------------------------------\n",
    "# 1  Array 概述\n",
    "# https://developers.google.com/earth-engine/guides/arrays_intro\n",
    "\n"
   ]
  },
  {
   "cell_type": "code",
   "execution_count": null,
   "id": "476b3973",
   "metadata": {},
   "outputs": [],
   "source": [
    "image = ee.Image('LANDSAT/LC08/C02/T1_TOA/LC08_044034_20140318').select(['B2', 'B3', 'B4', 'B5', 'B6', 'B7'])\n"
   ]
  },
  {
   "cell_type": "code",
   "execution_count": null,
   "id": "a5c93282",
   "metadata": {},
   "outputs": [],
   "source": [
    "# // Make an Array Image, with a 1-D Array per pixel.\n",
    "arrayImage1D = image.toArray()\n",
    "# arrayImage1D.shape"
   ]
  },
  {
   "cell_type": "code",
   "execution_count": null,
   "id": "c970656c",
   "metadata": {},
   "outputs": [],
   "source": [
    "# // Make an Array Image with a 2-D Array per pixel, 6x1.\n",
    "arrayImage2D = arrayImage1D.toArray(1)"
   ]
  },
  {
   "cell_type": "code",
   "execution_count": 2,
   "id": "37cae645",
   "metadata": {},
   "outputs": [],
   "source": [
    "# -------------------------------------------------------\n",
    "# 2  ImageCollection 去云\n",
    "#  Calculate NDVI for Jiangxi\n",
    "# -------------------------------------------------------\n",
    "year = 2010, 2010\n",
    "doy = '-01-01', '-12-31'\n",
    "\n",
    "start_date = str(year[0]) + doy[0]\n",
    "end_date = str(year[1]) + doy[1]\n",
    "\n",
    "jx_bound = ee.FeatureCollection('users/yehuigeo/jx_bound')"
   ]
  },
  {
   "cell_type": "code",
   "execution_count": 3,
   "id": "9427a146",
   "metadata": {
    "cell_style": "center"
   },
   "outputs": [],
   "source": [
    "def cloudMaskL457(image):\n",
    "    qaMask = image.select('QA_PIXEL').bitwiseAnd(int('11111', 2)).eq(0)\n",
    "    saturationMask = image.select('QA_RADSAT').eq(0)\n",
    "    opticalBands = image.select('SR_B.').multiply(0.0000275).add(-0.2)\n",
    "    thermalBand = image.select('ST_B6').multiply(0.00341802).add(149.0)\n",
    "\n",
    "    return image.addBands(opticalBands, None, True)\\\n",
    "                 .addBands(thermalBand, None, True)\\\n",
    "                 .updateMask(qaMask).updateMask(saturationMask)\\\n",
    "                 .copyProperties(image, [\"system:time_start\",'system:id'])\n",
    "\n",
    "def maskS2clouds(image):   # This function was used to mask the clouds for sentinel-2\n",
    "    qa = image.select('QA60')\n",
    "\n",
    "  # Bits 10 and 11 are clouds and cirrus, respectively.\n",
    "    cloudBitMask = 1 << 10\n",
    "    cirrusBitMask = 1 << 11\n",
    "\n",
    "  # Both flags should be set to zero, indicating clear conditions.\n",
    "    mask = qa.bitwiseAnd(cloudBitMask).eq(0).And(\n",
    "             qa.bitwiseAnd(cirrusBitMask).eq(0))\n",
    "\n",
    "  # Return the masked and scaled data, without the QA bands.\n",
    "    return image.updateMask(mask).divide(10000).select(\"B.*\").copyProperties(image, [\"system:time_start\",'system:id'])\n",
    "\n",
    "def maskL8sr(image):\n",
    "    qaMask = image.select('QA_PIXEL').bitwiseAnd(int('11111',2)).eq(0);\n",
    "    saturationMask = image.select('QA_RADSAT').eq(0);\n",
    "\n",
    "#   // Apply the scaling factors to the appropriate bands.\n",
    "    opticalBands = image.select('SR_B.').multiply(0.0000275).add(-0.2);\n",
    "    thermalBands = image.select('ST_B6').multiply(0.00341802).add(149.0);\n",
    "    \n",
    "    return image.addBands(opticalBands, None, True)\\\n",
    "                 .addBands(thermalBands, None, True)\\\n",
    "                 .updateMask(qaMask)\\\n",
    "                 .updateMask(saturationMask)\\\n",
    "                 .copyProperties(image, [\"system:time_start\",'system:id'])"
   ]
  },
  {
   "cell_type": "code",
   "execution_count": 4,
   "id": "044ff3ca",
   "metadata": {
    "scrolled": true
   },
   "outputs": [],
   "source": [
    "# Landsat 3 MSS Collection 1 Tier 1 Raw Scenes\n",
    "# Dataset Availability\n",
    "# 1978-03-05 - 1983-03-31\n",
    "# Landsat 5+7 scenes\n",
    "# Dataset Availability\n",
    "# 1984 - 2012\n",
    "# get landsat 5\n",
    "collection5 = ee.ImageCollection('LANDSAT/LT05/C02/T1_L2') \\\n",
    "    .filterBounds(jx_bound) \\\n",
    "    .filterDate(start_date, end_date) \\\n",
    "    .map(cloudMaskL457) \\\n",
    "    .select(['SR_B1', 'SR_B2', 'SR_B3', 'SR_B4', 'SR_B5', 'SR_B7'])\n",
    "# print('Landsat5')\n",
    "# print(collection5.size().getInfo())\n",
    "# Landsat 7 Collection 1 Tier 1 Raw Scenes\n",
    "# Dataset Availability\n",
    "# 1999 - 2021\n",
    "# get landsat 7\n",
    "# https://developers.google.com/earth-engine/datasets/catalog/landsat\n",
    "# https://www.usgs.gov/landsat-missions/landsat-collection-2\n",
    "collection7 = ee.ImageCollection('LANDSAT/LE07/C02/T1_L2') \\\n",
    "    .filterBounds(jx_bound) \\\n",
    "    .filterDate(start_date, end_date) \\\n",
    "    .map(cloudMaskL457) \\\n",
    "    .select(['SR_B1', 'SR_B2', 'SR_B3', 'SR_B4', 'SR_B5', 'SR_B7'])\n",
    "\n",
    "# print(collection7.size().getInfo())"
   ]
  },
  {
   "cell_type": "code",
   "execution_count": 5,
   "id": "d3eb5b60",
   "metadata": {
    "scrolled": true
   },
   "outputs": [],
   "source": [
    "# Landsat 8 Collection 1 Tier 1 Raw Scenes\n",
    "# Dataset Availability\n",
    "# 2013 - 2021\n",
    "# get landsat 8\n",
    "collection8 = ee.ImageCollection('LANDSAT/LC08/C01/T1_SR')\\\n",
    "    .filterBounds(jx_bound) \\\n",
    "    .filterDate(start_date, end_date) \\\n",
    "    .map(maskL8sr).select(['B2', 'B3', 'B4', 'B5', 'B6', 'B7', 'pixel_qa'],['B1', 'B2', 'B3', 'B4', 'B5', 'B7', 'pixel_qa']) \n",
    "# print(collection8.size().getInfo())\n",
    "# Sentinel-2 (S2) Multispectral Instrument (MSI) \n",
    "# Dataset Availability\n",
    "# Level-1C orthorectified top-of-atmosphere reflectance -> 2015-06-23 - present\n",
    "# Level-2A orthorectified atmospherically corrected surface reflectance.\n",
    "# get sentinel-2A\n",
    "sentinel2 = ee.ImageCollection(\"COPERNICUS/S2_SR\").filter(ee.Filter.lt('CLOUDY_PIXEL_PERCENTAGE',20))\\\n",
    "    .filterDate(start_date, end_date).map(maskS2clouds).filterBounds(jx_bound)\\\n",
    "    .select(['B2', 'B3', 'B4', 'B8', 'B11', 'B12'],['B1', 'B2', 'B3', 'B4', 'B5', 'B7']) \n",
    "# print(sentinel2.size().getInfo())"
   ]
  },
  {
   "cell_type": "code",
   "execution_count": 6,
   "id": "0cc269ae",
   "metadata": {},
   "outputs": [],
   "source": [
    "def vfc(img):\n",
    "    ndvi = img.normalizedDifference(['SR_B4','SR_B3']).rename('NDVI')\n",
    "    xmin = ee.Number(ndvi.reduceRegion(**{\n",
    "          'reducer': ee.Reducer.min(),\n",
    "          'geometry': img.geometry(),\n",
    "          'scale': 30,\n",
    "          'maxPixels': 1e13\n",
    "        }).get('NDVI'))\n",
    "    xmax = ee.Number(ndvi.reduceRegion(**{\n",
    "          'reducer': ee.Reducer.max(),\n",
    "          'geometry': img.geometry(),\n",
    "          'scale': 30,\n",
    "          'maxPixels': 1e13\n",
    "        }).get('NDVI'))\n",
    "                          \n",
    "    fv = ndvi.expression('(ndvi - xmin) / (xmax - xmin)',{\n",
    "            'ndvi': ndvi,\n",
    "            'xmin': xmin,\n",
    "            'xmax': xmax\n",
    "            }).rename('vfc')\n",
    "#     fv = ndvi.subtract(xmin).divide(xmax.subtract(xmin)).rename('vfc')\n",
    "    return img.addBands(fv)\n"
   ]
  },
  {
   "cell_type": "code",
   "execution_count": null,
   "id": "02b9b6f7",
   "metadata": {},
   "outputs": [],
   "source": [
    "xmin.getInfo()"
   ]
  },
  {
   "cell_type": "code",
   "execution_count": 10,
   "id": "5234c2ab",
   "metadata": {},
   "outputs": [],
   "source": [
    "# ndvi = collection7.first().normalizedDifference(['SR_B4','SR_B3']).rename('NDVI')\n",
    "xmin = ee.Number(ndvi1.reduceRegion(**{\n",
    "      'reducer': ee.Reducer.min(),\n",
    "      'geometry': roi,\n",
    "      'scale': 30,\n",
    "      'maxPixels': 1e13\n",
    "    }).get('NDVI'))\n",
    "xmax = ee.Number(ndvi1.reduceRegion(**{\n",
    "      'reducer': ee.Reducer.max(),\n",
    "      'geometry': roi,\n",
    "      'scale': 30,\n",
    "      'maxPixels': 1e13\n",
    "    }).get('NDVI'))"
   ]
  },
  {
   "cell_type": "code",
   "execution_count": 16,
   "id": "a8859b38",
   "metadata": {},
   "outputs": [],
   "source": [
    "temp = ee.List([xmin, xmax])"
   ]
  },
  {
   "cell_type": "code",
   "execution_count": 17,
   "id": "5d893a51",
   "metadata": {},
   "outputs": [
    {
     "ename": "AttributeError",
     "evalue": "'ApiFunction' object has no attribute 'name'",
     "output_type": "error",
     "traceback": [
      "\u001b[1;31m---------------------------------------------------------------------------\u001b[0m",
      "\u001b[1;31mAttributeError\u001b[0m                            Traceback (most recent call last)",
      "\u001b[1;32m~\\AppData\\Local\\Temp/ipykernel_1072/1936419926.py\u001b[0m in \u001b[0;36m<module>\u001b[1;34m\u001b[0m\n\u001b[1;32m----> 1\u001b[1;33m \u001b[0mtemp\u001b[0m\u001b[1;33m.\u001b[0m\u001b[0mfilter\u001b[0m\u001b[1;33m(\u001b[0m\u001b[0mee\u001b[0m\u001b[1;33m.\u001b[0m\u001b[0mFilter\u001b[0m\u001b[1;33m.\u001b[0m\u001b[0mnotNull\u001b[0m\u001b[1;33m(\u001b[0m\u001b[1;33m)\u001b[0m\u001b[1;33m)\u001b[0m\u001b[1;33m\u001b[0m\u001b[1;33m\u001b[0m\u001b[0m\n\u001b[0m",
      "\u001b[1;32me:\\study\\python\\python39\\lib\\site-packages\\ee\\apifunction.py\u001b[0m in \u001b[0;36m<lambda>\u001b[1;34m(*args, **kwargs)\u001b[0m\n\u001b[0;32m    203\u001b[0m         \u001b[1;32mdef\u001b[0m \u001b[0mMakeBoundFunction\u001b[0m\u001b[1;33m(\u001b[0m\u001b[0mfunc\u001b[0m\u001b[1;33m)\u001b[0m\u001b[1;33m:\u001b[0m\u001b[1;33m\u001b[0m\u001b[1;33m\u001b[0m\u001b[0m\n\u001b[0;32m    204\u001b[0m           \u001b[1;31m# We need the lambda to capture \"func\" from the enclosing scope.\u001b[0m\u001b[1;33m\u001b[0m\u001b[1;33m\u001b[0m\u001b[1;33m\u001b[0m\u001b[0m\n\u001b[1;32m--> 205\u001b[1;33m           \u001b[1;32mreturn\u001b[0m \u001b[1;32mlambda\u001b[0m \u001b[1;33m*\u001b[0m\u001b[0margs\u001b[0m\u001b[1;33m,\u001b[0m \u001b[1;33m**\u001b[0m\u001b[0mkwargs\u001b[0m\u001b[1;33m:\u001b[0m \u001b[0mfunc\u001b[0m\u001b[1;33m.\u001b[0m\u001b[0mcall\u001b[0m\u001b[1;33m(\u001b[0m\u001b[1;33m*\u001b[0m\u001b[0margs\u001b[0m\u001b[1;33m,\u001b[0m \u001b[1;33m**\u001b[0m\u001b[0mkwargs\u001b[0m\u001b[1;33m)\u001b[0m  \u001b[1;31m# pylint: disable=unnecessary-lambda\u001b[0m\u001b[1;33m\u001b[0m\u001b[1;33m\u001b[0m\u001b[0m\n\u001b[0m\u001b[0;32m    206\u001b[0m         \u001b[0mbound_function\u001b[0m \u001b[1;33m=\u001b[0m \u001b[0mMakeBoundFunction\u001b[0m\u001b[1;33m(\u001b[0m\u001b[0mapi_func\u001b[0m\u001b[1;33m)\u001b[0m\u001b[1;33m\u001b[0m\u001b[1;33m\u001b[0m\u001b[0m\n\u001b[0;32m    207\u001b[0m \u001b[1;33m\u001b[0m\u001b[0m\n",
      "\u001b[1;32me:\\study\\python\\python39\\lib\\site-packages\\ee\\function.py\u001b[0m in \u001b[0;36mcall\u001b[1;34m(self, *args, **kwargs)\u001b[0m\n\u001b[0;32m     65\u001b[0m       \u001b[0mto\u001b[0m \u001b[0mthat\u001b[0m \u001b[0mtype\u001b[0m\u001b[1;33m.\u001b[0m\u001b[1;33m\u001b[0m\u001b[1;33m\u001b[0m\u001b[0m\n\u001b[0;32m     66\u001b[0m     \"\"\"\n\u001b[1;32m---> 67\u001b[1;33m     \u001b[1;32mreturn\u001b[0m \u001b[0mself\u001b[0m\u001b[1;33m.\u001b[0m\u001b[0mapply\u001b[0m\u001b[1;33m(\u001b[0m\u001b[0mself\u001b[0m\u001b[1;33m.\u001b[0m\u001b[0mnameArgs\u001b[0m\u001b[1;33m(\u001b[0m\u001b[0margs\u001b[0m\u001b[1;33m,\u001b[0m \u001b[0mkwargs\u001b[0m\u001b[1;33m)\u001b[0m\u001b[1;33m)\u001b[0m\u001b[1;33m\u001b[0m\u001b[1;33m\u001b[0m\u001b[0m\n\u001b[0m\u001b[0;32m     68\u001b[0m \u001b[1;33m\u001b[0m\u001b[0m\n\u001b[0;32m     69\u001b[0m   \u001b[1;32mdef\u001b[0m \u001b[0mapply\u001b[0m\u001b[1;33m(\u001b[0m\u001b[0mself\u001b[0m\u001b[1;33m,\u001b[0m \u001b[0mnamed_args\u001b[0m\u001b[1;33m)\u001b[0m\u001b[1;33m:\u001b[0m\u001b[1;33m\u001b[0m\u001b[1;33m\u001b[0m\u001b[0m\n",
      "\u001b[1;32me:\\study\\python\\python39\\lib\\site-packages\\ee\\function.py\u001b[0m in \u001b[0;36mapply\u001b[1;34m(self, named_args)\u001b[0m\n\u001b[0;32m     78\u001b[0m       \u001b[0mto\u001b[0m \u001b[0mthat\u001b[0m \u001b[0mtype\u001b[0m\u001b[1;33m.\u001b[0m\u001b[1;33m\u001b[0m\u001b[1;33m\u001b[0m\u001b[0m\n\u001b[0;32m     79\u001b[0m     \"\"\"\n\u001b[1;32m---> 80\u001b[1;33m     \u001b[0mresult\u001b[0m \u001b[1;33m=\u001b[0m \u001b[0mcomputedobject\u001b[0m\u001b[1;33m.\u001b[0m\u001b[0mComputedObject\u001b[0m\u001b[1;33m(\u001b[0m\u001b[0mself\u001b[0m\u001b[1;33m,\u001b[0m \u001b[0mself\u001b[0m\u001b[1;33m.\u001b[0m\u001b[0mpromoteArgs\u001b[0m\u001b[1;33m(\u001b[0m\u001b[0mnamed_args\u001b[0m\u001b[1;33m)\u001b[0m\u001b[1;33m)\u001b[0m\u001b[1;33m\u001b[0m\u001b[1;33m\u001b[0m\u001b[0m\n\u001b[0m\u001b[0;32m     81\u001b[0m     \u001b[1;32mreturn\u001b[0m \u001b[0mFunction\u001b[0m\u001b[1;33m.\u001b[0m\u001b[0m_promoter\u001b[0m\u001b[1;33m(\u001b[0m\u001b[0mresult\u001b[0m\u001b[1;33m,\u001b[0m \u001b[0mself\u001b[0m\u001b[1;33m.\u001b[0m\u001b[0mgetReturnType\u001b[0m\u001b[1;33m(\u001b[0m\u001b[1;33m)\u001b[0m\u001b[1;33m)\u001b[0m\u001b[1;33m\u001b[0m\u001b[1;33m\u001b[0m\u001b[0m\n\u001b[0;32m     82\u001b[0m \u001b[1;33m\u001b[0m\u001b[0m\n",
      "\u001b[1;32me:\\study\\python\\python39\\lib\\site-packages\\ee\\function.py\u001b[0m in \u001b[0;36mpromoteArgs\u001b[1;34m(self, args)\u001b[0m\n\u001b[0;32m    109\u001b[0m         raise ee_exception.EEException(\n\u001b[0;32m    110\u001b[0m             \u001b[1;34m'Required argument (%s) missing to function: %s'\u001b[0m\u001b[1;33m\u001b[0m\u001b[1;33m\u001b[0m\u001b[0m\n\u001b[1;32m--> 111\u001b[1;33m             % (name, self.name))\n\u001b[0m\u001b[0;32m    112\u001b[0m       \u001b[0mknown\u001b[0m\u001b[1;33m.\u001b[0m\u001b[0madd\u001b[0m\u001b[1;33m(\u001b[0m\u001b[0mname\u001b[0m\u001b[1;33m)\u001b[0m\u001b[1;33m\u001b[0m\u001b[1;33m\u001b[0m\u001b[0m\n\u001b[0;32m    113\u001b[0m \u001b[1;33m\u001b[0m\u001b[0m\n",
      "\u001b[1;31mAttributeError\u001b[0m: 'ApiFunction' object has no attribute 'name'"
     ]
    }
   ],
   "source": [
    "temp.filter(ee.Filter.notNull())"
   ]
  },
  {
   "cell_type": "code",
   "execution_count": 9,
   "id": "2a15cf24",
   "metadata": {},
   "outputs": [],
   "source": [
    "roi = jx_bound.geometry()\n",
    "scale = 30\n",
    "img = collection5.first()\n",
    "ndvi1 = img.normalizedDifference(['SR_B4','SR_B3']).rename('NDVI')\n",
    "# col7_fv = collection7.map(vfc)"
   ]
  },
  {
   "cell_type": "code",
   "execution_count": null,
   "id": "6e58b710",
   "metadata": {},
   "outputs": [],
   "source": [
    "collection5.aggregate_array"
   ]
  },
  {
   "cell_type": "code",
   "execution_count": null,
   "id": "ac2cd351",
   "metadata": {},
   "outputs": [],
   "source": [
    "a = collection5.first().geometry()\n",
    "Map.addLayer(a, {}, 'a')"
   ]
  },
  {
   "cell_type": "code",
   "execution_count": null,
   "id": "123cc0fe",
   "metadata": {},
   "outputs": [],
   "source": [
    "col_fv = collection5.map(vfc)"
   ]
  },
  {
   "cell_type": "code",
   "execution_count": null,
   "id": "887daa0f",
   "metadata": {},
   "outputs": [],
   "source": [
    "palette = ['FFFFFF', 'CE7E45', 'DF923D', 'F1B555', 'FCD163', '99B718',\n",
    "               '74A901', '66A000', '529400', '3E8601', '207401', '056201',\n",
    "               '004C00', '023B01', '012E01', '011D01', '011301']\n",
    "Map.addLayer(col_fv.select('vfc').mean().clip(roi),{min: 0, max: 1,'palette': palette}, 'fv2')"
   ]
  },
  {
   "cell_type": "code",
   "execution_count": null,
   "id": "67e8e42e",
   "metadata": {
    "scrolled": true
   },
   "outputs": [],
   "source": [
    "# fv = vfc(collection7.first())\n",
    "# fv = ndvi.subtract(xmin).divide(xmax.subtract(xmin)).rename('vfc')\n",
    "fv1 = ndvi1.expression('(ndvi - xmin) / (xmax - xmin)',{\n",
    "            'ndvi': ndvi1,\n",
    "            'xmin': xmin,\n",
    "            'xmax': xmax\n",
    "            }).rename('vfc')\n",
    "palette = ['FFFFFF', 'CE7E45', 'DF923D', 'F1B555', 'FCD163', '99B718',\n",
    "               '74A901', '66A000', '529400', '3E8601', '207401', '056201',\n",
    "               '004C00', '023B01', '012E01', '011D01', '011301']\n",
    "Map.addLayer(fv1,{min: 0, max: 1,'palette': palette}, 'fv1')"
   ]
  },
  {
   "cell_type": "code",
   "execution_count": null,
   "id": "0e0aa332",
   "metadata": {},
   "outputs": [],
   "source": [
    "fv = ndvi1.subtract(xmin).divide(xmax.subtract(xmin)).rename('FV')\n",
    "palette = ['FFFFFF', 'CE7E45', 'DF923D', 'F1B555', 'FCD163', '99B718',\n",
    "               '74A901', '66A000', '529400', '3E8601', '207401', '056201',\n",
    "               '004C00', '023B01', '012E01', '011D01', '011301']\n",
    "Map.addLayer(fv.clip(roi),{min: 0, max: 1,'palette': palette}, 'fv')"
   ]
  },
  {
   "cell_type": "code",
   "execution_count": null,
   "id": "27dce719",
   "metadata": {},
   "outputs": [],
   "source": []
  },
  {
   "cell_type": "code",
   "execution_count": null,
   "id": "00389cde",
   "metadata": {},
   "outputs": [],
   "source": [
    "Map.addLayer(ndvi1,{min: 0, max: 1}, 'ndvi1')"
   ]
  },
  {
   "cell_type": "code",
   "execution_count": null,
   "id": "d029bf03",
   "metadata": {},
   "outputs": [],
   "source": [
    "palette = ['FFFFFF', 'CE7E45', 'DF923D', 'F1B555', 'FCD163', '99B718',\n",
    "               '74A901', '66A000', '529400', '3E8601', '207401', '056201',\n",
    "               '004C00', '023B01', '012E01', '011D01', '011301']\n",
    "roi = jx_bound.geometry()\n",
    "Map.addLayer(col7_fv.first().select('vfc').clip(roi),{min: 0, max: 1,'palette': palette}, 'VFC')"
   ]
  },
  {
   "cell_type": "code",
   "execution_count": null,
   "id": "75b66925",
   "metadata": {},
   "outputs": [],
   "source": [
    "xmin = ndvi.reduceRegion(**{\n",
    "  'reducer': ee.Reducer.mean(),\n",
    "  'geometry': roi,\n",
    "  'scale': 30,\n",
    "  'maxPixels': 1e13\n",
    "})"
   ]
  },
  {
   "cell_type": "code",
   "execution_count": null,
   "id": "74f5a6b1",
   "metadata": {},
   "outputs": [],
   "source": [
    "xmin.getInfo().get('NDVI')"
   ]
  },
  {
   "cell_type": "code",
   "execution_count": null,
   "id": "6213848a",
   "metadata": {},
   "outputs": [],
   "source": [
    "xmin.getInfo()"
   ]
  },
  {
   "cell_type": "code",
   "execution_count": null,
   "id": "a7ffaf93",
   "metadata": {},
   "outputs": [],
   "source": [
    "# Map.setCenter(29.50, 116,zoom=4)\n",
    "Map.addLayer(sentinel2.median().clip(jx_bound),{'bands': ['B4', 'B3', 'B2'], 'min': 0, 'max': 0.3},'ly2020')\n",
    "Map.addLayer(sentinel2.max().clip(jx_bound),{'bands': ['B4', 'B3', 'B2'], 'min': 0, 'max': 0.3},'ly2022')\n",
    "# Map.split_map(left_layer='ly2020', right_layer='ly2022')"
   ]
  },
  {
   "cell_type": "raw",
   "id": "657cc55e",
   "metadata": {},
   "source": [
    "# -------------------------------------------------------\n",
    "\t Image histogram\n",
    "https://gis.stackexchange.com/questions/346618/trying-to-make-a-histogram-with-ui-chart-image-histogram-in-gee\n",
    "# -------------------------------------------------------"
   ]
  },
  {
   "cell_type": "code",
   "execution_count": null,
   "id": "c077a55c",
   "metadata": {},
   "outputs": [],
   "source": [
    "# -------------------------------------------------------\n",
    "# 3  ImageCollection \n",
    "#  Calculate NDVI for Jiangxi\n",
    "# Bands math operator by image expression\n",
    "# https://code.earthengine.google.com/2dd2d4e898e633ea5c0c78066f74d1b7?accept_repo=users%2Fnclinton%2FEE101\n",
    "# -------------------------------------------------------\n",
    "# function for EVI,GCVI,NDVI,NDWI,LSWI\n",
    "def f_EVI(img):\n",
    "    EVI = img.expression(\n",
    "        '2.5 * ((NIR - RED) / (NIR + 6 * RED - 7.5 * BLUE + 1))', {\n",
    "          'NIR': img.select('B4'),\n",
    "          'RED': img.select('B3'),\n",
    "          'BLUE':img.select('B1')})\n",
    "    return EVI\n",
    "def f_GCVI(img):\n",
    "    GCVI = img.expression(\n",
    "        '(NIR / Green - 1)', {\n",
    "          'NIR': img.select('B4'),\n",
    "          'Green': img.select('B2')})\n",
    "    return GCVI\n",
    "def addVIs(img):\n",
    "    NDVI = img.normalizedDifference(['B4','B3']).rename('NDVI')\n",
    "    mNDWI = img.normalizedDifference(['B2','B5']).rename('mNDWI')\n",
    "    LSWI = img.normalizedDifference(['B5','B6']).rename('LSWI')\n",
    "    EVI = f_EVI(img)\n",
    "    GCVI = f_GCVI(img)\n",
    "    return img.addBands(NDVI).addBands(NDWI).addBands(LSWI).addBands(EVI).addBands(GCVI)"
   ]
  },
  {
   "cell_type": "code",
   "execution_count": null,
   "id": "fe6a2191",
   "metadata": {},
   "outputs": [],
   "source": [
    "sentinel2 = ee.ImageCollection(\"COPERNICUS/S2_SR\").filter(ee.Filter.lt('CLOUDY_PIXEL_PERCENTAGE',20))\\\n",
    "    .filterDate(start_date, end_date).map(maskS2clouds).filterBounds(jx_bound)\\\n",
    "    .select(['B2', 'B3', 'B4', 'B8', 'B11', 'B12'],['B1', 'B2', 'B3', 'B4', 'B5', 'B7']).map(addVIs) "
   ]
  },
  {
   "cell_type": "code",
   "execution_count": null,
   "id": "c4ec2268",
   "metadata": {},
   "outputs": [],
   "source": [
    "# https://code.earthengine.google.com/c41d27de2bf046ef2cccc75019816497?accept_repo=users%2Fnclinton%2FEE101\n",
    "# https://github.com/HuiYeAmazing/Study-notes/blob/master/python/jupyter/geemap/Image/03_Image%E5%8F%AF%E8%A7%86%E5%8C%96%E5%8F%82%E6%95%B0%E4%BA%86%E8%A7%A3.md\n",
    "# ---------------------------\n",
    "# CSS stands for colours\n",
    "# https://www.quackit.com/css/tutorial/css_introduction.cfm\n",
    "# https://www.quackit.com/css/color/charts/css_color_names_chart.cfm\n",
    "# -----------------------------\n",
    "ndvi = sentinel2.first().select('NDVI')\n",
    "palette = ['FFFFFF', 'CE7E45', 'DF923D', 'F1B555', 'FCD163', '99B718',\n",
    "               '74A901', '66A000', '529400', '3E8601', '207401', '056201',\n",
    "               '004C00', '023B01', '012E01', '011D01', '011301']\n",
    "Map.addLayer(ndvi, {min: 0, max: 1, palette: palette}, 'NDVI');"
   ]
  }
 ],
 "metadata": {
  "kernelspec": {
   "display_name": "Python 3 (ipykernel)",
   "language": "python",
   "name": "python3"
  },
  "language_info": {
   "codemirror_mode": {
    "name": "ipython",
    "version": 3
   },
   "file_extension": ".py",
   "mimetype": "text/x-python",
   "name": "python",
   "nbconvert_exporter": "python",
   "pygments_lexer": "ipython3",
   "version": "3.9.6"
  },
  "varInspector": {
   "cols": {
    "lenName": 16,
    "lenType": 16,
    "lenVar": 40
   },
   "kernels_config": {
    "python": {
     "delete_cmd_postfix": "",
     "delete_cmd_prefix": "del ",
     "library": "var_list.py",
     "varRefreshCmd": "print(var_dic_list())"
    },
    "r": {
     "delete_cmd_postfix": ") ",
     "delete_cmd_prefix": "rm(",
     "library": "var_list.r",
     "varRefreshCmd": "cat(var_dic_list()) "
    }
   },
   "position": {
    "height": "308.844px",
    "left": "1551.19px",
    "right": "20px",
    "top": "113px",
    "width": "350px"
   },
   "types_to_exclude": [
    "module",
    "function",
    "builtin_function_or_method",
    "instance",
    "_Feature"
   ],
   "window_display": true
  }
 },
 "nbformat": 4,
 "nbformat_minor": 5
}
