{
 "cells": [
  {
   "cell_type": "code",
   "execution_count": null,
   "id": "ce51da42-dae3-408c-a195-d9f104e5b3b4",
   "metadata": {
    "tags": []
   },
   "outputs": [],
   "source": [
    "import numpy as np\n",
    "import matplotlib\n",
    "import matplotlib.pyplot as plt\n",
    "import warnings"
   ]
  },
  {
   "cell_type": "code",
   "execution_count": null,
   "id": "dd69f7ae-3ee3-4fae-82bf-6b1ab5c2b097",
   "metadata": {
    "tags": []
   },
   "outputs": [],
   "source": [
    "# matplotlib参数设置\n",
    "matplotlib.rcParams['axes.labelsize'] = 14\n",
    "matplotlib.rcParams['xtick.labelsize'] = 12\n",
    "matplotlib.rcParams['ytick.labelsize'] = 12\n",
    "warnings.filterwarnings('ignore')\n",
    "# 设定了单例RandomState实例的种子\n",
    "np.random.seed(42)"
   ]
  },
  {
   "cell_type": "code",
   "execution_count": null,
   "id": "b5972cee-1909-42bb-a49e-e786a467da67",
   "metadata": {
    "tags": []
   },
   "outputs": [],
   "source": [
    "from sklearn.datasets import fetch_openml\n",
    "\n",
    "mnist = fetch_openml('mnist_784', parser='auto')\n",
    "X = mnist['data'].values\n",
    "y = mnist['target'].values.codes\n",
    "print(X.shape, y.shape)"
   ]
  },
  {
   "cell_type": "code",
   "execution_count": null,
   "id": "b28091a2-8af4-4a66-8280-c3dce6d43354",
   "metadata": {
    "tags": []
   },
   "outputs": [],
   "source": [
    "# 展示第一个样本\n",
    "x_0 = X[0, :].reshape(28, 28)\n",
    "plt.imshow(x_0, cmap=\"gray_r\")\n",
    "plt.axis('off')\n",
    "plt.show()"
   ]
  },
  {
   "cell_type": "code",
   "execution_count": null,
   "id": "d4ed0dcc-94cc-43ff-b11a-3db49d66d40c",
   "metadata": {
    "tags": []
   },
   "outputs": [],
   "source": [
    "from sklearn.model_selection import train_test_split\n",
    "\n",
    "X_train, X_test, y_train, y_test = train_test_split(X, y, test_size=0.2, random_state=42, stratify=y)"
   ]
  },
  {
   "cell_type": "code",
   "execution_count": null,
   "id": "a49ed684-fbf3-49f1-a90d-45776bbd706f",
   "metadata": {
    "tags": []
   },
   "outputs": [],
   "source": [
    "from sklearn.linear_model import LogisticRegression\n",
    "\n",
    "log_clf = LogisticRegression(max_iter=50, random_state=42)\n",
    "log_clf.fit(X_train, y_train)\n",
    "\n",
    "# 进行预测并展示\n",
    "m = 3500\n",
    "y_pred_0 = log_clf.predict([X_test[m]])\n",
    "print(\"预测的值：\", y_pred_0, \"实际的值：\", y_test[m])\n",
    "x_3500 = X_test[m].reshape(28, 28)\n",
    "plt.imshow(x_3500, cmap=\"gray_r\")\n",
    "plt.axis('off')\n",
    "plt.show()"
   ]
  },
  {
   "cell_type": "code",
   "execution_count": null,
   "id": "b00199d6-2082-4076-8b82-36893b162d8e",
   "metadata": {
    "tags": []
   },
   "outputs": [],
   "source": [
    "# 用sklearn自带的交叉验证函数\n",
    "from sklearn.model_selection import cross_val_score\n",
    "\n",
    "cross_score = cross_val_score(log_clf, X_train, y_train, cv=5, scoring='accuracy')\n",
    "print(cross_score)"
   ]
  },
  {
   "cell_type": "code",
   "execution_count": null,
   "id": "a5f03f03-fc26-4d30-9719-df4844c29794",
   "metadata": {
    "tags": []
   },
   "outputs": [],
   "source": [
    "from sklearn.model_selection import StratifiedKFold\n",
    "from sklearn.base import clone\n",
    "\n",
    "# 手动分块进行交叉验证\n",
    "sk_folds = StratifiedKFold(n_splits=5, shuffle=True, random_state=42)\n",
    "for train_index, val_index in sk_folds.split(X_train, y_train):\n",
    "    clone_clf = clone(log_clf)\n",
    "    X_train_folds = X_train[train_index]\n",
    "    y_train_folds = y_train[train_index]\n",
    "    X_val_folds = X_train[val_index]\n",
    "    y_val_folds = y_train[val_index]\n",
    "\n",
    "    clone_clf.fit(X_train_folds, y_train_folds)\n",
    "    y_pred = clone_clf.predict(X_val_folds)\n",
    "    n_correct = sum(y_pred == y_val_folds)\n",
    "    print(n_correct/len(y_pred))"
   ]
  },
  {
   "cell_type": "code",
   "execution_count": null,
   "id": "eb3f2992-753f-4c45-85cc-16fc9fb78527",
   "metadata": {
    "tags": []
   },
   "outputs": [],
   "source": [
    "# 混淆矩阵\n",
    "from sklearn.model_selection import cross_val_predict\n",
    "\n",
    "labels = [0, 1, 2, 3, 4, 5, 6, 7, 8, 9]\n",
    "y_test_pred = cross_val_predict(log_clf, X_test, y_test, cv=5)\n",
    "from sklearn.metrics import confusion_matrix\n",
    "y_confusion_matrix = confusion_matrix(y_test, y_test_pred, labels=labels)\n",
    "print(y_confusion_matrix)"
   ]
  },
  {
   "cell_type": "code",
   "execution_count": null,
   "id": "d6e970dc-882f-439e-a605-1afd770b36be",
   "metadata": {
    "tags": []
   },
   "outputs": [],
   "source": [
    "# 评估指标计算\n",
    "TP = y_confusion_matrix.diagonal()\n",
    "TN = TP.sum() - TP\n",
    "FP = y_confusion_matrix.sum(axis=0) - TP\n",
    "FN = y_confusion_matrix.sum(axis=1) - TP\n",
    "\n",
    "# 准确率\n",
    "Acc = TP.sum() / y_confusion_matrix.sum()\n",
    "print(\"Accuracy:\", Acc)\n",
    "\n",
    "import pandas as pd\n",
    "# 精确率\n",
    "Ppv = TP / (TP + FP)\n",
    "# 召回率\n",
    "Tpr = TP / (TP + FN)\n",
    "# 特异度\n",
    "Tnr = TN / (TN + FP)\n",
    "# F1 得分\n",
    "F1 = TP / (TP + (FN + FP) / 2)\n",
    "df = pd.DataFrame({'Precision': Ppv, 'Recall': Tpr, 'Specificity': Tnr, 'F1 score': F1}, index=labels)\n",
    "print(df)"
   ]
  },
  {
   "cell_type": "code",
   "execution_count": null,
   "id": "8fb43fda-276b-46b3-92e9-0ca998a4cfea",
   "metadata": {
    "tags": []
   },
   "outputs": [],
   "source": [
    "y_pred_scores_0 = log_clf.decision_function([X_test[m]])\n",
    "print(y_pred_scores_0)"
   ]
  },
  {
   "cell_type": "code",
   "execution_count": null,
   "id": "4d93c155-3944-4d71-817d-ff4ccf0562ca",
   "metadata": {
    "tags": []
   },
   "outputs": [],
   "source": [
    "y_train_scores = cross_val_predict(log_clf, X_train, y_train, cv=5, \n",
    "                                    method=\"decision_function\")"
   ]
  },
  {
   "cell_type": "code",
   "execution_count": null,
   "id": "c49416c9-d46d-49ec-b08c-e3633e736f24",
   "metadata": {
    "tags": []
   },
   "outputs": [],
   "source": [
    "from sklearn.preprocessing import label_binarize\n",
    "\n",
    "y_train_one_hot = label_binarize(y_train, classes=labels)\n",
    "print(y_train[0], \"--->\", y_train_one_hot[0])"
   ]
  },
  {
   "cell_type": "code",
   "execution_count": null,
   "id": "89cfb34c-a847-4bbb-b333-ad73be8a053b",
   "metadata": {
    "tags": []
   },
   "outputs": [],
   "source": [
    "from sklearn.metrics import precision_recall_curve\n",
    "\n",
    "precisions, recalls, thresholds = precision_recall_curve(y_train_one_hot.ravel(), y_train_scores.ravel())"
   ]
  },
  {
   "cell_type": "code",
   "execution_count": null,
   "id": "6cb81a24-3dde-4ce3-9440-277cae1d5e88",
   "metadata": {
    "tags": []
   },
   "outputs": [],
   "source": [
    "def plot_precision_recall_vs_threshold(precisions, recalls, thresholds):\n",
    "    plt.plot(thresholds, precisions[:-1], 'b--', label=\"Precision\")\n",
    "    plt.plot(thresholds, recalls[:-1], 'g-', label=\"Recall\")\n",
    "    plt.xlabel(\"Threshold\", fontsize=16)\n",
    "    plt.legend(loc=\"upper left\", fontsize=16)\n",
    "    plt.ylim([0, 1])\n",
    "\n",
    "plt.figure(figsize=(8, 4))\n",
    "plot_precision_recall_vs_threshold(precisions, recalls, thresholds)\n",
    "plt.xlim([-30, 30])\n",
    "plt.show()"
   ]
  },
  {
   "cell_type": "code",
   "execution_count": null,
   "id": "89bb792e-9426-4766-a559-bcdb76b634b1",
   "metadata": {},
   "outputs": [],
   "source": [
    "def plot_precision_vs_recall(precisions, recalls):\n",
    "    plt.plot(recalls, precisions, 'b-', linewidth=2)\n",
    "    plt.xlabel(\"Recall\", fontsize=16)\n",
    "    plt.ylabel(\"Precision\", fontsize=16)\n",
    "    plt.axis([0, 1, 0, 1])\n",
    "\n",
    "plt.figure(figsize=(8, 6))\n",
    "plot_precision_vs_recall(precisions, recalls)\n",
    "plt.show()"
   ]
  },
  {
   "cell_type": "code",
   "execution_count": null,
   "id": "2ae556d4-0949-4332-ae13-070d8f027ba7",
   "metadata": {
    "tags": []
   },
   "outputs": [],
   "source": [
    "from sklearn.metrics import roc_curve\n",
    "\n",
    "fpr, tpr, thresholds = roc_curve(y_train_one_hot.ravel(), y_train_scores.ravel())"
   ]
  },
  {
   "cell_type": "code",
   "execution_count": null,
   "id": "d8b2a9d2-21d8-4064-ad73-c2ed22a921c9",
   "metadata": {
    "tags": []
   },
   "outputs": [],
   "source": [
    "def plot_roc_curve(fpr, tpr, label=None):\n",
    "    plt.plot(fpr, tpr, linewidth=2, label=label)\n",
    "    plt.plot([0, 1], [0, 1], 'k--')\n",
    "    plt.axis([0, 1, 0, 1])\n",
    "    plt.xlabel(\"False Positive Rate\", fontsize=16)\n",
    "    plt.ylabel(\"True Positive Rate\", fontsize=16)\n",
    "    \n",
    "plt.figure(figsize=(8, 6))\n",
    "plot_roc_curve(fpr, tpr)\n",
    "plt.show()"
   ]
  },
  {
   "cell_type": "code",
   "execution_count": null,
   "id": "ab4b511a-f1bd-4fc0-89fc-751c8b15fe15",
   "metadata": {
    "tags": []
   },
   "outputs": [],
   "source": [
    "from sklearn.metrics import roc_auc_score\n",
    "\n",
    "Roc_auc = roc_auc_score(y_train_one_hot.ravel(), y_train_scores.ravel())\n",
    "print(\"ROC AUC:\", Roc_auc)"
   ]
  },
  {
   "cell_type": "code",
   "execution_count": null,
   "id": "2d0ed0ae-e556-4225-95f6-bcf29a09beab",
   "metadata": {},
   "outputs": [],
   "source": []
  }
 ],
 "metadata": {
  "kernelspec": {
   "display_name": "Python 3 (ipykernel)",
   "language": "python",
   "name": "python3"
  },
  "language_info": {
   "codemirror_mode": {
    "name": "ipython",
    "version": 3
   },
   "file_extension": ".py",
   "mimetype": "text/x-python",
   "name": "python",
   "nbconvert_exporter": "python",
   "pygments_lexer": "ipython3",
   "version": "3.10.10"
  }
 },
 "nbformat": 4,
 "nbformat_minor": 5
}
