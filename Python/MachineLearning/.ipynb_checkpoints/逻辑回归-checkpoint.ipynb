{
 "cells": [
  {
   "cell_type": "code",
   "execution_count": 1,
   "id": "4c528f35-399e-420f-8e71-7c8f90b934fb",
   "metadata": {
    "execution": {
     "iopub.execute_input": "2024-04-28T10:52:15.686116Z",
     "iopub.status.busy": "2024-04-28T10:52:15.685117Z",
     "iopub.status.idle": "2024-04-28T10:52:16.072020Z",
     "shell.execute_reply": "2024-04-28T10:52:16.072020Z",
     "shell.execute_reply.started": "2024-04-28T10:52:15.686116Z"
    }
   },
   "outputs": [],
   "source": [
    "import numpy as np\n",
    "import matplotlib\n",
    "import matplotlib.pyplot as plt\n",
    "import warnings"
   ]
  },
  {
   "cell_type": "code",
   "execution_count": 2,
   "id": "9abdc73e-d800-4a5f-b930-6a3218008ca2",
   "metadata": {
    "execution": {
     "iopub.execute_input": "2024-04-28T10:52:16.072934Z",
     "iopub.status.busy": "2024-04-28T10:52:16.072934Z",
     "iopub.status.idle": "2024-04-28T10:52:16.087133Z",
     "shell.execute_reply": "2024-04-28T10:52:16.087133Z",
     "shell.execute_reply.started": "2024-04-28T10:52:16.072934Z"
    },
    "tags": []
   },
   "outputs": [],
   "source": [
    "# matplotlib参数设置\n",
    "matplotlib.rcParams['axes.labelsize'] = 14\n",
    "matplotlib.rcParams['xtick.labelsize'] = 12\n",
    "matplotlib.rcParams['ytick.labelsize'] = 12\n",
    "warnings.filterwarnings('ignore')"
   ]
  },
  {
   "cell_type": "code",
   "execution_count": null,
   "id": "b67de378-57e3-47fb-ad45-0f67f55bc332",
   "metadata": {},
   "outputs": [],
   "source": [
    "def sigmoid(x):\n",
    "\n",
    "    return 1 / (1 + np.exp(-x))"
   ]
  },
  {
   "cell_type": "code",
   "execution_count": null,
   "id": "8f4f9462-d152-48b1-8335-83883674bbb3",
   "metadata": {},
   "outputs": [],
   "source": [
    "x = np.linspace(-10, 10, 1000)\n",
    "y = sigmoid(x)\n",
    "\n",
    "fig = plt.figure(figsize=(8, 6))\n",
    "plt.plot(x, y, '-', color=\"dodgerblue\")\n",
    "plt.plot([0, 0], [1, 0], 'k--')\n",
    "plt.plot([-10, 10], [0.5, 0.5], 'r--')\n",
    "plt.xlabel('X')\n",
    "plt.ylabel('y')\n",
    "plt.show()"
   ]
  },
  {
   "cell_type": "markdown",
   "id": "60c3f436-81a4-4588-9abe-095a055d9041",
   "metadata": {},
   "source": [
    "### <font face=楷体>二分类问题</font>"
   ]
  },
  {
   "cell_type": "code",
   "execution_count": 3,
   "id": "cbacb887-6c49-4f1a-9752-f4ec4822b2a8",
   "metadata": {
    "execution": {
     "iopub.execute_input": "2024-04-28T10:52:18.001683Z",
     "iopub.status.busy": "2024-04-28T10:52:18.000684Z",
     "iopub.status.idle": "2024-04-28T10:52:18.381322Z",
     "shell.execute_reply": "2024-04-28T10:52:18.381322Z",
     "shell.execute_reply.started": "2024-04-28T10:52:18.001683Z"
    },
    "tags": []
   },
   "outputs": [
    {
     "name": "stdout",
     "output_type": "stream",
     "text": [
      "dict_keys(['data', 'target', 'frame', 'target_names', 'DESCR', 'feature_names', 'filename', 'data_module'])\n"
     ]
    }
   ],
   "source": [
    "from sklearn import datasets\n",
    "\n",
    "# 威斯康辛州记录的569个病人的乳腺癌恶性/良性（1/0）类别型数据\n",
    "data = datasets.load_breast_cancer()\n",
    "print(data.keys())"
   ]
  },
  {
   "cell_type": "code",
   "execution_count": 4,
   "id": "b90c4a0e-1f45-4231-8b2c-daef602928f8",
   "metadata": {
    "execution": {
     "iopub.execute_input": "2024-04-28T10:52:18.397852Z",
     "iopub.status.busy": "2024-04-28T10:52:18.396348Z",
     "iopub.status.idle": "2024-04-28T10:52:18.412452Z",
     "shell.execute_reply": "2024-04-28T10:52:18.412452Z",
     "shell.execute_reply.started": "2024-04-28T10:52:18.397852Z"
    },
    "tags": []
   },
   "outputs": [],
   "source": [
    "X = data['data']\n",
    "y = data['target']"
   ]
  },
  {
   "cell_type": "code",
   "execution_count": 5,
   "id": "19e7b8aa-5c89-4886-bcc6-8c111a778305",
   "metadata": {
    "execution": {
     "iopub.execute_input": "2024-04-28T10:52:21.311540Z",
     "iopub.status.busy": "2024-04-28T10:52:21.311021Z",
     "iopub.status.idle": "2024-04-28T10:52:21.351925Z",
     "shell.execute_reply": "2024-04-28T10:52:21.350907Z",
     "shell.execute_reply.started": "2024-04-28T10:52:21.311540Z"
    },
    "tags": []
   },
   "outputs": [],
   "source": [
    "from sklearn.model_selection import train_test_split\n",
    "\n",
    "X_train, X_test, y_train, y_test = train_test_split(X, y, test_size=0.2, random_state=42, stratify=y)"
   ]
  },
  {
   "cell_type": "code",
   "execution_count": 13,
   "id": "667eedd5-834c-4643-910f-14e76b755577",
   "metadata": {
    "execution": {
     "iopub.execute_input": "2024-04-28T10:52:53.580241Z",
     "iopub.status.busy": "2024-04-28T10:52:53.580241Z",
     "iopub.status.idle": "2024-04-28T10:52:53.629647Z",
     "shell.execute_reply": "2024-04-28T10:52:53.628526Z",
     "shell.execute_reply.started": "2024-04-28T10:52:53.580241Z"
    }
   },
   "outputs": [
    {
     "name": "stdout",
     "output_type": "stream",
     "text": [
      "Accuracy: 0.9824561403508771\n"
     ]
    }
   ],
   "source": [
    "from LogisticRegression.logistic_regression import LogisticRegression as Logistic\n",
    "max_iter = 17\n",
    "polynomial_degree=0\n",
    "sinusoid_degree=0\n",
    "\n",
    "log_reg = Logistic(X_train, y_train.reshape(-1, 1), polynomial_degree, sinusoid_degree, solver=\"dfp\")\n",
    "for i in rang(max_iter):\n",
    "    theta, cost_historys = log_reg.train(1)\n",
    "    \n",
    "    y_pred = log_reg.predict(X_test)\n",
    "    accuracy = np.sum(y_pred.reshape(1, -1) == y_test) / y_pred.shape[0]\n",
    "    print(\"Accuracy:\", accuracy)"
   ]
  },
  {
   "cell_type": "code",
   "execution_count": 7,
   "id": "1fb30acf-b03b-474c-9f86-15ef007ea90f",
   "metadata": {
    "execution": {
     "iopub.execute_input": "2024-04-28T10:52:23.937848Z",
     "iopub.status.busy": "2024-04-28T10:52:23.936841Z",
     "iopub.status.idle": "2024-04-28T10:52:23.954702Z",
     "shell.execute_reply": "2024-04-28T10:52:23.953702Z",
     "shell.execute_reply.started": "2024-04-28T10:52:23.937848Z"
    }
   },
   "outputs": [
    {
     "data": {
      "text/plain": [
       "[[0.16777106168587466,\n",
       "  0.1315234839766133,\n",
       "  0.09522633332168098,\n",
       "  0.09105832403075109,\n",
       "  0.07192816017915823,\n",
       "  0.06505058135110245,\n",
       "  0.0606177726104593,\n",
       "  0.05868844096089547,\n",
       "  0.057789778414264706,\n",
       "  0.05732360963121197,\n",
       "  0.0569804419223816,\n",
       "  0.05668735670313267,\n",
       "  0.056423877649185064,\n",
       "  0.056179134472298844,\n",
       "  0.05594853241363091,\n",
       "  0.05573051648341157,\n",
       "  0.05552575755933892,\n",
       "  0.055334845401259415,\n",
       "  0.0551578609282482,\n",
       "  0.054993882546800765],\n",
       " [0.16777106168587455,\n",
       "  0.1315234839766133,\n",
       "  0.09522633332168098,\n",
       "  0.09105832403075109,\n",
       "  0.07192816017915821,\n",
       "  0.06505058135110244,\n",
       "  0.06061777261045932,\n",
       "  0.0586884409608955,\n",
       "  0.05778977841426438,\n",
       "  0.05732360963121144,\n",
       "  0.05698044192238157,\n",
       "  0.05668735670313226,\n",
       "  0.05642387764918418,\n",
       "  0.056179134472299115,\n",
       "  0.05594853241362987,\n",
       "  0.05573051648341057,\n",
       "  0.05552575755933789,\n",
       "  0.05533484540125843,\n",
       "  0.05515786092824964,\n",
       "  0.05499388254680167]]"
      ]
     },
     "execution_count": 7,
     "metadata": {},
     "output_type": "execute_result"
    }
   ],
   "source": [
    "cost_historys"
   ]
  },
  {
   "cell_type": "code",
   "execution_count": null,
   "id": "6bc4bc42-5386-45d5-97a9-a8e2b4f7792a",
   "metadata": {
    "tags": []
   },
   "outputs": [],
   "source": [
    "from sklearn.linear_model import LogisticRegression\n",
    "\n",
    "log_sigmoid = LogisticRegression(max_iter=10, solver=\"newton-cg\")\n",
    "log_sigmoid.fit(X_train, y_train)\n",
    "\n",
    "y_pred = log_sigmoid.predict(X_test)\n",
    "accuracy = np.sum(y_pred == y_test) / y_pred.shape[0]\n",
    "print(\"Accuracy:\", accuracy)"
   ]
  },
  {
   "cell_type": "code",
   "execution_count": null,
   "id": "d1199a53-b9d2-457a-a4ea-e8eb854ec498",
   "metadata": {
    "editable": true,
    "slideshow": {
     "slide_type": ""
    },
    "tags": []
   },
   "outputs": [],
   "source": [
    "y_decision = log_sigmoid.decision_function(X_test)\n",
    "y_proba = log_sigmoid.predict_proba(X_test)"
   ]
  },
  {
   "cell_type": "code",
   "execution_count": null,
   "id": "778c27b2-7d04-48e9-b7bb-0a75f3b627b4",
   "metadata": {},
   "outputs": [],
   "source": [
    "def softmax(x):\n",
    "    \"\"\" softmax function \"\"\"\n",
    "    \n",
    "    x_1 = x - np.max(x, axis = 1, keepdims = True) #为了稳定地计算softmax概率， 一般会减掉最大的那个元素\n",
    "    \n",
    "    return np.exp(x_1) / np.sum(np.exp(x_1), axis = 1, keepdims = True)"
   ]
  },
  {
   "cell_type": "code",
   "execution_count": null,
   "id": "a6b246d2-40a9-495a-a501-619be8538dec",
   "metadata": {},
   "outputs": [],
   "source": [
    "y_decision - np.max(y_decision, axis = 1, keepdims = True)"
   ]
  },
  {
   "cell_type": "code",
   "execution_count": null,
   "id": "ff4dfbe5-4598-4283-99e8-0b6d5361fae7",
   "metadata": {},
   "outputs": [],
   "source": [
    "np.max(y_decision, axis = 1, keepdims = True)"
   ]
  },
  {
   "cell_type": "code",
   "execution_count": null,
   "id": "57f1b413-cbbb-4f81-93cd-a11ac7423633",
   "metadata": {},
   "outputs": [],
   "source": []
  },
  {
   "cell_type": "code",
   "execution_count": null,
   "id": "0daf439d-687a-4d84-879f-d163da1b8379",
   "metadata": {},
   "outputs": [],
   "source": []
  }
 ],
 "metadata": {
  "kernelspec": {
   "display_name": "Python 3 (ipykernel)",
   "language": "python",
   "name": "python3"
  },
  "language_info": {
   "codemirror_mode": {
    "name": "ipython",
    "version": 3
   },
   "file_extension": ".py",
   "mimetype": "text/x-python",
   "name": "python",
   "nbconvert_exporter": "python",
   "pygments_lexer": "ipython3",
   "version": "3.10.10"
  }
 },
 "nbformat": 4,
 "nbformat_minor": 5
}
