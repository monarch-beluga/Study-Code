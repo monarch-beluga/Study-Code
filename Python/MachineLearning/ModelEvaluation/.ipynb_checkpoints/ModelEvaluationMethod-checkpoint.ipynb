{
 "cells": [
  {
   "cell_type": "code",
   "execution_count": 1,
   "id": "ce51da42-dae3-408c-a195-d9f104e5b3b4",
   "metadata": {
    "tags": []
   },
   "outputs": [],
   "source": [
    "import numpy as np\n",
    "import matplotlib\n",
    "import matplotlib.pyplot as plt\n",
    "import warnings"
   ]
  },
  {
   "cell_type": "code",
   "execution_count": 2,
   "id": "dd69f7ae-3ee3-4fae-82bf-6b1ab5c2b097",
   "metadata": {
    "tags": []
   },
   "outputs": [],
   "source": [
    "# matplotlib参数设置\n",
    "matplotlib.rcParams['axes.labelsize'] = 14\n",
    "matplotlib.rcParams['xtick.labelsize'] = 12\n",
    "matplotlib.rcParams['ytick.labelsize'] = 12\n",
    "warnings.filterwarnings('ignore')\n",
    "# 设定了单例RandomState实例的种子\n",
    "np.random.seed(42)"
   ]
  },
  {
   "cell_type": "code",
   "execution_count": 3,
   "id": "b5972cee-1909-42bb-a49e-e786a467da67",
   "metadata": {
    "tags": []
   },
   "outputs": [
    {
     "name": "stdout",
     "output_type": "stream",
     "text": [
      "(70000, 784) (70000,)\n"
     ]
    }
   ],
   "source": [
    "from sklearn.datasets import fetch_openml\n",
    "\n",
    "mnist = fetch_openml('mnist_784', parser='auto')\n",
    "X = mnist['data'].values\n",
    "y = mnist['target'].values.codes\n",
    "print(X.shape, y.shape)"
   ]
  },
  {
   "cell_type": "code",
   "execution_count": 4,
   "id": "b28091a2-8af4-4a66-8280-c3dce6d43354",
   "metadata": {
    "tags": []
   },
   "outputs": [
    {
     "data": {
      "image/png": "[encoded data removed]",
      "text/plain": [
       "<Figure size 640x480 with 1 Axes>"
      ]
     },
     "metadata": {},
     "output_type": "display_data"
    }
   ],
   "source": [
    "# 展示第一个样本\n",
    "x_0 = X[0, :].reshape(28, 28)\n",
    "plt.imshow(x_0, cmap=\"gray_r\")\n",
    "plt.axis('off')\n",
    "plt.show()"
   ]
  },
  {
   "cell_type": "code",
   "execution_count": 5,
   "id": "7dd8a130-f856-49b1-b398-6186d07d442e",
   "metadata": {
    "tags": []
   },
   "outputs": [],
   "source": [
    "X_train = X[:60000]\n",
    "X_test = X[60000:]\n",
    "y_train = y[:60000]\n",
    "y_test = y[60000:]"
   ]
  },
  {
   "cell_type": "code",
   "execution_count": 6,
   "id": "f12f5b3c-0b08-4953-b18c-66becd04d970",
   "metadata": {
    "tags": []
   },
   "outputs": [],
   "source": [
    "# 数据洗牌\n",
    "# permutation随机排列序列\n",
    "shuffle_index = np.random.permutation(60000)\n",
    "X_train = X_train[shuffle_index]\n",
    "y_train = y_train[shuffle_index]"
   ]
  },
  {
   "cell_type": "code",
   "execution_count": 7,
   "id": "a49ed684-fbf3-49f1-a90d-45776bbd706f",
   "metadata": {
    "tags": []
   },
   "outputs": [
    {
     "name": "stdout",
     "output_type": "stream",
     "text": [
      "预测的值： [4] 实际的值： 4\n"
     ]
    },
    {
     "data": {
      "image/png": "[encoded data removed]",
      "text/plain": [
       "<Figure size 640x480 with 1 Axes>"
      ]
     },
     "metadata": {},
     "output_type": "display_data"
    }
   ],
   "source": [
    "from sklearn.linear_model import SGDClassifier\n",
    "\n",
    "sgd_clf = SGDClassifier(max_iter=5, random_state=42)\n",
    "sgd_clf.fit(X_train, y_train)\n",
    "\n",
    "# 进行预测并展示\n",
    "y_pred_0 = sgd_clf.predict([X_test[3500]])\n",
    "print(\"预测的值：\", y_pred_0, \"实际的值：\", y_test[3500])\n",
    "x_3500 = X_test[3500].reshape(28, 28)\n",
    "plt.imshow(x_3500, cmap=\"gray_r\")\n",
    "plt.axis('off')\n",
    "plt.show()"
   ]
  },
  {
   "cell_type": "code",
   "execution_count": 8,
   "id": "b00199d6-2082-4076-8b82-36893b162d8e",
   "metadata": {
    "tags": []
   },
   "outputs": [
    {
     "name": "stdout",
     "output_type": "stream",
     "text": [
      "[0.85408333 0.869      0.8705     0.87508333 0.86325   ]\n"
     ]
    }
   ],
   "source": [
    "# 用sklearn自带的交叉验证函数\n",
    "from sklearn.model_selection import cross_val_score\n",
    "\n",
    "cross_score = cross_val_score(sgd_clf, X_train, y_train, cv=5, scoring='accuracy')\n",
    "print(cross_score)"
   ]
  },
  {
   "cell_type": "code",
   "execution_count": null,
   "id": "a5f03f03-fc26-4d30-9719-df4844c29794",
   "metadata": {
    "tags": []
   },
   "outputs": [],
   "source": [
    "from sklearn.model_selection import StratifiedKFold\n",
    "from sklearn.base import clone\n",
    "\n",
    "# 手动分块进行交叉验证\n",
    "sk_folds = StratifiedKFold(n_splits=5, shuffle=True, random_state=42)\n",
    "for train_index, val_index in sk_folds.split(X_train, y_train):\n",
    "    clone_clf = clone(sgd_clf)\n",
    "    X_train_folds = X_train[train_index]\n",
    "    y_train_folds = y_train[train_index]\n",
    "    X_val_folds = X_train[val_index]\n",
    "    y_val_folds = y_train[val_index]\n",
    "\n",
    "    clone_clf.fit(X_train_folds, y_train_folds)\n",
    "    y_pred = clone_clf.predict(X_val_folds)\n",
    "    n_correct = sum(y_pred == y_val_folds)\n",
    "    print(n_correct/len(y_pred))"
   ]
  },
  {
   "cell_type": "code",
   "execution_count": 9,
   "id": "eb3f2992-753f-4c45-85cc-16fc9fb78527",
   "metadata": {
    "tags": []
   },
   "outputs": [
    {
     "name": "stdout",
     "output_type": "stream",
     "text": [
      "[[5703    0   32   24   18   14   31    9   78   14]\n",
      " [   5 6287   56   29   13   29   13   15  257   38]\n",
      " [ 107   40 5071  146   81   10   70   87  303   43]\n",
      " [  68   16  116 5381   19   78   28   72  277   76]\n",
      " [  29   15   46   16 5197   18   28   38  159  296]\n",
      " [ 183   20   53  503  120 3675  132   35  607   93]\n",
      " [  77   12  172   13   69   70 5411   14   62   18]\n",
      " [  30   10   42   45   76    7    3 5736   51  265]\n",
      " [  89   75   70  253   78  126   36   33 4967  124]\n",
      " [  64   10   31  119  310   44    5  546  265 4555]]\n"
     ]
    }
   ],
   "source": [
    "# 混淆矩阵\n",
    "from sklearn.model_selection import cross_val_predict\n",
    "\n",
    "labels = [0, 1, 2, 3, 4, 5, 6, 7, 8, 9]\n",
    "y_train_pred = cross_val_predict(sgd_clf, X_train, y_train, cv=5)\n",
    "from sklearn.metrics import confusion_matrix\n",
    "y_confusion_matrix = confusion_matrix(y_train, y_train_pred, labels=labels)\n",
    "print(y_confusion_matrix)"
   ]
  },
  {
   "cell_type": "code",
   "execution_count": 10,
   "id": "d6e970dc-882f-439e-a605-1afd770b36be",
   "metadata": {
    "tags": []
   },
   "outputs": [
    {
     "name": "stdout",
     "output_type": "stream",
     "text": [
      "Accuracy: 0.8663833333333333\n",
      "   Precision    Recall  Specificity  F1 score\n",
      "0   0.897404  0.962857     0.986108  0.928979\n",
      "1   0.969468  0.932513     0.995686  0.950631\n",
      "2   0.891369  0.851125     0.986998  0.870782\n",
      "3   0.824169  0.877671     0.975958  0.850079\n",
      "4   0.868918  0.889593     0.983519  0.879134\n",
      "5   0.902727  0.677919     0.991869  0.774336\n",
      "6   0.939899  0.914329     0.992625  0.926938\n",
      "7   0.871071  0.915563     0.981973  0.892763\n",
      "8   0.706946  0.848915     0.958044  0.771453\n",
      "9   0.824882  0.765675     0.980019  0.794177\n"
     ]
    }
   ],
   "source": [
    "# 评估指标计算\n",
    "TP = y_confusion_matrix.diagonal()\n",
    "TN = TP.sum() - TP\n",
    "FP = y_confusion_matrix.sum(axis=0) - TP\n",
    "FN = y_confusion_matrix.sum(axis=1) - TP\n",
    "\n",
    "# 准确率\n",
    "Acc = TP.sum() / y_confusion_matrix.sum()\n",
    "print(\"Accuracy:\", Acc)\n",
    "\n",
    "import pandas as pd\n",
    "# 精确率\n",
    "Ppv = TP / (TP + FP)\n",
    "# 召回率\n",
    "Tpr = TP / (TP + FN)\n",
    "# 特异度\n",
    "Tnr = TN / (TN + FP)\n",
    "# F1 得分\n",
    "F1 = TP / (TP + (FN + FP) / 2)\n",
    "df = pd.DataFrame({'Precision': Ppv, 'Recall': Tpr, 'Specificity': Tnr, 'F1 score': F1}, index=labels)\n",
    "print(df)"
   ]
  },
  {
   "cell_type": "code",
   "execution_count": 11,
   "id": "4d93c155-3944-4d71-817d-ff4ccf0562ca",
   "metadata": {
    "tags": []
   },
   "outputs": [],
   "source": [
    "y_train_scores = cross_val_predict(sgd_clf, X_train, y_train, cv=5, \n",
    "                                    method=\"decision_function\")"
   ]
  },
  {
   "cell_type": "code",
   "execution_count": 13,
   "id": "c49416c9-d46d-49ec-b08c-e3633e736f24",
   "metadata": {
    "tags": []
   },
   "outputs": [],
   "source": [
    "from sklearn.preprocessing import label_binarize\n",
    "\n",
    "y_train_one_hot = label_binarize(y_train, classes=labels)"
   ]
  },
  {
   "cell_type": "code",
   "execution_count": 15,
   "id": "89cfb34c-a847-4bbb-b333-ad73be8a053b",
   "metadata": {
    "tags": []
   },
   "outputs": [],
   "source": [
    "from sklearn.metrics import precision_recall_curve\n",
    "\n",
    "precisions, recalls, thresholds = precision_recall_curve(y_train_one_hot.ravel(), y_train_scores.ravel())"
   ]
  },
  {
   "cell_type": "code",
   "execution_count": 17,
   "id": "6cb81a24-3dde-4ce3-9440-277cae1d5e88",
   "metadata": {
    "tags": []
   },
   "outputs": [
    {
     "data": {
      "image/png": "[encoded data removed]",
      "text/plain": [
       "<Figure size 800x400 with 1 Axes>"
      ]
     },
     "metadata": {},
     "output_type": "display_data"
    }
   ],
   "source": [
    "def plot_precision_recall_vs_threshold(precisions, recalls, thresholds):\n",
    "    plt.plot(thresholds, precisions[:-1], 'b--', label=\"Precision\")\n",
    "    plt.plot(thresholds, recalls[:-1], 'g-', label=\"Recall\")\n",
    "    plt.xlabel(\"Threshold\", fontsize=16)\n",
    "    plt.legend(loc=\"upper left\", fontsize=16)\n",
    "    plt.ylim([0, 1])\n",
    "\n",
    "plt.figure(figsize=(8, 4))\n",
    "plot_precision_recall_vs_threshold(precisions, recalls, thresholds)\n",
    "plt.xlim([-700000, 700000])\n",
    "plt.show()"
   ]
  },
  {
   "cell_type": "code",
   "execution_count": null,
   "id": "ad9f4c91-4d8a-44d5-9f04-8df3b039a745",
   "metadata": {},
   "outputs": [],
   "source": []
  }
 ],
 "metadata": {
  "kernelspec": {
   "display_name": "Python 3 (ipykernel)",
   "language": "python",
   "name": "python3"
  },
  "language_info": {
   "codemirror_mode": {
    "name": "ipython",
    "version": 3
   },
   "file_extension": ".py",
   "mimetype": "text/x-python",
   "name": "python",
   "nbconvert_exporter": "python",
   "pygments_lexer": "ipython3",
   "version": "3.10.10"
  }
 },
 "nbformat": 4,
 "nbformat_minor": 5
}
